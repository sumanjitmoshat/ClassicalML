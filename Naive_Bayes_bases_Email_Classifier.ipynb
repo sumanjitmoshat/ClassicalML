{
  "nbformat": 4,
  "nbformat_minor": 0,
  "metadata": {
    "colab": {
      "name": "Untitled6.ipynb",
      "provenance": [],
      "collapsed_sections": [],
      "authorship_tag": "ABX9TyP9CIvQ7wDwbFAIhcjbt9/q",
      "include_colab_link": true
    },
    "kernelspec": {
      "name": "python3",
      "display_name": "Python 3"
    },
    "language_info": {
      "name": "python"
    }
  },
  "cells": [
    {
      "cell_type": "markdown",
      "metadata": {
        "id": "view-in-github",
        "colab_type": "text"
      },
      "source": [
        "<a href=\"https://colab.research.google.com/github/sumanjitmoshat/ClassicalML/blob/master/Naive_Bayes_bases_Email_Classifier.ipynb\" target=\"_parent\"><img src=\"https://colab.research.google.com/assets/colab-badge.svg\" alt=\"Open In Colab\"/></a>"
      ]
    },
    {
      "cell_type": "code",
      "metadata": {
        "id": "s9wLc2Q32qP8"
      },
      "source": [
        "# importing packages and libraries \n",
        "import pandas as pd\n",
        "from sklearn.model_selection  import train_test_split\n",
        "from sklearn.feature_extraction.text import CountVectorizer\n",
        "from sklearn.naive_bayes import MultinomialNB\n",
        "from sklearn import metrics\n",
        "from sklearn.metrics import confusion_matrix as sk_confusion_matrix\n",
        "from sklearn.metrics import roc_curve, auc\n",
        "import matplotlib.pyplot as plt"
      ],
      "execution_count": 44,
      "outputs": []
    },
    {
      "cell_type": "code",
      "metadata": {
        "colab": {
          "base_uri": "https://localhost:8080/"
        },
        "id": "SNaynmwr6BV4",
        "outputId": "fe842aad-eea3-4109-af70-3d4b882b07da"
      },
      "source": [
        "# connecting with kaggle to download the dataset \n",
        "! pip install -q kaggle\n",
        "! mkdir ~/.kaggle\n",
        "! cp kaggle.json ~/.kaggle/\n",
        "! chmod 600 ~/.kaggle/kaggle.json\n",
        "!kaggle datasets download -d ozlerhakan/spam-or-not-spam-dataset\n",
        "!mkdir spamhamdataset\n",
        "! unzip spam-or-not-spam-dataset.zip -d spamhamdataset"
      ],
      "execution_count": 3,
      "outputs": [
        {
          "output_type": "stream",
          "text": [
            "Downloading spam-or-not-spam-dataset.zip to /content\n",
            "\r  0% 0.00/1.16M [00:00<?, ?B/s]\n",
            "\r100% 1.16M/1.16M [00:00<00:00, 80.8MB/s]\n",
            "Archive:  spam-or-not-spam-dataset.zip\n",
            "  inflating: spamhamdataset/spam_or_not_spam.csv  \n"
          ],
          "name": "stdout"
        }
      ]
    },
    {
      "cell_type": "code",
      "metadata": {
        "id": "e5t_UFim0zN-"
      },
      "source": [
        "# changing directory to the folder which contains the csv\n",
        "cd spamhamdataset/"
      ],
      "execution_count": 6,
      "outputs": []
    },
    {
      "cell_type": "code",
      "metadata": {
        "id": "-zw6aQtv5Nmn"
      },
      "source": [
        "# loading the csv in a dataset\n",
        "email_df = pd.read_csv('spam_or_not_spam.csv')"
      ],
      "execution_count": 9,
      "outputs": []
    },
    {
      "cell_type": "code",
      "metadata": {
        "colab": {
          "base_uri": "https://localhost:8080/",
          "height": 203
        },
        "id": "DN9xg66A5YoG",
        "outputId": "d777fd35-4d6b-42e5-ebb4-64c520ff5139"
      },
      "source": [
        "# checking the first few elements of a dataset\n",
        "email_df.head()"
      ],
      "execution_count": 10,
      "outputs": [
        {
          "output_type": "execute_result",
          "data": {
            "text/html": [
              "<div>\n",
              "<style scoped>\n",
              "    .dataframe tbody tr th:only-of-type {\n",
              "        vertical-align: middle;\n",
              "    }\n",
              "\n",
              "    .dataframe tbody tr th {\n",
              "        vertical-align: top;\n",
              "    }\n",
              "\n",
              "    .dataframe thead th {\n",
              "        text-align: right;\n",
              "    }\n",
              "</style>\n",
              "<table border=\"1\" class=\"dataframe\">\n",
              "  <thead>\n",
              "    <tr style=\"text-align: right;\">\n",
              "      <th></th>\n",
              "      <th>email</th>\n",
              "      <th>label</th>\n",
              "    </tr>\n",
              "  </thead>\n",
              "  <tbody>\n",
              "    <tr>\n",
              "      <th>0</th>\n",
              "      <td>date wed NUMBER aug NUMBER NUMBER NUMBER NUMB...</td>\n",
              "      <td>0</td>\n",
              "    </tr>\n",
              "    <tr>\n",
              "      <th>1</th>\n",
              "      <td>martin a posted tassos papadopoulos the greek ...</td>\n",
              "      <td>0</td>\n",
              "    </tr>\n",
              "    <tr>\n",
              "      <th>2</th>\n",
              "      <td>man threatens explosion in moscow thursday aug...</td>\n",
              "      <td>0</td>\n",
              "    </tr>\n",
              "    <tr>\n",
              "      <th>3</th>\n",
              "      <td>klez the virus that won t die already the most...</td>\n",
              "      <td>0</td>\n",
              "    </tr>\n",
              "    <tr>\n",
              "      <th>4</th>\n",
              "      <td>in adding cream to spaghetti carbonara which ...</td>\n",
              "      <td>0</td>\n",
              "    </tr>\n",
              "  </tbody>\n",
              "</table>\n",
              "</div>"
            ],
            "text/plain": [
              "                                               email  label\n",
              "0   date wed NUMBER aug NUMBER NUMBER NUMBER NUMB...      0\n",
              "1  martin a posted tassos papadopoulos the greek ...      0\n",
              "2  man threatens explosion in moscow thursday aug...      0\n",
              "3  klez the virus that won t die already the most...      0\n",
              "4   in adding cream to spaghetti carbonara which ...      0"
            ]
          },
          "metadata": {},
          "execution_count": 10
        }
      ]
    },
    {
      "cell_type": "code",
      "metadata": {
        "colab": {
          "base_uri": "https://localhost:8080/"
        },
        "id": "AkktRF435hQd",
        "outputId": "167cfa25-99b4-4e71-f8e3-fce2e27e865b"
      },
      "source": [
        "# checking the total length of the dataset\n",
        "len(email_df)"
      ],
      "execution_count": 11,
      "outputs": [
        {
          "output_type": "execute_result",
          "data": {
            "text/plain": [
              "3000"
            ]
          },
          "metadata": {},
          "execution_count": 11
        }
      ]
    },
    {
      "cell_type": "code",
      "metadata": {
        "colab": {
          "base_uri": "https://localhost:8080/"
        },
        "id": "eA1qysV-5mib",
        "outputId": "3506abe7-5492-440a-8bf7-773aba712fe1"
      },
      "source": [
        "#ham - 0 spam - 1\n",
        "# there are total 3000 records out of which 2500 are of ham class and 500 are of spam class\n",
        "ham_spam =  email_df.label.value_counts()\n",
        "ham_spam"
      ],
      "execution_count": 12,
      "outputs": [
        {
          "output_type": "execute_result",
          "data": {
            "text/plain": [
              "0    2500\n",
              "1     500\n",
              "Name: label, dtype: int64"
            ]
          },
          "metadata": {},
          "execution_count": 12
        }
      ]
    },
    {
      "cell_type": "code",
      "metadata": {
        "colab": {
          "base_uri": "https://localhost:8080/"
        },
        "id": "1NpaxmOG-4h7",
        "outputId": "01fb2727-4e8c-4e5b-aa9f-2c21b83d79b5"
      },
      "source": [
        "# checking the spam rate\n",
        "print(\"spam rate is about {0}%\".format(\n",
        "    round((ham_spam[1]/float(ham_spam[0]+ham_spam[1]))*100), 2))"
      ],
      "execution_count": 13,
      "outputs": [
        {
          "output_type": "stream",
          "text": [
            "spam rate is about 17%\n"
          ],
          "name": "stdout"
        }
      ]
    },
    {
      "cell_type": "code",
      "metadata": {
        "id": "Y9piAPGd_YpI"
      },
      "source": [
        "# splitting the dataset into feature and target variables\n",
        "X = email_df.email\n",
        "y = email_df.label"
      ],
      "execution_count": 15,
      "outputs": []
    },
    {
      "cell_type": "code",
      "metadata": {
        "id": "5e_vl1rD1g3O"
      },
      "source": [
        "#  splitting the dataset into train & test\n",
        "X_train, X_test, y_train, y_test = train_test_split(X, y, random_state=1)"
      ],
      "execution_count": 17,
      "outputs": []
    },
    {
      "cell_type": "code",
      "metadata": {
        "colab": {
          "base_uri": "https://localhost:8080/"
        },
        "id": "oGZ2CSSL2Qxl",
        "outputId": "e613fee9-4619-484b-a4e6-c987226682c9"
      },
      "source": [
        "# checking the first few elements of the train fetures\n",
        "X_train.head()"
      ],
      "execution_count": 18,
      "outputs": [
        {
          "output_type": "execute_result",
          "data": {
            "text/plain": [
              "216     paul jakma wrote on tue NUMBER aug NUMBER davi...\n",
              "510     on sun NUMBER sep NUMBER cdale wrote i agree w...\n",
              "2366    url URL date NUMBER NUMBER NUMBERtNUMBER NUMBE...\n",
              "1587    hi is it possible to use razor without filteri...\n",
              "592     on mon NUMBER sep NUMBER stephen d williams wr...\n",
              "Name: email, dtype: object"
            ]
          },
          "metadata": {},
          "execution_count": 18
        }
      ]
    },
    {
      "cell_type": "code",
      "metadata": {
        "colab": {
          "base_uri": "https://localhost:8080/"
        },
        "id": "YeJySfHb2bvC",
        "outputId": "7dc4c7a5-aad2-4f0b-e067-75ad14673484"
      },
      "source": [
        "# checking the first few elements of the target variable\n",
        "y_train.head()"
      ],
      "execution_count": 19,
      "outputs": [
        {
          "output_type": "execute_result",
          "data": {
            "text/plain": [
              "216     0\n",
              "510     0\n",
              "2366    0\n",
              "1587    0\n",
              "592     0\n",
              "Name: label, dtype: int64"
            ]
          },
          "metadata": {},
          "execution_count": 19
        }
      ]
    },
    {
      "cell_type": "code",
      "metadata": {
        "id": "nNItzWPT2dmx"
      },
      "source": [
        "# initializing the count vectorizer\n",
        "vect = CountVectorizer(stop_words='english')"
      ],
      "execution_count": 24,
      "outputs": []
    },
    {
      "cell_type": "code",
      "metadata": {
        "colab": {
          "base_uri": "https://localhost:8080/"
        },
        "id": "4g2pF_Zq2rwp",
        "outputId": "20de351f-dabe-4172-8ed0-a53b26804698"
      },
      "source": [
        "# fitting the vectorizer on train values. \n",
        "vect.fit(X_train.astype('U').values)"
      ],
      "execution_count": 26,
      "outputs": [
        {
          "output_type": "execute_result",
          "data": {
            "text/plain": [
              "CountVectorizer(analyzer='word', binary=False, decode_error='strict',\n",
              "                dtype=<class 'numpy.int64'>, encoding='utf-8', input='content',\n",
              "                lowercase=True, max_df=1.0, max_features=None, min_df=1,\n",
              "                ngram_range=(1, 1), preprocessor=None, stop_words='english',\n",
              "                strip_accents=None, token_pattern='(?u)\\\\b\\\\w\\\\w+\\\\b',\n",
              "                tokenizer=None, vocabulary=None)"
            ]
          },
          "metadata": {},
          "execution_count": 26
        }
      ]
    },
    {
      "cell_type": "code",
      "metadata": {
        "colab": {
          "base_uri": "https://localhost:8080/"
        },
        "id": "cDoK3G9k3fQn",
        "outputId": "0d9ea1f9-06a1-4241-a7a5-e36271bc3e9c"
      },
      "source": [
        "# checking the count of words in the vocabulary \n",
        "vect.vocabulary_"
      ],
      "execution_count": 27,
      "outputs": [
        {
          "output_type": "execute_result",
          "data": {
            "text/plain": [
              "{'paul': 18845,\n",
              " 'jakma': 12825,\n",
              " 'wrote': 28443,\n",
              " 'tue': 26265,\n",
              " 'number': 16830,\n",
              " 'aug': 1918,\n",
              " 'david': 5920,\n",
              " 'neary': 16311,\n",
              " 'actually': 523,\n",
              " 'following': 9337,\n",
              " 'way': 27819,\n",
              " 'sensible': 22948,\n",
              " 'echo': 7494,\n",
              " 'enc': 7837,\n",
              " 'sed': 22844,\n",
              " 'numbera': 16845,\n",
              " 'fa': 8662,\n",
              " 'lines': 14293,\n",
              " 'attempting': 1864,\n",
              " 'realised': 21023,\n",
              " 'straight': 24450,\n",
              " 'swap': 24911,\n",
              " 'awk': 2047,\n",
              " 'gensub': 10006,\n",
              " 'insert': 12256,\n",
              " 'perl': 19030,\n",
              " 'pack': 18573,\n",
              " 'job': 13048,\n",
              " 'ps': 20352,\n",
              " 'late': 13873,\n",
              " 'reply': 21571,\n",
              " 'footer': 9363,\n",
              " 'original': 18290,\n",
              " 'mail': 14796,\n",
              " 'received': 21095,\n",
              " 'error': 8179,\n",
              " 'yadda': 28709,\n",
              " 'got': 10320,\n",
              " 'caught': 3850,\n",
              " 'spam': 23923,\n",
              " 'filter': 9046,\n",
              " 'ended': 7872,\n",
              " 'junkmail': 13189,\n",
              " 'directory': 6683,\n",
              " 'check': 4106,\n",
              " 'headers': 10942,\n",
              " 'worse': 28376,\n",
              " 'bodycheck': 2913,\n",
              " 'showed': 23258,\n",
              " 'remove': 21499,\n",
              " 'url': 27023,\n",
              " 'need': 16330,\n",
              " 'new': 16450,\n",
              " 'want': 27735,\n",
              " 'able': 311,\n",
              " 'process': 20112,\n",
              " 'false': 8745,\n",
              " 'positives': 19699,\n",
              " 'dump': 7348,\n",
              " 'cheers': 4129,\n",
              " 'dave': 5918,\n",
              " 'marseille': 15034,\n",
              " 'france': 9534,\n",
              " 'bolsh': 2940,\n",
              " 'irish': 12636,\n",
              " 'linux': 14312,\n",
              " 'users': 27061,\n",
              " 'group': 10500,\n",
              " 'ilug': 11822,\n",
              " 'subscription': 24641,\n",
              " 'information': 12144,\n",
              " 'list': 14330,\n",
              " 'maintainer': 14839,\n",
              " 'listmaster': 14343,\n",
              " 'sun': 24755,\n",
              " 'sep': 22966,\n",
              " 'cdale': 3883,\n",
              " 'agree': 817,\n",
              " 'ya': 28706,\n",
              " 'tom': 25824,\n",
              " 'kind': 13469,\n",
              " 'thinking': 25525,\n",
              " 'idiotic': 11724,\n",
              " 'sure': 24832,\n",
              " 'gays': 9911,\n",
              " 'hetero': 11090,\n",
              " 'friends': 9618,\n",
              " 'lovers': 14581,\n",
              " 'promiscuous': 20209,\n",
              " 'hets': 11092,\n",
              " 'betcha': 2536,\n",
              " 'aidsphobic': 863,\n",
              " 'generally': 9972,\n",
              " 'speaking': 23976,\n",
              " 'virus': 27483,\n",
              " 'load': 14422,\n",
              " 'issue': 12729,\n",
              " 'orthogonal': 18309,\n",
              " 'fact': 8686,\n",
              " 'bzzt': 3524,\n",
              " 'switch': 24941,\n",
              " 'brain': 3107,\n",
              " 'mentioning': 15317,\n",
              " 'subpopulation': 24633,\n",
              " 'outside': 18419,\n",
              " 'sex': 23056,\n",
              " 'industry': 12085,\n",
              " 'used': 27045,\n",
              " 'extremely': 8636,\n",
              " 'orders': 18251,\n",
              " 'magnitude': 14785,\n",
              " 'higher': 11134,\n",
              " 'average': 2003,\n",
              " 'date': 5903,\n",
              " 'numbertnumber': 17558,\n",
              " 'past': 18799,\n",
              " 'week': 27969,\n",
              " 've': 27253,\n",
              " 'waiting': 27697,\n",
              " 'freebsd': 9569,\n",
              " 'servers': 23008,\n",
              " 'reproduce': 21606,\n",
              " 'problem': 20097,\n",
              " 'seeing': 22855,\n",
              " 'mysql': 16149,\n",
              " 'linuxthreads': 14315,\n",
              " 'particular': 18749,\n",
              " 'machine': 14731,\n",
              " 'running': 22313,\n",
              " 'custom': 5715,\n",
              " 'build': 3353,\n",
              " 'hi': 11116,\n",
              " 'possible': 19713,\n",
              " 'use': 27042,\n",
              " 'razor': 20953,\n",
              " 'filtering': 9048,\n",
              " 'mails': 14814,\n",
              " 'spamm': 23939,\n",
              " 'attachment': 1849,\n",
              " 'considered': 5075,\n",
              " 'normal': 16702,\n",
              " 'mysqlf': 16150,\n",
              " 'like': 14245,\n",
              " 'send': 22928,\n",
              " 'emails': 7745,\n",
              " 'important': 11908,\n",
              " 'said': 22422,\n",
              " 'subject': 24608,\n",
              " 'body': 2912,\n",
              " 'remaining': 21462,\n",
              " 'smth': 23670,\n",
              " 'thanks': 25457,\n",
              " 'raido': 20833,\n",
              " 'kurel': 13706,\n",
              " 'email': 7737,\n",
              " 'sponsored': 24082,\n",
              " 'thinkgeek': 25523,\n",
              " 'welcome': 27988,\n",
              " 'geek': 9947,\n",
              " 'heaven': 10982,\n",
              " '_______________________________________________': 24,\n",
              " 'mailing': 14805,\n",
              " 'mon': 15775,\n",
              " 'stephen': 24341,\n",
              " 'williams': 28152,\n",
              " 'make': 14853,\n",
              " 'work': 28339,\n",
              " 'pointed': 19550,\n",
              " 'single': 23417,\n",
              " 'drive': 7261,\n",
              " 'comparable': 4777,\n",
              " 'ide': 11693,\n",
              " 'scsi': 22747,\n",
              " 'alas': 952,\n",
              " 'wrong': 28438,\n",
              " 'drives': 7266,\n",
              " 'faster': 8807,\n",
              " 'krpm': 13665,\n",
              " 'vs': 27630,\n",
              " 'seek': 22856,\n",
              " 'eide': 7627,\n",
              " 'protocol': 20305,\n",
              " 'ridiculously': 21949,\n",
              " 'dumb': 7345,\n",
              " 'queing': 20698,\n",
              " 'disconnect': 6740,\n",
              " 'think': 25521,\n",
              " 'recent': 21100,\n",
              " 'releases': 21421,\n",
              " 'll': 14392,\n",
              " 'jfs': 12943,\n",
              " 'xfs': 28555,\n",
              " 'production': 20139,\n",
              " 'quality': 20669,\n",
              " 'right': 21959,\n",
              " 'extnumber': 8616,\n",
              " 'qualify': 20666,\n",
              " 'good': 10289,\n",
              " 'year': 28752,\n",
              " 'trust': 26226,\n",
              " 'advantages': 645,\n",
              " 'comes': 4694,\n",
              " 'shelf': 23151,\n",
              " 'high': 11133,\n",
              " 'density': 6274,\n",
              " 'racks': 20792,\n",
              " 'looked': 14515,\n",
              " 'inside': 12260,\n",
              " 'dual': 7321,\n",
              " 'cpu': 5462,\n",
              " 'numberu': 17574,\n",
              " 'dell': 6217,\n",
              " 'easy': 7470,\n",
              " 'require': 21630,\n",
              " 'redesign': 21198,\n",
              " 'nontrivial': 16686,\n",
              " 'thermal': 25502,\n",
              " 'engineering': 7922,\n",
              " 'issues': 12732,\n",
              " 'vendors': 27278,\n",
              " 'putting': 20489,\n",
              " 'promise': 20210,\n",
              " 'hardware': 10815,\n",
              " 'motherboard': 15891,\n",
              " 'remains': 21463,\n",
              " 'proper': 20242,\n",
              " 'socket': 23781,\n",
              " 'major': 14846,\n",
              " 'vendor': 27276,\n",
              " 'sells': 22909,\n",
              " 'systems': 25040,\n",
              " 'raid': 20831,\n",
              " 'additionally': 554,\n",
              " 'pair': 18616,\n",
              " 'bays': 2311,\n",
              " 'idexnumber': 11720,\n",
              " 'controller': 5212,\n",
              " 'screwed': 22726,\n",
              " 'chassis': 4085,\n",
              " 'believe': 2446,\n",
              " 'stuff': 24566,\n",
              " 'looking': 14516,\n",
              " 'wouldn': 28390,\n",
              " 'unless': 26759,\n",
              " 'hanging': 10778,\n",
              " 'local': 14438,\n",
              " 'rack': 20789,\n",
              " 'simulated': 23395,\n",
              " 'half': 10715,\n",
              " 'intersectedness': 12442,\n",
              " 'surprised': 24850,\n",
              " 'beberg': 2379,\n",
              " 'blowjob': 2814,\n",
              " 'liked': 14247,\n",
              " 'mean': 15208,\n",
              " 'involved': 12580,\n",
              " 'evolved': 8355,\n",
              " 'gg': 10070,\n",
              " 'message': 15352,\n",
              " 'fork': 9425,\n",
              " 'admin': 592,\n",
              " 'mailto': 14821,\n",
              " 'behalf': 2420,\n",
              " 'russell': 22331,\n",
              " 'turpin': 26312,\n",
              " 'sent': 22957,\n",
              " 'saturday': 22524,\n",
              " 'september': 22977,\n",
              " 'pm': 19474,\n",
              " 'selling': 22908,\n",
              " 'wedded': 27960,\n",
              " 'bliss': 2767,\n",
              " 'ouch': 18365,\n",
              " 'guess': 10579,\n",
              " 'geege': 9946,\n",
              " 'doesn': 7038,\n",
              " 'know': 13560,\n",
              " 'kinky': 13483,\n",
              " 'yeah': 28751,\n",
              " 'going': 10276,\n",
              " 'photos': 19210,\n",
              " 'telling': 25324,\n",
              " 'likes': 14250,\n",
              " '_________________________________________________________________': 41,\n",
              " 'join': 13072,\n",
              " 'world': 28362,\n",
              " 'largest': 13856,\n",
              " 'service': 23010,\n",
              " 'msn': 16000,\n",
              " 'hotmail': 11439,\n",
              " 'ian': 11646,\n",
              " 'andrew': 1219,\n",
              " 'bell': 2454,\n",
              " 'despite': 6404,\n",
              " 'intense': 12358,\n",
              " 'regulation': 21344,\n",
              " 'paper': 18662,\n",
              " 'pushing': 20481,\n",
              " 'regulatory': 21348,\n",
              " 'scrutiny': 22746,\n",
              " 'ftc': 9676,\n",
              " 'sec': 22810,\n",
              " 'irs': 12666,\n",
              " 'executives': 8439,\n",
              " 'telecom': 25302,\n",
              " 'companies': 4771,\n",
              " 'managed': 14895,\n",
              " 'bilk': 2609,\n",
              " 'investment': 12557,\n",
              " 'community': 4763,\n",
              " 'looks': 14519,\n",
              " 'tens': 25357,\n",
              " 'billions': 2619,\n",
              " 'dollars': 7060,\n",
              " 'thing': 25516,\n",
              " 'getting': 10063,\n",
              " 'hammered': 10740,\n",
              " 'stupid': 24578,\n",
              " 'investments': 12558,\n",
              " 'likely': 14249,\n",
              " 'result': 21764,\n",
              " 'smarter': 23623,\n",
              " 'future': 9774,\n",
              " 'supposed': 24821,\n",
              " 'win': 28167,\n",
              " 'time': 25660,\n",
              " 'particularly': 18751,\n",
              " 'people': 18983,\n",
              " 'don': 7083,\n",
              " 'diligence': 6630,\n",
              " 'fool': 9355,\n",
              " 'money': 15789,\n",
              " 'soon': 23851,\n",
              " 'parted': 18738,\n",
              " 'isn': 12711,\n",
              " 'invest': 12546,\n",
              " 'wisely': 28226,\n",
              " 'grave': 10420,\n",
              " 'doubts': 7144,\n",
              " 'finished': 9085,\n",
              " 'routine': 22202,\n",
              " 'quadruple': 20651,\n",
              " 'lutz': 14678,\n",
              " 'laying': 13931,\n",
              " 'hundreds': 11541,\n",
              " 'thousands': 25560,\n",
              " 'workers': 28344,\n",
              " 'came': 3608,\n",
              " 'crashing': 5497,\n",
              " 'guaranteed': 10562,\n",
              " 'employment': 7812,\n",
              " 'crime': 5541,\n",
              " 'immoral': 11864,\n",
              " 'exist': 8469,\n",
              " 'provide': 20319,\n",
              " 'closest': 4461,\n",
              " 'government': 10337,\n",
              " 'look': 14514,\n",
              " 'breeds': 3172,\n",
              " 'tell': 25321,\n",
              " 'better': 2543,\n",
              " 'just': 13199,\n",
              " 'matter': 15102,\n",
              " 'personal': 19077,\n",
              " 'preference': 19892,\n",
              " 'live': 14367,\n",
              " 'feed': 8895,\n",
              " 'lot': 14558,\n",
              " 'society': 23772,\n",
              " 'thank': 25454,\n",
              " 'james': 12835,\n",
              " 'rogers': 22103,\n",
              " 'jamesr': 12836,\n",
              " 'supplied': 24807,\n",
              " 'airlines': 896,\n",
              " 'facing': 8684,\n",
              " 'fresh': 9601,\n",
              " 'calls': 3592,\n",
              " 'fit': 9120,\n",
              " 'fuel': 9701,\n",
              " 'tank': 25147,\n",
              " 'inerting': 12092,\n",
              " 'warnings': 27771,\n",
              " 'boeing': 2915,\n",
              " 'potentially': 19750,\n",
              " 'faulty': 8826,\n",
              " 'pumps': 20436,\n",
              " 'ah': 831,\n",
              " 'car': 3706,\n",
              " 'seen': 22864,\n",
              " 'discovery': 6760,\n",
              " 'channel': 4033,\n",
              " 'lurker': 14671,\n",
              " 'adam': 532,\n",
              " 'duncan': 7353,\n",
              " 'guy': 10626,\n",
              " 'matthias': 15107,\n",
              " 'saou': 22500,\n",
              " 'hope': 11389,\n",
              " 'try': 26237,\n",
              " 'problems': 20099,\n",
              " 'reported': 21579,\n",
              " 'libasound': 14154,\n",
              " 'xine': 28573,\n",
              " 'dependency': 6296,\n",
              " 'fixed': 9130,\n",
              " 'current': 5699,\n",
              " 'packages': 18579,\n",
              " 'oh': 18022,\n",
              " 'maybe': 15138,\n",
              " 'worth': 28385,\n",
              " 'pointing': 19553,\n",
              " 'implemented': 11891,\n",
              " 'sorting': 23866,\n",
              " 'change': 4025,\n",
              " 'alphabetically': 1052,\n",
              " 'php': 19213,\n",
              " 'code': 4561,\n",
              " 'yes': 28774,\n",
              " 'accept': 393,\n",
              " 'patches': 18809,\n",
              " 'comments': 4722,\n",
              " 'suggestions': 24722,\n",
              " 'spec': 23982,\n",
              " 'files': 9032,\n",
              " 'added': 544,\n",
              " 'flags': 9154,\n",
              " 'oss': 18329,\n",
              " 'isa': 12671,\n",
              " 'pnp': 19493,\n",
              " 'support': 24812,\n",
              " 'wishes': 28230,\n",
              " 'rpmbuild': 22221,\n",
              " 'recompile': 21142,\n",
              " 'rpm': 22219,\n",
              " 'isapnp': 12673,\n",
              " 'haven': 10885,\n",
              " 'included': 11981,\n",
              " 'vtnumber': 27640,\n",
              " 'supported': 24813,\n",
              " 'lazy': 13936,\n",
              " 'kernel': 13364,\n",
              " 'having': 10890,\n",
              " 'compiled': 4816,\n",
              " 'source': 23890,\n",
              " 'package': 18574,\n",
              " 'installed': 12291,\n",
              " 'flag': 9148,\n",
              " 'kernsrc': 13369,\n",
              " 'nice': 16511,\n",
              " 'correct': 5327,\n",
              " 'include': 11980,\n",
              " 'lib': 14152,\n",
              " 'modules': 15750,\n",
              " 'uname': 26530,\n",
              " 'beginner': 2413,\n",
              " 'building': 3357,\n",
              " 'buildrequire': 3360,\n",
              " 'file': 9025,\n",
              " 'provided': 20320,\n",
              " 'googled': 10304,\n",
              " 'bit': 2675,\n",
              " 'considering': 5076,\n",
              " 'adding': 551,\n",
              " 'sort': 23863,\n",
              " 'cards': 3726,\n",
              " 'option': 18224,\n",
              " 'alsa': 1059,\n",
              " 'configure': 4978,\n",
              " 'driver': 7264,\n",
              " 'existing': 8474,\n",
              " 'docs': 7015,\n",
              " 'help': 11032,\n",
              " 'version': 27330,\n",
              " 'supply': 24811,\n",
              " 'rest': 21740,\n",
              " 'created': 5514,\n",
              " 'dev': 6462,\n",
              " 'wanted': 27736,\n",
              " 'trying': 26240,\n",
              " 'removed': 21501,\n",
              " 'rpms': 22226,\n",
              " 'tried': 26156,\n",
              " 'ba': 2075,\n",
              " 'long': 14505,\n",
              " 'successful': 24682,\n",
              " 'compile': 4815,\n",
              " 'snipped': 23710,\n",
              " 'warning': 27770,\n",
              " 'listed': 14333,\n",
              " 'twice': 26345,\n",
              " 'adsp': 632,\n",
              " 'amidi': 1141,\n",
              " 'finding': 9071,\n",
              " 'provides': 20323,\n",
              " 'usr': 27072,\n",
              " 'requires': 21634,\n",
              " 'prereq': 19939,\n",
              " 'bin': 2625,\n",
              " 'sh': 23081,\n",
              " 'rpmlib': 22224,\n",
              " 'payloadfileshaveprefix': 18861,\n",
              " 'compressedfilenames': 4868,\n",
              " 'interp': 12430,\n",
              " 'post': 19715,\n",
              " 'postun': 19741,\n",
              " 'numberrcnumber': 17485,\n",
              " 'sbin': 22564,\n",
              " 'depmod': 6308,\n",
              " 'processing': 20117,\n",
              " 'frnumber_number': 9633,\n",
              " 'checking': 4113,\n",
              " 'unpackaged': 26789,\n",
              " 'var': 27209,\n",
              " 'tmp': 25742,\n",
              " 'root': 22152,\n",
              " 'makedev': 14854,\n",
              " 'numbermacros': 17303,\n",
              " 'rc': 20969,\n",
              " 'init': 12190,\n",
              " 'alsasound': 1065,\n",
              " 'errors': 8180,\n",
              " 'beginned': 2412,\n",
              " 'understand': 26626,\n",
              " 'filesystem': 9033,\n",
              " 'does': 7037,\n",
              " 'line': 14282,\n",
              " 'cp': 5449,\n",
              " '_sysconfdir': 167,\n",
              " 'buildroot': 3362,\n",
              " 'buildidr': 3356,\n",
              " 'makefile': 14855,\n",
              " 'forgot': 9421,\n",
              " 'mention': 15315,\n",
              " 'beta': 2529,\n",
              " 'null': 16827,\n",
              " 'silent': 23361,\n",
              " 'seventh': 23048,\n",
              " 'day': 5930,\n",
              " 'god': 10260,\n",
              " 'arrested': 1632,\n",
              " 'tresspassing': 26135,\n",
              " 'reminder': 21483,\n",
              " 'university': 26745,\n",
              " 'texas': 25422,\n",
              " 'austin': 1931,\n",
              " 'numberpm': 17429,\n",
              " 'friday': 9613,\n",
              " 'giving': 10132,\n",
              " 'talk': 25131,\n",
              " 'hollywood': 11314,\n",
              " 'legislative': 14041,\n",
              " 'agenda': 780,\n",
              " 'eff': 7581,\n",
              " 'actlab': 517,\n",
              " 'aclu': 479,\n",
              " 'love': 14575,\n",
              " 'link': 14300,\n",
              " 'discuss': 6773,\n",
              " 'owne': 18518,\n",
              " 'byrne': 3505,\n",
              " 'willing': 28154,\n",
              " 'risk': 21994,\n",
              " 'firing': 9103,\n",
              " 'lawsuits': 13923,\n",
              " 'sexual': 23064,\n",
              " 'harassement': 10796,\n",
              " 'seminar': 22920,\n",
              " 'pretty': 19994,\n",
              " 'clear': 4386,\n",
              " 'relationships': 21404,\n",
              " 'office': 17987,\n",
              " 'difficult': 6602,\n",
              " 'pitfalls': 19327,\n",
              " 'horrendous': 11407,\n",
              " 'couples': 5405,\n",
              " 'meet': 15255,\n",
              " 'tease': 25245,\n",
              " 'carolyn': 3756,\n",
              " 'hired': 11182,\n",
              " 'software': 23792,\n",
              " 'babes': 2082,\n",
              " 'chose': 4205,\n",
              " 'best': 2525,\n",
              " 'receive': 21094,\n",
              " 'mobile': 15707,\n",
              " 'device': 6476,\n",
              " 'daily': 5815,\n",
              " 'newsletter': 16474,\n",
              " 'tpf': 25943,\n",
              " 'october': 17941,\n",
              " 'posted': 19722,\n",
              " 'pudge': 20420,\n",
              " 'tuesday': 26266,\n",
              " 'links': 14307,\n",
              " 'delegatrix': 6189,\n",
              " 'writes': 28431,\n",
              " 'edition': 7545,\n",
              " 'foundation': 9492,\n",
              " 'includes': 11982,\n",
              " 'interview': 12453,\n",
              " 'white': 28070,\n",
              " 'camel': 3609,\n",
              " 'winner': 28198,\n",
              " 'tim': 25654,\n",
              " 'maher': 14789,\n",
              " 'story': 24442,\n",
              " 'lisa': 14328,\n",
              " 'copyright': 5292,\n",
              " 'rights': 21964,\n",
              " 'reserved': 21672,\n",
              " 'subscribed': 24635,\n",
              " 'stop': 24426,\n",
              " 'receiving': 21099,\n",
              " 'messages': 15354,\n",
              " 'add': 542,\n",
              " 'preferences': 19893,\n",
              " 'user': 27052,\n",
              " 'page': 18596,\n",
              " 'log': 14474,\n",
              " 'thu': 25589,\n",
              " 'fine': 9075,\n",
              " 'worked': 28342,\n",
              " 'box': 3072,\n",
              " 'vanilla': 27202,\n",
              " 'valhalla': 27175,\n",
              " 'latest': 13881,\n",
              " 'errata': 8175,\n",
              " 'script': 22730,\n",
              " 'sample': 22465,\n",
              " 'designed': 6378,\n",
              " 'rh': 21895,\n",
              " 'utils': 27097,\n",
              " 'red': 21192,\n",
              " 'hat': 10862,\n",
              " 'sets': 23034,\n",
              " 'permissions': 19045,\n",
              " 'audio': 1911,\n",
              " 'devices': 6477,\n",
              " 'locally': 14446,\n",
              " 'logged': 14480,\n",
              " 'console': 5087,\n",
              " 'perms': 19050,\n",
              " 'conf': 4949,\n",
              " 'takes': 25116,\n",
              " 'care': 3727,\n",
              " 'loading': 14425,\n",
              " 'demand': 6228,\n",
              " 'aumix': 1923,\n",
              " 'scripts': 22734,\n",
              " 'come': 4689,\n",
              " 'controlling': 5214,\n",
              " 'volume': 27586,\n",
              " 'saved': 22535,\n",
              " 'restored': 21750,\n",
              " 'computer': 4886,\n",
              " 'halted': 10731,\n",
              " 'using': 27065,\n",
              " 'mixer': 15653,\n",
              " 'place': 19362,\n",
              " 'didn': 6571,\n",
              " 'bother': 3034,\n",
              " 'assume': 1769,\n",
              " 'silence': 23360,\n",
              " 'success': 24680,\n",
              " 'days': 5935,\n",
              " 'rocks': 22092,\n",
              " 'especially': 8220,\n",
              " 'compatibility': 4793,\n",
              " 'results': 21768,\n",
              " 'breaks': 3159,\n",
              " 'agreed': 819,\n",
              " 'hours': 11448,\n",
              " 'experience': 8528,\n",
              " 'ille': 11801,\n",
              " 'skyttä': 23517,\n",
              " 'ville': 27435,\n",
              " 'skytta': 23516,\n",
              " 'freshrpms': 9607,\n",
              " 'net': 16407,\n",
              " 'spamtalk': 23949,\n",
              " 'probably': 20092,\n",
              " 'phrases': 19215,\n",
              " 'approach': 1501,\n",
              " 'database': 5895,\n",
              " 'currently': 5700,\n",
              " 'black': 2708,\n",
              " 'listing': 14341,\n",
              " 'tie': 25626,\n",
              " 'xml': 28604,\n",
              " 'retrieval': 21805,\n",
              " 'central': 3944,\n",
              " 'repositories': 21589,\n",
              " 'replication': 21568,\n",
              " 'properly': 20243,\n",
              " 'let': 14090,\n",
              " 'eyeball': 8646,\n",
              " 'idea': 11694,\n",
              " 'synthesize': 25023,\n",
              " 'rbl': 20964,\n",
              " 'reverse': 21839,\n",
              " 'lookup': 14520,\n",
              " 'tricky': 26154,\n",
              " 'specify': 24003,\n",
              " 'randomized': 20886,\n",
              " 'intermediate': 12412,\n",
              " 'plan': 19375,\n",
              " 'needs': 16338,\n",
              " 'implementation': 11889,\n",
              " 'hmm': 11238,\n",
              " 'basically': 2268,\n",
              " 'store': 24435,\n",
              " 'hash': 10850,\n",
              " 'sums': 24754,\n",
              " 'urls': 27027,\n",
              " 'phone': 19189,\n",
              " 'numbers': 17512,\n",
              " 'dnsbl': 6985,\n",
              " 'apps': 1522,\n",
              " 'spamassassin': 23929,\n",
              " 'little': 14364,\n",
              " 'spamcop': 23934,\n",
              " 'spamvertized': 23953,\n",
              " 'dedicated': 6086,\n",
              " 'free': 9567,\n",
              " 'setup': 23044,\n",
              " 'fast': 8806,\n",
              " 'network': 16430,\n",
              " 'server': 23007,\n",
              " 'today': 25782,\n",
              " 'img': 11845,\n",
              " 'weird': 27984,\n",
              " 'easter': 7466,\n",
              " 'egg': 7605,\n",
              " 'macos': 14741,\n",
              " 'sharing': 23125,\n",
              " 'control': 5210,\n",
              " 'panel': 18648,\n",
              " 'interacted': 12372,\n",
              " 'winer': 28188,\n",
              " 'fucking': 9697,\n",
              " 'reach': 20990,\n",
              " 'shut': 23289,\n",
              " 'real': 21020,\n",
              " 'monster': 15813,\n",
              " 'ol': 18040,\n",
              " 'uncle': 26571,\n",
              " 'savage': 22532,\n",
              " 'dares': 5871,\n",
              " 'disagree': 6701,\n",
              " 'ben': 2473,\n",
              " 'kevin': 13374,\n",
              " 'making': 14862,\n",
              " 'strong': 24532,\n",
              " 'case': 3795,\n",
              " 'attempt': 1862,\n",
              " 'monsters': 15814,\n",
              " 'violent': 27456,\n",
              " 'ones': 18096,\n",
              " 'works': 28353,\n",
              " 'hemenway': 11042,\n",
              " 'kearney': 13322,\n",
              " 'aware': 2038,\n",
              " 'stoop': 24423,\n",
              " 'level': 14100,\n",
              " 'truth': 26234,\n",
              " 'folks': 9333,\n",
              " 'helping': 11039,\n",
              " 'improving': 11934,\n",
              " 'rss': 22248,\n",
              " 'general': 9964,\n",
              " 'brand': 3121,\n",
              " 'attitude': 1882,\n",
              " 'focused': 9306,\n",
              " 'things': 25519,\n",
              " 'forward': 9478,\n",
              " 'monstrous': 15815,\n",
              " 'slander': 23528,\n",
              " 'names': 16204,\n",
              " 'poison': 19558,\n",
              " 'public': 20400,\n",
              " 'perception': 18997,\n",
              " 'contact': 5138,\n",
              " 'ask': 1701,\n",
              " 'feel': 8900,\n",
              " 'foolishness': 9358,\n",
              " 'deflects': 6155,\n",
              " 'really': 21035,\n",
              " 'quite': 20733,\n",
              " 'pitiful': 19329,\n",
              " 'usually': 27078,\n",
              " 'learning': 13997,\n",
              " 'read': 21001,\n",
              " 'questions': 20707,\n",
              " 'shooting': 23215,\n",
              " 'mouths': 15928,\n",
              " 'fools': 9359,\n",
              " 'opposite': 18195,\n",
              " 'posts': 19738,\n",
              " 'bunch': 3392,\n",
              " 'derides': 6338,\n",
              " 'trouble': 26202,\n",
              " 'blogs': 2796,\n",
              " 'expects': 8514,\n",
              " 'research': 21654,\n",
              " 'abuses': 355,\n",
              " 'tries': 26158,\n",
              " 'pontificates': 19617,\n",
              " 'incorrectly': 12009,\n",
              " 'realizes': 21033,\n",
              " 'refuses': 21292,\n",
              " 'plods': 19446,\n",
              " 'pedantically': 18932,\n",
              " 'defend': 6125,\n",
              " 'idiocy': 11722,\n",
              " 'educated': 7559,\n",
              " 'sends': 22935,\n",
              " 'private': 20070,\n",
              " 'scare': 22591,\n",
              " 'exposes': 8582,\n",
              " 'write': 28425,\n",
              " 'context': 5165,\n",
              " 'runs': 22315,\n",
              " 'topic': 25863,\n",
              " 'repeats': 21551,\n",
              " 'continued': 5174,\n",
              " 'diatribes': 6547,\n",
              " 'rdf': 20984,\n",
              " 'reveal': 21825,\n",
              " 'true': 26214,\n",
              " 'semantic': 22913,\n",
              " 'web': 27930,\n",
              " 'follow': 9334,\n",
              " 'ideas': 11702,\n",
              " 'dare': 5869,\n",
              " 'admit': 604,\n",
              " 'reader': 21005,\n",
              " 'analogy': 1184,\n",
              " 'movie': 15935,\n",
              " 'poseidon': 19687,\n",
              " 'adventure': 647,\n",
              " 'purser': 20473,\n",
              " 'ranting': 20900,\n",
              " 'raving': 20945,\n",
              " 'passengers': 18784,\n",
              " 'march': 14977,\n",
              " 'bow': 3063,\n",
              " 'fat': 8812,\n",
              " 'lady': 13793,\n",
              " 'swimming': 24937,\n",
              " 'engine': 7919,\n",
              " 'room': 22144,\n",
              " 'ship': 23183,\n",
              " 'sinking': 23425,\n",
              " 'idiot': 11723,\n",
              " 'hurt': 11561,\n",
              " 'hell': 11026,\n",
              " 'asking': 1703,\n",
              " 'shafted': 23095,\n",
              " 'complain': 4822,\n",
              " 'savages': 22533,\n",
              " 'causing': 3859,\n",
              " 'news': 16463,\n",
              " 'wise': 28225,\n",
              " 'tactics': 25087,\n",
              " 'talking': 25134,\n",
              " 'routing': 22205,\n",
              " 'damaging': 5830,\n",
              " 'behavoir': 2429,\n",
              " 'coming': 4701,\n",
              " 'example': 8380,\n",
              " 'drop': 7276,\n",
              " 'strictly': 24506,\n",
              " 'confidential': 4962,\n",
              " 'course': 5415,\n",
              " 'zaphod': 28957,\n",
              " 'wrestle': 28416,\n",
              " 'pig': 19264,\n",
              " 'dirty': 6690,\n",
              " 'developer': 6468,\n",
              " 'discovers': 6759,\n",
              " 'fundamentally': 9734,\n",
              " 'impossible': 11918,\n",
              " 'basic': 2267,\n",
              " 'response': 21732,\n",
              " 'joke': 13081,\n",
              " 'developers': 6469,\n",
              " 'doing': 7050,\n",
              " 'terrible': 25380,\n",
              " 'span': 23954,\n",
              " 'minutes': 15578,\n",
              " 'makes': 14861,\n",
              " 'ass': 1722,\n",
              " 'tables': 25070,\n",
              " 'start': 24251,\n",
              " 'whispering': 28066,\n",
              " 'zaphodim': 28958,\n",
              " 'veteran': 27345,\n",
              " 'wrestlers': 28417,\n",
              " 'similar': 23372,\n",
              " 'tale': 25122,\n",
              " 'mud': 16022,\n",
              " 'pit': 19322,\n",
              " 'aha': 832,\n",
              " 'backing': 2096,\n",
              " 'whining': 28059,\n",
              " 'appear': 1458,\n",
              " 'dictator': 6563,\n",
              " 'release': 21419,\n",
              " 'strategy': 24469,\n",
              " 'crappy': 5491,\n",
              " 'set': 23026,\n",
              " 'hacks': 10688,\n",
              " 'failing': 8713,\n",
              " 'gain': 9819,\n",
              " 'push': 20479,\n",
              " 'caveat': 3865,\n",
              " 'removing': 21505,\n",
              " 'rfc': 21880,\n",
              " 'specs': 24008,\n",
              " 'started': 24252,\n",
              " 'radio': 20807,\n",
              " 'prepare': 19928,\n",
              " 'seybold': 23068,\n",
              " 'tomorrow': 25832,\n",
              " 'memorial': 15300,\n",
              " 'busy': 3452,\n",
              " 'recovering': 21166,\n",
              " 'great': 10431,\n",
              " 'content': 5160,\n",
              " 'tools': 25859,\n",
              " 'review': 21846,\n",
              " 'deal': 5984,\n",
              " 'stoppers': 24431,\n",
              " 'wants': 27739,\n",
              " 'poor': 19626,\n",
              " 'customers': 5718,\n",
              " 'salon': 22444,\n",
              " 'blog': 2790,\n",
              " 'dragged': 7205,\n",
              " 'unwillingly': 26931,\n",
              " 'producing': 20137,\n",
              " 'flip': 9205,\n",
              " 'mighty': 15476,\n",
              " 'upgrade': 26952,\n",
              " 'turn': 26302,\n",
              " 'totally': 25904,\n",
              " 'unsupported': 26865,\n",
              " 'garbage': 9859,\n",
              " 'speak': 23973,\n",
              " 'rejected': 21389,\n",
              " 'play': 19409,\n",
              " 'sympathy': 24999,\n",
              " 'card': 3717,\n",
              " 'utter': 27103,\n",
              " 'nonsense': 16680,\n",
              " 'weekend': 27970,\n",
              " 'blogosphere': 2794,\n",
              " 'excoriates': 8423,\n",
              " 'blame': 2723,\n",
              " 'america': 1129,\n",
              " 'bullshit': 3381,\n",
              " 'tells': 25325,\n",
              " 'stuffed': 24567,\n",
              " 'pretend': 19991,\n",
              " 'uh': 26456,\n",
              " 'battle': 2299,\n",
              " 'picking': 19236,\n",
              " 'fights': 9015,\n",
              " 'kick': 13429,\n",
              " 'regardless': 21304,\n",
              " 'years': 28755,\n",
              " 'abusing': 356,\n",
              " 'gotten': 10325,\n",
              " 'anymore': 1398,\n",
              " 'whatsoever': 28038,\n",
              " 'scary': 22597,\n",
              " 'scripting': 22733,\n",
              " 'note': 16738,\n",
              " 'updates': 26948,\n",
              " 'sf': 23070,\n",
              " 'leading': 13980,\n",
              " 'discussion': 6777,\n",
              " 'services': 23012,\n",
              " 'publishing': 20415,\n",
              " 'amazon': 1109,\n",
              " 'apple': 1471,\n",
              " 'google': 10301,\n",
              " 'jake': 12824,\n",
              " 'savin': 22542,\n",
              " 'userland': 27058,\n",
              " 'update': 26945,\n",
              " 'weblog': 27943,\n",
              " 'report': 21575,\n",
              " 'happy': 10794,\n",
              " 'safe': 22404,\n",
              " 'asshole': 1745,\n",
              " 'obviously': 17900,\n",
              " 'clue': 4481,\n",
              " 'lost': 14557,\n",
              " ...}"
            ]
          },
          "metadata": {},
          "execution_count": 27
        }
      ]
    },
    {
      "cell_type": "code",
      "metadata": {
        "colab": {
          "base_uri": "https://localhost:8080/"
        },
        "id": "UzGuA2Xg4Ll2",
        "outputId": "f818409e-5349-4aae-bf7e-b45ef46f0f2b"
      },
      "source": [
        "# checking the total length of the vocabulary\n",
        "len(vect.vocabulary_.keys())"
      ],
      "execution_count": 28,
      "outputs": [
        {
          "output_type": "execute_result",
          "data": {
            "text/plain": [
              "29248"
            ]
          },
          "metadata": {},
          "execution_count": 28
        }
      ]
    },
    {
      "cell_type": "code",
      "metadata": {
        "id": "EtowDXBz4dBk"
      },
      "source": [
        "# transforming the X_train and X_test\n",
        "X_train_transformed = vect.transform(X_train.astype('U').values)\n",
        "X_test_transformed = vect.transform(X_test.astype('U').values)"
      ],
      "execution_count": 30,
      "outputs": []
    },
    {
      "cell_type": "code",
      "metadata": {
        "colab": {
          "base_uri": "https://localhost:8080/"
        },
        "id": "HhOISvbI4lvD",
        "outputId": "787729c6-fff0-4fac-af94-20c0dd58c1b6"
      },
      "source": [
        "print(type(X_train_transformed))\n",
        "print(X_train_transformed)"
      ],
      "execution_count": 31,
      "outputs": [
        {
          "output_type": "stream",
          "text": [
            "<class 'scipy.sparse.csr.csr_matrix'>\n",
            "  (0, 311)\t1\n",
            "  (0, 523)\t2\n",
            "  (0, 1864)\t1\n",
            "  (0, 1918)\t1\n",
            "  (0, 2047)\t1\n",
            "  (0, 2913)\t1\n",
            "  (0, 2940)\t1\n",
            "  (0, 3850)\t1\n",
            "  (0, 4106)\t1\n",
            "  (0, 4129)\t1\n",
            "  (0, 5918)\t1\n",
            "  (0, 5920)\t2\n",
            "  (0, 6683)\t1\n",
            "  (0, 7348)\t1\n",
            "  (0, 7494)\t2\n",
            "  (0, 7837)\t1\n",
            "  (0, 7872)\t1\n",
            "  (0, 8179)\t1\n",
            "  (0, 8662)\t1\n",
            "  (0, 8745)\t1\n",
            "  (0, 9046)\t2\n",
            "  (0, 9337)\t1\n",
            "  (0, 9363)\t2\n",
            "  (0, 9534)\t1\n",
            "  (0, 10006)\t1\n",
            "  :\t:\n",
            "  (2249, 19362)\t1\n",
            "  (2249, 19409)\t1\n",
            "  (2249, 20243)\t1\n",
            "  (2249, 20718)\t1\n",
            "  (2249, 21074)\t3\n",
            "  (2249, 21192)\t2\n",
            "  (2249, 21201)\t2\n",
            "  (2249, 22068)\t2\n",
            "  (2249, 22152)\t1\n",
            "  (2249, 22219)\t11\n",
            "  (2249, 22226)\t1\n",
            "  (2249, 23890)\t2\n",
            "  (2249, 24158)\t4\n",
            "  (2249, 24832)\t1\n",
            "  (2249, 25457)\t1\n",
            "  (2249, 25516)\t1\n",
            "  (2249, 25521)\t1\n",
            "  (2249, 25589)\t1\n",
            "  (2249, 26156)\t1\n",
            "  (2249, 27023)\t6\n",
            "  (2249, 27072)\t3\n",
            "  (2249, 27735)\t1\n",
            "  (2249, 28202)\t2\n",
            "  (2249, 28351)\t1\n",
            "  (2249, 28443)\t1\n"
          ],
          "name": "stdout"
        }
      ]
    },
    {
      "cell_type": "code",
      "metadata": {
        "id": "SyN7tZkF4xSD"
      },
      "source": [
        "# initializing the model\n",
        "mnb = MultinomialNB()\n",
        "# fit\n",
        "mnb.fit(X_train_transformed,y_train)\n",
        "# predict class\n",
        "y_pred_class = mnb.predict(X_test_transformed)\n",
        "# predict probabilities\n",
        "y_pred_proba = mnb.predict_proba(X_test_transformed)"
      ],
      "execution_count": 33,
      "outputs": []
    },
    {
      "cell_type": "code",
      "metadata": {
        "colab": {
          "base_uri": "https://localhost:8080/"
        },
        "id": "o4ZDmy1p6kLZ",
        "outputId": "7f706cf1-3843-44f0-b2e3-257dbf79081b"
      },
      "source": [
        "# checking the config of the model\n",
        "mnb"
      ],
      "execution_count": 34,
      "outputs": [
        {
          "output_type": "execute_result",
          "data": {
            "text/plain": [
              "MultinomialNB(alpha=1.0, class_prior=None, fit_prior=True)"
            ]
          },
          "metadata": {},
          "execution_count": 34
        }
      ]
    },
    {
      "cell_type": "code",
      "metadata": {
        "colab": {
          "base_uri": "https://localhost:8080/"
        },
        "id": "lo3jCK2p6neP",
        "outputId": "85d929cf-39da-4acd-9c02-066767d66cc3"
      },
      "source": [
        "# checking the accuracy of the model on the test dataset\n",
        "metrics.accuracy_score(y_test, y_pred_class)"
      ],
      "execution_count": 37,
      "outputs": [
        {
          "output_type": "execute_result",
          "data": {
            "text/plain": [
              "0.9906666666666667"
            ]
          },
          "metadata": {},
          "execution_count": 37
        }
      ]
    },
    {
      "cell_type": "code",
      "metadata": {
        "colab": {
          "base_uri": "https://localhost:8080/"
        },
        "id": "Paj26I7w6rCS",
        "outputId": "ad10a5c3-9275-41ab-b2df-c610c1bca3a2"
      },
      "source": [
        "# confusion matrix\n",
        "metrics.confusion_matrix(y_test, y_pred_class)"
      ],
      "execution_count": 38,
      "outputs": [
        {
          "output_type": "execute_result",
          "data": {
            "text/plain": [
              "array([[620,   1],\n",
              "       [  6, 123]])"
            ]
          },
          "metadata": {},
          "execution_count": 38
        }
      ]
    },
    {
      "cell_type": "code",
      "metadata": {
        "colab": {
          "base_uri": "https://localhost:8080/"
        },
        "id": "jrZvGADL7b0D",
        "outputId": "c1e2320f-c66e-4776-a038-5c07dfc0c0df"
      },
      "source": [
        "confusion = metrics.confusion_matrix(y_test, y_pred_class)\n",
        "print(confusion)\n",
        "TN = confusion[0, 0]\n",
        "FP = confusion[0, 1]\n",
        "FN = confusion[1, 0]\n",
        "TP = confusion[1, 1]"
      ],
      "execution_count": 39,
      "outputs": [
        {
          "output_type": "stream",
          "text": [
            "[[620   1]\n",
            " [  6 123]]\n"
          ],
          "name": "stdout"
        }
      ]
    },
    {
      "cell_type": "code",
      "metadata": {
        "colab": {
          "base_uri": "https://localhost:8080/"
        },
        "id": "yZtPO6Gf7euu",
        "outputId": "fdebb314-57c1-41f8-a15d-e120df396d62"
      },
      "source": [
        "# checking sensitivity \n",
        "sensitivity = TP / float(FN + TP)\n",
        "print(\"sensitivity\",sensitivity)"
      ],
      "execution_count": 40,
      "outputs": [
        {
          "output_type": "stream",
          "text": [
            "sensitivity 0.9534883720930233\n"
          ],
          "name": "stdout"
        }
      ]
    },
    {
      "cell_type": "code",
      "metadata": {
        "colab": {
          "base_uri": "https://localhost:8080/"
        },
        "id": "c3Bdg9tx7mHr",
        "outputId": "6b083419-2e36-4c62-897f-ba5cce111d3f"
      },
      "source": [
        "# checking specificity\n",
        "specificity = TN / float(TN + FP)\n",
        "print(\"specificity\",specificity)"
      ],
      "execution_count": 41,
      "outputs": [
        {
          "output_type": "stream",
          "text": [
            "specificity 0.998389694041868\n"
          ],
          "name": "stdout"
        }
      ]
    },
    {
      "cell_type": "code",
      "metadata": {
        "id": "wb9vsrR-7qex",
        "outputId": "eb1cef42-01b3-4ef4-8d51-375a1e716247",
        "colab": {
          "base_uri": "https://localhost:8080/"
        }
      },
      "source": [
        "# checking precision\n",
        "precision = TP / float(TP + FP)\n",
        "print(\"precision\",precision)"
      ],
      "execution_count": 42,
      "outputs": [
        {
          "output_type": "stream",
          "text": [
            "precision 0.9919354838709677\n"
          ],
          "name": "stdout"
        }
      ]
    },
    {
      "cell_type": "code",
      "metadata": {
        "id": "6xjCb5tc7yQW",
        "outputId": "05d369ff-18ef-42ea-9a10-95c68449e8e4",
        "colab": {
          "base_uri": "https://localhost:8080/"
        }
      },
      "source": [
        "print(\"PRECISION SCORE :\",metrics.precision_score(y_test, y_pred_class))\n",
        "print(\"RECALL SCORE :\", metrics.recall_score(y_test, y_pred_class))\n",
        "print(\"F1 SCORE :\",metrics.f1_score(y_test, y_pred_class))"
      ],
      "execution_count": 43,
      "outputs": [
        {
          "output_type": "stream",
          "text": [
            "PRECISION SCORE : 0.9919354838709677\n",
            "RECALL SCORE : 0.9534883720930233\n",
            "F1 SCORE : 0.9723320158102766\n"
          ],
          "name": "stdout"
        }
      ]
    },
    {
      "cell_type": "code",
      "metadata": {
        "id": "Ol5YctI974DH"
      },
      "source": [
        "# creating the ROC curve\n",
        "false_positive_rate, true_positive_rate, thresholds = roc_curve(y_test, y_pred_proba[:,1])\n",
        "roc_auc = auc(false_positive_rate, true_positive_rate)"
      ],
      "execution_count": 45,
      "outputs": []
    },
    {
      "cell_type": "code",
      "metadata": {
        "id": "YFZzjul58CmN",
        "outputId": "bd5db0d8-7204-42c1-8d79-29fa6c8223c4",
        "colab": {
          "base_uri": "https://localhost:8080/"
        }
      },
      "source": [
        "print (roc_auc)"
      ],
      "execution_count": 46,
      "outputs": [
        {
          "output_type": "stream",
          "text": [
            "0.9929471095632201\n"
          ],
          "name": "stdout"
        }
      ]
    },
    {
      "cell_type": "code",
      "metadata": {
        "id": "adGtcrJ58E4j",
        "outputId": "9f59aed7-f831-4e44-ce2f-871baba978aa",
        "colab": {
          "base_uri": "https://localhost:8080/",
          "height": 312
        }
      },
      "source": [
        "# plotting the ROC curve\n",
        "%matplotlib inline  \n",
        "plt.ylabel('True Positive Rate')\n",
        "plt.xlabel('False Positive Rate')\n",
        "plt.title('ROC')\n",
        "plt.plot(false_positive_rate, true_positive_rate)"
      ],
      "execution_count": 47,
      "outputs": [
        {
          "output_type": "execute_result",
          "data": {
            "text/plain": [
              "[<matplotlib.lines.Line2D at 0x7fcd281027d0>]"
            ]
          },
          "metadata": {},
          "execution_count": 47
        },
        {
          "output_type": "display_data",
          "data": {
            "image/png": "[encoded data removed]",
            "text/plain": [
              "<Figure size 432x288 with 1 Axes>"
            ]
          },
          "metadata": {
            "needs_background": "light"
          }
        }
      ]
    },
    {
      "cell_type": "code",
      "metadata": {
        "id": "sLOK3xXA8Lkd"
      },
      "source": [
        "# It can be conluded that this is a pretty good model as it satisfies all the metrics "
      ],
      "execution_count": 48,
      "outputs": []
    },
    {
      "cell_type": "code",
      "metadata": {
        "id": "wi0obL8k8VsV"
      },
      "source": [
        ""
      ],
      "execution_count": null,
      "outputs": []
    }
  ]
}