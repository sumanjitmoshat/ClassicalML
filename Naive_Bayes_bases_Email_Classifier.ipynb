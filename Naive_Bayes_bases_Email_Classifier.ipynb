{
  "nbformat": 4,
  "nbformat_minor": 0,
  "metadata": {
    "colab": {
      "name": "Untitled6.ipynb",
      "provenance": [],
      "collapsed_sections": [],
      "authorship_tag": "ABX9TyPLn4eflMiErnAXU3zyq8/v",
      "include_colab_link": true
    },
    "kernelspec": {
      "name": "python3",
      "display_name": "Python 3"
    },
    "language_info": {
      "name": "python"
    }
  },
  "cells": [
    {
      "cell_type": "markdown",
      "metadata": {
        "id": "view-in-github",
        "colab_type": "text"
      },
      "source": [
        "<a href=\"https://colab.research.google.com/github/sumanjitmoshat/ClassicalML/blob/master/Naive_Bayes_bases_Email_Classifier.ipynb\" target=\"_parent\"><img src=\"https://colab.research.google.com/assets/colab-badge.svg\" alt=\"Open In Colab\"/></a>"
      ]
    },
    {
      "cell_type": "code",
      "metadata": {
        "id": "s9wLc2Q32qP8"
      },
      "source": [
        "# importing packages and libraries \n",
        "import pandas as pd\n"
      ],
      "execution_count": 10,
      "outputs": []
    },
    {
      "cell_type": "code",
      "metadata": {
        "id": "SNaynmwr6BV4"
      },
      "source": [
        "# connecting with kaggle to download the dataset \n",
        "! pip install -q kaggle\n",
        "! mkdir ~/.kaggle\n",
        "! cp kaggle.json ~/.kaggle/\n",
        "! chmod 600 ~/.kaggle/kaggle.json\n",
        "!kaggle datasets download -d ozlerhakan/spam-or-not-spam-dataset\n",
        "!mkdir spamhamdataset\n",
        "! unzip spam-or-not-spam-dataset.zip -d spamhamdataset\n",
        "cd spamhamdataset/"
      ],
      "execution_count": null,
      "outputs": []
    },
    {
      "cell_type": "code",
      "metadata": {
        "id": "-zw6aQtv5Nmn"
      },
      "source": [
        "email_df = pd.read_csv('spam_or_not_spam.csv')"
      ],
      "execution_count": 11,
      "outputs": []
    },
    {
      "cell_type": "code",
      "metadata": {
        "colab": {
          "base_uri": "https://localhost:8080/",
          "height": 203
        },
        "id": "DN9xg66A5YoG",
        "outputId": "9d9c0bd4-dd1f-4905-bdb5-114a41f80ce3"
      },
      "source": [
        "email_df.head()"
      ],
      "execution_count": 12,
      "outputs": [
        {
          "output_type": "execute_result",
          "data": {
            "text/html": [
              "<div>\n",
              "<style scoped>\n",
              "    .dataframe tbody tr th:only-of-type {\n",
              "        vertical-align: middle;\n",
              "    }\n",
              "\n",
              "    .dataframe tbody tr th {\n",
              "        vertical-align: top;\n",
              "    }\n",
              "\n",
              "    .dataframe thead th {\n",
              "        text-align: right;\n",
              "    }\n",
              "</style>\n",
              "<table border=\"1\" class=\"dataframe\">\n",
              "  <thead>\n",
              "    <tr style=\"text-align: right;\">\n",
              "      <th></th>\n",
              "      <th>email</th>\n",
              "      <th>label</th>\n",
              "    </tr>\n",
              "  </thead>\n",
              "  <tbody>\n",
              "    <tr>\n",
              "      <th>0</th>\n",
              "      <td>date wed NUMBER aug NUMBER NUMBER NUMBER NUMB...</td>\n",
              "      <td>0</td>\n",
              "    </tr>\n",
              "    <tr>\n",
              "      <th>1</th>\n",
              "      <td>martin a posted tassos papadopoulos the greek ...</td>\n",
              "      <td>0</td>\n",
              "    </tr>\n",
              "    <tr>\n",
              "      <th>2</th>\n",
              "      <td>man threatens explosion in moscow thursday aug...</td>\n",
              "      <td>0</td>\n",
              "    </tr>\n",
              "    <tr>\n",
              "      <th>3</th>\n",
              "      <td>klez the virus that won t die already the most...</td>\n",
              "      <td>0</td>\n",
              "    </tr>\n",
              "    <tr>\n",
              "      <th>4</th>\n",
              "      <td>in adding cream to spaghetti carbonara which ...</td>\n",
              "      <td>0</td>\n",
              "    </tr>\n",
              "  </tbody>\n",
              "</table>\n",
              "</div>"
            ],
            "text/plain": [
              "                                               email  label\n",
              "0   date wed NUMBER aug NUMBER NUMBER NUMBER NUMB...      0\n",
              "1  martin a posted tassos papadopoulos the greek ...      0\n",
              "2  man threatens explosion in moscow thursday aug...      0\n",
              "3  klez the virus that won t die already the most...      0\n",
              "4   in adding cream to spaghetti carbonara which ...      0"
            ]
          },
          "metadata": {},
          "execution_count": 12
        }
      ]
    },
    {
      "cell_type": "code",
      "metadata": {
        "colab": {
          "base_uri": "https://localhost:8080/"
        },
        "id": "AkktRF435hQd",
        "outputId": "05bf9ece-8b13-4fa2-f24f-b4fe9e193394"
      },
      "source": [
        "len(email_df)"
      ],
      "execution_count": 13,
      "outputs": [
        {
          "output_type": "execute_result",
          "data": {
            "text/plain": [
              "3000"
            ]
          },
          "metadata": {},
          "execution_count": 13
        }
      ]
    },
    {
      "cell_type": "code",
      "metadata": {
        "colab": {
          "base_uri": "https://localhost:8080/"
        },
        "id": "eA1qysV-5mib",
        "outputId": "d93c960b-a9f8-4ca0-b7d2-4a699a1ae885"
      },
      "source": [
        "#ham - 0 spam - 1\n",
        "ham_spam =  email_df.label.value_counts()\n",
        "ham_spam"
      ],
      "execution_count": 15,
      "outputs": [
        {
          "output_type": "execute_result",
          "data": {
            "text/plain": [
              "0    2500\n",
              "1     500\n",
              "Name: label, dtype: int64"
            ]
          },
          "metadata": {},
          "execution_count": 15
        }
      ]
    },
    {
      "cell_type": "code",
      "metadata": {
        "colab": {
          "base_uri": "https://localhost:8080/"
        },
        "id": "1NpaxmOG-4h7",
        "outputId": "290d6e4f-18cd-4a41-910a-dd21fed73856"
      },
      "source": [
        "print(\"spam rate is about {0}%\".format(\n",
        "    round((ham_spam[1]/float(ham_spam[0]+ham_spam[1]))*100), 2))"
      ],
      "execution_count": 16,
      "outputs": [
        {
          "output_type": "stream",
          "text": [
            "spam rate is about 17%\n"
          ],
          "name": "stdout"
        }
      ]
    },
    {
      "cell_type": "code",
      "metadata": {
        "id": "Y9piAPGd_YpI"
      },
      "source": [
        ""
      ],
      "execution_count": null,
      "outputs": []
    }
  ]
}