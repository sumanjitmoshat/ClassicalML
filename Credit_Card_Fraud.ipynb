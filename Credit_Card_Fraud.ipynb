{
  "nbformat": 4,
  "nbformat_minor": 0,
  "metadata": {
    "colab": {
      "name": "Credit_Card_Fraud.ipynb",
      "provenance": [],
      "include_colab_link": true
    },
    "kernelspec": {
      "name": "python3",
      "display_name": "Python 3"
    },
    "language_info": {
      "name": "python"
    }
  },
  "cells": [
    {
      "cell_type": "markdown",
      "metadata": {
        "id": "view-in-github",
        "colab_type": "text"
      },
      "source": [
        "<a href=\"https://colab.research.google.com/github/sumanjitmoshat/ClassicalML/blob/master/Credit_Card_Fraud.ipynb\" target=\"_parent\"><img src=\"https://colab.research.google.com/assets/colab-badge.svg\" alt=\"Open In Colab\"/></a>"
      ]
    },
    {
      "cell_type": "code",
      "metadata": {
        "id": "RlInOIeYy5Iw"
      },
      "source": [
        "# importing packages and libraries \n",
        "import pandas as pd\n",
        "import seaborn as sns\n",
        "import matplotlib.pyplot as plt\n",
        "from imblearn.over_sampling import SMOTE\n",
        "from sklearn.model_selection import train_test_split\n",
        "from sklearn.linear_model import LogisticRegression\n",
        "from sklearn.feature_selection import RFE\n",
        "import statsmodels.api as sm\n",
        "import warnings\n",
        "from sklearn import metrics\n",
        "from statsmodels.stats.outliers_influence import variance_inflation_factor\n",
        "warnings.filterwarnings(\"ignore\")"
      ],
      "execution_count": 131,
      "outputs": []
    },
    {
      "cell_type": "code",
      "metadata": {
        "id": "mQmCTy8M5dYI",
        "colab": {
          "base_uri": "https://localhost:8080/"
        },
        "outputId": "0a3c1d3a-7c19-409a-cd6e-42cae1196360"
      },
      "source": [
        "# connecting with kaggle to download the dataset \n",
        "! pip install -q kaggle\n",
        "! mkdir ~/.kaggle\n",
        "! cp kaggle.json ~/.kaggle/\n",
        "! chmod 600 ~/.kaggle/kaggle.json\n",
        "! kaggle datasets download -d mlg-ulb/creditcardfraud\n",
        "! mkdir creditcardfrauddataset\n",
        "! unzip creditcardfraud.zip -d creditcardfrauddataset"
      ],
      "execution_count": 132,
      "outputs": [
        {
          "output_type": "stream",
          "name": "stdout",
          "text": [
            "mkdir: cannot create directory ‘/root/.kaggle’: File exists\n",
            "cp: cannot stat 'kaggle.json': No such file or directory\n",
            "Downloading creditcardfraud.zip to /content/creditcardfrauddataset\n",
            " 86% 57.0M/66.0M [00:00<00:00, 54.9MB/s]\n",
            "100% 66.0M/66.0M [00:00<00:00, 84.8MB/s]\n",
            "Archive:  creditcardfraud.zip\n",
            "  inflating: creditcardfrauddataset/creditcard.csv  \n"
          ]
        }
      ]
    },
    {
      "cell_type": "code",
      "metadata": {
        "colab": {
          "base_uri": "https://localhost:8080/"
        },
        "id": "Y61q4fUH5dkZ",
        "outputId": "9fd7badc-c905-41ad-88da-152a8c2dd297"
      },
      "source": [
        "cd creditcardfrauddataset/"
      ],
      "execution_count": 133,
      "outputs": [
        {
          "output_type": "stream",
          "name": "stdout",
          "text": [
            "/content/creditcardfrauddataset/creditcardfrauddataset\n"
          ]
        }
      ]
    },
    {
      "cell_type": "code",
      "metadata": {
        "id": "qYupPhlQ5on-"
      },
      "source": [
        "creditcardfraud = pd.read_csv('creditcard.csv')"
      ],
      "execution_count": 134,
      "outputs": []
    },
    {
      "cell_type": "markdown",
      "metadata": {
        "id": "TTVXMb9n9Eta"
      },
      "source": [
        "## EDA and Pre-Processing"
      ]
    },
    {
      "cell_type": "code",
      "metadata": {
        "colab": {
          "base_uri": "https://localhost:8080/",
          "height": 223
        },
        "id": "_D2Z114F5qcD",
        "outputId": "abc54dec-aff5-4e34-a958-5e0c7fbf3dde"
      },
      "source": [
        "creditcardfraud.head()"
      ],
      "execution_count": 135,
      "outputs": [
        {
          "output_type": "execute_result",
          "data": {
            "text/html": [
              "<div>\n",
              "<style scoped>\n",
              "    .dataframe tbody tr th:only-of-type {\n",
              "        vertical-align: middle;\n",
              "    }\n",
              "\n",
              "    .dataframe tbody tr th {\n",
              "        vertical-align: top;\n",
              "    }\n",
              "\n",
              "    .dataframe thead th {\n",
              "        text-align: right;\n",
              "    }\n",
              "</style>\n",
              "<table border=\"1\" class=\"dataframe\">\n",
              "  <thead>\n",
              "    <tr style=\"text-align: right;\">\n",
              "      <th></th>\n",
              "      <th>Time</th>\n",
              "      <th>V1</th>\n",
              "      <th>V2</th>\n",
              "      <th>V3</th>\n",
              "      <th>V4</th>\n",
              "      <th>V5</th>\n",
              "      <th>V6</th>\n",
              "      <th>V7</th>\n",
              "      <th>V8</th>\n",
              "      <th>V9</th>\n",
              "      <th>V10</th>\n",
              "      <th>V11</th>\n",
              "      <th>V12</th>\n",
              "      <th>V13</th>\n",
              "      <th>V14</th>\n",
              "      <th>V15</th>\n",
              "      <th>V16</th>\n",
              "      <th>V17</th>\n",
              "      <th>V18</th>\n",
              "      <th>V19</th>\n",
              "      <th>V20</th>\n",
              "      <th>V21</th>\n",
              "      <th>V22</th>\n",
              "      <th>V23</th>\n",
              "      <th>V24</th>\n",
              "      <th>V25</th>\n",
              "      <th>V26</th>\n",
              "      <th>V27</th>\n",
              "      <th>V28</th>\n",
              "      <th>Amount</th>\n",
              "      <th>Class</th>\n",
              "    </tr>\n",
              "  </thead>\n",
              "  <tbody>\n",
              "    <tr>\n",
              "      <th>0</th>\n",
              "      <td>0.0</td>\n",
              "      <td>-1.359807</td>\n",
              "      <td>-0.072781</td>\n",
              "      <td>2.536347</td>\n",
              "      <td>1.378155</td>\n",
              "      <td>-0.338321</td>\n",
              "      <td>0.462388</td>\n",
              "      <td>0.239599</td>\n",
              "      <td>0.098698</td>\n",
              "      <td>0.363787</td>\n",
              "      <td>0.090794</td>\n",
              "      <td>-0.551600</td>\n",
              "      <td>-0.617801</td>\n",
              "      <td>-0.991390</td>\n",
              "      <td>-0.311169</td>\n",
              "      <td>1.468177</td>\n",
              "      <td>-0.470401</td>\n",
              "      <td>0.207971</td>\n",
              "      <td>0.025791</td>\n",
              "      <td>0.403993</td>\n",
              "      <td>0.251412</td>\n",
              "      <td>-0.018307</td>\n",
              "      <td>0.277838</td>\n",
              "      <td>-0.110474</td>\n",
              "      <td>0.066928</td>\n",
              "      <td>0.128539</td>\n",
              "      <td>-0.189115</td>\n",
              "      <td>0.133558</td>\n",
              "      <td>-0.021053</td>\n",
              "      <td>149.62</td>\n",
              "      <td>0</td>\n",
              "    </tr>\n",
              "    <tr>\n",
              "      <th>1</th>\n",
              "      <td>0.0</td>\n",
              "      <td>1.191857</td>\n",
              "      <td>0.266151</td>\n",
              "      <td>0.166480</td>\n",
              "      <td>0.448154</td>\n",
              "      <td>0.060018</td>\n",
              "      <td>-0.082361</td>\n",
              "      <td>-0.078803</td>\n",
              "      <td>0.085102</td>\n",
              "      <td>-0.255425</td>\n",
              "      <td>-0.166974</td>\n",
              "      <td>1.612727</td>\n",
              "      <td>1.065235</td>\n",
              "      <td>0.489095</td>\n",
              "      <td>-0.143772</td>\n",
              "      <td>0.635558</td>\n",
              "      <td>0.463917</td>\n",
              "      <td>-0.114805</td>\n",
              "      <td>-0.183361</td>\n",
              "      <td>-0.145783</td>\n",
              "      <td>-0.069083</td>\n",
              "      <td>-0.225775</td>\n",
              "      <td>-0.638672</td>\n",
              "      <td>0.101288</td>\n",
              "      <td>-0.339846</td>\n",
              "      <td>0.167170</td>\n",
              "      <td>0.125895</td>\n",
              "      <td>-0.008983</td>\n",
              "      <td>0.014724</td>\n",
              "      <td>2.69</td>\n",
              "      <td>0</td>\n",
              "    </tr>\n",
              "    <tr>\n",
              "      <th>2</th>\n",
              "      <td>1.0</td>\n",
              "      <td>-1.358354</td>\n",
              "      <td>-1.340163</td>\n",
              "      <td>1.773209</td>\n",
              "      <td>0.379780</td>\n",
              "      <td>-0.503198</td>\n",
              "      <td>1.800499</td>\n",
              "      <td>0.791461</td>\n",
              "      <td>0.247676</td>\n",
              "      <td>-1.514654</td>\n",
              "      <td>0.207643</td>\n",
              "      <td>0.624501</td>\n",
              "      <td>0.066084</td>\n",
              "      <td>0.717293</td>\n",
              "      <td>-0.165946</td>\n",
              "      <td>2.345865</td>\n",
              "      <td>-2.890083</td>\n",
              "      <td>1.109969</td>\n",
              "      <td>-0.121359</td>\n",
              "      <td>-2.261857</td>\n",
              "      <td>0.524980</td>\n",
              "      <td>0.247998</td>\n",
              "      <td>0.771679</td>\n",
              "      <td>0.909412</td>\n",
              "      <td>-0.689281</td>\n",
              "      <td>-0.327642</td>\n",
              "      <td>-0.139097</td>\n",
              "      <td>-0.055353</td>\n",
              "      <td>-0.059752</td>\n",
              "      <td>378.66</td>\n",
              "      <td>0</td>\n",
              "    </tr>\n",
              "    <tr>\n",
              "      <th>3</th>\n",
              "      <td>1.0</td>\n",
              "      <td>-0.966272</td>\n",
              "      <td>-0.185226</td>\n",
              "      <td>1.792993</td>\n",
              "      <td>-0.863291</td>\n",
              "      <td>-0.010309</td>\n",
              "      <td>1.247203</td>\n",
              "      <td>0.237609</td>\n",
              "      <td>0.377436</td>\n",
              "      <td>-1.387024</td>\n",
              "      <td>-0.054952</td>\n",
              "      <td>-0.226487</td>\n",
              "      <td>0.178228</td>\n",
              "      <td>0.507757</td>\n",
              "      <td>-0.287924</td>\n",
              "      <td>-0.631418</td>\n",
              "      <td>-1.059647</td>\n",
              "      <td>-0.684093</td>\n",
              "      <td>1.965775</td>\n",
              "      <td>-1.232622</td>\n",
              "      <td>-0.208038</td>\n",
              "      <td>-0.108300</td>\n",
              "      <td>0.005274</td>\n",
              "      <td>-0.190321</td>\n",
              "      <td>-1.175575</td>\n",
              "      <td>0.647376</td>\n",
              "      <td>-0.221929</td>\n",
              "      <td>0.062723</td>\n",
              "      <td>0.061458</td>\n",
              "      <td>123.50</td>\n",
              "      <td>0</td>\n",
              "    </tr>\n",
              "    <tr>\n",
              "      <th>4</th>\n",
              "      <td>2.0</td>\n",
              "      <td>-1.158233</td>\n",
              "      <td>0.877737</td>\n",
              "      <td>1.548718</td>\n",
              "      <td>0.403034</td>\n",
              "      <td>-0.407193</td>\n",
              "      <td>0.095921</td>\n",
              "      <td>0.592941</td>\n",
              "      <td>-0.270533</td>\n",
              "      <td>0.817739</td>\n",
              "      <td>0.753074</td>\n",
              "      <td>-0.822843</td>\n",
              "      <td>0.538196</td>\n",
              "      <td>1.345852</td>\n",
              "      <td>-1.119670</td>\n",
              "      <td>0.175121</td>\n",
              "      <td>-0.451449</td>\n",
              "      <td>-0.237033</td>\n",
              "      <td>-0.038195</td>\n",
              "      <td>0.803487</td>\n",
              "      <td>0.408542</td>\n",
              "      <td>-0.009431</td>\n",
              "      <td>0.798278</td>\n",
              "      <td>-0.137458</td>\n",
              "      <td>0.141267</td>\n",
              "      <td>-0.206010</td>\n",
              "      <td>0.502292</td>\n",
              "      <td>0.219422</td>\n",
              "      <td>0.215153</td>\n",
              "      <td>69.99</td>\n",
              "      <td>0</td>\n",
              "    </tr>\n",
              "  </tbody>\n",
              "</table>\n",
              "</div>"
            ],
            "text/plain": [
              "   Time        V1        V2        V3  ...       V27       V28  Amount  Class\n",
              "0   0.0 -1.359807 -0.072781  2.536347  ...  0.133558 -0.021053  149.62      0\n",
              "1   0.0  1.191857  0.266151  0.166480  ... -0.008983  0.014724    2.69      0\n",
              "2   1.0 -1.358354 -1.340163  1.773209  ... -0.055353 -0.059752  378.66      0\n",
              "3   1.0 -0.966272 -0.185226  1.792993  ...  0.062723  0.061458  123.50      0\n",
              "4   2.0 -1.158233  0.877737  1.548718  ...  0.219422  0.215153   69.99      0\n",
              "\n",
              "[5 rows x 31 columns]"
            ]
          },
          "metadata": {},
          "execution_count": 135
        }
      ]
    },
    {
      "cell_type": "code",
      "metadata": {
        "colab": {
          "base_uri": "https://localhost:8080/"
        },
        "id": "LVz_r4Es508A",
        "outputId": "85702785-c598-4def-9f1b-ad491c887b7c"
      },
      "source": [
        "creditcardfraud.shape"
      ],
      "execution_count": 136,
      "outputs": [
        {
          "output_type": "execute_result",
          "data": {
            "text/plain": [
              "(284807, 31)"
            ]
          },
          "metadata": {},
          "execution_count": 136
        }
      ]
    },
    {
      "cell_type": "code",
      "metadata": {
        "colab": {
          "base_uri": "https://localhost:8080/"
        },
        "id": "JwSRBdez6G-L",
        "outputId": "533b5670-b33f-418f-9386-7758a15ffb67"
      },
      "source": [
        "creditcardfraud.info()"
      ],
      "execution_count": 137,
      "outputs": [
        {
          "output_type": "stream",
          "name": "stdout",
          "text": [
            "<class 'pandas.core.frame.DataFrame'>\n",
            "RangeIndex: 284807 entries, 0 to 284806\n",
            "Data columns (total 31 columns):\n",
            " #   Column  Non-Null Count   Dtype  \n",
            "---  ------  --------------   -----  \n",
            " 0   Time    284807 non-null  float64\n",
            " 1   V1      284807 non-null  float64\n",
            " 2   V2      284807 non-null  float64\n",
            " 3   V3      284807 non-null  float64\n",
            " 4   V4      284807 non-null  float64\n",
            " 5   V5      284807 non-null  float64\n",
            " 6   V6      284807 non-null  float64\n",
            " 7   V7      284807 non-null  float64\n",
            " 8   V8      284807 non-null  float64\n",
            " 9   V9      284807 non-null  float64\n",
            " 10  V10     284807 non-null  float64\n",
            " 11  V11     284807 non-null  float64\n",
            " 12  V12     284807 non-null  float64\n",
            " 13  V13     284807 non-null  float64\n",
            " 14  V14     284807 non-null  float64\n",
            " 15  V15     284807 non-null  float64\n",
            " 16  V16     284807 non-null  float64\n",
            " 17  V17     284807 non-null  float64\n",
            " 18  V18     284807 non-null  float64\n",
            " 19  V19     284807 non-null  float64\n",
            " 20  V20     284807 non-null  float64\n",
            " 21  V21     284807 non-null  float64\n",
            " 22  V22     284807 non-null  float64\n",
            " 23  V23     284807 non-null  float64\n",
            " 24  V24     284807 non-null  float64\n",
            " 25  V25     284807 non-null  float64\n",
            " 26  V26     284807 non-null  float64\n",
            " 27  V27     284807 non-null  float64\n",
            " 28  V28     284807 non-null  float64\n",
            " 29  Amount  284807 non-null  float64\n",
            " 30  Class   284807 non-null  int64  \n",
            "dtypes: float64(30), int64(1)\n",
            "memory usage: 67.4 MB\n"
          ]
        }
      ]
    },
    {
      "cell_type": "markdown",
      "metadata": {
        "id": "ORCEkXRF-K0p"
      },
      "source": [
        "### Transforming the time column to extract time taken by each transaction"
      ]
    },
    {
      "cell_type": "code",
      "metadata": {
        "id": "k8fzQlC36Q5h"
      },
      "source": [
        "creditcardfraud.Time = creditcardfraud.Time.diff().fillna(creditcardfraud.Time)"
      ],
      "execution_count": 138,
      "outputs": []
    },
    {
      "cell_type": "code",
      "metadata": {
        "colab": {
          "base_uri": "https://localhost:8080/",
          "height": 315
        },
        "id": "9kQJ6GZU76QR",
        "outputId": "e65d27a4-f045-4ca1-dc2c-f7f628f97ac6"
      },
      "source": [
        "creditcardfraud.describe()"
      ],
      "execution_count": 139,
      "outputs": [
        {
          "output_type": "execute_result",
          "data": {
            "text/html": [
              "<div>\n",
              "<style scoped>\n",
              "    .dataframe tbody tr th:only-of-type {\n",
              "        vertical-align: middle;\n",
              "    }\n",
              "\n",
              "    .dataframe tbody tr th {\n",
              "        vertical-align: top;\n",
              "    }\n",
              "\n",
              "    .dataframe thead th {\n",
              "        text-align: right;\n",
              "    }\n",
              "</style>\n",
              "<table border=\"1\" class=\"dataframe\">\n",
              "  <thead>\n",
              "    <tr style=\"text-align: right;\">\n",
              "      <th></th>\n",
              "      <th>Time</th>\n",
              "      <th>V1</th>\n",
              "      <th>V2</th>\n",
              "      <th>V3</th>\n",
              "      <th>V4</th>\n",
              "      <th>V5</th>\n",
              "      <th>V6</th>\n",
              "      <th>V7</th>\n",
              "      <th>V8</th>\n",
              "      <th>V9</th>\n",
              "      <th>V10</th>\n",
              "      <th>V11</th>\n",
              "      <th>V12</th>\n",
              "      <th>V13</th>\n",
              "      <th>V14</th>\n",
              "      <th>V15</th>\n",
              "      <th>V16</th>\n",
              "      <th>V17</th>\n",
              "      <th>V18</th>\n",
              "      <th>V19</th>\n",
              "      <th>V20</th>\n",
              "      <th>V21</th>\n",
              "      <th>V22</th>\n",
              "      <th>V23</th>\n",
              "      <th>V24</th>\n",
              "      <th>V25</th>\n",
              "      <th>V26</th>\n",
              "      <th>V27</th>\n",
              "      <th>V28</th>\n",
              "      <th>Amount</th>\n",
              "      <th>Class</th>\n",
              "    </tr>\n",
              "  </thead>\n",
              "  <tbody>\n",
              "    <tr>\n",
              "      <th>count</th>\n",
              "      <td>284807.000000</td>\n",
              "      <td>2.848070e+05</td>\n",
              "      <td>2.848070e+05</td>\n",
              "      <td>2.848070e+05</td>\n",
              "      <td>2.848070e+05</td>\n",
              "      <td>2.848070e+05</td>\n",
              "      <td>2.848070e+05</td>\n",
              "      <td>2.848070e+05</td>\n",
              "      <td>2.848070e+05</td>\n",
              "      <td>2.848070e+05</td>\n",
              "      <td>2.848070e+05</td>\n",
              "      <td>2.848070e+05</td>\n",
              "      <td>2.848070e+05</td>\n",
              "      <td>2.848070e+05</td>\n",
              "      <td>2.848070e+05</td>\n",
              "      <td>2.848070e+05</td>\n",
              "      <td>2.848070e+05</td>\n",
              "      <td>2.848070e+05</td>\n",
              "      <td>2.848070e+05</td>\n",
              "      <td>2.848070e+05</td>\n",
              "      <td>2.848070e+05</td>\n",
              "      <td>2.848070e+05</td>\n",
              "      <td>2.848070e+05</td>\n",
              "      <td>2.848070e+05</td>\n",
              "      <td>2.848070e+05</td>\n",
              "      <td>2.848070e+05</td>\n",
              "      <td>2.848070e+05</td>\n",
              "      <td>2.848070e+05</td>\n",
              "      <td>2.848070e+05</td>\n",
              "      <td>284807.000000</td>\n",
              "      <td>284807.000000</td>\n",
              "    </tr>\n",
              "    <tr>\n",
              "      <th>mean</th>\n",
              "      <td>0.606699</td>\n",
              "      <td>3.919560e-15</td>\n",
              "      <td>5.688174e-16</td>\n",
              "      <td>-8.769071e-15</td>\n",
              "      <td>2.782312e-15</td>\n",
              "      <td>-1.552563e-15</td>\n",
              "      <td>2.010663e-15</td>\n",
              "      <td>-1.694249e-15</td>\n",
              "      <td>-1.927028e-16</td>\n",
              "      <td>-3.137024e-15</td>\n",
              "      <td>1.768627e-15</td>\n",
              "      <td>9.170318e-16</td>\n",
              "      <td>-1.810658e-15</td>\n",
              "      <td>1.693438e-15</td>\n",
              "      <td>1.479045e-15</td>\n",
              "      <td>3.482336e-15</td>\n",
              "      <td>1.392007e-15</td>\n",
              "      <td>-7.528491e-16</td>\n",
              "      <td>4.328772e-16</td>\n",
              "      <td>9.049732e-16</td>\n",
              "      <td>5.085503e-16</td>\n",
              "      <td>1.537294e-16</td>\n",
              "      <td>7.959909e-16</td>\n",
              "      <td>5.367590e-16</td>\n",
              "      <td>4.458112e-15</td>\n",
              "      <td>1.453003e-15</td>\n",
              "      <td>1.699104e-15</td>\n",
              "      <td>-3.660161e-16</td>\n",
              "      <td>-1.206049e-16</td>\n",
              "      <td>88.349619</td>\n",
              "      <td>0.001727</td>\n",
              "    </tr>\n",
              "    <tr>\n",
              "      <th>std</th>\n",
              "      <td>1.053380</td>\n",
              "      <td>1.958696e+00</td>\n",
              "      <td>1.651309e+00</td>\n",
              "      <td>1.516255e+00</td>\n",
              "      <td>1.415869e+00</td>\n",
              "      <td>1.380247e+00</td>\n",
              "      <td>1.332271e+00</td>\n",
              "      <td>1.237094e+00</td>\n",
              "      <td>1.194353e+00</td>\n",
              "      <td>1.098632e+00</td>\n",
              "      <td>1.088850e+00</td>\n",
              "      <td>1.020713e+00</td>\n",
              "      <td>9.992014e-01</td>\n",
              "      <td>9.952742e-01</td>\n",
              "      <td>9.585956e-01</td>\n",
              "      <td>9.153160e-01</td>\n",
              "      <td>8.762529e-01</td>\n",
              "      <td>8.493371e-01</td>\n",
              "      <td>8.381762e-01</td>\n",
              "      <td>8.140405e-01</td>\n",
              "      <td>7.709250e-01</td>\n",
              "      <td>7.345240e-01</td>\n",
              "      <td>7.257016e-01</td>\n",
              "      <td>6.244603e-01</td>\n",
              "      <td>6.056471e-01</td>\n",
              "      <td>5.212781e-01</td>\n",
              "      <td>4.822270e-01</td>\n",
              "      <td>4.036325e-01</td>\n",
              "      <td>3.300833e-01</td>\n",
              "      <td>250.120109</td>\n",
              "      <td>0.041527</td>\n",
              "    </tr>\n",
              "    <tr>\n",
              "      <th>min</th>\n",
              "      <td>0.000000</td>\n",
              "      <td>-5.640751e+01</td>\n",
              "      <td>-7.271573e+01</td>\n",
              "      <td>-4.832559e+01</td>\n",
              "      <td>-5.683171e+00</td>\n",
              "      <td>-1.137433e+02</td>\n",
              "      <td>-2.616051e+01</td>\n",
              "      <td>-4.355724e+01</td>\n",
              "      <td>-7.321672e+01</td>\n",
              "      <td>-1.343407e+01</td>\n",
              "      <td>-2.458826e+01</td>\n",
              "      <td>-4.797473e+00</td>\n",
              "      <td>-1.868371e+01</td>\n",
              "      <td>-5.791881e+00</td>\n",
              "      <td>-1.921433e+01</td>\n",
              "      <td>-4.498945e+00</td>\n",
              "      <td>-1.412985e+01</td>\n",
              "      <td>-2.516280e+01</td>\n",
              "      <td>-9.498746e+00</td>\n",
              "      <td>-7.213527e+00</td>\n",
              "      <td>-5.449772e+01</td>\n",
              "      <td>-3.483038e+01</td>\n",
              "      <td>-1.093314e+01</td>\n",
              "      <td>-4.480774e+01</td>\n",
              "      <td>-2.836627e+00</td>\n",
              "      <td>-1.029540e+01</td>\n",
              "      <td>-2.604551e+00</td>\n",
              "      <td>-2.256568e+01</td>\n",
              "      <td>-1.543008e+01</td>\n",
              "      <td>0.000000</td>\n",
              "      <td>0.000000</td>\n",
              "    </tr>\n",
              "    <tr>\n",
              "      <th>25%</th>\n",
              "      <td>0.000000</td>\n",
              "      <td>-9.203734e-01</td>\n",
              "      <td>-5.985499e-01</td>\n",
              "      <td>-8.903648e-01</td>\n",
              "      <td>-8.486401e-01</td>\n",
              "      <td>-6.915971e-01</td>\n",
              "      <td>-7.682956e-01</td>\n",
              "      <td>-5.540759e-01</td>\n",
              "      <td>-2.086297e-01</td>\n",
              "      <td>-6.430976e-01</td>\n",
              "      <td>-5.354257e-01</td>\n",
              "      <td>-7.624942e-01</td>\n",
              "      <td>-4.055715e-01</td>\n",
              "      <td>-6.485393e-01</td>\n",
              "      <td>-4.255740e-01</td>\n",
              "      <td>-5.828843e-01</td>\n",
              "      <td>-4.680368e-01</td>\n",
              "      <td>-4.837483e-01</td>\n",
              "      <td>-4.988498e-01</td>\n",
              "      <td>-4.562989e-01</td>\n",
              "      <td>-2.117214e-01</td>\n",
              "      <td>-2.283949e-01</td>\n",
              "      <td>-5.423504e-01</td>\n",
              "      <td>-1.618463e-01</td>\n",
              "      <td>-3.545861e-01</td>\n",
              "      <td>-3.171451e-01</td>\n",
              "      <td>-3.269839e-01</td>\n",
              "      <td>-7.083953e-02</td>\n",
              "      <td>-5.295979e-02</td>\n",
              "      <td>5.600000</td>\n",
              "      <td>0.000000</td>\n",
              "    </tr>\n",
              "    <tr>\n",
              "      <th>50%</th>\n",
              "      <td>0.000000</td>\n",
              "      <td>1.810880e-02</td>\n",
              "      <td>6.548556e-02</td>\n",
              "      <td>1.798463e-01</td>\n",
              "      <td>-1.984653e-02</td>\n",
              "      <td>-5.433583e-02</td>\n",
              "      <td>-2.741871e-01</td>\n",
              "      <td>4.010308e-02</td>\n",
              "      <td>2.235804e-02</td>\n",
              "      <td>-5.142873e-02</td>\n",
              "      <td>-9.291738e-02</td>\n",
              "      <td>-3.275735e-02</td>\n",
              "      <td>1.400326e-01</td>\n",
              "      <td>-1.356806e-02</td>\n",
              "      <td>5.060132e-02</td>\n",
              "      <td>4.807155e-02</td>\n",
              "      <td>6.641332e-02</td>\n",
              "      <td>-6.567575e-02</td>\n",
              "      <td>-3.636312e-03</td>\n",
              "      <td>3.734823e-03</td>\n",
              "      <td>-6.248109e-02</td>\n",
              "      <td>-2.945017e-02</td>\n",
              "      <td>6.781943e-03</td>\n",
              "      <td>-1.119293e-02</td>\n",
              "      <td>4.097606e-02</td>\n",
              "      <td>1.659350e-02</td>\n",
              "      <td>-5.213911e-02</td>\n",
              "      <td>1.342146e-03</td>\n",
              "      <td>1.124383e-02</td>\n",
              "      <td>22.000000</td>\n",
              "      <td>0.000000</td>\n",
              "    </tr>\n",
              "    <tr>\n",
              "      <th>75%</th>\n",
              "      <td>1.000000</td>\n",
              "      <td>1.315642e+00</td>\n",
              "      <td>8.037239e-01</td>\n",
              "      <td>1.027196e+00</td>\n",
              "      <td>7.433413e-01</td>\n",
              "      <td>6.119264e-01</td>\n",
              "      <td>3.985649e-01</td>\n",
              "      <td>5.704361e-01</td>\n",
              "      <td>3.273459e-01</td>\n",
              "      <td>5.971390e-01</td>\n",
              "      <td>4.539234e-01</td>\n",
              "      <td>7.395934e-01</td>\n",
              "      <td>6.182380e-01</td>\n",
              "      <td>6.625050e-01</td>\n",
              "      <td>4.931498e-01</td>\n",
              "      <td>6.488208e-01</td>\n",
              "      <td>5.232963e-01</td>\n",
              "      <td>3.996750e-01</td>\n",
              "      <td>5.008067e-01</td>\n",
              "      <td>4.589494e-01</td>\n",
              "      <td>1.330408e-01</td>\n",
              "      <td>1.863772e-01</td>\n",
              "      <td>5.285536e-01</td>\n",
              "      <td>1.476421e-01</td>\n",
              "      <td>4.395266e-01</td>\n",
              "      <td>3.507156e-01</td>\n",
              "      <td>2.409522e-01</td>\n",
              "      <td>9.104512e-02</td>\n",
              "      <td>7.827995e-02</td>\n",
              "      <td>77.165000</td>\n",
              "      <td>0.000000</td>\n",
              "    </tr>\n",
              "    <tr>\n",
              "      <th>max</th>\n",
              "      <td>32.000000</td>\n",
              "      <td>2.454930e+00</td>\n",
              "      <td>2.205773e+01</td>\n",
              "      <td>9.382558e+00</td>\n",
              "      <td>1.687534e+01</td>\n",
              "      <td>3.480167e+01</td>\n",
              "      <td>7.330163e+01</td>\n",
              "      <td>1.205895e+02</td>\n",
              "      <td>2.000721e+01</td>\n",
              "      <td>1.559499e+01</td>\n",
              "      <td>2.374514e+01</td>\n",
              "      <td>1.201891e+01</td>\n",
              "      <td>7.848392e+00</td>\n",
              "      <td>7.126883e+00</td>\n",
              "      <td>1.052677e+01</td>\n",
              "      <td>8.877742e+00</td>\n",
              "      <td>1.731511e+01</td>\n",
              "      <td>9.253526e+00</td>\n",
              "      <td>5.041069e+00</td>\n",
              "      <td>5.591971e+00</td>\n",
              "      <td>3.942090e+01</td>\n",
              "      <td>2.720284e+01</td>\n",
              "      <td>1.050309e+01</td>\n",
              "      <td>2.252841e+01</td>\n",
              "      <td>4.584549e+00</td>\n",
              "      <td>7.519589e+00</td>\n",
              "      <td>3.517346e+00</td>\n",
              "      <td>3.161220e+01</td>\n",
              "      <td>3.384781e+01</td>\n",
              "      <td>25691.160000</td>\n",
              "      <td>1.000000</td>\n",
              "    </tr>\n",
              "  </tbody>\n",
              "</table>\n",
              "</div>"
            ],
            "text/plain": [
              "                Time            V1  ...         Amount          Class\n",
              "count  284807.000000  2.848070e+05  ...  284807.000000  284807.000000\n",
              "mean        0.606699  3.919560e-15  ...      88.349619       0.001727\n",
              "std         1.053380  1.958696e+00  ...     250.120109       0.041527\n",
              "min         0.000000 -5.640751e+01  ...       0.000000       0.000000\n",
              "25%         0.000000 -9.203734e-01  ...       5.600000       0.000000\n",
              "50%         0.000000  1.810880e-02  ...      22.000000       0.000000\n",
              "75%         1.000000  1.315642e+00  ...      77.165000       0.000000\n",
              "max        32.000000  2.454930e+00  ...   25691.160000       1.000000\n",
              "\n",
              "[8 rows x 31 columns]"
            ]
          },
          "metadata": {},
          "execution_count": 139
        }
      ]
    },
    {
      "cell_type": "code",
      "metadata": {
        "id": "2PIT7RHm8kPP",
        "colab": {
          "base_uri": "https://localhost:8080/",
          "height": 279
        },
        "outputId": "30667057-69ec-4dff-ab92-07e1ed3ae56a"
      },
      "source": [
        "sns.countplot(x='Class',data=creditcardfraud)\n",
        "plt.show()"
      ],
      "execution_count": 140,
      "outputs": [
        {
          "output_type": "display_data",
          "data": {
            "image/png": "[encoded data removed]",
            "text/plain": [
              "<Figure size 432x288 with 1 Axes>"
            ]
          },
          "metadata": {
            "needs_background": "light"
          }
        }
      ]
    },
    {
      "cell_type": "markdown",
      "metadata": {
        "id": "_tTVePdrgpD0"
      },
      "source": [
        "## From the above plot it's clear that the dataset is imbalanced"
      ]
    },
    {
      "cell_type": "markdown",
      "metadata": {
        "id": "wj0Wyw_gwwiw"
      },
      "source": [
        "## Creating X and y(target) from the dataset"
      ]
    },
    {
      "cell_type": "code",
      "metadata": {
        "id": "MbFeGQ9ykght"
      },
      "source": [
        "X = creditcardfraud.drop(columns='Class')\n",
        "y = creditcardfraud.Class"
      ],
      "execution_count": 141,
      "outputs": []
    },
    {
      "cell_type": "markdown",
      "metadata": {
        "id": "pejBCrRKDw8I"
      },
      "source": [
        "### splitting the dataset into train and test "
      ]
    },
    {
      "cell_type": "code",
      "metadata": {
        "id": "jEs-5hzokTnR"
      },
      "source": [
        "X_train, X_test, y_train, y_test = train_test_split(X,y,test_size=0.30)"
      ],
      "execution_count": 142,
      "outputs": []
    },
    {
      "cell_type": "markdown",
      "metadata": {
        "id": "bbtFkH4eEDgb"
      },
      "source": [
        "## initializing SMOTE to make the dataset balanced"
      ]
    },
    {
      "cell_type": "code",
      "metadata": {
        "id": "jsSCnvHNgvOP"
      },
      "source": [
        "SMOTE = SMOTE()"
      ],
      "execution_count": 143,
      "outputs": []
    },
    {
      "cell_type": "markdown",
      "metadata": {
        "id": "wG2XwdW1EKED"
      },
      "source": [
        "### Creating balanced train data from the dataset"
      ]
    },
    {
      "cell_type": "code",
      "metadata": {
        "id": "Y-bGueOukHk5"
      },
      "source": [
        "X_train_SMOTE, y_train_SMOTE = SMOTE.fit_resample(X_train, y_train)"
      ],
      "execution_count": 144,
      "outputs": []
    },
    {
      "cell_type": "markdown",
      "metadata": {
        "id": "FWsmS1JeEc4a"
      },
      "source": [
        "### Creating a dataframe from the SMOTE numpy arrays for processing"
      ]
    },
    {
      "cell_type": "code",
      "metadata": {
        "id": "OE8Tafq5ozs7"
      },
      "source": [
        "X_train_SMOTE = pd.DataFrame(X_train_SMOTE, columns=X_train.columns)"
      ],
      "execution_count": 145,
      "outputs": []
    },
    {
      "cell_type": "code",
      "metadata": {
        "id": "uMxvQdoFFOJR"
      },
      "source": [
        "### initializing a logistic regression model and rfe for selecting top 15 features"
      ],
      "execution_count": 146,
      "outputs": []
    },
    {
      "cell_type": "code",
      "metadata": {
        "id": "xLXwu3Avkna4"
      },
      "source": [
        "logreg = LogisticRegression()\n",
        "rfe = RFE(logreg, 15)             # running RFE with 15 variables as output\n",
        "rfe = rfe.fit(X_train_SMOTE, y_train_SMOTE)"
      ],
      "execution_count": 147,
      "outputs": []
    },
    {
      "cell_type": "code",
      "metadata": {
        "id": "92n4yh0zltyA",
        "colab": {
          "base_uri": "https://localhost:8080/"
        },
        "outputId": "a2a23a53-392d-4367-dd13-932b156643ab"
      },
      "source": [
        "list(zip(X_train_SMOTE.columns, rfe.support_, rfe.ranking_))"
      ],
      "execution_count": 148,
      "outputs": [
        {
          "output_type": "execute_result",
          "data": {
            "text/plain": [
              "[('Time', False, 4),\n",
              " ('V1', False, 3),\n",
              " ('V2', False, 14),\n",
              " ('V3', False, 11),\n",
              " ('V4', True, 1),\n",
              " ('V5', True, 1),\n",
              " ('V6', False, 8),\n",
              " ('V7', False, 13),\n",
              " ('V8', True, 1),\n",
              " ('V9', True, 1),\n",
              " ('V10', True, 1),\n",
              " ('V11', True, 1),\n",
              " ('V12', True, 1),\n",
              " ('V13', True, 1),\n",
              " ('V14', True, 1),\n",
              " ('V15', False, 7),\n",
              " ('V16', True, 1),\n",
              " ('V17', True, 1),\n",
              " ('V18', False, 2),\n",
              " ('V19', False, 9),\n",
              " ('V20', False, 10),\n",
              " ('V21', False, 6),\n",
              " ('V22', True, 1),\n",
              " ('V23', False, 15),\n",
              " ('V24', False, 12),\n",
              " ('V25', False, 5),\n",
              " ('V26', True, 1),\n",
              " ('V27', True, 1),\n",
              " ('V28', True, 1),\n",
              " ('Amount', False, 16)]"
            ]
          },
          "metadata": {},
          "execution_count": 148
        }
      ]
    },
    {
      "cell_type": "code",
      "metadata": {
        "id": "Zq9vXfh3mAHW"
      },
      "source": [
        "col = X_train_SMOTE.columns[rfe.support_]"
      ],
      "execution_count": 149,
      "outputs": []
    },
    {
      "cell_type": "code",
      "metadata": {
        "id": "aT_SdaYNmDIL",
        "colab": {
          "base_uri": "https://localhost:8080/"
        },
        "outputId": "47ab125b-4e6c-40d8-a15c-3ff6e099d799"
      },
      "source": [
        "X_train_SMOTE.columns[~rfe.support_]"
      ],
      "execution_count": 150,
      "outputs": [
        {
          "output_type": "execute_result",
          "data": {
            "text/plain": [
              "Index(['Time', 'V1', 'V2', 'V3', 'V6', 'V7', 'V15', 'V18', 'V19', 'V20', 'V21',\n",
              "       'V23', 'V24', 'V25', 'Amount'],\n",
              "      dtype='object')"
            ]
          },
          "metadata": {},
          "execution_count": 150
        }
      ]
    },
    {
      "cell_type": "code",
      "metadata": {
        "id": "-nCarBVlOElA"
      },
      "source": [
        "# defining a method to generate a logistic model\n",
        "def get_logistic_model(X_train , columns , y_train):\n",
        "  X_train_sm = sm.add_constant(X_train[col])\n",
        "  logreg = sm.GLM(y_train,X_train_sm, family = sm.families.Binomial())\n",
        "  res = logreg.fit()\n",
        "  return res,X_train_sm"
      ],
      "execution_count": 151,
      "outputs": []
    },
    {
      "cell_type": "code",
      "metadata": {
        "id": "Bnr4lNfCPbtW"
      },
      "source": [
        "# defining a method to generate the prediction dataset\n",
        "def get_prediction_dataset(res,X_train_sm,y_train_SMOTE,cutoff):\n",
        "  y_train_pred = res.predict(X_train_sm)\n",
        "  y_train_pred = y_train_pred.values.reshape(-1)\n",
        "  y_train_pred_final = pd.DataFrame({'Fraud':y_train_SMOTE, 'Fraud_Porb':y_train_pred})\n",
        "  y_train_pred_final['predicted'] = y_train_pred_final.Fraud_Porb.map(lambda x: 1 if x > cutoff else 0)\n",
        "  return y_train_pred_final"
      ],
      "execution_count": 152,
      "outputs": []
    },
    {
      "cell_type": "code",
      "metadata": {
        "id": "YKOFarioT0De"
      },
      "source": [
        "# defining a method to genenate the confusion matrix\n",
        "def get_confusion_matrix(predictionmatrix):\n",
        "  confusion = metrics.confusion_matrix(y_train_pred_final.Fraud, y_train_pred_final.predicted )\n",
        "  return confusion"
      ],
      "execution_count": 153,
      "outputs": []
    },
    {
      "cell_type": "code",
      "metadata": {
        "id": "eAOXCGeDUxpu"
      },
      "source": [
        "# defininf a method to get accuracy\n",
        "def get_accuracy(y_train_pred_final):\n",
        "  accuracy = metrics.accuracy_score(y_train_pred_final.Fraud, y_train_pred_final.predicted)\n",
        "  return accuracy"
      ],
      "execution_count": 154,
      "outputs": []
    },
    {
      "cell_type": "code",
      "metadata": {
        "id": "ag1RNwdIV_R2"
      },
      "source": [
        "# defining a method for getting VIF\n",
        "def get_vif(X_train,columns):\n",
        "  vif = pd.DataFrame()\n",
        "  vif['Features'] = X_train_SMOTE[col].columns\n",
        "  vif['VIF'] = [variance_inflation_factor(X_train_SMOTE[col].values, i) for i in range(X_train_SMOTE[col].shape[1])]\n",
        "  vif['VIF'] = round(vif['VIF'], 2)\n",
        "  vif = vif.sort_values(by = \"VIF\", ascending = False)\n",
        "  print(vif)"
      ],
      "execution_count": 167,
      "outputs": []
    },
    {
      "cell_type": "code",
      "metadata": {
        "id": "rvglaM3Cfwzh"
      },
      "source": [
        "# defining a method to generate roc curve\n",
        "def draw_roc( actual, probs ):\n",
        "    fpr, tpr, thresholds = metrics.roc_curve( actual, probs,\n",
        "                                              drop_intermediate = False )\n",
        "    auc_score = metrics.roc_auc_score( actual, probs )\n",
        "    plt.figure(figsize=(5, 5))\n",
        "    plt.plot( fpr, tpr, label='ROC curve (area = %0.2f)' % auc_score )\n",
        "    plt.plot([0, 1], [0, 1], 'k--')\n",
        "    plt.xlim([0.0, 1.0])\n",
        "    plt.ylim([0.0, 1.05])\n",
        "    plt.xlabel('False Positive Rate or [1 - True Negative Rate]')\n",
        "    plt.ylabel('True Positive Rate')\n",
        "    plt.title('Receiver operating characteristic example')\n",
        "    plt.legend(loc=\"lower right\")\n",
        "    plt.show()\n",
        "\n",
        "    return None"
      ],
      "execution_count": 156,
      "outputs": []
    },
    {
      "cell_type": "code",
      "metadata": {
        "id": "DrN9hCtajTkQ"
      },
      "source": [
        "# method which prints all the measures from a confusion matrix\n",
        "def get_all_measures(confusion):\n",
        "  TP = confusion[1,1] # true positive \n",
        "  TN = confusion[0,0] # true negatives\n",
        "  FP = confusion[0,1] # false positives\n",
        "  FN = confusion[1,0] # false negatives\n",
        "  sensitivity = TP / float(TP+FN)\n",
        "  specificity = TN / float(TN+FP)\n",
        "  false_positive_rate = FP/ float(TN+FP)\n",
        "  positive_predictive_value = TP / float(TP+FP)\n",
        "  negative_predictive_value = TN / float(TN+ FN)\n",
        "  precision = TP/(FP+TP)\n",
        "  recall = TP/(FN+TP)\n",
        "  print('Sensitivity is : ' + '{0:.2f}'.format(sensitivity) + '\\n')\n",
        "  print('specificity is : ' + '{0:.2f}'.format(specificity) + '\\n')\n",
        "  print('false_positive_rate is : ' + '{0:.2f}'.format(false_positive_rate) + '\\n')\n",
        "  print('negative_predictive_value is : ' + '{0:.2f}'.format(negative_predictive_value) + '\\n')\n",
        "  print('precision is : ' + '{0:.2f}'.format(precision) + '\\n')\n",
        "  print('recall is : ' + '{0:.2f}'.format(recall) + '\\n')"
      ],
      "execution_count": 157,
      "outputs": []
    },
    {
      "cell_type": "code",
      "metadata": {
        "id": "Y7-A0dmooMFa",
        "colab": {
          "base_uri": "https://localhost:8080/",
          "height": 567
        },
        "outputId": "10074e39-c42f-4286-fbcb-453296a35fac"
      },
      "source": [
        "# creating a logistic regression with top 15 features that we got from RFE\n",
        "res,X_train_sm = get_logistic_model(X_train_SMOTE,col,y_train_SMOTE)\n",
        "res.summary()"
      ],
      "execution_count": 158,
      "outputs": [
        {
          "output_type": "execute_result",
          "data": {
            "text/html": [
              "<table class=\"simpletable\">\n",
              "<caption>Generalized Linear Model Regression Results</caption>\n",
              "<tr>\n",
              "  <th>Dep. Variable:</th>           <td>y</td>        <th>  No. Observations:  </th>  <td>398090</td> \n",
              "</tr>\n",
              "<tr>\n",
              "  <th>Model:</th>                  <td>GLM</td>       <th>  Df Residuals:      </th>  <td>398074</td> \n",
              "</tr>\n",
              "<tr>\n",
              "  <th>Model Family:</th>        <td>Binomial</td>     <th>  Df Model:          </th>  <td>    15</td> \n",
              "</tr>\n",
              "<tr>\n",
              "  <th>Link Function:</th>         <td>logit</td>      <th>  Scale:             </th> <td>  1.0000</td>\n",
              "</tr>\n",
              "<tr>\n",
              "  <th>Method:</th>                <td>IRLS</td>       <th>  Log-Likelihood:    </th> <td>     nan</td>\n",
              "</tr>\n",
              "<tr>\n",
              "  <th>Date:</th>            <td>Tue, 14 Sep 2021</td> <th>  Deviance:          </th> <td>     nan</td>\n",
              "</tr>\n",
              "<tr>\n",
              "  <th>Time:</th>                <td>18:39:23</td>     <th>  Pearson chi2:      </th> <td>6.47e+16</td>\n",
              "</tr>\n",
              "<tr>\n",
              "  <th>No. Iterations:</th>         <td>100</td>       <th>                     </th>     <td> </td>   \n",
              "</tr>\n",
              "<tr>\n",
              "  <th>Covariance Type:</th>     <td>nonrobust</td>    <th>                     </th>     <td> </td>   \n",
              "</tr>\n",
              "</table>\n",
              "<table class=\"simpletable\">\n",
              "<tr>\n",
              "    <td></td>       <th>coef</th>     <th>std err</th>      <th>z</th>      <th>P>|z|</th>  <th>[0.025</th>    <th>0.975]</th>  \n",
              "</tr>\n",
              "<tr>\n",
              "  <th>const</th> <td>   -3.6288</td> <td>    0.015</td> <td> -241.037</td> <td> 0.000</td> <td>   -3.658</td> <td>   -3.599</td>\n",
              "</tr>\n",
              "<tr>\n",
              "  <th>V4</th>    <td>    0.8902</td> <td>    0.008</td> <td>  116.158</td> <td> 0.000</td> <td>    0.875</td> <td>    0.905</td>\n",
              "</tr>\n",
              "<tr>\n",
              "  <th>V5</th>    <td>    0.3086</td> <td>    0.006</td> <td>   52.104</td> <td> 0.000</td> <td>    0.297</td> <td>    0.320</td>\n",
              "</tr>\n",
              "<tr>\n",
              "  <th>V8</th>    <td>   -0.4564</td> <td>    0.006</td> <td>  -70.859</td> <td> 0.000</td> <td>   -0.469</td> <td>   -0.444</td>\n",
              "</tr>\n",
              "<tr>\n",
              "  <th>V9</th>    <td>   -0.3497</td> <td>    0.010</td> <td>  -33.429</td> <td> 0.000</td> <td>   -0.370</td> <td>   -0.329</td>\n",
              "</tr>\n",
              "<tr>\n",
              "  <th>V10</th>   <td>   -0.6547</td> <td>    0.013</td> <td>  -52.295</td> <td> 0.000</td> <td>   -0.679</td> <td>   -0.630</td>\n",
              "</tr>\n",
              "<tr>\n",
              "  <th>V11</th>   <td>    0.6712</td> <td>    0.010</td> <td>   66.676</td> <td> 0.000</td> <td>    0.651</td> <td>    0.691</td>\n",
              "</tr>\n",
              "<tr>\n",
              "  <th>V12</th>   <td>   -0.8027</td> <td>    0.011</td> <td>  -70.763</td> <td> 0.000</td> <td>   -0.825</td> <td>   -0.780</td>\n",
              "</tr>\n",
              "<tr>\n",
              "  <th>V13</th>   <td>   -0.3413</td> <td>    0.009</td> <td>  -36.212</td> <td> 0.000</td> <td>   -0.360</td> <td>   -0.323</td>\n",
              "</tr>\n",
              "<tr>\n",
              "  <th>V14</th>   <td>   -1.1257</td> <td>    0.011</td> <td> -103.929</td> <td> 0.000</td> <td>   -1.147</td> <td>   -1.104</td>\n",
              "</tr>\n",
              "<tr>\n",
              "  <th>V16</th>   <td>   -0.5810</td> <td>    0.014</td> <td>  -42.809</td> <td> 0.000</td> <td>   -0.608</td> <td>   -0.554</td>\n",
              "</tr>\n",
              "<tr>\n",
              "  <th>V17</th>   <td>   -0.5883</td> <td>    0.016</td> <td>  -37.281</td> <td> 0.000</td> <td>   -0.619</td> <td>   -0.557</td>\n",
              "</tr>\n",
              "<tr>\n",
              "  <th>V22</th>   <td>    0.2893</td> <td>    0.013</td> <td>   21.768</td> <td> 0.000</td> <td>    0.263</td> <td>    0.315</td>\n",
              "</tr>\n",
              "<tr>\n",
              "  <th>V26</th>   <td>   -0.6555</td> <td>    0.025</td> <td>  -26.361</td> <td> 0.000</td> <td>   -0.704</td> <td>   -0.607</td>\n",
              "</tr>\n",
              "<tr>\n",
              "  <th>V27</th>   <td>    0.6261</td> <td>    0.024</td> <td>   25.587</td> <td> 0.000</td> <td>    0.578</td> <td>    0.674</td>\n",
              "</tr>\n",
              "<tr>\n",
              "  <th>V28</th>   <td>    0.3875</td> <td>    0.025</td> <td>   15.341</td> <td> 0.000</td> <td>    0.338</td> <td>    0.437</td>\n",
              "</tr>\n",
              "</table>"
            ],
            "text/plain": [
              "<class 'statsmodels.iolib.summary.Summary'>\n",
              "\"\"\"\n",
              "                 Generalized Linear Model Regression Results                  \n",
              "==============================================================================\n",
              "Dep. Variable:                      y   No. Observations:               398090\n",
              "Model:                            GLM   Df Residuals:                   398074\n",
              "Model Family:                Binomial   Df Model:                           15\n",
              "Link Function:                  logit   Scale:                          1.0000\n",
              "Method:                          IRLS   Log-Likelihood:                    nan\n",
              "Date:                Tue, 14 Sep 2021   Deviance:                          nan\n",
              "Time:                        18:39:23   Pearson chi2:                 6.47e+16\n",
              "No. Iterations:                   100                                         \n",
              "Covariance Type:            nonrobust                                         \n",
              "==============================================================================\n",
              "                 coef    std err          z      P>|z|      [0.025      0.975]\n",
              "------------------------------------------------------------------------------\n",
              "const         -3.6288      0.015   -241.037      0.000      -3.658      -3.599\n",
              "V4             0.8902      0.008    116.158      0.000       0.875       0.905\n",
              "V5             0.3086      0.006     52.104      0.000       0.297       0.320\n",
              "V8            -0.4564      0.006    -70.859      0.000      -0.469      -0.444\n",
              "V9            -0.3497      0.010    -33.429      0.000      -0.370      -0.329\n",
              "V10           -0.6547      0.013    -52.295      0.000      -0.679      -0.630\n",
              "V11            0.6712      0.010     66.676      0.000       0.651       0.691\n",
              "V12           -0.8027      0.011    -70.763      0.000      -0.825      -0.780\n",
              "V13           -0.3413      0.009    -36.212      0.000      -0.360      -0.323\n",
              "V14           -1.1257      0.011   -103.929      0.000      -1.147      -1.104\n",
              "V16           -0.5810      0.014    -42.809      0.000      -0.608      -0.554\n",
              "V17           -0.5883      0.016    -37.281      0.000      -0.619      -0.557\n",
              "V22            0.2893      0.013     21.768      0.000       0.263       0.315\n",
              "V26           -0.6555      0.025    -26.361      0.000      -0.704      -0.607\n",
              "V27            0.6261      0.024     25.587      0.000       0.578       0.674\n",
              "V28            0.3875      0.025     15.341      0.000       0.338       0.437\n",
              "==============================================================================\n",
              "\"\"\""
            ]
          },
          "metadata": {},
          "execution_count": 158
        }
      ]
    },
    {
      "cell_type": "code",
      "metadata": {
        "id": "Wz5IC1-TS-7K"
      },
      "source": [
        "y_train_pred = get_prediction_dataset(res,X_train_sm,y_train_SMOTE,0.5)"
      ],
      "execution_count": 161,
      "outputs": []
    },
    {
      "cell_type": "markdown",
      "metadata": {
        "id": "SLt1ssnbHI46"
      },
      "source": [
        "### creating the confusion matrix"
      ]
    },
    {
      "cell_type": "code",
      "metadata": {
        "colab": {
          "base_uri": "https://localhost:8080/",
          "height": 417
        },
        "id": "Rn9WqLkam8RD",
        "outputId": "ef80f2cb-2f8c-4a21-a022-8b9f1fa4032e"
      },
      "source": [
        "y_train_pred"
      ],
      "execution_count": 162,
      "outputs": [
        {
          "output_type": "execute_result",
          "data": {
            "text/html": [
              "<div>\n",
              "<style scoped>\n",
              "    .dataframe tbody tr th:only-of-type {\n",
              "        vertical-align: middle;\n",
              "    }\n",
              "\n",
              "    .dataframe tbody tr th {\n",
              "        vertical-align: top;\n",
              "    }\n",
              "\n",
              "    .dataframe thead th {\n",
              "        text-align: right;\n",
              "    }\n",
              "</style>\n",
              "<table border=\"1\" class=\"dataframe\">\n",
              "  <thead>\n",
              "    <tr style=\"text-align: right;\">\n",
              "      <th></th>\n",
              "      <th>Fraud</th>\n",
              "      <th>Fraud_Porb</th>\n",
              "      <th>predicted</th>\n",
              "    </tr>\n",
              "  </thead>\n",
              "  <tbody>\n",
              "    <tr>\n",
              "      <th>0</th>\n",
              "      <td>0</td>\n",
              "      <td>0.011857</td>\n",
              "      <td>0</td>\n",
              "    </tr>\n",
              "    <tr>\n",
              "      <th>1</th>\n",
              "      <td>0</td>\n",
              "      <td>0.004461</td>\n",
              "      <td>0</td>\n",
              "    </tr>\n",
              "    <tr>\n",
              "      <th>2</th>\n",
              "      <td>0</td>\n",
              "      <td>0.037894</td>\n",
              "      <td>0</td>\n",
              "    </tr>\n",
              "    <tr>\n",
              "      <th>3</th>\n",
              "      <td>0</td>\n",
              "      <td>0.015795</td>\n",
              "      <td>0</td>\n",
              "    </tr>\n",
              "    <tr>\n",
              "      <th>4</th>\n",
              "      <td>0</td>\n",
              "      <td>0.003511</td>\n",
              "      <td>0</td>\n",
              "    </tr>\n",
              "    <tr>\n",
              "      <th>...</th>\n",
              "      <td>...</td>\n",
              "      <td>...</td>\n",
              "      <td>...</td>\n",
              "    </tr>\n",
              "    <tr>\n",
              "      <th>398085</th>\n",
              "      <td>1</td>\n",
              "      <td>1.000000</td>\n",
              "      <td>1</td>\n",
              "    </tr>\n",
              "    <tr>\n",
              "      <th>398086</th>\n",
              "      <td>1</td>\n",
              "      <td>1.000000</td>\n",
              "      <td>1</td>\n",
              "    </tr>\n",
              "    <tr>\n",
              "      <th>398087</th>\n",
              "      <td>1</td>\n",
              "      <td>0.610913</td>\n",
              "      <td>1</td>\n",
              "    </tr>\n",
              "    <tr>\n",
              "      <th>398088</th>\n",
              "      <td>1</td>\n",
              "      <td>1.000000</td>\n",
              "      <td>1</td>\n",
              "    </tr>\n",
              "    <tr>\n",
              "      <th>398089</th>\n",
              "      <td>1</td>\n",
              "      <td>0.990013</td>\n",
              "      <td>1</td>\n",
              "    </tr>\n",
              "  </tbody>\n",
              "</table>\n",
              "<p>398090 rows × 3 columns</p>\n",
              "</div>"
            ],
            "text/plain": [
              "        Fraud  Fraud_Porb  predicted\n",
              "0           0    0.011857          0\n",
              "1           0    0.004461          0\n",
              "2           0    0.037894          0\n",
              "3           0    0.015795          0\n",
              "4           0    0.003511          0\n",
              "...       ...         ...        ...\n",
              "398085      1    1.000000          1\n",
              "398086      1    1.000000          1\n",
              "398087      1    0.610913          1\n",
              "398088      1    1.000000          1\n",
              "398089      1    0.990013          1\n",
              "\n",
              "[398090 rows x 3 columns]"
            ]
          },
          "metadata": {},
          "execution_count": 162
        }
      ]
    },
    {
      "cell_type": "code",
      "metadata": {
        "id": "9cNJG6yal4gJ",
        "colab": {
          "base_uri": "https://localhost:8080/"
        },
        "outputId": "754baa47-bdb8-48b4-8fe6-c5f6f6b992d7"
      },
      "source": [
        "confusion = get_confusion_matrix(y_train_pred)\n",
        "print(confusion)"
      ],
      "execution_count": 163,
      "outputs": [
        {
          "output_type": "stream",
          "name": "stdout",
          "text": [
            "[[188227  10798]\n",
            " [ 27197 171828]]\n"
          ]
        }
      ]
    },
    {
      "cell_type": "code",
      "metadata": {
        "id": "H9vBIsXNmFsH",
        "colab": {
          "base_uri": "https://localhost:8080/"
        },
        "outputId": "04ca9105-b626-4593-b2c9-44c9b623d942"
      },
      "source": [
        "print(get_accuracy(y_train_pred))"
      ],
      "execution_count": 164,
      "outputs": [
        {
          "output_type": "stream",
          "name": "stdout",
          "text": [
            "0.9541460473762214\n"
          ]
        }
      ]
    },
    {
      "cell_type": "code",
      "metadata": {
        "id": "VBflSMTDmIqe",
        "colab": {
          "base_uri": "https://localhost:8080/"
        },
        "outputId": "7abc7e2f-643a-462e-e723-6ebebb4b0272"
      },
      "source": [
        "get_vif(X_train_SMOTE,col)"
      ],
      "execution_count": 168,
      "outputs": [
        {
          "output_type": "stream",
          "name": "stdout",
          "text": [
            "   Features    VIF\n",
            "6       V12  23.67\n",
            "9       V16  20.92\n",
            "10      V17  20.37\n",
            "4       V10  17.62\n",
            "8       V14  15.85\n",
            "5       V11  11.84\n",
            "0        V4   7.49\n",
            "3        V9   6.05\n",
            "1        V5   4.95\n",
            "13      V27   2.00\n",
            "2        V8   1.78\n",
            "11      V22   1.45\n",
            "14      V28   1.26\n",
            "12      V26   1.12\n",
            "7       V13   1.09\n"
          ]
        }
      ]
    },
    {
      "cell_type": "markdown",
      "metadata": {
        "id": "Ea-1xpTQHq0B"
      },
      "source": [
        "### dropping the column V12 from the dataset as it has very high VIF value"
      ]
    },
    {
      "cell_type": "code",
      "metadata": {
        "id": "daBsrnZVnh5D",
        "colab": {
          "base_uri": "https://localhost:8080/"
        },
        "outputId": "1448ed80-9232-4f5e-f032-3e8774b52b5a"
      },
      "source": [
        "col = col.drop('V12', 1)\n",
        "col"
      ],
      "execution_count": 169,
      "outputs": [
        {
          "output_type": "execute_result",
          "data": {
            "text/plain": [
              "Index(['V4', 'V5', 'V8', 'V9', 'V10', 'V11', 'V13', 'V14', 'V16', 'V17', 'V22',\n",
              "       'V26', 'V27', 'V28'],\n",
              "      dtype='object')"
            ]
          },
          "metadata": {},
          "execution_count": 169
        }
      ]
    },
    {
      "cell_type": "code",
      "metadata": {
        "id": "BtiuFQbdnxsq",
        "colab": {
          "base_uri": "https://localhost:8080/",
          "height": 547
        },
        "outputId": "466dbbb6-d5fe-4e2b-9f18-60a92ca6e87b"
      },
      "source": [
        "# Let's re-run the model using the selected variables\n",
        "res,X_train_sm = get_logistic_model(X_train_SMOTE,col,y_train_SMOTE)\n",
        "res.summary()"
      ],
      "execution_count": 170,
      "outputs": [
        {
          "output_type": "execute_result",
          "data": {
            "text/html": [
              "<table class=\"simpletable\">\n",
              "<caption>Generalized Linear Model Regression Results</caption>\n",
              "<tr>\n",
              "  <th>Dep. Variable:</th>           <td>y</td>        <th>  No. Observations:  </th>  <td>398090</td> \n",
              "</tr>\n",
              "<tr>\n",
              "  <th>Model:</th>                  <td>GLM</td>       <th>  Df Residuals:      </th>  <td>398075</td> \n",
              "</tr>\n",
              "<tr>\n",
              "  <th>Model Family:</th>        <td>Binomial</td>     <th>  Df Model:          </th>  <td>    14</td> \n",
              "</tr>\n",
              "<tr>\n",
              "  <th>Link Function:</th>         <td>logit</td>      <th>  Scale:             </th> <td>  1.0000</td>\n",
              "</tr>\n",
              "<tr>\n",
              "  <th>Method:</th>                <td>IRLS</td>       <th>  Log-Likelihood:    </th> <td>     nan</td>\n",
              "</tr>\n",
              "<tr>\n",
              "  <th>Date:</th>            <td>Tue, 14 Sep 2021</td> <th>  Deviance:          </th> <td>     nan</td>\n",
              "</tr>\n",
              "<tr>\n",
              "  <th>Time:</th>                <td>18:44:39</td>     <th>  Pearson chi2:      </th> <td>1.52e+16</td>\n",
              "</tr>\n",
              "<tr>\n",
              "  <th>No. Iterations:</th>         <td>100</td>       <th>                     </th>     <td> </td>   \n",
              "</tr>\n",
              "<tr>\n",
              "  <th>Covariance Type:</th>     <td>nonrobust</td>    <th>                     </th>     <td> </td>   \n",
              "</tr>\n",
              "</table>\n",
              "<table class=\"simpletable\">\n",
              "<tr>\n",
              "    <td></td>       <th>coef</th>     <th>std err</th>      <th>z</th>      <th>P>|z|</th>  <th>[0.025</th>    <th>0.975]</th>  \n",
              "</tr>\n",
              "<tr>\n",
              "  <th>const</th> <td>   -3.6410</td> <td>    0.015</td> <td> -241.820</td> <td> 0.000</td> <td>   -3.670</td> <td>   -3.611</td>\n",
              "</tr>\n",
              "<tr>\n",
              "  <th>V4</th>    <td>    0.9703</td> <td>    0.008</td> <td>  128.555</td> <td> 0.000</td> <td>    0.955</td> <td>    0.985</td>\n",
              "</tr>\n",
              "<tr>\n",
              "  <th>V5</th>    <td>    0.3300</td> <td>    0.006</td> <td>   53.327</td> <td> 0.000</td> <td>    0.318</td> <td>    0.342</td>\n",
              "</tr>\n",
              "<tr>\n",
              "  <th>V8</th>    <td>   -0.4412</td> <td>    0.006</td> <td>  -72.535</td> <td> 0.000</td> <td>   -0.453</td> <td>   -0.429</td>\n",
              "</tr>\n",
              "<tr>\n",
              "  <th>V9</th>    <td>   -0.2603</td> <td>    0.011</td> <td>  -24.231</td> <td> 0.000</td> <td>   -0.281</td> <td>   -0.239</td>\n",
              "</tr>\n",
              "<tr>\n",
              "  <th>V10</th>   <td>   -0.6191</td> <td>    0.011</td> <td>  -54.094</td> <td> 0.000</td> <td>   -0.641</td> <td>   -0.597</td>\n",
              "</tr>\n",
              "<tr>\n",
              "  <th>V11</th>   <td>    0.5510</td> <td>    0.009</td> <td>   60.854</td> <td> 0.000</td> <td>    0.533</td> <td>    0.569</td>\n",
              "</tr>\n",
              "<tr>\n",
              "  <th>V13</th>   <td>   -0.3673</td> <td>    0.010</td> <td>  -38.004</td> <td> 0.000</td> <td>   -0.386</td> <td>   -0.348</td>\n",
              "</tr>\n",
              "<tr>\n",
              "  <th>V14</th>   <td>   -1.0420</td> <td>    0.010</td> <td> -108.651</td> <td> 0.000</td> <td>   -1.061</td> <td>   -1.023</td>\n",
              "</tr>\n",
              "<tr>\n",
              "  <th>V16</th>   <td>   -0.4405</td> <td>    0.011</td> <td>  -39.168</td> <td> 0.000</td> <td>   -0.463</td> <td>   -0.418</td>\n",
              "</tr>\n",
              "<tr>\n",
              "  <th>V17</th>   <td>   -0.3432</td> <td>    0.010</td> <td>  -33.345</td> <td> 0.000</td> <td>   -0.363</td> <td>   -0.323</td>\n",
              "</tr>\n",
              "<tr>\n",
              "  <th>V22</th>   <td>    0.2626</td> <td>    0.013</td> <td>   20.578</td> <td> 0.000</td> <td>    0.238</td> <td>    0.288</td>\n",
              "</tr>\n",
              "<tr>\n",
              "  <th>V26</th>   <td>   -0.5529</td> <td>    0.023</td> <td>  -24.099</td> <td> 0.000</td> <td>   -0.598</td> <td>   -0.508</td>\n",
              "</tr>\n",
              "<tr>\n",
              "  <th>V27</th>   <td>    0.3436</td> <td>    0.023</td> <td>   14.705</td> <td> 0.000</td> <td>    0.298</td> <td>    0.389</td>\n",
              "</tr>\n",
              "<tr>\n",
              "  <th>V28</th>   <td>    0.2125</td> <td>    0.024</td> <td>    8.788</td> <td> 0.000</td> <td>    0.165</td> <td>    0.260</td>\n",
              "</tr>\n",
              "</table>"
            ],
            "text/plain": [
              "<class 'statsmodels.iolib.summary.Summary'>\n",
              "\"\"\"\n",
              "                 Generalized Linear Model Regression Results                  \n",
              "==============================================================================\n",
              "Dep. Variable:                      y   No. Observations:               398090\n",
              "Model:                            GLM   Df Residuals:                   398075\n",
              "Model Family:                Binomial   Df Model:                           14\n",
              "Link Function:                  logit   Scale:                          1.0000\n",
              "Method:                          IRLS   Log-Likelihood:                    nan\n",
              "Date:                Tue, 14 Sep 2021   Deviance:                          nan\n",
              "Time:                        18:44:39   Pearson chi2:                 1.52e+16\n",
              "No. Iterations:                   100                                         \n",
              "Covariance Type:            nonrobust                                         \n",
              "==============================================================================\n",
              "                 coef    std err          z      P>|z|      [0.025      0.975]\n",
              "------------------------------------------------------------------------------\n",
              "const         -3.6410      0.015   -241.820      0.000      -3.670      -3.611\n",
              "V4             0.9703      0.008    128.555      0.000       0.955       0.985\n",
              "V5             0.3300      0.006     53.327      0.000       0.318       0.342\n",
              "V8            -0.4412      0.006    -72.535      0.000      -0.453      -0.429\n",
              "V9            -0.2603      0.011    -24.231      0.000      -0.281      -0.239\n",
              "V10           -0.6191      0.011    -54.094      0.000      -0.641      -0.597\n",
              "V11            0.5510      0.009     60.854      0.000       0.533       0.569\n",
              "V13           -0.3673      0.010    -38.004      0.000      -0.386      -0.348\n",
              "V14           -1.0420      0.010   -108.651      0.000      -1.061      -1.023\n",
              "V16           -0.4405      0.011    -39.168      0.000      -0.463      -0.418\n",
              "V17           -0.3432      0.010    -33.345      0.000      -0.363      -0.323\n",
              "V22            0.2626      0.013     20.578      0.000       0.238       0.288\n",
              "V26           -0.5529      0.023    -24.099      0.000      -0.598      -0.508\n",
              "V27            0.3436      0.023     14.705      0.000       0.298       0.389\n",
              "V28            0.2125      0.024      8.788      0.000       0.165       0.260\n",
              "==============================================================================\n",
              "\"\"\""
            ]
          },
          "metadata": {},
          "execution_count": 170
        }
      ]
    },
    {
      "cell_type": "code",
      "metadata": {
        "id": "Qa79ls5dn55J",
        "colab": {
          "base_uri": "https://localhost:8080/",
          "height": 203
        },
        "outputId": "23d5988d-090b-4893-f583-8505ed568d53"
      },
      "source": [
        "y_train_pred = get_prediction_dataset(res,X_train_sm,y_train_SMOTE,0.5)\n",
        "y_train_pred.head()"
      ],
      "execution_count": 171,
      "outputs": [
        {
          "output_type": "execute_result",
          "data": {
            "text/html": [
              "<div>\n",
              "<style scoped>\n",
              "    .dataframe tbody tr th:only-of-type {\n",
              "        vertical-align: middle;\n",
              "    }\n",
              "\n",
              "    .dataframe tbody tr th {\n",
              "        vertical-align: top;\n",
              "    }\n",
              "\n",
              "    .dataframe thead th {\n",
              "        text-align: right;\n",
              "    }\n",
              "</style>\n",
              "<table border=\"1\" class=\"dataframe\">\n",
              "  <thead>\n",
              "    <tr style=\"text-align: right;\">\n",
              "      <th></th>\n",
              "      <th>Fraud</th>\n",
              "      <th>Fraud_Porb</th>\n",
              "      <th>predicted</th>\n",
              "    </tr>\n",
              "  </thead>\n",
              "  <tbody>\n",
              "    <tr>\n",
              "      <th>0</th>\n",
              "      <td>0</td>\n",
              "      <td>0.017210</td>\n",
              "      <td>0</td>\n",
              "    </tr>\n",
              "    <tr>\n",
              "      <th>1</th>\n",
              "      <td>0</td>\n",
              "      <td>0.003434</td>\n",
              "      <td>0</td>\n",
              "    </tr>\n",
              "    <tr>\n",
              "      <th>2</th>\n",
              "      <td>0</td>\n",
              "      <td>0.025413</td>\n",
              "      <td>0</td>\n",
              "    </tr>\n",
              "    <tr>\n",
              "      <th>3</th>\n",
              "      <td>0</td>\n",
              "      <td>0.023263</td>\n",
              "      <td>0</td>\n",
              "    </tr>\n",
              "    <tr>\n",
              "      <th>4</th>\n",
              "      <td>0</td>\n",
              "      <td>0.002745</td>\n",
              "      <td>0</td>\n",
              "    </tr>\n",
              "  </tbody>\n",
              "</table>\n",
              "</div>"
            ],
            "text/plain": [
              "   Fraud  Fraud_Porb  predicted\n",
              "0      0    0.017210          0\n",
              "1      0    0.003434          0\n",
              "2      0    0.025413          0\n",
              "3      0    0.023263          0\n",
              "4      0    0.002745          0"
            ]
          },
          "metadata": {},
          "execution_count": 171
        }
      ]
    },
    {
      "cell_type": "code",
      "metadata": {
        "id": "gBxSxo6koYHR",
        "colab": {
          "base_uri": "https://localhost:8080/"
        },
        "outputId": "6d2d078a-4ad2-481d-ee49-9fc46857d5a8"
      },
      "source": [
        "print(get_accuracy(y_train_pred))"
      ],
      "execution_count": 172,
      "outputs": [
        {
          "output_type": "stream",
          "name": "stdout",
          "text": [
            "0.9506895425657514\n"
          ]
        }
      ]
    },
    {
      "cell_type": "code",
      "metadata": {
        "id": "nSESIS-ioa6-",
        "colab": {
          "base_uri": "https://localhost:8080/"
        },
        "outputId": "3b92d312-2d54-40d5-d749-a3972d8bb4b7"
      },
      "source": [
        "get_vif(X_train_SMOTE,col)"
      ],
      "execution_count": 174,
      "outputs": [
        {
          "output_type": "stream",
          "name": "stdout",
          "text": [
            "   Features    VIF\n",
            "8       V16  20.20\n",
            "9       V17  19.71\n",
            "4       V10  16.50\n",
            "7       V14  14.57\n",
            "5       V11  10.77\n",
            "0        V4   7.19\n",
            "3        V9   5.99\n",
            "1        V5   4.89\n",
            "12      V27   1.98\n",
            "2        V8   1.78\n",
            "10      V22   1.45\n",
            "13      V28   1.26\n",
            "11      V26   1.11\n",
            "6       V13   1.09\n"
          ]
        }
      ]
    },
    {
      "cell_type": "code",
      "metadata": {
        "id": "YI5GmkekoiG7",
        "colab": {
          "base_uri": "https://localhost:8080/"
        },
        "outputId": "c814a021-d136-46e9-db0a-5dc5657f0a1d"
      },
      "source": [
        "col = col.drop('V16', 1)\n",
        "col"
      ],
      "execution_count": 175,
      "outputs": [
        {
          "output_type": "execute_result",
          "data": {
            "text/plain": [
              "Index(['V4', 'V5', 'V8', 'V9', 'V10', 'V11', 'V13', 'V14', 'V17', 'V22', 'V26',\n",
              "       'V27', 'V28'],\n",
              "      dtype='object')"
            ]
          },
          "metadata": {},
          "execution_count": 175
        }
      ]
    },
    {
      "cell_type": "code",
      "metadata": {
        "id": "toRy-0gUo1K7",
        "colab": {
          "base_uri": "https://localhost:8080/",
          "height": 526
        },
        "outputId": "f48ec163-5aa0-467f-ba62-7e43f031e700"
      },
      "source": [
        "# Let's re-run the model using the selected variables\n",
        "res,X_train_sm = get_logistic_model(X_train_SMOTE,col,y_train_SMOTE)\n",
        "res.summary()"
      ],
      "execution_count": 176,
      "outputs": [
        {
          "output_type": "execute_result",
          "data": {
            "text/html": [
              "<table class=\"simpletable\">\n",
              "<caption>Generalized Linear Model Regression Results</caption>\n",
              "<tr>\n",
              "  <th>Dep. Variable:</th>           <td>y</td>        <th>  No. Observations:  </th>  <td>398090</td> \n",
              "</tr>\n",
              "<tr>\n",
              "  <th>Model:</th>                  <td>GLM</td>       <th>  Df Residuals:      </th>  <td>398076</td> \n",
              "</tr>\n",
              "<tr>\n",
              "  <th>Model Family:</th>        <td>Binomial</td>     <th>  Df Model:          </th>  <td>    13</td> \n",
              "</tr>\n",
              "<tr>\n",
              "  <th>Link Function:</th>         <td>logit</td>      <th>  Scale:             </th> <td>  1.0000</td>\n",
              "</tr>\n",
              "<tr>\n",
              "  <th>Method:</th>                <td>IRLS</td>       <th>  Log-Likelihood:    </th> <td>     nan</td>\n",
              "</tr>\n",
              "<tr>\n",
              "  <th>Date:</th>            <td>Tue, 14 Sep 2021</td> <th>  Deviance:          </th> <td>     nan</td>\n",
              "</tr>\n",
              "<tr>\n",
              "  <th>Time:</th>                <td>18:45:56</td>     <th>  Pearson chi2:      </th> <td>1.03e+15</td>\n",
              "</tr>\n",
              "<tr>\n",
              "  <th>No. Iterations:</th>         <td>100</td>       <th>                     </th>     <td> </td>   \n",
              "</tr>\n",
              "<tr>\n",
              "  <th>Covariance Type:</th>     <td>nonrobust</td>    <th>                     </th>     <td> </td>   \n",
              "</tr>\n",
              "</table>\n",
              "<table class=\"simpletable\">\n",
              "<tr>\n",
              "    <td></td>       <th>coef</th>     <th>std err</th>      <th>z</th>      <th>P>|z|</th>  <th>[0.025</th>    <th>0.975]</th>  \n",
              "</tr>\n",
              "<tr>\n",
              "  <th>const</th> <td>   -3.6224</td> <td>    0.015</td> <td> -243.436</td> <td> 0.000</td> <td>   -3.652</td> <td>   -3.593</td>\n",
              "</tr>\n",
              "<tr>\n",
              "  <th>V4</th>    <td>    0.9652</td> <td>    0.007</td> <td>  132.843</td> <td> 0.000</td> <td>    0.951</td> <td>    0.979</td>\n",
              "</tr>\n",
              "<tr>\n",
              "  <th>V5</th>    <td>    0.3195</td> <td>    0.006</td> <td>   53.378</td> <td> 0.000</td> <td>    0.308</td> <td>    0.331</td>\n",
              "</tr>\n",
              "<tr>\n",
              "  <th>V8</th>    <td>   -0.4225</td> <td>    0.006</td> <td>  -72.348</td> <td> 0.000</td> <td>   -0.434</td> <td>   -0.411</td>\n",
              "</tr>\n",
              "<tr>\n",
              "  <th>V9</th>    <td>   -0.2113</td> <td>    0.011</td> <td>  -19.732</td> <td> 0.000</td> <td>   -0.232</td> <td>   -0.190</td>\n",
              "</tr>\n",
              "<tr>\n",
              "  <th>V10</th>   <td>   -0.6464</td> <td>    0.011</td> <td>  -57.800</td> <td> 0.000</td> <td>   -0.668</td> <td>   -0.624</td>\n",
              "</tr>\n",
              "<tr>\n",
              "  <th>V11</th>   <td>    0.5402</td> <td>    0.009</td> <td>   60.427</td> <td> 0.000</td> <td>    0.523</td> <td>    0.558</td>\n",
              "</tr>\n",
              "<tr>\n",
              "  <th>V13</th>   <td>   -0.3768</td> <td>    0.010</td> <td>  -39.281</td> <td> 0.000</td> <td>   -0.396</td> <td>   -0.358</td>\n",
              "</tr>\n",
              "<tr>\n",
              "  <th>V14</th>   <td>   -1.0096</td> <td>    0.009</td> <td> -109.301</td> <td> 0.000</td> <td>   -1.028</td> <td>   -0.991</td>\n",
              "</tr>\n",
              "<tr>\n",
              "  <th>V17</th>   <td>   -0.3670</td> <td>    0.009</td> <td>  -40.961</td> <td> 0.000</td> <td>   -0.385</td> <td>   -0.349</td>\n",
              "</tr>\n",
              "<tr>\n",
              "  <th>V22</th>   <td>    0.3263</td> <td>    0.013</td> <td>   26.055</td> <td> 0.000</td> <td>    0.302</td> <td>    0.351</td>\n",
              "</tr>\n",
              "<tr>\n",
              "  <th>V26</th>   <td>   -0.5666</td> <td>    0.023</td> <td>  -24.927</td> <td> 0.000</td> <td>   -0.611</td> <td>   -0.522</td>\n",
              "</tr>\n",
              "<tr>\n",
              "  <th>V27</th>   <td>    0.3097</td> <td>    0.023</td> <td>   13.345</td> <td> 0.000</td> <td>    0.264</td> <td>    0.355</td>\n",
              "</tr>\n",
              "<tr>\n",
              "  <th>V28</th>   <td>    0.2219</td> <td>    0.026</td> <td>    8.676</td> <td> 0.000</td> <td>    0.172</td> <td>    0.272</td>\n",
              "</tr>\n",
              "</table>"
            ],
            "text/plain": [
              "<class 'statsmodels.iolib.summary.Summary'>\n",
              "\"\"\"\n",
              "                 Generalized Linear Model Regression Results                  \n",
              "==============================================================================\n",
              "Dep. Variable:                      y   No. Observations:               398090\n",
              "Model:                            GLM   Df Residuals:                   398076\n",
              "Model Family:                Binomial   Df Model:                           13\n",
              "Link Function:                  logit   Scale:                          1.0000\n",
              "Method:                          IRLS   Log-Likelihood:                    nan\n",
              "Date:                Tue, 14 Sep 2021   Deviance:                          nan\n",
              "Time:                        18:45:56   Pearson chi2:                 1.03e+15\n",
              "No. Iterations:                   100                                         \n",
              "Covariance Type:            nonrobust                                         \n",
              "==============================================================================\n",
              "                 coef    std err          z      P>|z|      [0.025      0.975]\n",
              "------------------------------------------------------------------------------\n",
              "const         -3.6224      0.015   -243.436      0.000      -3.652      -3.593\n",
              "V4             0.9652      0.007    132.843      0.000       0.951       0.979\n",
              "V5             0.3195      0.006     53.378      0.000       0.308       0.331\n",
              "V8            -0.4225      0.006    -72.348      0.000      -0.434      -0.411\n",
              "V9            -0.2113      0.011    -19.732      0.000      -0.232      -0.190\n",
              "V10           -0.6464      0.011    -57.800      0.000      -0.668      -0.624\n",
              "V11            0.5402      0.009     60.427      0.000       0.523       0.558\n",
              "V13           -0.3768      0.010    -39.281      0.000      -0.396      -0.358\n",
              "V14           -1.0096      0.009   -109.301      0.000      -1.028      -0.991\n",
              "V17           -0.3670      0.009    -40.961      0.000      -0.385      -0.349\n",
              "V22            0.3263      0.013     26.055      0.000       0.302       0.351\n",
              "V26           -0.5666      0.023    -24.927      0.000      -0.611      -0.522\n",
              "V27            0.3097      0.023     13.345      0.000       0.264       0.355\n",
              "V28            0.2219      0.026      8.676      0.000       0.172       0.272\n",
              "==============================================================================\n",
              "\"\"\""
            ]
          },
          "metadata": {},
          "execution_count": 176
        }
      ]
    },
    {
      "cell_type": "code",
      "metadata": {
        "id": "YfGNBmjOo-GN",
        "colab": {
          "base_uri": "https://localhost:8080/",
          "height": 203
        },
        "outputId": "7fd32a87-3b67-44e4-9fd2-8741e5370cc2"
      },
      "source": [
        "y_train_pred = get_prediction_dataset(res,X_train_sm,y_train_SMOTE,0.5)\n",
        "y_train_pred.head()"
      ],
      "execution_count": 177,
      "outputs": [
        {
          "output_type": "execute_result",
          "data": {
            "text/html": [
              "<div>\n",
              "<style scoped>\n",
              "    .dataframe tbody tr th:only-of-type {\n",
              "        vertical-align: middle;\n",
              "    }\n",
              "\n",
              "    .dataframe tbody tr th {\n",
              "        vertical-align: top;\n",
              "    }\n",
              "\n",
              "    .dataframe thead th {\n",
              "        text-align: right;\n",
              "    }\n",
              "</style>\n",
              "<table border=\"1\" class=\"dataframe\">\n",
              "  <thead>\n",
              "    <tr style=\"text-align: right;\">\n",
              "      <th></th>\n",
              "      <th>Fraud</th>\n",
              "      <th>Fraud_Porb</th>\n",
              "      <th>predicted</th>\n",
              "    </tr>\n",
              "  </thead>\n",
              "  <tbody>\n",
              "    <tr>\n",
              "      <th>0</th>\n",
              "      <td>0</td>\n",
              "      <td>0.020710</td>\n",
              "      <td>0</td>\n",
              "    </tr>\n",
              "    <tr>\n",
              "      <th>1</th>\n",
              "      <td>0</td>\n",
              "      <td>0.004646</td>\n",
              "      <td>0</td>\n",
              "    </tr>\n",
              "    <tr>\n",
              "      <th>2</th>\n",
              "      <td>0</td>\n",
              "      <td>0.027971</td>\n",
              "      <td>0</td>\n",
              "    </tr>\n",
              "    <tr>\n",
              "      <th>3</th>\n",
              "      <td>0</td>\n",
              "      <td>0.026755</td>\n",
              "      <td>0</td>\n",
              "    </tr>\n",
              "    <tr>\n",
              "      <th>4</th>\n",
              "      <td>0</td>\n",
              "      <td>0.004259</td>\n",
              "      <td>0</td>\n",
              "    </tr>\n",
              "  </tbody>\n",
              "</table>\n",
              "</div>"
            ],
            "text/plain": [
              "   Fraud  Fraud_Porb  predicted\n",
              "0      0    0.020710          0\n",
              "1      0    0.004646          0\n",
              "2      0    0.027971          0\n",
              "3      0    0.026755          0\n",
              "4      0    0.004259          0"
            ]
          },
          "metadata": {},
          "execution_count": 177
        }
      ]
    },
    {
      "cell_type": "code",
      "metadata": {
        "id": "vUGbXAcgpAPL",
        "colab": {
          "base_uri": "https://localhost:8080/"
        },
        "outputId": "bec8eb5f-47cb-468e-f8ab-c24e75587841"
      },
      "source": [
        "print(get_accuracy(y_train_pred))"
      ],
      "execution_count": 178,
      "outputs": [
        {
          "output_type": "stream",
          "name": "stdout",
          "text": [
            "0.9503077193599437\n"
          ]
        }
      ]
    },
    {
      "cell_type": "code",
      "metadata": {
        "id": "cewx_005pCQM",
        "colab": {
          "base_uri": "https://localhost:8080/"
        },
        "outputId": "50ca6233-6692-4cd3-8f4c-d3c89f974d0c"
      },
      "source": [
        "get_vif(X_train_SMOTE,col)"
      ],
      "execution_count": 179,
      "outputs": [
        {
          "output_type": "stream",
          "name": "stdout",
          "text": [
            "   Features    VIF\n",
            "4       V10  16.23\n",
            "7       V14  14.16\n",
            "5       V11  10.70\n",
            "8       V17   7.51\n",
            "0        V4   7.19\n",
            "3        V9   5.82\n",
            "1        V5   4.89\n",
            "11      V27   1.98\n",
            "2        V8   1.77\n",
            "9       V22   1.44\n",
            "12      V28   1.26\n",
            "10      V26   1.11\n",
            "6       V13   1.08\n"
          ]
        }
      ]
    },
    {
      "cell_type": "code",
      "metadata": {
        "id": "ED0_OOoZpR1M",
        "colab": {
          "base_uri": "https://localhost:8080/"
        },
        "outputId": "55d51fc0-886e-4ada-d4ea-e413851d7a71"
      },
      "source": [
        "col = col.drop('V10', 1)\n",
        "col"
      ],
      "execution_count": 180,
      "outputs": [
        {
          "output_type": "execute_result",
          "data": {
            "text/plain": [
              "Index(['V4', 'V5', 'V8', 'V9', 'V11', 'V13', 'V14', 'V17', 'V22', 'V26', 'V27',\n",
              "       'V28'],\n",
              "      dtype='object')"
            ]
          },
          "metadata": {},
          "execution_count": 180
        }
      ]
    },
    {
      "cell_type": "code",
      "metadata": {
        "id": "TelKBi6qpZUd",
        "colab": {
          "base_uri": "https://localhost:8080/",
          "height": 506
        },
        "outputId": "2e9f09cf-906e-4abd-a804-5e60156f0efd"
      },
      "source": [
        "# Let's re-run the model using the selected variables\n",
        "res,X_train_sm = get_logistic_model(X_train_SMOTE,col,y_train_SMOTE)\n",
        "res.summary()"
      ],
      "execution_count": 181,
      "outputs": [
        {
          "output_type": "execute_result",
          "data": {
            "text/html": [
              "<table class=\"simpletable\">\n",
              "<caption>Generalized Linear Model Regression Results</caption>\n",
              "<tr>\n",
              "  <th>Dep. Variable:</th>           <td>y</td>        <th>  No. Observations:  </th>  <td>398090</td> \n",
              "</tr>\n",
              "<tr>\n",
              "  <th>Model:</th>                  <td>GLM</td>       <th>  Df Residuals:      </th>  <td>398077</td> \n",
              "</tr>\n",
              "<tr>\n",
              "  <th>Model Family:</th>        <td>Binomial</td>     <th>  Df Model:          </th>  <td>    12</td> \n",
              "</tr>\n",
              "<tr>\n",
              "  <th>Link Function:</th>         <td>logit</td>      <th>  Scale:             </th> <td>  1.0000</td>\n",
              "</tr>\n",
              "<tr>\n",
              "  <th>Method:</th>                <td>IRLS</td>       <th>  Log-Likelihood:    </th> <td>     nan</td>\n",
              "</tr>\n",
              "<tr>\n",
              "  <th>Date:</th>            <td>Tue, 14 Sep 2021</td> <th>  Deviance:          </th> <td>     nan</td>\n",
              "</tr>\n",
              "<tr>\n",
              "  <th>Time:</th>                <td>18:46:59</td>     <th>  Pearson chi2:      </th> <td>2.10e+13</td>\n",
              "</tr>\n",
              "<tr>\n",
              "  <th>No. Iterations:</th>         <td>100</td>       <th>                     </th>     <td> </td>   \n",
              "</tr>\n",
              "<tr>\n",
              "  <th>Covariance Type:</th>     <td>nonrobust</td>    <th>                     </th>     <td> </td>   \n",
              "</tr>\n",
              "</table>\n",
              "<table class=\"simpletable\">\n",
              "<tr>\n",
              "    <td></td>       <th>coef</th>     <th>std err</th>      <th>z</th>      <th>P>|z|</th>  <th>[0.025</th>    <th>0.975]</th>  \n",
              "</tr>\n",
              "<tr>\n",
              "  <th>const</th> <td>   -3.5057</td> <td>    0.014</td> <td> -252.524</td> <td> 0.000</td> <td>   -3.533</td> <td>   -3.478</td>\n",
              "</tr>\n",
              "<tr>\n",
              "  <th>V4</th>    <td>    0.8172</td> <td>    0.006</td> <td>  138.477</td> <td> 0.000</td> <td>    0.806</td> <td>    0.829</td>\n",
              "</tr>\n",
              "<tr>\n",
              "  <th>V5</th>    <td>    0.1973</td> <td>    0.005</td> <td>   38.451</td> <td> 0.000</td> <td>    0.187</td> <td>    0.207</td>\n",
              "</tr>\n",
              "<tr>\n",
              "  <th>V8</th>    <td>   -0.3904</td> <td>    0.005</td> <td>  -75.130</td> <td> 0.000</td> <td>   -0.401</td> <td>   -0.380</td>\n",
              "</tr>\n",
              "<tr>\n",
              "  <th>V9</th>    <td>   -0.3578</td> <td>    0.009</td> <td>  -38.328</td> <td> 0.000</td> <td>   -0.376</td> <td>   -0.340</td>\n",
              "</tr>\n",
              "<tr>\n",
              "  <th>V11</th>   <td>    0.5434</td> <td>    0.009</td> <td>   62.458</td> <td> 0.000</td> <td>    0.526</td> <td>    0.560</td>\n",
              "</tr>\n",
              "<tr>\n",
              "  <th>V13</th>   <td>   -0.4013</td> <td>    0.009</td> <td>  -42.314</td> <td> 0.000</td> <td>   -0.420</td> <td>   -0.383</td>\n",
              "</tr>\n",
              "<tr>\n",
              "  <th>V14</th>   <td>   -1.2425</td> <td>    0.008</td> <td> -152.970</td> <td> 0.000</td> <td>   -1.258</td> <td>   -1.227</td>\n",
              "</tr>\n",
              "<tr>\n",
              "  <th>V17</th>   <td>   -0.3102</td> <td>    0.007</td> <td>  -42.197</td> <td> 0.000</td> <td>   -0.325</td> <td>   -0.296</td>\n",
              "</tr>\n",
              "<tr>\n",
              "  <th>V22</th>   <td>    0.2798</td> <td>    0.012</td> <td>   23.630</td> <td> 0.000</td> <td>    0.257</td> <td>    0.303</td>\n",
              "</tr>\n",
              "<tr>\n",
              "  <th>V26</th>   <td>   -0.6633</td> <td>    0.022</td> <td>  -29.954</td> <td> 0.000</td> <td>   -0.707</td> <td>   -0.620</td>\n",
              "</tr>\n",
              "<tr>\n",
              "  <th>V27</th>   <td>    0.6182</td> <td>    0.020</td> <td>   31.328</td> <td> 0.000</td> <td>    0.580</td> <td>    0.657</td>\n",
              "</tr>\n",
              "<tr>\n",
              "  <th>V28</th>   <td>    0.3799</td> <td>    0.025</td> <td>   14.955</td> <td> 0.000</td> <td>    0.330</td> <td>    0.430</td>\n",
              "</tr>\n",
              "</table>"
            ],
            "text/plain": [
              "<class 'statsmodels.iolib.summary.Summary'>\n",
              "\"\"\"\n",
              "                 Generalized Linear Model Regression Results                  \n",
              "==============================================================================\n",
              "Dep. Variable:                      y   No. Observations:               398090\n",
              "Model:                            GLM   Df Residuals:                   398077\n",
              "Model Family:                Binomial   Df Model:                           12\n",
              "Link Function:                  logit   Scale:                          1.0000\n",
              "Method:                          IRLS   Log-Likelihood:                    nan\n",
              "Date:                Tue, 14 Sep 2021   Deviance:                          nan\n",
              "Time:                        18:46:59   Pearson chi2:                 2.10e+13\n",
              "No. Iterations:                   100                                         \n",
              "Covariance Type:            nonrobust                                         \n",
              "==============================================================================\n",
              "                 coef    std err          z      P>|z|      [0.025      0.975]\n",
              "------------------------------------------------------------------------------\n",
              "const         -3.5057      0.014   -252.524      0.000      -3.533      -3.478\n",
              "V4             0.8172      0.006    138.477      0.000       0.806       0.829\n",
              "V5             0.1973      0.005     38.451      0.000       0.187       0.207\n",
              "V8            -0.3904      0.005    -75.130      0.000      -0.401      -0.380\n",
              "V9            -0.3578      0.009    -38.328      0.000      -0.376      -0.340\n",
              "V11            0.5434      0.009     62.458      0.000       0.526       0.560\n",
              "V13           -0.4013      0.009    -42.314      0.000      -0.420      -0.383\n",
              "V14           -1.2425      0.008   -152.970      0.000      -1.258      -1.227\n",
              "V17           -0.3102      0.007    -42.197      0.000      -0.325      -0.296\n",
              "V22            0.2798      0.012     23.630      0.000       0.257       0.303\n",
              "V26           -0.6633      0.022    -29.954      0.000      -0.707      -0.620\n",
              "V27            0.6182      0.020     31.328      0.000       0.580       0.657\n",
              "V28            0.3799      0.025     14.955      0.000       0.330       0.430\n",
              "==============================================================================\n",
              "\"\"\""
            ]
          },
          "metadata": {},
          "execution_count": 181
        }
      ]
    },
    {
      "cell_type": "code",
      "metadata": {
        "id": "bmVRoNS6pcHv",
        "colab": {
          "base_uri": "https://localhost:8080/",
          "height": 203
        },
        "outputId": "7296fc3d-48c3-45e1-a57f-5f9f28f13dda"
      },
      "source": [
        "y_train_pred = get_prediction_dataset(res,X_train_sm,y_train_SMOTE,0.5)\n",
        "y_train_pred.head()"
      ],
      "execution_count": 182,
      "outputs": [
        {
          "output_type": "execute_result",
          "data": {
            "text/html": [
              "<div>\n",
              "<style scoped>\n",
              "    .dataframe tbody tr th:only-of-type {\n",
              "        vertical-align: middle;\n",
              "    }\n",
              "\n",
              "    .dataframe tbody tr th {\n",
              "        vertical-align: top;\n",
              "    }\n",
              "\n",
              "    .dataframe thead th {\n",
              "        text-align: right;\n",
              "    }\n",
              "</style>\n",
              "<table border=\"1\" class=\"dataframe\">\n",
              "  <thead>\n",
              "    <tr style=\"text-align: right;\">\n",
              "      <th></th>\n",
              "      <th>Fraud</th>\n",
              "      <th>Fraud_Porb</th>\n",
              "      <th>predicted</th>\n",
              "    </tr>\n",
              "  </thead>\n",
              "  <tbody>\n",
              "    <tr>\n",
              "      <th>0</th>\n",
              "      <td>0</td>\n",
              "      <td>0.017486</td>\n",
              "      <td>0</td>\n",
              "    </tr>\n",
              "    <tr>\n",
              "      <th>1</th>\n",
              "      <td>0</td>\n",
              "      <td>0.011029</td>\n",
              "      <td>0</td>\n",
              "    </tr>\n",
              "    <tr>\n",
              "      <th>2</th>\n",
              "      <td>0</td>\n",
              "      <td>0.023412</td>\n",
              "      <td>0</td>\n",
              "    </tr>\n",
              "    <tr>\n",
              "      <th>3</th>\n",
              "      <td>0</td>\n",
              "      <td>0.017045</td>\n",
              "      <td>0</td>\n",
              "    </tr>\n",
              "    <tr>\n",
              "      <th>4</th>\n",
              "      <td>0</td>\n",
              "      <td>0.003072</td>\n",
              "      <td>0</td>\n",
              "    </tr>\n",
              "  </tbody>\n",
              "</table>\n",
              "</div>"
            ],
            "text/plain": [
              "   Fraud  Fraud_Porb  predicted\n",
              "0      0    0.017486          0\n",
              "1      0    0.011029          0\n",
              "2      0    0.023412          0\n",
              "3      0    0.017045          0\n",
              "4      0    0.003072          0"
            ]
          },
          "metadata": {},
          "execution_count": 182
        }
      ]
    },
    {
      "cell_type": "code",
      "metadata": {
        "id": "asnOJEp2psD8",
        "colab": {
          "base_uri": "https://localhost:8080/"
        },
        "outputId": "f4ff023c-c368-4eef-ce07-32b88b5c1526"
      },
      "source": [
        "print(get_accuracy(y_train_pred))"
      ],
      "execution_count": 183,
      "outputs": [
        {
          "output_type": "stream",
          "name": "stdout",
          "text": [
            "0.94592428847748\n"
          ]
        }
      ]
    },
    {
      "cell_type": "code",
      "metadata": {
        "id": "pPcwjMpZpvaA",
        "colab": {
          "base_uri": "https://localhost:8080/"
        },
        "outputId": "fd160c31-f6de-4c9c-a77c-0dd8d0430cf2"
      },
      "source": [
        "get_vif(X_train_SMOTE,col)"
      ],
      "execution_count": 184,
      "outputs": [
        {
          "output_type": "stream",
          "name": "stdout",
          "text": [
            "   Features    VIF\n",
            "6       V14  12.59\n",
            "4       V11  10.20\n",
            "0        V4   7.18\n",
            "7       V17   6.92\n",
            "3        V9   5.40\n",
            "1        V5   3.95\n",
            "10      V27   1.84\n",
            "2        V8   1.65\n",
            "8       V22   1.39\n",
            "11      V28   1.23\n",
            "9       V26   1.10\n",
            "5       V13   1.08\n"
          ]
        }
      ]
    },
    {
      "cell_type": "code",
      "metadata": {
        "id": "iged_eQCpyBj",
        "colab": {
          "base_uri": "https://localhost:8080/"
        },
        "outputId": "af52baa7-73c0-4d03-d136-a4125600e967"
      },
      "source": [
        "col = col.drop('V14', 1)\n",
        "col"
      ],
      "execution_count": 185,
      "outputs": [
        {
          "output_type": "execute_result",
          "data": {
            "text/plain": [
              "Index(['V4', 'V5', 'V8', 'V9', 'V11', 'V13', 'V17', 'V22', 'V26', 'V27',\n",
              "       'V28'],\n",
              "      dtype='object')"
            ]
          },
          "metadata": {},
          "execution_count": 185
        }
      ]
    },
    {
      "cell_type": "code",
      "metadata": {
        "id": "w4ZNXc1Fp6Dn",
        "colab": {
          "base_uri": "https://localhost:8080/",
          "height": 486
        },
        "outputId": "9e80ffa8-ee1e-4fa3-c177-aac42d697047"
      },
      "source": [
        "# Let's re-run the model using the selected variables\n",
        "res,X_train_sm = get_logistic_model(X_train_SMOTE,col,y_train_SMOTE)\n",
        "res.summary()"
      ],
      "execution_count": 186,
      "outputs": [
        {
          "output_type": "execute_result",
          "data": {
            "text/html": [
              "<table class=\"simpletable\">\n",
              "<caption>Generalized Linear Model Regression Results</caption>\n",
              "<tr>\n",
              "  <th>Dep. Variable:</th>           <td>y</td>        <th>  No. Observations:  </th>  <td>398090</td> \n",
              "</tr>\n",
              "<tr>\n",
              "  <th>Model:</th>                  <td>GLM</td>       <th>  Df Residuals:      </th>  <td>398078</td> \n",
              "</tr>\n",
              "<tr>\n",
              "  <th>Model Family:</th>        <td>Binomial</td>     <th>  Df Model:          </th>  <td>    11</td> \n",
              "</tr>\n",
              "<tr>\n",
              "  <th>Link Function:</th>         <td>logit</td>      <th>  Scale:             </th> <td>  1.0000</td>\n",
              "</tr>\n",
              "<tr>\n",
              "  <th>Method:</th>                <td>IRLS</td>       <th>  Log-Likelihood:    </th> <td>     nan</td>\n",
              "</tr>\n",
              "<tr>\n",
              "  <th>Date:</th>            <td>Tue, 14 Sep 2021</td> <th>  Deviance:          </th> <td>     inf</td>\n",
              "</tr>\n",
              "<tr>\n",
              "  <th>Time:</th>                <td>18:48:15</td>     <th>  Pearson chi2:      </th> <td>4.50e+15</td>\n",
              "</tr>\n",
              "<tr>\n",
              "  <th>No. Iterations:</th>          <td>6</td>        <th>                     </th>     <td> </td>   \n",
              "</tr>\n",
              "<tr>\n",
              "  <th>Covariance Type:</th>     <td>nonrobust</td>    <th>                     </th>     <td> </td>   \n",
              "</tr>\n",
              "</table>\n",
              "<table class=\"simpletable\">\n",
              "<tr>\n",
              "    <td></td>       <th>coef</th>     <th>std err</th>      <th>z</th>      <th>P>|z|</th>  <th>[0.025</th>    <th>0.975]</th>  \n",
              "</tr>\n",
              "<tr>\n",
              "  <th>const</th> <td>   -3.0254</td> <td>    0.011</td> <td> -272.127</td> <td> 0.000</td> <td>   -3.047</td> <td>   -3.004</td>\n",
              "</tr>\n",
              "<tr>\n",
              "  <th>V4</th>    <td>    0.9530</td> <td>    0.005</td> <td>  188.551</td> <td> 0.000</td> <td>    0.943</td> <td>    0.963</td>\n",
              "</tr>\n",
              "<tr>\n",
              "  <th>V5</th>    <td>    0.0833</td> <td>    0.004</td> <td>   20.288</td> <td> 0.000</td> <td>    0.075</td> <td>    0.091</td>\n",
              "</tr>\n",
              "<tr>\n",
              "  <th>V8</th>    <td>   -0.3916</td> <td>    0.004</td> <td>  -91.445</td> <td> 0.000</td> <td>   -0.400</td> <td>   -0.383</td>\n",
              "</tr>\n",
              "<tr>\n",
              "  <th>V9</th>    <td>   -0.3374</td> <td>    0.008</td> <td>  -44.673</td> <td> 0.000</td> <td>   -0.352</td> <td>   -0.323</td>\n",
              "</tr>\n",
              "<tr>\n",
              "  <th>V11</th>   <td>    1.1360</td> <td>    0.007</td> <td>  171.689</td> <td> 0.000</td> <td>    1.123</td> <td>    1.149</td>\n",
              "</tr>\n",
              "<tr>\n",
              "  <th>V13</th>   <td>   -0.3083</td> <td>    0.007</td> <td>  -43.231</td> <td> 0.000</td> <td>   -0.322</td> <td>   -0.294</td>\n",
              "</tr>\n",
              "<tr>\n",
              "  <th>V17</th>   <td>   -0.2272</td> <td>    0.004</td> <td>  -59.449</td> <td> 0.000</td> <td>   -0.235</td> <td>   -0.220</td>\n",
              "</tr>\n",
              "<tr>\n",
              "  <th>V22</th>   <td>   -0.0701</td> <td>    0.010</td> <td>   -7.283</td> <td> 0.000</td> <td>   -0.089</td> <td>   -0.051</td>\n",
              "</tr>\n",
              "<tr>\n",
              "  <th>V26</th>   <td>   -0.6126</td> <td>    0.016</td> <td>  -37.618</td> <td> 0.000</td> <td>   -0.645</td> <td>   -0.581</td>\n",
              "</tr>\n",
              "<tr>\n",
              "  <th>V27</th>   <td>    0.3170</td> <td>    0.016</td> <td>   19.417</td> <td> 0.000</td> <td>    0.285</td> <td>    0.349</td>\n",
              "</tr>\n",
              "<tr>\n",
              "  <th>V28</th>   <td>    0.6995</td> <td>    0.024</td> <td>   28.945</td> <td> 0.000</td> <td>    0.652</td> <td>    0.747</td>\n",
              "</tr>\n",
              "</table>"
            ],
            "text/plain": [
              "<class 'statsmodels.iolib.summary.Summary'>\n",
              "\"\"\"\n",
              "                 Generalized Linear Model Regression Results                  \n",
              "==============================================================================\n",
              "Dep. Variable:                      y   No. Observations:               398090\n",
              "Model:                            GLM   Df Residuals:                   398078\n",
              "Model Family:                Binomial   Df Model:                           11\n",
              "Link Function:                  logit   Scale:                          1.0000\n",
              "Method:                          IRLS   Log-Likelihood:                    nan\n",
              "Date:                Tue, 14 Sep 2021   Deviance:                          inf\n",
              "Time:                        18:48:15   Pearson chi2:                 4.50e+15\n",
              "No. Iterations:                     6                                         \n",
              "Covariance Type:            nonrobust                                         \n",
              "==============================================================================\n",
              "                 coef    std err          z      P>|z|      [0.025      0.975]\n",
              "------------------------------------------------------------------------------\n",
              "const         -3.0254      0.011   -272.127      0.000      -3.047      -3.004\n",
              "V4             0.9530      0.005    188.551      0.000       0.943       0.963\n",
              "V5             0.0833      0.004     20.288      0.000       0.075       0.091\n",
              "V8            -0.3916      0.004    -91.445      0.000      -0.400      -0.383\n",
              "V9            -0.3374      0.008    -44.673      0.000      -0.352      -0.323\n",
              "V11            1.1360      0.007    171.689      0.000       1.123       1.149\n",
              "V13           -0.3083      0.007    -43.231      0.000      -0.322      -0.294\n",
              "V17           -0.2272      0.004    -59.449      0.000      -0.235      -0.220\n",
              "V22           -0.0701      0.010     -7.283      0.000      -0.089      -0.051\n",
              "V26           -0.6126      0.016    -37.618      0.000      -0.645      -0.581\n",
              "V27            0.3170      0.016     19.417      0.000       0.285       0.349\n",
              "V28            0.6995      0.024     28.945      0.000       0.652       0.747\n",
              "==============================================================================\n",
              "\"\"\""
            ]
          },
          "metadata": {},
          "execution_count": 186
        }
      ]
    },
    {
      "cell_type": "code",
      "metadata": {
        "id": "8nycXZ1Np-Au",
        "colab": {
          "base_uri": "https://localhost:8080/",
          "height": 203
        },
        "outputId": "b992dc3f-ec50-4e08-fd27-7254be6e6f7e"
      },
      "source": [
        "y_train_pred = get_prediction_dataset(res,X_train_sm,y_train_SMOTE,0.5)\n",
        "y_train_pred.head()"
      ],
      "execution_count": 187,
      "outputs": [
        {
          "output_type": "execute_result",
          "data": {
            "text/html": [
              "<div>\n",
              "<style scoped>\n",
              "    .dataframe tbody tr th:only-of-type {\n",
              "        vertical-align: middle;\n",
              "    }\n",
              "\n",
              "    .dataframe tbody tr th {\n",
              "        vertical-align: top;\n",
              "    }\n",
              "\n",
              "    .dataframe thead th {\n",
              "        text-align: right;\n",
              "    }\n",
              "</style>\n",
              "<table border=\"1\" class=\"dataframe\">\n",
              "  <thead>\n",
              "    <tr style=\"text-align: right;\">\n",
              "      <th></th>\n",
              "      <th>Fraud</th>\n",
              "      <th>Fraud_Porb</th>\n",
              "      <th>predicted</th>\n",
              "    </tr>\n",
              "  </thead>\n",
              "  <tbody>\n",
              "    <tr>\n",
              "      <th>0</th>\n",
              "      <td>0</td>\n",
              "      <td>0.052090</td>\n",
              "      <td>0</td>\n",
              "    </tr>\n",
              "    <tr>\n",
              "      <th>1</th>\n",
              "      <td>0</td>\n",
              "      <td>0.008204</td>\n",
              "      <td>0</td>\n",
              "    </tr>\n",
              "    <tr>\n",
              "      <th>2</th>\n",
              "      <td>0</td>\n",
              "      <td>0.058265</td>\n",
              "      <td>0</td>\n",
              "    </tr>\n",
              "    <tr>\n",
              "      <th>3</th>\n",
              "      <td>0</td>\n",
              "      <td>0.028836</td>\n",
              "      <td>0</td>\n",
              "    </tr>\n",
              "    <tr>\n",
              "      <th>4</th>\n",
              "      <td>0</td>\n",
              "      <td>0.005109</td>\n",
              "      <td>0</td>\n",
              "    </tr>\n",
              "  </tbody>\n",
              "</table>\n",
              "</div>"
            ],
            "text/plain": [
              "   Fraud  Fraud_Porb  predicted\n",
              "0      0    0.052090          0\n",
              "1      0    0.008204          0\n",
              "2      0    0.058265          0\n",
              "3      0    0.028836          0\n",
              "4      0    0.005109          0"
            ]
          },
          "metadata": {},
          "execution_count": 187
        }
      ]
    },
    {
      "cell_type": "code",
      "metadata": {
        "id": "CE5FkvTwqADD",
        "colab": {
          "base_uri": "https://localhost:8080/"
        },
        "outputId": "c2128718-77f8-454d-aed1-1717bc78b41d"
      },
      "source": [
        "print(get_accuracy(y_train_pred))"
      ],
      "execution_count": 188,
      "outputs": [
        {
          "output_type": "stream",
          "name": "stdout",
          "text": [
            "0.9194478635484438\n"
          ]
        }
      ]
    },
    {
      "cell_type": "code",
      "metadata": {
        "id": "L_GdYaDnqD3E",
        "colab": {
          "base_uri": "https://localhost:8080/"
        },
        "outputId": "3ee59ebf-dbf5-4e4a-f559-622b7841a389"
      },
      "source": [
        "get_vif(X_train_SMOTE,col)"
      ],
      "execution_count": 189,
      "outputs": [
        {
          "output_type": "stream",
          "name": "stdout",
          "text": [
            "   Features   VIF\n",
            "4       V11  6.90\n",
            "6       V17  6.38\n",
            "0        V4  5.96\n",
            "3        V9  5.28\n",
            "1        V5  3.46\n",
            "9       V27  1.83\n",
            "2        V8  1.63\n",
            "7       V22  1.33\n",
            "10      V28  1.19\n",
            "8       V26  1.10\n",
            "5       V13  1.07\n"
          ]
        }
      ]
    },
    {
      "cell_type": "code",
      "metadata": {
        "id": "RftzNQj9qIWs",
        "colab": {
          "base_uri": "https://localhost:8080/"
        },
        "outputId": "b7eac5a3-0f6d-4469-b8a0-8376b8e7fc41"
      },
      "source": [
        "col = col.drop('V11', 1)\n",
        "col"
      ],
      "execution_count": 190,
      "outputs": [
        {
          "output_type": "execute_result",
          "data": {
            "text/plain": [
              "Index(['V4', 'V5', 'V8', 'V9', 'V13', 'V17', 'V22', 'V26', 'V27', 'V28'], dtype='object')"
            ]
          },
          "metadata": {},
          "execution_count": 190
        }
      ]
    },
    {
      "cell_type": "code",
      "metadata": {
        "id": "walgHvMVqRnW",
        "colab": {
          "base_uri": "https://localhost:8080/",
          "height": 466
        },
        "outputId": "5ae8f071-29d7-49ba-d7e8-015777cf802a"
      },
      "source": [
        "# Let's re-run the model using the selected variables\n",
        "res,X_train_sm = get_logistic_model(X_train_SMOTE,col,y_train_SMOTE)\n",
        "res.summary()"
      ],
      "execution_count": 191,
      "outputs": [
        {
          "output_type": "execute_result",
          "data": {
            "text/html": [
              "<table class=\"simpletable\">\n",
              "<caption>Generalized Linear Model Regression Results</caption>\n",
              "<tr>\n",
              "  <th>Dep. Variable:</th>           <td>y</td>        <th>  No. Observations:  </th>  <td>398090</td> \n",
              "</tr>\n",
              "<tr>\n",
              "  <th>Model:</th>                  <td>GLM</td>       <th>  Df Residuals:      </th>  <td>398079</td> \n",
              "</tr>\n",
              "<tr>\n",
              "  <th>Model Family:</th>        <td>Binomial</td>     <th>  Df Model:          </th>  <td>    10</td> \n",
              "</tr>\n",
              "<tr>\n",
              "  <th>Link Function:</th>         <td>logit</td>      <th>  Scale:             </th> <td>  1.0000</td>\n",
              "</tr>\n",
              "<tr>\n",
              "  <th>Method:</th>                <td>IRLS</td>       <th>  Log-Likelihood:    </th> <td>     nan</td>\n",
              "</tr>\n",
              "<tr>\n",
              "  <th>Date:</th>            <td>Tue, 14 Sep 2021</td> <th>  Deviance:          </th> <td>     inf</td>\n",
              "</tr>\n",
              "<tr>\n",
              "  <th>Time:</th>                <td>18:49:02</td>     <th>  Pearson chi2:      </th> <td>4.51e+15</td>\n",
              "</tr>\n",
              "<tr>\n",
              "  <th>No. Iterations:</th>          <td>3</td>        <th>                     </th>     <td> </td>   \n",
              "</tr>\n",
              "<tr>\n",
              "  <th>Covariance Type:</th>     <td>nonrobust</td>    <th>                     </th>     <td> </td>   \n",
              "</tr>\n",
              "</table>\n",
              "<table class=\"simpletable\">\n",
              "<tr>\n",
              "    <td></td>       <th>coef</th>     <th>std err</th>      <th>z</th>      <th>P>|z|</th>  <th>[0.025</th>    <th>0.975]</th>  \n",
              "</tr>\n",
              "<tr>\n",
              "  <th>const</th> <td>   -2.1427</td> <td>    0.007</td> <td> -329.045</td> <td> 0.000</td> <td>   -2.155</td> <td>   -2.130</td>\n",
              "</tr>\n",
              "<tr>\n",
              "  <th>V4</th>    <td>    0.8870</td> <td>    0.003</td> <td>  266.585</td> <td> 0.000</td> <td>    0.881</td> <td>    0.894</td>\n",
              "</tr>\n",
              "<tr>\n",
              "  <th>V5</th>    <td>    0.1039</td> <td>    0.003</td> <td>   39.662</td> <td> 0.000</td> <td>    0.099</td> <td>    0.109</td>\n",
              "</tr>\n",
              "<tr>\n",
              "  <th>V8</th>    <td>   -0.2342</td> <td>    0.002</td> <td>  -94.421</td> <td> 0.000</td> <td>   -0.239</td> <td>   -0.229</td>\n",
              "</tr>\n",
              "<tr>\n",
              "  <th>V9</th>    <td>   -0.2306</td> <td>    0.005</td> <td>  -46.152</td> <td> 0.000</td> <td>   -0.240</td> <td>   -0.221</td>\n",
              "</tr>\n",
              "<tr>\n",
              "  <th>V13</th>   <td>   -0.2835</td> <td>    0.005</td> <td>  -55.808</td> <td> 0.000</td> <td>   -0.293</td> <td>   -0.274</td>\n",
              "</tr>\n",
              "<tr>\n",
              "  <th>V17</th>   <td>   -0.3083</td> <td>    0.002</td> <td> -146.869</td> <td> 0.000</td> <td>   -0.312</td> <td>   -0.304</td>\n",
              "</tr>\n",
              "<tr>\n",
              "  <th>V22</th>   <td>   -0.2026</td> <td>    0.007</td> <td>  -30.359</td> <td> 0.000</td> <td>   -0.216</td> <td>   -0.190</td>\n",
              "</tr>\n",
              "<tr>\n",
              "  <th>V26</th>   <td>   -0.3562</td> <td>    0.011</td> <td>  -32.222</td> <td> 0.000</td> <td>   -0.378</td> <td>   -0.335</td>\n",
              "</tr>\n",
              "<tr>\n",
              "  <th>V27</th>   <td>    0.4966</td> <td>    0.009</td> <td>   53.759</td> <td> 0.000</td> <td>    0.478</td> <td>    0.515</td>\n",
              "</tr>\n",
              "<tr>\n",
              "  <th>V28</th>   <td>    1.0012</td> <td>    0.017</td> <td>   60.521</td> <td> 0.000</td> <td>    0.969</td> <td>    1.034</td>\n",
              "</tr>\n",
              "</table>"
            ],
            "text/plain": [
              "<class 'statsmodels.iolib.summary.Summary'>\n",
              "\"\"\"\n",
              "                 Generalized Linear Model Regression Results                  \n",
              "==============================================================================\n",
              "Dep. Variable:                      y   No. Observations:               398090\n",
              "Model:                            GLM   Df Residuals:                   398079\n",
              "Model Family:                Binomial   Df Model:                           10\n",
              "Link Function:                  logit   Scale:                          1.0000\n",
              "Method:                          IRLS   Log-Likelihood:                    nan\n",
              "Date:                Tue, 14 Sep 2021   Deviance:                          inf\n",
              "Time:                        18:49:02   Pearson chi2:                 4.51e+15\n",
              "No. Iterations:                     3                                         \n",
              "Covariance Type:            nonrobust                                         \n",
              "==============================================================================\n",
              "                 coef    std err          z      P>|z|      [0.025      0.975]\n",
              "------------------------------------------------------------------------------\n",
              "const         -2.1427      0.007   -329.045      0.000      -2.155      -2.130\n",
              "V4             0.8870      0.003    266.585      0.000       0.881       0.894\n",
              "V5             0.1039      0.003     39.662      0.000       0.099       0.109\n",
              "V8            -0.2342      0.002    -94.421      0.000      -0.239      -0.229\n",
              "V9            -0.2306      0.005    -46.152      0.000      -0.240      -0.221\n",
              "V13           -0.2835      0.005    -55.808      0.000      -0.293      -0.274\n",
              "V17           -0.3083      0.002   -146.869      0.000      -0.312      -0.304\n",
              "V22           -0.2026      0.007    -30.359      0.000      -0.216      -0.190\n",
              "V26           -0.3562      0.011    -32.222      0.000      -0.378      -0.335\n",
              "V27            0.4966      0.009     53.759      0.000       0.478       0.515\n",
              "V28            1.0012      0.017     60.521      0.000       0.969       1.034\n",
              "==============================================================================\n",
              "\"\"\""
            ]
          },
          "metadata": {},
          "execution_count": 191
        }
      ]
    },
    {
      "cell_type": "code",
      "metadata": {
        "id": "F1e74nQSqT78",
        "colab": {
          "base_uri": "https://localhost:8080/",
          "height": 203
        },
        "outputId": "7f7fa5b0-7b65-45c5-caf2-5d4a96f780dd"
      },
      "source": [
        "y_train_pred = get_prediction_dataset(res,X_train_sm,y_train_SMOTE,0.5)\n",
        "y_train_pred.head()"
      ],
      "execution_count": 192,
      "outputs": [
        {
          "output_type": "execute_result",
          "data": {
            "text/html": [
              "<div>\n",
              "<style scoped>\n",
              "    .dataframe tbody tr th:only-of-type {\n",
              "        vertical-align: middle;\n",
              "    }\n",
              "\n",
              "    .dataframe tbody tr th {\n",
              "        vertical-align: top;\n",
              "    }\n",
              "\n",
              "    .dataframe thead th {\n",
              "        text-align: right;\n",
              "    }\n",
              "</style>\n",
              "<table border=\"1\" class=\"dataframe\">\n",
              "  <thead>\n",
              "    <tr style=\"text-align: right;\">\n",
              "      <th></th>\n",
              "      <th>Fraud</th>\n",
              "      <th>Fraud_Porb</th>\n",
              "      <th>predicted</th>\n",
              "    </tr>\n",
              "  </thead>\n",
              "  <tbody>\n",
              "    <tr>\n",
              "      <th>0</th>\n",
              "      <td>0</td>\n",
              "      <td>0.065869</td>\n",
              "      <td>0</td>\n",
              "    </tr>\n",
              "    <tr>\n",
              "      <th>1</th>\n",
              "      <td>0</td>\n",
              "      <td>0.049141</td>\n",
              "      <td>0</td>\n",
              "    </tr>\n",
              "    <tr>\n",
              "      <th>2</th>\n",
              "      <td>0</td>\n",
              "      <td>0.168859</td>\n",
              "      <td>0</td>\n",
              "    </tr>\n",
              "    <tr>\n",
              "      <th>3</th>\n",
              "      <td>0</td>\n",
              "      <td>0.071889</td>\n",
              "      <td>0</td>\n",
              "    </tr>\n",
              "    <tr>\n",
              "      <th>4</th>\n",
              "      <td>0</td>\n",
              "      <td>0.043590</td>\n",
              "      <td>0</td>\n",
              "    </tr>\n",
              "  </tbody>\n",
              "</table>\n",
              "</div>"
            ],
            "text/plain": [
              "   Fraud  Fraud_Porb  predicted\n",
              "0      0    0.065869          0\n",
              "1      0    0.049141          0\n",
              "2      0    0.168859          0\n",
              "3      0    0.071889          0\n",
              "4      0    0.043590          0"
            ]
          },
          "metadata": {},
          "execution_count": 192
        }
      ]
    },
    {
      "cell_type": "code",
      "metadata": {
        "id": "-fBzZBazqVnM",
        "colab": {
          "base_uri": "https://localhost:8080/"
        },
        "outputId": "efa0ee12-7a22-42b9-8400-cbcace266fad"
      },
      "source": [
        "print(get_accuracy(y_train_pred))"
      ],
      "execution_count": 193,
      "outputs": [
        {
          "output_type": "stream",
          "name": "stdout",
          "text": [
            "0.8975633650682007\n"
          ]
        }
      ]
    },
    {
      "cell_type": "code",
      "metadata": {
        "id": "63slOgwTqXrV",
        "colab": {
          "base_uri": "https://localhost:8080/"
        },
        "outputId": "67db5aa4-5d6e-4f39-9145-0ec2d2609c2a"
      },
      "source": [
        "get_vif(X_train_SMOTE,col)"
      ],
      "execution_count": 194,
      "outputs": [
        {
          "output_type": "stream",
          "name": "stdout",
          "text": [
            "  Features   VIF\n",
            "3       V9  5.24\n",
            "5      V17  5.02\n",
            "0       V4  4.22\n",
            "1       V5  3.42\n",
            "8      V27  1.73\n",
            "2       V8  1.63\n",
            "6      V22  1.33\n",
            "9      V28  1.18\n",
            "7      V26  1.09\n",
            "4      V13  1.07\n"
          ]
        }
      ]
    },
    {
      "cell_type": "code",
      "metadata": {
        "id": "6JCNAN-Rqd8f",
        "colab": {
          "base_uri": "https://localhost:8080/"
        },
        "outputId": "bab27732-a331-42df-9d72-16f35eed0bfe"
      },
      "source": [
        "col = col.drop('V9', 1)\n",
        "col"
      ],
      "execution_count": 195,
      "outputs": [
        {
          "output_type": "execute_result",
          "data": {
            "text/plain": [
              "Index(['V4', 'V5', 'V8', 'V13', 'V17', 'V22', 'V26', 'V27', 'V28'], dtype='object')"
            ]
          },
          "metadata": {},
          "execution_count": 195
        }
      ]
    },
    {
      "cell_type": "code",
      "metadata": {
        "id": "iYc3QsrqqoRw",
        "colab": {
          "base_uri": "https://localhost:8080/",
          "height": 445
        },
        "outputId": "baa6955a-8250-4273-9d2d-a27d1ad98457"
      },
      "source": [
        "# Let's re-run the model using the selected variables\n",
        "res,X_train_sm = get_logistic_model(X_train_SMOTE,col,y_train_SMOTE)\n",
        "res.summary()"
      ],
      "execution_count": 196,
      "outputs": [
        {
          "output_type": "execute_result",
          "data": {
            "text/html": [
              "<table class=\"simpletable\">\n",
              "<caption>Generalized Linear Model Regression Results</caption>\n",
              "<tr>\n",
              "  <th>Dep. Variable:</th>           <td>y</td>        <th>  No. Observations:  </th>  <td>398090</td> \n",
              "</tr>\n",
              "<tr>\n",
              "  <th>Model:</th>                  <td>GLM</td>       <th>  Df Residuals:      </th>  <td>398080</td> \n",
              "</tr>\n",
              "<tr>\n",
              "  <th>Model Family:</th>        <td>Binomial</td>     <th>  Df Model:          </th>  <td>     9</td> \n",
              "</tr>\n",
              "<tr>\n",
              "  <th>Link Function:</th>         <td>logit</td>      <th>  Scale:             </th> <td>  1.0000</td>\n",
              "</tr>\n",
              "<tr>\n",
              "  <th>Method:</th>                <td>IRLS</td>       <th>  Log-Likelihood:    </th> <td>     nan</td>\n",
              "</tr>\n",
              "<tr>\n",
              "  <th>Date:</th>            <td>Tue, 14 Sep 2021</td> <th>  Deviance:          </th> <td>     inf</td>\n",
              "</tr>\n",
              "<tr>\n",
              "  <th>Time:</th>                <td>18:49:33</td>     <th>  Pearson chi2:      </th> <td>4.53e+15</td>\n",
              "</tr>\n",
              "<tr>\n",
              "  <th>No. Iterations:</th>          <td>3</td>        <th>                     </th>     <td> </td>   \n",
              "</tr>\n",
              "<tr>\n",
              "  <th>Covariance Type:</th>     <td>nonrobust</td>    <th>                     </th>     <td> </td>   \n",
              "</tr>\n",
              "</table>\n",
              "<table class=\"simpletable\">\n",
              "<tr>\n",
              "    <td></td>       <th>coef</th>     <th>std err</th>      <th>z</th>      <th>P>|z|</th>  <th>[0.025</th>    <th>0.975]</th>  \n",
              "</tr>\n",
              "<tr>\n",
              "  <th>const</th> <td>   -2.1690</td> <td>    0.007</td> <td> -332.179</td> <td> 0.000</td> <td>   -2.182</td> <td>   -2.156</td>\n",
              "</tr>\n",
              "<tr>\n",
              "  <th>V4</th>    <td>    0.9517</td> <td>    0.003</td> <td>  314.714</td> <td> 0.000</td> <td>    0.946</td> <td>    0.958</td>\n",
              "</tr>\n",
              "<tr>\n",
              "  <th>V5</th>    <td>    0.1068</td> <td>    0.003</td> <td>   40.991</td> <td> 0.000</td> <td>    0.102</td> <td>    0.112</td>\n",
              "</tr>\n",
              "<tr>\n",
              "  <th>V8</th>    <td>   -0.2208</td> <td>    0.002</td> <td>  -89.519</td> <td> 0.000</td> <td>   -0.226</td> <td>   -0.216</td>\n",
              "</tr>\n",
              "<tr>\n",
              "  <th>V13</th>   <td>   -0.3035</td> <td>    0.005</td> <td>  -60.149</td> <td> 0.000</td> <td>   -0.313</td> <td>   -0.294</td>\n",
              "</tr>\n",
              "<tr>\n",
              "  <th>V17</th>   <td>   -0.3387</td> <td>    0.002</td> <td> -169.602</td> <td> 0.000</td> <td>   -0.343</td> <td>   -0.335</td>\n",
              "</tr>\n",
              "<tr>\n",
              "  <th>V22</th>   <td>   -0.1950</td> <td>    0.007</td> <td>  -29.159</td> <td> 0.000</td> <td>   -0.208</td> <td>   -0.182</td>\n",
              "</tr>\n",
              "<tr>\n",
              "  <th>V26</th>   <td>   -0.2761</td> <td>    0.011</td> <td>  -25.359</td> <td> 0.000</td> <td>   -0.297</td> <td>   -0.255</td>\n",
              "</tr>\n",
              "<tr>\n",
              "  <th>V27</th>   <td>    0.5060</td> <td>    0.009</td> <td>   55.668</td> <td> 0.000</td> <td>    0.488</td> <td>    0.524</td>\n",
              "</tr>\n",
              "<tr>\n",
              "  <th>V28</th>   <td>    0.9933</td> <td>    0.017</td> <td>   60.016</td> <td> 0.000</td> <td>    0.961</td> <td>    1.026</td>\n",
              "</tr>\n",
              "</table>"
            ],
            "text/plain": [
              "<class 'statsmodels.iolib.summary.Summary'>\n",
              "\"\"\"\n",
              "                 Generalized Linear Model Regression Results                  \n",
              "==============================================================================\n",
              "Dep. Variable:                      y   No. Observations:               398090\n",
              "Model:                            GLM   Df Residuals:                   398080\n",
              "Model Family:                Binomial   Df Model:                            9\n",
              "Link Function:                  logit   Scale:                          1.0000\n",
              "Method:                          IRLS   Log-Likelihood:                    nan\n",
              "Date:                Tue, 14 Sep 2021   Deviance:                          inf\n",
              "Time:                        18:49:33   Pearson chi2:                 4.53e+15\n",
              "No. Iterations:                     3                                         \n",
              "Covariance Type:            nonrobust                                         \n",
              "==============================================================================\n",
              "                 coef    std err          z      P>|z|      [0.025      0.975]\n",
              "------------------------------------------------------------------------------\n",
              "const         -2.1690      0.007   -332.179      0.000      -2.182      -2.156\n",
              "V4             0.9517      0.003    314.714      0.000       0.946       0.958\n",
              "V5             0.1068      0.003     40.991      0.000       0.102       0.112\n",
              "V8            -0.2208      0.002    -89.519      0.000      -0.226      -0.216\n",
              "V13           -0.3035      0.005    -60.149      0.000      -0.313      -0.294\n",
              "V17           -0.3387      0.002   -169.602      0.000      -0.343      -0.335\n",
              "V22           -0.1950      0.007    -29.159      0.000      -0.208      -0.182\n",
              "V26           -0.2761      0.011    -25.359      0.000      -0.297      -0.255\n",
              "V27            0.5060      0.009     55.668      0.000       0.488       0.524\n",
              "V28            0.9933      0.017     60.016      0.000       0.961       1.026\n",
              "==============================================================================\n",
              "\"\"\""
            ]
          },
          "metadata": {},
          "execution_count": 196
        }
      ]
    },
    {
      "cell_type": "code",
      "metadata": {
        "id": "gS95A1uGqttL",
        "colab": {
          "base_uri": "https://localhost:8080/",
          "height": 203
        },
        "outputId": "fe5f3adf-7608-4ecb-f28e-fdf7e60c7c8d"
      },
      "source": [
        "y_train_pred = get_prediction_dataset(res,X_train_sm,y_train_SMOTE,0.5)\n",
        "y_train_pred.head()"
      ],
      "execution_count": 197,
      "outputs": [
        {
          "output_type": "execute_result",
          "data": {
            "text/html": [
              "<div>\n",
              "<style scoped>\n",
              "    .dataframe tbody tr th:only-of-type {\n",
              "        vertical-align: middle;\n",
              "    }\n",
              "\n",
              "    .dataframe tbody tr th {\n",
              "        vertical-align: top;\n",
              "    }\n",
              "\n",
              "    .dataframe thead th {\n",
              "        text-align: right;\n",
              "    }\n",
              "</style>\n",
              "<table border=\"1\" class=\"dataframe\">\n",
              "  <thead>\n",
              "    <tr style=\"text-align: right;\">\n",
              "      <th></th>\n",
              "      <th>Fraud</th>\n",
              "      <th>Fraud_Porb</th>\n",
              "      <th>predicted</th>\n",
              "    </tr>\n",
              "  </thead>\n",
              "  <tbody>\n",
              "    <tr>\n",
              "      <th>0</th>\n",
              "      <td>0</td>\n",
              "      <td>0.087433</td>\n",
              "      <td>0</td>\n",
              "    </tr>\n",
              "    <tr>\n",
              "      <th>1</th>\n",
              "      <td>0</td>\n",
              "      <td>0.038944</td>\n",
              "      <td>0</td>\n",
              "    </tr>\n",
              "    <tr>\n",
              "      <th>2</th>\n",
              "      <td>0</td>\n",
              "      <td>0.161359</td>\n",
              "      <td>0</td>\n",
              "    </tr>\n",
              "    <tr>\n",
              "      <th>3</th>\n",
              "      <td>0</td>\n",
              "      <td>0.055728</td>\n",
              "      <td>0</td>\n",
              "    </tr>\n",
              "    <tr>\n",
              "      <th>4</th>\n",
              "      <td>0</td>\n",
              "      <td>0.044358</td>\n",
              "      <td>0</td>\n",
              "    </tr>\n",
              "  </tbody>\n",
              "</table>\n",
              "</div>"
            ],
            "text/plain": [
              "   Fraud  Fraud_Porb  predicted\n",
              "0      0    0.087433          0\n",
              "1      0    0.038944          0\n",
              "2      0    0.161359          0\n",
              "3      0    0.055728          0\n",
              "4      0    0.044358          0"
            ]
          },
          "metadata": {},
          "execution_count": 197
        }
      ]
    },
    {
      "cell_type": "code",
      "metadata": {
        "id": "qjAyLeZTqv3j",
        "colab": {
          "base_uri": "https://localhost:8080/"
        },
        "outputId": "63d32f0e-f6a2-49a0-e03d-3046626bc5a9"
      },
      "source": [
        "print(get_accuracy(y_train_pred))"
      ],
      "execution_count": 198,
      "outputs": [
        {
          "output_type": "stream",
          "name": "stdout",
          "text": [
            "0.8980783239970861\n"
          ]
        }
      ]
    },
    {
      "cell_type": "code",
      "metadata": {
        "id": "YehfPBbmqxeZ",
        "colab": {
          "base_uri": "https://localhost:8080/"
        },
        "outputId": "ed5b3938-f078-413a-ec67-608d46e3257d"
      },
      "source": [
        "get_vif(X_train_SMOTE,col)"
      ],
      "execution_count": 200,
      "outputs": [
        {
          "output_type": "stream",
          "name": "stdout",
          "text": [
            "  Features   VIF\n",
            "4      V17  4.43\n",
            "1       V5  3.33\n",
            "0       V4  2.87\n",
            "7      V27  1.70\n",
            "2       V8  1.62\n",
            "5      V22  1.31\n",
            "8      V28  1.17\n",
            "6      V26  1.08\n",
            "3      V13  1.07\n"
          ]
        }
      ]
    },
    {
      "cell_type": "code",
      "metadata": {
        "id": "-0wVoi-7q15a",
        "colab": {
          "base_uri": "https://localhost:8080/"
        },
        "outputId": "4d710c07-0d4a-4b88-c8e6-34a3dfc13129"
      },
      "source": [
        "# Let's take a look at the confusion matrix again \n",
        "confusion = get_confusion_matrix(y_train_pred)\n",
        "confusion"
      ],
      "execution_count": 201,
      "outputs": [
        {
          "output_type": "execute_result",
          "data": {
            "text/plain": [
              "array([[188227,  10798],\n",
              "       [ 27197, 171828]])"
            ]
          },
          "metadata": {},
          "execution_count": 201
        }
      ]
    },
    {
      "cell_type": "code",
      "metadata": {
        "id": "nNzBB3bVrBtm",
        "colab": {
          "base_uri": "https://localhost:8080/"
        },
        "outputId": "701d7124-a0f0-4564-f305-1754e44dd3b0"
      },
      "source": [
        "get_all_measures(confusion)"
      ],
      "execution_count": 202,
      "outputs": [
        {
          "output_type": "stream",
          "name": "stdout",
          "text": [
            "Sensitivity is : 0.86\n",
            "\n",
            "specificity is : 0.95\n",
            "\n",
            "false_positive_rate is : 0.05\n",
            "\n",
            "negative_predictive_value is : 0.87\n",
            "\n",
            "precision is : 0.94\n",
            "\n",
            "recall is : 0.86\n",
            "\n"
          ]
        }
      ]
    },
    {
      "cell_type": "code",
      "metadata": {
        "id": "joyg9dUOrU9p"
      },
      "source": [
        "fpr, tpr, thresholds = metrics.roc_curve( y_train_pred_final.Fraud, y_train_pred_final.Fraud_Prob, drop_intermediate = False )"
      ],
      "execution_count": 203,
      "outputs": []
    },
    {
      "cell_type": "code",
      "metadata": {
        "id": "N3jhZ8hTrf5D",
        "colab": {
          "base_uri": "https://localhost:8080/",
          "height": 350
        },
        "outputId": "0956e92f-9578-498a-ba06-8f452803ca08"
      },
      "source": [
        "draw_roc(y_train_pred_final.Fraud, y_train_pred_final.Fraud_Prob)"
      ],
      "execution_count": 204,
      "outputs": [
        {
          "output_type": "display_data",
          "data": {
            "image/png": "[encoded data removed]",
            "text/plain": [
              "<Figure size 360x360 with 1 Axes>"
            ]
          },
          "metadata": {
            "needs_background": "light"
          }
        }
      ]
    },
    {
      "cell_type": "code",
      "metadata": {
        "id": "LWc9fT3DrlQF",
        "colab": {
          "base_uri": "https://localhost:8080/",
          "height": 203
        },
        "outputId": "b2184241-56c9-4235-c4b5-4eb92fe6df09"
      },
      "source": [
        "# Let's create columns with different probability cutoffs \n",
        "numbers = [float(x)/10 for x in range(10)]\n",
        "for i in numbers:\n",
        "    y_train_pred_final[i]= y_train_pred_final.Fraud_Prob.map(lambda x: 1 if x > i else 0)\n",
        "y_train_pred_final.head()"
      ],
      "execution_count": 205,
      "outputs": [
        {
          "output_type": "execute_result",
          "data": {
            "text/html": [
              "<div>\n",
              "<style scoped>\n",
              "    .dataframe tbody tr th:only-of-type {\n",
              "        vertical-align: middle;\n",
              "    }\n",
              "\n",
              "    .dataframe tbody tr th {\n",
              "        vertical-align: top;\n",
              "    }\n",
              "\n",
              "    .dataframe thead th {\n",
              "        text-align: right;\n",
              "    }\n",
              "</style>\n",
              "<table border=\"1\" class=\"dataframe\">\n",
              "  <thead>\n",
              "    <tr style=\"text-align: right;\">\n",
              "      <th></th>\n",
              "      <th>Fraud_Prob</th>\n",
              "      <th>predicted</th>\n",
              "      <th>Fraud</th>\n",
              "      <th>0.0</th>\n",
              "      <th>0.1</th>\n",
              "      <th>0.2</th>\n",
              "      <th>0.3</th>\n",
              "      <th>0.4</th>\n",
              "      <th>0.5</th>\n",
              "      <th>0.6</th>\n",
              "      <th>0.7</th>\n",
              "      <th>0.8</th>\n",
              "      <th>0.9</th>\n",
              "      <th>final_predicted</th>\n",
              "    </tr>\n",
              "  </thead>\n",
              "  <tbody>\n",
              "    <tr>\n",
              "      <th>0</th>\n",
              "      <td>0.112303</td>\n",
              "      <td>0</td>\n",
              "      <td>0</td>\n",
              "      <td>1</td>\n",
              "      <td>1</td>\n",
              "      <td>0</td>\n",
              "      <td>0</td>\n",
              "      <td>0</td>\n",
              "      <td>0</td>\n",
              "      <td>0</td>\n",
              "      <td>0</td>\n",
              "      <td>0</td>\n",
              "      <td>0</td>\n",
              "      <td>0</td>\n",
              "    </tr>\n",
              "    <tr>\n",
              "      <th>1</th>\n",
              "      <td>0.174607</td>\n",
              "      <td>0</td>\n",
              "      <td>0</td>\n",
              "      <td>1</td>\n",
              "      <td>1</td>\n",
              "      <td>0</td>\n",
              "      <td>0</td>\n",
              "      <td>0</td>\n",
              "      <td>0</td>\n",
              "      <td>0</td>\n",
              "      <td>0</td>\n",
              "      <td>0</td>\n",
              "      <td>0</td>\n",
              "      <td>0</td>\n",
              "    </tr>\n",
              "    <tr>\n",
              "      <th>2</th>\n",
              "      <td>0.129540</td>\n",
              "      <td>0</td>\n",
              "      <td>0</td>\n",
              "      <td>1</td>\n",
              "      <td>1</td>\n",
              "      <td>0</td>\n",
              "      <td>0</td>\n",
              "      <td>0</td>\n",
              "      <td>0</td>\n",
              "      <td>0</td>\n",
              "      <td>0</td>\n",
              "      <td>0</td>\n",
              "      <td>0</td>\n",
              "      <td>0</td>\n",
              "    </tr>\n",
              "    <tr>\n",
              "      <th>3</th>\n",
              "      <td>0.723089</td>\n",
              "      <td>1</td>\n",
              "      <td>0</td>\n",
              "      <td>1</td>\n",
              "      <td>1</td>\n",
              "      <td>1</td>\n",
              "      <td>1</td>\n",
              "      <td>1</td>\n",
              "      <td>1</td>\n",
              "      <td>1</td>\n",
              "      <td>1</td>\n",
              "      <td>0</td>\n",
              "      <td>0</td>\n",
              "      <td>1</td>\n",
              "    </tr>\n",
              "    <tr>\n",
              "      <th>4</th>\n",
              "      <td>0.124431</td>\n",
              "      <td>0</td>\n",
              "      <td>0</td>\n",
              "      <td>1</td>\n",
              "      <td>1</td>\n",
              "      <td>0</td>\n",
              "      <td>0</td>\n",
              "      <td>0</td>\n",
              "      <td>0</td>\n",
              "      <td>0</td>\n",
              "      <td>0</td>\n",
              "      <td>0</td>\n",
              "      <td>0</td>\n",
              "      <td>0</td>\n",
              "    </tr>\n",
              "  </tbody>\n",
              "</table>\n",
              "</div>"
            ],
            "text/plain": [
              "   Fraud_Prob  predicted  Fraud  0.0  0.1  ...  0.6  0.7  0.8  0.9  final_predicted\n",
              "0    0.112303          0      0    1    1  ...    0    0    0    0                0\n",
              "1    0.174607          0      0    1    1  ...    0    0    0    0                0\n",
              "2    0.129540          0      0    1    1  ...    0    0    0    0                0\n",
              "3    0.723089          1      0    1    1  ...    1    1    0    0                1\n",
              "4    0.124431          0      0    1    1  ...    0    0    0    0                0\n",
              "\n",
              "[5 rows x 14 columns]"
            ]
          },
          "metadata": {},
          "execution_count": 205
        }
      ]
    },
    {
      "cell_type": "code",
      "metadata": {
        "id": "uj9aGAmnrvBS",
        "colab": {
          "base_uri": "https://localhost:8080/"
        },
        "outputId": "bd0a7bb6-f28c-43c3-f341-12d51f2b72fb"
      },
      "source": [
        "# Now let's calculate accuracy sensitivity and specificity for various probability cutoffs.\n",
        "cutoff_df = pd.DataFrame( columns = ['prob','accuracy','sensi','speci'])\n",
        "from sklearn.metrics import confusion_matrix\n",
        "\n",
        "# TP = confusion[1,1] # true positive \n",
        "# TN = confusion[0,0] # true negatives\n",
        "# FP = confusion[0,1] # false positives\n",
        "# FN = confusion[1,0] # false negatives\n",
        "\n",
        "num = [0.0,0.1,0.2,0.3,0.4,0.5,0.6,0.7,0.8,0.9]\n",
        "for i in num:\n",
        "    cm1 = metrics.confusion_matrix(y_train_pred_final.Fraud, y_train_pred_final[i] )\n",
        "    total1=sum(sum(cm1))\n",
        "    accuracy = (cm1[0,0]+cm1[1,1])/total1\n",
        "    \n",
        "    speci = cm1[0,0]/(cm1[0,0]+cm1[0,1])\n",
        "    sensi = cm1[1,1]/(cm1[1,0]+cm1[1,1])\n",
        "    cutoff_df.loc[i] =[ i ,accuracy,sensi,speci]\n",
        "print(cutoff_df)"
      ],
      "execution_count": 206,
      "outputs": [
        {
          "output_type": "stream",
          "name": "stdout",
          "text": [
            "     prob  accuracy     sensi     speci\n",
            "0.0   0.0  0.500000  1.000000  0.000000\n",
            "0.1   0.1  0.747961  0.989006  0.506916\n",
            "0.2   0.2  0.854893  0.961698  0.748087\n",
            "0.3   0.3  0.896563  0.929451  0.863675\n",
            "0.4   0.4  0.909986  0.902017  0.917955\n",
            "0.5   0.5  0.904547  0.863349  0.945746\n",
            "0.6   0.6  0.896201  0.830162  0.962241\n",
            "0.7   0.7  0.883781  0.792378  0.975184\n",
            "0.8   0.8  0.859015  0.731808  0.986223\n",
            "0.9   0.9  0.815983  0.636945  0.995021\n"
          ]
        }
      ]
    },
    {
      "cell_type": "code",
      "metadata": {
        "id": "nC1KuRV4r2JY",
        "colab": {
          "base_uri": "https://localhost:8080/",
          "height": 279
        },
        "outputId": "d6da723e-ac00-4254-a60c-be3701ea1410"
      },
      "source": [
        "# Let's plot accuracy sensitivity and specificity for various probabilities.\n",
        "cutoff_df.plot.line(x='prob', y=['accuracy','sensi','speci'])\n",
        "plt.show()"
      ],
      "execution_count": 207,
      "outputs": [
        {
          "output_type": "display_data",
          "data": {
            "image/png": "[encoded data removed]",
            "text/plain": [
              "<Figure size 432x288 with 1 Axes>"
            ]
          },
          "metadata": {
            "needs_background": "light"
          }
        }
      ]
    },
    {
      "cell_type": "code",
      "metadata": {
        "id": "oK0GFmlFr5sV",
        "colab": {
          "base_uri": "https://localhost:8080/",
          "height": 203
        },
        "outputId": "7f5f9f8c-8f4d-4071-d5b9-1fd3879f6cc0"
      },
      "source": [
        "y_train_pred_final['final_predicted'] = y_train_pred_final.Fraud_Prob.map( lambda x: 1 if x > 0.4 else 0)\n",
        "\n",
        "y_train_pred_final.head()"
      ],
      "execution_count": 208,
      "outputs": [
        {
          "output_type": "execute_result",
          "data": {
            "text/html": [
              "<div>\n",
              "<style scoped>\n",
              "    .dataframe tbody tr th:only-of-type {\n",
              "        vertical-align: middle;\n",
              "    }\n",
              "\n",
              "    .dataframe tbody tr th {\n",
              "        vertical-align: top;\n",
              "    }\n",
              "\n",
              "    .dataframe thead th {\n",
              "        text-align: right;\n",
              "    }\n",
              "</style>\n",
              "<table border=\"1\" class=\"dataframe\">\n",
              "  <thead>\n",
              "    <tr style=\"text-align: right;\">\n",
              "      <th></th>\n",
              "      <th>Fraud_Prob</th>\n",
              "      <th>predicted</th>\n",
              "      <th>Fraud</th>\n",
              "      <th>0.0</th>\n",
              "      <th>0.1</th>\n",
              "      <th>0.2</th>\n",
              "      <th>0.3</th>\n",
              "      <th>0.4</th>\n",
              "      <th>0.5</th>\n",
              "      <th>0.6</th>\n",
              "      <th>0.7</th>\n",
              "      <th>0.8</th>\n",
              "      <th>0.9</th>\n",
              "      <th>final_predicted</th>\n",
              "    </tr>\n",
              "  </thead>\n",
              "  <tbody>\n",
              "    <tr>\n",
              "      <th>0</th>\n",
              "      <td>0.112303</td>\n",
              "      <td>0</td>\n",
              "      <td>0</td>\n",
              "      <td>1</td>\n",
              "      <td>1</td>\n",
              "      <td>0</td>\n",
              "      <td>0</td>\n",
              "      <td>0</td>\n",
              "      <td>0</td>\n",
              "      <td>0</td>\n",
              "      <td>0</td>\n",
              "      <td>0</td>\n",
              "      <td>0</td>\n",
              "      <td>0</td>\n",
              "    </tr>\n",
              "    <tr>\n",
              "      <th>1</th>\n",
              "      <td>0.174607</td>\n",
              "      <td>0</td>\n",
              "      <td>0</td>\n",
              "      <td>1</td>\n",
              "      <td>1</td>\n",
              "      <td>0</td>\n",
              "      <td>0</td>\n",
              "      <td>0</td>\n",
              "      <td>0</td>\n",
              "      <td>0</td>\n",
              "      <td>0</td>\n",
              "      <td>0</td>\n",
              "      <td>0</td>\n",
              "      <td>0</td>\n",
              "    </tr>\n",
              "    <tr>\n",
              "      <th>2</th>\n",
              "      <td>0.129540</td>\n",
              "      <td>0</td>\n",
              "      <td>0</td>\n",
              "      <td>1</td>\n",
              "      <td>1</td>\n",
              "      <td>0</td>\n",
              "      <td>0</td>\n",
              "      <td>0</td>\n",
              "      <td>0</td>\n",
              "      <td>0</td>\n",
              "      <td>0</td>\n",
              "      <td>0</td>\n",
              "      <td>0</td>\n",
              "      <td>0</td>\n",
              "    </tr>\n",
              "    <tr>\n",
              "      <th>3</th>\n",
              "      <td>0.723089</td>\n",
              "      <td>1</td>\n",
              "      <td>0</td>\n",
              "      <td>1</td>\n",
              "      <td>1</td>\n",
              "      <td>1</td>\n",
              "      <td>1</td>\n",
              "      <td>1</td>\n",
              "      <td>1</td>\n",
              "      <td>1</td>\n",
              "      <td>1</td>\n",
              "      <td>0</td>\n",
              "      <td>0</td>\n",
              "      <td>1</td>\n",
              "    </tr>\n",
              "    <tr>\n",
              "      <th>4</th>\n",
              "      <td>0.124431</td>\n",
              "      <td>0</td>\n",
              "      <td>0</td>\n",
              "      <td>1</td>\n",
              "      <td>1</td>\n",
              "      <td>0</td>\n",
              "      <td>0</td>\n",
              "      <td>0</td>\n",
              "      <td>0</td>\n",
              "      <td>0</td>\n",
              "      <td>0</td>\n",
              "      <td>0</td>\n",
              "      <td>0</td>\n",
              "      <td>0</td>\n",
              "    </tr>\n",
              "  </tbody>\n",
              "</table>\n",
              "</div>"
            ],
            "text/plain": [
              "   Fraud_Prob  predicted  Fraud  0.0  0.1  ...  0.6  0.7  0.8  0.9  final_predicted\n",
              "0    0.112303          0      0    1    1  ...    0    0    0    0                0\n",
              "1    0.174607          0      0    1    1  ...    0    0    0    0                0\n",
              "2    0.129540          0      0    1    1  ...    0    0    0    0                0\n",
              "3    0.723089          1      0    1    1  ...    1    1    0    0                1\n",
              "4    0.124431          0      0    1    1  ...    0    0    0    0                0\n",
              "\n",
              "[5 rows x 14 columns]"
            ]
          },
          "metadata": {},
          "execution_count": 208
        }
      ]
    },
    {
      "cell_type": "code",
      "metadata": {
        "id": "jMniJG5gsAVu",
        "colab": {
          "base_uri": "https://localhost:8080/"
        },
        "outputId": "225f445d-044d-4878-febf-2204263659e7"
      },
      "source": [
        "# Let's check the overall accuracy.\n",
        "print(metrics.accuracy_score(y_train_pred_final.Fraud, y_train_pred_final.final_predicted))"
      ],
      "execution_count": 209,
      "outputs": [
        {
          "output_type": "stream",
          "name": "stdout",
          "text": [
            "0.9099861826403718\n"
          ]
        }
      ]
    },
    {
      "cell_type": "code",
      "metadata": {
        "id": "Nu3mnbP8sFH_",
        "colab": {
          "base_uri": "https://localhost:8080/"
        },
        "outputId": "985430cc-2c5c-43a4-ea67-3570d17bac4d"
      },
      "source": [
        "confusion2 = metrics.confusion_matrix(y_train_pred_final.Fraud, y_train_pred_final.final_predicted )\n",
        "confusion2"
      ],
      "execution_count": 210,
      "outputs": [
        {
          "output_type": "execute_result",
          "data": {
            "text/plain": [
              "array([[182696,  16329],\n",
              "       [ 19501, 179524]])"
            ]
          },
          "metadata": {},
          "execution_count": 210
        }
      ]
    },
    {
      "cell_type": "code",
      "metadata": {
        "id": "z5BSSsiSsMGG",
        "colab": {
          "base_uri": "https://localhost:8080/"
        },
        "outputId": "0af283ea-a208-443b-9217-672d886ab2ee"
      },
      "source": [
        "get_all_measures(confusion2)"
      ],
      "execution_count": 211,
      "outputs": [
        {
          "output_type": "stream",
          "name": "stdout",
          "text": [
            "Sensitivity is : 0.90\n",
            "\n",
            "specificity is : 0.92\n",
            "\n",
            "false_positive_rate is : 0.08\n",
            "\n",
            "negative_predictive_value is : 0.90\n",
            "\n",
            "precision is : 0.92\n",
            "\n",
            "recall is : 0.90\n",
            "\n"
          ]
        }
      ]
    },
    {
      "cell_type": "code",
      "metadata": {
        "id": "WJCdDIqwsoM2",
        "colab": {
          "base_uri": "https://localhost:8080/",
          "height": 223
        },
        "outputId": "645d3859-7d21-4257-f944-75e55ed5b911"
      },
      "source": [
        "X_test = X_test[col]\n",
        "X_test.head()"
      ],
      "execution_count": 212,
      "outputs": [
        {
          "output_type": "execute_result",
          "data": {
            "text/html": [
              "<div>\n",
              "<style scoped>\n",
              "    .dataframe tbody tr th:only-of-type {\n",
              "        vertical-align: middle;\n",
              "    }\n",
              "\n",
              "    .dataframe tbody tr th {\n",
              "        vertical-align: top;\n",
              "    }\n",
              "\n",
              "    .dataframe thead th {\n",
              "        text-align: right;\n",
              "    }\n",
              "</style>\n",
              "<table border=\"1\" class=\"dataframe\">\n",
              "  <thead>\n",
              "    <tr style=\"text-align: right;\">\n",
              "      <th></th>\n",
              "      <th>V4</th>\n",
              "      <th>V5</th>\n",
              "      <th>V8</th>\n",
              "      <th>V13</th>\n",
              "      <th>V17</th>\n",
              "      <th>V22</th>\n",
              "      <th>V26</th>\n",
              "      <th>V27</th>\n",
              "      <th>V28</th>\n",
              "    </tr>\n",
              "  </thead>\n",
              "  <tbody>\n",
              "    <tr>\n",
              "      <th>20720</th>\n",
              "      <td>1.238463</td>\n",
              "      <td>0.577223</td>\n",
              "      <td>-0.153353</td>\n",
              "      <td>1.008584</td>\n",
              "      <td>1.393282</td>\n",
              "      <td>0.710916</td>\n",
              "      <td>-0.458668</td>\n",
              "      <td>0.264585</td>\n",
              "      <td>0.217842</td>\n",
              "    </tr>\n",
              "    <tr>\n",
              "      <th>179064</th>\n",
              "      <td>1.097346</td>\n",
              "      <td>0.487790</td>\n",
              "      <td>-0.491782</td>\n",
              "      <td>0.117022</td>\n",
              "      <td>0.744338</td>\n",
              "      <td>0.567811</td>\n",
              "      <td>0.720585</td>\n",
              "      <td>-0.552023</td>\n",
              "      <td>0.071479</td>\n",
              "    </tr>\n",
              "    <tr>\n",
              "      <th>70783</th>\n",
              "      <td>-0.629588</td>\n",
              "      <td>-0.882185</td>\n",
              "      <td>0.209904</td>\n",
              "      <td>-0.888843</td>\n",
              "      <td>-0.036473</td>\n",
              "      <td>0.176549</td>\n",
              "      <td>0.832291</td>\n",
              "      <td>0.104558</td>\n",
              "      <td>0.175458</td>\n",
              "    </tr>\n",
              "    <tr>\n",
              "      <th>192473</th>\n",
              "      <td>1.852522</td>\n",
              "      <td>11.926410</td>\n",
              "      <td>0.499491</td>\n",
              "      <td>0.578595</td>\n",
              "      <td>-0.651946</td>\n",
              "      <td>0.272041</td>\n",
              "      <td>0.143550</td>\n",
              "      <td>-0.162356</td>\n",
              "      <td>0.559321</td>\n",
              "    </tr>\n",
              "    <tr>\n",
              "      <th>95055</th>\n",
              "      <td>-0.153580</td>\n",
              "      <td>-0.102880</td>\n",
              "      <td>0.043104</td>\n",
              "      <td>0.485765</td>\n",
              "      <td>-0.611823</td>\n",
              "      <td>-0.420666</td>\n",
              "      <td>0.044150</td>\n",
              "      <td>0.377499</td>\n",
              "      <td>0.171900</td>\n",
              "    </tr>\n",
              "  </tbody>\n",
              "</table>\n",
              "</div>"
            ],
            "text/plain": [
              "              V4         V5        V8  ...       V26       V27       V28\n",
              "20720   1.238463   0.577223 -0.153353  ... -0.458668  0.264585  0.217842\n",
              "179064  1.097346   0.487790 -0.491782  ...  0.720585 -0.552023  0.071479\n",
              "70783  -0.629588  -0.882185  0.209904  ...  0.832291  0.104558  0.175458\n",
              "192473  1.852522  11.926410  0.499491  ...  0.143550 -0.162356  0.559321\n",
              "95055  -0.153580  -0.102880  0.043104  ...  0.044150  0.377499  0.171900\n",
              "\n",
              "[5 rows x 9 columns]"
            ]
          },
          "metadata": {},
          "execution_count": 212
        }
      ]
    },
    {
      "cell_type": "code",
      "metadata": {
        "id": "QYZsBG-MvR6D"
      },
      "source": [
        "X_test_sm = sm.add_constant(X_test)"
      ],
      "execution_count": 213,
      "outputs": []
    },
    {
      "cell_type": "code",
      "metadata": {
        "id": "76qymAWPvYyV"
      },
      "source": [
        "y_test_pred = res.predict(X_test_sm)"
      ],
      "execution_count": 214,
      "outputs": []
    },
    {
      "cell_type": "code",
      "metadata": {
        "id": "WnKugazAvaoE"
      },
      "source": [
        "# Converting y_pred to a dataframe which is an array\n",
        "y_pred_1 = pd.DataFrame(y_test_pred)"
      ],
      "execution_count": 215,
      "outputs": []
    },
    {
      "cell_type": "code",
      "metadata": {
        "id": "liBAAXXQvcl2"
      },
      "source": [
        "# Converting y_test to dataframe\n",
        "y_test_df = pd.DataFrame(y_test)"
      ],
      "execution_count": 216,
      "outputs": []
    },
    {
      "cell_type": "code",
      "metadata": {
        "id": "FLDARO0gvePV"
      },
      "source": [
        "# Appending y_test_df and y_pred_1\n",
        "y_pred_final_test = pd.concat([y_test_df, y_pred_1],axis=1)"
      ],
      "execution_count": 225,
      "outputs": []
    },
    {
      "cell_type": "code",
      "metadata": {
        "id": "cnM2X6PAvmym",
        "colab": {
          "base_uri": "https://localhost:8080/",
          "height": 203
        },
        "outputId": "2c372688-36cf-4f79-9d7d-ddae77286b34"
      },
      "source": [
        "y_pred_final_test.head()"
      ],
      "execution_count": 226,
      "outputs": [
        {
          "output_type": "execute_result",
          "data": {
            "text/html": [
              "<div>\n",
              "<style scoped>\n",
              "    .dataframe tbody tr th:only-of-type {\n",
              "        vertical-align: middle;\n",
              "    }\n",
              "\n",
              "    .dataframe tbody tr th {\n",
              "        vertical-align: top;\n",
              "    }\n",
              "\n",
              "    .dataframe thead th {\n",
              "        text-align: right;\n",
              "    }\n",
              "</style>\n",
              "<table border=\"1\" class=\"dataframe\">\n",
              "  <thead>\n",
              "    <tr style=\"text-align: right;\">\n",
              "      <th></th>\n",
              "      <th>Class</th>\n",
              "      <th>0</th>\n",
              "    </tr>\n",
              "  </thead>\n",
              "  <tbody>\n",
              "    <tr>\n",
              "      <th>20720</th>\n",
              "      <td>0</td>\n",
              "      <td>0.208415</td>\n",
              "    </tr>\n",
              "    <tr>\n",
              "      <th>179064</th>\n",
              "      <td>0</td>\n",
              "      <td>0.145606</td>\n",
              "    </tr>\n",
              "    <tr>\n",
              "      <th>70783</th>\n",
              "      <td>0</td>\n",
              "      <td>0.065155</td>\n",
              "    </tr>\n",
              "    <tr>\n",
              "      <th>192473</th>\n",
              "      <td>0</td>\n",
              "      <td>0.765492</td>\n",
              "    </tr>\n",
              "    <tr>\n",
              "      <th>95055</th>\n",
              "      <td>0</td>\n",
              "      <td>0.136541</td>\n",
              "    </tr>\n",
              "  </tbody>\n",
              "</table>\n",
              "</div>"
            ],
            "text/plain": [
              "        Class         0\n",
              "20720       0  0.208415\n",
              "179064      0  0.145606\n",
              "70783       0  0.065155\n",
              "192473      0  0.765492\n",
              "95055       0  0.136541"
            ]
          },
          "metadata": {},
          "execution_count": 226
        }
      ]
    },
    {
      "cell_type": "code",
      "metadata": {
        "id": "-7GBcwlcvoX8"
      },
      "source": [
        "# Renaming the column \n",
        "y_pred_final_test= y_pred_final.rename(columns={ 0 : 'Fraud_Prob'})"
      ],
      "execution_count": 227,
      "outputs": []
    },
    {
      "cell_type": "code",
      "metadata": {
        "id": "w6vSuZAWvuDD"
      },
      "source": [
        "y_pred_final_test['final_predicted'] = y_pred_final_test.Fraud_Prob.map(lambda x: 1 if x > 0.4 else 0)"
      ],
      "execution_count": 228,
      "outputs": []
    },
    {
      "cell_type": "code",
      "metadata": {
        "id": "c9Oft6P_vz3Z",
        "colab": {
          "base_uri": "https://localhost:8080/",
          "height": 203
        },
        "outputId": "2c6f06c5-94c5-4799-9b52-5a1762645478"
      },
      "source": [
        "y_pred_final_test.head()"
      ],
      "execution_count": 230,
      "outputs": [
        {
          "output_type": "execute_result",
          "data": {
            "text/html": [
              "<div>\n",
              "<style scoped>\n",
              "    .dataframe tbody tr th:only-of-type {\n",
              "        vertical-align: middle;\n",
              "    }\n",
              "\n",
              "    .dataframe tbody tr th {\n",
              "        vertical-align: top;\n",
              "    }\n",
              "\n",
              "    .dataframe thead th {\n",
              "        text-align: right;\n",
              "    }\n",
              "</style>\n",
              "<table border=\"1\" class=\"dataframe\">\n",
              "  <thead>\n",
              "    <tr style=\"text-align: right;\">\n",
              "      <th></th>\n",
              "      <th>Class</th>\n",
              "      <th>Fraud_Prob</th>\n",
              "      <th>final_predicted</th>\n",
              "    </tr>\n",
              "  </thead>\n",
              "  <tbody>\n",
              "    <tr>\n",
              "      <th>20720</th>\n",
              "      <td>0</td>\n",
              "      <td>0.208415</td>\n",
              "      <td>0</td>\n",
              "    </tr>\n",
              "    <tr>\n",
              "      <th>179064</th>\n",
              "      <td>0</td>\n",
              "      <td>0.145606</td>\n",
              "      <td>0</td>\n",
              "    </tr>\n",
              "    <tr>\n",
              "      <th>70783</th>\n",
              "      <td>0</td>\n",
              "      <td>0.065155</td>\n",
              "      <td>0</td>\n",
              "    </tr>\n",
              "    <tr>\n",
              "      <th>192473</th>\n",
              "      <td>0</td>\n",
              "      <td>0.765492</td>\n",
              "      <td>1</td>\n",
              "    </tr>\n",
              "    <tr>\n",
              "      <th>95055</th>\n",
              "      <td>0</td>\n",
              "      <td>0.136541</td>\n",
              "      <td>0</td>\n",
              "    </tr>\n",
              "  </tbody>\n",
              "</table>\n",
              "</div>"
            ],
            "text/plain": [
              "        Class  Fraud_Prob  final_predicted\n",
              "20720       0    0.208415                0\n",
              "179064      0    0.145606                0\n",
              "70783       0    0.065155                0\n",
              "192473      0    0.765492                1\n",
              "95055       0    0.136541                0"
            ]
          },
          "metadata": {},
          "execution_count": 230
        }
      ]
    },
    {
      "cell_type": "code",
      "metadata": {
        "id": "L0V3JhgQv1ny",
        "colab": {
          "base_uri": "https://localhost:8080/"
        },
        "outputId": "86229ddd-5832-4cc4-f4b4-0e898a0ff507"
      },
      "source": [
        "# Let's check the overall accuracy.\n",
        "print(metrics.accuracy_score(y_pred_final_test.Class, y_pred_final_test.final_predicted))"
      ],
      "execution_count": 232,
      "outputs": [
        {
          "output_type": "stream",
          "name": "stdout",
          "text": [
            "0.9087812927916857\n"
          ]
        }
      ]
    },
    {
      "cell_type": "code",
      "metadata": {
        "id": "FzIEfc5hv3qz",
        "colab": {
          "base_uri": "https://localhost:8080/"
        },
        "outputId": "91c5bb9b-3b44-495f-95da-dc033bae68a2"
      },
      "source": [
        "confusion2 = metrics.confusion_matrix(y_pred_final_test.Class, y_pred_final_test.final_predicted )\n",
        "confusion2"
      ],
      "execution_count": 233,
      "outputs": [
        {
          "output_type": "execute_result",
          "data": {
            "text/plain": [
              "array([[77489,  7781],\n",
              "       [   13,   160]])"
            ]
          },
          "metadata": {},
          "execution_count": 233
        }
      ]
    },
    {
      "cell_type": "code",
      "metadata": {
        "id": "VPatTyUDwCzF",
        "colab": {
          "base_uri": "https://localhost:8080/"
        },
        "outputId": "7eefe5ea-6d1c-4fcd-8857-b8568a07de6a"
      },
      "source": [
        "get_all_measures(confusion2)"
      ],
      "execution_count": 234,
      "outputs": [
        {
          "output_type": "stream",
          "name": "stdout",
          "text": [
            "Sensitivity is : 0.92\n",
            "\n",
            "specificity is : 0.91\n",
            "\n",
            "false_positive_rate is : 0.09\n",
            "\n",
            "negative_predictive_value is : 1.00\n",
            "\n",
            "precision is : 0.02\n",
            "\n",
            "recall is : 0.92\n",
            "\n"
          ]
        }
      ]
    },
    {
      "cell_type": "markdown",
      "metadata": {
        "id": "Z-aSDonQtHkq"
      },
      "source": [
        "# The precision in test data is very low. There are lots of false positives. "
      ]
    },
    {
      "cell_type": "code",
      "metadata": {
        "id": "AyRImvtOtAbS"
      },
      "source": [
        ""
      ],
      "execution_count": null,
      "outputs": []
    }
  ]
}