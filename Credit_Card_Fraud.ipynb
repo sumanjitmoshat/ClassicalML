{
  "nbformat": 4,
  "nbformat_minor": 0,
  "metadata": {
    "colab": {
      "name": "Credit_Card_Fraud.ipynb",
      "provenance": [],
      "collapsed_sections": [
        "pejBCrRKDw8I",
        "bbtFkH4eEDgb",
        "wG2XwdW1EKED",
        "FWsmS1JeEc4a",
        "SLt1ssnbHI46",
        "Ea-1xpTQHq0B",
        "soBaqdoETSbS",
        "JDfqWVmklFTS",
        "uS1Tru2_H4Ge",
        "JmqdNUuqRI7u",
        "EUflqAO2H53V",
        "3Xqiy0C_A3uB",
        "sKA-CoKOVZy8",
        "wVsa-RaIHq3g",
        "kna0PXqMIC5Q",
        "GrRMhN9mJ4E3",
        "5ZwwJxK7KCKP",
        "vlcYoSbwNRXE",
        "NN9LPDMdPpKr",
        "oPjcO3Brfs8I",
        "TX1DT0AdfiUu",
        "QLSuvitXfxrA",
        "nTCwxM8JoJQv",
        "_N78ZUU9ojW5",
        "h0w7V-WNprol",
        "k1eRGyNeqE9m",
        "PYgW7Kh2jwdp",
        "IlUjp3wojwdq",
        "_5KMCgD3jwdt",
        "guhd5i3_jwdv",
        "ALAYmAUhjwdx",
        "fyQQCyqajwdx",
        "4MystaAMjwdy",
        "OUlUaZUSjwdz",
        "MsXFwCoOjwdz",
        "WUmoBOTZjwd2",
        "EU0pZWO3jwd3"
      ],
      "include_colab_link": true
    },
    "kernelspec": {
      "display_name": "Python 3",
      "language": "python",
      "name": "python3"
    },
    "language_info": {
      "codemirror_mode": {
        "name": "ipython",
        "version": 3
      },
      "file_extension": ".py",
      "mimetype": "text/x-python",
      "name": "python",
      "nbconvert_exporter": "python",
      "pygments_lexer": "ipython3",
      "version": "3.8.3"
    }
  },
  "cells": [
    {
      "cell_type": "markdown",
      "metadata": {
        "id": "view-in-github",
        "colab_type": "text"
      },
      "source": [
        "<a href=\"https://colab.research.google.com/github/sumanjitmoshat/ClassicalML/blob/master/Credit_Card_Fraud.ipynb\" target=\"_parent\"><img src=\"https://colab.research.google.com/assets/colab-badge.svg\" alt=\"Open In Colab\"/></a>"
      ]
    },
    {
      "cell_type": "code",
      "metadata": {
        "id": "R2GadOvCmZn3"
      },
      "source": [
        "# importing packages and libraries \n",
        "import pandas as pd\n",
        "import seaborn as sns\n",
        "import matplotlib.pyplot as plt\n",
        "from imblearn.over_sampling import SMOTE\n",
        "from sklearn.model_selection import train_test_split\n",
        "from sklearn.linear_model import LogisticRegression\n",
        "from sklearn.feature_selection import RFE\n",
        "import statsmodels.api as sm\n",
        "import warnings\n",
        "from sklearn import metrics\n",
        "from statsmodels.stats.outliers_influence import variance_inflation_factor\n",
        "from sklearn.svm import SVC\n",
        "from sklearn.preprocessing import scale\n",
        "from sklearn.model_selection import KFold\n",
        "from sklearn.model_selection import cross_val_score\n",
        "from sklearn.model_selection import GridSearchCV\n",
        "from sklearn.model_selection import RandomizedSearchCV\n",
        "from sklearn.tree import DecisionTreeClassifier\n",
        "from sklearn.ensemble import RandomForestClassifier\n",
        "from sklearn.ensemble import AdaBoostClassifier\n",
        "from sklearn.ensemble import GradientBoostingClassifier\n",
        "import xgboost as xgb\n",
        "from xgboost import XGBClassifier\n",
        "from xgboost import plot_importance\n",
        "warnings.filterwarnings(\"ignore\") "
      ],
      "execution_count": null,
      "outputs": []
    },
    {
      "cell_type": "code",
      "metadata": {
        "colab": {
          "base_uri": "https://localhost:8080/"
        },
        "id": "mQmCTy8M5dYI",
        "outputId": "ca5d6653-6f8b-442b-a1c3-e83c184a5d0a"
      },
      "source": [
        "# connecting with kaggle to download the dataset \n",
        "! pip install -q kaggle\n",
        "! mkdir ~/.kaggle\n",
        "! cp kaggle.json ~/.kaggle/\n",
        "! chmod 600 ~/.kaggle/kaggle.json\n",
        "! kaggle datasets download -d mlg-ulb/creditcardfraud\n",
        "! mkdir creditcardfrauddataset\n",
        "! unzip creditcardfraud.zip -d creditcardfrauddataset"
      ],
      "execution_count": null,
      "outputs": [
        {
          "name": "stdout",
          "output_type": "stream",
          "text": [
            "^C\n"
          ]
        },
        {
          "name": "stderr",
          "output_type": "stream",
          "text": [
            "The syntax of the command is incorrect.\n",
            "'cp' is not recognized as an internal or external command,\n",
            "operable program or batch file.\n",
            "'chmod' is not recognized as an internal or external command,\n",
            "operable program or batch file.\n",
            "'kaggle' is not recognized as an internal or external command,\n",
            "operable program or batch file.\n",
            "'unzip' is not recognized as an internal or external command,\n",
            "operable program or batch file.\n"
          ]
        }
      ]
    },
    {
      "cell_type": "code",
      "metadata": {
        "colab": {
          "base_uri": "https://localhost:8080/"
        },
        "id": "Y61q4fUH5dkZ",
        "outputId": "c6157fc8-827e-4450-fb65-cc79c16bdee0"
      },
      "source": [
        "cd creditcardfrauddataset/"
      ],
      "execution_count": null,
      "outputs": [
        {
          "name": "stdout",
          "output_type": "stream",
          "text": [
            "/content/creditcardfrauddataset/creditcardfrauddataset\n"
          ]
        }
      ]
    },
    {
      "cell_type": "code",
      "metadata": {
        "id": "qYupPhlQ5on-"
      },
      "source": [
        "creditcardfraud = pd.read_csv('creditcard.csv')"
      ],
      "execution_count": null,
      "outputs": []
    },
    {
      "cell_type": "markdown",
      "metadata": {
        "id": "TTVXMb9n9Eta"
      },
      "source": [
        "## EDA and Pre-Processing"
      ]
    },
    {
      "cell_type": "code",
      "metadata": {
        "colab": {
          "base_uri": "https://localhost:8080/",
          "height": 223
        },
        "id": "_D2Z114F5qcD",
        "outputId": "5295d3ff-df3e-4cd0-b93c-ded40a1955bf"
      },
      "source": [
        "creditcardfraud.head()"
      ],
      "execution_count": null,
      "outputs": [
        {
          "data": {
            "text/html": [
              "<div>\n",
              "<style scoped>\n",
              "    .dataframe tbody tr th:only-of-type {\n",
              "        vertical-align: middle;\n",
              "    }\n",
              "\n",
              "    .dataframe tbody tr th {\n",
              "        vertical-align: top;\n",
              "    }\n",
              "\n",
              "    .dataframe thead th {\n",
              "        text-align: right;\n",
              "    }\n",
              "</style>\n",
              "<table border=\"1\" class=\"dataframe\">\n",
              "  <thead>\n",
              "    <tr style=\"text-align: right;\">\n",
              "      <th></th>\n",
              "      <th>Time</th>\n",
              "      <th>V1</th>\n",
              "      <th>V2</th>\n",
              "      <th>V3</th>\n",
              "      <th>V4</th>\n",
              "      <th>V5</th>\n",
              "      <th>V6</th>\n",
              "      <th>V7</th>\n",
              "      <th>V8</th>\n",
              "      <th>V9</th>\n",
              "      <th>...</th>\n",
              "      <th>V21</th>\n",
              "      <th>V22</th>\n",
              "      <th>V23</th>\n",
              "      <th>V24</th>\n",
              "      <th>V25</th>\n",
              "      <th>V26</th>\n",
              "      <th>V27</th>\n",
              "      <th>V28</th>\n",
              "      <th>Amount</th>\n",
              "      <th>Class</th>\n",
              "    </tr>\n",
              "  </thead>\n",
              "  <tbody>\n",
              "    <tr>\n",
              "      <th>0</th>\n",
              "      <td>0.0</td>\n",
              "      <td>-1.359807</td>\n",
              "      <td>-0.072781</td>\n",
              "      <td>2.536347</td>\n",
              "      <td>1.378155</td>\n",
              "      <td>-0.338321</td>\n",
              "      <td>0.462388</td>\n",
              "      <td>0.239599</td>\n",
              "      <td>0.098698</td>\n",
              "      <td>0.363787</td>\n",
              "      <td>...</td>\n",
              "      <td>-0.018307</td>\n",
              "      <td>0.277838</td>\n",
              "      <td>-0.110474</td>\n",
              "      <td>0.066928</td>\n",
              "      <td>0.128539</td>\n",
              "      <td>-0.189115</td>\n",
              "      <td>0.133558</td>\n",
              "      <td>-0.021053</td>\n",
              "      <td>149.62</td>\n",
              "      <td>0</td>\n",
              "    </tr>\n",
              "    <tr>\n",
              "      <th>1</th>\n",
              "      <td>0.0</td>\n",
              "      <td>1.191857</td>\n",
              "      <td>0.266151</td>\n",
              "      <td>0.166480</td>\n",
              "      <td>0.448154</td>\n",
              "      <td>0.060018</td>\n",
              "      <td>-0.082361</td>\n",
              "      <td>-0.078803</td>\n",
              "      <td>0.085102</td>\n",
              "      <td>-0.255425</td>\n",
              "      <td>...</td>\n",
              "      <td>-0.225775</td>\n",
              "      <td>-0.638672</td>\n",
              "      <td>0.101288</td>\n",
              "      <td>-0.339846</td>\n",
              "      <td>0.167170</td>\n",
              "      <td>0.125895</td>\n",
              "      <td>-0.008983</td>\n",
              "      <td>0.014724</td>\n",
              "      <td>2.69</td>\n",
              "      <td>0</td>\n",
              "    </tr>\n",
              "    <tr>\n",
              "      <th>2</th>\n",
              "      <td>1.0</td>\n",
              "      <td>-1.358354</td>\n",
              "      <td>-1.340163</td>\n",
              "      <td>1.773209</td>\n",
              "      <td>0.379780</td>\n",
              "      <td>-0.503198</td>\n",
              "      <td>1.800499</td>\n",
              "      <td>0.791461</td>\n",
              "      <td>0.247676</td>\n",
              "      <td>-1.514654</td>\n",
              "      <td>...</td>\n",
              "      <td>0.247998</td>\n",
              "      <td>0.771679</td>\n",
              "      <td>0.909412</td>\n",
              "      <td>-0.689281</td>\n",
              "      <td>-0.327642</td>\n",
              "      <td>-0.139097</td>\n",
              "      <td>-0.055353</td>\n",
              "      <td>-0.059752</td>\n",
              "      <td>378.66</td>\n",
              "      <td>0</td>\n",
              "    </tr>\n",
              "    <tr>\n",
              "      <th>3</th>\n",
              "      <td>1.0</td>\n",
              "      <td>-0.966272</td>\n",
              "      <td>-0.185226</td>\n",
              "      <td>1.792993</td>\n",
              "      <td>-0.863291</td>\n",
              "      <td>-0.010309</td>\n",
              "      <td>1.247203</td>\n",
              "      <td>0.237609</td>\n",
              "      <td>0.377436</td>\n",
              "      <td>-1.387024</td>\n",
              "      <td>...</td>\n",
              "      <td>-0.108300</td>\n",
              "      <td>0.005274</td>\n",
              "      <td>-0.190321</td>\n",
              "      <td>-1.175575</td>\n",
              "      <td>0.647376</td>\n",
              "      <td>-0.221929</td>\n",
              "      <td>0.062723</td>\n",
              "      <td>0.061458</td>\n",
              "      <td>123.50</td>\n",
              "      <td>0</td>\n",
              "    </tr>\n",
              "    <tr>\n",
              "      <th>4</th>\n",
              "      <td>2.0</td>\n",
              "      <td>-1.158233</td>\n",
              "      <td>0.877737</td>\n",
              "      <td>1.548718</td>\n",
              "      <td>0.403034</td>\n",
              "      <td>-0.407193</td>\n",
              "      <td>0.095921</td>\n",
              "      <td>0.592941</td>\n",
              "      <td>-0.270533</td>\n",
              "      <td>0.817739</td>\n",
              "      <td>...</td>\n",
              "      <td>-0.009431</td>\n",
              "      <td>0.798278</td>\n",
              "      <td>-0.137458</td>\n",
              "      <td>0.141267</td>\n",
              "      <td>-0.206010</td>\n",
              "      <td>0.502292</td>\n",
              "      <td>0.219422</td>\n",
              "      <td>0.215153</td>\n",
              "      <td>69.99</td>\n",
              "      <td>0</td>\n",
              "    </tr>\n",
              "  </tbody>\n",
              "</table>\n",
              "<p>5 rows × 31 columns</p>\n",
              "</div>"
            ],
            "text/plain": [
              "   Time        V1        V2        V3        V4        V5        V6        V7  \\\n",
              "0   0.0 -1.359807 -0.072781  2.536347  1.378155 -0.338321  0.462388  0.239599   \n",
              "1   0.0  1.191857  0.266151  0.166480  0.448154  0.060018 -0.082361 -0.078803   \n",
              "2   1.0 -1.358354 -1.340163  1.773209  0.379780 -0.503198  1.800499  0.791461   \n",
              "3   1.0 -0.966272 -0.185226  1.792993 -0.863291 -0.010309  1.247203  0.237609   \n",
              "4   2.0 -1.158233  0.877737  1.548718  0.403034 -0.407193  0.095921  0.592941   \n",
              "\n",
              "         V8        V9  ...       V21       V22       V23       V24       V25  \\\n",
              "0  0.098698  0.363787  ... -0.018307  0.277838 -0.110474  0.066928  0.128539   \n",
              "1  0.085102 -0.255425  ... -0.225775 -0.638672  0.101288 -0.339846  0.167170   \n",
              "2  0.247676 -1.514654  ...  0.247998  0.771679  0.909412 -0.689281 -0.327642   \n",
              "3  0.377436 -1.387024  ... -0.108300  0.005274 -0.190321 -1.175575  0.647376   \n",
              "4 -0.270533  0.817739  ... -0.009431  0.798278 -0.137458  0.141267 -0.206010   \n",
              "\n",
              "        V26       V27       V28  Amount  Class  \n",
              "0 -0.189115  0.133558 -0.021053  149.62      0  \n",
              "1  0.125895 -0.008983  0.014724    2.69      0  \n",
              "2 -0.139097 -0.055353 -0.059752  378.66      0  \n",
              "3 -0.221929  0.062723  0.061458  123.50      0  \n",
              "4  0.502292  0.219422  0.215153   69.99      0  \n",
              "\n",
              "[5 rows x 31 columns]"
            ]
          },
          "execution_count": 3,
          "metadata": {},
          "output_type": "execute_result"
        }
      ]
    },
    {
      "cell_type": "code",
      "metadata": {
        "colab": {
          "base_uri": "https://localhost:8080/"
        },
        "id": "LVz_r4Es508A",
        "outputId": "f9737257-7794-4168-9dea-049abd261de0"
      },
      "source": [
        "creditcardfraud.shape"
      ],
      "execution_count": null,
      "outputs": [
        {
          "data": {
            "text/plain": [
              "(284807, 31)"
            ]
          },
          "execution_count": 4,
          "metadata": {},
          "output_type": "execute_result"
        }
      ]
    },
    {
      "cell_type": "code",
      "metadata": {
        "colab": {
          "base_uri": "https://localhost:8080/"
        },
        "id": "JwSRBdez6G-L",
        "outputId": "b6dbc0d3-fc11-4d84-8ca3-152ab469784a"
      },
      "source": [
        "creditcardfraud.info()"
      ],
      "execution_count": null,
      "outputs": [
        {
          "name": "stdout",
          "output_type": "stream",
          "text": [
            "<class 'pandas.core.frame.DataFrame'>\n",
            "RangeIndex: 284807 entries, 0 to 284806\n",
            "Data columns (total 31 columns):\n",
            " #   Column  Non-Null Count   Dtype  \n",
            "---  ------  --------------   -----  \n",
            " 0   Time    284807 non-null  float64\n",
            " 1   V1      284807 non-null  float64\n",
            " 2   V2      284807 non-null  float64\n",
            " 3   V3      284807 non-null  float64\n",
            " 4   V4      284807 non-null  float64\n",
            " 5   V5      284807 non-null  float64\n",
            " 6   V6      284807 non-null  float64\n",
            " 7   V7      284807 non-null  float64\n",
            " 8   V8      284807 non-null  float64\n",
            " 9   V9      284807 non-null  float64\n",
            " 10  V10     284807 non-null  float64\n",
            " 11  V11     284807 non-null  float64\n",
            " 12  V12     284807 non-null  float64\n",
            " 13  V13     284807 non-null  float64\n",
            " 14  V14     284807 non-null  float64\n",
            " 15  V15     284807 non-null  float64\n",
            " 16  V16     284807 non-null  float64\n",
            " 17  V17     284807 non-null  float64\n",
            " 18  V18     284807 non-null  float64\n",
            " 19  V19     284807 non-null  float64\n",
            " 20  V20     284807 non-null  float64\n",
            " 21  V21     284807 non-null  float64\n",
            " 22  V22     284807 non-null  float64\n",
            " 23  V23     284807 non-null  float64\n",
            " 24  V24     284807 non-null  float64\n",
            " 25  V25     284807 non-null  float64\n",
            " 26  V26     284807 non-null  float64\n",
            " 27  V27     284807 non-null  float64\n",
            " 28  V28     284807 non-null  float64\n",
            " 29  Amount  284807 non-null  float64\n",
            " 30  Class   284807 non-null  int64  \n",
            "dtypes: float64(30), int64(1)\n",
            "memory usage: 67.4 MB\n"
          ]
        }
      ]
    },
    {
      "cell_type": "markdown",
      "metadata": {
        "id": "ORCEkXRF-K0p"
      },
      "source": [
        "### Transforming the time column to extract time taken by each transaction"
      ]
    },
    {
      "cell_type": "code",
      "metadata": {
        "id": "k8fzQlC36Q5h"
      },
      "source": [
        "creditcardfraud.Time = creditcardfraud.Time.diff().fillna(creditcardfraud.Time)"
      ],
      "execution_count": null,
      "outputs": []
    },
    {
      "cell_type": "code",
      "metadata": {
        "colab": {
          "base_uri": "https://localhost:8080/",
          "height": 315
        },
        "id": "9kQJ6GZU76QR",
        "outputId": "545fe640-c7b7-48dd-ccfa-4e694a7c392c"
      },
      "source": [
        "creditcardfraud.describe()"
      ],
      "execution_count": null,
      "outputs": [
        {
          "data": {
            "text/html": [
              "<div>\n",
              "<style scoped>\n",
              "    .dataframe tbody tr th:only-of-type {\n",
              "        vertical-align: middle;\n",
              "    }\n",
              "\n",
              "    .dataframe tbody tr th {\n",
              "        vertical-align: top;\n",
              "    }\n",
              "\n",
              "    .dataframe thead th {\n",
              "        text-align: right;\n",
              "    }\n",
              "</style>\n",
              "<table border=\"1\" class=\"dataframe\">\n",
              "  <thead>\n",
              "    <tr style=\"text-align: right;\">\n",
              "      <th></th>\n",
              "      <th>Time</th>\n",
              "      <th>V1</th>\n",
              "      <th>V2</th>\n",
              "      <th>V3</th>\n",
              "      <th>V4</th>\n",
              "      <th>V5</th>\n",
              "      <th>V6</th>\n",
              "      <th>V7</th>\n",
              "      <th>V8</th>\n",
              "      <th>V9</th>\n",
              "      <th>...</th>\n",
              "      <th>V21</th>\n",
              "      <th>V22</th>\n",
              "      <th>V23</th>\n",
              "      <th>V24</th>\n",
              "      <th>V25</th>\n",
              "      <th>V26</th>\n",
              "      <th>V27</th>\n",
              "      <th>V28</th>\n",
              "      <th>Amount</th>\n",
              "      <th>Class</th>\n",
              "    </tr>\n",
              "  </thead>\n",
              "  <tbody>\n",
              "    <tr>\n",
              "      <th>count</th>\n",
              "      <td>284807.000000</td>\n",
              "      <td>2.848070e+05</td>\n",
              "      <td>2.848070e+05</td>\n",
              "      <td>2.848070e+05</td>\n",
              "      <td>2.848070e+05</td>\n",
              "      <td>2.848070e+05</td>\n",
              "      <td>2.848070e+05</td>\n",
              "      <td>2.848070e+05</td>\n",
              "      <td>2.848070e+05</td>\n",
              "      <td>2.848070e+05</td>\n",
              "      <td>...</td>\n",
              "      <td>2.848070e+05</td>\n",
              "      <td>2.848070e+05</td>\n",
              "      <td>2.848070e+05</td>\n",
              "      <td>2.848070e+05</td>\n",
              "      <td>2.848070e+05</td>\n",
              "      <td>2.848070e+05</td>\n",
              "      <td>2.848070e+05</td>\n",
              "      <td>2.848070e+05</td>\n",
              "      <td>284807.000000</td>\n",
              "      <td>284807.000000</td>\n",
              "    </tr>\n",
              "    <tr>\n",
              "      <th>mean</th>\n",
              "      <td>0.606699</td>\n",
              "      <td>1.165980e-15</td>\n",
              "      <td>3.416908e-16</td>\n",
              "      <td>-1.373150e-15</td>\n",
              "      <td>2.086869e-15</td>\n",
              "      <td>9.604066e-16</td>\n",
              "      <td>1.490107e-15</td>\n",
              "      <td>-5.556467e-16</td>\n",
              "      <td>1.177556e-16</td>\n",
              "      <td>-2.406455e-15</td>\n",
              "      <td>...</td>\n",
              "      <td>1.656562e-16</td>\n",
              "      <td>-3.444850e-16</td>\n",
              "      <td>2.578648e-16</td>\n",
              "      <td>4.471968e-15</td>\n",
              "      <td>5.340915e-16</td>\n",
              "      <td>1.687098e-15</td>\n",
              "      <td>-3.666453e-16</td>\n",
              "      <td>-1.220404e-16</td>\n",
              "      <td>88.349619</td>\n",
              "      <td>0.001727</td>\n",
              "    </tr>\n",
              "    <tr>\n",
              "      <th>std</th>\n",
              "      <td>1.053380</td>\n",
              "      <td>1.958696e+00</td>\n",
              "      <td>1.651309e+00</td>\n",
              "      <td>1.516255e+00</td>\n",
              "      <td>1.415869e+00</td>\n",
              "      <td>1.380247e+00</td>\n",
              "      <td>1.332271e+00</td>\n",
              "      <td>1.237094e+00</td>\n",
              "      <td>1.194353e+00</td>\n",
              "      <td>1.098632e+00</td>\n",
              "      <td>...</td>\n",
              "      <td>7.345240e-01</td>\n",
              "      <td>7.257016e-01</td>\n",
              "      <td>6.244603e-01</td>\n",
              "      <td>6.056471e-01</td>\n",
              "      <td>5.212781e-01</td>\n",
              "      <td>4.822270e-01</td>\n",
              "      <td>4.036325e-01</td>\n",
              "      <td>3.300833e-01</td>\n",
              "      <td>250.120109</td>\n",
              "      <td>0.041527</td>\n",
              "    </tr>\n",
              "    <tr>\n",
              "      <th>min</th>\n",
              "      <td>0.000000</td>\n",
              "      <td>-5.640751e+01</td>\n",
              "      <td>-7.271573e+01</td>\n",
              "      <td>-4.832559e+01</td>\n",
              "      <td>-5.683171e+00</td>\n",
              "      <td>-1.137433e+02</td>\n",
              "      <td>-2.616051e+01</td>\n",
              "      <td>-4.355724e+01</td>\n",
              "      <td>-7.321672e+01</td>\n",
              "      <td>-1.343407e+01</td>\n",
              "      <td>...</td>\n",
              "      <td>-3.483038e+01</td>\n",
              "      <td>-1.093314e+01</td>\n",
              "      <td>-4.480774e+01</td>\n",
              "      <td>-2.836627e+00</td>\n",
              "      <td>-1.029540e+01</td>\n",
              "      <td>-2.604551e+00</td>\n",
              "      <td>-2.256568e+01</td>\n",
              "      <td>-1.543008e+01</td>\n",
              "      <td>0.000000</td>\n",
              "      <td>0.000000</td>\n",
              "    </tr>\n",
              "    <tr>\n",
              "      <th>25%</th>\n",
              "      <td>0.000000</td>\n",
              "      <td>-9.203734e-01</td>\n",
              "      <td>-5.985499e-01</td>\n",
              "      <td>-8.903648e-01</td>\n",
              "      <td>-8.486401e-01</td>\n",
              "      <td>-6.915971e-01</td>\n",
              "      <td>-7.682956e-01</td>\n",
              "      <td>-5.540759e-01</td>\n",
              "      <td>-2.086297e-01</td>\n",
              "      <td>-6.430976e-01</td>\n",
              "      <td>...</td>\n",
              "      <td>-2.283949e-01</td>\n",
              "      <td>-5.423504e-01</td>\n",
              "      <td>-1.618463e-01</td>\n",
              "      <td>-3.545861e-01</td>\n",
              "      <td>-3.171451e-01</td>\n",
              "      <td>-3.269839e-01</td>\n",
              "      <td>-7.083953e-02</td>\n",
              "      <td>-5.295979e-02</td>\n",
              "      <td>5.600000</td>\n",
              "      <td>0.000000</td>\n",
              "    </tr>\n",
              "    <tr>\n",
              "      <th>50%</th>\n",
              "      <td>0.000000</td>\n",
              "      <td>1.810880e-02</td>\n",
              "      <td>6.548556e-02</td>\n",
              "      <td>1.798463e-01</td>\n",
              "      <td>-1.984653e-02</td>\n",
              "      <td>-5.433583e-02</td>\n",
              "      <td>-2.741871e-01</td>\n",
              "      <td>4.010308e-02</td>\n",
              "      <td>2.235804e-02</td>\n",
              "      <td>-5.142873e-02</td>\n",
              "      <td>...</td>\n",
              "      <td>-2.945017e-02</td>\n",
              "      <td>6.781943e-03</td>\n",
              "      <td>-1.119293e-02</td>\n",
              "      <td>4.097606e-02</td>\n",
              "      <td>1.659350e-02</td>\n",
              "      <td>-5.213911e-02</td>\n",
              "      <td>1.342146e-03</td>\n",
              "      <td>1.124383e-02</td>\n",
              "      <td>22.000000</td>\n",
              "      <td>0.000000</td>\n",
              "    </tr>\n",
              "    <tr>\n",
              "      <th>75%</th>\n",
              "      <td>1.000000</td>\n",
              "      <td>1.315642e+00</td>\n",
              "      <td>8.037239e-01</td>\n",
              "      <td>1.027196e+00</td>\n",
              "      <td>7.433413e-01</td>\n",
              "      <td>6.119264e-01</td>\n",
              "      <td>3.985649e-01</td>\n",
              "      <td>5.704361e-01</td>\n",
              "      <td>3.273459e-01</td>\n",
              "      <td>5.971390e-01</td>\n",
              "      <td>...</td>\n",
              "      <td>1.863772e-01</td>\n",
              "      <td>5.285536e-01</td>\n",
              "      <td>1.476421e-01</td>\n",
              "      <td>4.395266e-01</td>\n",
              "      <td>3.507156e-01</td>\n",
              "      <td>2.409522e-01</td>\n",
              "      <td>9.104512e-02</td>\n",
              "      <td>7.827995e-02</td>\n",
              "      <td>77.165000</td>\n",
              "      <td>0.000000</td>\n",
              "    </tr>\n",
              "    <tr>\n",
              "      <th>max</th>\n",
              "      <td>32.000000</td>\n",
              "      <td>2.454930e+00</td>\n",
              "      <td>2.205773e+01</td>\n",
              "      <td>9.382558e+00</td>\n",
              "      <td>1.687534e+01</td>\n",
              "      <td>3.480167e+01</td>\n",
              "      <td>7.330163e+01</td>\n",
              "      <td>1.205895e+02</td>\n",
              "      <td>2.000721e+01</td>\n",
              "      <td>1.559499e+01</td>\n",
              "      <td>...</td>\n",
              "      <td>2.720284e+01</td>\n",
              "      <td>1.050309e+01</td>\n",
              "      <td>2.252841e+01</td>\n",
              "      <td>4.584549e+00</td>\n",
              "      <td>7.519589e+00</td>\n",
              "      <td>3.517346e+00</td>\n",
              "      <td>3.161220e+01</td>\n",
              "      <td>3.384781e+01</td>\n",
              "      <td>25691.160000</td>\n",
              "      <td>1.000000</td>\n",
              "    </tr>\n",
              "  </tbody>\n",
              "</table>\n",
              "<p>8 rows × 31 columns</p>\n",
              "</div>"
            ],
            "text/plain": [
              "                Time            V1            V2            V3            V4  \\\n",
              "count  284807.000000  2.848070e+05  2.848070e+05  2.848070e+05  2.848070e+05   \n",
              "mean        0.606699  1.165980e-15  3.416908e-16 -1.373150e-15  2.086869e-15   \n",
              "std         1.053380  1.958696e+00  1.651309e+00  1.516255e+00  1.415869e+00   \n",
              "min         0.000000 -5.640751e+01 -7.271573e+01 -4.832559e+01 -5.683171e+00   \n",
              "25%         0.000000 -9.203734e-01 -5.985499e-01 -8.903648e-01 -8.486401e-01   \n",
              "50%         0.000000  1.810880e-02  6.548556e-02  1.798463e-01 -1.984653e-02   \n",
              "75%         1.000000  1.315642e+00  8.037239e-01  1.027196e+00  7.433413e-01   \n",
              "max        32.000000  2.454930e+00  2.205773e+01  9.382558e+00  1.687534e+01   \n",
              "\n",
              "                 V5            V6            V7            V8            V9  \\\n",
              "count  2.848070e+05  2.848070e+05  2.848070e+05  2.848070e+05  2.848070e+05   \n",
              "mean   9.604066e-16  1.490107e-15 -5.556467e-16  1.177556e-16 -2.406455e-15   \n",
              "std    1.380247e+00  1.332271e+00  1.237094e+00  1.194353e+00  1.098632e+00   \n",
              "min   -1.137433e+02 -2.616051e+01 -4.355724e+01 -7.321672e+01 -1.343407e+01   \n",
              "25%   -6.915971e-01 -7.682956e-01 -5.540759e-01 -2.086297e-01 -6.430976e-01   \n",
              "50%   -5.433583e-02 -2.741871e-01  4.010308e-02  2.235804e-02 -5.142873e-02   \n",
              "75%    6.119264e-01  3.985649e-01  5.704361e-01  3.273459e-01  5.971390e-01   \n",
              "max    3.480167e+01  7.330163e+01  1.205895e+02  2.000721e+01  1.559499e+01   \n",
              "\n",
              "       ...           V21           V22           V23           V24  \\\n",
              "count  ...  2.848070e+05  2.848070e+05  2.848070e+05  2.848070e+05   \n",
              "mean   ...  1.656562e-16 -3.444850e-16  2.578648e-16  4.471968e-15   \n",
              "std    ...  7.345240e-01  7.257016e-01  6.244603e-01  6.056471e-01   \n",
              "min    ... -3.483038e+01 -1.093314e+01 -4.480774e+01 -2.836627e+00   \n",
              "25%    ... -2.283949e-01 -5.423504e-01 -1.618463e-01 -3.545861e-01   \n",
              "50%    ... -2.945017e-02  6.781943e-03 -1.119293e-02  4.097606e-02   \n",
              "75%    ...  1.863772e-01  5.285536e-01  1.476421e-01  4.395266e-01   \n",
              "max    ...  2.720284e+01  1.050309e+01  2.252841e+01  4.584549e+00   \n",
              "\n",
              "                V25           V26           V27           V28         Amount  \\\n",
              "count  2.848070e+05  2.848070e+05  2.848070e+05  2.848070e+05  284807.000000   \n",
              "mean   5.340915e-16  1.687098e-15 -3.666453e-16 -1.220404e-16      88.349619   \n",
              "std    5.212781e-01  4.822270e-01  4.036325e-01  3.300833e-01     250.120109   \n",
              "min   -1.029540e+01 -2.604551e+00 -2.256568e+01 -1.543008e+01       0.000000   \n",
              "25%   -3.171451e-01 -3.269839e-01 -7.083953e-02 -5.295979e-02       5.600000   \n",
              "50%    1.659350e-02 -5.213911e-02  1.342146e-03  1.124383e-02      22.000000   \n",
              "75%    3.507156e-01  2.409522e-01  9.104512e-02  7.827995e-02      77.165000   \n",
              "max    7.519589e+00  3.517346e+00  3.161220e+01  3.384781e+01   25691.160000   \n",
              "\n",
              "               Class  \n",
              "count  284807.000000  \n",
              "mean        0.001727  \n",
              "std         0.041527  \n",
              "min         0.000000  \n",
              "25%         0.000000  \n",
              "50%         0.000000  \n",
              "75%         0.000000  \n",
              "max         1.000000  \n",
              "\n",
              "[8 rows x 31 columns]"
            ]
          },
          "execution_count": 7,
          "metadata": {},
          "output_type": "execute_result"
        }
      ]
    },
    {
      "cell_type": "code",
      "metadata": {
        "colab": {
          "base_uri": "https://localhost:8080/",
          "height": 279
        },
        "id": "2PIT7RHm8kPP",
        "outputId": "0ae6d3d9-7381-4e96-cc31-4baafe1f5d56"
      },
      "source": [
        "sns.countplot(x='Class',data=creditcardfraud)\n",
        "plt.show()"
      ],
      "execution_count": null,
      "outputs": [
        {
          "data": {
            "image/png": "[encoded data removed]",
            "text/plain": [
              "<Figure size 432x288 with 1 Axes>"
            ]
          },
          "metadata": {
            "needs_background": "light"
          },
          "output_type": "display_data"
        }
      ]
    },
    {
      "cell_type": "markdown",
      "metadata": {
        "id": "_tTVePdrgpD0"
      },
      "source": [
        "## From the above plot it's clear that the dataset is imbalanced"
      ]
    },
    {
      "cell_type": "markdown",
      "metadata": {
        "id": "wj0Wyw_gwwiw"
      },
      "source": [
        "## Creating X and y(target) from the dataset"
      ]
    },
    {
      "cell_type": "code",
      "metadata": {
        "id": "MbFeGQ9ykght"
      },
      "source": [
        "X = creditcardfraud.drop(columns='Class')\n",
        "y = creditcardfraud.Class"
      ],
      "execution_count": null,
      "outputs": []
    },
    {
      "cell_type": "markdown",
      "metadata": {
        "id": "pejBCrRKDw8I"
      },
      "source": [
        "### splitting the dataset into train and test "
      ]
    },
    {
      "cell_type": "code",
      "metadata": {
        "id": "jEs-5hzokTnR"
      },
      "source": [
        "X_train, X_test, y_train, y_test = train_test_split(X,y,test_size=0.30)"
      ],
      "execution_count": null,
      "outputs": []
    },
    {
      "cell_type": "markdown",
      "metadata": {
        "id": "bbtFkH4eEDgb"
      },
      "source": [
        "## initializing SMOTE to make the dataset balanced"
      ]
    },
    {
      "cell_type": "code",
      "metadata": {
        "id": "jsSCnvHNgvOP"
      },
      "source": [
        "SMOTE = SMOTE()"
      ],
      "execution_count": null,
      "outputs": []
    },
    {
      "cell_type": "markdown",
      "metadata": {
        "id": "wG2XwdW1EKED"
      },
      "source": [
        "### Creating balanced train data from the dataset"
      ]
    },
    {
      "cell_type": "code",
      "metadata": {
        "id": "Y-bGueOukHk5"
      },
      "source": [
        "X_train_SMOTE, y_train_SMOTE = SMOTE.fit_resample(X_train, y_train)"
      ],
      "execution_count": null,
      "outputs": []
    },
    {
      "cell_type": "markdown",
      "metadata": {
        "id": "FWsmS1JeEc4a"
      },
      "source": [
        "### Creating a dataframe from the SMOTE numpy arrays for processing"
      ]
    },
    {
      "cell_type": "code",
      "metadata": {
        "id": "OE8Tafq5ozs7"
      },
      "source": [
        "X_train_SMOTE = pd.DataFrame(X_train_SMOTE, columns=X_train.columns)"
      ],
      "execution_count": null,
      "outputs": []
    },
    {
      "cell_type": "code",
      "metadata": {
        "id": "uMxvQdoFFOJR"
      },
      "source": [
        "### initializing a logistic regression model and rfe for selecting top 15 features"
      ],
      "execution_count": null,
      "outputs": []
    },
    {
      "cell_type": "code",
      "metadata": {
        "id": "xLXwu3Avkna4"
      },
      "source": [
        "logreg = LogisticRegression()\n",
        "rfe = RFE(logreg, 15)             # running RFE with 15 variables as output\n",
        "rfe = rfe.fit(X_train_SMOTE, y_train_SMOTE)"
      ],
      "execution_count": null,
      "outputs": []
    },
    {
      "cell_type": "code",
      "metadata": {
        "colab": {
          "base_uri": "https://localhost:8080/"
        },
        "id": "92n4yh0zltyA",
        "outputId": "f5a3a04f-f180-4424-f9de-a58cdb38569c"
      },
      "source": [
        "list(zip(X_train_SMOTE.columns, rfe.support_, rfe.ranking_))"
      ],
      "execution_count": null,
      "outputs": [
        {
          "data": {
            "text/plain": [
              "[('Time', False, 6),\n",
              " ('V1', False, 2),\n",
              " ('V2', False, 11),\n",
              " ('V3', False, 5),\n",
              " ('V4', True, 1),\n",
              " ('V5', False, 7),\n",
              " ('V6', True, 1),\n",
              " ('V7', False, 15),\n",
              " ('V8', True, 1),\n",
              " ('V9', True, 1),\n",
              " ('V10', True, 1),\n",
              " ('V11', True, 1),\n",
              " ('V12', True, 1),\n",
              " ('V13', True, 1),\n",
              " ('V14', True, 1),\n",
              " ('V15', False, 14),\n",
              " ('V16', True, 1),\n",
              " ('V17', True, 1),\n",
              " ('V18', True, 1),\n",
              " ('V19', False, 3),\n",
              " ('V20', False, 12),\n",
              " ('V21', False, 13),\n",
              " ('V22', False, 8),\n",
              " ('V23', False, 4),\n",
              " ('V24', False, 10),\n",
              " ('V25', True, 1),\n",
              " ('V26', False, 9),\n",
              " ('V27', True, 1),\n",
              " ('V28', True, 1),\n",
              " ('Amount', False, 16)]"
            ]
          },
          "execution_count": 18,
          "metadata": {},
          "output_type": "execute_result"
        }
      ]
    },
    {
      "cell_type": "code",
      "metadata": {
        "id": "Zq9vXfh3mAHW"
      },
      "source": [
        "col = X_train_SMOTE.columns[rfe.support_]"
      ],
      "execution_count": null,
      "outputs": []
    },
    {
      "cell_type": "code",
      "metadata": {
        "colab": {
          "base_uri": "https://localhost:8080/"
        },
        "id": "aT_SdaYNmDIL",
        "outputId": "f2a660b9-a67e-43c4-e206-24ccfed6ec0f"
      },
      "source": [
        "X_train_SMOTE.columns[~rfe.support_]"
      ],
      "execution_count": null,
      "outputs": [
        {
          "data": {
            "text/plain": [
              "Index(['Time', 'V1', 'V2', 'V3', 'V5', 'V7', 'V15', 'V19', 'V20', 'V21', 'V22',\n",
              "       'V23', 'V24', 'V26', 'Amount'],\n",
              "      dtype='object')"
            ]
          },
          "execution_count": 20,
          "metadata": {},
          "output_type": "execute_result"
        }
      ]
    },
    {
      "cell_type": "markdown",
      "metadata": {
        "id": "5qNmpuGe_WZ4"
      },
      "source": [
        "# Defining several methods to be reused"
      ]
    },
    {
      "cell_type": "code",
      "metadata": {
        "id": "-nCarBVlOElA"
      },
      "source": [
        "# defining a method to generate a logistic model\n",
        "def get_logistic_model(X_train , columns , y_train):\n",
        "  X_train_sm = sm.add_constant(X_train[col])\n",
        "  logreg = sm.GLM(y_train,X_train_sm, family = sm.families.Binomial())\n",
        "  res = logreg.fit()\n",
        "  return res,X_train_sm"
      ],
      "execution_count": null,
      "outputs": []
    },
    {
      "cell_type": "code",
      "metadata": {
        "id": "Bnr4lNfCPbtW"
      },
      "source": [
        "# defining a method to generate the prediction dataset\n",
        "def get_prediction_dataset(res,X_train_sm,y_train_SMOTE,cutoff):\n",
        "  y_train_pred = res.predict(X_train_sm)\n",
        "  y_train_pred = y_train_pred.values.reshape(-1)\n",
        "  y_train_pred_final = pd.DataFrame({'Fraud':y_train_SMOTE, 'Fraud_Prob':y_train_pred})\n",
        "  y_train_pred_final['predicted'] = y_train_pred_final.Fraud_Prob.map(lambda x: 1 if x > cutoff else 0)\n",
        "  return y_train_pred_final"
      ],
      "execution_count": null,
      "outputs": []
    },
    {
      "cell_type": "code",
      "metadata": {
        "id": "YKOFarioT0De"
      },
      "source": [
        "# defining a method to genenate the confusion matrix\n",
        "def get_confusion_matrix(predictionmatrix):\n",
        "  confusion = metrics.confusion_matrix(predictionmatrix.Fraud, predictionmatrix.predicted )\n",
        "  return confusion"
      ],
      "execution_count": null,
      "outputs": []
    },
    {
      "cell_type": "code",
      "metadata": {
        "id": "eAOXCGeDUxpu"
      },
      "source": [
        "# defininf a method to get accuracy\n",
        "def get_accuracy(y_train_pred_final):\n",
        "  accuracy = metrics.accuracy_score(y_train_pred_final.Fraud, y_train_pred_final.predicted)\n",
        "  return accuracy"
      ],
      "execution_count": null,
      "outputs": []
    },
    {
      "cell_type": "code",
      "metadata": {
        "id": "ag1RNwdIV_R2"
      },
      "source": [
        "# defining a method for getting VIF\n",
        "def get_vif(X_train,columns):\n",
        "  vif = pd.DataFrame()\n",
        "  vif['Features'] = X_train_SMOTE[col].columns\n",
        "  vif['VIF'] = [variance_inflation_factor(X_train_SMOTE[col].values, i) for i in range(X_train_SMOTE[col].shape[1])]\n",
        "  vif['VIF'] = round(vif['VIF'], 2)\n",
        "  vif = vif.sort_values(by = \"VIF\", ascending = False)\n",
        "  print(vif)"
      ],
      "execution_count": null,
      "outputs": []
    },
    {
      "cell_type": "code",
      "metadata": {
        "id": "rvglaM3Cfwzh"
      },
      "source": [
        "# defining a method to generate roc curve\n",
        "def draw_roc( actual, probs ):\n",
        "    fpr, tpr, thresholds = metrics.roc_curve( actual, probs,\n",
        "                                              drop_intermediate = False )\n",
        "    auc_score = metrics.roc_auc_score( actual, probs )\n",
        "    plt.figure(figsize=(5, 5))\n",
        "    plt.plot( fpr, tpr, label='ROC curve (area = %0.2f)' % auc_score )\n",
        "    plt.plot([0, 1], [0, 1], 'k--')\n",
        "    plt.xlim([0.0, 1.0])\n",
        "    plt.ylim([0.0, 1.05])\n",
        "    plt.xlabel('False Positive Rate or [1 - True Negative Rate]')\n",
        "    plt.ylabel('True Positive Rate')\n",
        "    plt.title('Receiver operating characteristic example')\n",
        "    plt.legend(loc=\"lower right\")\n",
        "    plt.show()\n",
        "\n",
        "    return None"
      ],
      "execution_count": null,
      "outputs": []
    },
    {
      "cell_type": "code",
      "metadata": {
        "id": "DrN9hCtajTkQ"
      },
      "source": [
        "# method which prints all the measures from a confusion matrix\n",
        "def get_all_measures(confusion):\n",
        "  TP = confusion[1,1] # true positive \n",
        "  TN = confusion[0,0] # true negatives\n",
        "  FP = confusion[0,1] # false positives\n",
        "  FN = confusion[1,0] # false negatives\n",
        "  sensitivity = TP / float(TP+FN)\n",
        "  specificity = TN / float(TN+FP)\n",
        "  false_positive_rate = FP/ float(TN+FP)\n",
        "  positive_predictive_value = TP / float(TP+FP)\n",
        "  negative_predictive_value = TN / float(TN+ FN)\n",
        "  precision = TP/(FP+TP)\n",
        "  recall = TP/(FN+TP)\n",
        "  print('Sensitivity is : ' + '{0:.2f}'.format(sensitivity) + '\\n')\n",
        "  print('specificity is : ' + '{0:.2f}'.format(specificity) + '\\n')\n",
        "  print('false_positive_rate is : ' + '{0:.2f}'.format(false_positive_rate) + '\\n')\n",
        "  print('negative_predictive_value is : ' + '{0:.2f}'.format(negative_predictive_value) + '\\n')\n",
        "  print('precision is : ' + '{0:.2f}'.format(precision) + '\\n')\n",
        "  print('recall is : ' + '{0:.2f}'.format(recall) + '\\n')"
      ],
      "execution_count": null,
      "outputs": []
    },
    {
      "cell_type": "code",
      "metadata": {
        "colab": {
          "base_uri": "https://localhost:8080/",
          "height": 567
        },
        "id": "Y7-A0dmooMFa",
        "outputId": "6e2afe08-bf91-4e2d-8b8a-7597d0bb75d8"
      },
      "source": [
        "# creating a logistic regression with top 15 features that we got from RFE\n",
        "res,X_train_sm = get_logistic_model(X_train_SMOTE,col,y_train_SMOTE)\n",
        "res.summary()"
      ],
      "execution_count": null,
      "outputs": [
        {
          "data": {
            "text/html": [
              "<table class=\"simpletable\">\n",
              "<caption>Generalized Linear Model Regression Results</caption>\n",
              "<tr>\n",
              "  <th>Dep. Variable:</th>           <td>y</td>        <th>  No. Observations:  </th>  <td>398030</td> \n",
              "</tr>\n",
              "<tr>\n",
              "  <th>Model:</th>                  <td>GLM</td>       <th>  Df Residuals:      </th>  <td>398014</td> \n",
              "</tr>\n",
              "<tr>\n",
              "  <th>Model Family:</th>        <td>Binomial</td>     <th>  Df Model:          </th>  <td>    15</td> \n",
              "</tr>\n",
              "<tr>\n",
              "  <th>Link Function:</th>         <td>logit</td>      <th>  Scale:             </th> <td>  1.0000</td>\n",
              "</tr>\n",
              "<tr>\n",
              "  <th>Method:</th>                <td>IRLS</td>       <th>  Log-Likelihood:    </th> <td>     nan</td>\n",
              "</tr>\n",
              "<tr>\n",
              "  <th>Date:</th>            <td>Tue, 14 Sep 2021</td> <th>  Deviance:          </th> <td>     nan</td>\n",
              "</tr>\n",
              "<tr>\n",
              "  <th>Time:</th>                <td>21:40:09</td>     <th>  Pearson chi2:      </th> <td>9.60e+16</td>\n",
              "</tr>\n",
              "<tr>\n",
              "  <th>No. Iterations:</th>         <td>100</td>       <th>                     </th>     <td> </td>   \n",
              "</tr>\n",
              "<tr>\n",
              "  <th>Covariance Type:</th>     <td>nonrobust</td>    <th>                     </th>     <td> </td>   \n",
              "</tr>\n",
              "</table>\n",
              "<table class=\"simpletable\">\n",
              "<tr>\n",
              "    <td></td>       <th>coef</th>     <th>std err</th>      <th>z</th>      <th>P>|z|</th>  <th>[0.025</th>    <th>0.975]</th>  \n",
              "</tr>\n",
              "<tr>\n",
              "  <th>const</th> <td>   -3.7739</td> <td>    0.016</td> <td> -238.841</td> <td> 0.000</td> <td>   -3.805</td> <td>   -3.743</td>\n",
              "</tr>\n",
              "<tr>\n",
              "  <th>V4</th>    <td>    0.8693</td> <td>    0.008</td> <td>  112.038</td> <td> 0.000</td> <td>    0.854</td> <td>    0.885</td>\n",
              "</tr>\n",
              "<tr>\n",
              "  <th>V6</th>    <td>   -0.2703</td> <td>    0.008</td> <td>  -32.461</td> <td> 0.000</td> <td>   -0.287</td> <td>   -0.254</td>\n",
              "</tr>\n",
              "<tr>\n",
              "  <th>V8</th>    <td>   -0.4313</td> <td>    0.007</td> <td>  -61.834</td> <td> 0.000</td> <td>   -0.445</td> <td>   -0.418</td>\n",
              "</tr>\n",
              "<tr>\n",
              "  <th>V9</th>    <td>   -0.3979</td> <td>    0.011</td> <td>  -36.250</td> <td> 0.000</td> <td>   -0.419</td> <td>   -0.376</td>\n",
              "</tr>\n",
              "<tr>\n",
              "  <th>V10</th>   <td>   -0.5749</td> <td>    0.012</td> <td>  -47.302</td> <td> 0.000</td> <td>   -0.599</td> <td>   -0.551</td>\n",
              "</tr>\n",
              "<tr>\n",
              "  <th>V11</th>   <td>    0.5102</td> <td>    0.011</td> <td>   46.487</td> <td> 0.000</td> <td>    0.489</td> <td>    0.532</td>\n",
              "</tr>\n",
              "<tr>\n",
              "  <th>V12</th>   <td>   -0.8566</td> <td>    0.013</td> <td>  -67.312</td> <td> 0.000</td> <td>   -0.882</td> <td>   -0.832</td>\n",
              "</tr>\n",
              "<tr>\n",
              "  <th>V13</th>   <td>   -0.2993</td> <td>    0.010</td> <td>  -28.761</td> <td> 0.000</td> <td>   -0.320</td> <td>   -0.279</td>\n",
              "</tr>\n",
              "<tr>\n",
              "  <th>V14</th>   <td>   -1.3536</td> <td>    0.013</td> <td> -107.264</td> <td> 0.000</td> <td>   -1.378</td> <td>   -1.329</td>\n",
              "</tr>\n",
              "<tr>\n",
              "  <th>V16</th>   <td>   -0.6128</td> <td>    0.014</td> <td>  -43.698</td> <td> 0.000</td> <td>   -0.640</td> <td>   -0.585</td>\n",
              "</tr>\n",
              "<tr>\n",
              "  <th>V17</th>   <td>   -0.5139</td> <td>    0.016</td> <td>  -31.770</td> <td> 0.000</td> <td>   -0.546</td> <td>   -0.482</td>\n",
              "</tr>\n",
              "<tr>\n",
              "  <th>V18</th>   <td>   -0.4409</td> <td>    0.014</td> <td>  -30.753</td> <td> 0.000</td> <td>   -0.469</td> <td>   -0.413</td>\n",
              "</tr>\n",
              "<tr>\n",
              "  <th>V25</th>   <td>    0.4616</td> <td>    0.019</td> <td>   24.250</td> <td> 0.000</td> <td>    0.424</td> <td>    0.499</td>\n",
              "</tr>\n",
              "<tr>\n",
              "  <th>V27</th>   <td>    0.3897</td> <td>    0.025</td> <td>   15.541</td> <td> 0.000</td> <td>    0.341</td> <td>    0.439</td>\n",
              "</tr>\n",
              "<tr>\n",
              "  <th>V28</th>   <td>    0.4971</td> <td>    0.031</td> <td>   16.088</td> <td> 0.000</td> <td>    0.437</td> <td>    0.558</td>\n",
              "</tr>\n",
              "</table>"
            ],
            "text/plain": [
              "<class 'statsmodels.iolib.summary.Summary'>\n",
              "\"\"\"\n",
              "                 Generalized Linear Model Regression Results                  \n",
              "==============================================================================\n",
              "Dep. Variable:                      y   No. Observations:               398030\n",
              "Model:                            GLM   Df Residuals:                   398014\n",
              "Model Family:                Binomial   Df Model:                           15\n",
              "Link Function:                  logit   Scale:                          1.0000\n",
              "Method:                          IRLS   Log-Likelihood:                    nan\n",
              "Date:                Tue, 14 Sep 2021   Deviance:                          nan\n",
              "Time:                        21:40:09   Pearson chi2:                 9.60e+16\n",
              "No. Iterations:                   100                                         \n",
              "Covariance Type:            nonrobust                                         \n",
              "==============================================================================\n",
              "                 coef    std err          z      P>|z|      [0.025      0.975]\n",
              "------------------------------------------------------------------------------\n",
              "const         -3.7739      0.016   -238.841      0.000      -3.805      -3.743\n",
              "V4             0.8693      0.008    112.038      0.000       0.854       0.885\n",
              "V6            -0.2703      0.008    -32.461      0.000      -0.287      -0.254\n",
              "V8            -0.4313      0.007    -61.834      0.000      -0.445      -0.418\n",
              "V9            -0.3979      0.011    -36.250      0.000      -0.419      -0.376\n",
              "V10           -0.5749      0.012    -47.302      0.000      -0.599      -0.551\n",
              "V11            0.5102      0.011     46.487      0.000       0.489       0.532\n",
              "V12           -0.8566      0.013    -67.312      0.000      -0.882      -0.832\n",
              "V13           -0.2993      0.010    -28.761      0.000      -0.320      -0.279\n",
              "V14           -1.3536      0.013   -107.264      0.000      -1.378      -1.329\n",
              "V16           -0.6128      0.014    -43.698      0.000      -0.640      -0.585\n",
              "V17           -0.5139      0.016    -31.770      0.000      -0.546      -0.482\n",
              "V18           -0.4409      0.014    -30.753      0.000      -0.469      -0.413\n",
              "V25            0.4616      0.019     24.250      0.000       0.424       0.499\n",
              "V27            0.3897      0.025     15.541      0.000       0.341       0.439\n",
              "V28            0.4971      0.031     16.088      0.000       0.437       0.558\n",
              "==============================================================================\n",
              "\"\"\""
            ]
          },
          "execution_count": 28,
          "metadata": {},
          "output_type": "execute_result"
        }
      ]
    },
    {
      "cell_type": "code",
      "metadata": {
        "id": "Wz5IC1-TS-7K"
      },
      "source": [
        "y_train_pred = get_prediction_dataset(res,X_train_sm,y_train_SMOTE,0.5)"
      ],
      "execution_count": null,
      "outputs": []
    },
    {
      "cell_type": "markdown",
      "metadata": {
        "id": "SLt1ssnbHI46"
      },
      "source": [
        "### creating the confusion matrix"
      ]
    },
    {
      "cell_type": "code",
      "metadata": {
        "colab": {
          "base_uri": "https://localhost:8080/",
          "height": 417
        },
        "id": "Rn9WqLkam8RD",
        "outputId": "31036c5e-606a-4b40-9b34-9f41f3580540"
      },
      "source": [
        "y_train_pred"
      ],
      "execution_count": null,
      "outputs": [
        {
          "data": {
            "text/html": [
              "<div>\n",
              "<style scoped>\n",
              "    .dataframe tbody tr th:only-of-type {\n",
              "        vertical-align: middle;\n",
              "    }\n",
              "\n",
              "    .dataframe tbody tr th {\n",
              "        vertical-align: top;\n",
              "    }\n",
              "\n",
              "    .dataframe thead th {\n",
              "        text-align: right;\n",
              "    }\n",
              "</style>\n",
              "<table border=\"1\" class=\"dataframe\">\n",
              "  <thead>\n",
              "    <tr style=\"text-align: right;\">\n",
              "      <th></th>\n",
              "      <th>Fraud</th>\n",
              "      <th>Fraud_Porb</th>\n",
              "      <th>predicted</th>\n",
              "    </tr>\n",
              "  </thead>\n",
              "  <tbody>\n",
              "    <tr>\n",
              "      <th>0</th>\n",
              "      <td>0</td>\n",
              "      <td>0.036563</td>\n",
              "      <td>0</td>\n",
              "    </tr>\n",
              "    <tr>\n",
              "      <th>1</th>\n",
              "      <td>0</td>\n",
              "      <td>0.004460</td>\n",
              "      <td>0</td>\n",
              "    </tr>\n",
              "    <tr>\n",
              "      <th>2</th>\n",
              "      <td>0</td>\n",
              "      <td>0.003769</td>\n",
              "      <td>0</td>\n",
              "    </tr>\n",
              "    <tr>\n",
              "      <th>3</th>\n",
              "      <td>0</td>\n",
              "      <td>0.039157</td>\n",
              "      <td>0</td>\n",
              "    </tr>\n",
              "    <tr>\n",
              "      <th>4</th>\n",
              "      <td>0</td>\n",
              "      <td>0.003465</td>\n",
              "      <td>0</td>\n",
              "    </tr>\n",
              "    <tr>\n",
              "      <th>...</th>\n",
              "      <td>...</td>\n",
              "      <td>...</td>\n",
              "      <td>...</td>\n",
              "    </tr>\n",
              "    <tr>\n",
              "      <th>398025</th>\n",
              "      <td>1</td>\n",
              "      <td>1.000000</td>\n",
              "      <td>1</td>\n",
              "    </tr>\n",
              "    <tr>\n",
              "      <th>398026</th>\n",
              "      <td>1</td>\n",
              "      <td>1.000000</td>\n",
              "      <td>1</td>\n",
              "    </tr>\n",
              "    <tr>\n",
              "      <th>398027</th>\n",
              "      <td>1</td>\n",
              "      <td>1.000000</td>\n",
              "      <td>1</td>\n",
              "    </tr>\n",
              "    <tr>\n",
              "      <th>398028</th>\n",
              "      <td>1</td>\n",
              "      <td>1.000000</td>\n",
              "      <td>1</td>\n",
              "    </tr>\n",
              "    <tr>\n",
              "      <th>398029</th>\n",
              "      <td>1</td>\n",
              "      <td>1.000000</td>\n",
              "      <td>1</td>\n",
              "    </tr>\n",
              "  </tbody>\n",
              "</table>\n",
              "<p>398030 rows × 3 columns</p>\n",
              "</div>"
            ],
            "text/plain": [
              "        Fraud  Fraud_Porb  predicted\n",
              "0           0    0.036563          0\n",
              "1           0    0.004460          0\n",
              "2           0    0.003769          0\n",
              "3           0    0.039157          0\n",
              "4           0    0.003465          0\n",
              "...       ...         ...        ...\n",
              "398025      1    1.000000          1\n",
              "398026      1    1.000000          1\n",
              "398027      1    1.000000          1\n",
              "398028      1    1.000000          1\n",
              "398029      1    1.000000          1\n",
              "\n",
              "[398030 rows x 3 columns]"
            ]
          },
          "execution_count": 30,
          "metadata": {},
          "output_type": "execute_result"
        }
      ]
    },
    {
      "cell_type": "code",
      "metadata": {
        "colab": {
          "base_uri": "https://localhost:8080/"
        },
        "id": "9cNJG6yal4gJ",
        "outputId": "0d2c0bee-128a-4353-9cd9-6cbba96e206f"
      },
      "source": [
        "confusion = get_confusion_matrix(y_train_pred)\n",
        "print(confusion)"
      ],
      "execution_count": null,
      "outputs": [
        {
          "name": "stdout",
          "output_type": "stream",
          "text": [
            "[[196126   2889]\n",
            " [ 11621 187394]]\n"
          ]
        }
      ]
    },
    {
      "cell_type": "code",
      "metadata": {
        "colab": {
          "base_uri": "https://localhost:8080/"
        },
        "id": "H9vBIsXNmFsH",
        "outputId": "4d1b9764-b2ef-463b-d979-14bcb554649b"
      },
      "source": [
        "print(get_accuracy(y_train_pred))"
      ],
      "execution_count": null,
      "outputs": [
        {
          "name": "stdout",
          "output_type": "stream",
          "text": [
            "0.9635454613973821\n"
          ]
        }
      ]
    },
    {
      "cell_type": "code",
      "metadata": {
        "colab": {
          "base_uri": "https://localhost:8080/"
        },
        "id": "VBflSMTDmIqe",
        "outputId": "a0d33edd-8280-4c62-bef4-2250c1463fa3"
      },
      "source": [
        "get_vif(X_train_SMOTE,col)"
      ],
      "execution_count": null,
      "outputs": [
        {
          "name": "stdout",
          "output_type": "stream",
          "text": [
            "   Features    VIF\n",
            "10      V17  27.27\n",
            "6       V12  24.48\n",
            "9       V16  23.26\n",
            "4       V10  14.81\n",
            "8       V14  13.79\n",
            "11      V18  12.90\n",
            "5       V11  12.53\n",
            "0        V4   7.79\n",
            "3        V9   6.56\n",
            "1        V6   2.67\n",
            "2        V8   2.17\n",
            "13      V27   1.90\n",
            "14      V28   1.33\n",
            "12      V25   1.23\n",
            "7       V13   1.15\n"
          ]
        }
      ]
    },
    {
      "cell_type": "markdown",
      "metadata": {
        "id": "Ea-1xpTQHq0B"
      },
      "source": [
        "### dropping the column V12 from the dataset as it has very high VIF value"
      ]
    },
    {
      "cell_type": "code",
      "metadata": {
        "colab": {
          "base_uri": "https://localhost:8080/"
        },
        "id": "daBsrnZVnh5D",
        "outputId": "8ddaade5-7e0f-40be-977a-e9784b240377"
      },
      "source": [
        "col = col.drop('V17', 1)\n",
        "col"
      ],
      "execution_count": null,
      "outputs": [
        {
          "data": {
            "text/plain": [
              "Index(['V4', 'V6', 'V8', 'V9', 'V10', 'V11', 'V12', 'V13', 'V14', 'V16', 'V18',\n",
              "       'V25', 'V27', 'V28'],\n",
              "      dtype='object')"
            ]
          },
          "execution_count": 34,
          "metadata": {},
          "output_type": "execute_result"
        }
      ]
    },
    {
      "cell_type": "code",
      "metadata": {
        "colab": {
          "base_uri": "https://localhost:8080/",
          "height": 547
        },
        "id": "BtiuFQbdnxsq",
        "outputId": "b684f8aa-6c44-4f4b-fdc5-d658cd80f850"
      },
      "source": [
        "# Let's re-run the model using the selected variables\n",
        "res,X_train_sm = get_logistic_model(X_train_SMOTE,col,y_train_SMOTE)\n",
        "res.summary()"
      ],
      "execution_count": null,
      "outputs": [
        {
          "data": {
            "text/html": [
              "<table class=\"simpletable\">\n",
              "<caption>Generalized Linear Model Regression Results</caption>\n",
              "<tr>\n",
              "  <th>Dep. Variable:</th>           <td>y</td>        <th>  No. Observations:  </th>  <td>398030</td> \n",
              "</tr>\n",
              "<tr>\n",
              "  <th>Model:</th>                  <td>GLM</td>       <th>  Df Residuals:      </th>  <td>398015</td> \n",
              "</tr>\n",
              "<tr>\n",
              "  <th>Model Family:</th>        <td>Binomial</td>     <th>  Df Model:          </th>  <td>    14</td> \n",
              "</tr>\n",
              "<tr>\n",
              "  <th>Link Function:</th>         <td>logit</td>      <th>  Scale:             </th> <td>  1.0000</td>\n",
              "</tr>\n",
              "<tr>\n",
              "  <th>Method:</th>                <td>IRLS</td>       <th>  Log-Likelihood:    </th> <td>     nan</td>\n",
              "</tr>\n",
              "<tr>\n",
              "  <th>Date:</th>            <td>Tue, 14 Sep 2021</td> <th>  Deviance:          </th> <td>     nan</td>\n",
              "</tr>\n",
              "<tr>\n",
              "  <th>Time:</th>                <td>21:41:51</td>     <th>  Pearson chi2:      </th> <td>5.60e+16</td>\n",
              "</tr>\n",
              "<tr>\n",
              "  <th>No. Iterations:</th>         <td>100</td>       <th>                     </th>     <td> </td>   \n",
              "</tr>\n",
              "<tr>\n",
              "  <th>Covariance Type:</th>     <td>nonrobust</td>    <th>                     </th>     <td> </td>   \n",
              "</tr>\n",
              "</table>\n",
              "<table class=\"simpletable\">\n",
              "<tr>\n",
              "    <td></td>       <th>coef</th>     <th>std err</th>      <th>z</th>      <th>P>|z|</th>  <th>[0.025</th>    <th>0.975]</th>  \n",
              "</tr>\n",
              "<tr>\n",
              "  <th>const</th> <td>   -3.7585</td> <td>    0.016</td> <td> -239.965</td> <td> 0.000</td> <td>   -3.789</td> <td>   -3.728</td>\n",
              "</tr>\n",
              "<tr>\n",
              "  <th>V4</th>    <td>    0.8052</td> <td>    0.007</td> <td>  113.520</td> <td> 0.000</td> <td>    0.791</td> <td>    0.819</td>\n",
              "</tr>\n",
              "<tr>\n",
              "  <th>V6</th>    <td>   -0.2238</td> <td>    0.008</td> <td>  -28.256</td> <td> 0.000</td> <td>   -0.239</td> <td>   -0.208</td>\n",
              "</tr>\n",
              "<tr>\n",
              "  <th>V8</th>    <td>   -0.3773</td> <td>    0.007</td> <td>  -56.793</td> <td> 0.000</td> <td>   -0.390</td> <td>   -0.364</td>\n",
              "</tr>\n",
              "<tr>\n",
              "  <th>V9</th>    <td>   -0.3893</td> <td>    0.011</td> <td>  -36.975</td> <td> 0.000</td> <td>   -0.410</td> <td>   -0.369</td>\n",
              "</tr>\n",
              "<tr>\n",
              "  <th>V10</th>   <td>   -0.4168</td> <td>    0.010</td> <td>  -40.628</td> <td> 0.000</td> <td>   -0.437</td> <td>   -0.397</td>\n",
              "</tr>\n",
              "<tr>\n",
              "  <th>V11</th>   <td>    0.3897</td> <td>    0.010</td> <td>   39.378</td> <td> 0.000</td> <td>    0.370</td> <td>    0.409</td>\n",
              "</tr>\n",
              "<tr>\n",
              "  <th>V12</th>   <td>   -0.7092</td> <td>    0.011</td> <td>  -65.898</td> <td> 0.000</td> <td>   -0.730</td> <td>   -0.688</td>\n",
              "</tr>\n",
              "<tr>\n",
              "  <th>V13</th>   <td>   -0.2864</td> <td>    0.010</td> <td>  -27.789</td> <td> 0.000</td> <td>   -0.307</td> <td>   -0.266</td>\n",
              "</tr>\n",
              "<tr>\n",
              "  <th>V14</th>   <td>   -1.1543</td> <td>    0.010</td> <td> -117.310</td> <td> 0.000</td> <td>   -1.174</td> <td>   -1.135</td>\n",
              "</tr>\n",
              "<tr>\n",
              "  <th>V16</th>   <td>   -0.5121</td> <td>    0.012</td> <td>  -41.832</td> <td> 0.000</td> <td>   -0.536</td> <td>   -0.488</td>\n",
              "</tr>\n",
              "<tr>\n",
              "  <th>V18</th>   <td>   -0.4206</td> <td>    0.013</td> <td>  -31.600</td> <td> 0.000</td> <td>   -0.447</td> <td>   -0.395</td>\n",
              "</tr>\n",
              "<tr>\n",
              "  <th>V25</th>   <td>    0.4818</td> <td>    0.019</td> <td>   25.425</td> <td> 0.000</td> <td>    0.445</td> <td>    0.519</td>\n",
              "</tr>\n",
              "<tr>\n",
              "  <th>V27</th>   <td>    0.2352</td> <td>    0.024</td> <td>    9.849</td> <td> 0.000</td> <td>    0.188</td> <td>    0.282</td>\n",
              "</tr>\n",
              "<tr>\n",
              "  <th>V28</th>   <td>    0.2921</td> <td>    0.027</td> <td>   10.705</td> <td> 0.000</td> <td>    0.239</td> <td>    0.346</td>\n",
              "</tr>\n",
              "</table>"
            ],
            "text/plain": [
              "<class 'statsmodels.iolib.summary.Summary'>\n",
              "\"\"\"\n",
              "                 Generalized Linear Model Regression Results                  \n",
              "==============================================================================\n",
              "Dep. Variable:                      y   No. Observations:               398030\n",
              "Model:                            GLM   Df Residuals:                   398015\n",
              "Model Family:                Binomial   Df Model:                           14\n",
              "Link Function:                  logit   Scale:                          1.0000\n",
              "Method:                          IRLS   Log-Likelihood:                    nan\n",
              "Date:                Tue, 14 Sep 2021   Deviance:                          nan\n",
              "Time:                        21:41:51   Pearson chi2:                 5.60e+16\n",
              "No. Iterations:                   100                                         \n",
              "Covariance Type:            nonrobust                                         \n",
              "==============================================================================\n",
              "                 coef    std err          z      P>|z|      [0.025      0.975]\n",
              "------------------------------------------------------------------------------\n",
              "const         -3.7585      0.016   -239.965      0.000      -3.789      -3.728\n",
              "V4             0.8052      0.007    113.520      0.000       0.791       0.819\n",
              "V6            -0.2238      0.008    -28.256      0.000      -0.239      -0.208\n",
              "V8            -0.3773      0.007    -56.793      0.000      -0.390      -0.364\n",
              "V9            -0.3893      0.011    -36.975      0.000      -0.410      -0.369\n",
              "V10           -0.4168      0.010    -40.628      0.000      -0.437      -0.397\n",
              "V11            0.3897      0.010     39.378      0.000       0.370       0.409\n",
              "V12           -0.7092      0.011    -65.898      0.000      -0.730      -0.688\n",
              "V13           -0.2864      0.010    -27.789      0.000      -0.307      -0.266\n",
              "V14           -1.1543      0.010   -117.310      0.000      -1.174      -1.135\n",
              "V16           -0.5121      0.012    -41.832      0.000      -0.536      -0.488\n",
              "V18           -0.4206      0.013    -31.600      0.000      -0.447      -0.395\n",
              "V25            0.4818      0.019     25.425      0.000       0.445       0.519\n",
              "V27            0.2352      0.024      9.849      0.000       0.188       0.282\n",
              "V28            0.2921      0.027     10.705      0.000       0.239       0.346\n",
              "==============================================================================\n",
              "\"\"\""
            ]
          },
          "execution_count": 35,
          "metadata": {},
          "output_type": "execute_result"
        }
      ]
    },
    {
      "cell_type": "code",
      "metadata": {
        "colab": {
          "base_uri": "https://localhost:8080/",
          "height": 203
        },
        "id": "Qa79ls5dn55J",
        "outputId": "dbaefb9a-b409-4b44-b751-ce2590d359b0"
      },
      "source": [
        "y_train_pred = get_prediction_dataset(res,X_train_sm,y_train_SMOTE,0.5)\n",
        "y_train_pred.head()"
      ],
      "execution_count": null,
      "outputs": [
        {
          "data": {
            "text/html": [
              "<div>\n",
              "<style scoped>\n",
              "    .dataframe tbody tr th:only-of-type {\n",
              "        vertical-align: middle;\n",
              "    }\n",
              "\n",
              "    .dataframe tbody tr th {\n",
              "        vertical-align: top;\n",
              "    }\n",
              "\n",
              "    .dataframe thead th {\n",
              "        text-align: right;\n",
              "    }\n",
              "</style>\n",
              "<table border=\"1\" class=\"dataframe\">\n",
              "  <thead>\n",
              "    <tr style=\"text-align: right;\">\n",
              "      <th></th>\n",
              "      <th>Fraud</th>\n",
              "      <th>Fraud_Porb</th>\n",
              "      <th>predicted</th>\n",
              "    </tr>\n",
              "  </thead>\n",
              "  <tbody>\n",
              "    <tr>\n",
              "      <th>0</th>\n",
              "      <td>0</td>\n",
              "      <td>0.040772</td>\n",
              "      <td>0</td>\n",
              "    </tr>\n",
              "    <tr>\n",
              "      <th>1</th>\n",
              "      <td>0</td>\n",
              "      <td>0.005822</td>\n",
              "      <td>0</td>\n",
              "    </tr>\n",
              "    <tr>\n",
              "      <th>2</th>\n",
              "      <td>0</td>\n",
              "      <td>0.004621</td>\n",
              "      <td>0</td>\n",
              "    </tr>\n",
              "    <tr>\n",
              "      <th>3</th>\n",
              "      <td>0</td>\n",
              "      <td>0.040330</td>\n",
              "      <td>0</td>\n",
              "    </tr>\n",
              "    <tr>\n",
              "      <th>4</th>\n",
              "      <td>0</td>\n",
              "      <td>0.003980</td>\n",
              "      <td>0</td>\n",
              "    </tr>\n",
              "  </tbody>\n",
              "</table>\n",
              "</div>"
            ],
            "text/plain": [
              "   Fraud  Fraud_Porb  predicted\n",
              "0      0    0.040772          0\n",
              "1      0    0.005822          0\n",
              "2      0    0.004621          0\n",
              "3      0    0.040330          0\n",
              "4      0    0.003980          0"
            ]
          },
          "execution_count": 36,
          "metadata": {},
          "output_type": "execute_result"
        }
      ]
    },
    {
      "cell_type": "code",
      "metadata": {
        "colab": {
          "base_uri": "https://localhost:8080/"
        },
        "id": "gBxSxo6koYHR",
        "outputId": "78a9acb3-d14d-4c75-c3fb-88e4d1df688c"
      },
      "source": [
        "print(get_accuracy(y_train_pred))"
      ],
      "execution_count": null,
      "outputs": [
        {
          "name": "stdout",
          "output_type": "stream",
          "text": [
            "0.9619375423963018\n"
          ]
        }
      ]
    },
    {
      "cell_type": "code",
      "metadata": {
        "colab": {
          "base_uri": "https://localhost:8080/"
        },
        "id": "nSESIS-ioa6-",
        "outputId": "f6f19ee1-8eb6-483b-cb58-aeeca2748ead"
      },
      "source": [
        "get_vif(X_train_SMOTE,col)"
      ],
      "execution_count": null,
      "outputs": [
        {
          "name": "stdout",
          "output_type": "stream",
          "text": [
            "   Features    VIF\n",
            "6       V12  24.04\n",
            "9       V16  17.51\n",
            "4       V10  14.65\n",
            "8       V14  13.75\n",
            "5       V11  12.53\n",
            "10      V18   9.21\n",
            "0        V4   7.73\n",
            "3        V9   6.46\n",
            "1        V6   2.66\n",
            "2        V8   2.07\n",
            "12      V27   1.90\n",
            "13      V28   1.33\n",
            "11      V25   1.23\n",
            "7       V13   1.15\n"
          ]
        }
      ]
    },
    {
      "cell_type": "code",
      "metadata": {
        "colab": {
          "base_uri": "https://localhost:8080/"
        },
        "id": "YI5GmkekoiG7",
        "outputId": "46b60da4-fba7-4c21-a223-df0b41ab826f"
      },
      "source": [
        "col = col.drop('V12', 1)\n",
        "col"
      ],
      "execution_count": null,
      "outputs": [
        {
          "data": {
            "text/plain": [
              "Index(['V4', 'V6', 'V8', 'V9', 'V10', 'V11', 'V13', 'V14', 'V16', 'V18', 'V25',\n",
              "       'V27', 'V28'],\n",
              "      dtype='object')"
            ]
          },
          "execution_count": 39,
          "metadata": {},
          "output_type": "execute_result"
        }
      ]
    },
    {
      "cell_type": "code",
      "metadata": {
        "colab": {
          "base_uri": "https://localhost:8080/",
          "height": 526
        },
        "id": "toRy-0gUo1K7",
        "outputId": "b028a6ef-7bde-4c6d-cf8a-e80a7f8f830f"
      },
      "source": [
        "# Let's re-run the model using the selected variables\n",
        "res,X_train_sm = get_logistic_model(X_train_SMOTE,col,y_train_SMOTE)\n",
        "res.summary()"
      ],
      "execution_count": null,
      "outputs": [
        {
          "data": {
            "text/html": [
              "<table class=\"simpletable\">\n",
              "<caption>Generalized Linear Model Regression Results</caption>\n",
              "<tr>\n",
              "  <th>Dep. Variable:</th>           <td>y</td>        <th>  No. Observations:  </th>  <td>398030</td> \n",
              "</tr>\n",
              "<tr>\n",
              "  <th>Model:</th>                  <td>GLM</td>       <th>  Df Residuals:      </th>  <td>398016</td> \n",
              "</tr>\n",
              "<tr>\n",
              "  <th>Model Family:</th>        <td>Binomial</td>     <th>  Df Model:          </th>  <td>    13</td> \n",
              "</tr>\n",
              "<tr>\n",
              "  <th>Link Function:</th>         <td>logit</td>      <th>  Scale:             </th> <td>  1.0000</td>\n",
              "</tr>\n",
              "<tr>\n",
              "  <th>Method:</th>                <td>IRLS</td>       <th>  Log-Likelihood:    </th> <td>     nan</td>\n",
              "</tr>\n",
              "<tr>\n",
              "  <th>Date:</th>            <td>Tue, 14 Sep 2021</td> <th>  Deviance:          </th> <td>     nan</td>\n",
              "</tr>\n",
              "<tr>\n",
              "  <th>Time:</th>                <td>21:43:03</td>     <th>  Pearson chi2:      </th> <td>2.00e+15</td>\n",
              "</tr>\n",
              "<tr>\n",
              "  <th>No. Iterations:</th>         <td>100</td>       <th>                     </th>     <td> </td>   \n",
              "</tr>\n",
              "<tr>\n",
              "  <th>Covariance Type:</th>     <td>nonrobust</td>    <th>                     </th>     <td> </td>   \n",
              "</tr>\n",
              "</table>\n",
              "<table class=\"simpletable\">\n",
              "<tr>\n",
              "    <td></td>       <th>coef</th>     <th>std err</th>      <th>z</th>      <th>P>|z|</th>  <th>[0.025</th>    <th>0.975]</th>  \n",
              "</tr>\n",
              "<tr>\n",
              "  <th>const</th> <td>   -3.7813</td> <td>    0.016</td> <td> -241.244</td> <td> 0.000</td> <td>   -3.812</td> <td>   -3.751</td>\n",
              "</tr>\n",
              "<tr>\n",
              "  <th>V4</th>    <td>    0.8765</td> <td>    0.007</td> <td>  120.098</td> <td> 0.000</td> <td>    0.862</td> <td>    0.891</td>\n",
              "</tr>\n",
              "<tr>\n",
              "  <th>V6</th>    <td>   -0.2398</td> <td>    0.008</td> <td>  -30.517</td> <td> 0.000</td> <td>   -0.255</td> <td>   -0.224</td>\n",
              "</tr>\n",
              "<tr>\n",
              "  <th>V8</th>    <td>   -0.3816</td> <td>    0.006</td> <td>  -60.678</td> <td> 0.000</td> <td>   -0.394</td> <td>   -0.369</td>\n",
              "</tr>\n",
              "<tr>\n",
              "  <th>V9</th>    <td>   -0.3755</td> <td>    0.011</td> <td>  -34.531</td> <td> 0.000</td> <td>   -0.397</td> <td>   -0.354</td>\n",
              "</tr>\n",
              "<tr>\n",
              "  <th>V10</th>   <td>   -0.4388</td> <td>    0.010</td> <td>  -42.990</td> <td> 0.000</td> <td>   -0.459</td> <td>   -0.419</td>\n",
              "</tr>\n",
              "<tr>\n",
              "  <th>V11</th>   <td>    0.3225</td> <td>    0.010</td> <td>   33.727</td> <td> 0.000</td> <td>    0.304</td> <td>    0.341</td>\n",
              "</tr>\n",
              "<tr>\n",
              "  <th>V13</th>   <td>   -0.3318</td> <td>    0.011</td> <td>  -30.754</td> <td> 0.000</td> <td>   -0.353</td> <td>   -0.311</td>\n",
              "</tr>\n",
              "<tr>\n",
              "  <th>V14</th>   <td>   -1.2291</td> <td>    0.010</td> <td> -120.621</td> <td> 0.000</td> <td>   -1.249</td> <td>   -1.209</td>\n",
              "</tr>\n",
              "<tr>\n",
              "  <th>V16</th>   <td>   -0.4541</td> <td>    0.012</td> <td>  -38.905</td> <td> 0.000</td> <td>   -0.477</td> <td>   -0.431</td>\n",
              "</tr>\n",
              "<tr>\n",
              "  <th>V18</th>   <td>   -0.3352</td> <td>    0.013</td> <td>  -26.009</td> <td> 0.000</td> <td>   -0.361</td> <td>   -0.310</td>\n",
              "</tr>\n",
              "<tr>\n",
              "  <th>V25</th>   <td>    0.4271</td> <td>    0.018</td> <td>   23.359</td> <td> 0.000</td> <td>    0.391</td> <td>    0.463</td>\n",
              "</tr>\n",
              "<tr>\n",
              "  <th>V27</th>   <td>    0.0615</td> <td>    0.023</td> <td>    2.651</td> <td> 0.008</td> <td>    0.016</td> <td>    0.107</td>\n",
              "</tr>\n",
              "<tr>\n",
              "  <th>V28</th>   <td>    0.1812</td> <td>    0.026</td> <td>    6.873</td> <td> 0.000</td> <td>    0.129</td> <td>    0.233</td>\n",
              "</tr>\n",
              "</table>"
            ],
            "text/plain": [
              "<class 'statsmodels.iolib.summary.Summary'>\n",
              "\"\"\"\n",
              "                 Generalized Linear Model Regression Results                  \n",
              "==============================================================================\n",
              "Dep. Variable:                      y   No. Observations:               398030\n",
              "Model:                            GLM   Df Residuals:                   398016\n",
              "Model Family:                Binomial   Df Model:                           13\n",
              "Link Function:                  logit   Scale:                          1.0000\n",
              "Method:                          IRLS   Log-Likelihood:                    nan\n",
              "Date:                Tue, 14 Sep 2021   Deviance:                          nan\n",
              "Time:                        21:43:03   Pearson chi2:                 2.00e+15\n",
              "No. Iterations:                   100                                         \n",
              "Covariance Type:            nonrobust                                         \n",
              "==============================================================================\n",
              "                 coef    std err          z      P>|z|      [0.025      0.975]\n",
              "------------------------------------------------------------------------------\n",
              "const         -3.7813      0.016   -241.244      0.000      -3.812      -3.751\n",
              "V4             0.8765      0.007    120.098      0.000       0.862       0.891\n",
              "V6            -0.2398      0.008    -30.517      0.000      -0.255      -0.224\n",
              "V8            -0.3816      0.006    -60.678      0.000      -0.394      -0.369\n",
              "V9            -0.3755      0.011    -34.531      0.000      -0.397      -0.354\n",
              "V10           -0.4388      0.010    -42.990      0.000      -0.459      -0.419\n",
              "V11            0.3225      0.010     33.727      0.000       0.304       0.341\n",
              "V13           -0.3318      0.011    -30.754      0.000      -0.353      -0.311\n",
              "V14           -1.2291      0.010   -120.621      0.000      -1.249      -1.209\n",
              "V16           -0.4541      0.012    -38.905      0.000      -0.477      -0.431\n",
              "V18           -0.3352      0.013    -26.009      0.000      -0.361      -0.310\n",
              "V25            0.4271      0.018     23.359      0.000       0.391       0.463\n",
              "V27            0.0615      0.023      2.651      0.008       0.016       0.107\n",
              "V28            0.1812      0.026      6.873      0.000       0.129       0.233\n",
              "==============================================================================\n",
              "\"\"\""
            ]
          },
          "execution_count": 40,
          "metadata": {},
          "output_type": "execute_result"
        }
      ]
    },
    {
      "cell_type": "code",
      "metadata": {
        "colab": {
          "base_uri": "https://localhost:8080/",
          "height": 203
        },
        "id": "YfGNBmjOo-GN",
        "outputId": "7a4193e4-79f4-43c5-8d3e-fe05be228933"
      },
      "source": [
        "y_train_pred = get_prediction_dataset(res,X_train_sm,y_train_SMOTE,0.5)\n",
        "y_train_pred.head()"
      ],
      "execution_count": null,
      "outputs": [
        {
          "data": {
            "text/html": [
              "<div>\n",
              "<style scoped>\n",
              "    .dataframe tbody tr th:only-of-type {\n",
              "        vertical-align: middle;\n",
              "    }\n",
              "\n",
              "    .dataframe tbody tr th {\n",
              "        vertical-align: top;\n",
              "    }\n",
              "\n",
              "    .dataframe thead th {\n",
              "        text-align: right;\n",
              "    }\n",
              "</style>\n",
              "<table border=\"1\" class=\"dataframe\">\n",
              "  <thead>\n",
              "    <tr style=\"text-align: right;\">\n",
              "      <th></th>\n",
              "      <th>Fraud</th>\n",
              "      <th>Fraud_Porb</th>\n",
              "      <th>predicted</th>\n",
              "    </tr>\n",
              "  </thead>\n",
              "  <tbody>\n",
              "    <tr>\n",
              "      <th>0</th>\n",
              "      <td>0</td>\n",
              "      <td>0.033092</td>\n",
              "      <td>0</td>\n",
              "    </tr>\n",
              "    <tr>\n",
              "      <th>1</th>\n",
              "      <td>0</td>\n",
              "      <td>0.002972</td>\n",
              "      <td>0</td>\n",
              "    </tr>\n",
              "    <tr>\n",
              "      <th>2</th>\n",
              "      <td>0</td>\n",
              "      <td>0.002702</td>\n",
              "      <td>0</td>\n",
              "    </tr>\n",
              "    <tr>\n",
              "      <th>3</th>\n",
              "      <td>0</td>\n",
              "      <td>0.021662</td>\n",
              "      <td>0</td>\n",
              "    </tr>\n",
              "    <tr>\n",
              "      <th>4</th>\n",
              "      <td>0</td>\n",
              "      <td>0.003107</td>\n",
              "      <td>0</td>\n",
              "    </tr>\n",
              "  </tbody>\n",
              "</table>\n",
              "</div>"
            ],
            "text/plain": [
              "   Fraud  Fraud_Porb  predicted\n",
              "0      0    0.033092          0\n",
              "1      0    0.002972          0\n",
              "2      0    0.002702          0\n",
              "3      0    0.021662          0\n",
              "4      0    0.003107          0"
            ]
          },
          "execution_count": 41,
          "metadata": {},
          "output_type": "execute_result"
        }
      ]
    },
    {
      "cell_type": "code",
      "metadata": {
        "colab": {
          "base_uri": "https://localhost:8080/"
        },
        "id": "vUGbXAcgpAPL",
        "outputId": "e8d42e51-3ba6-4118-8e4b-684327d0d47e"
      },
      "source": [
        "print(get_accuracy(y_train_pred))"
      ],
      "execution_count": null,
      "outputs": [
        {
          "name": "stdout",
          "output_type": "stream",
          "text": [
            "0.9581915935984725\n"
          ]
        }
      ]
    },
    {
      "cell_type": "code",
      "metadata": {
        "colab": {
          "base_uri": "https://localhost:8080/"
        },
        "id": "cewx_005pCQM",
        "outputId": "b0a8cb2f-83a2-4069-fdd3-1a5e9cd606a1"
      },
      "source": [
        "get_vif(X_train_SMOTE,col)"
      ],
      "execution_count": null,
      "outputs": [
        {
          "name": "stdout",
          "output_type": "stream",
          "text": [
            "   Features    VIF\n",
            "8       V16  16.29\n",
            "4       V10  13.93\n",
            "7       V14  12.26\n",
            "5       V11  11.22\n",
            "9       V18   9.15\n",
            "0        V4   7.46\n",
            "3        V9   6.46\n",
            "1        V6   2.65\n",
            "2        V8   2.06\n",
            "11      V27   1.87\n",
            "12      V28   1.33\n",
            "10      V25   1.21\n",
            "6       V13   1.14\n"
          ]
        }
      ]
    },
    {
      "cell_type": "code",
      "metadata": {
        "colab": {
          "base_uri": "https://localhost:8080/"
        },
        "id": "ED0_OOoZpR1M",
        "outputId": "32a17b9a-2c7e-47c1-ceb2-8d5ef78bd98a"
      },
      "source": [
        "col = col.drop('V16', 1)\n",
        "col"
      ],
      "execution_count": null,
      "outputs": [
        {
          "data": {
            "text/plain": [
              "Index(['V4', 'V6', 'V8', 'V9', 'V10', 'V11', 'V13', 'V14', 'V18', 'V25', 'V27',\n",
              "       'V28'],\n",
              "      dtype='object')"
            ]
          },
          "execution_count": 44,
          "metadata": {},
          "output_type": "execute_result"
        }
      ]
    },
    {
      "cell_type": "code",
      "metadata": {
        "colab": {
          "base_uri": "https://localhost:8080/",
          "height": 506
        },
        "id": "TelKBi6qpZUd",
        "outputId": "57ba1472-32b2-4f16-9d0a-c3993c86f845"
      },
      "source": [
        "# Let's re-run the model using the selected variables\n",
        "res,X_train_sm = get_logistic_model(X_train_SMOTE,col,y_train_SMOTE)\n",
        "res.summary()"
      ],
      "execution_count": null,
      "outputs": [
        {
          "data": {
            "text/html": [
              "<table class=\"simpletable\">\n",
              "<caption>Generalized Linear Model Regression Results</caption>\n",
              "<tr>\n",
              "  <th>Dep. Variable:</th>           <td>y</td>        <th>  No. Observations:  </th>  <td>398030</td> \n",
              "</tr>\n",
              "<tr>\n",
              "  <th>Model:</th>                  <td>GLM</td>       <th>  Df Residuals:      </th>  <td>398017</td> \n",
              "</tr>\n",
              "<tr>\n",
              "  <th>Model Family:</th>        <td>Binomial</td>     <th>  Df Model:          </th>  <td>    12</td> \n",
              "</tr>\n",
              "<tr>\n",
              "  <th>Link Function:</th>         <td>logit</td>      <th>  Scale:             </th> <td>  1.0000</td>\n",
              "</tr>\n",
              "<tr>\n",
              "  <th>Method:</th>                <td>IRLS</td>       <th>  Log-Likelihood:    </th> <td>     nan</td>\n",
              "</tr>\n",
              "<tr>\n",
              "  <th>Date:</th>            <td>Tue, 14 Sep 2021</td> <th>  Deviance:          </th> <td>     nan</td>\n",
              "</tr>\n",
              "<tr>\n",
              "  <th>Time:</th>                <td>21:44:06</td>     <th>  Pearson chi2:      </th> <td>5.95e+13</td>\n",
              "</tr>\n",
              "<tr>\n",
              "  <th>No. Iterations:</th>         <td>100</td>       <th>                     </th>     <td> </td>   \n",
              "</tr>\n",
              "<tr>\n",
              "  <th>Covariance Type:</th>     <td>nonrobust</td>    <th>                     </th>     <td> </td>   \n",
              "</tr>\n",
              "</table>\n",
              "<table class=\"simpletable\">\n",
              "<tr>\n",
              "    <td></td>       <th>coef</th>     <th>std err</th>      <th>z</th>      <th>P>|z|</th>  <th>[0.025</th>    <th>0.975]</th>  \n",
              "</tr>\n",
              "<tr>\n",
              "  <th>const</th> <td>   -3.7817</td> <td>    0.016</td> <td> -241.633</td> <td> 0.000</td> <td>   -3.812</td> <td>   -3.751</td>\n",
              "</tr>\n",
              "<tr>\n",
              "  <th>V4</th>    <td>    0.8874</td> <td>    0.007</td> <td>  121.620</td> <td> 0.000</td> <td>    0.873</td> <td>    0.902</td>\n",
              "</tr>\n",
              "<tr>\n",
              "  <th>V6</th>    <td>   -0.2179</td> <td>    0.008</td> <td>  -28.033</td> <td> 0.000</td> <td>   -0.233</td> <td>   -0.203</td>\n",
              "</tr>\n",
              "<tr>\n",
              "  <th>V8</th>    <td>   -0.3601</td> <td>    0.006</td> <td>  -58.096</td> <td> 0.000</td> <td>   -0.372</td> <td>   -0.348</td>\n",
              "</tr>\n",
              "<tr>\n",
              "  <th>V9</th>    <td>   -0.3444</td> <td>    0.011</td> <td>  -31.502</td> <td> 0.000</td> <td>   -0.366</td> <td>   -0.323</td>\n",
              "</tr>\n",
              "<tr>\n",
              "  <th>V10</th>   <td>   -0.4921</td> <td>    0.010</td> <td>  -47.557</td> <td> 0.000</td> <td>   -0.512</td> <td>   -0.472</td>\n",
              "</tr>\n",
              "<tr>\n",
              "  <th>V11</th>   <td>    0.3091</td> <td>    0.009</td> <td>   32.770</td> <td> 0.000</td> <td>    0.291</td> <td>    0.328</td>\n",
              "</tr>\n",
              "<tr>\n",
              "  <th>V13</th>   <td>   -0.3537</td> <td>    0.011</td> <td>  -32.896</td> <td> 0.000</td> <td>   -0.375</td> <td>   -0.333</td>\n",
              "</tr>\n",
              "<tr>\n",
              "  <th>V14</th>   <td>   -1.2283</td> <td>    0.010</td> <td> -122.381</td> <td> 0.000</td> <td>   -1.248</td> <td>   -1.209</td>\n",
              "</tr>\n",
              "<tr>\n",
              "  <th>V18</th>   <td>   -0.4819</td> <td>    0.012</td> <td>  -38.610</td> <td> 0.000</td> <td>   -0.506</td> <td>   -0.457</td>\n",
              "</tr>\n",
              "<tr>\n",
              "  <th>V25</th>   <td>    0.3558</td> <td>    0.018</td> <td>   19.692</td> <td> 0.000</td> <td>    0.320</td> <td>    0.391</td>\n",
              "</tr>\n",
              "<tr>\n",
              "  <th>V27</th>   <td>    0.0006</td> <td>    0.023</td> <td>    0.027</td> <td> 0.979</td> <td>   -0.045</td> <td>    0.046</td>\n",
              "</tr>\n",
              "<tr>\n",
              "  <th>V28</th>   <td>    0.1892</td> <td>    0.027</td> <td>    6.893</td> <td> 0.000</td> <td>    0.135</td> <td>    0.243</td>\n",
              "</tr>\n",
              "</table>"
            ],
            "text/plain": [
              "<class 'statsmodels.iolib.summary.Summary'>\n",
              "\"\"\"\n",
              "                 Generalized Linear Model Regression Results                  \n",
              "==============================================================================\n",
              "Dep. Variable:                      y   No. Observations:               398030\n",
              "Model:                            GLM   Df Residuals:                   398017\n",
              "Model Family:                Binomial   Df Model:                           12\n",
              "Link Function:                  logit   Scale:                          1.0000\n",
              "Method:                          IRLS   Log-Likelihood:                    nan\n",
              "Date:                Tue, 14 Sep 2021   Deviance:                          nan\n",
              "Time:                        21:44:06   Pearson chi2:                 5.95e+13\n",
              "No. Iterations:                   100                                         \n",
              "Covariance Type:            nonrobust                                         \n",
              "==============================================================================\n",
              "                 coef    std err          z      P>|z|      [0.025      0.975]\n",
              "------------------------------------------------------------------------------\n",
              "const         -3.7817      0.016   -241.633      0.000      -3.812      -3.751\n",
              "V4             0.8874      0.007    121.620      0.000       0.873       0.902\n",
              "V6            -0.2179      0.008    -28.033      0.000      -0.233      -0.203\n",
              "V8            -0.3601      0.006    -58.096      0.000      -0.372      -0.348\n",
              "V9            -0.3444      0.011    -31.502      0.000      -0.366      -0.323\n",
              "V10           -0.4921      0.010    -47.557      0.000      -0.512      -0.472\n",
              "V11            0.3091      0.009     32.770      0.000       0.291       0.328\n",
              "V13           -0.3537      0.011    -32.896      0.000      -0.375      -0.333\n",
              "V14           -1.2283      0.010   -122.381      0.000      -1.248      -1.209\n",
              "V18           -0.4819      0.012    -38.610      0.000      -0.506      -0.457\n",
              "V25            0.3558      0.018     19.692      0.000       0.320       0.391\n",
              "V27            0.0006      0.023      0.027      0.979      -0.045       0.046\n",
              "V28            0.1892      0.027      6.893      0.000       0.135       0.243\n",
              "==============================================================================\n",
              "\"\"\""
            ]
          },
          "execution_count": 45,
          "metadata": {},
          "output_type": "execute_result"
        }
      ]
    },
    {
      "cell_type": "code",
      "metadata": {
        "colab": {
          "base_uri": "https://localhost:8080/",
          "height": 203
        },
        "id": "bmVRoNS6pcHv",
        "outputId": "5fe0a5bc-2201-40b1-e103-2b5019dad60b"
      },
      "source": [
        "y_train_pred = get_prediction_dataset(res,X_train_sm,y_train_SMOTE,0.5)\n",
        "y_train_pred.head()"
      ],
      "execution_count": null,
      "outputs": [
        {
          "data": {
            "text/html": [
              "<div>\n",
              "<style scoped>\n",
              "    .dataframe tbody tr th:only-of-type {\n",
              "        vertical-align: middle;\n",
              "    }\n",
              "\n",
              "    .dataframe tbody tr th {\n",
              "        vertical-align: top;\n",
              "    }\n",
              "\n",
              "    .dataframe thead th {\n",
              "        text-align: right;\n",
              "    }\n",
              "</style>\n",
              "<table border=\"1\" class=\"dataframe\">\n",
              "  <thead>\n",
              "    <tr style=\"text-align: right;\">\n",
              "      <th></th>\n",
              "      <th>Fraud</th>\n",
              "      <th>Fraud_Porb</th>\n",
              "      <th>predicted</th>\n",
              "    </tr>\n",
              "  </thead>\n",
              "  <tbody>\n",
              "    <tr>\n",
              "      <th>0</th>\n",
              "      <td>0</td>\n",
              "      <td>0.034724</td>\n",
              "      <td>0</td>\n",
              "    </tr>\n",
              "    <tr>\n",
              "      <th>1</th>\n",
              "      <td>0</td>\n",
              "      <td>0.002357</td>\n",
              "      <td>0</td>\n",
              "    </tr>\n",
              "    <tr>\n",
              "      <th>2</th>\n",
              "      <td>0</td>\n",
              "      <td>0.002558</td>\n",
              "      <td>0</td>\n",
              "    </tr>\n",
              "    <tr>\n",
              "      <th>3</th>\n",
              "      <td>0</td>\n",
              "      <td>0.020186</td>\n",
              "      <td>0</td>\n",
              "    </tr>\n",
              "    <tr>\n",
              "      <th>4</th>\n",
              "      <td>0</td>\n",
              "      <td>0.003364</td>\n",
              "      <td>0</td>\n",
              "    </tr>\n",
              "  </tbody>\n",
              "</table>\n",
              "</div>"
            ],
            "text/plain": [
              "   Fraud  Fraud_Porb  predicted\n",
              "0      0    0.034724          0\n",
              "1      0    0.002357          0\n",
              "2      0    0.002558          0\n",
              "3      0    0.020186          0\n",
              "4      0    0.003364          0"
            ]
          },
          "execution_count": 47,
          "metadata": {},
          "output_type": "execute_result"
        }
      ]
    },
    {
      "cell_type": "code",
      "metadata": {
        "colab": {
          "base_uri": "https://localhost:8080/"
        },
        "id": "asnOJEp2psD8",
        "outputId": "da5f05d2-f957-4e88-fa2b-3c48b80da431"
      },
      "source": [
        "print(get_accuracy(y_train_pred))"
      ],
      "execution_count": null,
      "outputs": [
        {
          "name": "stdout",
          "output_type": "stream",
          "text": [
            "0.9571791071024797\n"
          ]
        }
      ]
    },
    {
      "cell_type": "code",
      "metadata": {
        "colab": {
          "base_uri": "https://localhost:8080/"
        },
        "id": "pPcwjMpZpvaA",
        "outputId": "88572f7a-ed96-4773-fff1-a8c4079f60c8"
      },
      "source": [
        "get_vif(X_train_SMOTE,col)"
      ],
      "execution_count": null,
      "outputs": [
        {
          "name": "stdout",
          "output_type": "stream",
          "text": [
            "   Features    VIF\n",
            "4       V10  13.16\n",
            "7       V14  11.34\n",
            "5       V11  11.01\n",
            "0        V4   7.43\n",
            "3        V9   6.40\n",
            "8       V18   3.98\n",
            "1        V6   2.65\n",
            "2        V8   2.06\n",
            "10      V27   1.86\n",
            "11      V28   1.31\n",
            "9       V25   1.18\n",
            "6       V13   1.14\n"
          ]
        }
      ]
    },
    {
      "cell_type": "code",
      "metadata": {
        "colab": {
          "base_uri": "https://localhost:8080/"
        },
        "id": "iged_eQCpyBj",
        "outputId": "5502331f-24f9-4d6c-dfac-2a1893e2c5e2"
      },
      "source": [
        "col = col.drop('V10', 1)\n",
        "col"
      ],
      "execution_count": null,
      "outputs": [
        {
          "data": {
            "text/plain": [
              "Index(['V4', 'V6', 'V8', 'V9', 'V11', 'V13', 'V14', 'V18', 'V25', 'V27',\n",
              "       'V28'],\n",
              "      dtype='object')"
            ]
          },
          "execution_count": 50,
          "metadata": {},
          "output_type": "execute_result"
        }
      ]
    },
    {
      "cell_type": "code",
      "metadata": {
        "colab": {
          "base_uri": "https://localhost:8080/",
          "height": 486
        },
        "id": "w4ZNXc1Fp6Dn",
        "outputId": "97f07a82-00d2-472a-fb46-5a7240f8d86a"
      },
      "source": [
        "# Let's re-run the model using the selected variables\n",
        "res,X_train_sm = get_logistic_model(X_train_SMOTE,col,y_train_SMOTE)\n",
        "res.summary()"
      ],
      "execution_count": null,
      "outputs": [
        {
          "data": {
            "text/html": [
              "<table class=\"simpletable\">\n",
              "<caption>Generalized Linear Model Regression Results</caption>\n",
              "<tr>\n",
              "  <th>Dep. Variable:</th>           <td>y</td>        <th>  No. Observations:  </th>  <td>398030</td> \n",
              "</tr>\n",
              "<tr>\n",
              "  <th>Model:</th>                  <td>GLM</td>       <th>  Df Residuals:      </th>  <td>398018</td> \n",
              "</tr>\n",
              "<tr>\n",
              "  <th>Model Family:</th>        <td>Binomial</td>     <th>  Df Model:          </th>  <td>    11</td> \n",
              "</tr>\n",
              "<tr>\n",
              "  <th>Link Function:</th>         <td>logit</td>      <th>  Scale:             </th> <td>  1.0000</td>\n",
              "</tr>\n",
              "<tr>\n",
              "  <th>Method:</th>                <td>IRLS</td>       <th>  Log-Likelihood:    </th> <td>     nan</td>\n",
              "</tr>\n",
              "<tr>\n",
              "  <th>Date:</th>            <td>Tue, 14 Sep 2021</td> <th>  Deviance:          </th> <td>     nan</td>\n",
              "</tr>\n",
              "<tr>\n",
              "  <th>Time:</th>                <td>21:45:21</td>     <th>  Pearson chi2:      </th> <td>3.86e+12</td>\n",
              "</tr>\n",
              "<tr>\n",
              "  <th>No. Iterations:</th>         <td>100</td>       <th>                     </th>     <td> </td>   \n",
              "</tr>\n",
              "<tr>\n",
              "  <th>Covariance Type:</th>     <td>nonrobust</td>    <th>                     </th>     <td> </td>   \n",
              "</tr>\n",
              "</table>\n",
              "<table class=\"simpletable\">\n",
              "<tr>\n",
              "    <td></td>       <th>coef</th>     <th>std err</th>      <th>z</th>      <th>P>|z|</th>  <th>[0.025</th>    <th>0.975]</th>  \n",
              "</tr>\n",
              "<tr>\n",
              "  <th>const</th> <td>   -3.7575</td> <td>    0.015</td> <td> -247.577</td> <td> 0.000</td> <td>   -3.787</td> <td>   -3.728</td>\n",
              "</tr>\n",
              "<tr>\n",
              "  <th>V4</th>    <td>    0.7859</td> <td>    0.006</td> <td>  123.242</td> <td> 0.000</td> <td>    0.773</td> <td>    0.798</td>\n",
              "</tr>\n",
              "<tr>\n",
              "  <th>V6</th>    <td>   -0.2283</td> <td>    0.008</td> <td>  -29.200</td> <td> 0.000</td> <td>   -0.244</td> <td>   -0.213</td>\n",
              "</tr>\n",
              "<tr>\n",
              "  <th>V8</th>    <td>   -0.3734</td> <td>    0.006</td> <td>  -61.393</td> <td> 0.000</td> <td>   -0.385</td> <td>   -0.361</td>\n",
              "</tr>\n",
              "<tr>\n",
              "  <th>V9</th>    <td>   -0.4276</td> <td>    0.010</td> <td>  -43.537</td> <td> 0.000</td> <td>   -0.447</td> <td>   -0.408</td>\n",
              "</tr>\n",
              "<tr>\n",
              "  <th>V11</th>   <td>    0.3164</td> <td>    0.009</td> <td>   34.420</td> <td> 0.000</td> <td>    0.298</td> <td>    0.334</td>\n",
              "</tr>\n",
              "<tr>\n",
              "  <th>V13</th>   <td>   -0.3834</td> <td>    0.011</td> <td>  -36.061</td> <td> 0.000</td> <td>   -0.404</td> <td>   -0.363</td>\n",
              "</tr>\n",
              "<tr>\n",
              "  <th>V14</th>   <td>   -1.4078</td> <td>    0.009</td> <td> -153.326</td> <td> 0.000</td> <td>   -1.426</td> <td>   -1.390</td>\n",
              "</tr>\n",
              "<tr>\n",
              "  <th>V18</th>   <td>   -0.4274</td> <td>    0.012</td> <td>  -37.008</td> <td> 0.000</td> <td>   -0.450</td> <td>   -0.405</td>\n",
              "</tr>\n",
              "<tr>\n",
              "  <th>V25</th>   <td>    0.4674</td> <td>    0.018</td> <td>   26.424</td> <td> 0.000</td> <td>    0.433</td> <td>    0.502</td>\n",
              "</tr>\n",
              "<tr>\n",
              "  <th>V27</th>   <td>    0.3027</td> <td>    0.021</td> <td>   14.724</td> <td> 0.000</td> <td>    0.262</td> <td>    0.343</td>\n",
              "</tr>\n",
              "<tr>\n",
              "  <th>V28</th>   <td>    0.3287</td> <td>    0.026</td> <td>   12.432</td> <td> 0.000</td> <td>    0.277</td> <td>    0.380</td>\n",
              "</tr>\n",
              "</table>"
            ],
            "text/plain": [
              "<class 'statsmodels.iolib.summary.Summary'>\n",
              "\"\"\"\n",
              "                 Generalized Linear Model Regression Results                  \n",
              "==============================================================================\n",
              "Dep. Variable:                      y   No. Observations:               398030\n",
              "Model:                            GLM   Df Residuals:                   398018\n",
              "Model Family:                Binomial   Df Model:                           11\n",
              "Link Function:                  logit   Scale:                          1.0000\n",
              "Method:                          IRLS   Log-Likelihood:                    nan\n",
              "Date:                Tue, 14 Sep 2021   Deviance:                          nan\n",
              "Time:                        21:45:21   Pearson chi2:                 3.86e+12\n",
              "No. Iterations:                   100                                         \n",
              "Covariance Type:            nonrobust                                         \n",
              "==============================================================================\n",
              "                 coef    std err          z      P>|z|      [0.025      0.975]\n",
              "------------------------------------------------------------------------------\n",
              "const         -3.7575      0.015   -247.577      0.000      -3.787      -3.728\n",
              "V4             0.7859      0.006    123.242      0.000       0.773       0.798\n",
              "V6            -0.2283      0.008    -29.200      0.000      -0.244      -0.213\n",
              "V8            -0.3734      0.006    -61.393      0.000      -0.385      -0.361\n",
              "V9            -0.4276      0.010    -43.537      0.000      -0.447      -0.408\n",
              "V11            0.3164      0.009     34.420      0.000       0.298       0.334\n",
              "V13           -0.3834      0.011    -36.061      0.000      -0.404      -0.363\n",
              "V14           -1.4078      0.009   -153.326      0.000      -1.426      -1.390\n",
              "V18           -0.4274      0.012    -37.008      0.000      -0.450      -0.405\n",
              "V25            0.4674      0.018     26.424      0.000       0.433       0.502\n",
              "V27            0.3027      0.021     14.724      0.000       0.262       0.343\n",
              "V28            0.3287      0.026     12.432      0.000       0.277       0.380\n",
              "==============================================================================\n",
              "\"\"\""
            ]
          },
          "execution_count": 51,
          "metadata": {},
          "output_type": "execute_result"
        }
      ]
    },
    {
      "cell_type": "code",
      "metadata": {
        "colab": {
          "base_uri": "https://localhost:8080/",
          "height": 203
        },
        "id": "8nycXZ1Np-Au",
        "outputId": "4b56b0c5-a14d-423a-8fc0-9b44f47d0289"
      },
      "source": [
        "y_train_pred = get_prediction_dataset(res,X_train_sm,y_train_SMOTE,0.5)\n",
        "y_train_pred.head()"
      ],
      "execution_count": null,
      "outputs": [
        {
          "data": {
            "text/html": [
              "<div>\n",
              "<style scoped>\n",
              "    .dataframe tbody tr th:only-of-type {\n",
              "        vertical-align: middle;\n",
              "    }\n",
              "\n",
              "    .dataframe tbody tr th {\n",
              "        vertical-align: top;\n",
              "    }\n",
              "\n",
              "    .dataframe thead th {\n",
              "        text-align: right;\n",
              "    }\n",
              "</style>\n",
              "<table border=\"1\" class=\"dataframe\">\n",
              "  <thead>\n",
              "    <tr style=\"text-align: right;\">\n",
              "      <th></th>\n",
              "      <th>Fraud</th>\n",
              "      <th>Fraud_Porb</th>\n",
              "      <th>predicted</th>\n",
              "    </tr>\n",
              "  </thead>\n",
              "  <tbody>\n",
              "    <tr>\n",
              "      <th>0</th>\n",
              "      <td>0</td>\n",
              "      <td>0.026625</td>\n",
              "      <td>0</td>\n",
              "    </tr>\n",
              "    <tr>\n",
              "      <th>1</th>\n",
              "      <td>0</td>\n",
              "      <td>0.007868</td>\n",
              "      <td>0</td>\n",
              "    </tr>\n",
              "    <tr>\n",
              "      <th>2</th>\n",
              "      <td>0</td>\n",
              "      <td>0.007432</td>\n",
              "      <td>0</td>\n",
              "    </tr>\n",
              "    <tr>\n",
              "      <th>3</th>\n",
              "      <td>0</td>\n",
              "      <td>0.016862</td>\n",
              "      <td>0</td>\n",
              "    </tr>\n",
              "    <tr>\n",
              "      <th>4</th>\n",
              "      <td>0</td>\n",
              "      <td>0.003334</td>\n",
              "      <td>0</td>\n",
              "    </tr>\n",
              "  </tbody>\n",
              "</table>\n",
              "</div>"
            ],
            "text/plain": [
              "   Fraud  Fraud_Porb  predicted\n",
              "0      0    0.026625          0\n",
              "1      0    0.007868          0\n",
              "2      0    0.007432          0\n",
              "3      0    0.016862          0\n",
              "4      0    0.003334          0"
            ]
          },
          "execution_count": 52,
          "metadata": {},
          "output_type": "execute_result"
        }
      ]
    },
    {
      "cell_type": "code",
      "metadata": {
        "colab": {
          "base_uri": "https://localhost:8080/"
        },
        "id": "CE5FkvTwqADD",
        "outputId": "e318787e-86fc-4a69-e097-9ae1d6327633"
      },
      "source": [
        "print(get_accuracy(y_train_pred))"
      ],
      "execution_count": null,
      "outputs": [
        {
          "name": "stdout",
          "output_type": "stream",
          "text": [
            "0.9556440469311358\n"
          ]
        }
      ]
    },
    {
      "cell_type": "code",
      "metadata": {
        "colab": {
          "base_uri": "https://localhost:8080/"
        },
        "id": "L_GdYaDnqD3E",
        "outputId": "460098d7-06ec-4188-dfd5-c8e0f43b5e84"
      },
      "source": [
        "get_vif(X_train_SMOTE,col)"
      ],
      "execution_count": null,
      "outputs": [
        {
          "name": "stdout",
          "output_type": "stream",
          "text": [
            "   Features    VIF\n",
            "6       V14  11.20\n",
            "4       V11  10.06\n",
            "0        V4   7.34\n",
            "3        V9   5.22\n",
            "7       V18   3.10\n",
            "1        V6   2.61\n",
            "2        V8   1.97\n",
            "9       V27   1.64\n",
            "10      V28   1.28\n",
            "8       V25   1.17\n",
            "5       V13   1.14\n"
          ]
        }
      ]
    },
    {
      "cell_type": "code",
      "metadata": {
        "colab": {
          "base_uri": "https://localhost:8080/"
        },
        "id": "RftzNQj9qIWs",
        "outputId": "6d8ac14c-8fba-4dd1-e71f-94bd25034918"
      },
      "source": [
        "col = col.drop('V14', 1)\n",
        "col"
      ],
      "execution_count": null,
      "outputs": [
        {
          "data": {
            "text/plain": [
              "Index(['V4', 'V6', 'V8', 'V9', 'V11', 'V13', 'V18', 'V25', 'V27', 'V28'], dtype='object')"
            ]
          },
          "execution_count": 55,
          "metadata": {},
          "output_type": "execute_result"
        }
      ]
    },
    {
      "cell_type": "code",
      "metadata": {
        "colab": {
          "base_uri": "https://localhost:8080/",
          "height": 466
        },
        "id": "walgHvMVqRnW",
        "outputId": "059bee81-802f-4af1-ecea-f9605291ac42"
      },
      "source": [
        "# Let's re-run the model using the selected variables\n",
        "res,X_train_sm = get_logistic_model(X_train_SMOTE,col,y_train_SMOTE)\n",
        "res.summary()"
      ],
      "execution_count": null,
      "outputs": [
        {
          "data": {
            "text/html": [
              "<table class=\"simpletable\">\n",
              "<caption>Generalized Linear Model Regression Results</caption>\n",
              "<tr>\n",
              "  <th>Dep. Variable:</th>           <td>y</td>        <th>  No. Observations:  </th>   <td>398030</td>  \n",
              "</tr>\n",
              "<tr>\n",
              "  <th>Model:</th>                  <td>GLM</td>       <th>  Df Residuals:      </th>   <td>398019</td>  \n",
              "</tr>\n",
              "<tr>\n",
              "  <th>Model Family:</th>        <td>Binomial</td>     <th>  Df Model:          </th>   <td>    10</td>  \n",
              "</tr>\n",
              "<tr>\n",
              "  <th>Link Function:</th>         <td>logit</td>      <th>  Scale:             </th>  <td>  1.0000</td> \n",
              "</tr>\n",
              "<tr>\n",
              "  <th>Method:</th>                <td>IRLS</td>       <th>  Log-Likelihood:    </th>  <td> -70140.</td> \n",
              "</tr>\n",
              "<tr>\n",
              "  <th>Date:</th>            <td>Tue, 14 Sep 2021</td> <th>  Deviance:          </th> <td>1.4028e+05</td>\n",
              "</tr>\n",
              "<tr>\n",
              "  <th>Time:</th>                <td>21:45:54</td>     <th>  Pearson chi2:      </th>  <td>4.28e+11</td> \n",
              "</tr>\n",
              "<tr>\n",
              "  <th>No. Iterations:</th>         <td>10</td>        <th>                     </th>      <td> </td>    \n",
              "</tr>\n",
              "<tr>\n",
              "  <th>Covariance Type:</th>     <td>nonrobust</td>    <th>                     </th>      <td> </td>    \n",
              "</tr>\n",
              "</table>\n",
              "<table class=\"simpletable\">\n",
              "<tr>\n",
              "    <td></td>       <th>coef</th>     <th>std err</th>      <th>z</th>      <th>P>|z|</th>  <th>[0.025</th>    <th>0.975]</th>  \n",
              "</tr>\n",
              "<tr>\n",
              "  <th>const</th> <td>   -3.3604</td> <td>    0.013</td> <td> -264.113</td> <td> 0.000</td> <td>   -3.385</td> <td>   -3.336</td>\n",
              "</tr>\n",
              "<tr>\n",
              "  <th>V4</th>    <td>    1.0596</td> <td>    0.006</td> <td>  188.208</td> <td> 0.000</td> <td>    1.049</td> <td>    1.071</td>\n",
              "</tr>\n",
              "<tr>\n",
              "  <th>V6</th>    <td>   -0.5659</td> <td>    0.008</td> <td>  -74.559</td> <td> 0.000</td> <td>   -0.581</td> <td>   -0.551</td>\n",
              "</tr>\n",
              "<tr>\n",
              "  <th>V8</th>    <td>   -0.4373</td> <td>    0.006</td> <td>  -77.112</td> <td> 0.000</td> <td>   -0.448</td> <td>   -0.426</td>\n",
              "</tr>\n",
              "<tr>\n",
              "  <th>V9</th>    <td>   -0.3169</td> <td>    0.008</td> <td>  -40.049</td> <td> 0.000</td> <td>   -0.332</td> <td>   -0.301</td>\n",
              "</tr>\n",
              "<tr>\n",
              "  <th>V11</th>   <td>    1.1122</td> <td>    0.007</td> <td>  167.402</td> <td> 0.000</td> <td>    1.099</td> <td>    1.125</td>\n",
              "</tr>\n",
              "<tr>\n",
              "  <th>V13</th>   <td>   -0.3040</td> <td>    0.008</td> <td>  -40.179</td> <td> 0.000</td> <td>   -0.319</td> <td>   -0.289</td>\n",
              "</tr>\n",
              "<tr>\n",
              "  <th>V18</th>   <td>   -0.3452</td> <td>    0.008</td> <td>  -45.897</td> <td> 0.000</td> <td>   -0.360</td> <td>   -0.330</td>\n",
              "</tr>\n",
              "<tr>\n",
              "  <th>V25</th>   <td>    0.5831</td> <td>    0.014</td> <td>   40.401</td> <td> 0.000</td> <td>    0.555</td> <td>    0.611</td>\n",
              "</tr>\n",
              "<tr>\n",
              "  <th>V27</th>   <td>    0.2077</td> <td>    0.017</td> <td>   12.168</td> <td> 0.000</td> <td>    0.174</td> <td>    0.241</td>\n",
              "</tr>\n",
              "<tr>\n",
              "  <th>V28</th>   <td>    0.4601</td> <td>    0.024</td> <td>   18.999</td> <td> 0.000</td> <td>    0.413</td> <td>    0.508</td>\n",
              "</tr>\n",
              "</table>"
            ],
            "text/plain": [
              "<class 'statsmodels.iolib.summary.Summary'>\n",
              "\"\"\"\n",
              "                 Generalized Linear Model Regression Results                  \n",
              "==============================================================================\n",
              "Dep. Variable:                      y   No. Observations:               398030\n",
              "Model:                            GLM   Df Residuals:                   398019\n",
              "Model Family:                Binomial   Df Model:                           10\n",
              "Link Function:                  logit   Scale:                          1.0000\n",
              "Method:                          IRLS   Log-Likelihood:                -70140.\n",
              "Date:                Tue, 14 Sep 2021   Deviance:                   1.4028e+05\n",
              "Time:                        21:45:54   Pearson chi2:                 4.28e+11\n",
              "No. Iterations:                    10                                         \n",
              "Covariance Type:            nonrobust                                         \n",
              "==============================================================================\n",
              "                 coef    std err          z      P>|z|      [0.025      0.975]\n",
              "------------------------------------------------------------------------------\n",
              "const         -3.3604      0.013   -264.113      0.000      -3.385      -3.336\n",
              "V4             1.0596      0.006    188.208      0.000       1.049       1.071\n",
              "V6            -0.5659      0.008    -74.559      0.000      -0.581      -0.551\n",
              "V8            -0.4373      0.006    -77.112      0.000      -0.448      -0.426\n",
              "V9            -0.3169      0.008    -40.049      0.000      -0.332      -0.301\n",
              "V11            1.1122      0.007    167.402      0.000       1.099       1.125\n",
              "V13           -0.3040      0.008    -40.179      0.000      -0.319      -0.289\n",
              "V18           -0.3452      0.008    -45.897      0.000      -0.360      -0.330\n",
              "V25            0.5831      0.014     40.401      0.000       0.555       0.611\n",
              "V27            0.2077      0.017     12.168      0.000       0.174       0.241\n",
              "V28            0.4601      0.024     18.999      0.000       0.413       0.508\n",
              "==============================================================================\n",
              "\"\"\""
            ]
          },
          "execution_count": 56,
          "metadata": {},
          "output_type": "execute_result"
        }
      ]
    },
    {
      "cell_type": "code",
      "metadata": {
        "colab": {
          "base_uri": "https://localhost:8080/",
          "height": 203
        },
        "id": "F1e74nQSqT78",
        "outputId": "952fe9d9-f14d-461b-d934-04b91a16946f"
      },
      "source": [
        "y_train_pred = get_prediction_dataset(res,X_train_sm,y_train_SMOTE,0.5)\n",
        "y_train_pred.head()"
      ],
      "execution_count": null,
      "outputs": [
        {
          "data": {
            "text/html": [
              "<div>\n",
              "<style scoped>\n",
              "    .dataframe tbody tr th:only-of-type {\n",
              "        vertical-align: middle;\n",
              "    }\n",
              "\n",
              "    .dataframe tbody tr th {\n",
              "        vertical-align: top;\n",
              "    }\n",
              "\n",
              "    .dataframe thead th {\n",
              "        text-align: right;\n",
              "    }\n",
              "</style>\n",
              "<table border=\"1\" class=\"dataframe\">\n",
              "  <thead>\n",
              "    <tr style=\"text-align: right;\">\n",
              "      <th></th>\n",
              "      <th>Fraud</th>\n",
              "      <th>Fraud_Porb</th>\n",
              "      <th>predicted</th>\n",
              "    </tr>\n",
              "  </thead>\n",
              "  <tbody>\n",
              "    <tr>\n",
              "      <th>0</th>\n",
              "      <td>0</td>\n",
              "      <td>0.045622</td>\n",
              "      <td>0</td>\n",
              "    </tr>\n",
              "    <tr>\n",
              "      <th>1</th>\n",
              "      <td>0</td>\n",
              "      <td>0.004221</td>\n",
              "      <td>0</td>\n",
              "    </tr>\n",
              "    <tr>\n",
              "      <th>2</th>\n",
              "      <td>0</td>\n",
              "      <td>0.005331</td>\n",
              "      <td>0</td>\n",
              "    </tr>\n",
              "    <tr>\n",
              "      <th>3</th>\n",
              "      <td>0</td>\n",
              "      <td>0.025653</td>\n",
              "      <td>0</td>\n",
              "    </tr>\n",
              "    <tr>\n",
              "      <th>4</th>\n",
              "      <td>0</td>\n",
              "      <td>0.002703</td>\n",
              "      <td>0</td>\n",
              "    </tr>\n",
              "  </tbody>\n",
              "</table>\n",
              "</div>"
            ],
            "text/plain": [
              "   Fraud  Fraud_Porb  predicted\n",
              "0      0    0.045622          0\n",
              "1      0    0.004221          0\n",
              "2      0    0.005331          0\n",
              "3      0    0.025653          0\n",
              "4      0    0.002703          0"
            ]
          },
          "execution_count": 57,
          "metadata": {},
          "output_type": "execute_result"
        }
      ]
    },
    {
      "cell_type": "code",
      "metadata": {
        "colab": {
          "base_uri": "https://localhost:8080/"
        },
        "id": "-fBzZBazqVnM",
        "outputId": "22edecaa-fe86-42a4-f647-824195db08c6"
      },
      "source": [
        "print(get_accuracy(y_train_pred))"
      ],
      "execution_count": null,
      "outputs": [
        {
          "name": "stdout",
          "output_type": "stream",
          "text": [
            "0.935761123533402\n"
          ]
        }
      ]
    },
    {
      "cell_type": "code",
      "metadata": {
        "colab": {
          "base_uri": "https://localhost:8080/"
        },
        "id": "63slOgwTqXrV",
        "outputId": "109db9eb-2f6d-44dc-c78c-02fd16d1facd"
      },
      "source": [
        "get_vif(X_train_SMOTE,col)"
      ],
      "execution_count": null,
      "outputs": [
        {
          "name": "stdout",
          "output_type": "stream",
          "text": [
            "  Features   VIF\n",
            "4      V11  6.48\n",
            "0       V4  6.41\n",
            "3       V9  5.21\n",
            "6      V18  3.10\n",
            "1       V6  2.50\n",
            "2       V8  1.95\n",
            "8      V27  1.56\n",
            "9      V28  1.18\n",
            "7      V25  1.17\n",
            "5      V13  1.13\n"
          ]
        }
      ]
    },
    {
      "cell_type": "code",
      "metadata": {
        "colab": {
          "base_uri": "https://localhost:8080/"
        },
        "id": "6JCNAN-Rqd8f",
        "outputId": "b65f7221-24b7-4d9b-9929-b778885b2340"
      },
      "source": [
        "col = col.drop('V11', 1)\n",
        "col"
      ],
      "execution_count": null,
      "outputs": [
        {
          "data": {
            "text/plain": [
              "Index(['V4', 'V6', 'V8', 'V9', 'V13', 'V18', 'V25', 'V27', 'V28'], dtype='object')"
            ]
          },
          "execution_count": 60,
          "metadata": {},
          "output_type": "execute_result"
        }
      ]
    },
    {
      "cell_type": "code",
      "metadata": {
        "colab": {
          "base_uri": "https://localhost:8080/",
          "height": 445
        },
        "id": "iYc3QsrqqoRw",
        "outputId": "0bfcf88d-e607-4011-f19a-92ae79f01ac6"
      },
      "source": [
        "# Let's re-run the model using the selected variables\n",
        "res,X_train_sm = get_logistic_model(X_train_SMOTE,col,y_train_SMOTE)\n",
        "res.summary()"
      ],
      "execution_count": null,
      "outputs": [
        {
          "data": {
            "text/html": [
              "<table class=\"simpletable\">\n",
              "<caption>Generalized Linear Model Regression Results</caption>\n",
              "<tr>\n",
              "  <th>Dep. Variable:</th>           <td>y</td>        <th>  No. Observations:  </th>   <td>398030</td>  \n",
              "</tr>\n",
              "<tr>\n",
              "  <th>Model:</th>                  <td>GLM</td>       <th>  Df Residuals:      </th>   <td>398020</td>  \n",
              "</tr>\n",
              "<tr>\n",
              "  <th>Model Family:</th>        <td>Binomial</td>     <th>  Df Model:          </th>   <td>     9</td>  \n",
              "</tr>\n",
              "<tr>\n",
              "  <th>Link Function:</th>         <td>logit</td>      <th>  Scale:             </th>  <td>  1.0000</td> \n",
              "</tr>\n",
              "<tr>\n",
              "  <th>Method:</th>                <td>IRLS</td>       <th>  Log-Likelihood:    </th>  <td> -90084.</td> \n",
              "</tr>\n",
              "<tr>\n",
              "  <th>Date:</th>            <td>Tue, 14 Sep 2021</td> <th>  Deviance:          </th> <td>1.8017e+05</td>\n",
              "</tr>\n",
              "<tr>\n",
              "  <th>Time:</th>                <td>21:46:23</td>     <th>  Pearson chi2:      </th>  <td>1.99e+14</td> \n",
              "</tr>\n",
              "<tr>\n",
              "  <th>No. Iterations:</th>          <td>9</td>        <th>                     </th>      <td> </td>    \n",
              "</tr>\n",
              "<tr>\n",
              "  <th>Covariance Type:</th>     <td>nonrobust</td>    <th>                     </th>      <td> </td>    \n",
              "</tr>\n",
              "</table>\n",
              "<table class=\"simpletable\">\n",
              "<tr>\n",
              "    <td></td>       <th>coef</th>     <th>std err</th>      <th>z</th>      <th>P>|z|</th>  <th>[0.025</th>    <th>0.975]</th>  \n",
              "</tr>\n",
              "<tr>\n",
              "  <th>const</th> <td>   -2.8820</td> <td>    0.011</td> <td> -268.350</td> <td> 0.000</td> <td>   -2.903</td> <td>   -2.861</td>\n",
              "</tr>\n",
              "<tr>\n",
              "  <th>V4</th>    <td>    1.1900</td> <td>    0.005</td> <td>  234.434</td> <td> 0.000</td> <td>    1.180</td> <td>    1.200</td>\n",
              "</tr>\n",
              "<tr>\n",
              "  <th>V6</th>    <td>   -0.7625</td> <td>    0.007</td> <td> -112.935</td> <td> 0.000</td> <td>   -0.776</td> <td>   -0.749</td>\n",
              "</tr>\n",
              "<tr>\n",
              "  <th>V8</th>    <td>   -0.4366</td> <td>    0.005</td> <td>  -86.706</td> <td> 0.000</td> <td>   -0.446</td> <td>   -0.427</td>\n",
              "</tr>\n",
              "<tr>\n",
              "  <th>V9</th>    <td>   -0.4707</td> <td>    0.007</td> <td>  -65.332</td> <td> 0.000</td> <td>   -0.485</td> <td>   -0.457</td>\n",
              "</tr>\n",
              "<tr>\n",
              "  <th>V13</th>   <td>   -0.3266</td> <td>    0.007</td> <td>  -49.070</td> <td> 0.000</td> <td>   -0.340</td> <td>   -0.314</td>\n",
              "</tr>\n",
              "<tr>\n",
              "  <th>V18</th>   <td>   -0.5972</td> <td>    0.006</td> <td>  -97.558</td> <td> 0.000</td> <td>   -0.609</td> <td>   -0.585</td>\n",
              "</tr>\n",
              "<tr>\n",
              "  <th>V25</th>   <td>    0.5067</td> <td>    0.012</td> <td>   41.181</td> <td> 0.000</td> <td>    0.483</td> <td>    0.531</td>\n",
              "</tr>\n",
              "<tr>\n",
              "  <th>V27</th>   <td>    0.3450</td> <td>    0.014</td> <td>   25.131</td> <td> 0.000</td> <td>    0.318</td> <td>    0.372</td>\n",
              "</tr>\n",
              "<tr>\n",
              "  <th>V28</th>   <td>    0.7696</td> <td>    0.022</td> <td>   35.112</td> <td> 0.000</td> <td>    0.727</td> <td>    0.813</td>\n",
              "</tr>\n",
              "</table>"
            ],
            "text/plain": [
              "<class 'statsmodels.iolib.summary.Summary'>\n",
              "\"\"\"\n",
              "                 Generalized Linear Model Regression Results                  \n",
              "==============================================================================\n",
              "Dep. Variable:                      y   No. Observations:               398030\n",
              "Model:                            GLM   Df Residuals:                   398020\n",
              "Model Family:                Binomial   Df Model:                            9\n",
              "Link Function:                  logit   Scale:                          1.0000\n",
              "Method:                          IRLS   Log-Likelihood:                -90084.\n",
              "Date:                Tue, 14 Sep 2021   Deviance:                   1.8017e+05\n",
              "Time:                        21:46:23   Pearson chi2:                 1.99e+14\n",
              "No. Iterations:                     9                                         \n",
              "Covariance Type:            nonrobust                                         \n",
              "==============================================================================\n",
              "                 coef    std err          z      P>|z|      [0.025      0.975]\n",
              "------------------------------------------------------------------------------\n",
              "const         -2.8820      0.011   -268.350      0.000      -2.903      -2.861\n",
              "V4             1.1900      0.005    234.434      0.000       1.180       1.200\n",
              "V6            -0.7625      0.007   -112.935      0.000      -0.776      -0.749\n",
              "V8            -0.4366      0.005    -86.706      0.000      -0.446      -0.427\n",
              "V9            -0.4707      0.007    -65.332      0.000      -0.485      -0.457\n",
              "V13           -0.3266      0.007    -49.070      0.000      -0.340      -0.314\n",
              "V18           -0.5972      0.006    -97.558      0.000      -0.609      -0.585\n",
              "V25            0.5067      0.012     41.181      0.000       0.483       0.531\n",
              "V27            0.3450      0.014     25.131      0.000       0.318       0.372\n",
              "V28            0.7696      0.022     35.112      0.000       0.727       0.813\n",
              "==============================================================================\n",
              "\"\"\""
            ]
          },
          "execution_count": 61,
          "metadata": {},
          "output_type": "execute_result"
        }
      ]
    },
    {
      "cell_type": "code",
      "metadata": {
        "colab": {
          "base_uri": "https://localhost:8080/",
          "height": 203
        },
        "id": "gS95A1uGqttL",
        "outputId": "3db9a918-5789-4037-853f-c45060421ed1"
      },
      "source": [
        "y_train_pred = get_prediction_dataset(res,X_train_sm,y_train_SMOTE,0.5)\n",
        "y_train_pred.head()"
      ],
      "execution_count": null,
      "outputs": [
        {
          "data": {
            "text/html": [
              "<div>\n",
              "<style scoped>\n",
              "    .dataframe tbody tr th:only-of-type {\n",
              "        vertical-align: middle;\n",
              "    }\n",
              "\n",
              "    .dataframe tbody tr th {\n",
              "        vertical-align: top;\n",
              "    }\n",
              "\n",
              "    .dataframe thead th {\n",
              "        text-align: right;\n",
              "    }\n",
              "</style>\n",
              "<table border=\"1\" class=\"dataframe\">\n",
              "  <thead>\n",
              "    <tr style=\"text-align: right;\">\n",
              "      <th></th>\n",
              "      <th>Fraud</th>\n",
              "      <th>Fraud_Porb</th>\n",
              "      <th>predicted</th>\n",
              "    </tr>\n",
              "  </thead>\n",
              "  <tbody>\n",
              "    <tr>\n",
              "      <th>0</th>\n",
              "      <td>0</td>\n",
              "      <td>0.073468</td>\n",
              "      <td>0</td>\n",
              "    </tr>\n",
              "    <tr>\n",
              "      <th>1</th>\n",
              "      <td>0</td>\n",
              "      <td>0.005503</td>\n",
              "      <td>0</td>\n",
              "    </tr>\n",
              "    <tr>\n",
              "      <th>2</th>\n",
              "      <td>0</td>\n",
              "      <td>0.004824</td>\n",
              "      <td>0</td>\n",
              "    </tr>\n",
              "    <tr>\n",
              "      <th>3</th>\n",
              "      <td>0</td>\n",
              "      <td>0.189885</td>\n",
              "      <td>0</td>\n",
              "    </tr>\n",
              "    <tr>\n",
              "      <th>4</th>\n",
              "      <td>0</td>\n",
              "      <td>0.003127</td>\n",
              "      <td>0</td>\n",
              "    </tr>\n",
              "  </tbody>\n",
              "</table>\n",
              "</div>"
            ],
            "text/plain": [
              "   Fraud  Fraud_Porb  predicted\n",
              "0      0    0.073468          0\n",
              "1      0    0.005503          0\n",
              "2      0    0.004824          0\n",
              "3      0    0.189885          0\n",
              "4      0    0.003127          0"
            ]
          },
          "execution_count": 62,
          "metadata": {},
          "output_type": "execute_result"
        }
      ]
    },
    {
      "cell_type": "code",
      "metadata": {
        "colab": {
          "base_uri": "https://localhost:8080/"
        },
        "id": "qjAyLeZTqv3j",
        "outputId": "92e56f35-d533-4080-e5fb-db397743a424"
      },
      "source": [
        "print(get_accuracy(y_train_pred))"
      ],
      "execution_count": null,
      "outputs": [
        {
          "name": "stdout",
          "output_type": "stream",
          "text": [
            "0.9110167575308394\n"
          ]
        }
      ]
    },
    {
      "cell_type": "code",
      "metadata": {
        "colab": {
          "base_uri": "https://localhost:8080/"
        },
        "id": "YehfPBbmqxeZ",
        "outputId": "6058807d-20da-425a-e6b6-b8113c5cae88"
      },
      "source": [
        "get_vif(X_train_SMOTE,col)"
      ],
      "execution_count": null,
      "outputs": [
        {
          "name": "stdout",
          "output_type": "stream",
          "text": [
            "  Features   VIF\n",
            "3       V9  5.11\n",
            "0       V4  4.58\n",
            "5      V18  2.78\n",
            "1       V6  2.37\n",
            "2       V8  1.90\n",
            "7      V27  1.33\n",
            "6      V25  1.17\n",
            "8      V28  1.16\n",
            "4      V13  1.13\n"
          ]
        }
      ]
    },
    {
      "cell_type": "code",
      "metadata": {
        "colab": {
          "base_uri": "https://localhost:8080/"
        },
        "id": "pzrACMp6Ryji",
        "outputId": "4759681a-6bc7-408a-e222-5fc4ad47d6c3"
      },
      "source": [
        "col = col.drop('V9', 1)\n",
        "col"
      ],
      "execution_count": null,
      "outputs": [
        {
          "data": {
            "text/plain": [
              "Index(['V4', 'V6', 'V8', 'V13', 'V18', 'V25', 'V27', 'V28'], dtype='object')"
            ]
          },
          "execution_count": 66,
          "metadata": {},
          "output_type": "execute_result"
        }
      ]
    },
    {
      "cell_type": "code",
      "metadata": {
        "colab": {
          "base_uri": "https://localhost:8080/",
          "height": 425
        },
        "id": "-HCjB33eR26Z",
        "outputId": "1e70112b-7a88-4368-954b-650150650346"
      },
      "source": [
        "# Let's re-run the model using the selected variables\n",
        "res,X_train_sm = get_logistic_model(X_train_SMOTE,col,y_train_SMOTE)\n",
        "res.summary()"
      ],
      "execution_count": null,
      "outputs": [
        {
          "data": {
            "text/html": [
              "<table class=\"simpletable\">\n",
              "<caption>Generalized Linear Model Regression Results</caption>\n",
              "<tr>\n",
              "  <th>Dep. Variable:</th>           <td>y</td>        <th>  No. Observations:  </th>  <td>398030</td> \n",
              "</tr>\n",
              "<tr>\n",
              "  <th>Model:</th>                  <td>GLM</td>       <th>  Df Residuals:      </th>  <td>398021</td> \n",
              "</tr>\n",
              "<tr>\n",
              "  <th>Model Family:</th>        <td>Binomial</td>     <th>  Df Model:          </th>  <td>     8</td> \n",
              "</tr>\n",
              "<tr>\n",
              "  <th>Link Function:</th>         <td>logit</td>      <th>  Scale:             </th> <td>  1.0000</td>\n",
              "</tr>\n",
              "<tr>\n",
              "  <th>Method:</th>                <td>IRLS</td>       <th>  Log-Likelihood:    </th> <td>     nan</td>\n",
              "</tr>\n",
              "<tr>\n",
              "  <th>Date:</th>            <td>Tue, 14 Sep 2021</td> <th>  Deviance:          </th> <td>     inf</td>\n",
              "</tr>\n",
              "<tr>\n",
              "  <th>Time:</th>                <td>21:47:46</td>     <th>  Pearson chi2:      </th> <td>5.17e+15</td>\n",
              "</tr>\n",
              "<tr>\n",
              "  <th>No. Iterations:</th>          <td>6</td>        <th>                     </th>     <td> </td>   \n",
              "</tr>\n",
              "<tr>\n",
              "  <th>Covariance Type:</th>     <td>nonrobust</td>    <th>                     </th>     <td> </td>   \n",
              "</tr>\n",
              "</table>\n",
              "<table class=\"simpletable\">\n",
              "<tr>\n",
              "    <td></td>       <th>coef</th>     <th>std err</th>      <th>z</th>      <th>P>|z|</th>  <th>[0.025</th>    <th>0.975]</th>  \n",
              "</tr>\n",
              "<tr>\n",
              "  <th>const</th> <td>   -2.9205</td> <td>    0.011</td> <td> -271.661</td> <td> 0.000</td> <td>   -2.942</td> <td>   -2.899</td>\n",
              "</tr>\n",
              "<tr>\n",
              "  <th>V4</th>    <td>    1.2899</td> <td>    0.005</td> <td>  259.880</td> <td> 0.000</td> <td>    1.280</td> <td>    1.300</td>\n",
              "</tr>\n",
              "<tr>\n",
              "  <th>V6</th>    <td>   -0.8036</td> <td>    0.007</td> <td> -120.813</td> <td> 0.000</td> <td>   -0.817</td> <td>   -0.791</td>\n",
              "</tr>\n",
              "<tr>\n",
              "  <th>V8</th>    <td>   -0.3959</td> <td>    0.005</td> <td>  -82.835</td> <td> 0.000</td> <td>   -0.405</td> <td>   -0.387</td>\n",
              "</tr>\n",
              "<tr>\n",
              "  <th>V13</th>   <td>   -0.3360</td> <td>    0.006</td> <td>  -52.193</td> <td> 0.000</td> <td>   -0.349</td> <td>   -0.323</td>\n",
              "</tr>\n",
              "<tr>\n",
              "  <th>V18</th>   <td>   -0.7079</td> <td>    0.006</td> <td> -121.244</td> <td> 0.000</td> <td>   -0.719</td> <td>   -0.696</td>\n",
              "</tr>\n",
              "<tr>\n",
              "  <th>V25</th>   <td>    0.5495</td> <td>    0.012</td> <td>   45.047</td> <td> 0.000</td> <td>    0.526</td> <td>    0.573</td>\n",
              "</tr>\n",
              "<tr>\n",
              "  <th>V27</th>   <td>    0.5249</td> <td>    0.013</td> <td>   39.641</td> <td> 0.000</td> <td>    0.499</td> <td>    0.551</td>\n",
              "</tr>\n",
              "<tr>\n",
              "  <th>V28</th>   <td>    0.8121</td> <td>    0.022</td> <td>   37.241</td> <td> 0.000</td> <td>    0.769</td> <td>    0.855</td>\n",
              "</tr>\n",
              "</table>"
            ],
            "text/plain": [
              "<class 'statsmodels.iolib.summary.Summary'>\n",
              "\"\"\"\n",
              "                 Generalized Linear Model Regression Results                  \n",
              "==============================================================================\n",
              "Dep. Variable:                      y   No. Observations:               398030\n",
              "Model:                            GLM   Df Residuals:                   398021\n",
              "Model Family:                Binomial   Df Model:                            8\n",
              "Link Function:                  logit   Scale:                          1.0000\n",
              "Method:                          IRLS   Log-Likelihood:                    nan\n",
              "Date:                Tue, 14 Sep 2021   Deviance:                          inf\n",
              "Time:                        21:47:46   Pearson chi2:                 5.17e+15\n",
              "No. Iterations:                     6                                         \n",
              "Covariance Type:            nonrobust                                         \n",
              "==============================================================================\n",
              "                 coef    std err          z      P>|z|      [0.025      0.975]\n",
              "------------------------------------------------------------------------------\n",
              "const         -2.9205      0.011   -271.661      0.000      -2.942      -2.899\n",
              "V4             1.2899      0.005    259.880      0.000       1.280       1.300\n",
              "V6            -0.8036      0.007   -120.813      0.000      -0.817      -0.791\n",
              "V8            -0.3959      0.005    -82.835      0.000      -0.405      -0.387\n",
              "V13           -0.3360      0.006    -52.193      0.000      -0.349      -0.323\n",
              "V18           -0.7079      0.006   -121.244      0.000      -0.719      -0.696\n",
              "V25            0.5495      0.012     45.047      0.000       0.526       0.573\n",
              "V27            0.5249      0.013     39.641      0.000       0.499       0.551\n",
              "V28            0.8121      0.022     37.241      0.000       0.769       0.855\n",
              "==============================================================================\n",
              "\"\"\""
            ]
          },
          "execution_count": 67,
          "metadata": {},
          "output_type": "execute_result"
        }
      ]
    },
    {
      "cell_type": "code",
      "metadata": {
        "colab": {
          "base_uri": "https://localhost:8080/",
          "height": 203
        },
        "id": "LzJuVNAWR6mx",
        "outputId": "f4fb94d7-aa9e-4309-b06b-828909e5a988"
      },
      "source": [
        "y_train_pred = get_prediction_dataset(res,X_train_sm,y_train_SMOTE,0.5)\n",
        "y_train_pred.head()"
      ],
      "execution_count": null,
      "outputs": [
        {
          "data": {
            "text/html": [
              "<div>\n",
              "<style scoped>\n",
              "    .dataframe tbody tr th:only-of-type {\n",
              "        vertical-align: middle;\n",
              "    }\n",
              "\n",
              "    .dataframe tbody tr th {\n",
              "        vertical-align: top;\n",
              "    }\n",
              "\n",
              "    .dataframe thead th {\n",
              "        text-align: right;\n",
              "    }\n",
              "</style>\n",
              "<table border=\"1\" class=\"dataframe\">\n",
              "  <thead>\n",
              "    <tr style=\"text-align: right;\">\n",
              "      <th></th>\n",
              "      <th>Fraud</th>\n",
              "      <th>Fraud_Prob</th>\n",
              "      <th>predicted</th>\n",
              "    </tr>\n",
              "  </thead>\n",
              "  <tbody>\n",
              "    <tr>\n",
              "      <th>0</th>\n",
              "      <td>0</td>\n",
              "      <td>0.067563</td>\n",
              "      <td>0</td>\n",
              "    </tr>\n",
              "    <tr>\n",
              "      <th>1</th>\n",
              "      <td>0</td>\n",
              "      <td>0.002364</td>\n",
              "      <td>0</td>\n",
              "    </tr>\n",
              "    <tr>\n",
              "      <th>2</th>\n",
              "      <td>0</td>\n",
              "      <td>0.002041</td>\n",
              "      <td>0</td>\n",
              "    </tr>\n",
              "    <tr>\n",
              "      <th>3</th>\n",
              "      <td>0</td>\n",
              "      <td>0.196895</td>\n",
              "      <td>0</td>\n",
              "    </tr>\n",
              "    <tr>\n",
              "      <th>4</th>\n",
              "      <td>0</td>\n",
              "      <td>0.001695</td>\n",
              "      <td>0</td>\n",
              "    </tr>\n",
              "  </tbody>\n",
              "</table>\n",
              "</div>"
            ],
            "text/plain": [
              "   Fraud  Fraud_Prob  predicted\n",
              "0      0    0.067563          0\n",
              "1      0    0.002364          0\n",
              "2      0    0.002041          0\n",
              "3      0    0.196895          0\n",
              "4      0    0.001695          0"
            ]
          },
          "execution_count": 80,
          "metadata": {},
          "output_type": "execute_result"
        }
      ]
    },
    {
      "cell_type": "code",
      "metadata": {
        "colab": {
          "base_uri": "https://localhost:8080/"
        },
        "id": "6YAbr7RnSAbG",
        "outputId": "913e0645-4ed3-4122-8ae3-73066a146e59"
      },
      "source": [
        "get_vif(X_train_SMOTE,col)"
      ],
      "execution_count": null,
      "outputs": [
        {
          "name": "stdout",
          "output_type": "stream",
          "text": [
            "  Features   VIF\n",
            "0       V4  2.78\n",
            "1       V6  2.34\n",
            "4      V18  2.27\n",
            "2       V8  1.89\n",
            "6      V27  1.26\n",
            "5      V25  1.16\n",
            "7      V28  1.14\n",
            "3      V13  1.13\n"
          ]
        }
      ]
    },
    {
      "cell_type": "code",
      "metadata": {
        "colab": {
          "base_uri": "https://localhost:8080/"
        },
        "id": "wTwl5jd1SHEK",
        "outputId": "776174ea-6123-4890-cc11-3a0958b45817"
      },
      "source": [
        "print(get_accuracy(y_train_pred))"
      ],
      "execution_count": null,
      "outputs": [
        {
          "name": "stdout",
          "output_type": "stream",
          "text": [
            "0.9079014144662463\n"
          ]
        }
      ]
    },
    {
      "cell_type": "code",
      "metadata": {
        "colab": {
          "base_uri": "https://localhost:8080/"
        },
        "id": "-0wVoi-7q15a",
        "outputId": "ccf111ab-8cab-46ce-c5cc-58fe1296bafa"
      },
      "source": [
        "# Let's take a look at the confusion matrix again \n",
        "confusion = get_confusion_matrix(y_train_pred)\n",
        "confusion"
      ],
      "execution_count": null,
      "outputs": [
        {
          "data": {
            "text/plain": [
              "array([[185191,  13824],\n",
              "       [ 22834, 176181]])"
            ]
          },
          "execution_count": 70,
          "metadata": {},
          "output_type": "execute_result"
        }
      ]
    },
    {
      "cell_type": "code",
      "metadata": {
        "colab": {
          "base_uri": "https://localhost:8080/"
        },
        "id": "nNzBB3bVrBtm",
        "outputId": "943f2da1-34b7-4d51-a63e-41f14b80dd8c"
      },
      "source": [
        "get_all_measures(confusion)"
      ],
      "execution_count": null,
      "outputs": [
        {
          "name": "stdout",
          "output_type": "stream",
          "text": [
            "Sensitivity is : 0.89\n",
            "\n",
            "specificity is : 0.93\n",
            "\n",
            "false_positive_rate is : 0.07\n",
            "\n",
            "negative_predictive_value is : 0.89\n",
            "\n",
            "precision is : 0.93\n",
            "\n",
            "recall is : 0.89\n",
            "\n"
          ]
        }
      ]
    },
    {
      "cell_type": "code",
      "metadata": {
        "id": "joyg9dUOrU9p"
      },
      "source": [
        "fpr, tpr, thresholds = metrics.roc_curve( y_train_pred.Fraud, y_train_pred.Fraud_Prob, drop_intermediate = False )"
      ],
      "execution_count": null,
      "outputs": []
    },
    {
      "cell_type": "code",
      "metadata": {
        "colab": {
          "base_uri": "https://localhost:8080/",
          "height": 350
        },
        "id": "N3jhZ8hTrf5D",
        "outputId": "91edc10a-2623-4047-bedd-ba205025d848"
      },
      "source": [
        "draw_roc(y_train_pred.Fraud, y_train_pred.Fraud_Prob)"
      ],
      "execution_count": null,
      "outputs": [
        {
          "data": {
            "image/png": "[encoded data removed]",
            "text/plain": [
              "<Figure size 360x360 with 1 Axes>"
            ]
          },
          "metadata": {
            "needs_background": "light"
          },
          "output_type": "display_data"
        }
      ]
    },
    {
      "cell_type": "code",
      "metadata": {
        "colab": {
          "base_uri": "https://localhost:8080/",
          "height": 203
        },
        "id": "LWc9fT3DrlQF",
        "outputId": "a98bfc40-a7d2-4ba1-d037-5abd143a3d24"
      },
      "source": [
        "# Let's create columns with different probability cutoffs \n",
        "numbers = [float(x)/10 for x in range(10)]\n",
        "for i in numbers:\n",
        "    y_train_pred[i]= y_train_pred.Fraud_Prob.map(lambda x: 1 if x > i else 0)\n",
        "y_train_pred.head()"
      ],
      "execution_count": null,
      "outputs": [
        {
          "data": {
            "text/html": [
              "<div>\n",
              "<style scoped>\n",
              "    .dataframe tbody tr th:only-of-type {\n",
              "        vertical-align: middle;\n",
              "    }\n",
              "\n",
              "    .dataframe tbody tr th {\n",
              "        vertical-align: top;\n",
              "    }\n",
              "\n",
              "    .dataframe thead th {\n",
              "        text-align: right;\n",
              "    }\n",
              "</style>\n",
              "<table border=\"1\" class=\"dataframe\">\n",
              "  <thead>\n",
              "    <tr style=\"text-align: right;\">\n",
              "      <th></th>\n",
              "      <th>Fraud</th>\n",
              "      <th>Fraud_Prob</th>\n",
              "      <th>predicted</th>\n",
              "      <th>0.0</th>\n",
              "      <th>0.1</th>\n",
              "      <th>0.2</th>\n",
              "      <th>0.3</th>\n",
              "      <th>0.4</th>\n",
              "      <th>0.5</th>\n",
              "      <th>0.6</th>\n",
              "      <th>0.7</th>\n",
              "      <th>0.8</th>\n",
              "      <th>0.9</th>\n",
              "    </tr>\n",
              "  </thead>\n",
              "  <tbody>\n",
              "    <tr>\n",
              "      <th>0</th>\n",
              "      <td>0</td>\n",
              "      <td>0.067563</td>\n",
              "      <td>0</td>\n",
              "      <td>1</td>\n",
              "      <td>0</td>\n",
              "      <td>0</td>\n",
              "      <td>0</td>\n",
              "      <td>0</td>\n",
              "      <td>0</td>\n",
              "      <td>0</td>\n",
              "      <td>0</td>\n",
              "      <td>0</td>\n",
              "      <td>0</td>\n",
              "    </tr>\n",
              "    <tr>\n",
              "      <th>1</th>\n",
              "      <td>0</td>\n",
              "      <td>0.002364</td>\n",
              "      <td>0</td>\n",
              "      <td>1</td>\n",
              "      <td>0</td>\n",
              "      <td>0</td>\n",
              "      <td>0</td>\n",
              "      <td>0</td>\n",
              "      <td>0</td>\n",
              "      <td>0</td>\n",
              "      <td>0</td>\n",
              "      <td>0</td>\n",
              "      <td>0</td>\n",
              "    </tr>\n",
              "    <tr>\n",
              "      <th>2</th>\n",
              "      <td>0</td>\n",
              "      <td>0.002041</td>\n",
              "      <td>0</td>\n",
              "      <td>1</td>\n",
              "      <td>0</td>\n",
              "      <td>0</td>\n",
              "      <td>0</td>\n",
              "      <td>0</td>\n",
              "      <td>0</td>\n",
              "      <td>0</td>\n",
              "      <td>0</td>\n",
              "      <td>0</td>\n",
              "      <td>0</td>\n",
              "    </tr>\n",
              "    <tr>\n",
              "      <th>3</th>\n",
              "      <td>0</td>\n",
              "      <td>0.196895</td>\n",
              "      <td>0</td>\n",
              "      <td>1</td>\n",
              "      <td>1</td>\n",
              "      <td>0</td>\n",
              "      <td>0</td>\n",
              "      <td>0</td>\n",
              "      <td>0</td>\n",
              "      <td>0</td>\n",
              "      <td>0</td>\n",
              "      <td>0</td>\n",
              "      <td>0</td>\n",
              "    </tr>\n",
              "    <tr>\n",
              "      <th>4</th>\n",
              "      <td>0</td>\n",
              "      <td>0.001695</td>\n",
              "      <td>0</td>\n",
              "      <td>1</td>\n",
              "      <td>0</td>\n",
              "      <td>0</td>\n",
              "      <td>0</td>\n",
              "      <td>0</td>\n",
              "      <td>0</td>\n",
              "      <td>0</td>\n",
              "      <td>0</td>\n",
              "      <td>0</td>\n",
              "      <td>0</td>\n",
              "    </tr>\n",
              "  </tbody>\n",
              "</table>\n",
              "</div>"
            ],
            "text/plain": [
              "   Fraud  Fraud_Prob  predicted  0.0  0.1  0.2  ...  0.4  0.5  0.6  0.7  0.8  0.9\n",
              "0      0    0.067563          0    1    0    0  ...    0    0    0    0    0    0\n",
              "1      0    0.002364          0    1    0    0  ...    0    0    0    0    0    0\n",
              "2      0    0.002041          0    1    0    0  ...    0    0    0    0    0    0\n",
              "3      0    0.196895          0    1    1    0  ...    0    0    0    0    0    0\n",
              "4      0    0.001695          0    1    0    0  ...    0    0    0    0    0    0\n",
              "\n",
              "[5 rows x 13 columns]"
            ]
          },
          "execution_count": 84,
          "metadata": {},
          "output_type": "execute_result"
        }
      ]
    },
    {
      "cell_type": "code",
      "metadata": {
        "colab": {
          "base_uri": "https://localhost:8080/"
        },
        "id": "uj9aGAmnrvBS",
        "outputId": "7a6e213a-4e1e-469b-b751-e7205212037d"
      },
      "source": [
        "# Now let's calculate accuracy sensitivity and specificity for various probability cutoffs.\n",
        "cutoff_df = pd.DataFrame( columns = ['prob','accuracy','sensi','speci'])\n",
        "from sklearn.metrics import confusion_matrix\n",
        "\n",
        "# TP = confusion[1,1] # true positive \n",
        "# TN = confusion[0,0] # true negatives\n",
        "# FP = confusion[0,1] # false positives\n",
        "# FN = confusion[1,0] # false negatives\n",
        "\n",
        "num = [0.0,0.1,0.2,0.3,0.4,0.5,0.6,0.7,0.8,0.9]\n",
        "for i in num:\n",
        "    cm1 = metrics.confusion_matrix(y_train_pred.Fraud, y_train_pred[i] )\n",
        "    total1=sum(sum(cm1))\n",
        "    accuracy = (cm1[0,0]+cm1[1,1])/total1\n",
        "    \n",
        "    speci = cm1[0,0]/(cm1[0,0]+cm1[0,1])\n",
        "    sensi = cm1[1,1]/(cm1[1,0]+cm1[1,1])\n",
        "    cutoff_df.loc[i] =[ i ,accuracy,sensi,speci]\n",
        "print(cutoff_df)"
      ],
      "execution_count": null,
      "outputs": [
        {
          "name": "stdout",
          "output_type": "stream",
          "text": [
            "     prob  accuracy     sensi     speci\n",
            "0.0   0.0  0.500000  1.000000  0.000000\n",
            "0.1   0.1  0.798420  0.979489  0.617350\n",
            "0.2   0.2  0.863370  0.956451  0.770289\n",
            "0.3   0.3  0.891340  0.931920  0.850760\n",
            "0.4   0.4  0.903764  0.908374  0.899153\n",
            "0.5   0.5  0.907901  0.885265  0.930538\n",
            "0.6   0.6  0.901033  0.850634  0.951431\n",
            "0.7   0.7  0.891905  0.816612  0.967198\n",
            "0.8   0.8  0.878645  0.777715  0.979574\n",
            "0.9   0.9  0.852581  0.715062  0.990101\n"
          ]
        }
      ]
    },
    {
      "cell_type": "code",
      "metadata": {
        "colab": {
          "base_uri": "https://localhost:8080/",
          "height": 279
        },
        "id": "nC1KuRV4r2JY",
        "outputId": "e85c28e0-4e84-4ed7-86af-1db9e7d1dc32"
      },
      "source": [
        "# Let's plot accuracy sensitivity and specificity for various probabilities.\n",
        "cutoff_df.plot.line(x='prob', y=['accuracy','sensi','speci'])\n",
        "plt.show()"
      ],
      "execution_count": null,
      "outputs": [
        {
          "data": {
            "image/png": "[encoded data removed]",
            "text/plain": [
              "<Figure size 432x288 with 1 Axes>"
            ]
          },
          "metadata": {
            "needs_background": "light"
          },
          "output_type": "display_data"
        }
      ]
    },
    {
      "cell_type": "code",
      "metadata": {
        "colab": {
          "base_uri": "https://localhost:8080/",
          "height": 203
        },
        "id": "oK0GFmlFr5sV",
        "outputId": "e1b5ed79-85b3-44c0-9c7f-06d84803bf56"
      },
      "source": [
        "y_train_pred['final_predicted'] = y_train_pred.Fraud_Prob.map( lambda x: 1 if x > 0.4 else 0)\n",
        "\n",
        "y_train_pred.head()"
      ],
      "execution_count": null,
      "outputs": [
        {
          "data": {
            "text/html": [
              "<div>\n",
              "<style scoped>\n",
              "    .dataframe tbody tr th:only-of-type {\n",
              "        vertical-align: middle;\n",
              "    }\n",
              "\n",
              "    .dataframe tbody tr th {\n",
              "        vertical-align: top;\n",
              "    }\n",
              "\n",
              "    .dataframe thead th {\n",
              "        text-align: right;\n",
              "    }\n",
              "</style>\n",
              "<table border=\"1\" class=\"dataframe\">\n",
              "  <thead>\n",
              "    <tr style=\"text-align: right;\">\n",
              "      <th></th>\n",
              "      <th>Fraud</th>\n",
              "      <th>Fraud_Prob</th>\n",
              "      <th>predicted</th>\n",
              "      <th>0.0</th>\n",
              "      <th>0.1</th>\n",
              "      <th>0.2</th>\n",
              "      <th>0.3</th>\n",
              "      <th>0.4</th>\n",
              "      <th>0.5</th>\n",
              "      <th>0.6</th>\n",
              "      <th>0.7</th>\n",
              "      <th>0.8</th>\n",
              "      <th>0.9</th>\n",
              "      <th>final_predicted</th>\n",
              "    </tr>\n",
              "  </thead>\n",
              "  <tbody>\n",
              "    <tr>\n",
              "      <th>0</th>\n",
              "      <td>0</td>\n",
              "      <td>0.067563</td>\n",
              "      <td>0</td>\n",
              "      <td>1</td>\n",
              "      <td>0</td>\n",
              "      <td>0</td>\n",
              "      <td>0</td>\n",
              "      <td>0</td>\n",
              "      <td>0</td>\n",
              "      <td>0</td>\n",
              "      <td>0</td>\n",
              "      <td>0</td>\n",
              "      <td>0</td>\n",
              "      <td>0</td>\n",
              "    </tr>\n",
              "    <tr>\n",
              "      <th>1</th>\n",
              "      <td>0</td>\n",
              "      <td>0.002364</td>\n",
              "      <td>0</td>\n",
              "      <td>1</td>\n",
              "      <td>0</td>\n",
              "      <td>0</td>\n",
              "      <td>0</td>\n",
              "      <td>0</td>\n",
              "      <td>0</td>\n",
              "      <td>0</td>\n",
              "      <td>0</td>\n",
              "      <td>0</td>\n",
              "      <td>0</td>\n",
              "      <td>0</td>\n",
              "    </tr>\n",
              "    <tr>\n",
              "      <th>2</th>\n",
              "      <td>0</td>\n",
              "      <td>0.002041</td>\n",
              "      <td>0</td>\n",
              "      <td>1</td>\n",
              "      <td>0</td>\n",
              "      <td>0</td>\n",
              "      <td>0</td>\n",
              "      <td>0</td>\n",
              "      <td>0</td>\n",
              "      <td>0</td>\n",
              "      <td>0</td>\n",
              "      <td>0</td>\n",
              "      <td>0</td>\n",
              "      <td>0</td>\n",
              "    </tr>\n",
              "    <tr>\n",
              "      <th>3</th>\n",
              "      <td>0</td>\n",
              "      <td>0.196895</td>\n",
              "      <td>0</td>\n",
              "      <td>1</td>\n",
              "      <td>1</td>\n",
              "      <td>0</td>\n",
              "      <td>0</td>\n",
              "      <td>0</td>\n",
              "      <td>0</td>\n",
              "      <td>0</td>\n",
              "      <td>0</td>\n",
              "      <td>0</td>\n",
              "      <td>0</td>\n",
              "      <td>0</td>\n",
              "    </tr>\n",
              "    <tr>\n",
              "      <th>4</th>\n",
              "      <td>0</td>\n",
              "      <td>0.001695</td>\n",
              "      <td>0</td>\n",
              "      <td>1</td>\n",
              "      <td>0</td>\n",
              "      <td>0</td>\n",
              "      <td>0</td>\n",
              "      <td>0</td>\n",
              "      <td>0</td>\n",
              "      <td>0</td>\n",
              "      <td>0</td>\n",
              "      <td>0</td>\n",
              "      <td>0</td>\n",
              "      <td>0</td>\n",
              "    </tr>\n",
              "  </tbody>\n",
              "</table>\n",
              "</div>"
            ],
            "text/plain": [
              "   Fraud  Fraud_Prob  predicted  0.0  0.1  ...  0.6  0.7  0.8  0.9  final_predicted\n",
              "0      0    0.067563          0    1    0  ...    0    0    0    0                0\n",
              "1      0    0.002364          0    1    0  ...    0    0    0    0                0\n",
              "2      0    0.002041          0    1    0  ...    0    0    0    0                0\n",
              "3      0    0.196895          0    1    1  ...    0    0    0    0                0\n",
              "4      0    0.001695          0    1    0  ...    0    0    0    0                0\n",
              "\n",
              "[5 rows x 14 columns]"
            ]
          },
          "execution_count": 87,
          "metadata": {},
          "output_type": "execute_result"
        }
      ]
    },
    {
      "cell_type": "code",
      "metadata": {
        "colab": {
          "base_uri": "https://localhost:8080/"
        },
        "id": "jMniJG5gsAVu",
        "outputId": "4ced04ce-5d21-4710-dfd6-c8dfe1778ab6"
      },
      "source": [
        "# Let's check the overall accuracy.\n",
        "print(metrics.accuracy_score(y_train_pred.Fraud, y_train_pred.final_predicted))"
      ],
      "execution_count": null,
      "outputs": [
        {
          "name": "stdout",
          "output_type": "stream",
          "text": [
            "0.9037635354119036\n"
          ]
        }
      ]
    },
    {
      "cell_type": "code",
      "metadata": {
        "colab": {
          "base_uri": "https://localhost:8080/"
        },
        "id": "Nu3mnbP8sFH_",
        "outputId": "9a239b9c-7143-4b5c-e18b-19037e6cd5e0"
      },
      "source": [
        "confusion2 = metrics.confusion_matrix(y_train_pred.Fraud, y_train_pred.final_predicted )\n",
        "confusion2"
      ],
      "execution_count": null,
      "outputs": [
        {
          "data": {
            "text/plain": [
              "array([[178945,  20070],\n",
              "       [ 18235, 180780]])"
            ]
          },
          "execution_count": 89,
          "metadata": {},
          "output_type": "execute_result"
        }
      ]
    },
    {
      "cell_type": "code",
      "metadata": {
        "colab": {
          "base_uri": "https://localhost:8080/"
        },
        "id": "z5BSSsiSsMGG",
        "outputId": "6ae4e2ac-a997-452e-ad56-c56917643e06"
      },
      "source": [
        "get_all_measures(confusion2)"
      ],
      "execution_count": null,
      "outputs": [
        {
          "name": "stdout",
          "output_type": "stream",
          "text": [
            "Sensitivity is : 0.91\n",
            "\n",
            "specificity is : 0.90\n",
            "\n",
            "false_positive_rate is : 0.10\n",
            "\n",
            "negative_predictive_value is : 0.91\n",
            "\n",
            "precision is : 0.90\n",
            "\n",
            "recall is : 0.91\n",
            "\n"
          ]
        }
      ]
    },
    {
      "cell_type": "code",
      "metadata": {
        "colab": {
          "base_uri": "https://localhost:8080/",
          "height": 203
        },
        "id": "WJCdDIqwsoM2",
        "outputId": "801286ae-f379-498b-fad4-0120c124565a"
      },
      "source": [
        "X_test = X_test[col]\n",
        "X_test.head()"
      ],
      "execution_count": null,
      "outputs": [
        {
          "data": {
            "text/html": [
              "<div>\n",
              "<style scoped>\n",
              "    .dataframe tbody tr th:only-of-type {\n",
              "        vertical-align: middle;\n",
              "    }\n",
              "\n",
              "    .dataframe tbody tr th {\n",
              "        vertical-align: top;\n",
              "    }\n",
              "\n",
              "    .dataframe thead th {\n",
              "        text-align: right;\n",
              "    }\n",
              "</style>\n",
              "<table border=\"1\" class=\"dataframe\">\n",
              "  <thead>\n",
              "    <tr style=\"text-align: right;\">\n",
              "      <th></th>\n",
              "      <th>V4</th>\n",
              "      <th>V6</th>\n",
              "      <th>V8</th>\n",
              "      <th>V13</th>\n",
              "      <th>V18</th>\n",
              "      <th>V25</th>\n",
              "      <th>V27</th>\n",
              "      <th>V28</th>\n",
              "    </tr>\n",
              "  </thead>\n",
              "  <tbody>\n",
              "    <tr>\n",
              "      <th>69469</th>\n",
              "      <td>-0.604220</td>\n",
              "      <td>3.220823</td>\n",
              "      <td>0.765428</td>\n",
              "      <td>0.021785</td>\n",
              "      <td>-0.082656</td>\n",
              "      <td>0.436351</td>\n",
              "      <td>-0.049085</td>\n",
              "      <td>0.013198</td>\n",
              "    </tr>\n",
              "    <tr>\n",
              "      <th>190234</th>\n",
              "      <td>0.533765</td>\n",
              "      <td>-1.447242</td>\n",
              "      <td>-0.354569</td>\n",
              "      <td>-0.302472</td>\n",
              "      <td>0.447603</td>\n",
              "      <td>0.227029</td>\n",
              "      <td>-0.001726</td>\n",
              "      <td>-0.031748</td>\n",
              "    </tr>\n",
              "    <tr>\n",
              "      <th>175551</th>\n",
              "      <td>0.306401</td>\n",
              "      <td>0.183886</td>\n",
              "      <td>0.226719</td>\n",
              "      <td>-0.384204</td>\n",
              "      <td>0.682198</td>\n",
              "      <td>-0.141367</td>\n",
              "      <td>0.033374</td>\n",
              "      <td>-0.040584</td>\n",
              "    </tr>\n",
              "    <tr>\n",
              "      <th>149595</th>\n",
              "      <td>-0.197500</td>\n",
              "      <td>0.097873</td>\n",
              "      <td>-11.169795</td>\n",
              "      <td>1.436761</td>\n",
              "      <td>-0.529008</td>\n",
              "      <td>-0.196056</td>\n",
              "      <td>0.045830</td>\n",
              "      <td>0.503654</td>\n",
              "    </tr>\n",
              "    <tr>\n",
              "      <th>77646</th>\n",
              "      <td>-0.094733</td>\n",
              "      <td>-1.010269</td>\n",
              "      <td>-0.189717</td>\n",
              "      <td>1.321746</td>\n",
              "      <td>1.533399</td>\n",
              "      <td>0.198068</td>\n",
              "      <td>-0.012535</td>\n",
              "      <td>0.064118</td>\n",
              "    </tr>\n",
              "  </tbody>\n",
              "</table>\n",
              "</div>"
            ],
            "text/plain": [
              "              V4        V6         V8  ...       V25       V27       V28\n",
              "69469  -0.604220  3.220823   0.765428  ...  0.436351 -0.049085  0.013198\n",
              "190234  0.533765 -1.447242  -0.354569  ...  0.227029 -0.001726 -0.031748\n",
              "175551  0.306401  0.183886   0.226719  ... -0.141367  0.033374 -0.040584\n",
              "149595 -0.197500  0.097873 -11.169795  ... -0.196056  0.045830  0.503654\n",
              "77646  -0.094733 -1.010269  -0.189717  ...  0.198068 -0.012535  0.064118\n",
              "\n",
              "[5 rows x 8 columns]"
            ]
          },
          "execution_count": 91,
          "metadata": {},
          "output_type": "execute_result"
        }
      ]
    },
    {
      "cell_type": "code",
      "metadata": {
        "id": "QYZsBG-MvR6D"
      },
      "source": [
        "X_test_sm = sm.add_constant(X_test)"
      ],
      "execution_count": null,
      "outputs": []
    },
    {
      "cell_type": "code",
      "metadata": {
        "id": "76qymAWPvYyV"
      },
      "source": [
        "y_test_pred = res.predict(X_test_sm)"
      ],
      "execution_count": null,
      "outputs": []
    },
    {
      "cell_type": "code",
      "metadata": {
        "id": "WnKugazAvaoE"
      },
      "source": [
        "# Converting y_pred to a dataframe which is an array\n",
        "y_pred_1 = pd.DataFrame(y_test_pred)"
      ],
      "execution_count": null,
      "outputs": []
    },
    {
      "cell_type": "code",
      "metadata": {
        "id": "liBAAXXQvcl2"
      },
      "source": [
        "# Converting y_test to dataframe\n",
        "y_test_df = pd.DataFrame(y_test)"
      ],
      "execution_count": null,
      "outputs": []
    },
    {
      "cell_type": "code",
      "metadata": {
        "id": "FLDARO0gvePV"
      },
      "source": [
        "# Appending y_test_df and y_pred_1\n",
        "y_pred_final_test = pd.concat([y_test_df, y_pred_1],axis=1)"
      ],
      "execution_count": null,
      "outputs": []
    },
    {
      "cell_type": "code",
      "metadata": {
        "colab": {
          "base_uri": "https://localhost:8080/",
          "height": 203
        },
        "id": "cnM2X6PAvmym",
        "outputId": "9fea9e47-8076-42d0-a9d8-c0c6123675a4"
      },
      "source": [
        "y_pred_final_test.head()"
      ],
      "execution_count": null,
      "outputs": [
        {
          "data": {
            "text/html": [
              "<div>\n",
              "<style scoped>\n",
              "    .dataframe tbody tr th:only-of-type {\n",
              "        vertical-align: middle;\n",
              "    }\n",
              "\n",
              "    .dataframe tbody tr th {\n",
              "        vertical-align: top;\n",
              "    }\n",
              "\n",
              "    .dataframe thead th {\n",
              "        text-align: right;\n",
              "    }\n",
              "</style>\n",
              "<table border=\"1\" class=\"dataframe\">\n",
              "  <thead>\n",
              "    <tr style=\"text-align: right;\">\n",
              "      <th></th>\n",
              "      <th>Class</th>\n",
              "      <th>0</th>\n",
              "    </tr>\n",
              "  </thead>\n",
              "  <tbody>\n",
              "    <tr>\n",
              "      <th>69469</th>\n",
              "      <td>0</td>\n",
              "      <td>0.001805</td>\n",
              "    </tr>\n",
              "    <tr>\n",
              "      <th>190234</th>\n",
              "      <td>0</td>\n",
              "      <td>0.260024</td>\n",
              "    </tr>\n",
              "    <tr>\n",
              "      <th>175551</th>\n",
              "      <td>0</td>\n",
              "      <td>0.038802</td>\n",
              "    </tr>\n",
              "    <tr>\n",
              "      <th>149595</th>\n",
              "      <td>0</td>\n",
              "      <td>0.799779</td>\n",
              "    </tr>\n",
              "    <tr>\n",
              "      <th>77646</th>\n",
              "      <td>0</td>\n",
              "      <td>0.028440</td>\n",
              "    </tr>\n",
              "  </tbody>\n",
              "</table>\n",
              "</div>"
            ],
            "text/plain": [
              "        Class         0\n",
              "69469       0  0.001805\n",
              "190234      0  0.260024\n",
              "175551      0  0.038802\n",
              "149595      0  0.799779\n",
              "77646       0  0.028440"
            ]
          },
          "execution_count": 97,
          "metadata": {},
          "output_type": "execute_result"
        }
      ]
    },
    {
      "cell_type": "code",
      "metadata": {
        "id": "-7GBcwlcvoX8"
      },
      "source": [
        "# Renaming the column \n",
        "y_pred_final_test= y_pred_final_test.rename(columns={ 0 : 'Fraud_Prob'})"
      ],
      "execution_count": null,
      "outputs": []
    },
    {
      "cell_type": "code",
      "metadata": {
        "id": "w6vSuZAWvuDD"
      },
      "source": [
        "y_pred_final_test['final_predicted'] = y_pred_final_test.Fraud_Prob.map(lambda x: 1 if x > 0.4 else 0)"
      ],
      "execution_count": null,
      "outputs": []
    },
    {
      "cell_type": "code",
      "metadata": {
        "colab": {
          "base_uri": "https://localhost:8080/",
          "height": 203
        },
        "id": "c9Oft6P_vz3Z",
        "outputId": "43e1a70f-4e3a-4263-c3d5-425eb5dcec2b"
      },
      "source": [
        "y_pred_final_test.head()"
      ],
      "execution_count": null,
      "outputs": [
        {
          "data": {
            "text/html": [
              "<div>\n",
              "<style scoped>\n",
              "    .dataframe tbody tr th:only-of-type {\n",
              "        vertical-align: middle;\n",
              "    }\n",
              "\n",
              "    .dataframe tbody tr th {\n",
              "        vertical-align: top;\n",
              "    }\n",
              "\n",
              "    .dataframe thead th {\n",
              "        text-align: right;\n",
              "    }\n",
              "</style>\n",
              "<table border=\"1\" class=\"dataframe\">\n",
              "  <thead>\n",
              "    <tr style=\"text-align: right;\">\n",
              "      <th></th>\n",
              "      <th>Class</th>\n",
              "      <th>Fraud_Prob</th>\n",
              "      <th>final_predicted</th>\n",
              "    </tr>\n",
              "  </thead>\n",
              "  <tbody>\n",
              "    <tr>\n",
              "      <th>69469</th>\n",
              "      <td>0</td>\n",
              "      <td>0.001805</td>\n",
              "      <td>0</td>\n",
              "    </tr>\n",
              "    <tr>\n",
              "      <th>190234</th>\n",
              "      <td>0</td>\n",
              "      <td>0.260024</td>\n",
              "      <td>0</td>\n",
              "    </tr>\n",
              "    <tr>\n",
              "      <th>175551</th>\n",
              "      <td>0</td>\n",
              "      <td>0.038802</td>\n",
              "      <td>0</td>\n",
              "    </tr>\n",
              "    <tr>\n",
              "      <th>149595</th>\n",
              "      <td>0</td>\n",
              "      <td>0.799779</td>\n",
              "      <td>1</td>\n",
              "    </tr>\n",
              "    <tr>\n",
              "      <th>77646</th>\n",
              "      <td>0</td>\n",
              "      <td>0.028440</td>\n",
              "      <td>0</td>\n",
              "    </tr>\n",
              "  </tbody>\n",
              "</table>\n",
              "</div>"
            ],
            "text/plain": [
              "        Class  Fraud_Prob  final_predicted\n",
              "69469       0    0.001805                0\n",
              "190234      0    0.260024                0\n",
              "175551      0    0.038802                0\n",
              "149595      0    0.799779                1\n",
              "77646       0    0.028440                0"
            ]
          },
          "execution_count": 101,
          "metadata": {},
          "output_type": "execute_result"
        }
      ]
    },
    {
      "cell_type": "code",
      "metadata": {
        "colab": {
          "base_uri": "https://localhost:8080/"
        },
        "id": "L0V3JhgQv1ny",
        "outputId": "288a693c-dd93-48ae-e01c-d15fbaeb40c3"
      },
      "source": [
        "# Let's check the overall accuracy.\n",
        "print(metrics.accuracy_score(y_pred_final_test.Class, y_pred_final_test.final_predicted))"
      ],
      "execution_count": null,
      "outputs": [
        {
          "name": "stdout",
          "output_type": "stream",
          "text": [
            "0.9007876596093302\n"
          ]
        }
      ]
    },
    {
      "cell_type": "code",
      "metadata": {
        "colab": {
          "base_uri": "https://localhost:8080/"
        },
        "id": "FzIEfc5hv3qz",
        "outputId": "c18ad615-e771-462e-a27e-c6d290ad2f73"
      },
      "source": [
        "confusion2 = metrics.confusion_matrix(y_pred_final_test.Class, y_pred_final_test.final_predicted )\n",
        "confusion2"
      ],
      "execution_count": null,
      "outputs": [
        {
          "data": {
            "text/plain": [
              "array([[76841,  8459],\n",
              "       [   18,   125]])"
            ]
          },
          "execution_count": 103,
          "metadata": {},
          "output_type": "execute_result"
        }
      ]
    },
    {
      "cell_type": "code",
      "metadata": {
        "colab": {
          "base_uri": "https://localhost:8080/"
        },
        "id": "VPatTyUDwCzF",
        "outputId": "0f9a4c6d-2d0d-44f3-cc1a-36c6b9b32304"
      },
      "source": [
        "get_all_measures(confusion2)"
      ],
      "execution_count": null,
      "outputs": [
        {
          "name": "stdout",
          "output_type": "stream",
          "text": [
            "Sensitivity is : 0.87\n",
            "\n",
            "specificity is : 0.90\n",
            "\n",
            "false_positive_rate is : 0.10\n",
            "\n",
            "negative_predictive_value is : 1.00\n",
            "\n",
            "precision is : 0.01\n",
            "\n",
            "recall is : 0.87\n",
            "\n"
          ]
        }
      ]
    },
    {
      "cell_type": "markdown",
      "metadata": {
        "id": "Z-aSDonQtHkq"
      },
      "source": [
        "# The precision in test data is very low. There are lots of false positives. "
      ]
    },
    {
      "cell_type": "markdown",
      "metadata": {
        "id": "soBaqdoETSbS"
      },
      "source": [
        "## Support Vector Machine"
      ]
    },
    {
      "cell_type": "code",
      "metadata": {
        "id": "PXooP-v-TRdJ"
      },
      "source": [
        "X_scaled = scale(X)\n",
        "X_train, X_test, y_train, y_test = train_test_split(X_scaled, y, test_size = 0.3, random_state = 101)"
      ],
      "execution_count": null,
      "outputs": []
    },
    {
      "cell_type": "code",
      "metadata": {
        "id": "hbAp-X7iUHXQ"
      },
      "source": [
        "# linear model\n",
        "\n",
        "model_linear = SVC(kernel='linear')\n",
        "model_linear.fit(X_train, y_train)\n",
        "\n",
        "# predict\n",
        "y_pred = model_linear.predict(X_test)"
      ],
      "execution_count": null,
      "outputs": []
    },
    {
      "cell_type": "code",
      "metadata": {
        "colab": {
          "base_uri": "https://localhost:8080/"
        },
        "id": "869qrY64UMc6",
        "outputId": "c638fd96-50da-457c-efa1-2de7ab8eee37"
      },
      "source": [
        "print(\"accuracy:\", metrics.accuracy_score(y_true=y_test, y_pred=y_pred), \"\\n\")"
      ],
      "execution_count": null,
      "outputs": [
        {
          "name": "stdout",
          "output_type": "stream",
          "text": [
            "accuracy: 0.9994499256814484 \n",
            "\n"
          ]
        }
      ]
    },
    {
      "cell_type": "code",
      "metadata": {
        "colab": {
          "base_uri": "https://localhost:8080/"
        },
        "id": "ZAVYx-NiUdi6",
        "outputId": "d453cd91-f776-4fab-9420-367bfec89dad"
      },
      "source": [
        "print(metrics.confusion_matrix(y_true=y_test, y_pred=y_pred))"
      ],
      "execution_count": null,
      "outputs": [
        {
          "name": "stdout",
          "output_type": "stream",
          "text": [
            "[[85280    19]\n",
            " [   28   116]]\n"
          ]
        }
      ]
    },
    {
      "cell_type": "code",
      "metadata": {
        "id": "NUziH_1dVeoR"
      },
      "source": [
        "confusion_svm_linear = metrics.confusion_matrix(y_true=y_test, y_pred=y_pred)"
      ],
      "execution_count": null,
      "outputs": []
    },
    {
      "cell_type": "code",
      "metadata": {
        "colab": {
          "base_uri": "https://localhost:8080/"
        },
        "id": "9rpqhM8njUVw",
        "outputId": "18b81b4b-3293-496a-8b05-cd20fab2959a"
      },
      "source": [
        "get_all_measures(confusion_svm_linear)"
      ],
      "execution_count": null,
      "outputs": [
        {
          "name": "stdout",
          "output_type": "stream",
          "text": [
            "Sensitivity is : 0.81\n",
            "\n",
            "specificity is : 1.00\n",
            "\n",
            "false_positive_rate is : 0.00\n",
            "\n",
            "negative_predictive_value is : 1.00\n",
            "\n",
            "precision is : 0.86\n",
            "\n",
            "recall is : 0.81\n",
            "\n"
          ]
        }
      ]
    },
    {
      "cell_type": "code",
      "metadata": {
        "id": "wYy8c8IejV6M"
      },
      "source": [
        "# non-linear model\n",
        "# using rbf kernel, C=1, default value of gamma\n",
        "\n",
        "# model\n",
        "non_linear_model = SVC(kernel='rbf')\n",
        "\n",
        "# fit\n",
        "non_linear_model.fit(X_train, y_train)\n",
        "\n",
        "# predict\n",
        "y_pred = non_linear_model.predict(X_test)"
      ],
      "execution_count": null,
      "outputs": []
    },
    {
      "cell_type": "code",
      "metadata": {
        "colab": {
          "base_uri": "https://localhost:8080/"
        },
        "id": "9Da4QsG1jpro",
        "outputId": "63e7d316-df4b-47f7-952f-ceccebd794e3"
      },
      "source": [
        "print(\"accuracy:\", metrics.accuracy_score(y_true=y_test, y_pred=y_pred), \"\\n\")"
      ],
      "execution_count": null,
      "outputs": [
        {
          "name": "stdout",
          "output_type": "stream",
          "text": [
            "accuracy: 0.999403110845827 \n",
            "\n"
          ]
        }
      ]
    },
    {
      "cell_type": "code",
      "metadata": {
        "id": "qz7oqacjk23W"
      },
      "source": [
        "confusion_svm_non_linear = metrics.confusion_matrix(y_true=y_test, y_pred=y_pred)"
      ],
      "execution_count": null,
      "outputs": []
    },
    {
      "cell_type": "code",
      "metadata": {
        "colab": {
          "base_uri": "https://localhost:8080/"
        },
        "id": "bxXbcUJTk9I7",
        "outputId": "1d4d7206-c980-467a-874f-500f3f6dca55"
      },
      "source": [
        "get_all_measures(confusion_svm_non_linear)"
      ],
      "execution_count": null,
      "outputs": [
        {
          "name": "stdout",
          "output_type": "stream",
          "text": [
            "Sensitivity is : 0.69\n",
            "\n",
            "specificity is : 1.00\n",
            "\n",
            "false_positive_rate is : 0.00\n",
            "\n",
            "negative_predictive_value is : 1.00\n",
            "\n",
            "precision is : 0.94\n",
            "\n",
            "recall is : 0.69\n",
            "\n"
          ]
        }
      ]
    },
    {
      "cell_type": "markdown",
      "metadata": {
        "id": "JDfqWVmklFTS"
      },
      "source": [
        "### Linear SVM model is performing better than the Non Linear SVM Model. We will proceed with the hyperparameter tuning of the linear model"
      ]
    },
    {
      "cell_type": "markdown",
      "metadata": {
        "id": "KoNNiNf2-BR_"
      },
      "source": [
        "# Decision Tree"
      ]
    },
    {
      "cell_type": "code",
      "metadata": {
        "id": "4AtLZZPsi69J"
      },
      "source": [
        "# Splitting the data into train and test\n",
        "X_train, X_test, y_train, y_test = train_test_split(X, y, \n",
        "                                                    test_size=0.30, \n",
        "                                                    random_state = 99)"
      ],
      "execution_count": null,
      "outputs": []
    },
    {
      "cell_type": "code",
      "metadata": {
        "colab": {
          "base_uri": "https://localhost:8080/"
        },
        "id": "i3UvHmZA-cKK",
        "outputId": "d8f3073f-ee72-4b89-dde3-843a7d398634"
      },
      "source": [
        "dt_default = DecisionTreeClassifier(max_depth=5)\n",
        "dt_default.fit(X_train, y_train)"
      ],
      "execution_count": null,
      "outputs": [
        {
          "data": {
            "text/plain": [
              "DecisionTreeClassifier(ccp_alpha=0.0, class_weight=None, criterion='gini',\n",
              "                       max_depth=5, max_features=None, max_leaf_nodes=None,\n",
              "                       min_impurity_decrease=0.0, min_impurity_split=None,\n",
              "                       min_samples_leaf=1, min_samples_split=2,\n",
              "                       min_weight_fraction_leaf=0.0, presort='deprecated',\n",
              "                       random_state=None, splitter='best')"
            ]
          },
          "execution_count": 13,
          "metadata": {},
          "output_type": "execute_result"
        }
      ]
    },
    {
      "cell_type": "code",
      "metadata": {
        "id": "ExFVPCfF--Ap"
      },
      "source": [
        "y_pred = dt_default.predict(X_test)"
      ],
      "execution_count": null,
      "outputs": []
    },
    {
      "cell_type": "code",
      "metadata": {
        "colab": {
          "base_uri": "https://localhost:8080/"
        },
        "id": "YIM5CNLN_ExQ",
        "outputId": "a241256b-f069-45f5-e471-75051cef73fe"
      },
      "source": [
        "print(\"accuracy:\", metrics.accuracy_score(y_true=y_test, y_pred=y_pred), \"\\n\")"
      ],
      "execution_count": null,
      "outputs": [
        {
          "name": "stdout",
          "output_type": "stream",
          "text": [
            "accuracy: 0.9994616293903538 \n",
            "\n"
          ]
        }
      ]
    },
    {
      "cell_type": "code",
      "metadata": {
        "id": "PC-FKRRF_HED"
      },
      "source": [
        "confusion_decision_tree_default = metrics.confusion_matrix(y_true=y_test, y_pred=y_pred)"
      ],
      "execution_count": null,
      "outputs": []
    },
    {
      "cell_type": "code",
      "metadata": {
        "colab": {
          "base_uri": "https://localhost:8080/"
        },
        "id": "OkhA73B3_MN3",
        "outputId": "e4cce4e9-138e-49c3-f143-8d399eb3729c"
      },
      "source": [
        "get_all_measures(confusion_decision_tree_default)"
      ],
      "execution_count": null,
      "outputs": [
        {
          "name": "stdout",
          "output_type": "stream",
          "text": [
            "Sensitivity is : 0.82\n",
            "\n",
            "specificity is : 1.00\n",
            "\n",
            "false_positive_rate is : 0.00\n",
            "\n",
            "negative_predictive_value is : 1.00\n",
            "\n",
            "precision is : 0.88\n",
            "\n",
            "recall is : 0.82\n",
            "\n"
          ]
        }
      ]
    },
    {
      "cell_type": "markdown",
      "metadata": {
        "id": "uS1Tru2_H4Ge"
      },
      "source": [
        "## Hyperparameter Tuning"
      ]
    },
    {
      "cell_type": "markdown",
      "metadata": {
        "id": "JmqdNUuqRI7u"
      },
      "source": [
        "### There are total 4 hyperparameters that we are gonna tune for decision tree . A short description is given below for each of them\n",
        "\n",
        "\n",
        "\n",
        "*   max depth - the maximum depth of the tree\n",
        "\n",
        "*   criterion - there are two values here. \n",
        "  1.   gini -measure of impurity\n",
        "  2.   entropy - measure of randomness\n",
        "\n",
        "*   min_samples_leaf - the minimum samples required to be at a leaf node\n",
        "*   min_samples_split - the minimum samples required to split an     internal node\n",
        "\n",
        "\n",
        "\n",
        "\n",
        "\n",
        "\n",
        "\n",
        "\n",
        "\n"
      ]
    },
    {
      "cell_type": "markdown",
      "metadata": {
        "id": "EUflqAO2H53V"
      },
      "source": [
        "### Tuning criterion"
      ]
    },
    {
      "cell_type": "code",
      "metadata": {
        "colab": {
          "base_uri": "https://localhost:8080/"
        },
        "id": "NQNN-wLy_SgA",
        "outputId": "0e18ddbe-c99e-4b8a-ca00-966e2aa153d1"
      },
      "source": [
        "# specify number of folds for k-fold CV\n",
        "n_folds = 5\n",
        "\n",
        "# parameters to build the model on\n",
        "parameters = {'criterion': [\"entropy\", \"gini\"]}\n",
        "\n",
        "# instantiate the model\n",
        "dtree = DecisionTreeClassifier(random_state = 100)\n",
        "\n",
        "# fit tree on training data\n",
        "tree = GridSearchCV(dtree, parameters, \n",
        "                    cv=n_folds, \n",
        "                   scoring=\"accuracy\",\n",
        "                    return_train_score=True)\n",
        "tree.fit(X_train, y_train)"
      ],
      "execution_count": null,
      "outputs": [
        {
          "data": {
            "text/plain": [
              "GridSearchCV(cv=5, error_score=nan,\n",
              "             estimator=DecisionTreeClassifier(ccp_alpha=0.0, class_weight=None,\n",
              "                                              criterion='gini', max_depth=None,\n",
              "                                              max_features=None,\n",
              "                                              max_leaf_nodes=None,\n",
              "                                              min_impurity_decrease=0.0,\n",
              "                                              min_impurity_split=None,\n",
              "                                              min_samples_leaf=1,\n",
              "                                              min_samples_split=2,\n",
              "                                              min_weight_fraction_leaf=0.0,\n",
              "                                              presort='deprecated',\n",
              "                                              random_state=100,\n",
              "                                              splitter='best'),\n",
              "             iid='deprecated', n_jobs=None,\n",
              "             param_grid={'criterion': ['entropy', 'gini']},\n",
              "             pre_dispatch='2*n_jobs', refit=True, return_train_score=True,\n",
              "             scoring='accuracy', verbose=0)"
            ]
          },
          "execution_count": 22,
          "metadata": {},
          "output_type": "execute_result"
        }
      ]
    },
    {
      "cell_type": "code",
      "metadata": {
        "colab": {
          "base_uri": "https://localhost:8080/",
          "height": 164
        },
        "id": "fAwT6o6T_5jo",
        "outputId": "0f123b9d-2d6a-4ba2-9926-37550e06040a"
      },
      "source": [
        "# scores of GridSearch CV\n",
        "scores = tree.cv_results_\n",
        "pd.DataFrame(scores).head()"
      ],
      "execution_count": null,
      "outputs": [
        {
          "data": {
            "text/html": [
              "<div>\n",
              "<style scoped>\n",
              "    .dataframe tbody tr th:only-of-type {\n",
              "        vertical-align: middle;\n",
              "    }\n",
              "\n",
              "    .dataframe tbody tr th {\n",
              "        vertical-align: top;\n",
              "    }\n",
              "\n",
              "    .dataframe thead th {\n",
              "        text-align: right;\n",
              "    }\n",
              "</style>\n",
              "<table border=\"1\" class=\"dataframe\">\n",
              "  <thead>\n",
              "    <tr style=\"text-align: right;\">\n",
              "      <th></th>\n",
              "      <th>mean_fit_time</th>\n",
              "      <th>std_fit_time</th>\n",
              "      <th>mean_score_time</th>\n",
              "      <th>std_score_time</th>\n",
              "      <th>param_criterion</th>\n",
              "      <th>params</th>\n",
              "      <th>split0_test_score</th>\n",
              "      <th>split1_test_score</th>\n",
              "      <th>split2_test_score</th>\n",
              "      <th>split3_test_score</th>\n",
              "      <th>split4_test_score</th>\n",
              "      <th>mean_test_score</th>\n",
              "      <th>std_test_score</th>\n",
              "      <th>rank_test_score</th>\n",
              "      <th>split0_train_score</th>\n",
              "      <th>split1_train_score</th>\n",
              "      <th>split2_train_score</th>\n",
              "      <th>split3_train_score</th>\n",
              "      <th>split4_train_score</th>\n",
              "      <th>mean_train_score</th>\n",
              "      <th>std_train_score</th>\n",
              "    </tr>\n",
              "  </thead>\n",
              "  <tbody>\n",
              "    <tr>\n",
              "      <th>0</th>\n",
              "      <td>8.869686</td>\n",
              "      <td>0.483726</td>\n",
              "      <td>0.009354</td>\n",
              "      <td>0.000108</td>\n",
              "      <td>entropy</td>\n",
              "      <td>{'criterion': 'entropy'}</td>\n",
              "      <td>0.999248</td>\n",
              "      <td>0.999172</td>\n",
              "      <td>0.999147</td>\n",
              "      <td>0.999197</td>\n",
              "      <td>0.999172</td>\n",
              "      <td>0.999187</td>\n",
              "      <td>0.000034</td>\n",
              "      <td>1</td>\n",
              "      <td>1.0</td>\n",
              "      <td>1.0</td>\n",
              "      <td>1.0</td>\n",
              "      <td>1.0</td>\n",
              "      <td>1.0</td>\n",
              "      <td>1.0</td>\n",
              "      <td>0.0</td>\n",
              "    </tr>\n",
              "    <tr>\n",
              "      <th>1</th>\n",
              "      <td>12.582323</td>\n",
              "      <td>1.591743</td>\n",
              "      <td>0.010840</td>\n",
              "      <td>0.000967</td>\n",
              "      <td>gini</td>\n",
              "      <td>{'criterion': 'gini'}</td>\n",
              "      <td>0.998972</td>\n",
              "      <td>0.999172</td>\n",
              "      <td>0.998972</td>\n",
              "      <td>0.999223</td>\n",
              "      <td>0.999022</td>\n",
              "      <td>0.999072</td>\n",
              "      <td>0.000105</td>\n",
              "      <td>2</td>\n",
              "      <td>1.0</td>\n",
              "      <td>1.0</td>\n",
              "      <td>1.0</td>\n",
              "      <td>1.0</td>\n",
              "      <td>1.0</td>\n",
              "      <td>1.0</td>\n",
              "      <td>0.0</td>\n",
              "    </tr>\n",
              "  </tbody>\n",
              "</table>\n",
              "</div>"
            ],
            "text/plain": [
              "   mean_fit_time  std_fit_time  ...  mean_train_score  std_train_score\n",
              "0       8.869686      0.483726  ...               1.0              0.0\n",
              "1      12.582323      1.591743  ...               1.0              0.0\n",
              "\n",
              "[2 rows x 21 columns]"
            ]
          },
          "execution_count": 23,
          "metadata": {},
          "output_type": "execute_result"
        }
      ]
    },
    {
      "cell_type": "code",
      "metadata": {
        "colab": {
          "base_uri": "https://localhost:8080/",
          "height": 279
        },
        "id": "BThVFljIAxOD",
        "outputId": "0748d7c6-ec86-4c7b-c51b-e27344a0f413"
      },
      "source": [
        "# plotting accuracies with param_criterion\n",
        "plt.figure()\n",
        "plt.plot(scores[\"param_criterion\"], \n",
        "         scores[\"mean_train_score\"], \n",
        "         label=\"training accuracy\")\n",
        "plt.plot(scores[\"param_criterion\"], \n",
        "         scores[\"mean_test_score\"], \n",
        "         label=\"test accuracy\")\n",
        "plt.xlabel(\"criterion\")\n",
        "plt.ylabel(\"Accuracy\")\n",
        "plt.legend()\n",
        "plt.show()"
      ],
      "execution_count": null,
      "outputs": [
        {
          "data": {
            "image/png": "[encoded data removed]",
            "text/plain": [
              "<Figure size 432x288 with 1 Axes>"
            ]
          },
          "metadata": {
            "needs_background": "light"
          },
          "output_type": "display_data"
        }
      ]
    },
    {
      "cell_type": "markdown",
      "metadata": {
        "id": "3Xqiy0C_A3uB"
      },
      "source": [
        "### it's clear from the plot that entropy is the better criterion"
      ]
    },
    {
      "cell_type": "markdown",
      "metadata": {
        "id": "sKA-CoKOVZy8"
      },
      "source": [
        "## Tuning max_depth"
      ]
    },
    {
      "cell_type": "code",
      "metadata": {
        "colab": {
          "base_uri": "https://localhost:8080/"
        },
        "id": "ksMARsWLA2Tq",
        "outputId": "6123690b-0725-4545-c8b6-5de46a52352b"
      },
      "source": [
        "# specify number of folds for k-fold CV\n",
        "n_folds = 5\n",
        "\n",
        "# parameters to build the model on\n",
        "parameters = {'max_depth': range(1, 40)}\n",
        "\n",
        "# instantiate the model\n",
        "dtree = DecisionTreeClassifier(criterion = \"entropy\", \n",
        "                               random_state = 100)\n",
        "\n",
        "# fit tree on training data\n",
        "tree = GridSearchCV(dtree, parameters, \n",
        "                    cv=n_folds, \n",
        "                   scoring=\"accuracy\",\n",
        "                    return_train_score=True)\n",
        "tree.fit(X_train, y_train)"
      ],
      "execution_count": null,
      "outputs": [
        {
          "data": {
            "text/plain": [
              "GridSearchCV(cv=5, error_score=nan,\n",
              "             estimator=DecisionTreeClassifier(ccp_alpha=0.0, class_weight=None,\n",
              "                                              criterion='entropy',\n",
              "                                              max_depth=None, max_features=None,\n",
              "                                              max_leaf_nodes=None,\n",
              "                                              min_impurity_decrease=0.0,\n",
              "                                              min_impurity_split=None,\n",
              "                                              min_samples_leaf=1,\n",
              "                                              min_samples_split=2,\n",
              "                                              min_weight_fraction_leaf=0.0,\n",
              "                                              presort='deprecated',\n",
              "                                              random_state=100,\n",
              "                                              splitter='best'),\n",
              "             iid='deprecated', n_jobs=None,\n",
              "             param_grid={'max_depth': range(1, 40)}, pre_dispatch='2*n_jobs',\n",
              "             refit=True, return_train_score=True, scoring='accuracy',\n",
              "             verbose=0)"
            ]
          },
          "execution_count": 25,
          "metadata": {},
          "output_type": "execute_result"
        }
      ]
    },
    {
      "cell_type": "code",
      "metadata": {
        "colab": {
          "base_uri": "https://localhost:8080/",
          "height": 307
        },
        "id": "IAJyY4tiBE_u",
        "outputId": "b34fa578-0f4a-4631-ab2b-0158117af0f8"
      },
      "source": [
        "# scores of GridSearch CV\n",
        "scores = tree.cv_results_\n",
        "pd.DataFrame(scores).head()"
      ],
      "execution_count": null,
      "outputs": [
        {
          "data": {
            "text/html": [
              "<div>\n",
              "<style scoped>\n",
              "    .dataframe tbody tr th:only-of-type {\n",
              "        vertical-align: middle;\n",
              "    }\n",
              "\n",
              "    .dataframe tbody tr th {\n",
              "        vertical-align: top;\n",
              "    }\n",
              "\n",
              "    .dataframe thead th {\n",
              "        text-align: right;\n",
              "    }\n",
              "</style>\n",
              "<table border=\"1\" class=\"dataframe\">\n",
              "  <thead>\n",
              "    <tr style=\"text-align: right;\">\n",
              "      <th></th>\n",
              "      <th>mean_fit_time</th>\n",
              "      <th>std_fit_time</th>\n",
              "      <th>mean_score_time</th>\n",
              "      <th>std_score_time</th>\n",
              "      <th>param_max_depth</th>\n",
              "      <th>params</th>\n",
              "      <th>split0_test_score</th>\n",
              "      <th>split1_test_score</th>\n",
              "      <th>split2_test_score</th>\n",
              "      <th>split3_test_score</th>\n",
              "      <th>split4_test_score</th>\n",
              "      <th>mean_test_score</th>\n",
              "      <th>std_test_score</th>\n",
              "      <th>rank_test_score</th>\n",
              "      <th>split0_train_score</th>\n",
              "      <th>split1_train_score</th>\n",
              "      <th>split2_train_score</th>\n",
              "      <th>split3_train_score</th>\n",
              "      <th>split4_train_score</th>\n",
              "      <th>mean_train_score</th>\n",
              "      <th>std_train_score</th>\n",
              "    </tr>\n",
              "  </thead>\n",
              "  <tbody>\n",
              "    <tr>\n",
              "      <th>0</th>\n",
              "      <td>1.504881</td>\n",
              "      <td>0.326183</td>\n",
              "      <td>0.009316</td>\n",
              "      <td>0.002733</td>\n",
              "      <td>1</td>\n",
              "      <td>{'max_depth': 1}</td>\n",
              "      <td>0.998320</td>\n",
              "      <td>0.999122</td>\n",
              "      <td>0.999022</td>\n",
              "      <td>0.998320</td>\n",
              "      <td>0.998320</td>\n",
              "      <td>0.998621</td>\n",
              "      <td>0.000370</td>\n",
              "      <td>39</td>\n",
              "      <td>0.998320</td>\n",
              "      <td>0.999016</td>\n",
              "      <td>0.999041</td>\n",
              "      <td>0.998320</td>\n",
              "      <td>0.998320</td>\n",
              "      <td>0.998603</td>\n",
              "      <td>0.000347</td>\n",
              "    </tr>\n",
              "    <tr>\n",
              "      <th>1</th>\n",
              "      <td>2.470316</td>\n",
              "      <td>0.012188</td>\n",
              "      <td>0.008480</td>\n",
              "      <td>0.000920</td>\n",
              "      <td>2</td>\n",
              "      <td>{'max_depth': 2}</td>\n",
              "      <td>0.999323</td>\n",
              "      <td>0.999248</td>\n",
              "      <td>0.999147</td>\n",
              "      <td>0.999147</td>\n",
              "      <td>0.999147</td>\n",
              "      <td>0.999202</td>\n",
              "      <td>0.000072</td>\n",
              "      <td>22</td>\n",
              "      <td>0.999354</td>\n",
              "      <td>0.999191</td>\n",
              "      <td>0.999204</td>\n",
              "      <td>0.999392</td>\n",
              "      <td>0.999398</td>\n",
              "      <td>0.999308</td>\n",
              "      <td>0.000091</td>\n",
              "    </tr>\n",
              "    <tr>\n",
              "      <th>2</th>\n",
              "      <td>3.651599</td>\n",
              "      <td>0.010018</td>\n",
              "      <td>0.008221</td>\n",
              "      <td>0.000127</td>\n",
              "      <td>3</td>\n",
              "      <td>{'max_depth': 3}</td>\n",
              "      <td>0.999423</td>\n",
              "      <td>0.999473</td>\n",
              "      <td>0.999323</td>\n",
              "      <td>0.999248</td>\n",
              "      <td>0.999323</td>\n",
              "      <td>0.999358</td>\n",
              "      <td>0.000080</td>\n",
              "      <td>4</td>\n",
              "      <td>0.999498</td>\n",
              "      <td>0.999335</td>\n",
              "      <td>0.999354</td>\n",
              "      <td>0.999536</td>\n",
              "      <td>0.999455</td>\n",
              "      <td>0.999436</td>\n",
              "      <td>0.000079</td>\n",
              "    </tr>\n",
              "    <tr>\n",
              "      <th>3</th>\n",
              "      <td>4.833299</td>\n",
              "      <td>0.029654</td>\n",
              "      <td>0.008525</td>\n",
              "      <td>0.000081</td>\n",
              "      <td>4</td>\n",
              "      <td>{'max_depth': 4}</td>\n",
              "      <td>0.999423</td>\n",
              "      <td>0.999473</td>\n",
              "      <td>0.999273</td>\n",
              "      <td>0.999248</td>\n",
              "      <td>0.999298</td>\n",
              "      <td>0.999343</td>\n",
              "      <td>0.000089</td>\n",
              "      <td>6</td>\n",
              "      <td>0.999511</td>\n",
              "      <td>0.999517</td>\n",
              "      <td>0.999530</td>\n",
              "      <td>0.999542</td>\n",
              "      <td>0.999498</td>\n",
              "      <td>0.999520</td>\n",
              "      <td>0.000015</td>\n",
              "    </tr>\n",
              "    <tr>\n",
              "      <th>4</th>\n",
              "      <td>6.120603</td>\n",
              "      <td>0.269900</td>\n",
              "      <td>0.008678</td>\n",
              "      <td>0.000049</td>\n",
              "      <td>5</td>\n",
              "      <td>{'max_depth': 5}</td>\n",
              "      <td>0.999423</td>\n",
              "      <td>0.999398</td>\n",
              "      <td>0.999273</td>\n",
              "      <td>0.999423</td>\n",
              "      <td>0.999498</td>\n",
              "      <td>0.999403</td>\n",
              "      <td>0.000073</td>\n",
              "      <td>2</td>\n",
              "      <td>0.999605</td>\n",
              "      <td>0.999624</td>\n",
              "      <td>0.999580</td>\n",
              "      <td>0.999636</td>\n",
              "      <td>0.999630</td>\n",
              "      <td>0.999615</td>\n",
              "      <td>0.000020</td>\n",
              "    </tr>\n",
              "  </tbody>\n",
              "</table>\n",
              "</div>"
            ],
            "text/plain": [
              "   mean_fit_time  std_fit_time  ...  mean_train_score  std_train_score\n",
              "0       1.504881      0.326183  ...          0.998603         0.000347\n",
              "1       2.470316      0.012188  ...          0.999308         0.000091\n",
              "2       3.651599      0.010018  ...          0.999436         0.000079\n",
              "3       4.833299      0.029654  ...          0.999520         0.000015\n",
              "4       6.120603      0.269900  ...          0.999615         0.000020\n",
              "\n",
              "[5 rows x 21 columns]"
            ]
          },
          "execution_count": 26,
          "metadata": {},
          "output_type": "execute_result"
        }
      ]
    },
    {
      "cell_type": "code",
      "metadata": {
        "colab": {
          "base_uri": "https://localhost:8080/",
          "height": 280
        },
        "id": "NKZbHxRJHe7x",
        "outputId": "d400c042-1623-46d8-b684-2fd460e65391"
      },
      "source": [
        "# plotting accuracies with max_depth\n",
        "plt.figure()\n",
        "plt.plot(scores[\"param_max_depth\"], \n",
        "         scores[\"mean_train_score\"], \n",
        "         label=\"training accuracy\")\n",
        "plt.plot(scores[\"param_max_depth\"], \n",
        "         scores[\"mean_test_score\"], \n",
        "         label=\"test accuracy\")\n",
        "plt.xlabel(\"max_depth\")\n",
        "plt.ylabel(\"Accuracy\")\n",
        "plt.legend()\n",
        "plt.show()"
      ],
      "execution_count": null,
      "outputs": [
        {
          "data": {
            "image/png": "[encoded data removed]",
            "text/plain": [
              "<Figure size 432x288 with 1 Axes>"
            ]
          },
          "metadata": {
            "needs_background": "light"
          },
          "output_type": "display_data"
        }
      ]
    },
    {
      "cell_type": "markdown",
      "metadata": {
        "id": "wVsa-RaIHq3g"
      },
      "source": [
        "### it can be seen from the above plot that the optimal max_depth is 5"
      ]
    },
    {
      "cell_type": "markdown",
      "metadata": {
        "id": "kna0PXqMIC5Q"
      },
      "source": [
        "## Tuning min_samples_leaf"
      ]
    },
    {
      "cell_type": "code",
      "metadata": {
        "colab": {
          "base_uri": "https://localhost:8080/"
        },
        "id": "4MlAMO0yHkwl",
        "outputId": "934d02f7-670a-409d-b532-f123633f9a2b"
      },
      "source": [
        "# specify number of folds for k-fold CV\n",
        "n_folds = 5\n",
        "\n",
        "# parameters to build the model on\n",
        "parameters = {'min_samples_leaf': range(5, 200, 20)}\n",
        "\n",
        "# instantiate the model\n",
        "dtree = DecisionTreeClassifier(criterion = \"entropy\",\n",
        "                               max_depth = 5,\n",
        "                               random_state = 100)\n",
        "\n",
        "# fit tree on training data\n",
        "tree = RandomizedSearchCV(dtree, parameters, \n",
        "                    cv=n_folds, \n",
        "                   scoring=\"accuracy\",\n",
        "                    return_train_score=True)\n",
        "tree.fit(X_train, y_train)"
      ],
      "execution_count": null,
      "outputs": [
        {
          "data": {
            "text/plain": [
              "RandomizedSearchCV(cv=5, error_score=nan,\n",
              "                   estimator=DecisionTreeClassifier(ccp_alpha=0.0,\n",
              "                                                    class_weight=None,\n",
              "                                                    criterion='entropy',\n",
              "                                                    max_depth=5,\n",
              "                                                    max_features=None,\n",
              "                                                    max_leaf_nodes=None,\n",
              "                                                    min_impurity_decrease=0.0,\n",
              "                                                    min_impurity_split=None,\n",
              "                                                    min_samples_leaf=1,\n",
              "                                                    min_samples_split=2,\n",
              "                                                    min_weight_fraction_leaf=0.0,\n",
              "                                                    presort='deprecated',\n",
              "                                                    random_state=100,\n",
              "                                                    splitter='best'),\n",
              "                   iid='deprecated', n_iter=10, n_jobs=None,\n",
              "                   param_distributions={'min_samples_leaf': range(5, 200, 20)},\n",
              "                   pre_dispatch='2*n_jobs', random_state=None, refit=True,\n",
              "                   return_train_score=True, scoring='accuracy', verbose=0)"
            ]
          },
          "execution_count": 29,
          "metadata": {},
          "output_type": "execute_result"
        }
      ]
    },
    {
      "cell_type": "code",
      "metadata": {
        "colab": {
          "base_uri": "https://localhost:8080/",
          "height": 307
        },
        "id": "-fqYYGtyIbTq",
        "outputId": "19fb8eb5-e939-473c-8911-734787d4bd76"
      },
      "source": [
        "# scores of GridSearch CV\n",
        "scores = tree.cv_results_\n",
        "pd.DataFrame(scores).head()"
      ],
      "execution_count": null,
      "outputs": [
        {
          "data": {
            "text/html": [
              "<div>\n",
              "<style scoped>\n",
              "    .dataframe tbody tr th:only-of-type {\n",
              "        vertical-align: middle;\n",
              "    }\n",
              "\n",
              "    .dataframe tbody tr th {\n",
              "        vertical-align: top;\n",
              "    }\n",
              "\n",
              "    .dataframe thead th {\n",
              "        text-align: right;\n",
              "    }\n",
              "</style>\n",
              "<table border=\"1\" class=\"dataframe\">\n",
              "  <thead>\n",
              "    <tr style=\"text-align: right;\">\n",
              "      <th></th>\n",
              "      <th>mean_fit_time</th>\n",
              "      <th>std_fit_time</th>\n",
              "      <th>mean_score_time</th>\n",
              "      <th>std_score_time</th>\n",
              "      <th>param_min_samples_leaf</th>\n",
              "      <th>params</th>\n",
              "      <th>split0_test_score</th>\n",
              "      <th>split1_test_score</th>\n",
              "      <th>split2_test_score</th>\n",
              "      <th>split3_test_score</th>\n",
              "      <th>split4_test_score</th>\n",
              "      <th>mean_test_score</th>\n",
              "      <th>std_test_score</th>\n",
              "      <th>rank_test_score</th>\n",
              "      <th>split0_train_score</th>\n",
              "      <th>split1_train_score</th>\n",
              "      <th>split2_train_score</th>\n",
              "      <th>split3_train_score</th>\n",
              "      <th>split4_train_score</th>\n",
              "      <th>mean_train_score</th>\n",
              "      <th>std_train_score</th>\n",
              "    </tr>\n",
              "  </thead>\n",
              "  <tbody>\n",
              "    <tr>\n",
              "      <th>0</th>\n",
              "      <td>5.992903</td>\n",
              "      <td>0.095234</td>\n",
              "      <td>0.008744</td>\n",
              "      <td>0.000066</td>\n",
              "      <td>5</td>\n",
              "      <td>{'min_samples_leaf': 5}</td>\n",
              "      <td>0.999398</td>\n",
              "      <td>0.999298</td>\n",
              "      <td>0.999298</td>\n",
              "      <td>0.999398</td>\n",
              "      <td>0.999448</td>\n",
              "      <td>0.999368</td>\n",
              "      <td>0.000060</td>\n",
              "      <td>1</td>\n",
              "      <td>0.999561</td>\n",
              "      <td>0.999580</td>\n",
              "      <td>0.999555</td>\n",
              "      <td>0.999599</td>\n",
              "      <td>0.999580</td>\n",
              "      <td>0.999575</td>\n",
              "      <td>0.000016</td>\n",
              "    </tr>\n",
              "    <tr>\n",
              "      <th>1</th>\n",
              "      <td>5.941923</td>\n",
              "      <td>0.019934</td>\n",
              "      <td>0.008716</td>\n",
              "      <td>0.000081</td>\n",
              "      <td>25</td>\n",
              "      <td>{'min_samples_leaf': 25}</td>\n",
              "      <td>0.999398</td>\n",
              "      <td>0.999473</td>\n",
              "      <td>0.999273</td>\n",
              "      <td>0.999147</td>\n",
              "      <td>0.999147</td>\n",
              "      <td>0.999288</td>\n",
              "      <td>0.000131</td>\n",
              "      <td>2</td>\n",
              "      <td>0.999448</td>\n",
              "      <td>0.999473</td>\n",
              "      <td>0.999461</td>\n",
              "      <td>0.999411</td>\n",
              "      <td>0.999436</td>\n",
              "      <td>0.999446</td>\n",
              "      <td>0.000022</td>\n",
              "    </tr>\n",
              "    <tr>\n",
              "      <th>2</th>\n",
              "      <td>6.048412</td>\n",
              "      <td>0.288761</td>\n",
              "      <td>0.009136</td>\n",
              "      <td>0.000675</td>\n",
              "      <td>45</td>\n",
              "      <td>{'min_samples_leaf': 45}</td>\n",
              "      <td>0.999323</td>\n",
              "      <td>0.999348</td>\n",
              "      <td>0.999373</td>\n",
              "      <td>0.999147</td>\n",
              "      <td>0.999147</td>\n",
              "      <td>0.999268</td>\n",
              "      <td>0.000100</td>\n",
              "      <td>3</td>\n",
              "      <td>0.999354</td>\n",
              "      <td>0.999273</td>\n",
              "      <td>0.999342</td>\n",
              "      <td>0.999392</td>\n",
              "      <td>0.999398</td>\n",
              "      <td>0.999352</td>\n",
              "      <td>0.000045</td>\n",
              "    </tr>\n",
              "    <tr>\n",
              "      <th>3</th>\n",
              "      <td>5.915336</td>\n",
              "      <td>0.021094</td>\n",
              "      <td>0.008836</td>\n",
              "      <td>0.000325</td>\n",
              "      <td>65</td>\n",
              "      <td>{'min_samples_leaf': 65}</td>\n",
              "      <td>0.999323</td>\n",
              "      <td>0.998972</td>\n",
              "      <td>0.998972</td>\n",
              "      <td>0.999147</td>\n",
              "      <td>0.999147</td>\n",
              "      <td>0.999112</td>\n",
              "      <td>0.000131</td>\n",
              "      <td>9</td>\n",
              "      <td>0.999354</td>\n",
              "      <td>0.999147</td>\n",
              "      <td>0.999141</td>\n",
              "      <td>0.999392</td>\n",
              "      <td>0.999398</td>\n",
              "      <td>0.999286</td>\n",
              "      <td>0.000117</td>\n",
              "    </tr>\n",
              "    <tr>\n",
              "      <th>4</th>\n",
              "      <td>5.937260</td>\n",
              "      <td>0.025820</td>\n",
              "      <td>0.008773</td>\n",
              "      <td>0.000096</td>\n",
              "      <td>85</td>\n",
              "      <td>{'min_samples_leaf': 85}</td>\n",
              "      <td>0.999323</td>\n",
              "      <td>0.998972</td>\n",
              "      <td>0.998796</td>\n",
              "      <td>0.999147</td>\n",
              "      <td>0.999147</td>\n",
              "      <td>0.999077</td>\n",
              "      <td>0.000179</td>\n",
              "      <td>10</td>\n",
              "      <td>0.999354</td>\n",
              "      <td>0.999091</td>\n",
              "      <td>0.999091</td>\n",
              "      <td>0.999392</td>\n",
              "      <td>0.999398</td>\n",
              "      <td>0.999265</td>\n",
              "      <td>0.000143</td>\n",
              "    </tr>\n",
              "  </tbody>\n",
              "</table>\n",
              "</div>"
            ],
            "text/plain": [
              "   mean_fit_time  std_fit_time  ...  mean_train_score  std_train_score\n",
              "0       5.992903      0.095234  ...          0.999575         0.000016\n",
              "1       5.941923      0.019934  ...          0.999446         0.000022\n",
              "2       6.048412      0.288761  ...          0.999352         0.000045\n",
              "3       5.915336      0.021094  ...          0.999286         0.000117\n",
              "4       5.937260      0.025820  ...          0.999265         0.000143\n",
              "\n",
              "[5 rows x 21 columns]"
            ]
          },
          "execution_count": 30,
          "metadata": {},
          "output_type": "execute_result"
        }
      ]
    },
    {
      "cell_type": "code",
      "metadata": {
        "colab": {
          "base_uri": "https://localhost:8080/",
          "height": 280
        },
        "id": "PMGDO6_TIdgi",
        "outputId": "ba575cd0-5b3b-496c-9d94-19a68eb802da"
      },
      "source": [
        "# plotting accuracies with min_samples_leaf\n",
        "plt.figure()\n",
        "plt.plot(scores[\"param_min_samples_leaf\"], \n",
        "         scores[\"mean_train_score\"], \n",
        "         label=\"training accuracy\")\n",
        "plt.plot(scores[\"param_min_samples_leaf\"], \n",
        "         scores[\"mean_test_score\"], \n",
        "         label=\"test accuracy\")\n",
        "plt.xlabel(\"min_samples_leaf\")\n",
        "plt.ylabel(\"Accuracy\")\n",
        "plt.legend()\n",
        "plt.show()"
      ],
      "execution_count": null,
      "outputs": [
        {
          "data": {
            "image/png": "[encoded data removed]",
            "text/plain": [
              "<Figure size 432x288 with 1 Axes>"
            ]
          },
          "metadata": {
            "needs_background": "light"
          },
          "output_type": "display_data"
        }
      ]
    },
    {
      "cell_type": "markdown",
      "metadata": {
        "id": "GrRMhN9mJ4E3"
      },
      "source": [
        "### It's clear from the above plot that the optimal value for min_samples_leaf is 5"
      ]
    },
    {
      "cell_type": "markdown",
      "metadata": {
        "id": "5ZwwJxK7KCKP"
      },
      "source": [
        "## Tuning min_samples_split"
      ]
    },
    {
      "cell_type": "code",
      "metadata": {
        "colab": {
          "base_uri": "https://localhost:8080/"
        },
        "id": "oeiMh83SJ02v",
        "outputId": "3f0536f4-712e-4636-cffa-67efebb2d058"
      },
      "source": [
        "# specify number of folds for k-fold CV\n",
        "n_folds = 5\n",
        "\n",
        "# parameters to build the model on\n",
        "parameters = {'min_samples_split': range(5, 200, 20)}\n",
        "\n",
        "# instantiate the model\n",
        "dtree = DecisionTreeClassifier(criterion = \"entropy\", \n",
        "                               max_depth=5,\n",
        "                               min_samples_leaf=5,\n",
        "                               random_state = 100)\n",
        "\n",
        "# fit tree on training data\n",
        "tree = GridSearchCV(dtree, parameters, \n",
        "                    cv=n_folds, \n",
        "                   scoring=\"accuracy\",\n",
        "                    return_train_score=True)\n",
        "tree.fit(X_train, y_train)"
      ],
      "execution_count": null,
      "outputs": [
        {
          "data": {
            "text/plain": [
              "GridSearchCV(cv=5, error_score=nan,\n",
              "             estimator=DecisionTreeClassifier(ccp_alpha=0.0, class_weight=None,\n",
              "                                              criterion='entropy', max_depth=5,\n",
              "                                              max_features=None,\n",
              "                                              max_leaf_nodes=None,\n",
              "                                              min_impurity_decrease=0.0,\n",
              "                                              min_impurity_split=None,\n",
              "                                              min_samples_leaf=5,\n",
              "                                              min_samples_split=2,\n",
              "                                              min_weight_fraction_leaf=0.0,\n",
              "                                              presort='deprecated',\n",
              "                                              random_state=100,\n",
              "                                              splitter='best'),\n",
              "             iid='deprecated', n_jobs=None,\n",
              "             param_grid={'min_samples_split': range(5, 200, 20)},\n",
              "             pre_dispatch='2*n_jobs', refit=True, return_train_score=True,\n",
              "             scoring='accuracy', verbose=0)"
            ]
          },
          "execution_count": 35,
          "metadata": {},
          "output_type": "execute_result"
        }
      ]
    },
    {
      "cell_type": "code",
      "metadata": {
        "colab": {
          "base_uri": "https://localhost:8080/",
          "height": 307
        },
        "id": "TLZf4JUoKYFq",
        "outputId": "3cea9d6f-b97e-4d4c-a96c-5184ee2d2ba5"
      },
      "source": [
        "# scores of GridSearch CV\n",
        "scores = tree.cv_results_\n",
        "pd.DataFrame(scores).head()"
      ],
      "execution_count": null,
      "outputs": [
        {
          "data": {
            "text/html": [
              "<div>\n",
              "<style scoped>\n",
              "    .dataframe tbody tr th:only-of-type {\n",
              "        vertical-align: middle;\n",
              "    }\n",
              "\n",
              "    .dataframe tbody tr th {\n",
              "        vertical-align: top;\n",
              "    }\n",
              "\n",
              "    .dataframe thead th {\n",
              "        text-align: right;\n",
              "    }\n",
              "</style>\n",
              "<table border=\"1\" class=\"dataframe\">\n",
              "  <thead>\n",
              "    <tr style=\"text-align: right;\">\n",
              "      <th></th>\n",
              "      <th>mean_fit_time</th>\n",
              "      <th>std_fit_time</th>\n",
              "      <th>mean_score_time</th>\n",
              "      <th>std_score_time</th>\n",
              "      <th>param_min_samples_split</th>\n",
              "      <th>params</th>\n",
              "      <th>split0_test_score</th>\n",
              "      <th>split1_test_score</th>\n",
              "      <th>split2_test_score</th>\n",
              "      <th>split3_test_score</th>\n",
              "      <th>split4_test_score</th>\n",
              "      <th>mean_test_score</th>\n",
              "      <th>std_test_score</th>\n",
              "      <th>rank_test_score</th>\n",
              "      <th>split0_train_score</th>\n",
              "      <th>split1_train_score</th>\n",
              "      <th>split2_train_score</th>\n",
              "      <th>split3_train_score</th>\n",
              "      <th>split4_train_score</th>\n",
              "      <th>mean_train_score</th>\n",
              "      <th>std_train_score</th>\n",
              "    </tr>\n",
              "  </thead>\n",
              "  <tbody>\n",
              "    <tr>\n",
              "      <th>0</th>\n",
              "      <td>6.492100</td>\n",
              "      <td>1.089630</td>\n",
              "      <td>0.008635</td>\n",
              "      <td>0.000066</td>\n",
              "      <td>5</td>\n",
              "      <td>{'min_samples_split': 5}</td>\n",
              "      <td>0.999398</td>\n",
              "      <td>0.999298</td>\n",
              "      <td>0.999298</td>\n",
              "      <td>0.999398</td>\n",
              "      <td>0.999448</td>\n",
              "      <td>0.999368</td>\n",
              "      <td>0.000060</td>\n",
              "      <td>2</td>\n",
              "      <td>0.999561</td>\n",
              "      <td>0.999580</td>\n",
              "      <td>0.999555</td>\n",
              "      <td>0.999599</td>\n",
              "      <td>0.999580</td>\n",
              "      <td>0.999575</td>\n",
              "      <td>0.000016</td>\n",
              "    </tr>\n",
              "    <tr>\n",
              "      <th>1</th>\n",
              "      <td>6.049397</td>\n",
              "      <td>0.099218</td>\n",
              "      <td>0.008746</td>\n",
              "      <td>0.000023</td>\n",
              "      <td>25</td>\n",
              "      <td>{'min_samples_split': 25}</td>\n",
              "      <td>0.999423</td>\n",
              "      <td>0.999448</td>\n",
              "      <td>0.999273</td>\n",
              "      <td>0.999448</td>\n",
              "      <td>0.999448</td>\n",
              "      <td>0.999408</td>\n",
              "      <td>0.000068</td>\n",
              "      <td>1</td>\n",
              "      <td>0.999536</td>\n",
              "      <td>0.999517</td>\n",
              "      <td>0.999542</td>\n",
              "      <td>0.999567</td>\n",
              "      <td>0.999580</td>\n",
              "      <td>0.999549</td>\n",
              "      <td>0.000022</td>\n",
              "    </tr>\n",
              "    <tr>\n",
              "      <th>2</th>\n",
              "      <td>6.169142</td>\n",
              "      <td>0.023738</td>\n",
              "      <td>0.008810</td>\n",
              "      <td>0.000129</td>\n",
              "      <td>45</td>\n",
              "      <td>{'min_samples_split': 45}</td>\n",
              "      <td>0.999398</td>\n",
              "      <td>0.999448</td>\n",
              "      <td>0.999273</td>\n",
              "      <td>0.999373</td>\n",
              "      <td>0.999248</td>\n",
              "      <td>0.999348</td>\n",
              "      <td>0.000076</td>\n",
              "      <td>4</td>\n",
              "      <td>0.999455</td>\n",
              "      <td>0.999467</td>\n",
              "      <td>0.999530</td>\n",
              "      <td>0.999505</td>\n",
              "      <td>0.999461</td>\n",
              "      <td>0.999483</td>\n",
              "      <td>0.000029</td>\n",
              "    </tr>\n",
              "    <tr>\n",
              "      <th>3</th>\n",
              "      <td>6.027728</td>\n",
              "      <td>0.089629</td>\n",
              "      <td>0.009275</td>\n",
              "      <td>0.001275</td>\n",
              "      <td>65</td>\n",
              "      <td>{'min_samples_split': 65}</td>\n",
              "      <td>0.999398</td>\n",
              "      <td>0.999448</td>\n",
              "      <td>0.999273</td>\n",
              "      <td>0.999373</td>\n",
              "      <td>0.999248</td>\n",
              "      <td>0.999348</td>\n",
              "      <td>0.000076</td>\n",
              "      <td>4</td>\n",
              "      <td>0.999455</td>\n",
              "      <td>0.999467</td>\n",
              "      <td>0.999480</td>\n",
              "      <td>0.999505</td>\n",
              "      <td>0.999461</td>\n",
              "      <td>0.999473</td>\n",
              "      <td>0.000018</td>\n",
              "    </tr>\n",
              "    <tr>\n",
              "      <th>4</th>\n",
              "      <td>5.984838</td>\n",
              "      <td>0.038655</td>\n",
              "      <td>0.008655</td>\n",
              "      <td>0.000076</td>\n",
              "      <td>85</td>\n",
              "      <td>{'min_samples_split': 85}</td>\n",
              "      <td>0.999398</td>\n",
              "      <td>0.999498</td>\n",
              "      <td>0.999323</td>\n",
              "      <td>0.999373</td>\n",
              "      <td>0.999248</td>\n",
              "      <td>0.999368</td>\n",
              "      <td>0.000083</td>\n",
              "      <td>3</td>\n",
              "      <td>0.999455</td>\n",
              "      <td>0.999335</td>\n",
              "      <td>0.999373</td>\n",
              "      <td>0.999505</td>\n",
              "      <td>0.999461</td>\n",
              "      <td>0.999426</td>\n",
              "      <td>0.000062</td>\n",
              "    </tr>\n",
              "  </tbody>\n",
              "</table>\n",
              "</div>"
            ],
            "text/plain": [
              "   mean_fit_time  std_fit_time  ...  mean_train_score  std_train_score\n",
              "0       6.492100      1.089630  ...          0.999575         0.000016\n",
              "1       6.049397      0.099218  ...          0.999549         0.000022\n",
              "2       6.169142      0.023738  ...          0.999483         0.000029\n",
              "3       6.027728      0.089629  ...          0.999473         0.000018\n",
              "4       5.984838      0.038655  ...          0.999426         0.000062\n",
              "\n",
              "[5 rows x 21 columns]"
            ]
          },
          "execution_count": 36,
          "metadata": {},
          "output_type": "execute_result"
        }
      ]
    },
    {
      "cell_type": "code",
      "metadata": {
        "colab": {
          "base_uri": "https://localhost:8080/",
          "height": 280
        },
        "id": "lurpzQqxKcG1",
        "outputId": "b20a6681-54e7-468c-d497-67c0309227d3"
      },
      "source": [
        "# plotting accuracies with min_samples_split\n",
        "plt.figure()\n",
        "plt.plot(scores[\"param_min_samples_split\"], \n",
        "         scores[\"mean_train_score\"], \n",
        "         label=\"training accuracy\")\n",
        "plt.plot(scores[\"param_min_samples_split\"], \n",
        "         scores[\"mean_test_score\"], \n",
        "         label=\"test accuracy\")\n",
        "plt.xlabel(\"min_samples_split\")\n",
        "plt.ylabel(\"Accuracy\")\n",
        "plt.legend()\n",
        "plt.show()"
      ],
      "execution_count": null,
      "outputs": [
        {
          "data": {
            "image/png": "[encoded data removed]",
            "text/plain": [
              "<Figure size 432x288 with 1 Axes>"
            ]
          },
          "metadata": {
            "needs_background": "light"
          },
          "output_type": "display_data"
        }
      ]
    },
    {
      "cell_type": "markdown",
      "metadata": {
        "id": "vlcYoSbwNRXE"
      },
      "source": [
        "### It's clear from the above plot that the optimal value for min_samples_split is 25"
      ]
    },
    {
      "cell_type": "code",
      "metadata": {
        "colab": {
          "base_uri": "https://localhost:8080/"
        },
        "id": "ARJeg5_TKhn9",
        "outputId": "4b32d714-ae8c-4ff8-a863-bc249f057639"
      },
      "source": [
        "# model with optimal hyperparameters\n",
        "final_decision_tree = DecisionTreeClassifier(criterion = \"entropy\", \n",
        "                                  random_state = 100,\n",
        "                                  max_depth=5, \n",
        "                                  min_samples_leaf=5,\n",
        "                                  min_samples_split=25)\n",
        "final_decision_tree.fit(X_train, y_train)"
      ],
      "execution_count": null,
      "outputs": [
        {
          "data": {
            "text/plain": [
              "DecisionTreeClassifier(ccp_alpha=0.0, class_weight=None, criterion='entropy',\n",
              "                       max_depth=5, max_features=None, max_leaf_nodes=None,\n",
              "                       min_impurity_decrease=0.0, min_impurity_split=None,\n",
              "                       min_samples_leaf=5, min_samples_split=25,\n",
              "                       min_weight_fraction_leaf=0.0, presort='deprecated',\n",
              "                       random_state=100, splitter='best')"
            ]
          },
          "execution_count": 38,
          "metadata": {},
          "output_type": "execute_result"
        }
      ]
    },
    {
      "cell_type": "code",
      "metadata": {
        "id": "pXnDqNhYNs1G"
      },
      "source": [
        "y_pred = final_decision_tree.predict(X_test)"
      ],
      "execution_count": null,
      "outputs": []
    },
    {
      "cell_type": "code",
      "metadata": {
        "colab": {
          "base_uri": "https://localhost:8080/"
        },
        "id": "fKfQhDJ5NycJ",
        "outputId": "ee914329-6e81-4945-c995-43a903d0cb98"
      },
      "source": [
        "print(\"accuracy:\", metrics.accuracy_score(y_true=y_test, y_pred=y_pred), \"\\n\")"
      ],
      "execution_count": null,
      "outputs": [
        {
          "name": "stdout",
          "output_type": "stream",
          "text": [
            "accuracy: 0.9994265182636377 \n",
            "\n"
          ]
        }
      ]
    },
    {
      "cell_type": "code",
      "metadata": {
        "id": "EPSDXuhLN1hJ"
      },
      "source": [
        "confusion_decision_tree_final = metrics.confusion_matrix(y_true=y_test, y_pred=y_pred)"
      ],
      "execution_count": null,
      "outputs": []
    },
    {
      "cell_type": "code",
      "metadata": {
        "colab": {
          "base_uri": "https://localhost:8080/"
        },
        "id": "go2Y69TUN7Gk",
        "outputId": "f94f9052-9376-40a2-df18-ef0968ff1196"
      },
      "source": [
        "get_all_measures(confusion_decision_tree_final)"
      ],
      "execution_count": null,
      "outputs": [
        {
          "name": "stdout",
          "output_type": "stream",
          "text": [
            "Sensitivity is : 0.78\n",
            "\n",
            "specificity is : 1.00\n",
            "\n",
            "false_positive_rate is : 0.00\n",
            "\n",
            "negative_predictive_value is : 1.00\n",
            "\n",
            "precision is : 0.90\n",
            "\n",
            "recall is : 0.78\n",
            "\n"
          ]
        }
      ]
    },
    {
      "cell_type": "markdown",
      "metadata": {
        "id": "Xn8g4eZHOLaK"
      },
      "source": [
        "# Random Forest"
      ]
    },
    {
      "cell_type": "code",
      "metadata": {
        "id": "oFoDORefN-KH"
      },
      "source": [
        "# Splitting the data into train and test\n",
        "X_train, X_test, y_train, y_test = train_test_split(X, y, test_size=0.30, random_state=101)"
      ],
      "execution_count": null,
      "outputs": []
    },
    {
      "cell_type": "code",
      "metadata": {
        "colab": {
          "base_uri": "https://localhost:8080/"
        },
        "id": "5BjQbOArOQ8E",
        "outputId": "5b22b553-144e-49ac-8e97-d6e06e2cdd09"
      },
      "source": [
        "# Running the random forest with default parameters.\n",
        "rfc = RandomForestClassifier()\n",
        "rfc.fit(X_train,y_train)"
      ],
      "execution_count": null,
      "outputs": [
        {
          "data": {
            "text/plain": [
              "RandomForestClassifier(bootstrap=True, ccp_alpha=0.0, class_weight=None,\n",
              "                       criterion='gini', max_depth=None, max_features='auto',\n",
              "                       max_leaf_nodes=None, max_samples=None,\n",
              "                       min_impurity_decrease=0.0, min_impurity_split=None,\n",
              "                       min_samples_leaf=1, min_samples_split=2,\n",
              "                       min_weight_fraction_leaf=0.0, n_estimators=100,\n",
              "                       n_jobs=None, oob_score=False, random_state=None,\n",
              "                       verbose=0, warm_start=False)"
            ]
          },
          "execution_count": 45,
          "metadata": {},
          "output_type": "execute_result"
        }
      ]
    },
    {
      "cell_type": "code",
      "metadata": {
        "id": "jnuNGzxbOY2g"
      },
      "source": [
        "y_pred = rfc.predict(X_test)"
      ],
      "execution_count": null,
      "outputs": []
    },
    {
      "cell_type": "code",
      "metadata": {
        "colab": {
          "base_uri": "https://localhost:8080/"
        },
        "id": "VUvGA-lTPWEn",
        "outputId": "29314541-5a54-47a9-d0e6-e27584a4b393"
      },
      "source": [
        "print(\"accuracy:\", metrics.accuracy_score(y_true=y_test, y_pred=y_pred), \"\\n\")"
      ],
      "execution_count": null,
      "outputs": [
        {
          "name": "stdout",
          "output_type": "stream",
          "text": [
            "accuracy: 0.9995669627705019 \n",
            "\n"
          ]
        }
      ]
    },
    {
      "cell_type": "code",
      "metadata": {
        "id": "oXnKFKJCPeCE"
      },
      "source": [
        "confusion_random_forest_default = metrics.confusion_matrix(y_true=y_test, y_pred=y_pred)"
      ],
      "execution_count": null,
      "outputs": []
    },
    {
      "cell_type": "code",
      "metadata": {
        "colab": {
          "base_uri": "https://localhost:8080/"
        },
        "id": "R3qlkWCMPj_P",
        "outputId": "5096849c-69d3-4cbd-8f5d-69fc00c7a611"
      },
      "source": [
        "get_all_measures(confusion_random_forest_default)"
      ],
      "execution_count": null,
      "outputs": [
        {
          "name": "stdout",
          "output_type": "stream",
          "text": [
            "Sensitivity is : 0.80\n",
            "\n",
            "specificity is : 1.00\n",
            "\n",
            "false_positive_rate is : 0.00\n",
            "\n",
            "negative_predictive_value is : 1.00\n",
            "\n",
            "precision is : 0.93\n",
            "\n",
            "recall is : 0.80\n",
            "\n"
          ]
        }
      ]
    },
    {
      "cell_type": "markdown",
      "metadata": {
        "id": "NN9LPDMdPpKr"
      },
      "source": [
        "## Hyperparameter Tuning\n",
        "\n",
        "*   max depth - the maximum depth of the tree\n",
        "\n",
        "*   criterion - there are two values here. \n",
        "  1.   gini -measure of impurity\n",
        "  2.   entropy - measure of randomness\n",
        "\n",
        "*   min_samples_leaf - the minimum samples required to be at a leaf node\n",
        "*   min_samples_split - the minimum samples required to split an     internal node\n",
        "*   n_estimators = total number of trees\n",
        "*   max_features = maximum number of features taken into consideration at each node while splitting"
      ]
    },
    {
      "cell_type": "markdown",
      "metadata": {
        "id": "oPjcO3Brfs8I"
      },
      "source": [
        "### Tuning Criterion"
      ]
    },
    {
      "cell_type": "code",
      "metadata": {
        "colab": {
          "base_uri": "https://localhost:8080/"
        },
        "id": "Qa58vVn-Pnfv",
        "outputId": "d129771c-20c9-4aaf-fac3-e0ea46ac53eb"
      },
      "source": [
        "# specify number of folds for k-fold CV\n",
        "n_folds = 5\n",
        "\n",
        "# parameters to build the model on\n",
        "parameters = {'criterion': ['entropy','gini']}\n",
        "\n",
        "# instantiate the model\n",
        "rf = RandomForestClassifier()\n",
        "\n",
        "\n",
        "# fit tree on training data\n",
        "rf = GridSearchCV(rf, parameters, \n",
        "                    cv=n_folds, \n",
        "                   scoring=\"accuracy\",\n",
        "                  return_train_score=True)\n",
        "rf.fit(X_train, y_train)"
      ],
      "execution_count": null,
      "outputs": [
        {
          "data": {
            "text/plain": [
              "GridSearchCV(cv=5, error_score=nan,\n",
              "             estimator=RandomForestClassifier(bootstrap=True, ccp_alpha=0.0,\n",
              "                                              class_weight=None,\n",
              "                                              criterion='gini', max_depth=None,\n",
              "                                              max_features='auto',\n",
              "                                              max_leaf_nodes=None,\n",
              "                                              max_samples=None,\n",
              "                                              min_impurity_decrease=0.0,\n",
              "                                              min_impurity_split=None,\n",
              "                                              min_samples_leaf=1,\n",
              "                                              min_samples_split=2,\n",
              "                                              min_weight_fraction_leaf=0.0,\n",
              "                                              n_estimators=100, n_jobs=None,\n",
              "                                              oob_score=False,\n",
              "                                              random_state=None, verbose=0,\n",
              "                                              warm_start=False),\n",
              "             iid='deprecated', n_jobs=None,\n",
              "             param_grid={'criterion': ['entropy', 'gini']},\n",
              "             pre_dispatch='2*n_jobs', refit=True, return_train_score=True,\n",
              "             scoring='accuracy', verbose=0)"
            ]
          },
          "execution_count": null,
          "metadata": {},
          "output_type": "execute_result"
        }
      ]
    },
    {
      "cell_type": "code",
      "metadata": {
        "colab": {
          "base_uri": "https://localhost:8080/",
          "height": 164
        },
        "id": "qBfTyG3sQHQw",
        "outputId": "f679155b-a6a7-4c09-fe2d-29cc58bf7e74"
      },
      "source": [
        "# scores of GridSearch CV\n",
        "scores = rf.cv_results_\n",
        "pd.DataFrame(scores).head()"
      ],
      "execution_count": null,
      "outputs": [
        {
          "data": {
            "text/html": [
              "<div>\n",
              "<style scoped>\n",
              "    .dataframe tbody tr th:only-of-type {\n",
              "        vertical-align: middle;\n",
              "    }\n",
              "\n",
              "    .dataframe tbody tr th {\n",
              "        vertical-align: top;\n",
              "    }\n",
              "\n",
              "    .dataframe thead th {\n",
              "        text-align: right;\n",
              "    }\n",
              "</style>\n",
              "<table border=\"1\" class=\"dataframe\">\n",
              "  <thead>\n",
              "    <tr style=\"text-align: right;\">\n",
              "      <th></th>\n",
              "      <th>mean_fit_time</th>\n",
              "      <th>std_fit_time</th>\n",
              "      <th>mean_score_time</th>\n",
              "      <th>std_score_time</th>\n",
              "      <th>param_criterion</th>\n",
              "      <th>params</th>\n",
              "      <th>split0_test_score</th>\n",
              "      <th>split1_test_score</th>\n",
              "      <th>split2_test_score</th>\n",
              "      <th>split3_test_score</th>\n",
              "      <th>split4_test_score</th>\n",
              "      <th>mean_test_score</th>\n",
              "      <th>std_test_score</th>\n",
              "      <th>rank_test_score</th>\n",
              "      <th>split0_train_score</th>\n",
              "      <th>split1_train_score</th>\n",
              "      <th>split2_train_score</th>\n",
              "      <th>split3_train_score</th>\n",
              "      <th>split4_train_score</th>\n",
              "      <th>mean_train_score</th>\n",
              "      <th>std_train_score</th>\n",
              "    </tr>\n",
              "  </thead>\n",
              "  <tbody>\n",
              "    <tr>\n",
              "      <th>0</th>\n",
              "      <td>115.171671</td>\n",
              "      <td>1.248979</td>\n",
              "      <td>0.341928</td>\n",
              "      <td>0.043568</td>\n",
              "      <td>entropy</td>\n",
              "      <td>{'criterion': 'entropy'}</td>\n",
              "      <td>0.999398</td>\n",
              "      <td>0.999599</td>\n",
              "      <td>0.999549</td>\n",
              "      <td>0.999523</td>\n",
              "      <td>0.999574</td>\n",
              "      <td>0.999529</td>\n",
              "      <td>0.000070</td>\n",
              "      <td>1</td>\n",
              "      <td>0.999987</td>\n",
              "      <td>0.999994</td>\n",
              "      <td>1.0</td>\n",
              "      <td>1.0</td>\n",
              "      <td>1.0</td>\n",
              "      <td>0.999996</td>\n",
              "      <td>0.000005</td>\n",
              "    </tr>\n",
              "    <tr>\n",
              "      <th>1</th>\n",
              "      <td>155.636158</td>\n",
              "      <td>5.518735</td>\n",
              "      <td>0.408826</td>\n",
              "      <td>0.005245</td>\n",
              "      <td>gini</td>\n",
              "      <td>{'criterion': 'gini'}</td>\n",
              "      <td>0.999423</td>\n",
              "      <td>0.999574</td>\n",
              "      <td>0.999498</td>\n",
              "      <td>0.999523</td>\n",
              "      <td>0.999549</td>\n",
              "      <td>0.999513</td>\n",
              "      <td>0.000052</td>\n",
              "      <td>2</td>\n",
              "      <td>1.000000</td>\n",
              "      <td>1.000000</td>\n",
              "      <td>1.0</td>\n",
              "      <td>1.0</td>\n",
              "      <td>1.0</td>\n",
              "      <td>1.000000</td>\n",
              "      <td>0.000000</td>\n",
              "    </tr>\n",
              "  </tbody>\n",
              "</table>\n",
              "</div>"
            ],
            "text/plain": [
              "   mean_fit_time  std_fit_time  ...  mean_train_score  std_train_score\n",
              "0     115.171671      1.248979  ...          0.999996         0.000005\n",
              "1     155.636158      5.518735  ...          1.000000         0.000000\n",
              "\n",
              "[2 rows x 21 columns]"
            ]
          },
          "execution_count": null,
          "metadata": {},
          "output_type": "execute_result"
        }
      ]
    },
    {
      "cell_type": "code",
      "metadata": {
        "colab": {
          "base_uri": "https://localhost:8080/",
          "height": 290
        },
        "id": "q4E3KoEDQTbd",
        "outputId": "26613bac-6c30-4b09-bde8-3abaae7660c4"
      },
      "source": [
        "# plotting accuracies with criterion\n",
        "plt.figure()\n",
        "plt.plot(scores[\"param_criterion\"], \n",
        "         scores[\"mean_train_score\"], \n",
        "         label=\"training accuracy\")\n",
        "plt.plot(scores[\"param_criterion\"], \n",
        "         scores[\"mean_test_score\"], \n",
        "         label=\"test accuracy\")\n",
        "plt.xlabel(\"Criterion\")\n",
        "plt.ylabel(\"Accuracy\")\n",
        "plt.legend()\n",
        "plt.show()"
      ],
      "execution_count": null,
      "outputs": [
        {
          "data": {
            "image/png": "[encoded data removed]",
            "text/plain": [
              "<Figure size 432x288 with 1 Axes>"
            ]
          },
          "metadata": {},
          "output_type": "display_data"
        }
      ]
    },
    {
      "cell_type": "markdown",
      "metadata": {
        "id": "TX1DT0AdfiUu"
      },
      "source": [
        "### We can conclude from the above plot than entropy would be the right choice for criterion"
      ]
    },
    {
      "cell_type": "markdown",
      "metadata": {
        "id": "QLSuvitXfxrA"
      },
      "source": [
        "### Tuning max_depth"
      ]
    },
    {
      "cell_type": "code",
      "metadata": {
        "colab": {
          "base_uri": "https://localhost:8080/"
        },
        "id": "3oRJg6m2WJRY",
        "outputId": "e43005d9-05fb-4aaa-932f-8aed6c80975f"
      },
      "source": [
        "# specify number of folds for k-fold CV\n",
        "n_folds = 5\n",
        "\n",
        "# parameters to build the model on\n",
        "parameters = {'max_depth': range(2, 20, 5)}\n",
        "\n",
        "# instantiate the model\n",
        "rf = RandomForestClassifier(criterion=\"entropy\")\n",
        "\n",
        "\n",
        "# fit tree on training data\n",
        "rf = RandomizedSearchCV(rf, parameters, \n",
        "                    cv=n_folds, \n",
        "                   scoring=\"accuracy\",\n",
        "                  return_train_score=True)\n",
        "rf.fit(X_train, y_train)"
      ],
      "execution_count": null,
      "outputs": [
        {
          "data": {
            "text/plain": [
              "RandomizedSearchCV(cv=5, error_score=nan,\n",
              "                   estimator=RandomForestClassifier(bootstrap=True,\n",
              "                                                    ccp_alpha=0.0,\n",
              "                                                    class_weight=None,\n",
              "                                                    criterion='entropy',\n",
              "                                                    max_depth=None,\n",
              "                                                    max_features='auto',\n",
              "                                                    max_leaf_nodes=None,\n",
              "                                                    max_samples=None,\n",
              "                                                    min_impurity_decrease=0.0,\n",
              "                                                    min_impurity_split=None,\n",
              "                                                    min_samples_leaf=1,\n",
              "                                                    min_samples_split=2,\n",
              "                                                    min_weight_fraction_leaf=0.0,\n",
              "                                                    n_estimators=100,\n",
              "                                                    n_jobs=None,\n",
              "                                                    oob_score=False,\n",
              "                                                    random_state=None,\n",
              "                                                    verbose=0,\n",
              "                                                    warm_start=False),\n",
              "                   iid='deprecated', n_iter=10, n_jobs=None,\n",
              "                   param_distributions={'max_depth': range(2, 20, 5)},\n",
              "                   pre_dispatch='2*n_jobs', random_state=None, refit=True,\n",
              "                   return_train_score=True, scoring='accuracy', verbose=0)"
            ]
          },
          "execution_count": 69,
          "metadata": {},
          "output_type": "execute_result"
        }
      ]
    },
    {
      "cell_type": "code",
      "metadata": {
        "colab": {
          "base_uri": "https://localhost:8080/",
          "height": 259
        },
        "id": "8wtn4tC5YyI4",
        "outputId": "9dacc8bb-3d8a-4bab-9bf8-3ebe990e16ea"
      },
      "source": [
        "# scores of GridSearch CV\n",
        "scores = rf.cv_results_\n",
        "pd.DataFrame(scores).head()"
      ],
      "execution_count": null,
      "outputs": [
        {
          "data": {
            "text/html": [
              "<div>\n",
              "<style scoped>\n",
              "    .dataframe tbody tr th:only-of-type {\n",
              "        vertical-align: middle;\n",
              "    }\n",
              "\n",
              "    .dataframe tbody tr th {\n",
              "        vertical-align: top;\n",
              "    }\n",
              "\n",
              "    .dataframe thead th {\n",
              "        text-align: right;\n",
              "    }\n",
              "</style>\n",
              "<table border=\"1\" class=\"dataframe\">\n",
              "  <thead>\n",
              "    <tr style=\"text-align: right;\">\n",
              "      <th></th>\n",
              "      <th>mean_fit_time</th>\n",
              "      <th>std_fit_time</th>\n",
              "      <th>mean_score_time</th>\n",
              "      <th>std_score_time</th>\n",
              "      <th>param_max_depth</th>\n",
              "      <th>params</th>\n",
              "      <th>split0_test_score</th>\n",
              "      <th>split1_test_score</th>\n",
              "      <th>split2_test_score</th>\n",
              "      <th>split3_test_score</th>\n",
              "      <th>split4_test_score</th>\n",
              "      <th>mean_test_score</th>\n",
              "      <th>std_test_score</th>\n",
              "      <th>rank_test_score</th>\n",
              "      <th>split0_train_score</th>\n",
              "      <th>split1_train_score</th>\n",
              "      <th>split2_train_score</th>\n",
              "      <th>split3_train_score</th>\n",
              "      <th>split4_train_score</th>\n",
              "      <th>mean_train_score</th>\n",
              "      <th>std_train_score</th>\n",
              "    </tr>\n",
              "  </thead>\n",
              "  <tbody>\n",
              "    <tr>\n",
              "      <th>0</th>\n",
              "      <td>27.732786</td>\n",
              "      <td>0.131150</td>\n",
              "      <td>0.191110</td>\n",
              "      <td>0.006235</td>\n",
              "      <td>2</td>\n",
              "      <td>{'max_depth': 2}</td>\n",
              "      <td>0.999047</td>\n",
              "      <td>0.999022</td>\n",
              "      <td>0.999147</td>\n",
              "      <td>0.998922</td>\n",
              "      <td>0.999022</td>\n",
              "      <td>0.999032</td>\n",
              "      <td>0.000072</td>\n",
              "      <td>4</td>\n",
              "      <td>0.999034</td>\n",
              "      <td>0.998997</td>\n",
              "      <td>0.999078</td>\n",
              "      <td>0.999085</td>\n",
              "      <td>0.999028</td>\n",
              "      <td>0.999044</td>\n",
              "      <td>0.000033</td>\n",
              "    </tr>\n",
              "    <tr>\n",
              "      <th>1</th>\n",
              "      <td>85.975920</td>\n",
              "      <td>0.550968</td>\n",
              "      <td>0.280273</td>\n",
              "      <td>0.004551</td>\n",
              "      <td>7</td>\n",
              "      <td>{'max_depth': 7}</td>\n",
              "      <td>0.999423</td>\n",
              "      <td>0.999549</td>\n",
              "      <td>0.999624</td>\n",
              "      <td>0.999473</td>\n",
              "      <td>0.999574</td>\n",
              "      <td>0.999529</td>\n",
              "      <td>0.000072</td>\n",
              "      <td>3</td>\n",
              "      <td>0.999712</td>\n",
              "      <td>0.999705</td>\n",
              "      <td>0.999680</td>\n",
              "      <td>0.999718</td>\n",
              "      <td>0.999674</td>\n",
              "      <td>0.999698</td>\n",
              "      <td>0.000017</td>\n",
              "    </tr>\n",
              "    <tr>\n",
              "      <th>2</th>\n",
              "      <td>103.975397</td>\n",
              "      <td>3.024720</td>\n",
              "      <td>0.318652</td>\n",
              "      <td>0.002787</td>\n",
              "      <td>12</td>\n",
              "      <td>{'max_depth': 12}</td>\n",
              "      <td>0.999448</td>\n",
              "      <td>0.999574</td>\n",
              "      <td>0.999624</td>\n",
              "      <td>0.999523</td>\n",
              "      <td>0.999624</td>\n",
              "      <td>0.999559</td>\n",
              "      <td>0.000067</td>\n",
              "      <td>1</td>\n",
              "      <td>0.999862</td>\n",
              "      <td>0.999806</td>\n",
              "      <td>0.999812</td>\n",
              "      <td>0.999856</td>\n",
              "      <td>0.999843</td>\n",
              "      <td>0.999836</td>\n",
              "      <td>0.000023</td>\n",
              "    </tr>\n",
              "    <tr>\n",
              "      <th>3</th>\n",
              "      <td>103.909064</td>\n",
              "      <td>2.379814</td>\n",
              "      <td>0.318111</td>\n",
              "      <td>0.005190</td>\n",
              "      <td>17</td>\n",
              "      <td>{'max_depth': 17}</td>\n",
              "      <td>0.999423</td>\n",
              "      <td>0.999599</td>\n",
              "      <td>0.999574</td>\n",
              "      <td>0.999523</td>\n",
              "      <td>0.999624</td>\n",
              "      <td>0.999549</td>\n",
              "      <td>0.000071</td>\n",
              "      <td>2</td>\n",
              "      <td>1.000000</td>\n",
              "      <td>1.000000</td>\n",
              "      <td>0.999994</td>\n",
              "      <td>1.000000</td>\n",
              "      <td>1.000000</td>\n",
              "      <td>0.999999</td>\n",
              "      <td>0.000003</td>\n",
              "    </tr>\n",
              "  </tbody>\n",
              "</table>\n",
              "</div>"
            ],
            "text/plain": [
              "   mean_fit_time  std_fit_time  ...  mean_train_score  std_train_score\n",
              "0      27.732786      0.131150  ...          0.999044         0.000033\n",
              "1      85.975920      0.550968  ...          0.999698         0.000017\n",
              "2     103.975397      3.024720  ...          0.999836         0.000023\n",
              "3     103.909064      2.379814  ...          0.999999         0.000003\n",
              "\n",
              "[4 rows x 21 columns]"
            ]
          },
          "execution_count": 70,
          "metadata": {},
          "output_type": "execute_result"
        }
      ]
    },
    {
      "cell_type": "code",
      "metadata": {
        "colab": {
          "base_uri": "https://localhost:8080/",
          "height": 280
        },
        "id": "mmyPA0ymYzsm",
        "outputId": "910d86cb-f19e-4ec7-ca10-3962c61236ff"
      },
      "source": [
        "# plotting accuracies with max_depth\n",
        "plt.figure()\n",
        "plt.plot(scores[\"param_max_depth\"], \n",
        "         scores[\"mean_train_score\"], \n",
        "         label=\"training accuracy\")\n",
        "plt.plot(scores[\"param_max_depth\"], \n",
        "         scores[\"mean_test_score\"], \n",
        "         label=\"test accuracy\")\n",
        "plt.xlabel(\"max_depth\")\n",
        "plt.ylabel(\"Accuracy\")\n",
        "plt.legend()\n",
        "plt.show()"
      ],
      "execution_count": null,
      "outputs": [
        {
          "data": {
            "image/png": "[encoded data removed]",
            "text/plain": [
              "<Figure size 432x288 with 1 Axes>"
            ]
          },
          "metadata": {
            "needs_background": "light"
          },
          "output_type": "display_data"
        }
      ]
    },
    {
      "cell_type": "markdown",
      "metadata": {
        "id": "nTCwxM8JoJQv"
      },
      "source": [
        "### we can conclude from the above plot that 7 is the optimal value for max_depth"
      ]
    },
    {
      "cell_type": "markdown",
      "metadata": {
        "id": "_N78ZUU9ojW5"
      },
      "source": [
        "## Tuning n_estimators"
      ]
    },
    {
      "cell_type": "code",
      "metadata": {
        "colab": {
          "base_uri": "https://localhost:8080/"
        },
        "id": "97sZRvRDf13L",
        "outputId": "5279c380-3769-4f0d-feb8-1c94e3eac273"
      },
      "source": [
        "# specify number of folds for k-fold CV\n",
        "n_folds = 5\n",
        "\n",
        "# parameters to build the model on\n",
        "parameters = {'n_estimators': range(100, 1500, 400)}\n",
        "\n",
        "# instantiate the model (note we are specifying a max_depth)\n",
        "rf = RandomForestClassifier(max_depth=7,criterion=\"entropy\",n_jobs=-1)\n",
        "\n",
        "\n",
        "# fit tree on training data\n",
        "rf = RandomizedSearchCV(rf, parameters, \n",
        "                    cv=n_folds, \n",
        "                   scoring=\"accuracy\",\n",
        "                  return_train_score=True)\n",
        "rf.fit(X_train, y_train)"
      ],
      "execution_count": null,
      "outputs": [
        {
          "data": {
            "text/plain": [
              "RandomizedSearchCV(cv=5, error_score=nan,\n",
              "                   estimator=RandomForestClassifier(bootstrap=True,\n",
              "                                                    ccp_alpha=0.0,\n",
              "                                                    class_weight=None,\n",
              "                                                    criterion='entropy',\n",
              "                                                    max_depth=7,\n",
              "                                                    max_features='auto',\n",
              "                                                    max_leaf_nodes=None,\n",
              "                                                    max_samples=None,\n",
              "                                                    min_impurity_decrease=0.0,\n",
              "                                                    min_impurity_split=None,\n",
              "                                                    min_samples_leaf=1,\n",
              "                                                    min_samples_split=2,\n",
              "                                                    min_weight_fraction_leaf=0.0,\n",
              "                                                    n_estimators=100, n_jobs=-1,\n",
              "                                                    oob_score=False,\n",
              "                                                    random_state=None,\n",
              "                                                    verbose=0,\n",
              "                                                    warm_start=False),\n",
              "                   iid='deprecated', n_iter=10, n_jobs=None,\n",
              "                   param_distributions={'n_estimators': range(100, 1500, 400)},\n",
              "                   pre_dispatch='2*n_jobs', random_state=None, refit=True,\n",
              "                   return_train_score=True, scoring='accuracy', verbose=0)"
            ]
          },
          "execution_count": 75,
          "metadata": {},
          "output_type": "execute_result"
        }
      ]
    },
    {
      "cell_type": "code",
      "metadata": {
        "colab": {
          "base_uri": "https://localhost:8080/",
          "height": 259
        },
        "id": "auJUnQ5eoa8s",
        "outputId": "deab0c80-dd98-46d1-b2fb-1d3646e5d03a"
      },
      "source": [
        "# scores of GridSearch CV\n",
        "scores = rf.cv_results_\n",
        "pd.DataFrame(scores).head()"
      ],
      "execution_count": null,
      "outputs": [
        {
          "data": {
            "text/html": [
              "<div>\n",
              "<style scoped>\n",
              "    .dataframe tbody tr th:only-of-type {\n",
              "        vertical-align: middle;\n",
              "    }\n",
              "\n",
              "    .dataframe tbody tr th {\n",
              "        vertical-align: top;\n",
              "    }\n",
              "\n",
              "    .dataframe thead th {\n",
              "        text-align: right;\n",
              "    }\n",
              "</style>\n",
              "<table border=\"1\" class=\"dataframe\">\n",
              "  <thead>\n",
              "    <tr style=\"text-align: right;\">\n",
              "      <th></th>\n",
              "      <th>mean_fit_time</th>\n",
              "      <th>std_fit_time</th>\n",
              "      <th>mean_score_time</th>\n",
              "      <th>std_score_time</th>\n",
              "      <th>param_n_estimators</th>\n",
              "      <th>params</th>\n",
              "      <th>split0_test_score</th>\n",
              "      <th>split1_test_score</th>\n",
              "      <th>split2_test_score</th>\n",
              "      <th>split3_test_score</th>\n",
              "      <th>split4_test_score</th>\n",
              "      <th>mean_test_score</th>\n",
              "      <th>std_test_score</th>\n",
              "      <th>rank_test_score</th>\n",
              "      <th>split0_train_score</th>\n",
              "      <th>split1_train_score</th>\n",
              "      <th>split2_train_score</th>\n",
              "      <th>split3_train_score</th>\n",
              "      <th>split4_train_score</th>\n",
              "      <th>mean_train_score</th>\n",
              "      <th>std_train_score</th>\n",
              "    </tr>\n",
              "  </thead>\n",
              "  <tbody>\n",
              "    <tr>\n",
              "      <th>0</th>\n",
              "      <td>73.996094</td>\n",
              "      <td>1.064146</td>\n",
              "      <td>0.311781</td>\n",
              "      <td>0.000798</td>\n",
              "      <td>100</td>\n",
              "      <td>{'n_estimators': 100}</td>\n",
              "      <td>0.999423</td>\n",
              "      <td>0.999549</td>\n",
              "      <td>0.999599</td>\n",
              "      <td>0.999448</td>\n",
              "      <td>0.999523</td>\n",
              "      <td>0.999508</td>\n",
              "      <td>0.000065</td>\n",
              "      <td>3</td>\n",
              "      <td>0.999724</td>\n",
              "      <td>0.999705</td>\n",
              "      <td>0.999693</td>\n",
              "      <td>0.999712</td>\n",
              "      <td>0.999649</td>\n",
              "      <td>0.999697</td>\n",
              "      <td>0.000026</td>\n",
              "    </tr>\n",
              "    <tr>\n",
              "      <th>1</th>\n",
              "      <td>366.704759</td>\n",
              "      <td>0.435105</td>\n",
              "      <td>1.212628</td>\n",
              "      <td>0.000156</td>\n",
              "      <td>500</td>\n",
              "      <td>{'n_estimators': 500}</td>\n",
              "      <td>0.999398</td>\n",
              "      <td>0.999574</td>\n",
              "      <td>0.999599</td>\n",
              "      <td>0.999448</td>\n",
              "      <td>0.999523</td>\n",
              "      <td>0.999508</td>\n",
              "      <td>0.000075</td>\n",
              "      <td>3</td>\n",
              "      <td>0.999718</td>\n",
              "      <td>0.999705</td>\n",
              "      <td>0.999693</td>\n",
              "      <td>0.999718</td>\n",
              "      <td>0.999661</td>\n",
              "      <td>0.999699</td>\n",
              "      <td>0.000021</td>\n",
              "    </tr>\n",
              "    <tr>\n",
              "      <th>2</th>\n",
              "      <td>614.211095</td>\n",
              "      <td>27.929009</td>\n",
              "      <td>1.953927</td>\n",
              "      <td>0.081383</td>\n",
              "      <td>900</td>\n",
              "      <td>{'n_estimators': 900}</td>\n",
              "      <td>0.999423</td>\n",
              "      <td>0.999574</td>\n",
              "      <td>0.999599</td>\n",
              "      <td>0.999423</td>\n",
              "      <td>0.999549</td>\n",
              "      <td>0.999513</td>\n",
              "      <td>0.000075</td>\n",
              "      <td>2</td>\n",
              "      <td>0.999712</td>\n",
              "      <td>0.999705</td>\n",
              "      <td>0.999680</td>\n",
              "      <td>0.999718</td>\n",
              "      <td>0.999661</td>\n",
              "      <td>0.999695</td>\n",
              "      <td>0.000021</td>\n",
              "    </tr>\n",
              "    <tr>\n",
              "      <th>3</th>\n",
              "      <td>866.219468</td>\n",
              "      <td>5.074824</td>\n",
              "      <td>2.755097</td>\n",
              "      <td>0.048802</td>\n",
              "      <td>1300</td>\n",
              "      <td>{'n_estimators': 1300}</td>\n",
              "      <td>0.999423</td>\n",
              "      <td>0.999574</td>\n",
              "      <td>0.999599</td>\n",
              "      <td>0.999448</td>\n",
              "      <td>0.999549</td>\n",
              "      <td>0.999518</td>\n",
              "      <td>0.000070</td>\n",
              "      <td>1</td>\n",
              "      <td>0.999712</td>\n",
              "      <td>0.999705</td>\n",
              "      <td>0.999680</td>\n",
              "      <td>0.999712</td>\n",
              "      <td>0.999674</td>\n",
              "      <td>0.999697</td>\n",
              "      <td>0.000016</td>\n",
              "    </tr>\n",
              "  </tbody>\n",
              "</table>\n",
              "</div>"
            ],
            "text/plain": [
              "   mean_fit_time  std_fit_time  ...  mean_train_score  std_train_score\n",
              "0      73.996094      1.064146  ...          0.999697         0.000026\n",
              "1     366.704759      0.435105  ...          0.999699         0.000021\n",
              "2     614.211095     27.929009  ...          0.999695         0.000021\n",
              "3     866.219468      5.074824  ...          0.999697         0.000016\n",
              "\n",
              "[4 rows x 21 columns]"
            ]
          },
          "execution_count": 76,
          "metadata": {},
          "output_type": "execute_result"
        }
      ]
    },
    {
      "cell_type": "code",
      "metadata": {
        "colab": {
          "base_uri": "https://localhost:8080/",
          "height": 280
        },
        "id": "esxboIImocpd",
        "outputId": "2611ea70-dff7-46e2-9c98-30ecb8e51456"
      },
      "source": [
        "# plotting accuracies with n_estimators\n",
        "plt.figure()\n",
        "plt.plot(scores[\"param_n_estimators\"], \n",
        "         scores[\"mean_train_score\"], \n",
        "         label=\"training accuracy\")\n",
        "plt.plot(scores[\"param_n_estimators\"], \n",
        "         scores[\"mean_test_score\"], \n",
        "         label=\"test accuracy\")\n",
        "plt.xlabel(\"n_estimators\")\n",
        "plt.ylabel(\"Accuracy\")\n",
        "plt.legend()\n",
        "plt.show()"
      ],
      "execution_count": null,
      "outputs": [
        {
          "data": {
            "image/png": "[encoded data removed]",
            "text/plain": [
              "<Figure size 432x288 with 1 Axes>"
            ]
          },
          "metadata": {
            "needs_background": "light"
          },
          "output_type": "display_data"
        }
      ]
    },
    {
      "cell_type": "markdown",
      "metadata": {
        "id": "h0w7V-WNprol"
      },
      "source": [
        "## From the above plot it's clear that 1000 is a good number for n_estimators"
      ]
    },
    {
      "cell_type": "markdown",
      "metadata": {
        "id": "k1eRGyNeqE9m"
      },
      "source": [
        "### Tuning max_features"
      ]
    },
    {
      "cell_type": "code",
      "metadata": {
        "id": "3S-nm04Jopl6",
        "outputId": "9336ef2b-cd32-4c37-ba38-2ea512933d21"
      },
      "source": [
        "# specify number of folds for k-fold CV\n",
        "n_folds = 5\n",
        "\n",
        "# parameters to build the model on\n",
        "parameters = {'max_features': [4, 8, 14, 20, 24]}\n",
        "\n",
        "# instantiate the model\n",
        "rf = RandomForestClassifier(max_depth=7,criterion=\"entropy\",n_estimators=1000)\n",
        "\n",
        "\n",
        "# fit tree on training data\n",
        "rf = RandomizedSearchCV(rf, parameters, \n",
        "                    cv=n_folds, \n",
        "                   scoring=\"accuracy\",\n",
        "                  return_train_score=True,n_jobs=-1,verbose=100)\n",
        "rf.fit(X_train, y_train)"
      ],
      "execution_count": null,
      "outputs": [
        {
          "name": "stdout",
          "output_type": "stream",
          "text": [
            "Fitting 5 folds for each of 5 candidates, totalling 25 fits\n",
            "[Parallel(n_jobs=-1)]: Using backend LokyBackend with 8 concurrent workers.\n",
            "[Parallel(n_jobs=-1)]: Done   1 tasks      | elapsed: 34.5min\n",
            "[Parallel(n_jobs=-1)]: Done   2 tasks      | elapsed: 34.8min\n",
            "[Parallel(n_jobs=-1)]: Done   3 tasks      | elapsed: 35.1min\n",
            "[Parallel(n_jobs=-1)]: Done   4 tasks      | elapsed: 35.2min\n",
            "[Parallel(n_jobs=-1)]: Done   5 tasks      | elapsed: 35.4min\n",
            "[Parallel(n_jobs=-1)]: Done   6 tasks      | elapsed: 58.8min\n",
            "[Parallel(n_jobs=-1)]: Done   7 tasks      | elapsed: 59.3min\n",
            "[Parallel(n_jobs=-1)]: Done   8 tasks      | elapsed: 59.8min\n",
            "[Parallel(n_jobs=-1)]: Done   9 tasks      | elapsed: 83.4min\n",
            "[Parallel(n_jobs=-1)]: Done  10 tasks      | elapsed: 83.8min\n",
            "[Parallel(n_jobs=-1)]: Done  11 out of  25 | elapsed: 114.9min remaining: 146.2min\n",
            "[Parallel(n_jobs=-1)]: Done  12 out of  25 | elapsed: 115.4min remaining: 125.0min\n",
            "[Parallel(n_jobs=-1)]: Done  13 out of  25 | elapsed: 116.2min remaining: 107.3min\n",
            "[Parallel(n_jobs=-1)]: Done  14 out of  25 | elapsed: 137.9min remaining: 108.3min\n",
            "[Parallel(n_jobs=-1)]: Done  15 out of  25 | elapsed: 138.0min remaining: 92.0min\n",
            "[Parallel(n_jobs=-1)]: Done  16 out of  25 | elapsed: 167.6min remaining: 94.3min\n",
            "[Parallel(n_jobs=-1)]: Done  17 out of  25 | elapsed: 190.8min remaining: 89.8min\n",
            "[Parallel(n_jobs=-1)]: Done  18 out of  25 | elapsed: 192.4min remaining: 74.8min\n",
            "[Parallel(n_jobs=-1)]: Done  19 out of  25 | elapsed: 217.9min remaining: 68.8min\n",
            "[Parallel(n_jobs=-1)]: Done  20 out of  25 | elapsed: 219.9min remaining: 55.0min\n",
            "[Parallel(n_jobs=-1)]: Done  21 out of  25 | elapsed: 235.4min remaining: 44.8min\n",
            "[Parallel(n_jobs=-1)]: Done  22 out of  25 | elapsed: 250.2min remaining: 34.1min\n",
            "[Parallel(n_jobs=-1)]: Done  23 out of  25 | elapsed: 252.6min remaining: 22.0min\n",
            "[Parallel(n_jobs=-1)]: Done  25 out of  25 | elapsed: 275.2min remaining:    0.0s\n",
            "[Parallel(n_jobs=-1)]: Done  25 out of  25 | elapsed: 275.2min finished\n"
          ]
        },
        {
          "data": {
            "text/plain": [
              "RandomizedSearchCV(cv=5,\n",
              "                   estimator=RandomForestClassifier(criterion='entropy',\n",
              "                                                    max_depth=7,\n",
              "                                                    n_estimators=1000),\n",
              "                   n_jobs=-1,\n",
              "                   param_distributions={'max_features': [4, 8, 14, 20, 24]},\n",
              "                   return_train_score=True, scoring='accuracy', verbose=100)"
            ]
          },
          "execution_count": 15,
          "metadata": {},
          "output_type": "execute_result"
        }
      ]
    },
    {
      "cell_type": "code",
      "metadata": {
        "id": "8NfJTDc6qTqi",
        "outputId": "25ed2558-811d-4e89-8714-80861bf1cd4a"
      },
      "source": [
        "# scores of GridSearch CV\n",
        "scores = rf.cv_results_\n",
        "pd.DataFrame(scores).head()"
      ],
      "execution_count": null,
      "outputs": [
        {
          "data": {
            "text/html": [
              "<div>\n",
              "<style scoped>\n",
              "    .dataframe tbody tr th:only-of-type {\n",
              "        vertical-align: middle;\n",
              "    }\n",
              "\n",
              "    .dataframe tbody tr th {\n",
              "        vertical-align: top;\n",
              "    }\n",
              "\n",
              "    .dataframe thead th {\n",
              "        text-align: right;\n",
              "    }\n",
              "</style>\n",
              "<table border=\"1\" class=\"dataframe\">\n",
              "  <thead>\n",
              "    <tr style=\"text-align: right;\">\n",
              "      <th></th>\n",
              "      <th>mean_fit_time</th>\n",
              "      <th>std_fit_time</th>\n",
              "      <th>mean_score_time</th>\n",
              "      <th>std_score_time</th>\n",
              "      <th>param_max_features</th>\n",
              "      <th>params</th>\n",
              "      <th>split0_test_score</th>\n",
              "      <th>split1_test_score</th>\n",
              "      <th>split2_test_score</th>\n",
              "      <th>split3_test_score</th>\n",
              "      <th>...</th>\n",
              "      <th>mean_test_score</th>\n",
              "      <th>std_test_score</th>\n",
              "      <th>rank_test_score</th>\n",
              "      <th>split0_train_score</th>\n",
              "      <th>split1_train_score</th>\n",
              "      <th>split2_train_score</th>\n",
              "      <th>split3_train_score</th>\n",
              "      <th>split4_train_score</th>\n",
              "      <th>mean_train_score</th>\n",
              "      <th>std_train_score</th>\n",
              "    </tr>\n",
              "  </thead>\n",
              "  <tbody>\n",
              "    <tr>\n",
              "      <th>0</th>\n",
              "      <td>2049.655472</td>\n",
              "      <td>19.217474</td>\n",
              "      <td>7.819894</td>\n",
              "      <td>0.752450</td>\n",
              "      <td>4</td>\n",
              "      <td>{'max_features': 4}</td>\n",
              "      <td>0.999423</td>\n",
              "      <td>0.999549</td>\n",
              "      <td>0.999549</td>\n",
              "      <td>0.999423</td>\n",
              "      <td>...</td>\n",
              "      <td>0.999493</td>\n",
              "      <td>0.000058</td>\n",
              "      <td>5</td>\n",
              "      <td>0.999705</td>\n",
              "      <td>0.999705</td>\n",
              "      <td>0.999680</td>\n",
              "      <td>0.999680</td>\n",
              "      <td>0.999655</td>\n",
              "      <td>0.999685</td>\n",
              "      <td>0.000019</td>\n",
              "    </tr>\n",
              "    <tr>\n",
              "      <th>1</th>\n",
              "      <td>3269.174670</td>\n",
              "      <td>296.230458</td>\n",
              "      <td>6.275266</td>\n",
              "      <td>0.798899</td>\n",
              "      <td>8</td>\n",
              "      <td>{'max_features': 8}</td>\n",
              "      <td>0.999423</td>\n",
              "      <td>0.999599</td>\n",
              "      <td>0.999624</td>\n",
              "      <td>0.999523</td>\n",
              "      <td>...</td>\n",
              "      <td>0.999549</td>\n",
              "      <td>0.000071</td>\n",
              "      <td>4</td>\n",
              "      <td>0.999724</td>\n",
              "      <td>0.999718</td>\n",
              "      <td>0.999699</td>\n",
              "      <td>0.999724</td>\n",
              "      <td>0.999674</td>\n",
              "      <td>0.999708</td>\n",
              "      <td>0.000019</td>\n",
              "    </tr>\n",
              "    <tr>\n",
              "      <th>2</th>\n",
              "      <td>4752.865046</td>\n",
              "      <td>48.420234</td>\n",
              "      <td>5.282373</td>\n",
              "      <td>0.195419</td>\n",
              "      <td>14</td>\n",
              "      <td>{'max_features': 14}</td>\n",
              "      <td>0.999448</td>\n",
              "      <td>0.999574</td>\n",
              "      <td>0.999599</td>\n",
              "      <td>0.999523</td>\n",
              "      <td>...</td>\n",
              "      <td>0.999564</td>\n",
              "      <td>0.000075</td>\n",
              "      <td>3</td>\n",
              "      <td>0.999743</td>\n",
              "      <td>0.999730</td>\n",
              "      <td>0.999718</td>\n",
              "      <td>0.999730</td>\n",
              "      <td>0.999712</td>\n",
              "      <td>0.999727</td>\n",
              "      <td>0.000011</td>\n",
              "    </tr>\n",
              "    <tr>\n",
              "      <th>3</th>\n",
              "      <td>6348.307579</td>\n",
              "      <td>134.219082</td>\n",
              "      <td>4.856065</td>\n",
              "      <td>0.301466</td>\n",
              "      <td>20</td>\n",
              "      <td>{'max_features': 20}</td>\n",
              "      <td>0.999398</td>\n",
              "      <td>0.999599</td>\n",
              "      <td>0.999624</td>\n",
              "      <td>0.999574</td>\n",
              "      <td>...</td>\n",
              "      <td>0.999579</td>\n",
              "      <td>0.000100</td>\n",
              "      <td>1</td>\n",
              "      <td>0.999749</td>\n",
              "      <td>0.999730</td>\n",
              "      <td>0.999724</td>\n",
              "      <td>0.999724</td>\n",
              "      <td>0.999718</td>\n",
              "      <td>0.999729</td>\n",
              "      <td>0.000011</td>\n",
              "    </tr>\n",
              "    <tr>\n",
              "      <th>4</th>\n",
              "      <td>6334.051506</td>\n",
              "      <td>759.243760</td>\n",
              "      <td>3.033544</td>\n",
              "      <td>0.537192</td>\n",
              "      <td>24</td>\n",
              "      <td>{'max_features': 24}</td>\n",
              "      <td>0.999398</td>\n",
              "      <td>0.999574</td>\n",
              "      <td>0.999624</td>\n",
              "      <td>0.999549</td>\n",
              "      <td>...</td>\n",
              "      <td>0.999574</td>\n",
              "      <td>0.000106</td>\n",
              "      <td>2</td>\n",
              "      <td>0.999749</td>\n",
              "      <td>0.999730</td>\n",
              "      <td>0.999718</td>\n",
              "      <td>0.999737</td>\n",
              "      <td>0.999724</td>\n",
              "      <td>0.999732</td>\n",
              "      <td>0.000011</td>\n",
              "    </tr>\n",
              "  </tbody>\n",
              "</table>\n",
              "<p>5 rows × 21 columns</p>\n",
              "</div>"
            ],
            "text/plain": [
              "   mean_fit_time  std_fit_time  mean_score_time  std_score_time  \\\n",
              "0    2049.655472     19.217474         7.819894        0.752450   \n",
              "1    3269.174670    296.230458         6.275266        0.798899   \n",
              "2    4752.865046     48.420234         5.282373        0.195419   \n",
              "3    6348.307579    134.219082         4.856065        0.301466   \n",
              "4    6334.051506    759.243760         3.033544        0.537192   \n",
              "\n",
              "  param_max_features                params  split0_test_score  \\\n",
              "0                  4   {'max_features': 4}           0.999423   \n",
              "1                  8   {'max_features': 8}           0.999423   \n",
              "2                 14  {'max_features': 14}           0.999448   \n",
              "3                 20  {'max_features': 20}           0.999398   \n",
              "4                 24  {'max_features': 24}           0.999398   \n",
              "\n",
              "   split1_test_score  split2_test_score  split3_test_score  ...  \\\n",
              "0           0.999549           0.999549           0.999423  ...   \n",
              "1           0.999599           0.999624           0.999523  ...   \n",
              "2           0.999574           0.999599           0.999523  ...   \n",
              "3           0.999599           0.999624           0.999574  ...   \n",
              "4           0.999574           0.999624           0.999549  ...   \n",
              "\n",
              "   mean_test_score  std_test_score  rank_test_score  split0_train_score  \\\n",
              "0         0.999493        0.000058                5            0.999705   \n",
              "1         0.999549        0.000071                4            0.999724   \n",
              "2         0.999564        0.000075                3            0.999743   \n",
              "3         0.999579        0.000100                1            0.999749   \n",
              "4         0.999574        0.000106                2            0.999749   \n",
              "\n",
              "   split1_train_score  split2_train_score  split3_train_score  \\\n",
              "0            0.999705            0.999680            0.999680   \n",
              "1            0.999718            0.999699            0.999724   \n",
              "2            0.999730            0.999718            0.999730   \n",
              "3            0.999730            0.999724            0.999724   \n",
              "4            0.999730            0.999718            0.999737   \n",
              "\n",
              "   split4_train_score  mean_train_score  std_train_score  \n",
              "0            0.999655          0.999685         0.000019  \n",
              "1            0.999674          0.999708         0.000019  \n",
              "2            0.999712          0.999727         0.000011  \n",
              "3            0.999718          0.999729         0.000011  \n",
              "4            0.999724          0.999732         0.000011  \n",
              "\n",
              "[5 rows x 21 columns]"
            ]
          },
          "execution_count": 16,
          "metadata": {},
          "output_type": "execute_result"
        }
      ]
    },
    {
      "cell_type": "code",
      "metadata": {
        "id": "SwE-KGM5qe18",
        "outputId": "934e9d40-f186-4008-fa46-078b9bade4d5"
      },
      "source": [
        "# plotting accuracies with max_features\n",
        "plt.figure()\n",
        "plt.plot(scores[\"param_max_features\"], \n",
        "         scores[\"mean_train_score\"], \n",
        "         label=\"training accuracy\")\n",
        "plt.plot(scores[\"param_max_features\"], \n",
        "         scores[\"mean_test_score\"], \n",
        "         label=\"test accuracy\")\n",
        "plt.xlabel(\"max_features\")\n",
        "plt.ylabel(\"Accuracy\")\n",
        "plt.legend()\n",
        "plt.show()"
      ],
      "execution_count": null,
      "outputs": [
        {
          "data": {
            "image/png": "[encoded data removed]",
            "text/plain": [
              "<Figure size 432x288 with 1 Axes>"
            ]
          },
          "metadata": {
            "needs_background": "light"
          },
          "output_type": "display_data"
        }
      ]
    },
    {
      "cell_type": "markdown",
      "metadata": {
        "id": "PYgW7Kh2jwdp"
      },
      "source": [
        "### From the above plot it's clear that 20 would be an optimum value for max_features"
      ]
    },
    {
      "cell_type": "markdown",
      "metadata": {
        "id": "IlUjp3wojwdq"
      },
      "source": [
        "### tuning min_samples_leaf"
      ]
    },
    {
      "cell_type": "code",
      "metadata": {
        "id": "Z3oXjzPgqnIs",
        "outputId": "1216128e-702f-4150-b429-8ee58d05cb1c"
      },
      "source": [
        "# specify number of folds for k-fold CV\n",
        "n_folds = 5\n",
        "\n",
        "# parameters to build the model on\n",
        "parameters = {'min_samples_leaf': range(100, 400, 50)}\n",
        "\n",
        "# instantiate the model\n",
        "rf = RandomForestClassifier(max_depth=7,criterion=\"entropy\",n_estimators=1000,max_features=20)\n",
        "\n",
        "\n",
        "# fit tree on training data\n",
        "rf = GridSearchCV(rf, parameters, \n",
        "                    cv=n_folds, \n",
        "                   scoring=\"accuracy\",\n",
        "                  return_train_score=True,\n",
        "                  n_jobs=-1,\n",
        "                  verbose=100)\n",
        "rf.fit(X_train, y_train)"
      ],
      "execution_count": null,
      "outputs": [
        {
          "name": "stdout",
          "output_type": "stream",
          "text": [
            "Fitting 5 folds for each of 6 candidates, totalling 30 fits\n",
            "[Parallel(n_jobs=-1)]: Using backend LokyBackend with 8 concurrent workers.\n",
            "[Parallel(n_jobs=-1)]: Done   1 tasks      | elapsed: 112.9min\n",
            "[Parallel(n_jobs=-1)]: Done   2 tasks      | elapsed: 113.2min\n",
            "[Parallel(n_jobs=-1)]: Done   3 tasks      | elapsed: 113.4min\n",
            "[Parallel(n_jobs=-1)]: Done   4 tasks      | elapsed: 114.2min\n",
            "[Parallel(n_jobs=-1)]: Done   5 tasks      | elapsed: 114.4min\n",
            "[Parallel(n_jobs=-1)]: Done   6 tasks      | elapsed: 114.6min\n",
            "[Parallel(n_jobs=-1)]: Done   7 tasks      | elapsed: 117.1min\n",
            "[Parallel(n_jobs=-1)]: Done   8 tasks      | elapsed: 117.1min\n",
            "[Parallel(n_jobs=-1)]: Done   9 tasks      | elapsed: 236.3min\n",
            "[Parallel(n_jobs=-1)]: Done  10 tasks      | elapsed: 236.5min\n",
            "[Parallel(n_jobs=-1)]: Done  11 tasks      | elapsed: 238.1min\n",
            "[Parallel(n_jobs=-1)]: Done  12 tasks      | elapsed: 238.2min\n",
            "[Parallel(n_jobs=-1)]: Done  13 tasks      | elapsed: 238.9min\n",
            "[Parallel(n_jobs=-1)]: Done  14 tasks      | elapsed: 240.3min\n",
            "[Parallel(n_jobs=-1)]: Done  15 tasks      | elapsed: 242.2min\n",
            "[Parallel(n_jobs=-1)]: Done  16 out of  30 | elapsed: 243.0min remaining: 212.7min\n",
            "[Parallel(n_jobs=-1)]: Done  17 out of  30 | elapsed: 394.5min remaining: 301.6min\n",
            "[Parallel(n_jobs=-1)]: Done  18 out of  30 | elapsed: 394.6min remaining: 263.1min\n",
            "[Parallel(n_jobs=-1)]: Done  19 out of  30 | elapsed: 395.0min remaining: 228.7min\n",
            "[Parallel(n_jobs=-1)]: Done  20 out of  30 | elapsed: 396.4min remaining: 198.2min\n",
            "[Parallel(n_jobs=-1)]: Done  21 out of  30 | elapsed: 398.4min remaining: 170.8min\n",
            "[Parallel(n_jobs=-1)]: Done  22 out of  30 | elapsed: 398.4min remaining: 144.9min\n",
            "[Parallel(n_jobs=-1)]: Done  23 out of  30 | elapsed: 400.5min remaining: 121.9min\n",
            "[Parallel(n_jobs=-1)]: Done  24 out of  30 | elapsed: 403.1min remaining: 100.8min\n",
            "[Parallel(n_jobs=-1)]: Done  25 out of  30 | elapsed: 507.1min remaining: 101.4min\n",
            "[Parallel(n_jobs=-1)]: Done  26 out of  30 | elapsed: 507.9min remaining: 78.1min\n",
            "[Parallel(n_jobs=-1)]: Done  27 out of  30 | elapsed: 508.8min remaining: 56.5min\n",
            "[Parallel(n_jobs=-1)]: Done  28 out of  30 | elapsed: 509.1min remaining: 36.4min\n",
            "[Parallel(n_jobs=-1)]: Done  30 out of  30 | elapsed: 511.0min remaining:    0.0s\n",
            "[Parallel(n_jobs=-1)]: Done  30 out of  30 | elapsed: 511.0min finished\n"
          ]
        },
        {
          "data": {
            "text/plain": [
              "GridSearchCV(cv=5,\n",
              "             estimator=RandomForestClassifier(criterion='entropy', max_depth=7,\n",
              "                                              max_features=20,\n",
              "                                              n_estimators=1000),\n",
              "             n_jobs=-1, param_grid={'min_samples_leaf': range(100, 400, 50)},\n",
              "             return_train_score=True, scoring='accuracy', verbose=100)"
            ]
          },
          "execution_count": 18,
          "metadata": {},
          "output_type": "execute_result"
        }
      ]
    },
    {
      "cell_type": "code",
      "metadata": {
        "id": "kLO5NXo8jwdq",
        "outputId": "49c26d72-d15d-4bf1-8421-37c34f0109c0"
      },
      "source": [
        "# scores of GridSearch CV\n",
        "scores = rf.cv_results_\n",
        "pd.DataFrame(scores).head()"
      ],
      "execution_count": null,
      "outputs": [
        {
          "data": {
            "text/html": [
              "<div>\n",
              "<style scoped>\n",
              "    .dataframe tbody tr th:only-of-type {\n",
              "        vertical-align: middle;\n",
              "    }\n",
              "\n",
              "    .dataframe tbody tr th {\n",
              "        vertical-align: top;\n",
              "    }\n",
              "\n",
              "    .dataframe thead th {\n",
              "        text-align: right;\n",
              "    }\n",
              "</style>\n",
              "<table border=\"1\" class=\"dataframe\">\n",
              "  <thead>\n",
              "    <tr style=\"text-align: right;\">\n",
              "      <th></th>\n",
              "      <th>mean_fit_time</th>\n",
              "      <th>std_fit_time</th>\n",
              "      <th>mean_score_time</th>\n",
              "      <th>std_score_time</th>\n",
              "      <th>param_min_samples_leaf</th>\n",
              "      <th>params</th>\n",
              "      <th>split0_test_score</th>\n",
              "      <th>split1_test_score</th>\n",
              "      <th>split2_test_score</th>\n",
              "      <th>split3_test_score</th>\n",
              "      <th>...</th>\n",
              "      <th>mean_test_score</th>\n",
              "      <th>std_test_score</th>\n",
              "      <th>rank_test_score</th>\n",
              "      <th>split0_train_score</th>\n",
              "      <th>split1_train_score</th>\n",
              "      <th>split2_train_score</th>\n",
              "      <th>split3_train_score</th>\n",
              "      <th>split4_train_score</th>\n",
              "      <th>mean_train_score</th>\n",
              "      <th>std_train_score</th>\n",
              "    </tr>\n",
              "  </thead>\n",
              "  <tbody>\n",
              "    <tr>\n",
              "      <th>0</th>\n",
              "      <td>6876.164133</td>\n",
              "      <td>94.560458</td>\n",
              "      <td>5.914194</td>\n",
              "      <td>0.254981</td>\n",
              "      <td>100</td>\n",
              "      <td>{'min_samples_leaf': 100}</td>\n",
              "      <td>0.999273</td>\n",
              "      <td>0.999398</td>\n",
              "      <td>0.999373</td>\n",
              "      <td>0.999097</td>\n",
              "      <td>...</td>\n",
              "      <td>0.999273</td>\n",
              "      <td>0.000109</td>\n",
              "      <td>1</td>\n",
              "      <td>0.999360</td>\n",
              "      <td>0.999329</td>\n",
              "      <td>0.999317</td>\n",
              "      <td>0.999298</td>\n",
              "      <td>0.999223</td>\n",
              "      <td>0.999305</td>\n",
              "      <td>0.000046</td>\n",
              "    </tr>\n",
              "    <tr>\n",
              "      <th>1</th>\n",
              "      <td>7070.610926</td>\n",
              "      <td>379.682091</td>\n",
              "      <td>7.938050</td>\n",
              "      <td>3.863214</td>\n",
              "      <td>150</td>\n",
              "      <td>{'min_samples_leaf': 150}</td>\n",
              "      <td>0.999223</td>\n",
              "      <td>0.999248</td>\n",
              "      <td>0.999273</td>\n",
              "      <td>0.998997</td>\n",
              "      <td>...</td>\n",
              "      <td>0.999177</td>\n",
              "      <td>0.000100</td>\n",
              "      <td>2</td>\n",
              "      <td>0.999291</td>\n",
              "      <td>0.999210</td>\n",
              "      <td>0.999223</td>\n",
              "      <td>0.999191</td>\n",
              "      <td>0.999197</td>\n",
              "      <td>0.999223</td>\n",
              "      <td>0.000036</td>\n",
              "    </tr>\n",
              "    <tr>\n",
              "      <th>2</th>\n",
              "      <td>7425.748736</td>\n",
              "      <td>150.494212</td>\n",
              "      <td>7.639446</td>\n",
              "      <td>0.653806</td>\n",
              "      <td>200</td>\n",
              "      <td>{'min_samples_leaf': 200}</td>\n",
              "      <td>0.998270</td>\n",
              "      <td>0.999022</td>\n",
              "      <td>0.998244</td>\n",
              "      <td>0.998922</td>\n",
              "      <td>...</td>\n",
              "      <td>0.998716</td>\n",
              "      <td>0.000380</td>\n",
              "      <td>3</td>\n",
              "      <td>0.998251</td>\n",
              "      <td>0.998940</td>\n",
              "      <td>0.998257</td>\n",
              "      <td>0.999135</td>\n",
              "      <td>0.999147</td>\n",
              "      <td>0.998746</td>\n",
              "      <td>0.000409</td>\n",
              "    </tr>\n",
              "    <tr>\n",
              "      <th>3</th>\n",
              "      <td>9064.379245</td>\n",
              "      <td>906.346321</td>\n",
              "      <td>7.914850</td>\n",
              "      <td>0.886596</td>\n",
              "      <td>250</td>\n",
              "      <td>{'min_samples_leaf': 250}</td>\n",
              "      <td>0.998270</td>\n",
              "      <td>0.998244</td>\n",
              "      <td>0.998244</td>\n",
              "      <td>0.998244</td>\n",
              "      <td>...</td>\n",
              "      <td>0.998254</td>\n",
              "      <td>0.000012</td>\n",
              "      <td>4</td>\n",
              "      <td>0.998251</td>\n",
              "      <td>0.998257</td>\n",
              "      <td>0.998257</td>\n",
              "      <td>0.998257</td>\n",
              "      <td>0.998251</td>\n",
              "      <td>0.998254</td>\n",
              "      <td>0.000003</td>\n",
              "    </tr>\n",
              "    <tr>\n",
              "      <th>4</th>\n",
              "      <td>8886.581354</td>\n",
              "      <td>1055.652457</td>\n",
              "      <td>7.420559</td>\n",
              "      <td>1.619836</td>\n",
              "      <td>300</td>\n",
              "      <td>{'min_samples_leaf': 300}</td>\n",
              "      <td>0.998270</td>\n",
              "      <td>0.998244</td>\n",
              "      <td>0.998244</td>\n",
              "      <td>0.998244</td>\n",
              "      <td>...</td>\n",
              "      <td>0.998254</td>\n",
              "      <td>0.000012</td>\n",
              "      <td>4</td>\n",
              "      <td>0.998251</td>\n",
              "      <td>0.998257</td>\n",
              "      <td>0.998257</td>\n",
              "      <td>0.998257</td>\n",
              "      <td>0.998251</td>\n",
              "      <td>0.998254</td>\n",
              "      <td>0.000003</td>\n",
              "    </tr>\n",
              "  </tbody>\n",
              "</table>\n",
              "<p>5 rows × 21 columns</p>\n",
              "</div>"
            ],
            "text/plain": [
              "   mean_fit_time  std_fit_time  mean_score_time  std_score_time  \\\n",
              "0    6876.164133     94.560458         5.914194        0.254981   \n",
              "1    7070.610926    379.682091         7.938050        3.863214   \n",
              "2    7425.748736    150.494212         7.639446        0.653806   \n",
              "3    9064.379245    906.346321         7.914850        0.886596   \n",
              "4    8886.581354   1055.652457         7.420559        1.619836   \n",
              "\n",
              "  param_min_samples_leaf                     params  split0_test_score  \\\n",
              "0                    100  {'min_samples_leaf': 100}           0.999273   \n",
              "1                    150  {'min_samples_leaf': 150}           0.999223   \n",
              "2                    200  {'min_samples_leaf': 200}           0.998270   \n",
              "3                    250  {'min_samples_leaf': 250}           0.998270   \n",
              "4                    300  {'min_samples_leaf': 300}           0.998270   \n",
              "\n",
              "   split1_test_score  split2_test_score  split3_test_score  ...  \\\n",
              "0           0.999398           0.999373           0.999097  ...   \n",
              "1           0.999248           0.999273           0.998997  ...   \n",
              "2           0.999022           0.998244           0.998922  ...   \n",
              "3           0.998244           0.998244           0.998244  ...   \n",
              "4           0.998244           0.998244           0.998244  ...   \n",
              "\n",
              "   mean_test_score  std_test_score  rank_test_score  split0_train_score  \\\n",
              "0         0.999273        0.000109                1            0.999360   \n",
              "1         0.999177        0.000100                2            0.999291   \n",
              "2         0.998716        0.000380                3            0.998251   \n",
              "3         0.998254        0.000012                4            0.998251   \n",
              "4         0.998254        0.000012                4            0.998251   \n",
              "\n",
              "   split1_train_score  split2_train_score  split3_train_score  \\\n",
              "0            0.999329            0.999317            0.999298   \n",
              "1            0.999210            0.999223            0.999191   \n",
              "2            0.998940            0.998257            0.999135   \n",
              "3            0.998257            0.998257            0.998257   \n",
              "4            0.998257            0.998257            0.998257   \n",
              "\n",
              "   split4_train_score  mean_train_score  std_train_score  \n",
              "0            0.999223          0.999305         0.000046  \n",
              "1            0.999197          0.999223         0.000036  \n",
              "2            0.999147          0.998746         0.000409  \n",
              "3            0.998251          0.998254         0.000003  \n",
              "4            0.998251          0.998254         0.000003  \n",
              "\n",
              "[5 rows x 21 columns]"
            ]
          },
          "execution_count": 19,
          "metadata": {},
          "output_type": "execute_result"
        }
      ]
    },
    {
      "cell_type": "code",
      "metadata": {
        "id": "8U8Wnrdxjwdr",
        "outputId": "85b4b882-fe95-4e42-afb0-f4011ba3784a"
      },
      "source": [
        "# plotting accuracies with max_features\n",
        "plt.figure()\n",
        "plt.plot(scores[\"param_min_samples_leaf\"], \n",
        "         scores[\"mean_train_score\"], \n",
        "         label=\"training accuracy\")\n",
        "plt.plot(scores[\"param_min_samples_leaf\"], \n",
        "         scores[\"mean_test_score\"], \n",
        "         label=\"test accuracy\")\n",
        "plt.xlabel(\"min_samples_leaf\")\n",
        "plt.ylabel(\"Accuracy\")\n",
        "plt.legend()\n",
        "plt.show()"
      ],
      "execution_count": null,
      "outputs": [
        {
          "data": {
            "image/png": "[encoded data removed]",
            "text/plain": [
              "<Figure size 432x288 with 1 Axes>"
            ]
          },
          "metadata": {
            "needs_background": "light"
          },
          "output_type": "display_data"
        }
      ]
    },
    {
      "cell_type": "markdown",
      "metadata": {
        "id": "erIaXBCJjwdr"
      },
      "source": [
        "From the above plot it's clear that 100 is the best value for min_samples_leaf"
      ]
    },
    {
      "cell_type": "code",
      "metadata": {
        "id": "C0gG162yjwdr",
        "outputId": "cfacb19c-4093-4a43-e8c5-608c6082d61c"
      },
      "source": [
        "# specify number of folds for k-fold CV\n",
        "n_folds = 5\n",
        "\n",
        "# parameters to build the model on\n",
        "parameters = {'min_samples_split': range(200, 500, 50)}\n",
        "\n",
        "# instantiate the model\n",
        "rf = RandomForestClassifier(max_depth=7,criterion=\"entropy\",n_estimators=1000,max_features=20,min_samples_leaf=100)\n",
        "\n",
        "\n",
        "# fit tree on training data\n",
        "rf = GridSearchCV(rf, parameters, \n",
        "                    cv=n_folds, \n",
        "                   scoring=\"accuracy\",\n",
        "                  return_train_score=True,\n",
        "                  n_jobs=-1,\n",
        "                  verbose=100)\n",
        "rf.fit(X_train, y_train)"
      ],
      "execution_count": null,
      "outputs": [
        {
          "name": "stdout",
          "output_type": "stream",
          "text": [
            "Fitting 5 folds for each of 6 candidates, totalling 30 fits\n",
            "[Parallel(n_jobs=-1)]: Using backend LokyBackend with 8 concurrent workers.\n",
            "[Parallel(n_jobs=-1)]: Done   1 tasks      | elapsed: 103.3min\n",
            "[Parallel(n_jobs=-1)]: Done   2 tasks      | elapsed: 103.4min\n",
            "[Parallel(n_jobs=-1)]: Done   3 tasks      | elapsed: 104.9min\n",
            "[Parallel(n_jobs=-1)]: Done   4 tasks      | elapsed: 105.2min\n",
            "[Parallel(n_jobs=-1)]: Done   5 tasks      | elapsed: 106.5min\n",
            "[Parallel(n_jobs=-1)]: Done   6 tasks      | elapsed: 106.9min\n",
            "[Parallel(n_jobs=-1)]: Done   7 tasks      | elapsed: 107.2min\n",
            "[Parallel(n_jobs=-1)]: Done   8 tasks      | elapsed: 108.3min\n",
            "[Parallel(n_jobs=-1)]: Done   9 tasks      | elapsed: 209.3min\n",
            "[Parallel(n_jobs=-1)]: Done  10 tasks      | elapsed: 212.6min\n",
            "[Parallel(n_jobs=-1)]: Done  11 tasks      | elapsed: 213.1min\n",
            "[Parallel(n_jobs=-1)]: Done  12 tasks      | elapsed: 213.1min\n",
            "[Parallel(n_jobs=-1)]: Done  13 tasks      | elapsed: 214.0min\n",
            "[Parallel(n_jobs=-1)]: Done  14 tasks      | elapsed: 214.7min\n",
            "[Parallel(n_jobs=-1)]: Done  15 tasks      | elapsed: 214.9min\n",
            "[Parallel(n_jobs=-1)]: Done  16 out of  30 | elapsed: 217.2min remaining: 190.1min\n",
            "[Parallel(n_jobs=-1)]: Done  17 out of  30 | elapsed: 316.2min remaining: 241.8min\n",
            "[Parallel(n_jobs=-1)]: Done  18 out of  30 | elapsed: 316.6min remaining: 211.1min\n",
            "[Parallel(n_jobs=-1)]: Done  19 out of  30 | elapsed: 317.7min remaining: 183.9min\n",
            "[Parallel(n_jobs=-1)]: Done  20 out of  30 | elapsed: 319.3min remaining: 159.7min\n",
            "[Parallel(n_jobs=-1)]: Done  21 out of  30 | elapsed: 320.4min remaining: 137.3min\n",
            "[Parallel(n_jobs=-1)]: Done  22 out of  30 | elapsed: 320.9min remaining: 116.7min\n",
            "[Parallel(n_jobs=-1)]: Done  23 out of  30 | elapsed: 322.0min remaining: 98.0min\n",
            "[Parallel(n_jobs=-1)]: Done  24 out of  30 | elapsed: 325.0min remaining: 81.2min\n",
            "[Parallel(n_jobs=-1)]: Done  25 out of  30 | elapsed: 407.3min remaining: 81.4min\n",
            "[Parallel(n_jobs=-1)]: Done  26 out of  30 | elapsed: 408.4min remaining: 62.8min\n",
            "[Parallel(n_jobs=-1)]: Done  27 out of  30 | elapsed: 410.3min remaining: 45.6min\n",
            "[Parallel(n_jobs=-1)]: Done  28 out of  30 | elapsed: 410.4min remaining: 29.3min\n",
            "[Parallel(n_jobs=-1)]: Done  30 out of  30 | elapsed: 413.7min remaining:    0.0s\n",
            "[Parallel(n_jobs=-1)]: Done  30 out of  30 | elapsed: 413.7min finished\n"
          ]
        },
        {
          "data": {
            "text/plain": [
              "GridSearchCV(cv=5,\n",
              "             estimator=RandomForestClassifier(criterion='entropy', max_depth=7,\n",
              "                                              max_features=20,\n",
              "                                              min_samples_leaf=100,\n",
              "                                              n_estimators=1000),\n",
              "             n_jobs=-1, param_grid={'min_samples_split': range(200, 500, 50)},\n",
              "             return_train_score=True, scoring='accuracy', verbose=100)"
            ]
          },
          "execution_count": 11,
          "metadata": {},
          "output_type": "execute_result"
        }
      ]
    },
    {
      "cell_type": "code",
      "metadata": {
        "id": "DN4onHQ4jwdr",
        "outputId": "b25f9a48-59d8-485b-ec8f-d9e2d155d8ed"
      },
      "source": [
        "# scores of GridSearch CV\n",
        "scores = rf.cv_results_\n",
        "pd.DataFrame(scores).head()"
      ],
      "execution_count": null,
      "outputs": [
        {
          "data": {
            "text/html": [
              "<div>\n",
              "<style scoped>\n",
              "    .dataframe tbody tr th:only-of-type {\n",
              "        vertical-align: middle;\n",
              "    }\n",
              "\n",
              "    .dataframe tbody tr th {\n",
              "        vertical-align: top;\n",
              "    }\n",
              "\n",
              "    .dataframe thead th {\n",
              "        text-align: right;\n",
              "    }\n",
              "</style>\n",
              "<table border=\"1\" class=\"dataframe\">\n",
              "  <thead>\n",
              "    <tr style=\"text-align: right;\">\n",
              "      <th></th>\n",
              "      <th>mean_fit_time</th>\n",
              "      <th>std_fit_time</th>\n",
              "      <th>mean_score_time</th>\n",
              "      <th>std_score_time</th>\n",
              "      <th>param_min_samples_split</th>\n",
              "      <th>params</th>\n",
              "      <th>split0_test_score</th>\n",
              "      <th>split1_test_score</th>\n",
              "      <th>split2_test_score</th>\n",
              "      <th>split3_test_score</th>\n",
              "      <th>...</th>\n",
              "      <th>mean_test_score</th>\n",
              "      <th>std_test_score</th>\n",
              "      <th>rank_test_score</th>\n",
              "      <th>split0_train_score</th>\n",
              "      <th>split1_train_score</th>\n",
              "      <th>split2_train_score</th>\n",
              "      <th>split3_train_score</th>\n",
              "      <th>split4_train_score</th>\n",
              "      <th>mean_train_score</th>\n",
              "      <th>std_train_score</th>\n",
              "    </tr>\n",
              "  </thead>\n",
              "  <tbody>\n",
              "    <tr>\n",
              "      <th>0</th>\n",
              "      <td>6292.296399</td>\n",
              "      <td>116.130305</td>\n",
              "      <td>5.251599</td>\n",
              "      <td>0.347407</td>\n",
              "      <td>200</td>\n",
              "      <td>{'min_samples_split': 200}</td>\n",
              "      <td>0.999273</td>\n",
              "      <td>0.999398</td>\n",
              "      <td>0.999373</td>\n",
              "      <td>0.999072</td>\n",
              "      <td>...</td>\n",
              "      <td>0.999273</td>\n",
              "      <td>0.000115</td>\n",
              "      <td>1</td>\n",
              "      <td>0.999354</td>\n",
              "      <td>0.999323</td>\n",
              "      <td>0.999335</td>\n",
              "      <td>0.999279</td>\n",
              "      <td>0.999254</td>\n",
              "      <td>0.999309</td>\n",
              "      <td>0.000037</td>\n",
              "    </tr>\n",
              "    <tr>\n",
              "      <th>1</th>\n",
              "      <td>6376.160475</td>\n",
              "      <td>98.991850</td>\n",
              "      <td>5.499744</td>\n",
              "      <td>0.437902</td>\n",
              "      <td>250</td>\n",
              "      <td>{'min_samples_split': 250}</td>\n",
              "      <td>0.999273</td>\n",
              "      <td>0.999323</td>\n",
              "      <td>0.999373</td>\n",
              "      <td>0.999047</td>\n",
              "      <td>...</td>\n",
              "      <td>0.999248</td>\n",
              "      <td>0.000112</td>\n",
              "      <td>2</td>\n",
              "      <td>0.999354</td>\n",
              "      <td>0.999310</td>\n",
              "      <td>0.999329</td>\n",
              "      <td>0.999279</td>\n",
              "      <td>0.999235</td>\n",
              "      <td>0.999302</td>\n",
              "      <td>0.000041</td>\n",
              "    </tr>\n",
              "    <tr>\n",
              "      <th>2</th>\n",
              "      <td>6463.180659</td>\n",
              "      <td>90.238661</td>\n",
              "      <td>5.418154</td>\n",
              "      <td>0.518738</td>\n",
              "      <td>300</td>\n",
              "      <td>{'min_samples_split': 300}</td>\n",
              "      <td>0.999248</td>\n",
              "      <td>0.999323</td>\n",
              "      <td>0.999348</td>\n",
              "      <td>0.999047</td>\n",
              "      <td>...</td>\n",
              "      <td>0.999218</td>\n",
              "      <td>0.000116</td>\n",
              "      <td>3</td>\n",
              "      <td>0.999291</td>\n",
              "      <td>0.999266</td>\n",
              "      <td>0.999273</td>\n",
              "      <td>0.999216</td>\n",
              "      <td>0.999172</td>\n",
              "      <td>0.999244</td>\n",
              "      <td>0.000044</td>\n",
              "    </tr>\n",
              "    <tr>\n",
              "      <th>3</th>\n",
              "      <td>6321.595664</td>\n",
              "      <td>102.835335</td>\n",
              "      <td>5.496383</td>\n",
              "      <td>0.249623</td>\n",
              "      <td>350</td>\n",
              "      <td>{'min_samples_split': 350}</td>\n",
              "      <td>0.999197</td>\n",
              "      <td>0.999223</td>\n",
              "      <td>0.999273</td>\n",
              "      <td>0.998997</td>\n",
              "      <td>...</td>\n",
              "      <td>0.999137</td>\n",
              "      <td>0.000117</td>\n",
              "      <td>4</td>\n",
              "      <td>0.999197</td>\n",
              "      <td>0.999135</td>\n",
              "      <td>0.999185</td>\n",
              "      <td>0.999172</td>\n",
              "      <td>0.999110</td>\n",
              "      <td>0.999160</td>\n",
              "      <td>0.000033</td>\n",
              "    </tr>\n",
              "    <tr>\n",
              "      <th>4</th>\n",
              "      <td>6168.101092</td>\n",
              "      <td>371.108756</td>\n",
              "      <td>6.126990</td>\n",
              "      <td>1.201932</td>\n",
              "      <td>400</td>\n",
              "      <td>{'min_samples_split': 400}</td>\n",
              "      <td>0.999122</td>\n",
              "      <td>0.999147</td>\n",
              "      <td>0.999172</td>\n",
              "      <td>0.998972</td>\n",
              "      <td>...</td>\n",
              "      <td>0.999082</td>\n",
              "      <td>0.000082</td>\n",
              "      <td>6</td>\n",
              "      <td>0.999116</td>\n",
              "      <td>0.999091</td>\n",
              "      <td>0.999060</td>\n",
              "      <td>0.999166</td>\n",
              "      <td>0.999110</td>\n",
              "      <td>0.999108</td>\n",
              "      <td>0.000035</td>\n",
              "    </tr>\n",
              "  </tbody>\n",
              "</table>\n",
              "<p>5 rows × 21 columns</p>\n",
              "</div>"
            ],
            "text/plain": [
              "   mean_fit_time  std_fit_time  mean_score_time  std_score_time  \\\n",
              "0    6292.296399    116.130305         5.251599        0.347407   \n",
              "1    6376.160475     98.991850         5.499744        0.437902   \n",
              "2    6463.180659     90.238661         5.418154        0.518738   \n",
              "3    6321.595664    102.835335         5.496383        0.249623   \n",
              "4    6168.101092    371.108756         6.126990        1.201932   \n",
              "\n",
              "  param_min_samples_split                      params  split0_test_score  \\\n",
              "0                     200  {'min_samples_split': 200}           0.999273   \n",
              "1                     250  {'min_samples_split': 250}           0.999273   \n",
              "2                     300  {'min_samples_split': 300}           0.999248   \n",
              "3                     350  {'min_samples_split': 350}           0.999197   \n",
              "4                     400  {'min_samples_split': 400}           0.999122   \n",
              "\n",
              "   split1_test_score  split2_test_score  split3_test_score  ...  \\\n",
              "0           0.999398           0.999373           0.999072  ...   \n",
              "1           0.999323           0.999373           0.999047  ...   \n",
              "2           0.999323           0.999348           0.999047  ...   \n",
              "3           0.999223           0.999273           0.998997  ...   \n",
              "4           0.999147           0.999172           0.998972  ...   \n",
              "\n",
              "   mean_test_score  std_test_score  rank_test_score  split0_train_score  \\\n",
              "0         0.999273        0.000115                1            0.999354   \n",
              "1         0.999248        0.000112                2            0.999354   \n",
              "2         0.999218        0.000116                3            0.999291   \n",
              "3         0.999137        0.000117                4            0.999197   \n",
              "4         0.999082        0.000082                6            0.999116   \n",
              "\n",
              "   split1_train_score  split2_train_score  split3_train_score  \\\n",
              "0            0.999323            0.999335            0.999279   \n",
              "1            0.999310            0.999329            0.999279   \n",
              "2            0.999266            0.999273            0.999216   \n",
              "3            0.999135            0.999185            0.999172   \n",
              "4            0.999091            0.999060            0.999166   \n",
              "\n",
              "   split4_train_score  mean_train_score  std_train_score  \n",
              "0            0.999254          0.999309         0.000037  \n",
              "1            0.999235          0.999302         0.000041  \n",
              "2            0.999172          0.999244         0.000044  \n",
              "3            0.999110          0.999160         0.000033  \n",
              "4            0.999110          0.999108         0.000035  \n",
              "\n",
              "[5 rows x 21 columns]"
            ]
          },
          "execution_count": 14,
          "metadata": {},
          "output_type": "execute_result"
        }
      ]
    },
    {
      "cell_type": "code",
      "metadata": {
        "id": "cp8MmEobjwdr",
        "outputId": "b05212d9-3b72-4e30-f1a1-239b52e562ed"
      },
      "source": [
        "# plotting accuracies with max_features\n",
        "plt.figure()\n",
        "plt.plot(scores[\"param_min_samples_split\"], \n",
        "         scores[\"mean_train_score\"], \n",
        "         label=\"training accuracy\")\n",
        "plt.plot(scores[\"param_min_samples_split\"], \n",
        "         scores[\"mean_test_score\"], \n",
        "         label=\"test accuracy\")\n",
        "plt.xlabel(\"min_samples_split\")\n",
        "plt.ylabel(\"Accuracy\")\n",
        "plt.legend()\n",
        "plt.show()"
      ],
      "execution_count": null,
      "outputs": [
        {
          "data": {
            "image/png": "[encoded data removed]",
            "text/plain": [
              "<Figure size 432x288 with 1 Axes>"
            ]
          },
          "metadata": {
            "needs_background": "light"
          },
          "output_type": "display_data"
        }
      ]
    },
    {
      "cell_type": "markdown",
      "metadata": {
        "id": "3RpN0Y2Kjwds"
      },
      "source": [
        "From the above plot it's clear that 200 would be the best value for min_samples_split"
      ]
    },
    {
      "cell_type": "code",
      "metadata": {
        "id": "tCUrJ2Mujwds"
      },
      "source": [
        "# model with the best hyperparameters\n",
        "rfc = RandomForestClassifier(bootstrap=True,\n",
        "                             max_depth=7,\n",
        "                             criterion=\"entropy\",\n",
        "                             n_estimators=1000,\n",
        "                             max_features=20,\n",
        "                             min_samples_leaf=100,\n",
        "                             min_samples_split=200,\n",
        "                             n_jobs=-1)"
      ],
      "execution_count": null,
      "outputs": []
    },
    {
      "cell_type": "code",
      "metadata": {
        "id": "EOWwXsGnjwds",
        "outputId": "73f3903b-25c0-478a-b2ef-9f4c119f2f20"
      },
      "source": [
        "# fit\n",
        "rfc.fit(X_train,y_train)"
      ],
      "execution_count": null,
      "outputs": [
        {
          "data": {
            "text/plain": [
              "RandomForestClassifier(criterion='entropy', max_depth=7, max_features=20,\n",
              "                       min_samples_leaf=100, min_samples_split=200,\n",
              "                       n_estimators=1000, n_jobs=-1)"
            ]
          },
          "execution_count": 19,
          "metadata": {},
          "output_type": "execute_result"
        }
      ]
    },
    {
      "cell_type": "code",
      "metadata": {
        "id": "8ppeb6NWjwds"
      },
      "source": [
        "y_pred = rfc.predict(X_test)"
      ],
      "execution_count": null,
      "outputs": []
    },
    {
      "cell_type": "code",
      "metadata": {
        "id": "0GygBzYDjwds",
        "outputId": "e2929e50-7042-48b0-d114-cb4096f922d9"
      },
      "source": [
        "print(\"accuracy:\", metrics.accuracy_score(y_true=y_test, y_pred=y_pred), \"\\n\")"
      ],
      "execution_count": null,
      "outputs": [
        {
          "name": "stdout",
          "output_type": "stream",
          "text": [
            "accuracy: 0.9993328885923949 \n",
            "\n"
          ]
        }
      ]
    },
    {
      "cell_type": "code",
      "metadata": {
        "id": "iaC-DLl6jwdt"
      },
      "source": [
        "confusion_random_forest_final = metrics.confusion_matrix(y_true=y_test, y_pred=y_pred)"
      ],
      "execution_count": null,
      "outputs": []
    },
    {
      "cell_type": "code",
      "metadata": {
        "id": "feRiGsimjwdt",
        "outputId": "656ac345-152d-4251-8c01-1ffa64003e0c"
      },
      "source": [
        "get_all_measures(confusion_random_forest_final)"
      ],
      "execution_count": null,
      "outputs": [
        {
          "name": "stdout",
          "output_type": "stream",
          "text": [
            "Sensitivity is : 0.69\n",
            "\n",
            "specificity is : 1.00\n",
            "\n",
            "false_positive_rate is : 0.00\n",
            "\n",
            "negative_predictive_value is : 1.00\n",
            "\n",
            "precision is : 0.89\n",
            "\n",
            "recall is : 0.69\n",
            "\n"
          ]
        }
      ]
    },
    {
      "cell_type": "code",
      "metadata": {
        "id": "FC0dNP1cjwdt",
        "outputId": "9877e48d-393a-4c47-e74a-cb027b9a50bd"
      },
      "source": [
        "metrics.roc_auc_score(y_test, y_pred)"
      ],
      "execution_count": null,
      "outputs": [
        {
          "data": {
            "text/plain": [
              "0.8436796591988183"
            ]
          },
          "execution_count": 26,
          "metadata": {},
          "output_type": "execute_result"
        }
      ]
    },
    {
      "cell_type": "markdown",
      "metadata": {
        "id": "hgakqxZKjwdt"
      },
      "source": [
        "# Boosting"
      ]
    },
    {
      "cell_type": "markdown",
      "metadata": {
        "id": "_5KMCgD3jwdt"
      },
      "source": [
        "## Adaboost"
      ]
    },
    {
      "cell_type": "code",
      "metadata": {
        "id": "zOI0Mgudjwdu"
      },
      "source": [
        "# adaboost classifier with max 600 decision trees of depth=2\n",
        "# learning_rate/shrinkage=1.5\n",
        "\n",
        "# base estimator\n",
        "tree = DecisionTreeClassifier(max_depth=2)\n",
        "\n",
        "# adaboost with the tree as base estimator\n",
        "adaboost_model_1 = AdaBoostClassifier(\n",
        "    base_estimator=tree,\n",
        "    n_estimators=600,\n",
        "    learning_rate=1.5,\n",
        "    algorithm=\"SAMME\")"
      ],
      "execution_count": null,
      "outputs": []
    },
    {
      "cell_type": "code",
      "metadata": {
        "id": "qCmQaTe5jwdu",
        "outputId": "401c3392-5c18-4e60-9d2e-83460180b436"
      },
      "source": [
        "# fit\n",
        "adaboost_model_1.fit(X_train, y_train)"
      ],
      "execution_count": null,
      "outputs": [
        {
          "data": {
            "text/plain": [
              "AdaBoostClassifier(algorithm='SAMME',\n",
              "                   base_estimator=DecisionTreeClassifier(max_depth=2),\n",
              "                   learning_rate=1.5, n_estimators=600)"
            ]
          },
          "execution_count": 29,
          "metadata": {},
          "output_type": "execute_result"
        }
      ]
    },
    {
      "cell_type": "code",
      "metadata": {
        "id": "ByScEYIfjwdu"
      },
      "source": [
        "y_pred = adaboost_model_1.predict(X_test)"
      ],
      "execution_count": null,
      "outputs": []
    },
    {
      "cell_type": "code",
      "metadata": {
        "id": "EEsb3YqAjwdu",
        "outputId": "87aa5b8f-0687-4aea-f70b-0162cca02856"
      },
      "source": [
        "print(\"accuracy:\", metrics.accuracy_score(y_true=y_test, y_pred=y_pred), \"\\n\")"
      ],
      "execution_count": null,
      "outputs": [
        {
          "name": "stdout",
          "output_type": "stream",
          "text": [
            "accuracy: 0.9995669627705019 \n",
            "\n"
          ]
        }
      ]
    },
    {
      "cell_type": "code",
      "metadata": {
        "id": "YDUU4Ptzjwdv"
      },
      "source": [
        "confusion_adaboost_original = metrics.confusion_matrix(y_true=y_test, y_pred=y_pred)"
      ],
      "execution_count": null,
      "outputs": []
    },
    {
      "cell_type": "code",
      "metadata": {
        "id": "aDKJyXXkjwdv",
        "outputId": "e9e89c26-d7de-4f98-9d52-baeaa5d0cb78"
      },
      "source": [
        "get_all_measures(confusion_adaboost_original)"
      ],
      "execution_count": null,
      "outputs": [
        {
          "name": "stdout",
          "output_type": "stream",
          "text": [
            "Sensitivity is : 0.80\n",
            "\n",
            "specificity is : 1.00\n",
            "\n",
            "false_positive_rate is : 0.00\n",
            "\n",
            "negative_predictive_value is : 1.00\n",
            "\n",
            "precision is : 0.93\n",
            "\n",
            "recall is : 0.80\n",
            "\n"
          ]
        }
      ]
    },
    {
      "cell_type": "code",
      "metadata": {
        "id": "ER3P-hMljwdv",
        "outputId": "2a616c87-56c0-4266-d581-c3c5b8edad97"
      },
      "source": [
        "metrics.roc_auc_score(y_test, y_pred)"
      ],
      "execution_count": null,
      "outputs": [
        {
          "data": {
            "text/plain": [
              "0.8992586616881011"
            ]
          },
          "execution_count": 34,
          "metadata": {},
          "output_type": "execute_result"
        }
      ]
    },
    {
      "cell_type": "markdown",
      "metadata": {
        "id": "guhd5i3_jwdv"
      },
      "source": [
        "### Hyperparameter tuning for Adaboost\n",
        "\n",
        "max_depth = maximum depeth for each tree\n",
        "n_estimators = max number of estimators where boosting is terminated"
      ]
    },
    {
      "cell_type": "code",
      "metadata": {
        "id": "XSC99t_xjwdw"
      },
      "source": [
        "# parameter grid\n",
        "param_grid = {\"base_estimator__max_depth\" : [2, 5],\n",
        "              \"n_estimators\": [200, 400, 600]\n",
        "             }"
      ],
      "execution_count": null,
      "outputs": []
    },
    {
      "cell_type": "code",
      "metadata": {
        "id": "oGY_9_5Djwdw"
      },
      "source": [
        "# base estimator\n",
        "tree = DecisionTreeClassifier()\n",
        "\n",
        "# adaboost with the tree as base estimator\n",
        "# learning rate is arbitrarily set to 0.6\n",
        "ABC = AdaBoostClassifier(\n",
        "    base_estimator=tree,\n",
        "    learning_rate=0.6,\n",
        "    algorithm=\"SAMME\")"
      ],
      "execution_count": null,
      "outputs": []
    },
    {
      "cell_type": "code",
      "metadata": {
        "id": "ze-u5lJTjwdw"
      },
      "source": [
        "# run grid search\n",
        "folds = 3\n",
        "grid_search_ABC = GridSearchCV(ABC, \n",
        "                               cv = folds,\n",
        "                               param_grid=param_grid, \n",
        "                               scoring = 'roc_auc', \n",
        "                               return_train_score=True,                         \n",
        "                               verbose = 1,n_jobs=8)"
      ],
      "execution_count": null,
      "outputs": []
    },
    {
      "cell_type": "code",
      "metadata": {
        "id": "e1-X0dOajwdw",
        "outputId": "9e9b04e5-80fe-463d-ae26-206f4820c669"
      },
      "source": [
        "# fit \n",
        "grid_search_ABC.fit(X_train, y_train)"
      ],
      "execution_count": null,
      "outputs": [
        {
          "name": "stdout",
          "output_type": "stream",
          "text": [
            "Fitting 3 folds for each of 6 candidates, totalling 18 fits\n"
          ]
        },
        {
          "name": "stderr",
          "output_type": "stream",
          "text": [
            "[Parallel(n_jobs=8)]: Using backend LokyBackend with 8 concurrent workers.\n",
            "[Parallel(n_jobs=8)]: Done  18 out of  18 | elapsed: 87.4min finished\n"
          ]
        },
        {
          "data": {
            "text/plain": [
              "GridSearchCV(cv=3,\n",
              "             estimator=AdaBoostClassifier(algorithm='SAMME',\n",
              "                                          base_estimator=DecisionTreeClassifier(),\n",
              "                                          learning_rate=0.6),\n",
              "             n_jobs=8,\n",
              "             param_grid={'base_estimator__max_depth': [2, 5],\n",
              "                         'n_estimators': [200, 400, 600]},\n",
              "             return_train_score=True, scoring='roc_auc', verbose=1)"
            ]
          },
          "execution_count": 40,
          "metadata": {},
          "output_type": "execute_result"
        }
      ]
    },
    {
      "cell_type": "code",
      "metadata": {
        "id": "WDBLfgVajwdw",
        "outputId": "95901d78-0bd3-4750-8dc8-cfbc6e145504"
      },
      "source": [
        "# cv results\n",
        "cv_results = pd.DataFrame(grid_search_ABC.cv_results_)\n",
        "cv_results"
      ],
      "execution_count": null,
      "outputs": [
        {
          "data": {
            "text/html": [
              "<div>\n",
              "<style scoped>\n",
              "    .dataframe tbody tr th:only-of-type {\n",
              "        vertical-align: middle;\n",
              "    }\n",
              "\n",
              "    .dataframe tbody tr th {\n",
              "        vertical-align: top;\n",
              "    }\n",
              "\n",
              "    .dataframe thead th {\n",
              "        text-align: right;\n",
              "    }\n",
              "</style>\n",
              "<table border=\"1\" class=\"dataframe\">\n",
              "  <thead>\n",
              "    <tr style=\"text-align: right;\">\n",
              "      <th></th>\n",
              "      <th>mean_fit_time</th>\n",
              "      <th>std_fit_time</th>\n",
              "      <th>mean_score_time</th>\n",
              "      <th>std_score_time</th>\n",
              "      <th>param_base_estimator__max_depth</th>\n",
              "      <th>param_n_estimators</th>\n",
              "      <th>params</th>\n",
              "      <th>split0_test_score</th>\n",
              "      <th>split1_test_score</th>\n",
              "      <th>split2_test_score</th>\n",
              "      <th>mean_test_score</th>\n",
              "      <th>std_test_score</th>\n",
              "      <th>rank_test_score</th>\n",
              "      <th>split0_train_score</th>\n",
              "      <th>split1_train_score</th>\n",
              "      <th>split2_train_score</th>\n",
              "      <th>mean_train_score</th>\n",
              "      <th>std_train_score</th>\n",
              "    </tr>\n",
              "  </thead>\n",
              "  <tbody>\n",
              "    <tr>\n",
              "      <th>0</th>\n",
              "      <td>623.978846</td>\n",
              "      <td>10.801179</td>\n",
              "      <td>6.701022</td>\n",
              "      <td>0.787281</td>\n",
              "      <td>2</td>\n",
              "      <td>200</td>\n",
              "      <td>{'base_estimator__max_depth': 2, 'n_estimators...</td>\n",
              "      <td>0.979599</td>\n",
              "      <td>0.978657</td>\n",
              "      <td>0.976694</td>\n",
              "      <td>0.978317</td>\n",
              "      <td>0.001210</td>\n",
              "      <td>3</td>\n",
              "      <td>0.999996</td>\n",
              "      <td>0.999965</td>\n",
              "      <td>0.999971</td>\n",
              "      <td>0.999977</td>\n",
              "      <td>0.000013</td>\n",
              "    </tr>\n",
              "    <tr>\n",
              "      <th>1</th>\n",
              "      <td>1265.628199</td>\n",
              "      <td>9.479903</td>\n",
              "      <td>11.179852</td>\n",
              "      <td>0.473491</td>\n",
              "      <td>2</td>\n",
              "      <td>400</td>\n",
              "      <td>{'base_estimator__max_depth': 2, 'n_estimators...</td>\n",
              "      <td>0.980490</td>\n",
              "      <td>0.980160</td>\n",
              "      <td>0.977941</td>\n",
              "      <td>0.979530</td>\n",
              "      <td>0.001132</td>\n",
              "      <td>2</td>\n",
              "      <td>1.000000</td>\n",
              "      <td>0.999997</td>\n",
              "      <td>1.000000</td>\n",
              "      <td>0.999999</td>\n",
              "      <td>0.000001</td>\n",
              "    </tr>\n",
              "    <tr>\n",
              "      <th>2</th>\n",
              "      <td>1869.964405</td>\n",
              "      <td>9.757196</td>\n",
              "      <td>16.172037</td>\n",
              "      <td>1.605641</td>\n",
              "      <td>2</td>\n",
              "      <td>600</td>\n",
              "      <td>{'base_estimator__max_depth': 2, 'n_estimators...</td>\n",
              "      <td>0.980876</td>\n",
              "      <td>0.979431</td>\n",
              "      <td>0.978336</td>\n",
              "      <td>0.979548</td>\n",
              "      <td>0.001040</td>\n",
              "      <td>1</td>\n",
              "      <td>1.000000</td>\n",
              "      <td>1.000000</td>\n",
              "      <td>1.000000</td>\n",
              "      <td>1.000000</td>\n",
              "      <td>0.000000</td>\n",
              "    </tr>\n",
              "    <tr>\n",
              "      <th>3</th>\n",
              "      <td>1428.765754</td>\n",
              "      <td>30.707012</td>\n",
              "      <td>5.494474</td>\n",
              "      <td>0.187145</td>\n",
              "      <td>5</td>\n",
              "      <td>200</td>\n",
              "      <td>{'base_estimator__max_depth': 5, 'n_estimators...</td>\n",
              "      <td>0.972590</td>\n",
              "      <td>0.973828</td>\n",
              "      <td>0.977166</td>\n",
              "      <td>0.974528</td>\n",
              "      <td>0.001933</td>\n",
              "      <td>6</td>\n",
              "      <td>1.000000</td>\n",
              "      <td>1.000000</td>\n",
              "      <td>1.000000</td>\n",
              "      <td>1.000000</td>\n",
              "      <td>0.000000</td>\n",
              "    </tr>\n",
              "    <tr>\n",
              "      <th>4</th>\n",
              "      <td>2447.185447</td>\n",
              "      <td>82.942974</td>\n",
              "      <td>8.912894</td>\n",
              "      <td>0.382743</td>\n",
              "      <td>5</td>\n",
              "      <td>400</td>\n",
              "      <td>{'base_estimator__max_depth': 5, 'n_estimators...</td>\n",
              "      <td>0.974629</td>\n",
              "      <td>0.975462</td>\n",
              "      <td>0.976953</td>\n",
              "      <td>0.975682</td>\n",
              "      <td>0.000961</td>\n",
              "      <td>5</td>\n",
              "      <td>1.000000</td>\n",
              "      <td>1.000000</td>\n",
              "      <td>1.000000</td>\n",
              "      <td>1.000000</td>\n",
              "      <td>0.000000</td>\n",
              "    </tr>\n",
              "    <tr>\n",
              "      <th>5</th>\n",
              "      <td>3112.022285</td>\n",
              "      <td>42.247211</td>\n",
              "      <td>8.699333</td>\n",
              "      <td>0.885968</td>\n",
              "      <td>5</td>\n",
              "      <td>600</td>\n",
              "      <td>{'base_estimator__max_depth': 5, 'n_estimators...</td>\n",
              "      <td>0.976770</td>\n",
              "      <td>0.975891</td>\n",
              "      <td>0.978602</td>\n",
              "      <td>0.977088</td>\n",
              "      <td>0.001129</td>\n",
              "      <td>4</td>\n",
              "      <td>1.000000</td>\n",
              "      <td>1.000000</td>\n",
              "      <td>1.000000</td>\n",
              "      <td>1.000000</td>\n",
              "      <td>0.000000</td>\n",
              "    </tr>\n",
              "  </tbody>\n",
              "</table>\n",
              "</div>"
            ],
            "text/plain": [
              "   mean_fit_time  std_fit_time  mean_score_time  std_score_time  \\\n",
              "0     623.978846     10.801179         6.701022        0.787281   \n",
              "1    1265.628199      9.479903        11.179852        0.473491   \n",
              "2    1869.964405      9.757196        16.172037        1.605641   \n",
              "3    1428.765754     30.707012         5.494474        0.187145   \n",
              "4    2447.185447     82.942974         8.912894        0.382743   \n",
              "5    3112.022285     42.247211         8.699333        0.885968   \n",
              "\n",
              "  param_base_estimator__max_depth param_n_estimators  \\\n",
              "0                               2                200   \n",
              "1                               2                400   \n",
              "2                               2                600   \n",
              "3                               5                200   \n",
              "4                               5                400   \n",
              "5                               5                600   \n",
              "\n",
              "                                              params  split0_test_score  \\\n",
              "0  {'base_estimator__max_depth': 2, 'n_estimators...           0.979599   \n",
              "1  {'base_estimator__max_depth': 2, 'n_estimators...           0.980490   \n",
              "2  {'base_estimator__max_depth': 2, 'n_estimators...           0.980876   \n",
              "3  {'base_estimator__max_depth': 5, 'n_estimators...           0.972590   \n",
              "4  {'base_estimator__max_depth': 5, 'n_estimators...           0.974629   \n",
              "5  {'base_estimator__max_depth': 5, 'n_estimators...           0.976770   \n",
              "\n",
              "   split1_test_score  split2_test_score  mean_test_score  std_test_score  \\\n",
              "0           0.978657           0.976694         0.978317        0.001210   \n",
              "1           0.980160           0.977941         0.979530        0.001132   \n",
              "2           0.979431           0.978336         0.979548        0.001040   \n",
              "3           0.973828           0.977166         0.974528        0.001933   \n",
              "4           0.975462           0.976953         0.975682        0.000961   \n",
              "5           0.975891           0.978602         0.977088        0.001129   \n",
              "\n",
              "   rank_test_score  split0_train_score  split1_train_score  \\\n",
              "0                3            0.999996            0.999965   \n",
              "1                2            1.000000            0.999997   \n",
              "2                1            1.000000            1.000000   \n",
              "3                6            1.000000            1.000000   \n",
              "4                5            1.000000            1.000000   \n",
              "5                4            1.000000            1.000000   \n",
              "\n",
              "   split2_train_score  mean_train_score  std_train_score  \n",
              "0            0.999971          0.999977         0.000013  \n",
              "1            1.000000          0.999999         0.000001  \n",
              "2            1.000000          1.000000         0.000000  \n",
              "3            1.000000          1.000000         0.000000  \n",
              "4            1.000000          1.000000         0.000000  \n",
              "5            1.000000          1.000000         0.000000  "
            ]
          },
          "execution_count": 43,
          "metadata": {},
          "output_type": "execute_result"
        }
      ]
    },
    {
      "cell_type": "code",
      "metadata": {
        "id": "GzG8ynGSjwdx",
        "outputId": "7ec1fe55-915c-4f96-ac52-cae0c9bbb718"
      },
      "source": [
        "# plotting AUC with hyperparameter combinations\n",
        "\n",
        "plt.figure(figsize=(15,5))\n",
        "for n, depth in enumerate(param_grid['base_estimator__max_depth']):\n",
        "    \n",
        "\n",
        "    # subplot 1/n\n",
        "    plt.subplot(1,3, n+1)\n",
        "    depth_df = cv_results[cv_results['param_base_estimator__max_depth']==depth]\n",
        "\n",
        "    plt.plot(depth_df[\"param_n_estimators\"], depth_df[\"mean_test_score\"])\n",
        "    plt.plot(depth_df[\"param_n_estimators\"], depth_df[\"mean_train_score\"])\n",
        "    plt.xlabel('n_estimators')\n",
        "    plt.ylabel('AUC')\n",
        "    plt.title(\"max_depth={0}\".format(depth))\n",
        "    plt.ylim([0.60, 1])\n",
        "    plt.legend(['test score', 'train score'], loc='bottom right')\n",
        "    plt.xscale('log')\n",
        "\n",
        "    \n"
      ],
      "execution_count": null,
      "outputs": [
        {
          "data": {
            "image/png": "[encoded data removed]",
            "text/plain": [
              "<Figure size 1080x360 with 2 Axes>"
            ]
          },
          "metadata": {
            "needs_background": "light"
          },
          "output_type": "display_data"
        }
      ]
    },
    {
      "cell_type": "markdown",
      "metadata": {
        "id": "ALAYmAUhjwdx"
      },
      "source": [
        "## it's clear from the above plot that the optimal value for max_depth is 2 and for n_estimator is 600"
      ]
    },
    {
      "cell_type": "markdown",
      "metadata": {
        "id": "fyQQCyqajwdx"
      },
      "source": [
        "### creating the model with best found hyperparameters"
      ]
    },
    {
      "cell_type": "code",
      "metadata": {
        "id": "rXa15fPmjwdy",
        "outputId": "a62ceee8-cffd-46c0-df1b-dba6cc978253"
      },
      "source": [
        "# model performance on test data with chosen hyperparameters\n",
        "\n",
        "# base estimator\n",
        "tree = DecisionTreeClassifier(max_depth=2)\n",
        "\n",
        "# adaboost with the tree as base estimator\n",
        "# learning rate is arbitrarily set, we'll discuss learning_rate below\n",
        "ABC = AdaBoostClassifier(\n",
        "    base_estimator=tree,\n",
        "    learning_rate=0.6,\n",
        "    n_estimators=600,\n",
        "    algorithm=\"SAMME\")\n",
        "\n",
        "ABC.fit(X_train, y_train)"
      ],
      "execution_count": null,
      "outputs": [
        {
          "data": {
            "text/plain": [
              "AdaBoostClassifier(algorithm='SAMME',\n",
              "                   base_estimator=DecisionTreeClassifier(max_depth=2),\n",
              "                   learning_rate=0.6, n_estimators=600)"
            ]
          },
          "execution_count": 54,
          "metadata": {},
          "output_type": "execute_result"
        }
      ]
    },
    {
      "cell_type": "code",
      "metadata": {
        "id": "5HlGwGDCjwdy"
      },
      "source": [
        "y_pred = ABC.predict(X_test)"
      ],
      "execution_count": null,
      "outputs": []
    },
    {
      "cell_type": "code",
      "metadata": {
        "id": "DyE4BxlKjwdy",
        "outputId": "2e4d11c5-081f-4b57-e860-29dd03f0ec63"
      },
      "source": [
        "print(\"accuracy:\", metrics.accuracy_score(y_true=y_test, y_pred=y_pred), \"\\n\")"
      ],
      "execution_count": null,
      "outputs": [
        {
          "name": "stdout",
          "output_type": "stream",
          "text": [
            "accuracy: 0.9995318516437859 \n",
            "\n"
          ]
        }
      ]
    },
    {
      "cell_type": "code",
      "metadata": {
        "id": "BaSBibzDjwdy"
      },
      "source": [
        "confusion_adaboost_tuned = metrics.confusion_matrix(y_true=y_test, y_pred=y_pred)"
      ],
      "execution_count": null,
      "outputs": []
    },
    {
      "cell_type": "code",
      "metadata": {
        "id": "9ZrV06j9jwdy",
        "outputId": "f160ba47-0efb-43db-df4a-26d09c54bf2f"
      },
      "source": [
        "metrics.roc_auc_score(y_test, y_pred)"
      ],
      "execution_count": null,
      "outputs": [
        {
          "data": {
            "text/plain": [
              "0.8992410764878057"
            ]
          },
          "execution_count": 58,
          "metadata": {},
          "output_type": "execute_result"
        }
      ]
    },
    {
      "cell_type": "code",
      "metadata": {
        "id": "Muesgtn-jwdy",
        "outputId": "a6a694f6-206f-4adf-ac4c-6d0c1565b287"
      },
      "source": [
        "get_all_measures(confusion_adaboost_tuned)"
      ],
      "execution_count": null,
      "outputs": [
        {
          "name": "stdout",
          "output_type": "stream",
          "text": [
            "Sensitivity is : 0.80\n",
            "\n",
            "specificity is : 1.00\n",
            "\n",
            "false_positive_rate is : 0.00\n",
            "\n",
            "negative_predictive_value is : 1.00\n",
            "\n",
            "precision is : 0.91\n",
            "\n",
            "recall is : 0.80\n",
            "\n"
          ]
        }
      ]
    },
    {
      "cell_type": "markdown",
      "metadata": {
        "id": "4MystaAMjwdy"
      },
      "source": [
        "## Gradient Boosting Classifier\n",
        "Hyperparameters\n",
        "\n",
        "learning_rate = step size towards the minima\n",
        "\n",
        "subsample = the subsample size that we take from the training dataset"
      ]
    },
    {
      "cell_type": "code",
      "metadata": {
        "id": "qIF-ppL8jwdz"
      },
      "source": [
        "# parameter grid\n",
        "param_grid = {\"learning_rate\": [0.2, 0.6, 0.9],\n",
        "              \"subsample\": [0.3, 0.6, 0.9]\n",
        "             }"
      ],
      "execution_count": null,
      "outputs": []
    },
    {
      "cell_type": "code",
      "metadata": {
        "id": "ZSnxDUv7jwdz"
      },
      "source": [
        "# adaboost with the tree as base estimator\n",
        "GBC = GradientBoostingClassifier(max_depth=2, n_estimators=200)"
      ],
      "execution_count": null,
      "outputs": []
    },
    {
      "cell_type": "code",
      "metadata": {
        "id": "kt0e2gttjwdz",
        "outputId": "1e031b76-57ad-4029-b7aa-419f3126c9d6"
      },
      "source": [
        "# run grid search\n",
        "folds = 3\n",
        "grid_search_GBC = GridSearchCV(GBC, \n",
        "                               cv = folds,\n",
        "                               param_grid=param_grid, \n",
        "                               scoring = 'roc_auc', \n",
        "                               return_train_score=True,                         \n",
        "                               verbose = 1,n_jobs=8)\n",
        "\n",
        "grid_search_GBC.fit(X_train, y_train)"
      ],
      "execution_count": null,
      "outputs": [
        {
          "name": "stdout",
          "output_type": "stream",
          "text": [
            "Fitting 3 folds for each of 9 candidates, totalling 27 fits\n"
          ]
        },
        {
          "name": "stderr",
          "output_type": "stream",
          "text": [
            "[Parallel(n_jobs=8)]: Using backend LokyBackend with 8 concurrent workers.\n",
            "[Parallel(n_jobs=8)]: Done  27 out of  27 | elapsed: 18.4min finished\n"
          ]
        },
        {
          "data": {
            "text/plain": [
              "GridSearchCV(cv=3,\n",
              "             estimator=GradientBoostingClassifier(max_depth=2,\n",
              "                                                  n_estimators=200),\n",
              "             n_jobs=8,\n",
              "             param_grid={'learning_rate': [0.2, 0.6, 0.9],\n",
              "                         'subsample': [0.3, 0.6, 0.9]},\n",
              "             return_train_score=True, scoring='roc_auc', verbose=1)"
            ]
          },
          "execution_count": 67,
          "metadata": {},
          "output_type": "execute_result"
        }
      ]
    },
    {
      "cell_type": "code",
      "metadata": {
        "id": "cE5YPDVojwdz",
        "outputId": "bb2f5e64-ea12-445c-8ad6-bf15065dcd59"
      },
      "source": [
        "cv_results = pd.DataFrame(grid_search_GBC.cv_results_)\n",
        "cv_results.head()"
      ],
      "execution_count": null,
      "outputs": [
        {
          "data": {
            "text/html": [
              "<div>\n",
              "<style scoped>\n",
              "    .dataframe tbody tr th:only-of-type {\n",
              "        vertical-align: middle;\n",
              "    }\n",
              "\n",
              "    .dataframe tbody tr th {\n",
              "        vertical-align: top;\n",
              "    }\n",
              "\n",
              "    .dataframe thead th {\n",
              "        text-align: right;\n",
              "    }\n",
              "</style>\n",
              "<table border=\"1\" class=\"dataframe\">\n",
              "  <thead>\n",
              "    <tr style=\"text-align: right;\">\n",
              "      <th></th>\n",
              "      <th>mean_fit_time</th>\n",
              "      <th>std_fit_time</th>\n",
              "      <th>mean_score_time</th>\n",
              "      <th>std_score_time</th>\n",
              "      <th>param_learning_rate</th>\n",
              "      <th>param_subsample</th>\n",
              "      <th>params</th>\n",
              "      <th>split0_test_score</th>\n",
              "      <th>split1_test_score</th>\n",
              "      <th>split2_test_score</th>\n",
              "      <th>mean_test_score</th>\n",
              "      <th>std_test_score</th>\n",
              "      <th>rank_test_score</th>\n",
              "      <th>split0_train_score</th>\n",
              "      <th>split1_train_score</th>\n",
              "      <th>split2_train_score</th>\n",
              "      <th>mean_train_score</th>\n",
              "      <th>std_train_score</th>\n",
              "    </tr>\n",
              "  </thead>\n",
              "  <tbody>\n",
              "    <tr>\n",
              "      <th>0</th>\n",
              "      <td>149.893034</td>\n",
              "      <td>2.329962</td>\n",
              "      <td>0.419642</td>\n",
              "      <td>0.058820</td>\n",
              "      <td>0.2</td>\n",
              "      <td>0.3</td>\n",
              "      <td>{'learning_rate': 0.2, 'subsample': 0.3}</td>\n",
              "      <td>0.259180</td>\n",
              "      <td>0.086776</td>\n",
              "      <td>0.116750</td>\n",
              "      <td>0.154236</td>\n",
              "      <td>0.075209</td>\n",
              "      <td>9</td>\n",
              "      <td>0.267615</td>\n",
              "      <td>0.078286</td>\n",
              "      <td>0.097347</td>\n",
              "      <td>0.147750</td>\n",
              "      <td>0.085114</td>\n",
              "    </tr>\n",
              "    <tr>\n",
              "      <th>1</th>\n",
              "      <td>294.991822</td>\n",
              "      <td>2.113502</td>\n",
              "      <td>0.459399</td>\n",
              "      <td>0.091778</td>\n",
              "      <td>0.2</td>\n",
              "      <td>0.6</td>\n",
              "      <td>{'learning_rate': 0.2, 'subsample': 0.6}</td>\n",
              "      <td>0.758660</td>\n",
              "      <td>0.203289</td>\n",
              "      <td>0.245805</td>\n",
              "      <td>0.402584</td>\n",
              "      <td>0.252381</td>\n",
              "      <td>8</td>\n",
              "      <td>0.758552</td>\n",
              "      <td>0.140855</td>\n",
              "      <td>0.174685</td>\n",
              "      <td>0.358031</td>\n",
              "      <td>0.283548</td>\n",
              "    </tr>\n",
              "    <tr>\n",
              "      <th>2</th>\n",
              "      <td>456.480070</td>\n",
              "      <td>8.893326</td>\n",
              "      <td>0.365888</td>\n",
              "      <td>0.042398</td>\n",
              "      <td>0.2</td>\n",
              "      <td>0.9</td>\n",
              "      <td>{'learning_rate': 0.2, 'subsample': 0.9}</td>\n",
              "      <td>0.629491</td>\n",
              "      <td>0.108036</td>\n",
              "      <td>0.827510</td>\n",
              "      <td>0.521679</td>\n",
              "      <td>0.303456</td>\n",
              "      <td>7</td>\n",
              "      <td>0.640401</td>\n",
              "      <td>0.088712</td>\n",
              "      <td>0.853408</td>\n",
              "      <td>0.527507</td>\n",
              "      <td>0.322231</td>\n",
              "    </tr>\n",
              "    <tr>\n",
              "      <th>3</th>\n",
              "      <td>160.284730</td>\n",
              "      <td>1.437754</td>\n",
              "      <td>0.437666</td>\n",
              "      <td>0.072401</td>\n",
              "      <td>0.6</td>\n",
              "      <td>0.3</td>\n",
              "      <td>{'learning_rate': 0.6, 'subsample': 0.3}</td>\n",
              "      <td>0.913364</td>\n",
              "      <td>0.784279</td>\n",
              "      <td>0.758472</td>\n",
              "      <td>0.818705</td>\n",
              "      <td>0.067758</td>\n",
              "      <td>4</td>\n",
              "      <td>0.917819</td>\n",
              "      <td>0.820898</td>\n",
              "      <td>0.730440</td>\n",
              "      <td>0.823052</td>\n",
              "      <td>0.076512</td>\n",
              "    </tr>\n",
              "    <tr>\n",
              "      <th>4</th>\n",
              "      <td>311.278873</td>\n",
              "      <td>8.610993</td>\n",
              "      <td>0.406420</td>\n",
              "      <td>0.061973</td>\n",
              "      <td>0.6</td>\n",
              "      <td>0.6</td>\n",
              "      <td>{'learning_rate': 0.6, 'subsample': 0.6}</td>\n",
              "      <td>0.913469</td>\n",
              "      <td>0.896296</td>\n",
              "      <td>0.934995</td>\n",
              "      <td>0.914920</td>\n",
              "      <td>0.015832</td>\n",
              "      <td>1</td>\n",
              "      <td>0.920063</td>\n",
              "      <td>0.915658</td>\n",
              "      <td>0.915648</td>\n",
              "      <td>0.917123</td>\n",
              "      <td>0.002079</td>\n",
              "    </tr>\n",
              "  </tbody>\n",
              "</table>\n",
              "</div>"
            ],
            "text/plain": [
              "   mean_fit_time  std_fit_time  mean_score_time  std_score_time  \\\n",
              "0     149.893034      2.329962         0.419642        0.058820   \n",
              "1     294.991822      2.113502         0.459399        0.091778   \n",
              "2     456.480070      8.893326         0.365888        0.042398   \n",
              "3     160.284730      1.437754         0.437666        0.072401   \n",
              "4     311.278873      8.610993         0.406420        0.061973   \n",
              "\n",
              "  param_learning_rate param_subsample  \\\n",
              "0                 0.2             0.3   \n",
              "1                 0.2             0.6   \n",
              "2                 0.2             0.9   \n",
              "3                 0.6             0.3   \n",
              "4                 0.6             0.6   \n",
              "\n",
              "                                     params  split0_test_score  \\\n",
              "0  {'learning_rate': 0.2, 'subsample': 0.3}           0.259180   \n",
              "1  {'learning_rate': 0.2, 'subsample': 0.6}           0.758660   \n",
              "2  {'learning_rate': 0.2, 'subsample': 0.9}           0.629491   \n",
              "3  {'learning_rate': 0.6, 'subsample': 0.3}           0.913364   \n",
              "4  {'learning_rate': 0.6, 'subsample': 0.6}           0.913469   \n",
              "\n",
              "   split1_test_score  split2_test_score  mean_test_score  std_test_score  \\\n",
              "0           0.086776           0.116750         0.154236        0.075209   \n",
              "1           0.203289           0.245805         0.402584        0.252381   \n",
              "2           0.108036           0.827510         0.521679        0.303456   \n",
              "3           0.784279           0.758472         0.818705        0.067758   \n",
              "4           0.896296           0.934995         0.914920        0.015832   \n",
              "\n",
              "   rank_test_score  split0_train_score  split1_train_score  \\\n",
              "0                9            0.267615            0.078286   \n",
              "1                8            0.758552            0.140855   \n",
              "2                7            0.640401            0.088712   \n",
              "3                4            0.917819            0.820898   \n",
              "4                1            0.920063            0.915658   \n",
              "\n",
              "   split2_train_score  mean_train_score  std_train_score  \n",
              "0            0.097347          0.147750         0.085114  \n",
              "1            0.174685          0.358031         0.283548  \n",
              "2            0.853408          0.527507         0.322231  \n",
              "3            0.730440          0.823052         0.076512  \n",
              "4            0.915648          0.917123         0.002079  "
            ]
          },
          "execution_count": 68,
          "metadata": {},
          "output_type": "execute_result"
        }
      ]
    },
    {
      "cell_type": "code",
      "metadata": {
        "id": "5fVnPpRAjwdz",
        "outputId": "cfbbaa54-325e-4b1c-84e3-c7cee83a07b3"
      },
      "source": [
        "# # plotting\n",
        "plt.figure(figsize=(16,6))\n",
        "\n",
        "\n",
        "for n, subsample in enumerate(param_grid['subsample']):\n",
        "    \n",
        "\n",
        "    # subplot 1/n\n",
        "    plt.subplot(1,len(param_grid['subsample']), n+1)\n",
        "    df = cv_results[cv_results['param_subsample']==subsample]\n",
        "\n",
        "    plt.plot(df[\"param_learning_rate\"], df[\"mean_test_score\"])\n",
        "    plt.plot(df[\"param_learning_rate\"], df[\"mean_train_score\"])\n",
        "    plt.xlabel('learning_rate')\n",
        "    plt.ylabel('AUC')\n",
        "    plt.title(\"subsample={0}\".format(subsample))\n",
        "    plt.ylim([0.60, 1])\n",
        "    plt.legend(['test score', 'train score'], loc='upper left')\n",
        "    plt.xscale('log')"
      ],
      "execution_count": null,
      "outputs": [
        {
          "data": {
            "image/png": "[encoded data removed]",
            "text/plain": [
              "<Figure size 1152x432 with 3 Axes>"
            ]
          },
          "metadata": {
            "needs_background": "light"
          },
          "output_type": "display_data"
        }
      ]
    },
    {
      "cell_type": "markdown",
      "metadata": {
        "id": "OUlUaZUSjwdz"
      },
      "source": [
        "### it's clear from the above plot that best and optimal value for subsample is 0.6 and also for learning rate is 0.6"
      ]
    },
    {
      "cell_type": "markdown",
      "metadata": {
        "id": "MsXFwCoOjwdz"
      },
      "source": [
        "### building the best model with best hyper parameters"
      ]
    },
    {
      "cell_type": "code",
      "metadata": {
        "id": "OeRI05Q4jwd0"
      },
      "source": [
        "GBC = GradientBoostingClassifier(max_depth=2, learning_rate=0.6, n_estimators=200,subsample=0.6)"
      ],
      "execution_count": null,
      "outputs": []
    },
    {
      "cell_type": "code",
      "metadata": {
        "id": "TU8VGRbNjwd0",
        "outputId": "d6f0c24d-5edc-4d63-c585-784913c7faa1"
      },
      "source": [
        "GBC.fit(X_train,y_train)"
      ],
      "execution_count": null,
      "outputs": [
        {
          "data": {
            "text/plain": [
              "GradientBoostingClassifier(learning_rate=0.6, max_depth=2, n_estimators=200,\n",
              "                           subsample=0.6)"
            ]
          },
          "execution_count": 73,
          "metadata": {},
          "output_type": "execute_result"
        }
      ]
    },
    {
      "cell_type": "code",
      "metadata": {
        "id": "puYj0YXojwd0"
      },
      "source": [
        "y_pred = GBC.predict(X_test)"
      ],
      "execution_count": null,
      "outputs": []
    },
    {
      "cell_type": "code",
      "metadata": {
        "id": "u_4yNzimjwd0",
        "outputId": "dccae81a-e2f4-4276-f413-3d5d197f0713"
      },
      "source": [
        "print(\"accuracy:\", metrics.accuracy_score(y_true=y_test, y_pred=y_pred), \"\\n\")"
      ],
      "execution_count": null,
      "outputs": [
        {
          "name": "stdout",
          "output_type": "stream",
          "text": [
            "accuracy: 0.9976007396744028 \n",
            "\n"
          ]
        }
      ]
    },
    {
      "cell_type": "code",
      "metadata": {
        "id": "hdwLixsUjwd0"
      },
      "source": [
        "confusion_gradientboosting_tuned = metrics.confusion_matrix(y_true=y_test, y_pred=y_pred)"
      ],
      "execution_count": null,
      "outputs": []
    },
    {
      "cell_type": "code",
      "metadata": {
        "id": "VX_CSQ6fjwd1",
        "outputId": "c2273768-7866-4e86-91cb-8457cbe9805b"
      },
      "source": [
        "metrics.roc_auc_score(y_test, y_pred)"
      ],
      "execution_count": null,
      "outputs": [
        {
          "data": {
            "text/plain": [
              "0.5724360045252582"
            ]
          },
          "execution_count": 77,
          "metadata": {},
          "output_type": "execute_result"
        }
      ]
    },
    {
      "cell_type": "code",
      "metadata": {
        "id": "CUaQFSefjwd1",
        "outputId": "c8030a09-43f7-40b1-9242-36f7a6fdfbc1"
      },
      "source": [
        "get_all_measures(confusion_gradientboosting_tuned)"
      ],
      "execution_count": null,
      "outputs": [
        {
          "name": "stdout",
          "output_type": "stream",
          "text": [
            "Sensitivity is : 0.15\n",
            "\n",
            "specificity is : 1.00\n",
            "\n",
            "false_positive_rate is : 0.00\n",
            "\n",
            "negative_predictive_value is : 1.00\n",
            "\n",
            "precision is : 0.20\n",
            "\n",
            "recall is : 0.15\n",
            "\n"
          ]
        }
      ]
    },
    {
      "cell_type": "markdown",
      "metadata": {
        "id": "GoaFsrptjwd1"
      },
      "source": [
        "## XGBoost"
      ]
    },
    {
      "cell_type": "code",
      "metadata": {
        "id": "dlXf8dLfjwd1",
        "outputId": "e8a79e88-6419-47ae-b7a1-420322b22d6d"
      },
      "source": [
        "# fit model on training data with default hyperparameters\n",
        "model = XGBClassifier()\n",
        "model.fit(X_train, y_train)"
      ],
      "execution_count": null,
      "outputs": [
        {
          "data": {
            "text/plain": [
              "XGBClassifier(base_score=0.5, booster='gbtree', colsample_bylevel=1,\n",
              "              colsample_bynode=1, colsample_bytree=1, gamma=0, gpu_id=-1,\n",
              "              importance_type='gain', interaction_constraints='',\n",
              "              learning_rate=0.300000012, max_delta_step=0, max_depth=6,\n",
              "              min_child_weight=1, missing=nan, monotone_constraints='()',\n",
              "              n_estimators=100, n_jobs=0, num_parallel_tree=1, random_state=0,\n",
              "              reg_alpha=0, reg_lambda=1, scale_pos_weight=1, subsample=1,\n",
              "              tree_method='exact', validate_parameters=1, verbosity=None)"
            ]
          },
          "execution_count": 81,
          "metadata": {},
          "output_type": "execute_result"
        }
      ]
    },
    {
      "cell_type": "code",
      "metadata": {
        "id": "GLepCf4Pjwd1"
      },
      "source": [
        "y_pred = model.predict(X_test)"
      ],
      "execution_count": null,
      "outputs": []
    },
    {
      "cell_type": "code",
      "metadata": {
        "id": "pFgLgBotjwd1",
        "outputId": "0393ef0a-a33f-42e1-f130-0d18fe775c92"
      },
      "source": [
        "print(\"accuracy:\", metrics.accuracy_score(y_true=y_test, y_pred=y_pred), \"\\n\")"
      ],
      "execution_count": null,
      "outputs": [
        {
          "name": "stdout",
          "output_type": "stream",
          "text": [
            "accuracy: 0.9995669627705019 \n",
            "\n"
          ]
        }
      ]
    },
    {
      "cell_type": "code",
      "metadata": {
        "id": "-xv0ige-jwd1"
      },
      "source": [
        "confusion_xgboost_default = metrics.confusion_matrix(y_true=y_test, y_pred=y_pred)"
      ],
      "execution_count": null,
      "outputs": []
    },
    {
      "cell_type": "code",
      "metadata": {
        "id": "Rgxc6Ckujwd2",
        "outputId": "11d3d8de-a190-4d8e-fd28-a8a13f6d8138"
      },
      "source": [
        "metrics.roc_auc_score(y_test, y_pred)"
      ],
      "execution_count": null,
      "outputs": [
        {
          "data": {
            "text/plain": [
              "0.8992586616881011"
            ]
          },
          "execution_count": 85,
          "metadata": {},
          "output_type": "execute_result"
        }
      ]
    },
    {
      "cell_type": "code",
      "metadata": {
        "id": "Bgxr2UuCjwd2",
        "outputId": "3a6e3561-deda-4790-d51f-4af293f33f16"
      },
      "source": [
        "get_all_measures(confusion_xgboost_default)"
      ],
      "execution_count": null,
      "outputs": [
        {
          "name": "stdout",
          "output_type": "stream",
          "text": [
            "Sensitivity is : 0.80\n",
            "\n",
            "specificity is : 1.00\n",
            "\n",
            "false_positive_rate is : 0.00\n",
            "\n",
            "negative_predictive_value is : 1.00\n",
            "\n",
            "precision is : 0.93\n",
            "\n",
            "recall is : 0.80\n",
            "\n"
          ]
        }
      ]
    },
    {
      "cell_type": "markdown",
      "metadata": {
        "id": "WUmoBOTZjwd2"
      },
      "source": [
        "### Hyper parameter for xgboost\n",
        "\n",
        "laerning_rate = the step size for gradient\n",
        "\n",
        "\n",
        "subsample = random subsampling of the training dataset"
      ]
    },
    {
      "cell_type": "code",
      "metadata": {
        "id": "1NHyMfHEjwd2"
      },
      "source": [
        "# hyperparameter tuning with XGBoost\n",
        "\n",
        "# creating a KFold object \n",
        "folds = 3\n",
        "\n",
        "# specify range of hyperparameters\n",
        "param_grid = {'learning_rate': [0.2, 0.6], \n",
        "             'subsample': [0.3, 0.6, 0.9]}          \n",
        "\n",
        "\n",
        "# specify model\n",
        "xgb_model = XGBClassifier(max_depth=2, n_estimators=200)\n",
        "\n",
        "# set up GridSearchCV()\n",
        "model_cv = GridSearchCV(estimator = xgb_model, \n",
        "                        param_grid = param_grid, \n",
        "                        scoring= 'roc_auc', \n",
        "                        cv = folds, \n",
        "                        verbose = 1,\n",
        "                        return_train_score=True,\n",
        "                       n_jobs=8)      "
      ],
      "execution_count": null,
      "outputs": []
    },
    {
      "cell_type": "code",
      "metadata": {
        "id": "ESOFwcDpjwd2",
        "outputId": "fbaf6862-03b7-4028-c442-a39d229bc4c9"
      },
      "source": [
        "# fit the model\n",
        "model_cv.fit(X_train, y_train) "
      ],
      "execution_count": null,
      "outputs": [
        {
          "name": "stdout",
          "output_type": "stream",
          "text": [
            "Fitting 3 folds for each of 6 candidates, totalling 18 fits\n"
          ]
        },
        {
          "name": "stderr",
          "output_type": "stream",
          "text": [
            "[Parallel(n_jobs=8)]: Using backend LokyBackend with 8 concurrent workers.\n",
            "[Parallel(n_jobs=8)]: Done  18 out of  18 | elapsed:  5.0min finished\n"
          ]
        },
        {
          "data": {
            "text/plain": [
              "GridSearchCV(cv=3,\n",
              "             estimator=XGBClassifier(base_score=None, booster=None,\n",
              "                                     colsample_bylevel=None,\n",
              "                                     colsample_bynode=None,\n",
              "                                     colsample_bytree=None, gamma=None,\n",
              "                                     gpu_id=None, importance_type='gain',\n",
              "                                     interaction_constraints=None,\n",
              "                                     learning_rate=None, max_delta_step=None,\n",
              "                                     max_depth=2, min_child_weight=None,\n",
              "                                     missing=nan, monotone_constraints=None,\n",
              "                                     n_estimators=200, n_jobs=None,\n",
              "                                     num_parallel_tree=None, random_state=None,\n",
              "                                     reg_alpha=None, reg_lambda=None,\n",
              "                                     scale_pos_weight=None, subsample=None,\n",
              "                                     tree_method=None, validate_parameters=None,\n",
              "                                     verbosity=None),\n",
              "             n_jobs=8,\n",
              "             param_grid={'learning_rate': [0.2, 0.6],\n",
              "                         'subsample': [0.3, 0.6, 0.9]},\n",
              "             return_train_score=True, scoring='roc_auc', verbose=1)"
            ]
          },
          "execution_count": 90,
          "metadata": {},
          "output_type": "execute_result"
        }
      ]
    },
    {
      "cell_type": "code",
      "metadata": {
        "id": "j-bJdU-ujwd2",
        "outputId": "8aaadfe9-cd0a-4e50-f314-3e57b4781e31"
      },
      "source": [
        "# cv results\n",
        "cv_results = pd.DataFrame(model_cv.cv_results_)\n",
        "cv_results"
      ],
      "execution_count": null,
      "outputs": [
        {
          "data": {
            "text/html": [
              "<div>\n",
              "<style scoped>\n",
              "    .dataframe tbody tr th:only-of-type {\n",
              "        vertical-align: middle;\n",
              "    }\n",
              "\n",
              "    .dataframe tbody tr th {\n",
              "        vertical-align: top;\n",
              "    }\n",
              "\n",
              "    .dataframe thead th {\n",
              "        text-align: right;\n",
              "    }\n",
              "</style>\n",
              "<table border=\"1\" class=\"dataframe\">\n",
              "  <thead>\n",
              "    <tr style=\"text-align: right;\">\n",
              "      <th></th>\n",
              "      <th>mean_fit_time</th>\n",
              "      <th>std_fit_time</th>\n",
              "      <th>mean_score_time</th>\n",
              "      <th>std_score_time</th>\n",
              "      <th>param_learning_rate</th>\n",
              "      <th>param_subsample</th>\n",
              "      <th>params</th>\n",
              "      <th>split0_test_score</th>\n",
              "      <th>split1_test_score</th>\n",
              "      <th>split2_test_score</th>\n",
              "      <th>mean_test_score</th>\n",
              "      <th>std_test_score</th>\n",
              "      <th>rank_test_score</th>\n",
              "      <th>split0_train_score</th>\n",
              "      <th>split1_train_score</th>\n",
              "      <th>split2_train_score</th>\n",
              "      <th>mean_train_score</th>\n",
              "      <th>std_train_score</th>\n",
              "    </tr>\n",
              "  </thead>\n",
              "  <tbody>\n",
              "    <tr>\n",
              "      <th>0</th>\n",
              "      <td>98.063357</td>\n",
              "      <td>10.590310</td>\n",
              "      <td>0.886904</td>\n",
              "      <td>0.128465</td>\n",
              "      <td>0.2</td>\n",
              "      <td>0.3</td>\n",
              "      <td>{'learning_rate': 0.2, 'subsample': 0.3}</td>\n",
              "      <td>0.976180</td>\n",
              "      <td>0.975856</td>\n",
              "      <td>0.972791</td>\n",
              "      <td>0.974942</td>\n",
              "      <td>0.001527</td>\n",
              "      <td>5</td>\n",
              "      <td>0.999964</td>\n",
              "      <td>0.999877</td>\n",
              "      <td>0.999835</td>\n",
              "      <td>0.999892</td>\n",
              "      <td>0.000054</td>\n",
              "    </tr>\n",
              "    <tr>\n",
              "      <th>1</th>\n",
              "      <td>129.893766</td>\n",
              "      <td>8.342425</td>\n",
              "      <td>0.733779</td>\n",
              "      <td>0.023720</td>\n",
              "      <td>0.2</td>\n",
              "      <td>0.6</td>\n",
              "      <td>{'learning_rate': 0.2, 'subsample': 0.6}</td>\n",
              "      <td>0.984536</td>\n",
              "      <td>0.979402</td>\n",
              "      <td>0.986215</td>\n",
              "      <td>0.983384</td>\n",
              "      <td>0.002898</td>\n",
              "      <td>1</td>\n",
              "      <td>0.999985</td>\n",
              "      <td>0.999936</td>\n",
              "      <td>0.999952</td>\n",
              "      <td>0.999958</td>\n",
              "      <td>0.000020</td>\n",
              "    </tr>\n",
              "    <tr>\n",
              "      <th>2</th>\n",
              "      <td>148.067786</td>\n",
              "      <td>8.410087</td>\n",
              "      <td>0.796969</td>\n",
              "      <td>0.085351</td>\n",
              "      <td>0.2</td>\n",
              "      <td>0.9</td>\n",
              "      <td>{'learning_rate': 0.2, 'subsample': 0.9}</td>\n",
              "      <td>0.983017</td>\n",
              "      <td>0.979170</td>\n",
              "      <td>0.979025</td>\n",
              "      <td>0.980404</td>\n",
              "      <td>0.001849</td>\n",
              "      <td>3</td>\n",
              "      <td>0.999979</td>\n",
              "      <td>0.999969</td>\n",
              "      <td>0.999927</td>\n",
              "      <td>0.999958</td>\n",
              "      <td>0.000022</td>\n",
              "    </tr>\n",
              "    <tr>\n",
              "      <th>3</th>\n",
              "      <td>90.544297</td>\n",
              "      <td>2.014910</td>\n",
              "      <td>0.740706</td>\n",
              "      <td>0.020337</td>\n",
              "      <td>0.6</td>\n",
              "      <td>0.3</td>\n",
              "      <td>{'learning_rate': 0.6, 'subsample': 0.3}</td>\n",
              "      <td>0.961784</td>\n",
              "      <td>0.957657</td>\n",
              "      <td>0.971973</td>\n",
              "      <td>0.963805</td>\n",
              "      <td>0.006017</td>\n",
              "      <td>6</td>\n",
              "      <td>0.999999</td>\n",
              "      <td>0.999995</td>\n",
              "      <td>0.999999</td>\n",
              "      <td>0.999998</td>\n",
              "      <td>0.000002</td>\n",
              "    </tr>\n",
              "    <tr>\n",
              "      <th>4</th>\n",
              "      <td>118.130124</td>\n",
              "      <td>2.981905</td>\n",
              "      <td>0.655726</td>\n",
              "      <td>0.088916</td>\n",
              "      <td>0.6</td>\n",
              "      <td>0.6</td>\n",
              "      <td>{'learning_rate': 0.6, 'subsample': 0.6}</td>\n",
              "      <td>0.983689</td>\n",
              "      <td>0.977281</td>\n",
              "      <td>0.981615</td>\n",
              "      <td>0.980862</td>\n",
              "      <td>0.002670</td>\n",
              "      <td>2</td>\n",
              "      <td>1.000000</td>\n",
              "      <td>1.000000</td>\n",
              "      <td>1.000000</td>\n",
              "      <td>1.000000</td>\n",
              "      <td>0.000000</td>\n",
              "    </tr>\n",
              "    <tr>\n",
              "      <th>5</th>\n",
              "      <td>100.151413</td>\n",
              "      <td>10.403443</td>\n",
              "      <td>0.425361</td>\n",
              "      <td>0.079515</td>\n",
              "      <td>0.6</td>\n",
              "      <td>0.9</td>\n",
              "      <td>{'learning_rate': 0.6, 'subsample': 0.9}</td>\n",
              "      <td>0.982728</td>\n",
              "      <td>0.970104</td>\n",
              "      <td>0.980737</td>\n",
              "      <td>0.977856</td>\n",
              "      <td>0.005542</td>\n",
              "      <td>4</td>\n",
              "      <td>1.000000</td>\n",
              "      <td>1.000000</td>\n",
              "      <td>1.000000</td>\n",
              "      <td>1.000000</td>\n",
              "      <td>0.000000</td>\n",
              "    </tr>\n",
              "  </tbody>\n",
              "</table>\n",
              "</div>"
            ],
            "text/plain": [
              "   mean_fit_time  std_fit_time  mean_score_time  std_score_time  \\\n",
              "0      98.063357     10.590310         0.886904        0.128465   \n",
              "1     129.893766      8.342425         0.733779        0.023720   \n",
              "2     148.067786      8.410087         0.796969        0.085351   \n",
              "3      90.544297      2.014910         0.740706        0.020337   \n",
              "4     118.130124      2.981905         0.655726        0.088916   \n",
              "5     100.151413     10.403443         0.425361        0.079515   \n",
              "\n",
              "  param_learning_rate param_subsample  \\\n",
              "0                 0.2             0.3   \n",
              "1                 0.2             0.6   \n",
              "2                 0.2             0.9   \n",
              "3                 0.6             0.3   \n",
              "4                 0.6             0.6   \n",
              "5                 0.6             0.9   \n",
              "\n",
              "                                     params  split0_test_score  \\\n",
              "0  {'learning_rate': 0.2, 'subsample': 0.3}           0.976180   \n",
              "1  {'learning_rate': 0.2, 'subsample': 0.6}           0.984536   \n",
              "2  {'learning_rate': 0.2, 'subsample': 0.9}           0.983017   \n",
              "3  {'learning_rate': 0.6, 'subsample': 0.3}           0.961784   \n",
              "4  {'learning_rate': 0.6, 'subsample': 0.6}           0.983689   \n",
              "5  {'learning_rate': 0.6, 'subsample': 0.9}           0.982728   \n",
              "\n",
              "   split1_test_score  split2_test_score  mean_test_score  std_test_score  \\\n",
              "0           0.975856           0.972791         0.974942        0.001527   \n",
              "1           0.979402           0.986215         0.983384        0.002898   \n",
              "2           0.979170           0.979025         0.980404        0.001849   \n",
              "3           0.957657           0.971973         0.963805        0.006017   \n",
              "4           0.977281           0.981615         0.980862        0.002670   \n",
              "5           0.970104           0.980737         0.977856        0.005542   \n",
              "\n",
              "   rank_test_score  split0_train_score  split1_train_score  \\\n",
              "0                5            0.999964            0.999877   \n",
              "1                1            0.999985            0.999936   \n",
              "2                3            0.999979            0.999969   \n",
              "3                6            0.999999            0.999995   \n",
              "4                2            1.000000            1.000000   \n",
              "5                4            1.000000            1.000000   \n",
              "\n",
              "   split2_train_score  mean_train_score  std_train_score  \n",
              "0            0.999835          0.999892         0.000054  \n",
              "1            0.999952          0.999958         0.000020  \n",
              "2            0.999927          0.999958         0.000022  \n",
              "3            0.999999          0.999998         0.000002  \n",
              "4            1.000000          1.000000         0.000000  \n",
              "5            1.000000          1.000000         0.000000  "
            ]
          },
          "execution_count": 91,
          "metadata": {},
          "output_type": "execute_result"
        }
      ]
    },
    {
      "cell_type": "code",
      "metadata": {
        "id": "Du0e2tHxjwd2"
      },
      "source": [
        "# convert parameters to int for plotting on x-axis\n",
        "cv_results['param_learning_rate'] = cv_results['param_learning_rate'].astype('float')\n",
        "cv_results['param_max_depth'] = cv_results['param_max_depth'].astype('float')\n",
        "cv_results.head()"
      ],
      "execution_count": null,
      "outputs": []
    },
    {
      "cell_type": "code",
      "metadata": {
        "id": "Scw7ncl0jwd2",
        "outputId": "ee640b02-8365-4a92-bd37-eecc01cd076e"
      },
      "source": [
        "# # plotting\n",
        "plt.figure(figsize=(16,6))\n",
        "\n",
        "param_grid = {'learning_rate': [0.2, 0.6], \n",
        "             'subsample': [0.3, 0.6, 0.9]} \n",
        "\n",
        "\n",
        "for n, subsample in enumerate(param_grid['subsample']):\n",
        "    \n",
        "\n",
        "    # subplot 1/n\n",
        "    plt.subplot(1,len(param_grid['subsample']), n+1)\n",
        "    df = cv_results[cv_results['param_subsample']==subsample]\n",
        "\n",
        "    plt.plot(df[\"param_learning_rate\"], df[\"mean_test_score\"])\n",
        "    plt.plot(df[\"param_learning_rate\"], df[\"mean_train_score\"])\n",
        "    plt.xlabel('learning_rate')\n",
        "    plt.ylabel('AUC')\n",
        "    plt.title(\"subsample={0}\".format(subsample))\n",
        "    #plt.ylim([0.90, 1])\n",
        "    plt.legend(['test score', 'train score'], loc='upper left')\n",
        "    plt.xscale('log')"
      ],
      "execution_count": null,
      "outputs": [
        {
          "data": {
            "image/png": "[encoded data removed]",
            "text/plain": [
              "<Figure size 1152x432 with 3 Axes>"
            ]
          },
          "metadata": {
            "needs_background": "light"
          },
          "output_type": "display_data"
        }
      ]
    },
    {
      "cell_type": "markdown",
      "metadata": {
        "id": "EU0pZWO3jwd3"
      },
      "source": [
        "### it's clear from the above plots that the optimal values for learning_rate is 0.2 and subsample is 0.6"
      ]
    },
    {
      "cell_type": "code",
      "metadata": {
        "id": "_wlO0TsRjwd3",
        "outputId": "6c969e0a-d03e-49b3-e481-599e57ad040a"
      },
      "source": [
        "# chosen hyperparameters\n",
        "# 'objective':'binary:logistic' outputs probability rather than label, which we need for auc\n",
        "\n",
        "# fit model on training data\n",
        "model = XGBClassifier(learning_rate= 0.2,\n",
        "          max_depth= 2, \n",
        "          n_estimators=200,\n",
        "          subsample=0.6,\n",
        "         objective='binary:logistic',\n",
        "          n_jobs= 8)\n",
        "model.fit(X_train, y_train)"
      ],
      "execution_count": null,
      "outputs": [
        {
          "data": {
            "text/plain": [
              "XGBClassifier(base_score=0.5, booster='gbtree', colsample_bylevel=1,\n",
              "              colsample_bynode=1, colsample_bytree=1, gamma=0, gpu_id=-1,\n",
              "              importance_type='gain', interaction_constraints='',\n",
              "              learning_rate=0.2, max_delta_step=0, max_depth=2,\n",
              "              min_child_weight=1, missing=nan, monotone_constraints='()',\n",
              "              n_estimators=200, n_jobs=8, num_parallel_tree=1, random_state=0,\n",
              "              reg_alpha=0, reg_lambda=1, scale_pos_weight=1, subsample=0.6,\n",
              "              tree_method='exact', validate_parameters=1, verbosity=None)"
            ]
          },
          "execution_count": 102,
          "metadata": {},
          "output_type": "execute_result"
        }
      ]
    },
    {
      "cell_type": "code",
      "metadata": {
        "id": "tLaHNBEzjwd3"
      },
      "source": [
        "y_pred = model.predict(X_test)"
      ],
      "execution_count": null,
      "outputs": []
    },
    {
      "cell_type": "code",
      "metadata": {
        "id": "-wQd9Q2wjwd3",
        "outputId": "b2d5b077-1aef-4918-8b06-18faa755f428"
      },
      "source": [
        "print(\"accuracy:\", metrics.accuracy_score(y_true=y_test, y_pred=y_pred), \"\\n\")"
      ],
      "execution_count": null,
      "outputs": [
        {
          "name": "stdout",
          "output_type": "stream",
          "text": [
            "accuracy: 0.9995435553526912 \n",
            "\n"
          ]
        }
      ]
    },
    {
      "cell_type": "code",
      "metadata": {
        "id": "lFwXwOmfjwd3"
      },
      "source": [
        "confusion_xgboost_tuned = metrics.confusion_matrix(y_true=y_test, y_pred=y_pred)"
      ],
      "execution_count": null,
      "outputs": []
    },
    {
      "cell_type": "code",
      "metadata": {
        "id": "nujrHG-xjwd3",
        "outputId": "96debab7-b0d7-4c4b-ac2b-21ea741a5059"
      },
      "source": [
        "metrics.roc_auc_score(y_test, y_pred)"
      ],
      "execution_count": null,
      "outputs": [
        {
          "data": {
            "text/plain": [
              "0.8992469382212375"
            ]
          },
          "execution_count": 106,
          "metadata": {},
          "output_type": "execute_result"
        }
      ]
    },
    {
      "cell_type": "code",
      "metadata": {
        "id": "DPnH-RBfjwd3",
        "outputId": "b6a0daef-11a0-4ee1-81bc-d1665b61b234"
      },
      "source": [
        "get_all_measures(confusion_xgboost_tuned)"
      ],
      "execution_count": null,
      "outputs": [
        {
          "name": "stdout",
          "output_type": "stream",
          "text": [
            "Sensitivity is : 0.80\n",
            "\n",
            "specificity is : 1.00\n",
            "\n",
            "false_positive_rate is : 0.00\n",
            "\n",
            "negative_predictive_value is : 1.00\n",
            "\n",
            "precision is : 0.92\n",
            "\n",
            "recall is : 0.80\n",
            "\n"
          ]
        }
      ]
    },
    {
      "cell_type": "markdown",
      "metadata": {
        "id": "EdVzhyTDjwd4"
      },
      "source": [
        "# Final results with all the final Models with all the algorithms"
      ]
    },
    {
      "cell_type": "code",
      "metadata": {
        "id": "rvfd0W5jkUHL"
      },
      "source": [
        ""
      ],
      "execution_count": 1,
      "outputs": []
    },
    {
      "cell_type": "markdown",
      "metadata": {
        "id": "PX4clQF7kg3E"
      },
      "source": [
        "![results1.PNG](data:image/png;base64,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)"
      ]
    },
    {
      "cell_type": "markdown",
      "metadata": {
        "id": "Al9z4Smmk35Z"
      },
      "source": [
        "It can be concluded that XGBoost is the best algorithm for the current data"
      ]
    },
    {
      "cell_type": "code",
      "metadata": {
        "id": "DH2wMXXDlG3g"
      },
      "source": [
        ""
      ],
      "execution_count": null,
      "outputs": []
    }
  ]
}