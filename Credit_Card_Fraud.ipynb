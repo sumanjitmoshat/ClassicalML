{
  "nbformat": 4,
  "nbformat_minor": 0,
  "metadata": {
    "colab": {
      "name": "Credit_Card_Fraud.ipynb",
      "provenance": [],
      "include_colab_link": true
    },
    "kernelspec": {
      "name": "python3",
      "display_name": "Python 3"
    },
    "language_info": {
      "name": "python"
    },
    "accelerator": "GPU"
  },
  "cells": [
    {
      "cell_type": "markdown",
      "metadata": {
        "id": "view-in-github",
        "colab_type": "text"
      },
      "source": [
        "<a href=\"https://colab.research.google.com/github/sumanjitmoshat/ClassicalML/blob/master/Credit_Card_Fraud.ipynb\" target=\"_parent\"><img src=\"https://colab.research.google.com/assets/colab-badge.svg\" alt=\"Open In Colab\"/></a>"
      ]
    },
    {
      "cell_type": "code",
      "metadata": {
        "id": "R2GadOvCmZn3"
      },
      "source": [
        "# importing packages and libraries \n",
        "import pandas as pd\n",
        "import seaborn as sns\n",
        "import matplotlib.pyplot as plt\n",
        "from imblearn.over_sampling import SMOTE\n",
        "from sklearn.model_selection import train_test_split\n",
        "from sklearn.linear_model import LogisticRegression\n",
        "from sklearn.feature_selection import RFE\n",
        "import statsmodels.api as sm\n",
        "import warnings\n",
        "from sklearn import metrics\n",
        "from statsmodels.stats.outliers_influence import variance_inflation_factor\n",
        "from sklearn.svm import SVC\n",
        "from sklearn.preprocessing import scale\n",
        "from sklearn.model_selection import KFold\n",
        "from sklearn.model_selection import cross_val_score\n",
        "from sklearn.model_selection import GridSearchCV\n",
        "from sklearn.model_selection import RandomizedSearchCV\n",
        "from sklearn.tree import DecisionTreeClassifier\n",
        "from sklearn.ensemble import RandomForestClassifier\n",
        "warnings.filterwarnings(\"ignore\") "
      ],
      "execution_count": 44,
      "outputs": []
    },
    {
      "cell_type": "code",
      "metadata": {
        "id": "mQmCTy8M5dYI",
        "colab": {
          "base_uri": "https://localhost:8080/"
        },
        "outputId": "e57809e5-31a0-4ccc-8ca3-b70fa7a70a21"
      },
      "source": [
        "# connecting with kaggle to download the dataset \n",
        "! pip install -q kaggle\n",
        "! mkdir ~/.kaggle\n",
        "! cp kaggle.json ~/.kaggle/\n",
        "! chmod 600 ~/.kaggle/kaggle.json\n",
        "! kaggle datasets download -d mlg-ulb/creditcardfraud\n",
        "! mkdir creditcardfrauddataset\n",
        "! unzip creditcardfraud.zip -d creditcardfrauddataset"
      ],
      "execution_count": 2,
      "outputs": [
        {
          "output_type": "stream",
          "name": "stdout",
          "text": [
            "mkdir: cannot create directory ‘/root/.kaggle’: File exists\n",
            "Downloading creditcardfraud.zip to /content\n",
            " 86% 57.0M/66.0M [00:00<00:00, 61.5MB/s]\n",
            "100% 66.0M/66.0M [00:00<00:00, 90.3MB/s]\n",
            "Archive:  creditcardfraud.zip\n",
            "  inflating: creditcardfrauddataset/creditcard.csv  \n"
          ]
        }
      ]
    },
    {
      "cell_type": "code",
      "metadata": {
        "colab": {
          "base_uri": "https://localhost:8080/"
        },
        "id": "Y61q4fUH5dkZ",
        "outputId": "0471fee1-e63f-47e2-af00-c6e27f92be31"
      },
      "source": [
        "cd creditcardfrauddataset/"
      ],
      "execution_count": 3,
      "outputs": [
        {
          "output_type": "stream",
          "name": "stdout",
          "text": [
            "/content/creditcardfrauddataset\n"
          ]
        }
      ]
    },
    {
      "cell_type": "code",
      "metadata": {
        "id": "qYupPhlQ5on-"
      },
      "source": [
        "creditcardfraud = pd.read_csv('creditcard.csv')"
      ],
      "execution_count": 4,
      "outputs": []
    },
    {
      "cell_type": "markdown",
      "metadata": {
        "id": "TTVXMb9n9Eta"
      },
      "source": [
        "## EDA and Pre-Processing"
      ]
    },
    {
      "cell_type": "code",
      "metadata": {
        "colab": {
          "base_uri": "https://localhost:8080/",
          "height": 223
        },
        "id": "_D2Z114F5qcD",
        "outputId": "683751a7-3722-47d9-e662-a7f18024906d"
      },
      "source": [
        "creditcardfraud.head()"
      ],
      "execution_count": 5,
      "outputs": [
        {
          "output_type": "execute_result",
          "data": {
            "text/html": [
              "<div>\n",
              "<style scoped>\n",
              "    .dataframe tbody tr th:only-of-type {\n",
              "        vertical-align: middle;\n",
              "    }\n",
              "\n",
              "    .dataframe tbody tr th {\n",
              "        vertical-align: top;\n",
              "    }\n",
              "\n",
              "    .dataframe thead th {\n",
              "        text-align: right;\n",
              "    }\n",
              "</style>\n",
              "<table border=\"1\" class=\"dataframe\">\n",
              "  <thead>\n",
              "    <tr style=\"text-align: right;\">\n",
              "      <th></th>\n",
              "      <th>Time</th>\n",
              "      <th>V1</th>\n",
              "      <th>V2</th>\n",
              "      <th>V3</th>\n",
              "      <th>V4</th>\n",
              "      <th>V5</th>\n",
              "      <th>V6</th>\n",
              "      <th>V7</th>\n",
              "      <th>V8</th>\n",
              "      <th>V9</th>\n",
              "      <th>V10</th>\n",
              "      <th>V11</th>\n",
              "      <th>V12</th>\n",
              "      <th>V13</th>\n",
              "      <th>V14</th>\n",
              "      <th>V15</th>\n",
              "      <th>V16</th>\n",
              "      <th>V17</th>\n",
              "      <th>V18</th>\n",
              "      <th>V19</th>\n",
              "      <th>V20</th>\n",
              "      <th>V21</th>\n",
              "      <th>V22</th>\n",
              "      <th>V23</th>\n",
              "      <th>V24</th>\n",
              "      <th>V25</th>\n",
              "      <th>V26</th>\n",
              "      <th>V27</th>\n",
              "      <th>V28</th>\n",
              "      <th>Amount</th>\n",
              "      <th>Class</th>\n",
              "    </tr>\n",
              "  </thead>\n",
              "  <tbody>\n",
              "    <tr>\n",
              "      <th>0</th>\n",
              "      <td>0.0</td>\n",
              "      <td>-1.359807</td>\n",
              "      <td>-0.072781</td>\n",
              "      <td>2.536347</td>\n",
              "      <td>1.378155</td>\n",
              "      <td>-0.338321</td>\n",
              "      <td>0.462388</td>\n",
              "      <td>0.239599</td>\n",
              "      <td>0.098698</td>\n",
              "      <td>0.363787</td>\n",
              "      <td>0.090794</td>\n",
              "      <td>-0.551600</td>\n",
              "      <td>-0.617801</td>\n",
              "      <td>-0.991390</td>\n",
              "      <td>-0.311169</td>\n",
              "      <td>1.468177</td>\n",
              "      <td>-0.470401</td>\n",
              "      <td>0.207971</td>\n",
              "      <td>0.025791</td>\n",
              "      <td>0.403993</td>\n",
              "      <td>0.251412</td>\n",
              "      <td>-0.018307</td>\n",
              "      <td>0.277838</td>\n",
              "      <td>-0.110474</td>\n",
              "      <td>0.066928</td>\n",
              "      <td>0.128539</td>\n",
              "      <td>-0.189115</td>\n",
              "      <td>0.133558</td>\n",
              "      <td>-0.021053</td>\n",
              "      <td>149.62</td>\n",
              "      <td>0</td>\n",
              "    </tr>\n",
              "    <tr>\n",
              "      <th>1</th>\n",
              "      <td>0.0</td>\n",
              "      <td>1.191857</td>\n",
              "      <td>0.266151</td>\n",
              "      <td>0.166480</td>\n",
              "      <td>0.448154</td>\n",
              "      <td>0.060018</td>\n",
              "      <td>-0.082361</td>\n",
              "      <td>-0.078803</td>\n",
              "      <td>0.085102</td>\n",
              "      <td>-0.255425</td>\n",
              "      <td>-0.166974</td>\n",
              "      <td>1.612727</td>\n",
              "      <td>1.065235</td>\n",
              "      <td>0.489095</td>\n",
              "      <td>-0.143772</td>\n",
              "      <td>0.635558</td>\n",
              "      <td>0.463917</td>\n",
              "      <td>-0.114805</td>\n",
              "      <td>-0.183361</td>\n",
              "      <td>-0.145783</td>\n",
              "      <td>-0.069083</td>\n",
              "      <td>-0.225775</td>\n",
              "      <td>-0.638672</td>\n",
              "      <td>0.101288</td>\n",
              "      <td>-0.339846</td>\n",
              "      <td>0.167170</td>\n",
              "      <td>0.125895</td>\n",
              "      <td>-0.008983</td>\n",
              "      <td>0.014724</td>\n",
              "      <td>2.69</td>\n",
              "      <td>0</td>\n",
              "    </tr>\n",
              "    <tr>\n",
              "      <th>2</th>\n",
              "      <td>1.0</td>\n",
              "      <td>-1.358354</td>\n",
              "      <td>-1.340163</td>\n",
              "      <td>1.773209</td>\n",
              "      <td>0.379780</td>\n",
              "      <td>-0.503198</td>\n",
              "      <td>1.800499</td>\n",
              "      <td>0.791461</td>\n",
              "      <td>0.247676</td>\n",
              "      <td>-1.514654</td>\n",
              "      <td>0.207643</td>\n",
              "      <td>0.624501</td>\n",
              "      <td>0.066084</td>\n",
              "      <td>0.717293</td>\n",
              "      <td>-0.165946</td>\n",
              "      <td>2.345865</td>\n",
              "      <td>-2.890083</td>\n",
              "      <td>1.109969</td>\n",
              "      <td>-0.121359</td>\n",
              "      <td>-2.261857</td>\n",
              "      <td>0.524980</td>\n",
              "      <td>0.247998</td>\n",
              "      <td>0.771679</td>\n",
              "      <td>0.909412</td>\n",
              "      <td>-0.689281</td>\n",
              "      <td>-0.327642</td>\n",
              "      <td>-0.139097</td>\n",
              "      <td>-0.055353</td>\n",
              "      <td>-0.059752</td>\n",
              "      <td>378.66</td>\n",
              "      <td>0</td>\n",
              "    </tr>\n",
              "    <tr>\n",
              "      <th>3</th>\n",
              "      <td>1.0</td>\n",
              "      <td>-0.966272</td>\n",
              "      <td>-0.185226</td>\n",
              "      <td>1.792993</td>\n",
              "      <td>-0.863291</td>\n",
              "      <td>-0.010309</td>\n",
              "      <td>1.247203</td>\n",
              "      <td>0.237609</td>\n",
              "      <td>0.377436</td>\n",
              "      <td>-1.387024</td>\n",
              "      <td>-0.054952</td>\n",
              "      <td>-0.226487</td>\n",
              "      <td>0.178228</td>\n",
              "      <td>0.507757</td>\n",
              "      <td>-0.287924</td>\n",
              "      <td>-0.631418</td>\n",
              "      <td>-1.059647</td>\n",
              "      <td>-0.684093</td>\n",
              "      <td>1.965775</td>\n",
              "      <td>-1.232622</td>\n",
              "      <td>-0.208038</td>\n",
              "      <td>-0.108300</td>\n",
              "      <td>0.005274</td>\n",
              "      <td>-0.190321</td>\n",
              "      <td>-1.175575</td>\n",
              "      <td>0.647376</td>\n",
              "      <td>-0.221929</td>\n",
              "      <td>0.062723</td>\n",
              "      <td>0.061458</td>\n",
              "      <td>123.50</td>\n",
              "      <td>0</td>\n",
              "    </tr>\n",
              "    <tr>\n",
              "      <th>4</th>\n",
              "      <td>2.0</td>\n",
              "      <td>-1.158233</td>\n",
              "      <td>0.877737</td>\n",
              "      <td>1.548718</td>\n",
              "      <td>0.403034</td>\n",
              "      <td>-0.407193</td>\n",
              "      <td>0.095921</td>\n",
              "      <td>0.592941</td>\n",
              "      <td>-0.270533</td>\n",
              "      <td>0.817739</td>\n",
              "      <td>0.753074</td>\n",
              "      <td>-0.822843</td>\n",
              "      <td>0.538196</td>\n",
              "      <td>1.345852</td>\n",
              "      <td>-1.119670</td>\n",
              "      <td>0.175121</td>\n",
              "      <td>-0.451449</td>\n",
              "      <td>-0.237033</td>\n",
              "      <td>-0.038195</td>\n",
              "      <td>0.803487</td>\n",
              "      <td>0.408542</td>\n",
              "      <td>-0.009431</td>\n",
              "      <td>0.798278</td>\n",
              "      <td>-0.137458</td>\n",
              "      <td>0.141267</td>\n",
              "      <td>-0.206010</td>\n",
              "      <td>0.502292</td>\n",
              "      <td>0.219422</td>\n",
              "      <td>0.215153</td>\n",
              "      <td>69.99</td>\n",
              "      <td>0</td>\n",
              "    </tr>\n",
              "  </tbody>\n",
              "</table>\n",
              "</div>"
            ],
            "text/plain": [
              "   Time        V1        V2        V3  ...       V27       V28  Amount  Class\n",
              "0   0.0 -1.359807 -0.072781  2.536347  ...  0.133558 -0.021053  149.62      0\n",
              "1   0.0  1.191857  0.266151  0.166480  ... -0.008983  0.014724    2.69      0\n",
              "2   1.0 -1.358354 -1.340163  1.773209  ... -0.055353 -0.059752  378.66      0\n",
              "3   1.0 -0.966272 -0.185226  1.792993  ...  0.062723  0.061458  123.50      0\n",
              "4   2.0 -1.158233  0.877737  1.548718  ...  0.219422  0.215153   69.99      0\n",
              "\n",
              "[5 rows x 31 columns]"
            ]
          },
          "metadata": {},
          "execution_count": 5
        }
      ]
    },
    {
      "cell_type": "code",
      "metadata": {
        "colab": {
          "base_uri": "https://localhost:8080/"
        },
        "id": "LVz_r4Es508A",
        "outputId": "aeafd0e2-e584-486b-b2a5-95ab7966da63"
      },
      "source": [
        "creditcardfraud.shape"
      ],
      "execution_count": 6,
      "outputs": [
        {
          "output_type": "execute_result",
          "data": {
            "text/plain": [
              "(284807, 31)"
            ]
          },
          "metadata": {},
          "execution_count": 6
        }
      ]
    },
    {
      "cell_type": "code",
      "metadata": {
        "colab": {
          "base_uri": "https://localhost:8080/"
        },
        "id": "JwSRBdez6G-L",
        "outputId": "8b88b791-b5b2-4f87-aa0d-69ea0bf7252f"
      },
      "source": [
        "creditcardfraud.info()"
      ],
      "execution_count": 7,
      "outputs": [
        {
          "output_type": "stream",
          "name": "stdout",
          "text": [
            "<class 'pandas.core.frame.DataFrame'>\n",
            "RangeIndex: 284807 entries, 0 to 284806\n",
            "Data columns (total 31 columns):\n",
            " #   Column  Non-Null Count   Dtype  \n",
            "---  ------  --------------   -----  \n",
            " 0   Time    284807 non-null  float64\n",
            " 1   V1      284807 non-null  float64\n",
            " 2   V2      284807 non-null  float64\n",
            " 3   V3      284807 non-null  float64\n",
            " 4   V4      284807 non-null  float64\n",
            " 5   V5      284807 non-null  float64\n",
            " 6   V6      284807 non-null  float64\n",
            " 7   V7      284807 non-null  float64\n",
            " 8   V8      284807 non-null  float64\n",
            " 9   V9      284807 non-null  float64\n",
            " 10  V10     284807 non-null  float64\n",
            " 11  V11     284807 non-null  float64\n",
            " 12  V12     284807 non-null  float64\n",
            " 13  V13     284807 non-null  float64\n",
            " 14  V14     284807 non-null  float64\n",
            " 15  V15     284807 non-null  float64\n",
            " 16  V16     284807 non-null  float64\n",
            " 17  V17     284807 non-null  float64\n",
            " 18  V18     284807 non-null  float64\n",
            " 19  V19     284807 non-null  float64\n",
            " 20  V20     284807 non-null  float64\n",
            " 21  V21     284807 non-null  float64\n",
            " 22  V22     284807 non-null  float64\n",
            " 23  V23     284807 non-null  float64\n",
            " 24  V24     284807 non-null  float64\n",
            " 25  V25     284807 non-null  float64\n",
            " 26  V26     284807 non-null  float64\n",
            " 27  V27     284807 non-null  float64\n",
            " 28  V28     284807 non-null  float64\n",
            " 29  Amount  284807 non-null  float64\n",
            " 30  Class   284807 non-null  int64  \n",
            "dtypes: float64(30), int64(1)\n",
            "memory usage: 67.4 MB\n"
          ]
        }
      ]
    },
    {
      "cell_type": "markdown",
      "metadata": {
        "id": "ORCEkXRF-K0p"
      },
      "source": [
        "### Transforming the time column to extract time taken by each transaction"
      ]
    },
    {
      "cell_type": "code",
      "metadata": {
        "id": "k8fzQlC36Q5h"
      },
      "source": [
        "creditcardfraud.Time = creditcardfraud.Time.diff().fillna(creditcardfraud.Time)"
      ],
      "execution_count": 8,
      "outputs": []
    },
    {
      "cell_type": "code",
      "metadata": {
        "colab": {
          "base_uri": "https://localhost:8080/",
          "height": 315
        },
        "id": "9kQJ6GZU76QR",
        "outputId": "b99ac346-4485-4c89-c5a4-a6b174d728aa"
      },
      "source": [
        "creditcardfraud.describe()"
      ],
      "execution_count": 9,
      "outputs": [
        {
          "output_type": "execute_result",
          "data": {
            "text/html": [
              "<div>\n",
              "<style scoped>\n",
              "    .dataframe tbody tr th:only-of-type {\n",
              "        vertical-align: middle;\n",
              "    }\n",
              "\n",
              "    .dataframe tbody tr th {\n",
              "        vertical-align: top;\n",
              "    }\n",
              "\n",
              "    .dataframe thead th {\n",
              "        text-align: right;\n",
              "    }\n",
              "</style>\n",
              "<table border=\"1\" class=\"dataframe\">\n",
              "  <thead>\n",
              "    <tr style=\"text-align: right;\">\n",
              "      <th></th>\n",
              "      <th>Time</th>\n",
              "      <th>V1</th>\n",
              "      <th>V2</th>\n",
              "      <th>V3</th>\n",
              "      <th>V4</th>\n",
              "      <th>V5</th>\n",
              "      <th>V6</th>\n",
              "      <th>V7</th>\n",
              "      <th>V8</th>\n",
              "      <th>V9</th>\n",
              "      <th>V10</th>\n",
              "      <th>V11</th>\n",
              "      <th>V12</th>\n",
              "      <th>V13</th>\n",
              "      <th>V14</th>\n",
              "      <th>V15</th>\n",
              "      <th>V16</th>\n",
              "      <th>V17</th>\n",
              "      <th>V18</th>\n",
              "      <th>V19</th>\n",
              "      <th>V20</th>\n",
              "      <th>V21</th>\n",
              "      <th>V22</th>\n",
              "      <th>V23</th>\n",
              "      <th>V24</th>\n",
              "      <th>V25</th>\n",
              "      <th>V26</th>\n",
              "      <th>V27</th>\n",
              "      <th>V28</th>\n",
              "      <th>Amount</th>\n",
              "      <th>Class</th>\n",
              "    </tr>\n",
              "  </thead>\n",
              "  <tbody>\n",
              "    <tr>\n",
              "      <th>count</th>\n",
              "      <td>284807.000000</td>\n",
              "      <td>2.848070e+05</td>\n",
              "      <td>2.848070e+05</td>\n",
              "      <td>2.848070e+05</td>\n",
              "      <td>2.848070e+05</td>\n",
              "      <td>2.848070e+05</td>\n",
              "      <td>2.848070e+05</td>\n",
              "      <td>2.848070e+05</td>\n",
              "      <td>2.848070e+05</td>\n",
              "      <td>2.848070e+05</td>\n",
              "      <td>2.848070e+05</td>\n",
              "      <td>2.848070e+05</td>\n",
              "      <td>2.848070e+05</td>\n",
              "      <td>2.848070e+05</td>\n",
              "      <td>2.848070e+05</td>\n",
              "      <td>2.848070e+05</td>\n",
              "      <td>2.848070e+05</td>\n",
              "      <td>2.848070e+05</td>\n",
              "      <td>2.848070e+05</td>\n",
              "      <td>2.848070e+05</td>\n",
              "      <td>2.848070e+05</td>\n",
              "      <td>2.848070e+05</td>\n",
              "      <td>2.848070e+05</td>\n",
              "      <td>2.848070e+05</td>\n",
              "      <td>2.848070e+05</td>\n",
              "      <td>2.848070e+05</td>\n",
              "      <td>2.848070e+05</td>\n",
              "      <td>2.848070e+05</td>\n",
              "      <td>2.848070e+05</td>\n",
              "      <td>284807.000000</td>\n",
              "      <td>284807.000000</td>\n",
              "    </tr>\n",
              "    <tr>\n",
              "      <th>mean</th>\n",
              "      <td>0.606699</td>\n",
              "      <td>3.919560e-15</td>\n",
              "      <td>5.688174e-16</td>\n",
              "      <td>-8.769071e-15</td>\n",
              "      <td>2.782312e-15</td>\n",
              "      <td>-1.552563e-15</td>\n",
              "      <td>2.010663e-15</td>\n",
              "      <td>-1.694249e-15</td>\n",
              "      <td>-1.927028e-16</td>\n",
              "      <td>-3.137024e-15</td>\n",
              "      <td>1.768627e-15</td>\n",
              "      <td>9.170318e-16</td>\n",
              "      <td>-1.810658e-15</td>\n",
              "      <td>1.693438e-15</td>\n",
              "      <td>1.479045e-15</td>\n",
              "      <td>3.482336e-15</td>\n",
              "      <td>1.392007e-15</td>\n",
              "      <td>-7.528491e-16</td>\n",
              "      <td>4.328772e-16</td>\n",
              "      <td>9.049732e-16</td>\n",
              "      <td>5.085503e-16</td>\n",
              "      <td>1.537294e-16</td>\n",
              "      <td>7.959909e-16</td>\n",
              "      <td>5.367590e-16</td>\n",
              "      <td>4.458112e-15</td>\n",
              "      <td>1.453003e-15</td>\n",
              "      <td>1.699104e-15</td>\n",
              "      <td>-3.660161e-16</td>\n",
              "      <td>-1.206049e-16</td>\n",
              "      <td>88.349619</td>\n",
              "      <td>0.001727</td>\n",
              "    </tr>\n",
              "    <tr>\n",
              "      <th>std</th>\n",
              "      <td>1.053380</td>\n",
              "      <td>1.958696e+00</td>\n",
              "      <td>1.651309e+00</td>\n",
              "      <td>1.516255e+00</td>\n",
              "      <td>1.415869e+00</td>\n",
              "      <td>1.380247e+00</td>\n",
              "      <td>1.332271e+00</td>\n",
              "      <td>1.237094e+00</td>\n",
              "      <td>1.194353e+00</td>\n",
              "      <td>1.098632e+00</td>\n",
              "      <td>1.088850e+00</td>\n",
              "      <td>1.020713e+00</td>\n",
              "      <td>9.992014e-01</td>\n",
              "      <td>9.952742e-01</td>\n",
              "      <td>9.585956e-01</td>\n",
              "      <td>9.153160e-01</td>\n",
              "      <td>8.762529e-01</td>\n",
              "      <td>8.493371e-01</td>\n",
              "      <td>8.381762e-01</td>\n",
              "      <td>8.140405e-01</td>\n",
              "      <td>7.709250e-01</td>\n",
              "      <td>7.345240e-01</td>\n",
              "      <td>7.257016e-01</td>\n",
              "      <td>6.244603e-01</td>\n",
              "      <td>6.056471e-01</td>\n",
              "      <td>5.212781e-01</td>\n",
              "      <td>4.822270e-01</td>\n",
              "      <td>4.036325e-01</td>\n",
              "      <td>3.300833e-01</td>\n",
              "      <td>250.120109</td>\n",
              "      <td>0.041527</td>\n",
              "    </tr>\n",
              "    <tr>\n",
              "      <th>min</th>\n",
              "      <td>0.000000</td>\n",
              "      <td>-5.640751e+01</td>\n",
              "      <td>-7.271573e+01</td>\n",
              "      <td>-4.832559e+01</td>\n",
              "      <td>-5.683171e+00</td>\n",
              "      <td>-1.137433e+02</td>\n",
              "      <td>-2.616051e+01</td>\n",
              "      <td>-4.355724e+01</td>\n",
              "      <td>-7.321672e+01</td>\n",
              "      <td>-1.343407e+01</td>\n",
              "      <td>-2.458826e+01</td>\n",
              "      <td>-4.797473e+00</td>\n",
              "      <td>-1.868371e+01</td>\n",
              "      <td>-5.791881e+00</td>\n",
              "      <td>-1.921433e+01</td>\n",
              "      <td>-4.498945e+00</td>\n",
              "      <td>-1.412985e+01</td>\n",
              "      <td>-2.516280e+01</td>\n",
              "      <td>-9.498746e+00</td>\n",
              "      <td>-7.213527e+00</td>\n",
              "      <td>-5.449772e+01</td>\n",
              "      <td>-3.483038e+01</td>\n",
              "      <td>-1.093314e+01</td>\n",
              "      <td>-4.480774e+01</td>\n",
              "      <td>-2.836627e+00</td>\n",
              "      <td>-1.029540e+01</td>\n",
              "      <td>-2.604551e+00</td>\n",
              "      <td>-2.256568e+01</td>\n",
              "      <td>-1.543008e+01</td>\n",
              "      <td>0.000000</td>\n",
              "      <td>0.000000</td>\n",
              "    </tr>\n",
              "    <tr>\n",
              "      <th>25%</th>\n",
              "      <td>0.000000</td>\n",
              "      <td>-9.203734e-01</td>\n",
              "      <td>-5.985499e-01</td>\n",
              "      <td>-8.903648e-01</td>\n",
              "      <td>-8.486401e-01</td>\n",
              "      <td>-6.915971e-01</td>\n",
              "      <td>-7.682956e-01</td>\n",
              "      <td>-5.540759e-01</td>\n",
              "      <td>-2.086297e-01</td>\n",
              "      <td>-6.430976e-01</td>\n",
              "      <td>-5.354257e-01</td>\n",
              "      <td>-7.624942e-01</td>\n",
              "      <td>-4.055715e-01</td>\n",
              "      <td>-6.485393e-01</td>\n",
              "      <td>-4.255740e-01</td>\n",
              "      <td>-5.828843e-01</td>\n",
              "      <td>-4.680368e-01</td>\n",
              "      <td>-4.837483e-01</td>\n",
              "      <td>-4.988498e-01</td>\n",
              "      <td>-4.562989e-01</td>\n",
              "      <td>-2.117214e-01</td>\n",
              "      <td>-2.283949e-01</td>\n",
              "      <td>-5.423504e-01</td>\n",
              "      <td>-1.618463e-01</td>\n",
              "      <td>-3.545861e-01</td>\n",
              "      <td>-3.171451e-01</td>\n",
              "      <td>-3.269839e-01</td>\n",
              "      <td>-7.083953e-02</td>\n",
              "      <td>-5.295979e-02</td>\n",
              "      <td>5.600000</td>\n",
              "      <td>0.000000</td>\n",
              "    </tr>\n",
              "    <tr>\n",
              "      <th>50%</th>\n",
              "      <td>0.000000</td>\n",
              "      <td>1.810880e-02</td>\n",
              "      <td>6.548556e-02</td>\n",
              "      <td>1.798463e-01</td>\n",
              "      <td>-1.984653e-02</td>\n",
              "      <td>-5.433583e-02</td>\n",
              "      <td>-2.741871e-01</td>\n",
              "      <td>4.010308e-02</td>\n",
              "      <td>2.235804e-02</td>\n",
              "      <td>-5.142873e-02</td>\n",
              "      <td>-9.291738e-02</td>\n",
              "      <td>-3.275735e-02</td>\n",
              "      <td>1.400326e-01</td>\n",
              "      <td>-1.356806e-02</td>\n",
              "      <td>5.060132e-02</td>\n",
              "      <td>4.807155e-02</td>\n",
              "      <td>6.641332e-02</td>\n",
              "      <td>-6.567575e-02</td>\n",
              "      <td>-3.636312e-03</td>\n",
              "      <td>3.734823e-03</td>\n",
              "      <td>-6.248109e-02</td>\n",
              "      <td>-2.945017e-02</td>\n",
              "      <td>6.781943e-03</td>\n",
              "      <td>-1.119293e-02</td>\n",
              "      <td>4.097606e-02</td>\n",
              "      <td>1.659350e-02</td>\n",
              "      <td>-5.213911e-02</td>\n",
              "      <td>1.342146e-03</td>\n",
              "      <td>1.124383e-02</td>\n",
              "      <td>22.000000</td>\n",
              "      <td>0.000000</td>\n",
              "    </tr>\n",
              "    <tr>\n",
              "      <th>75%</th>\n",
              "      <td>1.000000</td>\n",
              "      <td>1.315642e+00</td>\n",
              "      <td>8.037239e-01</td>\n",
              "      <td>1.027196e+00</td>\n",
              "      <td>7.433413e-01</td>\n",
              "      <td>6.119264e-01</td>\n",
              "      <td>3.985649e-01</td>\n",
              "      <td>5.704361e-01</td>\n",
              "      <td>3.273459e-01</td>\n",
              "      <td>5.971390e-01</td>\n",
              "      <td>4.539234e-01</td>\n",
              "      <td>7.395934e-01</td>\n",
              "      <td>6.182380e-01</td>\n",
              "      <td>6.625050e-01</td>\n",
              "      <td>4.931498e-01</td>\n",
              "      <td>6.488208e-01</td>\n",
              "      <td>5.232963e-01</td>\n",
              "      <td>3.996750e-01</td>\n",
              "      <td>5.008067e-01</td>\n",
              "      <td>4.589494e-01</td>\n",
              "      <td>1.330408e-01</td>\n",
              "      <td>1.863772e-01</td>\n",
              "      <td>5.285536e-01</td>\n",
              "      <td>1.476421e-01</td>\n",
              "      <td>4.395266e-01</td>\n",
              "      <td>3.507156e-01</td>\n",
              "      <td>2.409522e-01</td>\n",
              "      <td>9.104512e-02</td>\n",
              "      <td>7.827995e-02</td>\n",
              "      <td>77.165000</td>\n",
              "      <td>0.000000</td>\n",
              "    </tr>\n",
              "    <tr>\n",
              "      <th>max</th>\n",
              "      <td>32.000000</td>\n",
              "      <td>2.454930e+00</td>\n",
              "      <td>2.205773e+01</td>\n",
              "      <td>9.382558e+00</td>\n",
              "      <td>1.687534e+01</td>\n",
              "      <td>3.480167e+01</td>\n",
              "      <td>7.330163e+01</td>\n",
              "      <td>1.205895e+02</td>\n",
              "      <td>2.000721e+01</td>\n",
              "      <td>1.559499e+01</td>\n",
              "      <td>2.374514e+01</td>\n",
              "      <td>1.201891e+01</td>\n",
              "      <td>7.848392e+00</td>\n",
              "      <td>7.126883e+00</td>\n",
              "      <td>1.052677e+01</td>\n",
              "      <td>8.877742e+00</td>\n",
              "      <td>1.731511e+01</td>\n",
              "      <td>9.253526e+00</td>\n",
              "      <td>5.041069e+00</td>\n",
              "      <td>5.591971e+00</td>\n",
              "      <td>3.942090e+01</td>\n",
              "      <td>2.720284e+01</td>\n",
              "      <td>1.050309e+01</td>\n",
              "      <td>2.252841e+01</td>\n",
              "      <td>4.584549e+00</td>\n",
              "      <td>7.519589e+00</td>\n",
              "      <td>3.517346e+00</td>\n",
              "      <td>3.161220e+01</td>\n",
              "      <td>3.384781e+01</td>\n",
              "      <td>25691.160000</td>\n",
              "      <td>1.000000</td>\n",
              "    </tr>\n",
              "  </tbody>\n",
              "</table>\n",
              "</div>"
            ],
            "text/plain": [
              "                Time            V1  ...         Amount          Class\n",
              "count  284807.000000  2.848070e+05  ...  284807.000000  284807.000000\n",
              "mean        0.606699  3.919560e-15  ...      88.349619       0.001727\n",
              "std         1.053380  1.958696e+00  ...     250.120109       0.041527\n",
              "min         0.000000 -5.640751e+01  ...       0.000000       0.000000\n",
              "25%         0.000000 -9.203734e-01  ...       5.600000       0.000000\n",
              "50%         0.000000  1.810880e-02  ...      22.000000       0.000000\n",
              "75%         1.000000  1.315642e+00  ...      77.165000       0.000000\n",
              "max        32.000000  2.454930e+00  ...   25691.160000       1.000000\n",
              "\n",
              "[8 rows x 31 columns]"
            ]
          },
          "metadata": {},
          "execution_count": 9
        }
      ]
    },
    {
      "cell_type": "code",
      "metadata": {
        "id": "2PIT7RHm8kPP",
        "colab": {
          "base_uri": "https://localhost:8080/",
          "height": 279
        },
        "outputId": "268d4ff4-3f33-4bed-bb61-dc5e8bc1d2a2"
      },
      "source": [
        "sns.countplot(x='Class',data=creditcardfraud)\n",
        "plt.show()"
      ],
      "execution_count": 10,
      "outputs": [
        {
          "output_type": "display_data",
          "data": {
            "image/png": "[encoded data removed]",
            "text/plain": [
              "<Figure size 432x288 with 1 Axes>"
            ]
          },
          "metadata": {
            "needs_background": "light"
          }
        }
      ]
    },
    {
      "cell_type": "markdown",
      "metadata": {
        "id": "_tTVePdrgpD0"
      },
      "source": [
        "## From the above plot it's clear that the dataset is imbalanced"
      ]
    },
    {
      "cell_type": "markdown",
      "metadata": {
        "id": "wj0Wyw_gwwiw"
      },
      "source": [
        "## Creating X and y(target) from the dataset"
      ]
    },
    {
      "cell_type": "code",
      "metadata": {
        "id": "MbFeGQ9ykght"
      },
      "source": [
        "X = creditcardfraud.drop(columns='Class')\n",
        "y = creditcardfraud.Class"
      ],
      "execution_count": 11,
      "outputs": []
    },
    {
      "cell_type": "markdown",
      "metadata": {
        "id": "pejBCrRKDw8I"
      },
      "source": [
        "### splitting the dataset into train and test "
      ]
    },
    {
      "cell_type": "code",
      "metadata": {
        "id": "jEs-5hzokTnR"
      },
      "source": [
        "X_train, X_test, y_train, y_test = train_test_split(X,y,test_size=0.30)"
      ],
      "execution_count": null,
      "outputs": []
    },
    {
      "cell_type": "markdown",
      "metadata": {
        "id": "bbtFkH4eEDgb"
      },
      "source": [
        "## initializing SMOTE to make the dataset balanced"
      ]
    },
    {
      "cell_type": "code",
      "metadata": {
        "id": "jsSCnvHNgvOP"
      },
      "source": [
        "SMOTE = SMOTE()"
      ],
      "execution_count": null,
      "outputs": []
    },
    {
      "cell_type": "markdown",
      "metadata": {
        "id": "wG2XwdW1EKED"
      },
      "source": [
        "### Creating balanced train data from the dataset"
      ]
    },
    {
      "cell_type": "code",
      "metadata": {
        "id": "Y-bGueOukHk5"
      },
      "source": [
        "X_train_SMOTE, y_train_SMOTE = SMOTE.fit_resample(X_train, y_train)"
      ],
      "execution_count": null,
      "outputs": []
    },
    {
      "cell_type": "markdown",
      "metadata": {
        "id": "FWsmS1JeEc4a"
      },
      "source": [
        "### Creating a dataframe from the SMOTE numpy arrays for processing"
      ]
    },
    {
      "cell_type": "code",
      "metadata": {
        "id": "OE8Tafq5ozs7"
      },
      "source": [
        "X_train_SMOTE = pd.DataFrame(X_train_SMOTE, columns=X_train.columns)"
      ],
      "execution_count": null,
      "outputs": []
    },
    {
      "cell_type": "code",
      "metadata": {
        "id": "uMxvQdoFFOJR"
      },
      "source": [
        "### initializing a logistic regression model and rfe for selecting top 15 features"
      ],
      "execution_count": null,
      "outputs": []
    },
    {
      "cell_type": "code",
      "metadata": {
        "id": "xLXwu3Avkna4"
      },
      "source": [
        "logreg = LogisticRegression()\n",
        "rfe = RFE(logreg, 15)             # running RFE with 15 variables as output\n",
        "rfe = rfe.fit(X_train_SMOTE, y_train_SMOTE)"
      ],
      "execution_count": null,
      "outputs": []
    },
    {
      "cell_type": "code",
      "metadata": {
        "id": "92n4yh0zltyA",
        "colab": {
          "base_uri": "https://localhost:8080/"
        },
        "outputId": "f5a3a04f-f180-4424-f9de-a58cdb38569c"
      },
      "source": [
        "list(zip(X_train_SMOTE.columns, rfe.support_, rfe.ranking_))"
      ],
      "execution_count": null,
      "outputs": [
        {
          "output_type": "execute_result",
          "data": {
            "text/plain": [
              "[('Time', False, 6),\n",
              " ('V1', False, 2),\n",
              " ('V2', False, 11),\n",
              " ('V3', False, 5),\n",
              " ('V4', True, 1),\n",
              " ('V5', False, 7),\n",
              " ('V6', True, 1),\n",
              " ('V7', False, 15),\n",
              " ('V8', True, 1),\n",
              " ('V9', True, 1),\n",
              " ('V10', True, 1),\n",
              " ('V11', True, 1),\n",
              " ('V12', True, 1),\n",
              " ('V13', True, 1),\n",
              " ('V14', True, 1),\n",
              " ('V15', False, 14),\n",
              " ('V16', True, 1),\n",
              " ('V17', True, 1),\n",
              " ('V18', True, 1),\n",
              " ('V19', False, 3),\n",
              " ('V20', False, 12),\n",
              " ('V21', False, 13),\n",
              " ('V22', False, 8),\n",
              " ('V23', False, 4),\n",
              " ('V24', False, 10),\n",
              " ('V25', True, 1),\n",
              " ('V26', False, 9),\n",
              " ('V27', True, 1),\n",
              " ('V28', True, 1),\n",
              " ('Amount', False, 16)]"
            ]
          },
          "metadata": {},
          "execution_count": 18
        }
      ]
    },
    {
      "cell_type": "code",
      "metadata": {
        "id": "Zq9vXfh3mAHW"
      },
      "source": [
        "col = X_train_SMOTE.columns[rfe.support_]"
      ],
      "execution_count": null,
      "outputs": []
    },
    {
      "cell_type": "code",
      "metadata": {
        "id": "aT_SdaYNmDIL",
        "colab": {
          "base_uri": "https://localhost:8080/"
        },
        "outputId": "f2a660b9-a67e-43c4-e206-24ccfed6ec0f"
      },
      "source": [
        "X_train_SMOTE.columns[~rfe.support_]"
      ],
      "execution_count": null,
      "outputs": [
        {
          "output_type": "execute_result",
          "data": {
            "text/plain": [
              "Index(['Time', 'V1', 'V2', 'V3', 'V5', 'V7', 'V15', 'V19', 'V20', 'V21', 'V22',\n",
              "       'V23', 'V24', 'V26', 'Amount'],\n",
              "      dtype='object')"
            ]
          },
          "metadata": {},
          "execution_count": 20
        }
      ]
    },
    {
      "cell_type": "markdown",
      "metadata": {
        "id": "5qNmpuGe_WZ4"
      },
      "source": [
        "# Defining several methods to be reused"
      ]
    },
    {
      "cell_type": "code",
      "metadata": {
        "id": "-nCarBVlOElA"
      },
      "source": [
        "# defining a method to generate a logistic model\n",
        "def get_logistic_model(X_train , columns , y_train):\n",
        "  X_train_sm = sm.add_constant(X_train[col])\n",
        "  logreg = sm.GLM(y_train,X_train_sm, family = sm.families.Binomial())\n",
        "  res = logreg.fit()\n",
        "  return res,X_train_sm"
      ],
      "execution_count": null,
      "outputs": []
    },
    {
      "cell_type": "code",
      "metadata": {
        "id": "Bnr4lNfCPbtW"
      },
      "source": [
        "# defining a method to generate the prediction dataset\n",
        "def get_prediction_dataset(res,X_train_sm,y_train_SMOTE,cutoff):\n",
        "  y_train_pred = res.predict(X_train_sm)\n",
        "  y_train_pred = y_train_pred.values.reshape(-1)\n",
        "  y_train_pred_final = pd.DataFrame({'Fraud':y_train_SMOTE, 'Fraud_Prob':y_train_pred})\n",
        "  y_train_pred_final['predicted'] = y_train_pred_final.Fraud_Prob.map(lambda x: 1 if x > cutoff else 0)\n",
        "  return y_train_pred_final"
      ],
      "execution_count": null,
      "outputs": []
    },
    {
      "cell_type": "code",
      "metadata": {
        "id": "YKOFarioT0De"
      },
      "source": [
        "# defining a method to genenate the confusion matrix\n",
        "def get_confusion_matrix(predictionmatrix):\n",
        "  confusion = metrics.confusion_matrix(predictionmatrix.Fraud, predictionmatrix.predicted )\n",
        "  return confusion"
      ],
      "execution_count": null,
      "outputs": []
    },
    {
      "cell_type": "code",
      "metadata": {
        "id": "eAOXCGeDUxpu"
      },
      "source": [
        "# defininf a method to get accuracy\n",
        "def get_accuracy(y_train_pred_final):\n",
        "  accuracy = metrics.accuracy_score(y_train_pred_final.Fraud, y_train_pred_final.predicted)\n",
        "  return accuracy"
      ],
      "execution_count": 18,
      "outputs": []
    },
    {
      "cell_type": "code",
      "metadata": {
        "id": "ag1RNwdIV_R2"
      },
      "source": [
        "# defining a method for getting VIF\n",
        "def get_vif(X_train,columns):\n",
        "  vif = pd.DataFrame()\n",
        "  vif['Features'] = X_train_SMOTE[col].columns\n",
        "  vif['VIF'] = [variance_inflation_factor(X_train_SMOTE[col].values, i) for i in range(X_train_SMOTE[col].shape[1])]\n",
        "  vif['VIF'] = round(vif['VIF'], 2)\n",
        "  vif = vif.sort_values(by = \"VIF\", ascending = False)\n",
        "  print(vif)"
      ],
      "execution_count": null,
      "outputs": []
    },
    {
      "cell_type": "code",
      "metadata": {
        "id": "rvglaM3Cfwzh"
      },
      "source": [
        "# defining a method to generate roc curve\n",
        "def draw_roc( actual, probs ):\n",
        "    fpr, tpr, thresholds = metrics.roc_curve( actual, probs,\n",
        "                                              drop_intermediate = False )\n",
        "    auc_score = metrics.roc_auc_score( actual, probs )\n",
        "    plt.figure(figsize=(5, 5))\n",
        "    plt.plot( fpr, tpr, label='ROC curve (area = %0.2f)' % auc_score )\n",
        "    plt.plot([0, 1], [0, 1], 'k--')\n",
        "    plt.xlim([0.0, 1.0])\n",
        "    plt.ylim([0.0, 1.05])\n",
        "    plt.xlabel('False Positive Rate or [1 - True Negative Rate]')\n",
        "    plt.ylabel('True Positive Rate')\n",
        "    plt.title('Receiver operating characteristic example')\n",
        "    plt.legend(loc=\"lower right\")\n",
        "    plt.show()\n",
        "\n",
        "    return None"
      ],
      "execution_count": null,
      "outputs": []
    },
    {
      "cell_type": "code",
      "metadata": {
        "id": "DrN9hCtajTkQ"
      },
      "source": [
        "# method which prints all the measures from a confusion matrix\n",
        "def get_all_measures(confusion):\n",
        "  TP = confusion[1,1] # true positive \n",
        "  TN = confusion[0,0] # true negatives\n",
        "  FP = confusion[0,1] # false positives\n",
        "  FN = confusion[1,0] # false negatives\n",
        "  sensitivity = TP / float(TP+FN)\n",
        "  specificity = TN / float(TN+FP)\n",
        "  false_positive_rate = FP/ float(TN+FP)\n",
        "  positive_predictive_value = TP / float(TP+FP)\n",
        "  negative_predictive_value = TN / float(TN+ FN)\n",
        "  precision = TP/(FP+TP)\n",
        "  recall = TP/(FN+TP)\n",
        "  print('Sensitivity is : ' + '{0:.2f}'.format(sensitivity) + '\\n')\n",
        "  print('specificity is : ' + '{0:.2f}'.format(specificity) + '\\n')\n",
        "  print('false_positive_rate is : ' + '{0:.2f}'.format(false_positive_rate) + '\\n')\n",
        "  print('negative_predictive_value is : ' + '{0:.2f}'.format(negative_predictive_value) + '\\n')\n",
        "  print('precision is : ' + '{0:.2f}'.format(precision) + '\\n')\n",
        "  print('recall is : ' + '{0:.2f}'.format(recall) + '\\n')"
      ],
      "execution_count": 19,
      "outputs": []
    },
    {
      "cell_type": "code",
      "metadata": {
        "id": "Y7-A0dmooMFa",
        "colab": {
          "base_uri": "https://localhost:8080/",
          "height": 567
        },
        "outputId": "6e2afe08-bf91-4e2d-8b8a-7597d0bb75d8"
      },
      "source": [
        "# creating a logistic regression with top 15 features that we got from RFE\n",
        "res,X_train_sm = get_logistic_model(X_train_SMOTE,col,y_train_SMOTE)\n",
        "res.summary()"
      ],
      "execution_count": null,
      "outputs": [
        {
          "output_type": "execute_result",
          "data": {
            "text/html": [
              "<table class=\"simpletable\">\n",
              "<caption>Generalized Linear Model Regression Results</caption>\n",
              "<tr>\n",
              "  <th>Dep. Variable:</th>           <td>y</td>        <th>  No. Observations:  </th>  <td>398030</td> \n",
              "</tr>\n",
              "<tr>\n",
              "  <th>Model:</th>                  <td>GLM</td>       <th>  Df Residuals:      </th>  <td>398014</td> \n",
              "</tr>\n",
              "<tr>\n",
              "  <th>Model Family:</th>        <td>Binomial</td>     <th>  Df Model:          </th>  <td>    15</td> \n",
              "</tr>\n",
              "<tr>\n",
              "  <th>Link Function:</th>         <td>logit</td>      <th>  Scale:             </th> <td>  1.0000</td>\n",
              "</tr>\n",
              "<tr>\n",
              "  <th>Method:</th>                <td>IRLS</td>       <th>  Log-Likelihood:    </th> <td>     nan</td>\n",
              "</tr>\n",
              "<tr>\n",
              "  <th>Date:</th>            <td>Tue, 14 Sep 2021</td> <th>  Deviance:          </th> <td>     nan</td>\n",
              "</tr>\n",
              "<tr>\n",
              "  <th>Time:</th>                <td>21:40:09</td>     <th>  Pearson chi2:      </th> <td>9.60e+16</td>\n",
              "</tr>\n",
              "<tr>\n",
              "  <th>No. Iterations:</th>         <td>100</td>       <th>                     </th>     <td> </td>   \n",
              "</tr>\n",
              "<tr>\n",
              "  <th>Covariance Type:</th>     <td>nonrobust</td>    <th>                     </th>     <td> </td>   \n",
              "</tr>\n",
              "</table>\n",
              "<table class=\"simpletable\">\n",
              "<tr>\n",
              "    <td></td>       <th>coef</th>     <th>std err</th>      <th>z</th>      <th>P>|z|</th>  <th>[0.025</th>    <th>0.975]</th>  \n",
              "</tr>\n",
              "<tr>\n",
              "  <th>const</th> <td>   -3.7739</td> <td>    0.016</td> <td> -238.841</td> <td> 0.000</td> <td>   -3.805</td> <td>   -3.743</td>\n",
              "</tr>\n",
              "<tr>\n",
              "  <th>V4</th>    <td>    0.8693</td> <td>    0.008</td> <td>  112.038</td> <td> 0.000</td> <td>    0.854</td> <td>    0.885</td>\n",
              "</tr>\n",
              "<tr>\n",
              "  <th>V6</th>    <td>   -0.2703</td> <td>    0.008</td> <td>  -32.461</td> <td> 0.000</td> <td>   -0.287</td> <td>   -0.254</td>\n",
              "</tr>\n",
              "<tr>\n",
              "  <th>V8</th>    <td>   -0.4313</td> <td>    0.007</td> <td>  -61.834</td> <td> 0.000</td> <td>   -0.445</td> <td>   -0.418</td>\n",
              "</tr>\n",
              "<tr>\n",
              "  <th>V9</th>    <td>   -0.3979</td> <td>    0.011</td> <td>  -36.250</td> <td> 0.000</td> <td>   -0.419</td> <td>   -0.376</td>\n",
              "</tr>\n",
              "<tr>\n",
              "  <th>V10</th>   <td>   -0.5749</td> <td>    0.012</td> <td>  -47.302</td> <td> 0.000</td> <td>   -0.599</td> <td>   -0.551</td>\n",
              "</tr>\n",
              "<tr>\n",
              "  <th>V11</th>   <td>    0.5102</td> <td>    0.011</td> <td>   46.487</td> <td> 0.000</td> <td>    0.489</td> <td>    0.532</td>\n",
              "</tr>\n",
              "<tr>\n",
              "  <th>V12</th>   <td>   -0.8566</td> <td>    0.013</td> <td>  -67.312</td> <td> 0.000</td> <td>   -0.882</td> <td>   -0.832</td>\n",
              "</tr>\n",
              "<tr>\n",
              "  <th>V13</th>   <td>   -0.2993</td> <td>    0.010</td> <td>  -28.761</td> <td> 0.000</td> <td>   -0.320</td> <td>   -0.279</td>\n",
              "</tr>\n",
              "<tr>\n",
              "  <th>V14</th>   <td>   -1.3536</td> <td>    0.013</td> <td> -107.264</td> <td> 0.000</td> <td>   -1.378</td> <td>   -1.329</td>\n",
              "</tr>\n",
              "<tr>\n",
              "  <th>V16</th>   <td>   -0.6128</td> <td>    0.014</td> <td>  -43.698</td> <td> 0.000</td> <td>   -0.640</td> <td>   -0.585</td>\n",
              "</tr>\n",
              "<tr>\n",
              "  <th>V17</th>   <td>   -0.5139</td> <td>    0.016</td> <td>  -31.770</td> <td> 0.000</td> <td>   -0.546</td> <td>   -0.482</td>\n",
              "</tr>\n",
              "<tr>\n",
              "  <th>V18</th>   <td>   -0.4409</td> <td>    0.014</td> <td>  -30.753</td> <td> 0.000</td> <td>   -0.469</td> <td>   -0.413</td>\n",
              "</tr>\n",
              "<tr>\n",
              "  <th>V25</th>   <td>    0.4616</td> <td>    0.019</td> <td>   24.250</td> <td> 0.000</td> <td>    0.424</td> <td>    0.499</td>\n",
              "</tr>\n",
              "<tr>\n",
              "  <th>V27</th>   <td>    0.3897</td> <td>    0.025</td> <td>   15.541</td> <td> 0.000</td> <td>    0.341</td> <td>    0.439</td>\n",
              "</tr>\n",
              "<tr>\n",
              "  <th>V28</th>   <td>    0.4971</td> <td>    0.031</td> <td>   16.088</td> <td> 0.000</td> <td>    0.437</td> <td>    0.558</td>\n",
              "</tr>\n",
              "</table>"
            ],
            "text/plain": [
              "<class 'statsmodels.iolib.summary.Summary'>\n",
              "\"\"\"\n",
              "                 Generalized Linear Model Regression Results                  \n",
              "==============================================================================\n",
              "Dep. Variable:                      y   No. Observations:               398030\n",
              "Model:                            GLM   Df Residuals:                   398014\n",
              "Model Family:                Binomial   Df Model:                           15\n",
              "Link Function:                  logit   Scale:                          1.0000\n",
              "Method:                          IRLS   Log-Likelihood:                    nan\n",
              "Date:                Tue, 14 Sep 2021   Deviance:                          nan\n",
              "Time:                        21:40:09   Pearson chi2:                 9.60e+16\n",
              "No. Iterations:                   100                                         \n",
              "Covariance Type:            nonrobust                                         \n",
              "==============================================================================\n",
              "                 coef    std err          z      P>|z|      [0.025      0.975]\n",
              "------------------------------------------------------------------------------\n",
              "const         -3.7739      0.016   -238.841      0.000      -3.805      -3.743\n",
              "V4             0.8693      0.008    112.038      0.000       0.854       0.885\n",
              "V6            -0.2703      0.008    -32.461      0.000      -0.287      -0.254\n",
              "V8            -0.4313      0.007    -61.834      0.000      -0.445      -0.418\n",
              "V9            -0.3979      0.011    -36.250      0.000      -0.419      -0.376\n",
              "V10           -0.5749      0.012    -47.302      0.000      -0.599      -0.551\n",
              "V11            0.5102      0.011     46.487      0.000       0.489       0.532\n",
              "V12           -0.8566      0.013    -67.312      0.000      -0.882      -0.832\n",
              "V13           -0.2993      0.010    -28.761      0.000      -0.320      -0.279\n",
              "V14           -1.3536      0.013   -107.264      0.000      -1.378      -1.329\n",
              "V16           -0.6128      0.014    -43.698      0.000      -0.640      -0.585\n",
              "V17           -0.5139      0.016    -31.770      0.000      -0.546      -0.482\n",
              "V18           -0.4409      0.014    -30.753      0.000      -0.469      -0.413\n",
              "V25            0.4616      0.019     24.250      0.000       0.424       0.499\n",
              "V27            0.3897      0.025     15.541      0.000       0.341       0.439\n",
              "V28            0.4971      0.031     16.088      0.000       0.437       0.558\n",
              "==============================================================================\n",
              "\"\"\""
            ]
          },
          "metadata": {},
          "execution_count": 28
        }
      ]
    },
    {
      "cell_type": "code",
      "metadata": {
        "id": "Wz5IC1-TS-7K"
      },
      "source": [
        "y_train_pred = get_prediction_dataset(res,X_train_sm,y_train_SMOTE,0.5)"
      ],
      "execution_count": null,
      "outputs": []
    },
    {
      "cell_type": "markdown",
      "metadata": {
        "id": "SLt1ssnbHI46"
      },
      "source": [
        "### creating the confusion matrix"
      ]
    },
    {
      "cell_type": "code",
      "metadata": {
        "colab": {
          "base_uri": "https://localhost:8080/",
          "height": 417
        },
        "id": "Rn9WqLkam8RD",
        "outputId": "31036c5e-606a-4b40-9b34-9f41f3580540"
      },
      "source": [
        "y_train_pred"
      ],
      "execution_count": null,
      "outputs": [
        {
          "output_type": "execute_result",
          "data": {
            "text/html": [
              "<div>\n",
              "<style scoped>\n",
              "    .dataframe tbody tr th:only-of-type {\n",
              "        vertical-align: middle;\n",
              "    }\n",
              "\n",
              "    .dataframe tbody tr th {\n",
              "        vertical-align: top;\n",
              "    }\n",
              "\n",
              "    .dataframe thead th {\n",
              "        text-align: right;\n",
              "    }\n",
              "</style>\n",
              "<table border=\"1\" class=\"dataframe\">\n",
              "  <thead>\n",
              "    <tr style=\"text-align: right;\">\n",
              "      <th></th>\n",
              "      <th>Fraud</th>\n",
              "      <th>Fraud_Porb</th>\n",
              "      <th>predicted</th>\n",
              "    </tr>\n",
              "  </thead>\n",
              "  <tbody>\n",
              "    <tr>\n",
              "      <th>0</th>\n",
              "      <td>0</td>\n",
              "      <td>0.036563</td>\n",
              "      <td>0</td>\n",
              "    </tr>\n",
              "    <tr>\n",
              "      <th>1</th>\n",
              "      <td>0</td>\n",
              "      <td>0.004460</td>\n",
              "      <td>0</td>\n",
              "    </tr>\n",
              "    <tr>\n",
              "      <th>2</th>\n",
              "      <td>0</td>\n",
              "      <td>0.003769</td>\n",
              "      <td>0</td>\n",
              "    </tr>\n",
              "    <tr>\n",
              "      <th>3</th>\n",
              "      <td>0</td>\n",
              "      <td>0.039157</td>\n",
              "      <td>0</td>\n",
              "    </tr>\n",
              "    <tr>\n",
              "      <th>4</th>\n",
              "      <td>0</td>\n",
              "      <td>0.003465</td>\n",
              "      <td>0</td>\n",
              "    </tr>\n",
              "    <tr>\n",
              "      <th>...</th>\n",
              "      <td>...</td>\n",
              "      <td>...</td>\n",
              "      <td>...</td>\n",
              "    </tr>\n",
              "    <tr>\n",
              "      <th>398025</th>\n",
              "      <td>1</td>\n",
              "      <td>1.000000</td>\n",
              "      <td>1</td>\n",
              "    </tr>\n",
              "    <tr>\n",
              "      <th>398026</th>\n",
              "      <td>1</td>\n",
              "      <td>1.000000</td>\n",
              "      <td>1</td>\n",
              "    </tr>\n",
              "    <tr>\n",
              "      <th>398027</th>\n",
              "      <td>1</td>\n",
              "      <td>1.000000</td>\n",
              "      <td>1</td>\n",
              "    </tr>\n",
              "    <tr>\n",
              "      <th>398028</th>\n",
              "      <td>1</td>\n",
              "      <td>1.000000</td>\n",
              "      <td>1</td>\n",
              "    </tr>\n",
              "    <tr>\n",
              "      <th>398029</th>\n",
              "      <td>1</td>\n",
              "      <td>1.000000</td>\n",
              "      <td>1</td>\n",
              "    </tr>\n",
              "  </tbody>\n",
              "</table>\n",
              "<p>398030 rows × 3 columns</p>\n",
              "</div>"
            ],
            "text/plain": [
              "        Fraud  Fraud_Porb  predicted\n",
              "0           0    0.036563          0\n",
              "1           0    0.004460          0\n",
              "2           0    0.003769          0\n",
              "3           0    0.039157          0\n",
              "4           0    0.003465          0\n",
              "...       ...         ...        ...\n",
              "398025      1    1.000000          1\n",
              "398026      1    1.000000          1\n",
              "398027      1    1.000000          1\n",
              "398028      1    1.000000          1\n",
              "398029      1    1.000000          1\n",
              "\n",
              "[398030 rows x 3 columns]"
            ]
          },
          "metadata": {},
          "execution_count": 30
        }
      ]
    },
    {
      "cell_type": "code",
      "metadata": {
        "id": "9cNJG6yal4gJ",
        "colab": {
          "base_uri": "https://localhost:8080/"
        },
        "outputId": "0d2c0bee-128a-4353-9cd9-6cbba96e206f"
      },
      "source": [
        "confusion = get_confusion_matrix(y_train_pred)\n",
        "print(confusion)"
      ],
      "execution_count": null,
      "outputs": [
        {
          "output_type": "stream",
          "name": "stdout",
          "text": [
            "[[196126   2889]\n",
            " [ 11621 187394]]\n"
          ]
        }
      ]
    },
    {
      "cell_type": "code",
      "metadata": {
        "id": "H9vBIsXNmFsH",
        "colab": {
          "base_uri": "https://localhost:8080/"
        },
        "outputId": "4d1b9764-b2ef-463b-d979-14bcb554649b"
      },
      "source": [
        "print(get_accuracy(y_train_pred))"
      ],
      "execution_count": null,
      "outputs": [
        {
          "output_type": "stream",
          "name": "stdout",
          "text": [
            "0.9635454613973821\n"
          ]
        }
      ]
    },
    {
      "cell_type": "code",
      "metadata": {
        "id": "VBflSMTDmIqe",
        "colab": {
          "base_uri": "https://localhost:8080/"
        },
        "outputId": "a0d33edd-8280-4c62-bef4-2250c1463fa3"
      },
      "source": [
        "get_vif(X_train_SMOTE,col)"
      ],
      "execution_count": null,
      "outputs": [
        {
          "output_type": "stream",
          "name": "stdout",
          "text": [
            "   Features    VIF\n",
            "10      V17  27.27\n",
            "6       V12  24.48\n",
            "9       V16  23.26\n",
            "4       V10  14.81\n",
            "8       V14  13.79\n",
            "11      V18  12.90\n",
            "5       V11  12.53\n",
            "0        V4   7.79\n",
            "3        V9   6.56\n",
            "1        V6   2.67\n",
            "2        V8   2.17\n",
            "13      V27   1.90\n",
            "14      V28   1.33\n",
            "12      V25   1.23\n",
            "7       V13   1.15\n"
          ]
        }
      ]
    },
    {
      "cell_type": "markdown",
      "metadata": {
        "id": "Ea-1xpTQHq0B"
      },
      "source": [
        "### dropping the column V12 from the dataset as it has very high VIF value"
      ]
    },
    {
      "cell_type": "code",
      "metadata": {
        "id": "daBsrnZVnh5D",
        "colab": {
          "base_uri": "https://localhost:8080/"
        },
        "outputId": "8ddaade5-7e0f-40be-977a-e9784b240377"
      },
      "source": [
        "col = col.drop('V17', 1)\n",
        "col"
      ],
      "execution_count": null,
      "outputs": [
        {
          "output_type": "execute_result",
          "data": {
            "text/plain": [
              "Index(['V4', 'V6', 'V8', 'V9', 'V10', 'V11', 'V12', 'V13', 'V14', 'V16', 'V18',\n",
              "       'V25', 'V27', 'V28'],\n",
              "      dtype='object')"
            ]
          },
          "metadata": {},
          "execution_count": 34
        }
      ]
    },
    {
      "cell_type": "code",
      "metadata": {
        "id": "BtiuFQbdnxsq",
        "colab": {
          "base_uri": "https://localhost:8080/",
          "height": 547
        },
        "outputId": "b684f8aa-6c44-4f4b-fdc5-d658cd80f850"
      },
      "source": [
        "# Let's re-run the model using the selected variables\n",
        "res,X_train_sm = get_logistic_model(X_train_SMOTE,col,y_train_SMOTE)\n",
        "res.summary()"
      ],
      "execution_count": null,
      "outputs": [
        {
          "output_type": "execute_result",
          "data": {
            "text/html": [
              "<table class=\"simpletable\">\n",
              "<caption>Generalized Linear Model Regression Results</caption>\n",
              "<tr>\n",
              "  <th>Dep. Variable:</th>           <td>y</td>        <th>  No. Observations:  </th>  <td>398030</td> \n",
              "</tr>\n",
              "<tr>\n",
              "  <th>Model:</th>                  <td>GLM</td>       <th>  Df Residuals:      </th>  <td>398015</td> \n",
              "</tr>\n",
              "<tr>\n",
              "  <th>Model Family:</th>        <td>Binomial</td>     <th>  Df Model:          </th>  <td>    14</td> \n",
              "</tr>\n",
              "<tr>\n",
              "  <th>Link Function:</th>         <td>logit</td>      <th>  Scale:             </th> <td>  1.0000</td>\n",
              "</tr>\n",
              "<tr>\n",
              "  <th>Method:</th>                <td>IRLS</td>       <th>  Log-Likelihood:    </th> <td>     nan</td>\n",
              "</tr>\n",
              "<tr>\n",
              "  <th>Date:</th>            <td>Tue, 14 Sep 2021</td> <th>  Deviance:          </th> <td>     nan</td>\n",
              "</tr>\n",
              "<tr>\n",
              "  <th>Time:</th>                <td>21:41:51</td>     <th>  Pearson chi2:      </th> <td>5.60e+16</td>\n",
              "</tr>\n",
              "<tr>\n",
              "  <th>No. Iterations:</th>         <td>100</td>       <th>                     </th>     <td> </td>   \n",
              "</tr>\n",
              "<tr>\n",
              "  <th>Covariance Type:</th>     <td>nonrobust</td>    <th>                     </th>     <td> </td>   \n",
              "</tr>\n",
              "</table>\n",
              "<table class=\"simpletable\">\n",
              "<tr>\n",
              "    <td></td>       <th>coef</th>     <th>std err</th>      <th>z</th>      <th>P>|z|</th>  <th>[0.025</th>    <th>0.975]</th>  \n",
              "</tr>\n",
              "<tr>\n",
              "  <th>const</th> <td>   -3.7585</td> <td>    0.016</td> <td> -239.965</td> <td> 0.000</td> <td>   -3.789</td> <td>   -3.728</td>\n",
              "</tr>\n",
              "<tr>\n",
              "  <th>V4</th>    <td>    0.8052</td> <td>    0.007</td> <td>  113.520</td> <td> 0.000</td> <td>    0.791</td> <td>    0.819</td>\n",
              "</tr>\n",
              "<tr>\n",
              "  <th>V6</th>    <td>   -0.2238</td> <td>    0.008</td> <td>  -28.256</td> <td> 0.000</td> <td>   -0.239</td> <td>   -0.208</td>\n",
              "</tr>\n",
              "<tr>\n",
              "  <th>V8</th>    <td>   -0.3773</td> <td>    0.007</td> <td>  -56.793</td> <td> 0.000</td> <td>   -0.390</td> <td>   -0.364</td>\n",
              "</tr>\n",
              "<tr>\n",
              "  <th>V9</th>    <td>   -0.3893</td> <td>    0.011</td> <td>  -36.975</td> <td> 0.000</td> <td>   -0.410</td> <td>   -0.369</td>\n",
              "</tr>\n",
              "<tr>\n",
              "  <th>V10</th>   <td>   -0.4168</td> <td>    0.010</td> <td>  -40.628</td> <td> 0.000</td> <td>   -0.437</td> <td>   -0.397</td>\n",
              "</tr>\n",
              "<tr>\n",
              "  <th>V11</th>   <td>    0.3897</td> <td>    0.010</td> <td>   39.378</td> <td> 0.000</td> <td>    0.370</td> <td>    0.409</td>\n",
              "</tr>\n",
              "<tr>\n",
              "  <th>V12</th>   <td>   -0.7092</td> <td>    0.011</td> <td>  -65.898</td> <td> 0.000</td> <td>   -0.730</td> <td>   -0.688</td>\n",
              "</tr>\n",
              "<tr>\n",
              "  <th>V13</th>   <td>   -0.2864</td> <td>    0.010</td> <td>  -27.789</td> <td> 0.000</td> <td>   -0.307</td> <td>   -0.266</td>\n",
              "</tr>\n",
              "<tr>\n",
              "  <th>V14</th>   <td>   -1.1543</td> <td>    0.010</td> <td> -117.310</td> <td> 0.000</td> <td>   -1.174</td> <td>   -1.135</td>\n",
              "</tr>\n",
              "<tr>\n",
              "  <th>V16</th>   <td>   -0.5121</td> <td>    0.012</td> <td>  -41.832</td> <td> 0.000</td> <td>   -0.536</td> <td>   -0.488</td>\n",
              "</tr>\n",
              "<tr>\n",
              "  <th>V18</th>   <td>   -0.4206</td> <td>    0.013</td> <td>  -31.600</td> <td> 0.000</td> <td>   -0.447</td> <td>   -0.395</td>\n",
              "</tr>\n",
              "<tr>\n",
              "  <th>V25</th>   <td>    0.4818</td> <td>    0.019</td> <td>   25.425</td> <td> 0.000</td> <td>    0.445</td> <td>    0.519</td>\n",
              "</tr>\n",
              "<tr>\n",
              "  <th>V27</th>   <td>    0.2352</td> <td>    0.024</td> <td>    9.849</td> <td> 0.000</td> <td>    0.188</td> <td>    0.282</td>\n",
              "</tr>\n",
              "<tr>\n",
              "  <th>V28</th>   <td>    0.2921</td> <td>    0.027</td> <td>   10.705</td> <td> 0.000</td> <td>    0.239</td> <td>    0.346</td>\n",
              "</tr>\n",
              "</table>"
            ],
            "text/plain": [
              "<class 'statsmodels.iolib.summary.Summary'>\n",
              "\"\"\"\n",
              "                 Generalized Linear Model Regression Results                  \n",
              "==============================================================================\n",
              "Dep. Variable:                      y   No. Observations:               398030\n",
              "Model:                            GLM   Df Residuals:                   398015\n",
              "Model Family:                Binomial   Df Model:                           14\n",
              "Link Function:                  logit   Scale:                          1.0000\n",
              "Method:                          IRLS   Log-Likelihood:                    nan\n",
              "Date:                Tue, 14 Sep 2021   Deviance:                          nan\n",
              "Time:                        21:41:51   Pearson chi2:                 5.60e+16\n",
              "No. Iterations:                   100                                         \n",
              "Covariance Type:            nonrobust                                         \n",
              "==============================================================================\n",
              "                 coef    std err          z      P>|z|      [0.025      0.975]\n",
              "------------------------------------------------------------------------------\n",
              "const         -3.7585      0.016   -239.965      0.000      -3.789      -3.728\n",
              "V4             0.8052      0.007    113.520      0.000       0.791       0.819\n",
              "V6            -0.2238      0.008    -28.256      0.000      -0.239      -0.208\n",
              "V8            -0.3773      0.007    -56.793      0.000      -0.390      -0.364\n",
              "V9            -0.3893      0.011    -36.975      0.000      -0.410      -0.369\n",
              "V10           -0.4168      0.010    -40.628      0.000      -0.437      -0.397\n",
              "V11            0.3897      0.010     39.378      0.000       0.370       0.409\n",
              "V12           -0.7092      0.011    -65.898      0.000      -0.730      -0.688\n",
              "V13           -0.2864      0.010    -27.789      0.000      -0.307      -0.266\n",
              "V14           -1.1543      0.010   -117.310      0.000      -1.174      -1.135\n",
              "V16           -0.5121      0.012    -41.832      0.000      -0.536      -0.488\n",
              "V18           -0.4206      0.013    -31.600      0.000      -0.447      -0.395\n",
              "V25            0.4818      0.019     25.425      0.000       0.445       0.519\n",
              "V27            0.2352      0.024      9.849      0.000       0.188       0.282\n",
              "V28            0.2921      0.027     10.705      0.000       0.239       0.346\n",
              "==============================================================================\n",
              "\"\"\""
            ]
          },
          "metadata": {},
          "execution_count": 35
        }
      ]
    },
    {
      "cell_type": "code",
      "metadata": {
        "id": "Qa79ls5dn55J",
        "colab": {
          "base_uri": "https://localhost:8080/",
          "height": 203
        },
        "outputId": "dbaefb9a-b409-4b44-b751-ce2590d359b0"
      },
      "source": [
        "y_train_pred = get_prediction_dataset(res,X_train_sm,y_train_SMOTE,0.5)\n",
        "y_train_pred.head()"
      ],
      "execution_count": null,
      "outputs": [
        {
          "output_type": "execute_result",
          "data": {
            "text/html": [
              "<div>\n",
              "<style scoped>\n",
              "    .dataframe tbody tr th:only-of-type {\n",
              "        vertical-align: middle;\n",
              "    }\n",
              "\n",
              "    .dataframe tbody tr th {\n",
              "        vertical-align: top;\n",
              "    }\n",
              "\n",
              "    .dataframe thead th {\n",
              "        text-align: right;\n",
              "    }\n",
              "</style>\n",
              "<table border=\"1\" class=\"dataframe\">\n",
              "  <thead>\n",
              "    <tr style=\"text-align: right;\">\n",
              "      <th></th>\n",
              "      <th>Fraud</th>\n",
              "      <th>Fraud_Porb</th>\n",
              "      <th>predicted</th>\n",
              "    </tr>\n",
              "  </thead>\n",
              "  <tbody>\n",
              "    <tr>\n",
              "      <th>0</th>\n",
              "      <td>0</td>\n",
              "      <td>0.040772</td>\n",
              "      <td>0</td>\n",
              "    </tr>\n",
              "    <tr>\n",
              "      <th>1</th>\n",
              "      <td>0</td>\n",
              "      <td>0.005822</td>\n",
              "      <td>0</td>\n",
              "    </tr>\n",
              "    <tr>\n",
              "      <th>2</th>\n",
              "      <td>0</td>\n",
              "      <td>0.004621</td>\n",
              "      <td>0</td>\n",
              "    </tr>\n",
              "    <tr>\n",
              "      <th>3</th>\n",
              "      <td>0</td>\n",
              "      <td>0.040330</td>\n",
              "      <td>0</td>\n",
              "    </tr>\n",
              "    <tr>\n",
              "      <th>4</th>\n",
              "      <td>0</td>\n",
              "      <td>0.003980</td>\n",
              "      <td>0</td>\n",
              "    </tr>\n",
              "  </tbody>\n",
              "</table>\n",
              "</div>"
            ],
            "text/plain": [
              "   Fraud  Fraud_Porb  predicted\n",
              "0      0    0.040772          0\n",
              "1      0    0.005822          0\n",
              "2      0    0.004621          0\n",
              "3      0    0.040330          0\n",
              "4      0    0.003980          0"
            ]
          },
          "metadata": {},
          "execution_count": 36
        }
      ]
    },
    {
      "cell_type": "code",
      "metadata": {
        "id": "gBxSxo6koYHR",
        "colab": {
          "base_uri": "https://localhost:8080/"
        },
        "outputId": "78a9acb3-d14d-4c75-c3fb-88e4d1df688c"
      },
      "source": [
        "print(get_accuracy(y_train_pred))"
      ],
      "execution_count": null,
      "outputs": [
        {
          "output_type": "stream",
          "name": "stdout",
          "text": [
            "0.9619375423963018\n"
          ]
        }
      ]
    },
    {
      "cell_type": "code",
      "metadata": {
        "id": "nSESIS-ioa6-",
        "colab": {
          "base_uri": "https://localhost:8080/"
        },
        "outputId": "f6f19ee1-8eb6-483b-cb58-aeeca2748ead"
      },
      "source": [
        "get_vif(X_train_SMOTE,col)"
      ],
      "execution_count": null,
      "outputs": [
        {
          "output_type": "stream",
          "name": "stdout",
          "text": [
            "   Features    VIF\n",
            "6       V12  24.04\n",
            "9       V16  17.51\n",
            "4       V10  14.65\n",
            "8       V14  13.75\n",
            "5       V11  12.53\n",
            "10      V18   9.21\n",
            "0        V4   7.73\n",
            "3        V9   6.46\n",
            "1        V6   2.66\n",
            "2        V8   2.07\n",
            "12      V27   1.90\n",
            "13      V28   1.33\n",
            "11      V25   1.23\n",
            "7       V13   1.15\n"
          ]
        }
      ]
    },
    {
      "cell_type": "code",
      "metadata": {
        "id": "YI5GmkekoiG7",
        "colab": {
          "base_uri": "https://localhost:8080/"
        },
        "outputId": "46b60da4-fba7-4c21-a223-df0b41ab826f"
      },
      "source": [
        "col = col.drop('V12', 1)\n",
        "col"
      ],
      "execution_count": null,
      "outputs": [
        {
          "output_type": "execute_result",
          "data": {
            "text/plain": [
              "Index(['V4', 'V6', 'V8', 'V9', 'V10', 'V11', 'V13', 'V14', 'V16', 'V18', 'V25',\n",
              "       'V27', 'V28'],\n",
              "      dtype='object')"
            ]
          },
          "metadata": {},
          "execution_count": 39
        }
      ]
    },
    {
      "cell_type": "code",
      "metadata": {
        "id": "toRy-0gUo1K7",
        "colab": {
          "base_uri": "https://localhost:8080/",
          "height": 526
        },
        "outputId": "b028a6ef-7bde-4c6d-cf8a-e80a7f8f830f"
      },
      "source": [
        "# Let's re-run the model using the selected variables\n",
        "res,X_train_sm = get_logistic_model(X_train_SMOTE,col,y_train_SMOTE)\n",
        "res.summary()"
      ],
      "execution_count": null,
      "outputs": [
        {
          "output_type": "execute_result",
          "data": {
            "text/html": [
              "<table class=\"simpletable\">\n",
              "<caption>Generalized Linear Model Regression Results</caption>\n",
              "<tr>\n",
              "  <th>Dep. Variable:</th>           <td>y</td>        <th>  No. Observations:  </th>  <td>398030</td> \n",
              "</tr>\n",
              "<tr>\n",
              "  <th>Model:</th>                  <td>GLM</td>       <th>  Df Residuals:      </th>  <td>398016</td> \n",
              "</tr>\n",
              "<tr>\n",
              "  <th>Model Family:</th>        <td>Binomial</td>     <th>  Df Model:          </th>  <td>    13</td> \n",
              "</tr>\n",
              "<tr>\n",
              "  <th>Link Function:</th>         <td>logit</td>      <th>  Scale:             </th> <td>  1.0000</td>\n",
              "</tr>\n",
              "<tr>\n",
              "  <th>Method:</th>                <td>IRLS</td>       <th>  Log-Likelihood:    </th> <td>     nan</td>\n",
              "</tr>\n",
              "<tr>\n",
              "  <th>Date:</th>            <td>Tue, 14 Sep 2021</td> <th>  Deviance:          </th> <td>     nan</td>\n",
              "</tr>\n",
              "<tr>\n",
              "  <th>Time:</th>                <td>21:43:03</td>     <th>  Pearson chi2:      </th> <td>2.00e+15</td>\n",
              "</tr>\n",
              "<tr>\n",
              "  <th>No. Iterations:</th>         <td>100</td>       <th>                     </th>     <td> </td>   \n",
              "</tr>\n",
              "<tr>\n",
              "  <th>Covariance Type:</th>     <td>nonrobust</td>    <th>                     </th>     <td> </td>   \n",
              "</tr>\n",
              "</table>\n",
              "<table class=\"simpletable\">\n",
              "<tr>\n",
              "    <td></td>       <th>coef</th>     <th>std err</th>      <th>z</th>      <th>P>|z|</th>  <th>[0.025</th>    <th>0.975]</th>  \n",
              "</tr>\n",
              "<tr>\n",
              "  <th>const</th> <td>   -3.7813</td> <td>    0.016</td> <td> -241.244</td> <td> 0.000</td> <td>   -3.812</td> <td>   -3.751</td>\n",
              "</tr>\n",
              "<tr>\n",
              "  <th>V4</th>    <td>    0.8765</td> <td>    0.007</td> <td>  120.098</td> <td> 0.000</td> <td>    0.862</td> <td>    0.891</td>\n",
              "</tr>\n",
              "<tr>\n",
              "  <th>V6</th>    <td>   -0.2398</td> <td>    0.008</td> <td>  -30.517</td> <td> 0.000</td> <td>   -0.255</td> <td>   -0.224</td>\n",
              "</tr>\n",
              "<tr>\n",
              "  <th>V8</th>    <td>   -0.3816</td> <td>    0.006</td> <td>  -60.678</td> <td> 0.000</td> <td>   -0.394</td> <td>   -0.369</td>\n",
              "</tr>\n",
              "<tr>\n",
              "  <th>V9</th>    <td>   -0.3755</td> <td>    0.011</td> <td>  -34.531</td> <td> 0.000</td> <td>   -0.397</td> <td>   -0.354</td>\n",
              "</tr>\n",
              "<tr>\n",
              "  <th>V10</th>   <td>   -0.4388</td> <td>    0.010</td> <td>  -42.990</td> <td> 0.000</td> <td>   -0.459</td> <td>   -0.419</td>\n",
              "</tr>\n",
              "<tr>\n",
              "  <th>V11</th>   <td>    0.3225</td> <td>    0.010</td> <td>   33.727</td> <td> 0.000</td> <td>    0.304</td> <td>    0.341</td>\n",
              "</tr>\n",
              "<tr>\n",
              "  <th>V13</th>   <td>   -0.3318</td> <td>    0.011</td> <td>  -30.754</td> <td> 0.000</td> <td>   -0.353</td> <td>   -0.311</td>\n",
              "</tr>\n",
              "<tr>\n",
              "  <th>V14</th>   <td>   -1.2291</td> <td>    0.010</td> <td> -120.621</td> <td> 0.000</td> <td>   -1.249</td> <td>   -1.209</td>\n",
              "</tr>\n",
              "<tr>\n",
              "  <th>V16</th>   <td>   -0.4541</td> <td>    0.012</td> <td>  -38.905</td> <td> 0.000</td> <td>   -0.477</td> <td>   -0.431</td>\n",
              "</tr>\n",
              "<tr>\n",
              "  <th>V18</th>   <td>   -0.3352</td> <td>    0.013</td> <td>  -26.009</td> <td> 0.000</td> <td>   -0.361</td> <td>   -0.310</td>\n",
              "</tr>\n",
              "<tr>\n",
              "  <th>V25</th>   <td>    0.4271</td> <td>    0.018</td> <td>   23.359</td> <td> 0.000</td> <td>    0.391</td> <td>    0.463</td>\n",
              "</tr>\n",
              "<tr>\n",
              "  <th>V27</th>   <td>    0.0615</td> <td>    0.023</td> <td>    2.651</td> <td> 0.008</td> <td>    0.016</td> <td>    0.107</td>\n",
              "</tr>\n",
              "<tr>\n",
              "  <th>V28</th>   <td>    0.1812</td> <td>    0.026</td> <td>    6.873</td> <td> 0.000</td> <td>    0.129</td> <td>    0.233</td>\n",
              "</tr>\n",
              "</table>"
            ],
            "text/plain": [
              "<class 'statsmodels.iolib.summary.Summary'>\n",
              "\"\"\"\n",
              "                 Generalized Linear Model Regression Results                  \n",
              "==============================================================================\n",
              "Dep. Variable:                      y   No. Observations:               398030\n",
              "Model:                            GLM   Df Residuals:                   398016\n",
              "Model Family:                Binomial   Df Model:                           13\n",
              "Link Function:                  logit   Scale:                          1.0000\n",
              "Method:                          IRLS   Log-Likelihood:                    nan\n",
              "Date:                Tue, 14 Sep 2021   Deviance:                          nan\n",
              "Time:                        21:43:03   Pearson chi2:                 2.00e+15\n",
              "No. Iterations:                   100                                         \n",
              "Covariance Type:            nonrobust                                         \n",
              "==============================================================================\n",
              "                 coef    std err          z      P>|z|      [0.025      0.975]\n",
              "------------------------------------------------------------------------------\n",
              "const         -3.7813      0.016   -241.244      0.000      -3.812      -3.751\n",
              "V4             0.8765      0.007    120.098      0.000       0.862       0.891\n",
              "V6            -0.2398      0.008    -30.517      0.000      -0.255      -0.224\n",
              "V8            -0.3816      0.006    -60.678      0.000      -0.394      -0.369\n",
              "V9            -0.3755      0.011    -34.531      0.000      -0.397      -0.354\n",
              "V10           -0.4388      0.010    -42.990      0.000      -0.459      -0.419\n",
              "V11            0.3225      0.010     33.727      0.000       0.304       0.341\n",
              "V13           -0.3318      0.011    -30.754      0.000      -0.353      -0.311\n",
              "V14           -1.2291      0.010   -120.621      0.000      -1.249      -1.209\n",
              "V16           -0.4541      0.012    -38.905      0.000      -0.477      -0.431\n",
              "V18           -0.3352      0.013    -26.009      0.000      -0.361      -0.310\n",
              "V25            0.4271      0.018     23.359      0.000       0.391       0.463\n",
              "V27            0.0615      0.023      2.651      0.008       0.016       0.107\n",
              "V28            0.1812      0.026      6.873      0.000       0.129       0.233\n",
              "==============================================================================\n",
              "\"\"\""
            ]
          },
          "metadata": {},
          "execution_count": 40
        }
      ]
    },
    {
      "cell_type": "code",
      "metadata": {
        "id": "YfGNBmjOo-GN",
        "colab": {
          "base_uri": "https://localhost:8080/",
          "height": 203
        },
        "outputId": "7a4193e4-79f4-43c5-8d3e-fe05be228933"
      },
      "source": [
        "y_train_pred = get_prediction_dataset(res,X_train_sm,y_train_SMOTE,0.5)\n",
        "y_train_pred.head()"
      ],
      "execution_count": null,
      "outputs": [
        {
          "output_type": "execute_result",
          "data": {
            "text/html": [
              "<div>\n",
              "<style scoped>\n",
              "    .dataframe tbody tr th:only-of-type {\n",
              "        vertical-align: middle;\n",
              "    }\n",
              "\n",
              "    .dataframe tbody tr th {\n",
              "        vertical-align: top;\n",
              "    }\n",
              "\n",
              "    .dataframe thead th {\n",
              "        text-align: right;\n",
              "    }\n",
              "</style>\n",
              "<table border=\"1\" class=\"dataframe\">\n",
              "  <thead>\n",
              "    <tr style=\"text-align: right;\">\n",
              "      <th></th>\n",
              "      <th>Fraud</th>\n",
              "      <th>Fraud_Porb</th>\n",
              "      <th>predicted</th>\n",
              "    </tr>\n",
              "  </thead>\n",
              "  <tbody>\n",
              "    <tr>\n",
              "      <th>0</th>\n",
              "      <td>0</td>\n",
              "      <td>0.033092</td>\n",
              "      <td>0</td>\n",
              "    </tr>\n",
              "    <tr>\n",
              "      <th>1</th>\n",
              "      <td>0</td>\n",
              "      <td>0.002972</td>\n",
              "      <td>0</td>\n",
              "    </tr>\n",
              "    <tr>\n",
              "      <th>2</th>\n",
              "      <td>0</td>\n",
              "      <td>0.002702</td>\n",
              "      <td>0</td>\n",
              "    </tr>\n",
              "    <tr>\n",
              "      <th>3</th>\n",
              "      <td>0</td>\n",
              "      <td>0.021662</td>\n",
              "      <td>0</td>\n",
              "    </tr>\n",
              "    <tr>\n",
              "      <th>4</th>\n",
              "      <td>0</td>\n",
              "      <td>0.003107</td>\n",
              "      <td>0</td>\n",
              "    </tr>\n",
              "  </tbody>\n",
              "</table>\n",
              "</div>"
            ],
            "text/plain": [
              "   Fraud  Fraud_Porb  predicted\n",
              "0      0    0.033092          0\n",
              "1      0    0.002972          0\n",
              "2      0    0.002702          0\n",
              "3      0    0.021662          0\n",
              "4      0    0.003107          0"
            ]
          },
          "metadata": {},
          "execution_count": 41
        }
      ]
    },
    {
      "cell_type": "code",
      "metadata": {
        "id": "vUGbXAcgpAPL",
        "colab": {
          "base_uri": "https://localhost:8080/"
        },
        "outputId": "e8d42e51-3ba6-4118-8e4b-684327d0d47e"
      },
      "source": [
        "print(get_accuracy(y_train_pred))"
      ],
      "execution_count": null,
      "outputs": [
        {
          "output_type": "stream",
          "name": "stdout",
          "text": [
            "0.9581915935984725\n"
          ]
        }
      ]
    },
    {
      "cell_type": "code",
      "metadata": {
        "id": "cewx_005pCQM",
        "colab": {
          "base_uri": "https://localhost:8080/"
        },
        "outputId": "b0a8cb2f-83a2-4069-fdd3-1a5e9cd606a1"
      },
      "source": [
        "get_vif(X_train_SMOTE,col)"
      ],
      "execution_count": null,
      "outputs": [
        {
          "output_type": "stream",
          "name": "stdout",
          "text": [
            "   Features    VIF\n",
            "8       V16  16.29\n",
            "4       V10  13.93\n",
            "7       V14  12.26\n",
            "5       V11  11.22\n",
            "9       V18   9.15\n",
            "0        V4   7.46\n",
            "3        V9   6.46\n",
            "1        V6   2.65\n",
            "2        V8   2.06\n",
            "11      V27   1.87\n",
            "12      V28   1.33\n",
            "10      V25   1.21\n",
            "6       V13   1.14\n"
          ]
        }
      ]
    },
    {
      "cell_type": "code",
      "metadata": {
        "id": "ED0_OOoZpR1M",
        "colab": {
          "base_uri": "https://localhost:8080/"
        },
        "outputId": "32a17b9a-2c7e-47c1-ceb2-8d5ef78bd98a"
      },
      "source": [
        "col = col.drop('V16', 1)\n",
        "col"
      ],
      "execution_count": null,
      "outputs": [
        {
          "output_type": "execute_result",
          "data": {
            "text/plain": [
              "Index(['V4', 'V6', 'V8', 'V9', 'V10', 'V11', 'V13', 'V14', 'V18', 'V25', 'V27',\n",
              "       'V28'],\n",
              "      dtype='object')"
            ]
          },
          "metadata": {},
          "execution_count": 44
        }
      ]
    },
    {
      "cell_type": "code",
      "metadata": {
        "id": "TelKBi6qpZUd",
        "colab": {
          "base_uri": "https://localhost:8080/",
          "height": 506
        },
        "outputId": "57ba1472-32b2-4f16-9d0a-c3993c86f845"
      },
      "source": [
        "# Let's re-run the model using the selected variables\n",
        "res,X_train_sm = get_logistic_model(X_train_SMOTE,col,y_train_SMOTE)\n",
        "res.summary()"
      ],
      "execution_count": null,
      "outputs": [
        {
          "output_type": "execute_result",
          "data": {
            "text/html": [
              "<table class=\"simpletable\">\n",
              "<caption>Generalized Linear Model Regression Results</caption>\n",
              "<tr>\n",
              "  <th>Dep. Variable:</th>           <td>y</td>        <th>  No. Observations:  </th>  <td>398030</td> \n",
              "</tr>\n",
              "<tr>\n",
              "  <th>Model:</th>                  <td>GLM</td>       <th>  Df Residuals:      </th>  <td>398017</td> \n",
              "</tr>\n",
              "<tr>\n",
              "  <th>Model Family:</th>        <td>Binomial</td>     <th>  Df Model:          </th>  <td>    12</td> \n",
              "</tr>\n",
              "<tr>\n",
              "  <th>Link Function:</th>         <td>logit</td>      <th>  Scale:             </th> <td>  1.0000</td>\n",
              "</tr>\n",
              "<tr>\n",
              "  <th>Method:</th>                <td>IRLS</td>       <th>  Log-Likelihood:    </th> <td>     nan</td>\n",
              "</tr>\n",
              "<tr>\n",
              "  <th>Date:</th>            <td>Tue, 14 Sep 2021</td> <th>  Deviance:          </th> <td>     nan</td>\n",
              "</tr>\n",
              "<tr>\n",
              "  <th>Time:</th>                <td>21:44:06</td>     <th>  Pearson chi2:      </th> <td>5.95e+13</td>\n",
              "</tr>\n",
              "<tr>\n",
              "  <th>No. Iterations:</th>         <td>100</td>       <th>                     </th>     <td> </td>   \n",
              "</tr>\n",
              "<tr>\n",
              "  <th>Covariance Type:</th>     <td>nonrobust</td>    <th>                     </th>     <td> </td>   \n",
              "</tr>\n",
              "</table>\n",
              "<table class=\"simpletable\">\n",
              "<tr>\n",
              "    <td></td>       <th>coef</th>     <th>std err</th>      <th>z</th>      <th>P>|z|</th>  <th>[0.025</th>    <th>0.975]</th>  \n",
              "</tr>\n",
              "<tr>\n",
              "  <th>const</th> <td>   -3.7817</td> <td>    0.016</td> <td> -241.633</td> <td> 0.000</td> <td>   -3.812</td> <td>   -3.751</td>\n",
              "</tr>\n",
              "<tr>\n",
              "  <th>V4</th>    <td>    0.8874</td> <td>    0.007</td> <td>  121.620</td> <td> 0.000</td> <td>    0.873</td> <td>    0.902</td>\n",
              "</tr>\n",
              "<tr>\n",
              "  <th>V6</th>    <td>   -0.2179</td> <td>    0.008</td> <td>  -28.033</td> <td> 0.000</td> <td>   -0.233</td> <td>   -0.203</td>\n",
              "</tr>\n",
              "<tr>\n",
              "  <th>V8</th>    <td>   -0.3601</td> <td>    0.006</td> <td>  -58.096</td> <td> 0.000</td> <td>   -0.372</td> <td>   -0.348</td>\n",
              "</tr>\n",
              "<tr>\n",
              "  <th>V9</th>    <td>   -0.3444</td> <td>    0.011</td> <td>  -31.502</td> <td> 0.000</td> <td>   -0.366</td> <td>   -0.323</td>\n",
              "</tr>\n",
              "<tr>\n",
              "  <th>V10</th>   <td>   -0.4921</td> <td>    0.010</td> <td>  -47.557</td> <td> 0.000</td> <td>   -0.512</td> <td>   -0.472</td>\n",
              "</tr>\n",
              "<tr>\n",
              "  <th>V11</th>   <td>    0.3091</td> <td>    0.009</td> <td>   32.770</td> <td> 0.000</td> <td>    0.291</td> <td>    0.328</td>\n",
              "</tr>\n",
              "<tr>\n",
              "  <th>V13</th>   <td>   -0.3537</td> <td>    0.011</td> <td>  -32.896</td> <td> 0.000</td> <td>   -0.375</td> <td>   -0.333</td>\n",
              "</tr>\n",
              "<tr>\n",
              "  <th>V14</th>   <td>   -1.2283</td> <td>    0.010</td> <td> -122.381</td> <td> 0.000</td> <td>   -1.248</td> <td>   -1.209</td>\n",
              "</tr>\n",
              "<tr>\n",
              "  <th>V18</th>   <td>   -0.4819</td> <td>    0.012</td> <td>  -38.610</td> <td> 0.000</td> <td>   -0.506</td> <td>   -0.457</td>\n",
              "</tr>\n",
              "<tr>\n",
              "  <th>V25</th>   <td>    0.3558</td> <td>    0.018</td> <td>   19.692</td> <td> 0.000</td> <td>    0.320</td> <td>    0.391</td>\n",
              "</tr>\n",
              "<tr>\n",
              "  <th>V27</th>   <td>    0.0006</td> <td>    0.023</td> <td>    0.027</td> <td> 0.979</td> <td>   -0.045</td> <td>    0.046</td>\n",
              "</tr>\n",
              "<tr>\n",
              "  <th>V28</th>   <td>    0.1892</td> <td>    0.027</td> <td>    6.893</td> <td> 0.000</td> <td>    0.135</td> <td>    0.243</td>\n",
              "</tr>\n",
              "</table>"
            ],
            "text/plain": [
              "<class 'statsmodels.iolib.summary.Summary'>\n",
              "\"\"\"\n",
              "                 Generalized Linear Model Regression Results                  \n",
              "==============================================================================\n",
              "Dep. Variable:                      y   No. Observations:               398030\n",
              "Model:                            GLM   Df Residuals:                   398017\n",
              "Model Family:                Binomial   Df Model:                           12\n",
              "Link Function:                  logit   Scale:                          1.0000\n",
              "Method:                          IRLS   Log-Likelihood:                    nan\n",
              "Date:                Tue, 14 Sep 2021   Deviance:                          nan\n",
              "Time:                        21:44:06   Pearson chi2:                 5.95e+13\n",
              "No. Iterations:                   100                                         \n",
              "Covariance Type:            nonrobust                                         \n",
              "==============================================================================\n",
              "                 coef    std err          z      P>|z|      [0.025      0.975]\n",
              "------------------------------------------------------------------------------\n",
              "const         -3.7817      0.016   -241.633      0.000      -3.812      -3.751\n",
              "V4             0.8874      0.007    121.620      0.000       0.873       0.902\n",
              "V6            -0.2179      0.008    -28.033      0.000      -0.233      -0.203\n",
              "V8            -0.3601      0.006    -58.096      0.000      -0.372      -0.348\n",
              "V9            -0.3444      0.011    -31.502      0.000      -0.366      -0.323\n",
              "V10           -0.4921      0.010    -47.557      0.000      -0.512      -0.472\n",
              "V11            0.3091      0.009     32.770      0.000       0.291       0.328\n",
              "V13           -0.3537      0.011    -32.896      0.000      -0.375      -0.333\n",
              "V14           -1.2283      0.010   -122.381      0.000      -1.248      -1.209\n",
              "V18           -0.4819      0.012    -38.610      0.000      -0.506      -0.457\n",
              "V25            0.3558      0.018     19.692      0.000       0.320       0.391\n",
              "V27            0.0006      0.023      0.027      0.979      -0.045       0.046\n",
              "V28            0.1892      0.027      6.893      0.000       0.135       0.243\n",
              "==============================================================================\n",
              "\"\"\""
            ]
          },
          "metadata": {},
          "execution_count": 45
        }
      ]
    },
    {
      "cell_type": "code",
      "metadata": {
        "id": "bmVRoNS6pcHv",
        "colab": {
          "base_uri": "https://localhost:8080/",
          "height": 203
        },
        "outputId": "5fe0a5bc-2201-40b1-e103-2b5019dad60b"
      },
      "source": [
        "y_train_pred = get_prediction_dataset(res,X_train_sm,y_train_SMOTE,0.5)\n",
        "y_train_pred.head()"
      ],
      "execution_count": null,
      "outputs": [
        {
          "output_type": "execute_result",
          "data": {
            "text/html": [
              "<div>\n",
              "<style scoped>\n",
              "    .dataframe tbody tr th:only-of-type {\n",
              "        vertical-align: middle;\n",
              "    }\n",
              "\n",
              "    .dataframe tbody tr th {\n",
              "        vertical-align: top;\n",
              "    }\n",
              "\n",
              "    .dataframe thead th {\n",
              "        text-align: right;\n",
              "    }\n",
              "</style>\n",
              "<table border=\"1\" class=\"dataframe\">\n",
              "  <thead>\n",
              "    <tr style=\"text-align: right;\">\n",
              "      <th></th>\n",
              "      <th>Fraud</th>\n",
              "      <th>Fraud_Porb</th>\n",
              "      <th>predicted</th>\n",
              "    </tr>\n",
              "  </thead>\n",
              "  <tbody>\n",
              "    <tr>\n",
              "      <th>0</th>\n",
              "      <td>0</td>\n",
              "      <td>0.034724</td>\n",
              "      <td>0</td>\n",
              "    </tr>\n",
              "    <tr>\n",
              "      <th>1</th>\n",
              "      <td>0</td>\n",
              "      <td>0.002357</td>\n",
              "      <td>0</td>\n",
              "    </tr>\n",
              "    <tr>\n",
              "      <th>2</th>\n",
              "      <td>0</td>\n",
              "      <td>0.002558</td>\n",
              "      <td>0</td>\n",
              "    </tr>\n",
              "    <tr>\n",
              "      <th>3</th>\n",
              "      <td>0</td>\n",
              "      <td>0.020186</td>\n",
              "      <td>0</td>\n",
              "    </tr>\n",
              "    <tr>\n",
              "      <th>4</th>\n",
              "      <td>0</td>\n",
              "      <td>0.003364</td>\n",
              "      <td>0</td>\n",
              "    </tr>\n",
              "  </tbody>\n",
              "</table>\n",
              "</div>"
            ],
            "text/plain": [
              "   Fraud  Fraud_Porb  predicted\n",
              "0      0    0.034724          0\n",
              "1      0    0.002357          0\n",
              "2      0    0.002558          0\n",
              "3      0    0.020186          0\n",
              "4      0    0.003364          0"
            ]
          },
          "metadata": {},
          "execution_count": 47
        }
      ]
    },
    {
      "cell_type": "code",
      "metadata": {
        "id": "asnOJEp2psD8",
        "colab": {
          "base_uri": "https://localhost:8080/"
        },
        "outputId": "da5f05d2-f957-4e88-fa2b-3c48b80da431"
      },
      "source": [
        "print(get_accuracy(y_train_pred))"
      ],
      "execution_count": null,
      "outputs": [
        {
          "output_type": "stream",
          "name": "stdout",
          "text": [
            "0.9571791071024797\n"
          ]
        }
      ]
    },
    {
      "cell_type": "code",
      "metadata": {
        "id": "pPcwjMpZpvaA",
        "colab": {
          "base_uri": "https://localhost:8080/"
        },
        "outputId": "88572f7a-ed96-4773-fff1-a8c4079f60c8"
      },
      "source": [
        "get_vif(X_train_SMOTE,col)"
      ],
      "execution_count": null,
      "outputs": [
        {
          "output_type": "stream",
          "name": "stdout",
          "text": [
            "   Features    VIF\n",
            "4       V10  13.16\n",
            "7       V14  11.34\n",
            "5       V11  11.01\n",
            "0        V4   7.43\n",
            "3        V9   6.40\n",
            "8       V18   3.98\n",
            "1        V6   2.65\n",
            "2        V8   2.06\n",
            "10      V27   1.86\n",
            "11      V28   1.31\n",
            "9       V25   1.18\n",
            "6       V13   1.14\n"
          ]
        }
      ]
    },
    {
      "cell_type": "code",
      "metadata": {
        "id": "iged_eQCpyBj",
        "colab": {
          "base_uri": "https://localhost:8080/"
        },
        "outputId": "5502331f-24f9-4d6c-dfac-2a1893e2c5e2"
      },
      "source": [
        "col = col.drop('V10', 1)\n",
        "col"
      ],
      "execution_count": null,
      "outputs": [
        {
          "output_type": "execute_result",
          "data": {
            "text/plain": [
              "Index(['V4', 'V6', 'V8', 'V9', 'V11', 'V13', 'V14', 'V18', 'V25', 'V27',\n",
              "       'V28'],\n",
              "      dtype='object')"
            ]
          },
          "metadata": {},
          "execution_count": 50
        }
      ]
    },
    {
      "cell_type": "code",
      "metadata": {
        "id": "w4ZNXc1Fp6Dn",
        "colab": {
          "base_uri": "https://localhost:8080/",
          "height": 486
        },
        "outputId": "97f07a82-00d2-472a-fb46-5a7240f8d86a"
      },
      "source": [
        "# Let's re-run the model using the selected variables\n",
        "res,X_train_sm = get_logistic_model(X_train_SMOTE,col,y_train_SMOTE)\n",
        "res.summary()"
      ],
      "execution_count": null,
      "outputs": [
        {
          "output_type": "execute_result",
          "data": {
            "text/html": [
              "<table class=\"simpletable\">\n",
              "<caption>Generalized Linear Model Regression Results</caption>\n",
              "<tr>\n",
              "  <th>Dep. Variable:</th>           <td>y</td>        <th>  No. Observations:  </th>  <td>398030</td> \n",
              "</tr>\n",
              "<tr>\n",
              "  <th>Model:</th>                  <td>GLM</td>       <th>  Df Residuals:      </th>  <td>398018</td> \n",
              "</tr>\n",
              "<tr>\n",
              "  <th>Model Family:</th>        <td>Binomial</td>     <th>  Df Model:          </th>  <td>    11</td> \n",
              "</tr>\n",
              "<tr>\n",
              "  <th>Link Function:</th>         <td>logit</td>      <th>  Scale:             </th> <td>  1.0000</td>\n",
              "</tr>\n",
              "<tr>\n",
              "  <th>Method:</th>                <td>IRLS</td>       <th>  Log-Likelihood:    </th> <td>     nan</td>\n",
              "</tr>\n",
              "<tr>\n",
              "  <th>Date:</th>            <td>Tue, 14 Sep 2021</td> <th>  Deviance:          </th> <td>     nan</td>\n",
              "</tr>\n",
              "<tr>\n",
              "  <th>Time:</th>                <td>21:45:21</td>     <th>  Pearson chi2:      </th> <td>3.86e+12</td>\n",
              "</tr>\n",
              "<tr>\n",
              "  <th>No. Iterations:</th>         <td>100</td>       <th>                     </th>     <td> </td>   \n",
              "</tr>\n",
              "<tr>\n",
              "  <th>Covariance Type:</th>     <td>nonrobust</td>    <th>                     </th>     <td> </td>   \n",
              "</tr>\n",
              "</table>\n",
              "<table class=\"simpletable\">\n",
              "<tr>\n",
              "    <td></td>       <th>coef</th>     <th>std err</th>      <th>z</th>      <th>P>|z|</th>  <th>[0.025</th>    <th>0.975]</th>  \n",
              "</tr>\n",
              "<tr>\n",
              "  <th>const</th> <td>   -3.7575</td> <td>    0.015</td> <td> -247.577</td> <td> 0.000</td> <td>   -3.787</td> <td>   -3.728</td>\n",
              "</tr>\n",
              "<tr>\n",
              "  <th>V4</th>    <td>    0.7859</td> <td>    0.006</td> <td>  123.242</td> <td> 0.000</td> <td>    0.773</td> <td>    0.798</td>\n",
              "</tr>\n",
              "<tr>\n",
              "  <th>V6</th>    <td>   -0.2283</td> <td>    0.008</td> <td>  -29.200</td> <td> 0.000</td> <td>   -0.244</td> <td>   -0.213</td>\n",
              "</tr>\n",
              "<tr>\n",
              "  <th>V8</th>    <td>   -0.3734</td> <td>    0.006</td> <td>  -61.393</td> <td> 0.000</td> <td>   -0.385</td> <td>   -0.361</td>\n",
              "</tr>\n",
              "<tr>\n",
              "  <th>V9</th>    <td>   -0.4276</td> <td>    0.010</td> <td>  -43.537</td> <td> 0.000</td> <td>   -0.447</td> <td>   -0.408</td>\n",
              "</tr>\n",
              "<tr>\n",
              "  <th>V11</th>   <td>    0.3164</td> <td>    0.009</td> <td>   34.420</td> <td> 0.000</td> <td>    0.298</td> <td>    0.334</td>\n",
              "</tr>\n",
              "<tr>\n",
              "  <th>V13</th>   <td>   -0.3834</td> <td>    0.011</td> <td>  -36.061</td> <td> 0.000</td> <td>   -0.404</td> <td>   -0.363</td>\n",
              "</tr>\n",
              "<tr>\n",
              "  <th>V14</th>   <td>   -1.4078</td> <td>    0.009</td> <td> -153.326</td> <td> 0.000</td> <td>   -1.426</td> <td>   -1.390</td>\n",
              "</tr>\n",
              "<tr>\n",
              "  <th>V18</th>   <td>   -0.4274</td> <td>    0.012</td> <td>  -37.008</td> <td> 0.000</td> <td>   -0.450</td> <td>   -0.405</td>\n",
              "</tr>\n",
              "<tr>\n",
              "  <th>V25</th>   <td>    0.4674</td> <td>    0.018</td> <td>   26.424</td> <td> 0.000</td> <td>    0.433</td> <td>    0.502</td>\n",
              "</tr>\n",
              "<tr>\n",
              "  <th>V27</th>   <td>    0.3027</td> <td>    0.021</td> <td>   14.724</td> <td> 0.000</td> <td>    0.262</td> <td>    0.343</td>\n",
              "</tr>\n",
              "<tr>\n",
              "  <th>V28</th>   <td>    0.3287</td> <td>    0.026</td> <td>   12.432</td> <td> 0.000</td> <td>    0.277</td> <td>    0.380</td>\n",
              "</tr>\n",
              "</table>"
            ],
            "text/plain": [
              "<class 'statsmodels.iolib.summary.Summary'>\n",
              "\"\"\"\n",
              "                 Generalized Linear Model Regression Results                  \n",
              "==============================================================================\n",
              "Dep. Variable:                      y   No. Observations:               398030\n",
              "Model:                            GLM   Df Residuals:                   398018\n",
              "Model Family:                Binomial   Df Model:                           11\n",
              "Link Function:                  logit   Scale:                          1.0000\n",
              "Method:                          IRLS   Log-Likelihood:                    nan\n",
              "Date:                Tue, 14 Sep 2021   Deviance:                          nan\n",
              "Time:                        21:45:21   Pearson chi2:                 3.86e+12\n",
              "No. Iterations:                   100                                         \n",
              "Covariance Type:            nonrobust                                         \n",
              "==============================================================================\n",
              "                 coef    std err          z      P>|z|      [0.025      0.975]\n",
              "------------------------------------------------------------------------------\n",
              "const         -3.7575      0.015   -247.577      0.000      -3.787      -3.728\n",
              "V4             0.7859      0.006    123.242      0.000       0.773       0.798\n",
              "V6            -0.2283      0.008    -29.200      0.000      -0.244      -0.213\n",
              "V8            -0.3734      0.006    -61.393      0.000      -0.385      -0.361\n",
              "V9            -0.4276      0.010    -43.537      0.000      -0.447      -0.408\n",
              "V11            0.3164      0.009     34.420      0.000       0.298       0.334\n",
              "V13           -0.3834      0.011    -36.061      0.000      -0.404      -0.363\n",
              "V14           -1.4078      0.009   -153.326      0.000      -1.426      -1.390\n",
              "V18           -0.4274      0.012    -37.008      0.000      -0.450      -0.405\n",
              "V25            0.4674      0.018     26.424      0.000       0.433       0.502\n",
              "V27            0.3027      0.021     14.724      0.000       0.262       0.343\n",
              "V28            0.3287      0.026     12.432      0.000       0.277       0.380\n",
              "==============================================================================\n",
              "\"\"\""
            ]
          },
          "metadata": {},
          "execution_count": 51
        }
      ]
    },
    {
      "cell_type": "code",
      "metadata": {
        "id": "8nycXZ1Np-Au",
        "colab": {
          "base_uri": "https://localhost:8080/",
          "height": 203
        },
        "outputId": "4b56b0c5-a14d-423a-8fc0-9b44f47d0289"
      },
      "source": [
        "y_train_pred = get_prediction_dataset(res,X_train_sm,y_train_SMOTE,0.5)\n",
        "y_train_pred.head()"
      ],
      "execution_count": null,
      "outputs": [
        {
          "output_type": "execute_result",
          "data": {
            "text/html": [
              "<div>\n",
              "<style scoped>\n",
              "    .dataframe tbody tr th:only-of-type {\n",
              "        vertical-align: middle;\n",
              "    }\n",
              "\n",
              "    .dataframe tbody tr th {\n",
              "        vertical-align: top;\n",
              "    }\n",
              "\n",
              "    .dataframe thead th {\n",
              "        text-align: right;\n",
              "    }\n",
              "</style>\n",
              "<table border=\"1\" class=\"dataframe\">\n",
              "  <thead>\n",
              "    <tr style=\"text-align: right;\">\n",
              "      <th></th>\n",
              "      <th>Fraud</th>\n",
              "      <th>Fraud_Porb</th>\n",
              "      <th>predicted</th>\n",
              "    </tr>\n",
              "  </thead>\n",
              "  <tbody>\n",
              "    <tr>\n",
              "      <th>0</th>\n",
              "      <td>0</td>\n",
              "      <td>0.026625</td>\n",
              "      <td>0</td>\n",
              "    </tr>\n",
              "    <tr>\n",
              "      <th>1</th>\n",
              "      <td>0</td>\n",
              "      <td>0.007868</td>\n",
              "      <td>0</td>\n",
              "    </tr>\n",
              "    <tr>\n",
              "      <th>2</th>\n",
              "      <td>0</td>\n",
              "      <td>0.007432</td>\n",
              "      <td>0</td>\n",
              "    </tr>\n",
              "    <tr>\n",
              "      <th>3</th>\n",
              "      <td>0</td>\n",
              "      <td>0.016862</td>\n",
              "      <td>0</td>\n",
              "    </tr>\n",
              "    <tr>\n",
              "      <th>4</th>\n",
              "      <td>0</td>\n",
              "      <td>0.003334</td>\n",
              "      <td>0</td>\n",
              "    </tr>\n",
              "  </tbody>\n",
              "</table>\n",
              "</div>"
            ],
            "text/plain": [
              "   Fraud  Fraud_Porb  predicted\n",
              "0      0    0.026625          0\n",
              "1      0    0.007868          0\n",
              "2      0    0.007432          0\n",
              "3      0    0.016862          0\n",
              "4      0    0.003334          0"
            ]
          },
          "metadata": {},
          "execution_count": 52
        }
      ]
    },
    {
      "cell_type": "code",
      "metadata": {
        "id": "CE5FkvTwqADD",
        "colab": {
          "base_uri": "https://localhost:8080/"
        },
        "outputId": "e318787e-86fc-4a69-e097-9ae1d6327633"
      },
      "source": [
        "print(get_accuracy(y_train_pred))"
      ],
      "execution_count": null,
      "outputs": [
        {
          "output_type": "stream",
          "name": "stdout",
          "text": [
            "0.9556440469311358\n"
          ]
        }
      ]
    },
    {
      "cell_type": "code",
      "metadata": {
        "id": "L_GdYaDnqD3E",
        "colab": {
          "base_uri": "https://localhost:8080/"
        },
        "outputId": "460098d7-06ec-4188-dfd5-c8e0f43b5e84"
      },
      "source": [
        "get_vif(X_train_SMOTE,col)"
      ],
      "execution_count": null,
      "outputs": [
        {
          "output_type": "stream",
          "name": "stdout",
          "text": [
            "   Features    VIF\n",
            "6       V14  11.20\n",
            "4       V11  10.06\n",
            "0        V4   7.34\n",
            "3        V9   5.22\n",
            "7       V18   3.10\n",
            "1        V6   2.61\n",
            "2        V8   1.97\n",
            "9       V27   1.64\n",
            "10      V28   1.28\n",
            "8       V25   1.17\n",
            "5       V13   1.14\n"
          ]
        }
      ]
    },
    {
      "cell_type": "code",
      "metadata": {
        "id": "RftzNQj9qIWs",
        "colab": {
          "base_uri": "https://localhost:8080/"
        },
        "outputId": "6d8ac14c-8fba-4dd1-e71f-94bd25034918"
      },
      "source": [
        "col = col.drop('V14', 1)\n",
        "col"
      ],
      "execution_count": null,
      "outputs": [
        {
          "output_type": "execute_result",
          "data": {
            "text/plain": [
              "Index(['V4', 'V6', 'V8', 'V9', 'V11', 'V13', 'V18', 'V25', 'V27', 'V28'], dtype='object')"
            ]
          },
          "metadata": {},
          "execution_count": 55
        }
      ]
    },
    {
      "cell_type": "code",
      "metadata": {
        "id": "walgHvMVqRnW",
        "colab": {
          "base_uri": "https://localhost:8080/",
          "height": 466
        },
        "outputId": "059bee81-802f-4af1-ecea-f9605291ac42"
      },
      "source": [
        "# Let's re-run the model using the selected variables\n",
        "res,X_train_sm = get_logistic_model(X_train_SMOTE,col,y_train_SMOTE)\n",
        "res.summary()"
      ],
      "execution_count": null,
      "outputs": [
        {
          "output_type": "execute_result",
          "data": {
            "text/html": [
              "<table class=\"simpletable\">\n",
              "<caption>Generalized Linear Model Regression Results</caption>\n",
              "<tr>\n",
              "  <th>Dep. Variable:</th>           <td>y</td>        <th>  No. Observations:  </th>   <td>398030</td>  \n",
              "</tr>\n",
              "<tr>\n",
              "  <th>Model:</th>                  <td>GLM</td>       <th>  Df Residuals:      </th>   <td>398019</td>  \n",
              "</tr>\n",
              "<tr>\n",
              "  <th>Model Family:</th>        <td>Binomial</td>     <th>  Df Model:          </th>   <td>    10</td>  \n",
              "</tr>\n",
              "<tr>\n",
              "  <th>Link Function:</th>         <td>logit</td>      <th>  Scale:             </th>  <td>  1.0000</td> \n",
              "</tr>\n",
              "<tr>\n",
              "  <th>Method:</th>                <td>IRLS</td>       <th>  Log-Likelihood:    </th>  <td> -70140.</td> \n",
              "</tr>\n",
              "<tr>\n",
              "  <th>Date:</th>            <td>Tue, 14 Sep 2021</td> <th>  Deviance:          </th> <td>1.4028e+05</td>\n",
              "</tr>\n",
              "<tr>\n",
              "  <th>Time:</th>                <td>21:45:54</td>     <th>  Pearson chi2:      </th>  <td>4.28e+11</td> \n",
              "</tr>\n",
              "<tr>\n",
              "  <th>No. Iterations:</th>         <td>10</td>        <th>                     </th>      <td> </td>    \n",
              "</tr>\n",
              "<tr>\n",
              "  <th>Covariance Type:</th>     <td>nonrobust</td>    <th>                     </th>      <td> </td>    \n",
              "</tr>\n",
              "</table>\n",
              "<table class=\"simpletable\">\n",
              "<tr>\n",
              "    <td></td>       <th>coef</th>     <th>std err</th>      <th>z</th>      <th>P>|z|</th>  <th>[0.025</th>    <th>0.975]</th>  \n",
              "</tr>\n",
              "<tr>\n",
              "  <th>const</th> <td>   -3.3604</td> <td>    0.013</td> <td> -264.113</td> <td> 0.000</td> <td>   -3.385</td> <td>   -3.336</td>\n",
              "</tr>\n",
              "<tr>\n",
              "  <th>V4</th>    <td>    1.0596</td> <td>    0.006</td> <td>  188.208</td> <td> 0.000</td> <td>    1.049</td> <td>    1.071</td>\n",
              "</tr>\n",
              "<tr>\n",
              "  <th>V6</th>    <td>   -0.5659</td> <td>    0.008</td> <td>  -74.559</td> <td> 0.000</td> <td>   -0.581</td> <td>   -0.551</td>\n",
              "</tr>\n",
              "<tr>\n",
              "  <th>V8</th>    <td>   -0.4373</td> <td>    0.006</td> <td>  -77.112</td> <td> 0.000</td> <td>   -0.448</td> <td>   -0.426</td>\n",
              "</tr>\n",
              "<tr>\n",
              "  <th>V9</th>    <td>   -0.3169</td> <td>    0.008</td> <td>  -40.049</td> <td> 0.000</td> <td>   -0.332</td> <td>   -0.301</td>\n",
              "</tr>\n",
              "<tr>\n",
              "  <th>V11</th>   <td>    1.1122</td> <td>    0.007</td> <td>  167.402</td> <td> 0.000</td> <td>    1.099</td> <td>    1.125</td>\n",
              "</tr>\n",
              "<tr>\n",
              "  <th>V13</th>   <td>   -0.3040</td> <td>    0.008</td> <td>  -40.179</td> <td> 0.000</td> <td>   -0.319</td> <td>   -0.289</td>\n",
              "</tr>\n",
              "<tr>\n",
              "  <th>V18</th>   <td>   -0.3452</td> <td>    0.008</td> <td>  -45.897</td> <td> 0.000</td> <td>   -0.360</td> <td>   -0.330</td>\n",
              "</tr>\n",
              "<tr>\n",
              "  <th>V25</th>   <td>    0.5831</td> <td>    0.014</td> <td>   40.401</td> <td> 0.000</td> <td>    0.555</td> <td>    0.611</td>\n",
              "</tr>\n",
              "<tr>\n",
              "  <th>V27</th>   <td>    0.2077</td> <td>    0.017</td> <td>   12.168</td> <td> 0.000</td> <td>    0.174</td> <td>    0.241</td>\n",
              "</tr>\n",
              "<tr>\n",
              "  <th>V28</th>   <td>    0.4601</td> <td>    0.024</td> <td>   18.999</td> <td> 0.000</td> <td>    0.413</td> <td>    0.508</td>\n",
              "</tr>\n",
              "</table>"
            ],
            "text/plain": [
              "<class 'statsmodels.iolib.summary.Summary'>\n",
              "\"\"\"\n",
              "                 Generalized Linear Model Regression Results                  \n",
              "==============================================================================\n",
              "Dep. Variable:                      y   No. Observations:               398030\n",
              "Model:                            GLM   Df Residuals:                   398019\n",
              "Model Family:                Binomial   Df Model:                           10\n",
              "Link Function:                  logit   Scale:                          1.0000\n",
              "Method:                          IRLS   Log-Likelihood:                -70140.\n",
              "Date:                Tue, 14 Sep 2021   Deviance:                   1.4028e+05\n",
              "Time:                        21:45:54   Pearson chi2:                 4.28e+11\n",
              "No. Iterations:                    10                                         \n",
              "Covariance Type:            nonrobust                                         \n",
              "==============================================================================\n",
              "                 coef    std err          z      P>|z|      [0.025      0.975]\n",
              "------------------------------------------------------------------------------\n",
              "const         -3.3604      0.013   -264.113      0.000      -3.385      -3.336\n",
              "V4             1.0596      0.006    188.208      0.000       1.049       1.071\n",
              "V6            -0.5659      0.008    -74.559      0.000      -0.581      -0.551\n",
              "V8            -0.4373      0.006    -77.112      0.000      -0.448      -0.426\n",
              "V9            -0.3169      0.008    -40.049      0.000      -0.332      -0.301\n",
              "V11            1.1122      0.007    167.402      0.000       1.099       1.125\n",
              "V13           -0.3040      0.008    -40.179      0.000      -0.319      -0.289\n",
              "V18           -0.3452      0.008    -45.897      0.000      -0.360      -0.330\n",
              "V25            0.5831      0.014     40.401      0.000       0.555       0.611\n",
              "V27            0.2077      0.017     12.168      0.000       0.174       0.241\n",
              "V28            0.4601      0.024     18.999      0.000       0.413       0.508\n",
              "==============================================================================\n",
              "\"\"\""
            ]
          },
          "metadata": {},
          "execution_count": 56
        }
      ]
    },
    {
      "cell_type": "code",
      "metadata": {
        "id": "F1e74nQSqT78",
        "colab": {
          "base_uri": "https://localhost:8080/",
          "height": 203
        },
        "outputId": "952fe9d9-f14d-461b-d934-04b91a16946f"
      },
      "source": [
        "y_train_pred = get_prediction_dataset(res,X_train_sm,y_train_SMOTE,0.5)\n",
        "y_train_pred.head()"
      ],
      "execution_count": null,
      "outputs": [
        {
          "output_type": "execute_result",
          "data": {
            "text/html": [
              "<div>\n",
              "<style scoped>\n",
              "    .dataframe tbody tr th:only-of-type {\n",
              "        vertical-align: middle;\n",
              "    }\n",
              "\n",
              "    .dataframe tbody tr th {\n",
              "        vertical-align: top;\n",
              "    }\n",
              "\n",
              "    .dataframe thead th {\n",
              "        text-align: right;\n",
              "    }\n",
              "</style>\n",
              "<table border=\"1\" class=\"dataframe\">\n",
              "  <thead>\n",
              "    <tr style=\"text-align: right;\">\n",
              "      <th></th>\n",
              "      <th>Fraud</th>\n",
              "      <th>Fraud_Porb</th>\n",
              "      <th>predicted</th>\n",
              "    </tr>\n",
              "  </thead>\n",
              "  <tbody>\n",
              "    <tr>\n",
              "      <th>0</th>\n",
              "      <td>0</td>\n",
              "      <td>0.045622</td>\n",
              "      <td>0</td>\n",
              "    </tr>\n",
              "    <tr>\n",
              "      <th>1</th>\n",
              "      <td>0</td>\n",
              "      <td>0.004221</td>\n",
              "      <td>0</td>\n",
              "    </tr>\n",
              "    <tr>\n",
              "      <th>2</th>\n",
              "      <td>0</td>\n",
              "      <td>0.005331</td>\n",
              "      <td>0</td>\n",
              "    </tr>\n",
              "    <tr>\n",
              "      <th>3</th>\n",
              "      <td>0</td>\n",
              "      <td>0.025653</td>\n",
              "      <td>0</td>\n",
              "    </tr>\n",
              "    <tr>\n",
              "      <th>4</th>\n",
              "      <td>0</td>\n",
              "      <td>0.002703</td>\n",
              "      <td>0</td>\n",
              "    </tr>\n",
              "  </tbody>\n",
              "</table>\n",
              "</div>"
            ],
            "text/plain": [
              "   Fraud  Fraud_Porb  predicted\n",
              "0      0    0.045622          0\n",
              "1      0    0.004221          0\n",
              "2      0    0.005331          0\n",
              "3      0    0.025653          0\n",
              "4      0    0.002703          0"
            ]
          },
          "metadata": {},
          "execution_count": 57
        }
      ]
    },
    {
      "cell_type": "code",
      "metadata": {
        "id": "-fBzZBazqVnM",
        "colab": {
          "base_uri": "https://localhost:8080/"
        },
        "outputId": "22edecaa-fe86-42a4-f647-824195db08c6"
      },
      "source": [
        "print(get_accuracy(y_train_pred))"
      ],
      "execution_count": null,
      "outputs": [
        {
          "output_type": "stream",
          "name": "stdout",
          "text": [
            "0.935761123533402\n"
          ]
        }
      ]
    },
    {
      "cell_type": "code",
      "metadata": {
        "id": "63slOgwTqXrV",
        "colab": {
          "base_uri": "https://localhost:8080/"
        },
        "outputId": "109db9eb-2f6d-44dc-c78c-02fd16d1facd"
      },
      "source": [
        "get_vif(X_train_SMOTE,col)"
      ],
      "execution_count": null,
      "outputs": [
        {
          "output_type": "stream",
          "name": "stdout",
          "text": [
            "  Features   VIF\n",
            "4      V11  6.48\n",
            "0       V4  6.41\n",
            "3       V9  5.21\n",
            "6      V18  3.10\n",
            "1       V6  2.50\n",
            "2       V8  1.95\n",
            "8      V27  1.56\n",
            "9      V28  1.18\n",
            "7      V25  1.17\n",
            "5      V13  1.13\n"
          ]
        }
      ]
    },
    {
      "cell_type": "code",
      "metadata": {
        "id": "6JCNAN-Rqd8f",
        "colab": {
          "base_uri": "https://localhost:8080/"
        },
        "outputId": "b65f7221-24b7-4d9b-9929-b778885b2340"
      },
      "source": [
        "col = col.drop('V11', 1)\n",
        "col"
      ],
      "execution_count": null,
      "outputs": [
        {
          "output_type": "execute_result",
          "data": {
            "text/plain": [
              "Index(['V4', 'V6', 'V8', 'V9', 'V13', 'V18', 'V25', 'V27', 'V28'], dtype='object')"
            ]
          },
          "metadata": {},
          "execution_count": 60
        }
      ]
    },
    {
      "cell_type": "code",
      "metadata": {
        "id": "iYc3QsrqqoRw",
        "colab": {
          "base_uri": "https://localhost:8080/",
          "height": 445
        },
        "outputId": "0bfcf88d-e607-4011-f19a-92ae79f01ac6"
      },
      "source": [
        "# Let's re-run the model using the selected variables\n",
        "res,X_train_sm = get_logistic_model(X_train_SMOTE,col,y_train_SMOTE)\n",
        "res.summary()"
      ],
      "execution_count": null,
      "outputs": [
        {
          "output_type": "execute_result",
          "data": {
            "text/html": [
              "<table class=\"simpletable\">\n",
              "<caption>Generalized Linear Model Regression Results</caption>\n",
              "<tr>\n",
              "  <th>Dep. Variable:</th>           <td>y</td>        <th>  No. Observations:  </th>   <td>398030</td>  \n",
              "</tr>\n",
              "<tr>\n",
              "  <th>Model:</th>                  <td>GLM</td>       <th>  Df Residuals:      </th>   <td>398020</td>  \n",
              "</tr>\n",
              "<tr>\n",
              "  <th>Model Family:</th>        <td>Binomial</td>     <th>  Df Model:          </th>   <td>     9</td>  \n",
              "</tr>\n",
              "<tr>\n",
              "  <th>Link Function:</th>         <td>logit</td>      <th>  Scale:             </th>  <td>  1.0000</td> \n",
              "</tr>\n",
              "<tr>\n",
              "  <th>Method:</th>                <td>IRLS</td>       <th>  Log-Likelihood:    </th>  <td> -90084.</td> \n",
              "</tr>\n",
              "<tr>\n",
              "  <th>Date:</th>            <td>Tue, 14 Sep 2021</td> <th>  Deviance:          </th> <td>1.8017e+05</td>\n",
              "</tr>\n",
              "<tr>\n",
              "  <th>Time:</th>                <td>21:46:23</td>     <th>  Pearson chi2:      </th>  <td>1.99e+14</td> \n",
              "</tr>\n",
              "<tr>\n",
              "  <th>No. Iterations:</th>          <td>9</td>        <th>                     </th>      <td> </td>    \n",
              "</tr>\n",
              "<tr>\n",
              "  <th>Covariance Type:</th>     <td>nonrobust</td>    <th>                     </th>      <td> </td>    \n",
              "</tr>\n",
              "</table>\n",
              "<table class=\"simpletable\">\n",
              "<tr>\n",
              "    <td></td>       <th>coef</th>     <th>std err</th>      <th>z</th>      <th>P>|z|</th>  <th>[0.025</th>    <th>0.975]</th>  \n",
              "</tr>\n",
              "<tr>\n",
              "  <th>const</th> <td>   -2.8820</td> <td>    0.011</td> <td> -268.350</td> <td> 0.000</td> <td>   -2.903</td> <td>   -2.861</td>\n",
              "</tr>\n",
              "<tr>\n",
              "  <th>V4</th>    <td>    1.1900</td> <td>    0.005</td> <td>  234.434</td> <td> 0.000</td> <td>    1.180</td> <td>    1.200</td>\n",
              "</tr>\n",
              "<tr>\n",
              "  <th>V6</th>    <td>   -0.7625</td> <td>    0.007</td> <td> -112.935</td> <td> 0.000</td> <td>   -0.776</td> <td>   -0.749</td>\n",
              "</tr>\n",
              "<tr>\n",
              "  <th>V8</th>    <td>   -0.4366</td> <td>    0.005</td> <td>  -86.706</td> <td> 0.000</td> <td>   -0.446</td> <td>   -0.427</td>\n",
              "</tr>\n",
              "<tr>\n",
              "  <th>V9</th>    <td>   -0.4707</td> <td>    0.007</td> <td>  -65.332</td> <td> 0.000</td> <td>   -0.485</td> <td>   -0.457</td>\n",
              "</tr>\n",
              "<tr>\n",
              "  <th>V13</th>   <td>   -0.3266</td> <td>    0.007</td> <td>  -49.070</td> <td> 0.000</td> <td>   -0.340</td> <td>   -0.314</td>\n",
              "</tr>\n",
              "<tr>\n",
              "  <th>V18</th>   <td>   -0.5972</td> <td>    0.006</td> <td>  -97.558</td> <td> 0.000</td> <td>   -0.609</td> <td>   -0.585</td>\n",
              "</tr>\n",
              "<tr>\n",
              "  <th>V25</th>   <td>    0.5067</td> <td>    0.012</td> <td>   41.181</td> <td> 0.000</td> <td>    0.483</td> <td>    0.531</td>\n",
              "</tr>\n",
              "<tr>\n",
              "  <th>V27</th>   <td>    0.3450</td> <td>    0.014</td> <td>   25.131</td> <td> 0.000</td> <td>    0.318</td> <td>    0.372</td>\n",
              "</tr>\n",
              "<tr>\n",
              "  <th>V28</th>   <td>    0.7696</td> <td>    0.022</td> <td>   35.112</td> <td> 0.000</td> <td>    0.727</td> <td>    0.813</td>\n",
              "</tr>\n",
              "</table>"
            ],
            "text/plain": [
              "<class 'statsmodels.iolib.summary.Summary'>\n",
              "\"\"\"\n",
              "                 Generalized Linear Model Regression Results                  \n",
              "==============================================================================\n",
              "Dep. Variable:                      y   No. Observations:               398030\n",
              "Model:                            GLM   Df Residuals:                   398020\n",
              "Model Family:                Binomial   Df Model:                            9\n",
              "Link Function:                  logit   Scale:                          1.0000\n",
              "Method:                          IRLS   Log-Likelihood:                -90084.\n",
              "Date:                Tue, 14 Sep 2021   Deviance:                   1.8017e+05\n",
              "Time:                        21:46:23   Pearson chi2:                 1.99e+14\n",
              "No. Iterations:                     9                                         \n",
              "Covariance Type:            nonrobust                                         \n",
              "==============================================================================\n",
              "                 coef    std err          z      P>|z|      [0.025      0.975]\n",
              "------------------------------------------------------------------------------\n",
              "const         -2.8820      0.011   -268.350      0.000      -2.903      -2.861\n",
              "V4             1.1900      0.005    234.434      0.000       1.180       1.200\n",
              "V6            -0.7625      0.007   -112.935      0.000      -0.776      -0.749\n",
              "V8            -0.4366      0.005    -86.706      0.000      -0.446      -0.427\n",
              "V9            -0.4707      0.007    -65.332      0.000      -0.485      -0.457\n",
              "V13           -0.3266      0.007    -49.070      0.000      -0.340      -0.314\n",
              "V18           -0.5972      0.006    -97.558      0.000      -0.609      -0.585\n",
              "V25            0.5067      0.012     41.181      0.000       0.483       0.531\n",
              "V27            0.3450      0.014     25.131      0.000       0.318       0.372\n",
              "V28            0.7696      0.022     35.112      0.000       0.727       0.813\n",
              "==============================================================================\n",
              "\"\"\""
            ]
          },
          "metadata": {},
          "execution_count": 61
        }
      ]
    },
    {
      "cell_type": "code",
      "metadata": {
        "id": "gS95A1uGqttL",
        "colab": {
          "base_uri": "https://localhost:8080/",
          "height": 203
        },
        "outputId": "3db9a918-5789-4037-853f-c45060421ed1"
      },
      "source": [
        "y_train_pred = get_prediction_dataset(res,X_train_sm,y_train_SMOTE,0.5)\n",
        "y_train_pred.head()"
      ],
      "execution_count": null,
      "outputs": [
        {
          "output_type": "execute_result",
          "data": {
            "text/html": [
              "<div>\n",
              "<style scoped>\n",
              "    .dataframe tbody tr th:only-of-type {\n",
              "        vertical-align: middle;\n",
              "    }\n",
              "\n",
              "    .dataframe tbody tr th {\n",
              "        vertical-align: top;\n",
              "    }\n",
              "\n",
              "    .dataframe thead th {\n",
              "        text-align: right;\n",
              "    }\n",
              "</style>\n",
              "<table border=\"1\" class=\"dataframe\">\n",
              "  <thead>\n",
              "    <tr style=\"text-align: right;\">\n",
              "      <th></th>\n",
              "      <th>Fraud</th>\n",
              "      <th>Fraud_Porb</th>\n",
              "      <th>predicted</th>\n",
              "    </tr>\n",
              "  </thead>\n",
              "  <tbody>\n",
              "    <tr>\n",
              "      <th>0</th>\n",
              "      <td>0</td>\n",
              "      <td>0.073468</td>\n",
              "      <td>0</td>\n",
              "    </tr>\n",
              "    <tr>\n",
              "      <th>1</th>\n",
              "      <td>0</td>\n",
              "      <td>0.005503</td>\n",
              "      <td>0</td>\n",
              "    </tr>\n",
              "    <tr>\n",
              "      <th>2</th>\n",
              "      <td>0</td>\n",
              "      <td>0.004824</td>\n",
              "      <td>0</td>\n",
              "    </tr>\n",
              "    <tr>\n",
              "      <th>3</th>\n",
              "      <td>0</td>\n",
              "      <td>0.189885</td>\n",
              "      <td>0</td>\n",
              "    </tr>\n",
              "    <tr>\n",
              "      <th>4</th>\n",
              "      <td>0</td>\n",
              "      <td>0.003127</td>\n",
              "      <td>0</td>\n",
              "    </tr>\n",
              "  </tbody>\n",
              "</table>\n",
              "</div>"
            ],
            "text/plain": [
              "   Fraud  Fraud_Porb  predicted\n",
              "0      0    0.073468          0\n",
              "1      0    0.005503          0\n",
              "2      0    0.004824          0\n",
              "3      0    0.189885          0\n",
              "4      0    0.003127          0"
            ]
          },
          "metadata": {},
          "execution_count": 62
        }
      ]
    },
    {
      "cell_type": "code",
      "metadata": {
        "id": "qjAyLeZTqv3j",
        "colab": {
          "base_uri": "https://localhost:8080/"
        },
        "outputId": "92e56f35-d533-4080-e5fb-db397743a424"
      },
      "source": [
        "print(get_accuracy(y_train_pred))"
      ],
      "execution_count": null,
      "outputs": [
        {
          "output_type": "stream",
          "name": "stdout",
          "text": [
            "0.9110167575308394\n"
          ]
        }
      ]
    },
    {
      "cell_type": "code",
      "metadata": {
        "id": "YehfPBbmqxeZ",
        "colab": {
          "base_uri": "https://localhost:8080/"
        },
        "outputId": "6058807d-20da-425a-e6b6-b8113c5cae88"
      },
      "source": [
        "get_vif(X_train_SMOTE,col)"
      ],
      "execution_count": null,
      "outputs": [
        {
          "output_type": "stream",
          "name": "stdout",
          "text": [
            "  Features   VIF\n",
            "3       V9  5.11\n",
            "0       V4  4.58\n",
            "5      V18  2.78\n",
            "1       V6  2.37\n",
            "2       V8  1.90\n",
            "7      V27  1.33\n",
            "6      V25  1.17\n",
            "8      V28  1.16\n",
            "4      V13  1.13\n"
          ]
        }
      ]
    },
    {
      "cell_type": "code",
      "metadata": {
        "colab": {
          "base_uri": "https://localhost:8080/"
        },
        "id": "pzrACMp6Ryji",
        "outputId": "4759681a-6bc7-408a-e222-5fc4ad47d6c3"
      },
      "source": [
        "col = col.drop('V9', 1)\n",
        "col"
      ],
      "execution_count": null,
      "outputs": [
        {
          "output_type": "execute_result",
          "data": {
            "text/plain": [
              "Index(['V4', 'V6', 'V8', 'V13', 'V18', 'V25', 'V27', 'V28'], dtype='object')"
            ]
          },
          "metadata": {},
          "execution_count": 66
        }
      ]
    },
    {
      "cell_type": "code",
      "metadata": {
        "colab": {
          "base_uri": "https://localhost:8080/",
          "height": 425
        },
        "id": "-HCjB33eR26Z",
        "outputId": "1e70112b-7a88-4368-954b-650150650346"
      },
      "source": [
        "# Let's re-run the model using the selected variables\n",
        "res,X_train_sm = get_logistic_model(X_train_SMOTE,col,y_train_SMOTE)\n",
        "res.summary()"
      ],
      "execution_count": null,
      "outputs": [
        {
          "output_type": "execute_result",
          "data": {
            "text/html": [
              "<table class=\"simpletable\">\n",
              "<caption>Generalized Linear Model Regression Results</caption>\n",
              "<tr>\n",
              "  <th>Dep. Variable:</th>           <td>y</td>        <th>  No. Observations:  </th>  <td>398030</td> \n",
              "</tr>\n",
              "<tr>\n",
              "  <th>Model:</th>                  <td>GLM</td>       <th>  Df Residuals:      </th>  <td>398021</td> \n",
              "</tr>\n",
              "<tr>\n",
              "  <th>Model Family:</th>        <td>Binomial</td>     <th>  Df Model:          </th>  <td>     8</td> \n",
              "</tr>\n",
              "<tr>\n",
              "  <th>Link Function:</th>         <td>logit</td>      <th>  Scale:             </th> <td>  1.0000</td>\n",
              "</tr>\n",
              "<tr>\n",
              "  <th>Method:</th>                <td>IRLS</td>       <th>  Log-Likelihood:    </th> <td>     nan</td>\n",
              "</tr>\n",
              "<tr>\n",
              "  <th>Date:</th>            <td>Tue, 14 Sep 2021</td> <th>  Deviance:          </th> <td>     inf</td>\n",
              "</tr>\n",
              "<tr>\n",
              "  <th>Time:</th>                <td>21:47:46</td>     <th>  Pearson chi2:      </th> <td>5.17e+15</td>\n",
              "</tr>\n",
              "<tr>\n",
              "  <th>No. Iterations:</th>          <td>6</td>        <th>                     </th>     <td> </td>   \n",
              "</tr>\n",
              "<tr>\n",
              "  <th>Covariance Type:</th>     <td>nonrobust</td>    <th>                     </th>     <td> </td>   \n",
              "</tr>\n",
              "</table>\n",
              "<table class=\"simpletable\">\n",
              "<tr>\n",
              "    <td></td>       <th>coef</th>     <th>std err</th>      <th>z</th>      <th>P>|z|</th>  <th>[0.025</th>    <th>0.975]</th>  \n",
              "</tr>\n",
              "<tr>\n",
              "  <th>const</th> <td>   -2.9205</td> <td>    0.011</td> <td> -271.661</td> <td> 0.000</td> <td>   -2.942</td> <td>   -2.899</td>\n",
              "</tr>\n",
              "<tr>\n",
              "  <th>V4</th>    <td>    1.2899</td> <td>    0.005</td> <td>  259.880</td> <td> 0.000</td> <td>    1.280</td> <td>    1.300</td>\n",
              "</tr>\n",
              "<tr>\n",
              "  <th>V6</th>    <td>   -0.8036</td> <td>    0.007</td> <td> -120.813</td> <td> 0.000</td> <td>   -0.817</td> <td>   -0.791</td>\n",
              "</tr>\n",
              "<tr>\n",
              "  <th>V8</th>    <td>   -0.3959</td> <td>    0.005</td> <td>  -82.835</td> <td> 0.000</td> <td>   -0.405</td> <td>   -0.387</td>\n",
              "</tr>\n",
              "<tr>\n",
              "  <th>V13</th>   <td>   -0.3360</td> <td>    0.006</td> <td>  -52.193</td> <td> 0.000</td> <td>   -0.349</td> <td>   -0.323</td>\n",
              "</tr>\n",
              "<tr>\n",
              "  <th>V18</th>   <td>   -0.7079</td> <td>    0.006</td> <td> -121.244</td> <td> 0.000</td> <td>   -0.719</td> <td>   -0.696</td>\n",
              "</tr>\n",
              "<tr>\n",
              "  <th>V25</th>   <td>    0.5495</td> <td>    0.012</td> <td>   45.047</td> <td> 0.000</td> <td>    0.526</td> <td>    0.573</td>\n",
              "</tr>\n",
              "<tr>\n",
              "  <th>V27</th>   <td>    0.5249</td> <td>    0.013</td> <td>   39.641</td> <td> 0.000</td> <td>    0.499</td> <td>    0.551</td>\n",
              "</tr>\n",
              "<tr>\n",
              "  <th>V28</th>   <td>    0.8121</td> <td>    0.022</td> <td>   37.241</td> <td> 0.000</td> <td>    0.769</td> <td>    0.855</td>\n",
              "</tr>\n",
              "</table>"
            ],
            "text/plain": [
              "<class 'statsmodels.iolib.summary.Summary'>\n",
              "\"\"\"\n",
              "                 Generalized Linear Model Regression Results                  \n",
              "==============================================================================\n",
              "Dep. Variable:                      y   No. Observations:               398030\n",
              "Model:                            GLM   Df Residuals:                   398021\n",
              "Model Family:                Binomial   Df Model:                            8\n",
              "Link Function:                  logit   Scale:                          1.0000\n",
              "Method:                          IRLS   Log-Likelihood:                    nan\n",
              "Date:                Tue, 14 Sep 2021   Deviance:                          inf\n",
              "Time:                        21:47:46   Pearson chi2:                 5.17e+15\n",
              "No. Iterations:                     6                                         \n",
              "Covariance Type:            nonrobust                                         \n",
              "==============================================================================\n",
              "                 coef    std err          z      P>|z|      [0.025      0.975]\n",
              "------------------------------------------------------------------------------\n",
              "const         -2.9205      0.011   -271.661      0.000      -2.942      -2.899\n",
              "V4             1.2899      0.005    259.880      0.000       1.280       1.300\n",
              "V6            -0.8036      0.007   -120.813      0.000      -0.817      -0.791\n",
              "V8            -0.3959      0.005    -82.835      0.000      -0.405      -0.387\n",
              "V13           -0.3360      0.006    -52.193      0.000      -0.349      -0.323\n",
              "V18           -0.7079      0.006   -121.244      0.000      -0.719      -0.696\n",
              "V25            0.5495      0.012     45.047      0.000       0.526       0.573\n",
              "V27            0.5249      0.013     39.641      0.000       0.499       0.551\n",
              "V28            0.8121      0.022     37.241      0.000       0.769       0.855\n",
              "==============================================================================\n",
              "\"\"\""
            ]
          },
          "metadata": {},
          "execution_count": 67
        }
      ]
    },
    {
      "cell_type": "code",
      "metadata": {
        "colab": {
          "base_uri": "https://localhost:8080/",
          "height": 203
        },
        "id": "LzJuVNAWR6mx",
        "outputId": "f4fb94d7-aa9e-4309-b06b-828909e5a988"
      },
      "source": [
        "y_train_pred = get_prediction_dataset(res,X_train_sm,y_train_SMOTE,0.5)\n",
        "y_train_pred.head()"
      ],
      "execution_count": null,
      "outputs": [
        {
          "output_type": "execute_result",
          "data": {
            "text/html": [
              "<div>\n",
              "<style scoped>\n",
              "    .dataframe tbody tr th:only-of-type {\n",
              "        vertical-align: middle;\n",
              "    }\n",
              "\n",
              "    .dataframe tbody tr th {\n",
              "        vertical-align: top;\n",
              "    }\n",
              "\n",
              "    .dataframe thead th {\n",
              "        text-align: right;\n",
              "    }\n",
              "</style>\n",
              "<table border=\"1\" class=\"dataframe\">\n",
              "  <thead>\n",
              "    <tr style=\"text-align: right;\">\n",
              "      <th></th>\n",
              "      <th>Fraud</th>\n",
              "      <th>Fraud_Prob</th>\n",
              "      <th>predicted</th>\n",
              "    </tr>\n",
              "  </thead>\n",
              "  <tbody>\n",
              "    <tr>\n",
              "      <th>0</th>\n",
              "      <td>0</td>\n",
              "      <td>0.067563</td>\n",
              "      <td>0</td>\n",
              "    </tr>\n",
              "    <tr>\n",
              "      <th>1</th>\n",
              "      <td>0</td>\n",
              "      <td>0.002364</td>\n",
              "      <td>0</td>\n",
              "    </tr>\n",
              "    <tr>\n",
              "      <th>2</th>\n",
              "      <td>0</td>\n",
              "      <td>0.002041</td>\n",
              "      <td>0</td>\n",
              "    </tr>\n",
              "    <tr>\n",
              "      <th>3</th>\n",
              "      <td>0</td>\n",
              "      <td>0.196895</td>\n",
              "      <td>0</td>\n",
              "    </tr>\n",
              "    <tr>\n",
              "      <th>4</th>\n",
              "      <td>0</td>\n",
              "      <td>0.001695</td>\n",
              "      <td>0</td>\n",
              "    </tr>\n",
              "  </tbody>\n",
              "</table>\n",
              "</div>"
            ],
            "text/plain": [
              "   Fraud  Fraud_Prob  predicted\n",
              "0      0    0.067563          0\n",
              "1      0    0.002364          0\n",
              "2      0    0.002041          0\n",
              "3      0    0.196895          0\n",
              "4      0    0.001695          0"
            ]
          },
          "metadata": {},
          "execution_count": 80
        }
      ]
    },
    {
      "cell_type": "code",
      "metadata": {
        "colab": {
          "base_uri": "https://localhost:8080/"
        },
        "id": "6YAbr7RnSAbG",
        "outputId": "913e0645-4ed3-4122-8ae3-73066a146e59"
      },
      "source": [
        "get_vif(X_train_SMOTE,col)"
      ],
      "execution_count": null,
      "outputs": [
        {
          "output_type": "stream",
          "name": "stdout",
          "text": [
            "  Features   VIF\n",
            "0       V4  2.78\n",
            "1       V6  2.34\n",
            "4      V18  2.27\n",
            "2       V8  1.89\n",
            "6      V27  1.26\n",
            "5      V25  1.16\n",
            "7      V28  1.14\n",
            "3      V13  1.13\n"
          ]
        }
      ]
    },
    {
      "cell_type": "code",
      "metadata": {
        "colab": {
          "base_uri": "https://localhost:8080/"
        },
        "id": "wTwl5jd1SHEK",
        "outputId": "776174ea-6123-4890-cc11-3a0958b45817"
      },
      "source": [
        "print(get_accuracy(y_train_pred))"
      ],
      "execution_count": null,
      "outputs": [
        {
          "output_type": "stream",
          "name": "stdout",
          "text": [
            "0.9079014144662463\n"
          ]
        }
      ]
    },
    {
      "cell_type": "code",
      "metadata": {
        "id": "-0wVoi-7q15a",
        "colab": {
          "base_uri": "https://localhost:8080/"
        },
        "outputId": "ccf111ab-8cab-46ce-c5cc-58fe1296bafa"
      },
      "source": [
        "# Let's take a look at the confusion matrix again \n",
        "confusion = get_confusion_matrix(y_train_pred)\n",
        "confusion"
      ],
      "execution_count": null,
      "outputs": [
        {
          "output_type": "execute_result",
          "data": {
            "text/plain": [
              "array([[185191,  13824],\n",
              "       [ 22834, 176181]])"
            ]
          },
          "metadata": {},
          "execution_count": 70
        }
      ]
    },
    {
      "cell_type": "code",
      "metadata": {
        "id": "nNzBB3bVrBtm",
        "colab": {
          "base_uri": "https://localhost:8080/"
        },
        "outputId": "943f2da1-34b7-4d51-a63e-41f14b80dd8c"
      },
      "source": [
        "get_all_measures(confusion)"
      ],
      "execution_count": null,
      "outputs": [
        {
          "output_type": "stream",
          "name": "stdout",
          "text": [
            "Sensitivity is : 0.89\n",
            "\n",
            "specificity is : 0.93\n",
            "\n",
            "false_positive_rate is : 0.07\n",
            "\n",
            "negative_predictive_value is : 0.89\n",
            "\n",
            "precision is : 0.93\n",
            "\n",
            "recall is : 0.89\n",
            "\n"
          ]
        }
      ]
    },
    {
      "cell_type": "code",
      "metadata": {
        "id": "joyg9dUOrU9p"
      },
      "source": [
        "fpr, tpr, thresholds = metrics.roc_curve( y_train_pred.Fraud, y_train_pred.Fraud_Prob, drop_intermediate = False )"
      ],
      "execution_count": null,
      "outputs": []
    },
    {
      "cell_type": "code",
      "metadata": {
        "id": "N3jhZ8hTrf5D",
        "colab": {
          "base_uri": "https://localhost:8080/",
          "height": 350
        },
        "outputId": "91edc10a-2623-4047-bedd-ba205025d848"
      },
      "source": [
        "draw_roc(y_train_pred.Fraud, y_train_pred.Fraud_Prob)"
      ],
      "execution_count": null,
      "outputs": [
        {
          "output_type": "display_data",
          "data": {
            "image/png": "[encoded data removed]",
            "text/plain": [
              "<Figure size 360x360 with 1 Axes>"
            ]
          },
          "metadata": {
            "needs_background": "light"
          }
        }
      ]
    },
    {
      "cell_type": "code",
      "metadata": {
        "id": "LWc9fT3DrlQF",
        "colab": {
          "base_uri": "https://localhost:8080/",
          "height": 203
        },
        "outputId": "a98bfc40-a7d2-4ba1-d037-5abd143a3d24"
      },
      "source": [
        "# Let's create columns with different probability cutoffs \n",
        "numbers = [float(x)/10 for x in range(10)]\n",
        "for i in numbers:\n",
        "    y_train_pred[i]= y_train_pred.Fraud_Prob.map(lambda x: 1 if x > i else 0)\n",
        "y_train_pred.head()"
      ],
      "execution_count": null,
      "outputs": [
        {
          "output_type": "execute_result",
          "data": {
            "text/html": [
              "<div>\n",
              "<style scoped>\n",
              "    .dataframe tbody tr th:only-of-type {\n",
              "        vertical-align: middle;\n",
              "    }\n",
              "\n",
              "    .dataframe tbody tr th {\n",
              "        vertical-align: top;\n",
              "    }\n",
              "\n",
              "    .dataframe thead th {\n",
              "        text-align: right;\n",
              "    }\n",
              "</style>\n",
              "<table border=\"1\" class=\"dataframe\">\n",
              "  <thead>\n",
              "    <tr style=\"text-align: right;\">\n",
              "      <th></th>\n",
              "      <th>Fraud</th>\n",
              "      <th>Fraud_Prob</th>\n",
              "      <th>predicted</th>\n",
              "      <th>0.0</th>\n",
              "      <th>0.1</th>\n",
              "      <th>0.2</th>\n",
              "      <th>0.3</th>\n",
              "      <th>0.4</th>\n",
              "      <th>0.5</th>\n",
              "      <th>0.6</th>\n",
              "      <th>0.7</th>\n",
              "      <th>0.8</th>\n",
              "      <th>0.9</th>\n",
              "    </tr>\n",
              "  </thead>\n",
              "  <tbody>\n",
              "    <tr>\n",
              "      <th>0</th>\n",
              "      <td>0</td>\n",
              "      <td>0.067563</td>\n",
              "      <td>0</td>\n",
              "      <td>1</td>\n",
              "      <td>0</td>\n",
              "      <td>0</td>\n",
              "      <td>0</td>\n",
              "      <td>0</td>\n",
              "      <td>0</td>\n",
              "      <td>0</td>\n",
              "      <td>0</td>\n",
              "      <td>0</td>\n",
              "      <td>0</td>\n",
              "    </tr>\n",
              "    <tr>\n",
              "      <th>1</th>\n",
              "      <td>0</td>\n",
              "      <td>0.002364</td>\n",
              "      <td>0</td>\n",
              "      <td>1</td>\n",
              "      <td>0</td>\n",
              "      <td>0</td>\n",
              "      <td>0</td>\n",
              "      <td>0</td>\n",
              "      <td>0</td>\n",
              "      <td>0</td>\n",
              "      <td>0</td>\n",
              "      <td>0</td>\n",
              "      <td>0</td>\n",
              "    </tr>\n",
              "    <tr>\n",
              "      <th>2</th>\n",
              "      <td>0</td>\n",
              "      <td>0.002041</td>\n",
              "      <td>0</td>\n",
              "      <td>1</td>\n",
              "      <td>0</td>\n",
              "      <td>0</td>\n",
              "      <td>0</td>\n",
              "      <td>0</td>\n",
              "      <td>0</td>\n",
              "      <td>0</td>\n",
              "      <td>0</td>\n",
              "      <td>0</td>\n",
              "      <td>0</td>\n",
              "    </tr>\n",
              "    <tr>\n",
              "      <th>3</th>\n",
              "      <td>0</td>\n",
              "      <td>0.196895</td>\n",
              "      <td>0</td>\n",
              "      <td>1</td>\n",
              "      <td>1</td>\n",
              "      <td>0</td>\n",
              "      <td>0</td>\n",
              "      <td>0</td>\n",
              "      <td>0</td>\n",
              "      <td>0</td>\n",
              "      <td>0</td>\n",
              "      <td>0</td>\n",
              "      <td>0</td>\n",
              "    </tr>\n",
              "    <tr>\n",
              "      <th>4</th>\n",
              "      <td>0</td>\n",
              "      <td>0.001695</td>\n",
              "      <td>0</td>\n",
              "      <td>1</td>\n",
              "      <td>0</td>\n",
              "      <td>0</td>\n",
              "      <td>0</td>\n",
              "      <td>0</td>\n",
              "      <td>0</td>\n",
              "      <td>0</td>\n",
              "      <td>0</td>\n",
              "      <td>0</td>\n",
              "      <td>0</td>\n",
              "    </tr>\n",
              "  </tbody>\n",
              "</table>\n",
              "</div>"
            ],
            "text/plain": [
              "   Fraud  Fraud_Prob  predicted  0.0  0.1  0.2  ...  0.4  0.5  0.6  0.7  0.8  0.9\n",
              "0      0    0.067563          0    1    0    0  ...    0    0    0    0    0    0\n",
              "1      0    0.002364          0    1    0    0  ...    0    0    0    0    0    0\n",
              "2      0    0.002041          0    1    0    0  ...    0    0    0    0    0    0\n",
              "3      0    0.196895          0    1    1    0  ...    0    0    0    0    0    0\n",
              "4      0    0.001695          0    1    0    0  ...    0    0    0    0    0    0\n",
              "\n",
              "[5 rows x 13 columns]"
            ]
          },
          "metadata": {},
          "execution_count": 84
        }
      ]
    },
    {
      "cell_type": "code",
      "metadata": {
        "id": "uj9aGAmnrvBS",
        "colab": {
          "base_uri": "https://localhost:8080/"
        },
        "outputId": "7a6e213a-4e1e-469b-b751-e7205212037d"
      },
      "source": [
        "# Now let's calculate accuracy sensitivity and specificity for various probability cutoffs.\n",
        "cutoff_df = pd.DataFrame( columns = ['prob','accuracy','sensi','speci'])\n",
        "from sklearn.metrics import confusion_matrix\n",
        "\n",
        "# TP = confusion[1,1] # true positive \n",
        "# TN = confusion[0,0] # true negatives\n",
        "# FP = confusion[0,1] # false positives\n",
        "# FN = confusion[1,0] # false negatives\n",
        "\n",
        "num = [0.0,0.1,0.2,0.3,0.4,0.5,0.6,0.7,0.8,0.9]\n",
        "for i in num:\n",
        "    cm1 = metrics.confusion_matrix(y_train_pred.Fraud, y_train_pred[i] )\n",
        "    total1=sum(sum(cm1))\n",
        "    accuracy = (cm1[0,0]+cm1[1,1])/total1\n",
        "    \n",
        "    speci = cm1[0,0]/(cm1[0,0]+cm1[0,1])\n",
        "    sensi = cm1[1,1]/(cm1[1,0]+cm1[1,1])\n",
        "    cutoff_df.loc[i] =[ i ,accuracy,sensi,speci]\n",
        "print(cutoff_df)"
      ],
      "execution_count": null,
      "outputs": [
        {
          "output_type": "stream",
          "name": "stdout",
          "text": [
            "     prob  accuracy     sensi     speci\n",
            "0.0   0.0  0.500000  1.000000  0.000000\n",
            "0.1   0.1  0.798420  0.979489  0.617350\n",
            "0.2   0.2  0.863370  0.956451  0.770289\n",
            "0.3   0.3  0.891340  0.931920  0.850760\n",
            "0.4   0.4  0.903764  0.908374  0.899153\n",
            "0.5   0.5  0.907901  0.885265  0.930538\n",
            "0.6   0.6  0.901033  0.850634  0.951431\n",
            "0.7   0.7  0.891905  0.816612  0.967198\n",
            "0.8   0.8  0.878645  0.777715  0.979574\n",
            "0.9   0.9  0.852581  0.715062  0.990101\n"
          ]
        }
      ]
    },
    {
      "cell_type": "code",
      "metadata": {
        "id": "nC1KuRV4r2JY",
        "colab": {
          "base_uri": "https://localhost:8080/",
          "height": 279
        },
        "outputId": "e85c28e0-4e84-4ed7-86af-1db9e7d1dc32"
      },
      "source": [
        "# Let's plot accuracy sensitivity and specificity for various probabilities.\n",
        "cutoff_df.plot.line(x='prob', y=['accuracy','sensi','speci'])\n",
        "plt.show()"
      ],
      "execution_count": null,
      "outputs": [
        {
          "output_type": "display_data",
          "data": {
            "image/png": "[encoded data removed]",
            "text/plain": [
              "<Figure size 432x288 with 1 Axes>"
            ]
          },
          "metadata": {
            "needs_background": "light"
          }
        }
      ]
    },
    {
      "cell_type": "code",
      "metadata": {
        "id": "oK0GFmlFr5sV",
        "colab": {
          "base_uri": "https://localhost:8080/",
          "height": 203
        },
        "outputId": "e1b5ed79-85b3-44c0-9c7f-06d84803bf56"
      },
      "source": [
        "y_train_pred['final_predicted'] = y_train_pred.Fraud_Prob.map( lambda x: 1 if x > 0.4 else 0)\n",
        "\n",
        "y_train_pred.head()"
      ],
      "execution_count": null,
      "outputs": [
        {
          "output_type": "execute_result",
          "data": {
            "text/html": [
              "<div>\n",
              "<style scoped>\n",
              "    .dataframe tbody tr th:only-of-type {\n",
              "        vertical-align: middle;\n",
              "    }\n",
              "\n",
              "    .dataframe tbody tr th {\n",
              "        vertical-align: top;\n",
              "    }\n",
              "\n",
              "    .dataframe thead th {\n",
              "        text-align: right;\n",
              "    }\n",
              "</style>\n",
              "<table border=\"1\" class=\"dataframe\">\n",
              "  <thead>\n",
              "    <tr style=\"text-align: right;\">\n",
              "      <th></th>\n",
              "      <th>Fraud</th>\n",
              "      <th>Fraud_Prob</th>\n",
              "      <th>predicted</th>\n",
              "      <th>0.0</th>\n",
              "      <th>0.1</th>\n",
              "      <th>0.2</th>\n",
              "      <th>0.3</th>\n",
              "      <th>0.4</th>\n",
              "      <th>0.5</th>\n",
              "      <th>0.6</th>\n",
              "      <th>0.7</th>\n",
              "      <th>0.8</th>\n",
              "      <th>0.9</th>\n",
              "      <th>final_predicted</th>\n",
              "    </tr>\n",
              "  </thead>\n",
              "  <tbody>\n",
              "    <tr>\n",
              "      <th>0</th>\n",
              "      <td>0</td>\n",
              "      <td>0.067563</td>\n",
              "      <td>0</td>\n",
              "      <td>1</td>\n",
              "      <td>0</td>\n",
              "      <td>0</td>\n",
              "      <td>0</td>\n",
              "      <td>0</td>\n",
              "      <td>0</td>\n",
              "      <td>0</td>\n",
              "      <td>0</td>\n",
              "      <td>0</td>\n",
              "      <td>0</td>\n",
              "      <td>0</td>\n",
              "    </tr>\n",
              "    <tr>\n",
              "      <th>1</th>\n",
              "      <td>0</td>\n",
              "      <td>0.002364</td>\n",
              "      <td>0</td>\n",
              "      <td>1</td>\n",
              "      <td>0</td>\n",
              "      <td>0</td>\n",
              "      <td>0</td>\n",
              "      <td>0</td>\n",
              "      <td>0</td>\n",
              "      <td>0</td>\n",
              "      <td>0</td>\n",
              "      <td>0</td>\n",
              "      <td>0</td>\n",
              "      <td>0</td>\n",
              "    </tr>\n",
              "    <tr>\n",
              "      <th>2</th>\n",
              "      <td>0</td>\n",
              "      <td>0.002041</td>\n",
              "      <td>0</td>\n",
              "      <td>1</td>\n",
              "      <td>0</td>\n",
              "      <td>0</td>\n",
              "      <td>0</td>\n",
              "      <td>0</td>\n",
              "      <td>0</td>\n",
              "      <td>0</td>\n",
              "      <td>0</td>\n",
              "      <td>0</td>\n",
              "      <td>0</td>\n",
              "      <td>0</td>\n",
              "    </tr>\n",
              "    <tr>\n",
              "      <th>3</th>\n",
              "      <td>0</td>\n",
              "      <td>0.196895</td>\n",
              "      <td>0</td>\n",
              "      <td>1</td>\n",
              "      <td>1</td>\n",
              "      <td>0</td>\n",
              "      <td>0</td>\n",
              "      <td>0</td>\n",
              "      <td>0</td>\n",
              "      <td>0</td>\n",
              "      <td>0</td>\n",
              "      <td>0</td>\n",
              "      <td>0</td>\n",
              "      <td>0</td>\n",
              "    </tr>\n",
              "    <tr>\n",
              "      <th>4</th>\n",
              "      <td>0</td>\n",
              "      <td>0.001695</td>\n",
              "      <td>0</td>\n",
              "      <td>1</td>\n",
              "      <td>0</td>\n",
              "      <td>0</td>\n",
              "      <td>0</td>\n",
              "      <td>0</td>\n",
              "      <td>0</td>\n",
              "      <td>0</td>\n",
              "      <td>0</td>\n",
              "      <td>0</td>\n",
              "      <td>0</td>\n",
              "      <td>0</td>\n",
              "    </tr>\n",
              "  </tbody>\n",
              "</table>\n",
              "</div>"
            ],
            "text/plain": [
              "   Fraud  Fraud_Prob  predicted  0.0  0.1  ...  0.6  0.7  0.8  0.9  final_predicted\n",
              "0      0    0.067563          0    1    0  ...    0    0    0    0                0\n",
              "1      0    0.002364          0    1    0  ...    0    0    0    0                0\n",
              "2      0    0.002041          0    1    0  ...    0    0    0    0                0\n",
              "3      0    0.196895          0    1    1  ...    0    0    0    0                0\n",
              "4      0    0.001695          0    1    0  ...    0    0    0    0                0\n",
              "\n",
              "[5 rows x 14 columns]"
            ]
          },
          "metadata": {},
          "execution_count": 87
        }
      ]
    },
    {
      "cell_type": "code",
      "metadata": {
        "id": "jMniJG5gsAVu",
        "colab": {
          "base_uri": "https://localhost:8080/"
        },
        "outputId": "4ced04ce-5d21-4710-dfd6-c8dfe1778ab6"
      },
      "source": [
        "# Let's check the overall accuracy.\n",
        "print(metrics.accuracy_score(y_train_pred.Fraud, y_train_pred.final_predicted))"
      ],
      "execution_count": null,
      "outputs": [
        {
          "output_type": "stream",
          "name": "stdout",
          "text": [
            "0.9037635354119036\n"
          ]
        }
      ]
    },
    {
      "cell_type": "code",
      "metadata": {
        "id": "Nu3mnbP8sFH_",
        "colab": {
          "base_uri": "https://localhost:8080/"
        },
        "outputId": "9a239b9c-7143-4b5c-e18b-19037e6cd5e0"
      },
      "source": [
        "confusion2 = metrics.confusion_matrix(y_train_pred.Fraud, y_train_pred.final_predicted )\n",
        "confusion2"
      ],
      "execution_count": null,
      "outputs": [
        {
          "output_type": "execute_result",
          "data": {
            "text/plain": [
              "array([[178945,  20070],\n",
              "       [ 18235, 180780]])"
            ]
          },
          "metadata": {},
          "execution_count": 89
        }
      ]
    },
    {
      "cell_type": "code",
      "metadata": {
        "id": "z5BSSsiSsMGG",
        "colab": {
          "base_uri": "https://localhost:8080/"
        },
        "outputId": "6ae4e2ac-a997-452e-ad56-c56917643e06"
      },
      "source": [
        "get_all_measures(confusion2)"
      ],
      "execution_count": null,
      "outputs": [
        {
          "output_type": "stream",
          "name": "stdout",
          "text": [
            "Sensitivity is : 0.91\n",
            "\n",
            "specificity is : 0.90\n",
            "\n",
            "false_positive_rate is : 0.10\n",
            "\n",
            "negative_predictive_value is : 0.91\n",
            "\n",
            "precision is : 0.90\n",
            "\n",
            "recall is : 0.91\n",
            "\n"
          ]
        }
      ]
    },
    {
      "cell_type": "code",
      "metadata": {
        "id": "WJCdDIqwsoM2",
        "colab": {
          "base_uri": "https://localhost:8080/",
          "height": 203
        },
        "outputId": "801286ae-f379-498b-fad4-0120c124565a"
      },
      "source": [
        "X_test = X_test[col]\n",
        "X_test.head()"
      ],
      "execution_count": null,
      "outputs": [
        {
          "output_type": "execute_result",
          "data": {
            "text/html": [
              "<div>\n",
              "<style scoped>\n",
              "    .dataframe tbody tr th:only-of-type {\n",
              "        vertical-align: middle;\n",
              "    }\n",
              "\n",
              "    .dataframe tbody tr th {\n",
              "        vertical-align: top;\n",
              "    }\n",
              "\n",
              "    .dataframe thead th {\n",
              "        text-align: right;\n",
              "    }\n",
              "</style>\n",
              "<table border=\"1\" class=\"dataframe\">\n",
              "  <thead>\n",
              "    <tr style=\"text-align: right;\">\n",
              "      <th></th>\n",
              "      <th>V4</th>\n",
              "      <th>V6</th>\n",
              "      <th>V8</th>\n",
              "      <th>V13</th>\n",
              "      <th>V18</th>\n",
              "      <th>V25</th>\n",
              "      <th>V27</th>\n",
              "      <th>V28</th>\n",
              "    </tr>\n",
              "  </thead>\n",
              "  <tbody>\n",
              "    <tr>\n",
              "      <th>69469</th>\n",
              "      <td>-0.604220</td>\n",
              "      <td>3.220823</td>\n",
              "      <td>0.765428</td>\n",
              "      <td>0.021785</td>\n",
              "      <td>-0.082656</td>\n",
              "      <td>0.436351</td>\n",
              "      <td>-0.049085</td>\n",
              "      <td>0.013198</td>\n",
              "    </tr>\n",
              "    <tr>\n",
              "      <th>190234</th>\n",
              "      <td>0.533765</td>\n",
              "      <td>-1.447242</td>\n",
              "      <td>-0.354569</td>\n",
              "      <td>-0.302472</td>\n",
              "      <td>0.447603</td>\n",
              "      <td>0.227029</td>\n",
              "      <td>-0.001726</td>\n",
              "      <td>-0.031748</td>\n",
              "    </tr>\n",
              "    <tr>\n",
              "      <th>175551</th>\n",
              "      <td>0.306401</td>\n",
              "      <td>0.183886</td>\n",
              "      <td>0.226719</td>\n",
              "      <td>-0.384204</td>\n",
              "      <td>0.682198</td>\n",
              "      <td>-0.141367</td>\n",
              "      <td>0.033374</td>\n",
              "      <td>-0.040584</td>\n",
              "    </tr>\n",
              "    <tr>\n",
              "      <th>149595</th>\n",
              "      <td>-0.197500</td>\n",
              "      <td>0.097873</td>\n",
              "      <td>-11.169795</td>\n",
              "      <td>1.436761</td>\n",
              "      <td>-0.529008</td>\n",
              "      <td>-0.196056</td>\n",
              "      <td>0.045830</td>\n",
              "      <td>0.503654</td>\n",
              "    </tr>\n",
              "    <tr>\n",
              "      <th>77646</th>\n",
              "      <td>-0.094733</td>\n",
              "      <td>-1.010269</td>\n",
              "      <td>-0.189717</td>\n",
              "      <td>1.321746</td>\n",
              "      <td>1.533399</td>\n",
              "      <td>0.198068</td>\n",
              "      <td>-0.012535</td>\n",
              "      <td>0.064118</td>\n",
              "    </tr>\n",
              "  </tbody>\n",
              "</table>\n",
              "</div>"
            ],
            "text/plain": [
              "              V4        V6         V8  ...       V25       V27       V28\n",
              "69469  -0.604220  3.220823   0.765428  ...  0.436351 -0.049085  0.013198\n",
              "190234  0.533765 -1.447242  -0.354569  ...  0.227029 -0.001726 -0.031748\n",
              "175551  0.306401  0.183886   0.226719  ... -0.141367  0.033374 -0.040584\n",
              "149595 -0.197500  0.097873 -11.169795  ... -0.196056  0.045830  0.503654\n",
              "77646  -0.094733 -1.010269  -0.189717  ...  0.198068 -0.012535  0.064118\n",
              "\n",
              "[5 rows x 8 columns]"
            ]
          },
          "metadata": {},
          "execution_count": 91
        }
      ]
    },
    {
      "cell_type": "code",
      "metadata": {
        "id": "QYZsBG-MvR6D"
      },
      "source": [
        "X_test_sm = sm.add_constant(X_test)"
      ],
      "execution_count": null,
      "outputs": []
    },
    {
      "cell_type": "code",
      "metadata": {
        "id": "76qymAWPvYyV"
      },
      "source": [
        "y_test_pred = res.predict(X_test_sm)"
      ],
      "execution_count": null,
      "outputs": []
    },
    {
      "cell_type": "code",
      "metadata": {
        "id": "WnKugazAvaoE"
      },
      "source": [
        "# Converting y_pred to a dataframe which is an array\n",
        "y_pred_1 = pd.DataFrame(y_test_pred)"
      ],
      "execution_count": null,
      "outputs": []
    },
    {
      "cell_type": "code",
      "metadata": {
        "id": "liBAAXXQvcl2"
      },
      "source": [
        "# Converting y_test to dataframe\n",
        "y_test_df = pd.DataFrame(y_test)"
      ],
      "execution_count": null,
      "outputs": []
    },
    {
      "cell_type": "code",
      "metadata": {
        "id": "FLDARO0gvePV"
      },
      "source": [
        "# Appending y_test_df and y_pred_1\n",
        "y_pred_final_test = pd.concat([y_test_df, y_pred_1],axis=1)"
      ],
      "execution_count": null,
      "outputs": []
    },
    {
      "cell_type": "code",
      "metadata": {
        "id": "cnM2X6PAvmym",
        "colab": {
          "base_uri": "https://localhost:8080/",
          "height": 203
        },
        "outputId": "9fea9e47-8076-42d0-a9d8-c0c6123675a4"
      },
      "source": [
        "y_pred_final_test.head()"
      ],
      "execution_count": null,
      "outputs": [
        {
          "output_type": "execute_result",
          "data": {
            "text/html": [
              "<div>\n",
              "<style scoped>\n",
              "    .dataframe tbody tr th:only-of-type {\n",
              "        vertical-align: middle;\n",
              "    }\n",
              "\n",
              "    .dataframe tbody tr th {\n",
              "        vertical-align: top;\n",
              "    }\n",
              "\n",
              "    .dataframe thead th {\n",
              "        text-align: right;\n",
              "    }\n",
              "</style>\n",
              "<table border=\"1\" class=\"dataframe\">\n",
              "  <thead>\n",
              "    <tr style=\"text-align: right;\">\n",
              "      <th></th>\n",
              "      <th>Class</th>\n",
              "      <th>0</th>\n",
              "    </tr>\n",
              "  </thead>\n",
              "  <tbody>\n",
              "    <tr>\n",
              "      <th>69469</th>\n",
              "      <td>0</td>\n",
              "      <td>0.001805</td>\n",
              "    </tr>\n",
              "    <tr>\n",
              "      <th>190234</th>\n",
              "      <td>0</td>\n",
              "      <td>0.260024</td>\n",
              "    </tr>\n",
              "    <tr>\n",
              "      <th>175551</th>\n",
              "      <td>0</td>\n",
              "      <td>0.038802</td>\n",
              "    </tr>\n",
              "    <tr>\n",
              "      <th>149595</th>\n",
              "      <td>0</td>\n",
              "      <td>0.799779</td>\n",
              "    </tr>\n",
              "    <tr>\n",
              "      <th>77646</th>\n",
              "      <td>0</td>\n",
              "      <td>0.028440</td>\n",
              "    </tr>\n",
              "  </tbody>\n",
              "</table>\n",
              "</div>"
            ],
            "text/plain": [
              "        Class         0\n",
              "69469       0  0.001805\n",
              "190234      0  0.260024\n",
              "175551      0  0.038802\n",
              "149595      0  0.799779\n",
              "77646       0  0.028440"
            ]
          },
          "metadata": {},
          "execution_count": 97
        }
      ]
    },
    {
      "cell_type": "code",
      "metadata": {
        "id": "-7GBcwlcvoX8"
      },
      "source": [
        "# Renaming the column \n",
        "y_pred_final_test= y_pred_final_test.rename(columns={ 0 : 'Fraud_Prob'})"
      ],
      "execution_count": null,
      "outputs": []
    },
    {
      "cell_type": "code",
      "metadata": {
        "id": "w6vSuZAWvuDD"
      },
      "source": [
        "y_pred_final_test['final_predicted'] = y_pred_final_test.Fraud_Prob.map(lambda x: 1 if x > 0.4 else 0)"
      ],
      "execution_count": null,
      "outputs": []
    },
    {
      "cell_type": "code",
      "metadata": {
        "id": "c9Oft6P_vz3Z",
        "colab": {
          "base_uri": "https://localhost:8080/",
          "height": 203
        },
        "outputId": "43e1a70f-4e3a-4263-c3d5-425eb5dcec2b"
      },
      "source": [
        "y_pred_final_test.head()"
      ],
      "execution_count": null,
      "outputs": [
        {
          "output_type": "execute_result",
          "data": {
            "text/html": [
              "<div>\n",
              "<style scoped>\n",
              "    .dataframe tbody tr th:only-of-type {\n",
              "        vertical-align: middle;\n",
              "    }\n",
              "\n",
              "    .dataframe tbody tr th {\n",
              "        vertical-align: top;\n",
              "    }\n",
              "\n",
              "    .dataframe thead th {\n",
              "        text-align: right;\n",
              "    }\n",
              "</style>\n",
              "<table border=\"1\" class=\"dataframe\">\n",
              "  <thead>\n",
              "    <tr style=\"text-align: right;\">\n",
              "      <th></th>\n",
              "      <th>Class</th>\n",
              "      <th>Fraud_Prob</th>\n",
              "      <th>final_predicted</th>\n",
              "    </tr>\n",
              "  </thead>\n",
              "  <tbody>\n",
              "    <tr>\n",
              "      <th>69469</th>\n",
              "      <td>0</td>\n",
              "      <td>0.001805</td>\n",
              "      <td>0</td>\n",
              "    </tr>\n",
              "    <tr>\n",
              "      <th>190234</th>\n",
              "      <td>0</td>\n",
              "      <td>0.260024</td>\n",
              "      <td>0</td>\n",
              "    </tr>\n",
              "    <tr>\n",
              "      <th>175551</th>\n",
              "      <td>0</td>\n",
              "      <td>0.038802</td>\n",
              "      <td>0</td>\n",
              "    </tr>\n",
              "    <tr>\n",
              "      <th>149595</th>\n",
              "      <td>0</td>\n",
              "      <td>0.799779</td>\n",
              "      <td>1</td>\n",
              "    </tr>\n",
              "    <tr>\n",
              "      <th>77646</th>\n",
              "      <td>0</td>\n",
              "      <td>0.028440</td>\n",
              "      <td>0</td>\n",
              "    </tr>\n",
              "  </tbody>\n",
              "</table>\n",
              "</div>"
            ],
            "text/plain": [
              "        Class  Fraud_Prob  final_predicted\n",
              "69469       0    0.001805                0\n",
              "190234      0    0.260024                0\n",
              "175551      0    0.038802                0\n",
              "149595      0    0.799779                1\n",
              "77646       0    0.028440                0"
            ]
          },
          "metadata": {},
          "execution_count": 101
        }
      ]
    },
    {
      "cell_type": "code",
      "metadata": {
        "id": "L0V3JhgQv1ny",
        "colab": {
          "base_uri": "https://localhost:8080/"
        },
        "outputId": "288a693c-dd93-48ae-e01c-d15fbaeb40c3"
      },
      "source": [
        "# Let's check the overall accuracy.\n",
        "print(metrics.accuracy_score(y_pred_final_test.Class, y_pred_final_test.final_predicted))"
      ],
      "execution_count": null,
      "outputs": [
        {
          "output_type": "stream",
          "name": "stdout",
          "text": [
            "0.9007876596093302\n"
          ]
        }
      ]
    },
    {
      "cell_type": "code",
      "metadata": {
        "id": "FzIEfc5hv3qz",
        "colab": {
          "base_uri": "https://localhost:8080/"
        },
        "outputId": "c18ad615-e771-462e-a27e-c6d290ad2f73"
      },
      "source": [
        "confusion2 = metrics.confusion_matrix(y_pred_final_test.Class, y_pred_final_test.final_predicted )\n",
        "confusion2"
      ],
      "execution_count": null,
      "outputs": [
        {
          "output_type": "execute_result",
          "data": {
            "text/plain": [
              "array([[76841,  8459],\n",
              "       [   18,   125]])"
            ]
          },
          "metadata": {},
          "execution_count": 103
        }
      ]
    },
    {
      "cell_type": "code",
      "metadata": {
        "id": "VPatTyUDwCzF",
        "colab": {
          "base_uri": "https://localhost:8080/"
        },
        "outputId": "0f9a4c6d-2d0d-44f3-cc1a-36c6b9b32304"
      },
      "source": [
        "get_all_measures(confusion2)"
      ],
      "execution_count": null,
      "outputs": [
        {
          "output_type": "stream",
          "name": "stdout",
          "text": [
            "Sensitivity is : 0.87\n",
            "\n",
            "specificity is : 0.90\n",
            "\n",
            "false_positive_rate is : 0.10\n",
            "\n",
            "negative_predictive_value is : 1.00\n",
            "\n",
            "precision is : 0.01\n",
            "\n",
            "recall is : 0.87\n",
            "\n"
          ]
        }
      ]
    },
    {
      "cell_type": "markdown",
      "metadata": {
        "id": "Z-aSDonQtHkq"
      },
      "source": [
        "# The precision in test data is very low. There are lots of false positives. "
      ]
    },
    {
      "cell_type": "markdown",
      "metadata": {
        "id": "soBaqdoETSbS"
      },
      "source": [
        "## Support Vector Machine"
      ]
    },
    {
      "cell_type": "code",
      "metadata": {
        "id": "PXooP-v-TRdJ"
      },
      "source": [
        "X_scaled = scale(X)\n",
        "X_train, X_test, y_train, y_test = train_test_split(X_scaled, y, test_size = 0.3, random_state = 101)"
      ],
      "execution_count": null,
      "outputs": []
    },
    {
      "cell_type": "code",
      "metadata": {
        "id": "hbAp-X7iUHXQ"
      },
      "source": [
        "# linear model\n",
        "\n",
        "model_linear = SVC(kernel='linear')\n",
        "model_linear.fit(X_train, y_train)\n",
        "\n",
        "# predict\n",
        "y_pred = model_linear.predict(X_test)"
      ],
      "execution_count": null,
      "outputs": []
    },
    {
      "cell_type": "code",
      "metadata": {
        "colab": {
          "base_uri": "https://localhost:8080/"
        },
        "id": "869qrY64UMc6",
        "outputId": "c638fd96-50da-457c-efa1-2de7ab8eee37"
      },
      "source": [
        "print(\"accuracy:\", metrics.accuracy_score(y_true=y_test, y_pred=y_pred), \"\\n\")"
      ],
      "execution_count": null,
      "outputs": [
        {
          "output_type": "stream",
          "name": "stdout",
          "text": [
            "accuracy: 0.9994499256814484 \n",
            "\n"
          ]
        }
      ]
    },
    {
      "cell_type": "code",
      "metadata": {
        "colab": {
          "base_uri": "https://localhost:8080/"
        },
        "id": "ZAVYx-NiUdi6",
        "outputId": "d453cd91-f776-4fab-9420-367bfec89dad"
      },
      "source": [
        "print(metrics.confusion_matrix(y_true=y_test, y_pred=y_pred))"
      ],
      "execution_count": null,
      "outputs": [
        {
          "output_type": "stream",
          "name": "stdout",
          "text": [
            "[[85280    19]\n",
            " [   28   116]]\n"
          ]
        }
      ]
    },
    {
      "cell_type": "code",
      "metadata": {
        "id": "NUziH_1dVeoR"
      },
      "source": [
        "confusion_svm_linear = metrics.confusion_matrix(y_true=y_test, y_pred=y_pred)"
      ],
      "execution_count": null,
      "outputs": []
    },
    {
      "cell_type": "code",
      "metadata": {
        "id": "9rpqhM8njUVw",
        "colab": {
          "base_uri": "https://localhost:8080/"
        },
        "outputId": "18b81b4b-3293-496a-8b05-cd20fab2959a"
      },
      "source": [
        "get_all_measures(confusion_svm_linear)"
      ],
      "execution_count": null,
      "outputs": [
        {
          "output_type": "stream",
          "name": "stdout",
          "text": [
            "Sensitivity is : 0.81\n",
            "\n",
            "specificity is : 1.00\n",
            "\n",
            "false_positive_rate is : 0.00\n",
            "\n",
            "negative_predictive_value is : 1.00\n",
            "\n",
            "precision is : 0.86\n",
            "\n",
            "recall is : 0.81\n",
            "\n"
          ]
        }
      ]
    },
    {
      "cell_type": "code",
      "metadata": {
        "id": "wYy8c8IejV6M"
      },
      "source": [
        "# non-linear model\n",
        "# using rbf kernel, C=1, default value of gamma\n",
        "\n",
        "# model\n",
        "non_linear_model = SVC(kernel='rbf')\n",
        "\n",
        "# fit\n",
        "non_linear_model.fit(X_train, y_train)\n",
        "\n",
        "# predict\n",
        "y_pred = non_linear_model.predict(X_test)"
      ],
      "execution_count": null,
      "outputs": []
    },
    {
      "cell_type": "code",
      "metadata": {
        "id": "9Da4QsG1jpro",
        "colab": {
          "base_uri": "https://localhost:8080/"
        },
        "outputId": "63e7d316-df4b-47f7-952f-ceccebd794e3"
      },
      "source": [
        "print(\"accuracy:\", metrics.accuracy_score(y_true=y_test, y_pred=y_pred), \"\\n\")"
      ],
      "execution_count": null,
      "outputs": [
        {
          "output_type": "stream",
          "name": "stdout",
          "text": [
            "accuracy: 0.999403110845827 \n",
            "\n"
          ]
        }
      ]
    },
    {
      "cell_type": "code",
      "metadata": {
        "id": "qz7oqacjk23W"
      },
      "source": [
        "confusion_svm_non_linear = metrics.confusion_matrix(y_true=y_test, y_pred=y_pred)"
      ],
      "execution_count": null,
      "outputs": []
    },
    {
      "cell_type": "code",
      "metadata": {
        "id": "bxXbcUJTk9I7",
        "colab": {
          "base_uri": "https://localhost:8080/"
        },
        "outputId": "1d4d7206-c980-467a-874f-500f3f6dca55"
      },
      "source": [
        "get_all_measures(confusion_svm_non_linear)"
      ],
      "execution_count": null,
      "outputs": [
        {
          "output_type": "stream",
          "name": "stdout",
          "text": [
            "Sensitivity is : 0.69\n",
            "\n",
            "specificity is : 1.00\n",
            "\n",
            "false_positive_rate is : 0.00\n",
            "\n",
            "negative_predictive_value is : 1.00\n",
            "\n",
            "precision is : 0.94\n",
            "\n",
            "recall is : 0.69\n",
            "\n"
          ]
        }
      ]
    },
    {
      "cell_type": "markdown",
      "metadata": {
        "id": "JDfqWVmklFTS"
      },
      "source": [
        "### Linear SVM model is performing better than the Non Linear SVM Model. We will proceed with the hyperparameter tuning of the linear model"
      ]
    },
    {
      "cell_type": "markdown",
      "metadata": {
        "id": "KoNNiNf2-BR_"
      },
      "source": [
        "# Decision Tree"
      ]
    },
    {
      "cell_type": "code",
      "metadata": {
        "id": "4AtLZZPsi69J"
      },
      "source": [
        "# Splitting the data into train and test\n",
        "X_train, X_test, y_train, y_test = train_test_split(X, y, \n",
        "                                                    test_size=0.30, \n",
        "                                                    random_state = 99)"
      ],
      "execution_count": 12,
      "outputs": []
    },
    {
      "cell_type": "code",
      "metadata": {
        "colab": {
          "base_uri": "https://localhost:8080/"
        },
        "id": "i3UvHmZA-cKK",
        "outputId": "d8f3073f-ee72-4b89-dde3-843a7d398634"
      },
      "source": [
        "dt_default = DecisionTreeClassifier(max_depth=5)\n",
        "dt_default.fit(X_train, y_train)"
      ],
      "execution_count": 13,
      "outputs": [
        {
          "output_type": "execute_result",
          "data": {
            "text/plain": [
              "DecisionTreeClassifier(ccp_alpha=0.0, class_weight=None, criterion='gini',\n",
              "                       max_depth=5, max_features=None, max_leaf_nodes=None,\n",
              "                       min_impurity_decrease=0.0, min_impurity_split=None,\n",
              "                       min_samples_leaf=1, min_samples_split=2,\n",
              "                       min_weight_fraction_leaf=0.0, presort='deprecated',\n",
              "                       random_state=None, splitter='best')"
            ]
          },
          "metadata": {},
          "execution_count": 13
        }
      ]
    },
    {
      "cell_type": "code",
      "metadata": {
        "id": "ExFVPCfF--Ap"
      },
      "source": [
        "y_pred = dt_default.predict(X_test)"
      ],
      "execution_count": 14,
      "outputs": []
    },
    {
      "cell_type": "code",
      "metadata": {
        "colab": {
          "base_uri": "https://localhost:8080/"
        },
        "id": "YIM5CNLN_ExQ",
        "outputId": "a241256b-f069-45f5-e471-75051cef73fe"
      },
      "source": [
        "print(\"accuracy:\", metrics.accuracy_score(y_true=y_test, y_pred=y_pred), \"\\n\")"
      ],
      "execution_count": 15,
      "outputs": [
        {
          "output_type": "stream",
          "name": "stdout",
          "text": [
            "accuracy: 0.9994616293903538 \n",
            "\n"
          ]
        }
      ]
    },
    {
      "cell_type": "code",
      "metadata": {
        "id": "PC-FKRRF_HED"
      },
      "source": [
        "confusion_decision_tree_default = metrics.confusion_matrix(y_true=y_test, y_pred=y_pred)"
      ],
      "execution_count": 16,
      "outputs": []
    },
    {
      "cell_type": "code",
      "metadata": {
        "colab": {
          "base_uri": "https://localhost:8080/"
        },
        "id": "OkhA73B3_MN3",
        "outputId": "e4cce4e9-138e-49c3-f143-8d399eb3729c"
      },
      "source": [
        "get_all_measures(confusion_decision_tree_default)"
      ],
      "execution_count": 20,
      "outputs": [
        {
          "output_type": "stream",
          "name": "stdout",
          "text": [
            "Sensitivity is : 0.82\n",
            "\n",
            "specificity is : 1.00\n",
            "\n",
            "false_positive_rate is : 0.00\n",
            "\n",
            "negative_predictive_value is : 1.00\n",
            "\n",
            "precision is : 0.88\n",
            "\n",
            "recall is : 0.82\n",
            "\n"
          ]
        }
      ]
    },
    {
      "cell_type": "markdown",
      "metadata": {
        "id": "uS1Tru2_H4Ge"
      },
      "source": [
        "## Hyperparameter Tuning"
      ]
    },
    {
      "cell_type": "markdown",
      "metadata": {
        "id": "JmqdNUuqRI7u"
      },
      "source": [
        "### There are total 4 hyperparameters that we are gonna tune for decision tree . A short description is given below for each of them\n",
        "\n",
        "\n",
        "\n",
        "*   max depth - the maximum depth of the tree\n",
        "\n",
        "*   criterion - there are two values here. \n",
        "  1.   gini -measure of impurity\n",
        "  2.   entropy - measure of randomness\n",
        "\n",
        "*   min_samples_leaf - the minimum samples required to be at a leaf node\n",
        "*   min_samples_split - the minimum samples required to split an     internal node\n",
        "\n",
        "\n",
        "\n",
        "\n",
        "\n",
        "\n",
        "\n",
        "\n",
        "\n"
      ]
    },
    {
      "cell_type": "markdown",
      "metadata": {
        "id": "EUflqAO2H53V"
      },
      "source": [
        "### Tuning criterion"
      ]
    },
    {
      "cell_type": "code",
      "metadata": {
        "colab": {
          "base_uri": "https://localhost:8080/"
        },
        "id": "NQNN-wLy_SgA",
        "outputId": "0e18ddbe-c99e-4b8a-ca00-966e2aa153d1"
      },
      "source": [
        "# specify number of folds for k-fold CV\n",
        "n_folds = 5\n",
        "\n",
        "# parameters to build the model on\n",
        "parameters = {'criterion': [\"entropy\", \"gini\"]}\n",
        "\n",
        "# instantiate the model\n",
        "dtree = DecisionTreeClassifier(random_state = 100)\n",
        "\n",
        "# fit tree on training data\n",
        "tree = GridSearchCV(dtree, parameters, \n",
        "                    cv=n_folds, \n",
        "                   scoring=\"accuracy\",\n",
        "                    return_train_score=True)\n",
        "tree.fit(X_train, y_train)"
      ],
      "execution_count": 22,
      "outputs": [
        {
          "output_type": "execute_result",
          "data": {
            "text/plain": [
              "GridSearchCV(cv=5, error_score=nan,\n",
              "             estimator=DecisionTreeClassifier(ccp_alpha=0.0, class_weight=None,\n",
              "                                              criterion='gini', max_depth=None,\n",
              "                                              max_features=None,\n",
              "                                              max_leaf_nodes=None,\n",
              "                                              min_impurity_decrease=0.0,\n",
              "                                              min_impurity_split=None,\n",
              "                                              min_samples_leaf=1,\n",
              "                                              min_samples_split=2,\n",
              "                                              min_weight_fraction_leaf=0.0,\n",
              "                                              presort='deprecated',\n",
              "                                              random_state=100,\n",
              "                                              splitter='best'),\n",
              "             iid='deprecated', n_jobs=None,\n",
              "             param_grid={'criterion': ['entropy', 'gini']},\n",
              "             pre_dispatch='2*n_jobs', refit=True, return_train_score=True,\n",
              "             scoring='accuracy', verbose=0)"
            ]
          },
          "metadata": {},
          "execution_count": 22
        }
      ]
    },
    {
      "cell_type": "code",
      "metadata": {
        "colab": {
          "base_uri": "https://localhost:8080/",
          "height": 164
        },
        "id": "fAwT6o6T_5jo",
        "outputId": "0f123b9d-2d6a-4ba2-9926-37550e06040a"
      },
      "source": [
        "# scores of GridSearch CV\n",
        "scores = tree.cv_results_\n",
        "pd.DataFrame(scores).head()"
      ],
      "execution_count": 23,
      "outputs": [
        {
          "output_type": "execute_result",
          "data": {
            "text/html": [
              "<div>\n",
              "<style scoped>\n",
              "    .dataframe tbody tr th:only-of-type {\n",
              "        vertical-align: middle;\n",
              "    }\n",
              "\n",
              "    .dataframe tbody tr th {\n",
              "        vertical-align: top;\n",
              "    }\n",
              "\n",
              "    .dataframe thead th {\n",
              "        text-align: right;\n",
              "    }\n",
              "</style>\n",
              "<table border=\"1\" class=\"dataframe\">\n",
              "  <thead>\n",
              "    <tr style=\"text-align: right;\">\n",
              "      <th></th>\n",
              "      <th>mean_fit_time</th>\n",
              "      <th>std_fit_time</th>\n",
              "      <th>mean_score_time</th>\n",
              "      <th>std_score_time</th>\n",
              "      <th>param_criterion</th>\n",
              "      <th>params</th>\n",
              "      <th>split0_test_score</th>\n",
              "      <th>split1_test_score</th>\n",
              "      <th>split2_test_score</th>\n",
              "      <th>split3_test_score</th>\n",
              "      <th>split4_test_score</th>\n",
              "      <th>mean_test_score</th>\n",
              "      <th>std_test_score</th>\n",
              "      <th>rank_test_score</th>\n",
              "      <th>split0_train_score</th>\n",
              "      <th>split1_train_score</th>\n",
              "      <th>split2_train_score</th>\n",
              "      <th>split3_train_score</th>\n",
              "      <th>split4_train_score</th>\n",
              "      <th>mean_train_score</th>\n",
              "      <th>std_train_score</th>\n",
              "    </tr>\n",
              "  </thead>\n",
              "  <tbody>\n",
              "    <tr>\n",
              "      <th>0</th>\n",
              "      <td>8.869686</td>\n",
              "      <td>0.483726</td>\n",
              "      <td>0.009354</td>\n",
              "      <td>0.000108</td>\n",
              "      <td>entropy</td>\n",
              "      <td>{'criterion': 'entropy'}</td>\n",
              "      <td>0.999248</td>\n",
              "      <td>0.999172</td>\n",
              "      <td>0.999147</td>\n",
              "      <td>0.999197</td>\n",
              "      <td>0.999172</td>\n",
              "      <td>0.999187</td>\n",
              "      <td>0.000034</td>\n",
              "      <td>1</td>\n",
              "      <td>1.0</td>\n",
              "      <td>1.0</td>\n",
              "      <td>1.0</td>\n",
              "      <td>1.0</td>\n",
              "      <td>1.0</td>\n",
              "      <td>1.0</td>\n",
              "      <td>0.0</td>\n",
              "    </tr>\n",
              "    <tr>\n",
              "      <th>1</th>\n",
              "      <td>12.582323</td>\n",
              "      <td>1.591743</td>\n",
              "      <td>0.010840</td>\n",
              "      <td>0.000967</td>\n",
              "      <td>gini</td>\n",
              "      <td>{'criterion': 'gini'}</td>\n",
              "      <td>0.998972</td>\n",
              "      <td>0.999172</td>\n",
              "      <td>0.998972</td>\n",
              "      <td>0.999223</td>\n",
              "      <td>0.999022</td>\n",
              "      <td>0.999072</td>\n",
              "      <td>0.000105</td>\n",
              "      <td>2</td>\n",
              "      <td>1.0</td>\n",
              "      <td>1.0</td>\n",
              "      <td>1.0</td>\n",
              "      <td>1.0</td>\n",
              "      <td>1.0</td>\n",
              "      <td>1.0</td>\n",
              "      <td>0.0</td>\n",
              "    </tr>\n",
              "  </tbody>\n",
              "</table>\n",
              "</div>"
            ],
            "text/plain": [
              "   mean_fit_time  std_fit_time  ...  mean_train_score  std_train_score\n",
              "0       8.869686      0.483726  ...               1.0              0.0\n",
              "1      12.582323      1.591743  ...               1.0              0.0\n",
              "\n",
              "[2 rows x 21 columns]"
            ]
          },
          "metadata": {},
          "execution_count": 23
        }
      ]
    },
    {
      "cell_type": "code",
      "metadata": {
        "colab": {
          "base_uri": "https://localhost:8080/",
          "height": 279
        },
        "id": "BThVFljIAxOD",
        "outputId": "0748d7c6-ec86-4c7b-c51b-e27344a0f413"
      },
      "source": [
        "# plotting accuracies with param_criterion\n",
        "plt.figure()\n",
        "plt.plot(scores[\"param_criterion\"], \n",
        "         scores[\"mean_train_score\"], \n",
        "         label=\"training accuracy\")\n",
        "plt.plot(scores[\"param_criterion\"], \n",
        "         scores[\"mean_test_score\"], \n",
        "         label=\"test accuracy\")\n",
        "plt.xlabel(\"criterion\")\n",
        "plt.ylabel(\"Accuracy\")\n",
        "plt.legend()\n",
        "plt.show()"
      ],
      "execution_count": 24,
      "outputs": [
        {
          "output_type": "display_data",
          "data": {
            "image/png": "[encoded data removed]",
            "text/plain": [
              "<Figure size 432x288 with 1 Axes>"
            ]
          },
          "metadata": {
            "needs_background": "light"
          }
        }
      ]
    },
    {
      "cell_type": "markdown",
      "metadata": {
        "id": "3Xqiy0C_A3uB"
      },
      "source": [
        "### it's clear from the plot that entropy is the better criterion"
      ]
    },
    {
      "cell_type": "markdown",
      "metadata": {
        "id": "sKA-CoKOVZy8"
      },
      "source": [
        "## Tuning max_depth"
      ]
    },
    {
      "cell_type": "code",
      "metadata": {
        "colab": {
          "base_uri": "https://localhost:8080/"
        },
        "id": "ksMARsWLA2Tq",
        "outputId": "6123690b-0725-4545-c8b6-5de46a52352b"
      },
      "source": [
        "# specify number of folds for k-fold CV\n",
        "n_folds = 5\n",
        "\n",
        "# parameters to build the model on\n",
        "parameters = {'max_depth': range(1, 40)}\n",
        "\n",
        "# instantiate the model\n",
        "dtree = DecisionTreeClassifier(criterion = \"entropy\", \n",
        "                               random_state = 100)\n",
        "\n",
        "# fit tree on training data\n",
        "tree = GridSearchCV(dtree, parameters, \n",
        "                    cv=n_folds, \n",
        "                   scoring=\"accuracy\",\n",
        "                    return_train_score=True)\n",
        "tree.fit(X_train, y_train)"
      ],
      "execution_count": 25,
      "outputs": [
        {
          "output_type": "execute_result",
          "data": {
            "text/plain": [
              "GridSearchCV(cv=5, error_score=nan,\n",
              "             estimator=DecisionTreeClassifier(ccp_alpha=0.0, class_weight=None,\n",
              "                                              criterion='entropy',\n",
              "                                              max_depth=None, max_features=None,\n",
              "                                              max_leaf_nodes=None,\n",
              "                                              min_impurity_decrease=0.0,\n",
              "                                              min_impurity_split=None,\n",
              "                                              min_samples_leaf=1,\n",
              "                                              min_samples_split=2,\n",
              "                                              min_weight_fraction_leaf=0.0,\n",
              "                                              presort='deprecated',\n",
              "                                              random_state=100,\n",
              "                                              splitter='best'),\n",
              "             iid='deprecated', n_jobs=None,\n",
              "             param_grid={'max_depth': range(1, 40)}, pre_dispatch='2*n_jobs',\n",
              "             refit=True, return_train_score=True, scoring='accuracy',\n",
              "             verbose=0)"
            ]
          },
          "metadata": {},
          "execution_count": 25
        }
      ]
    },
    {
      "cell_type": "code",
      "metadata": {
        "colab": {
          "base_uri": "https://localhost:8080/",
          "height": 307
        },
        "id": "IAJyY4tiBE_u",
        "outputId": "b34fa578-0f4a-4631-ab2b-0158117af0f8"
      },
      "source": [
        "# scores of GridSearch CV\n",
        "scores = tree.cv_results_\n",
        "pd.DataFrame(scores).head()"
      ],
      "execution_count": 26,
      "outputs": [
        {
          "output_type": "execute_result",
          "data": {
            "text/html": [
              "<div>\n",
              "<style scoped>\n",
              "    .dataframe tbody tr th:only-of-type {\n",
              "        vertical-align: middle;\n",
              "    }\n",
              "\n",
              "    .dataframe tbody tr th {\n",
              "        vertical-align: top;\n",
              "    }\n",
              "\n",
              "    .dataframe thead th {\n",
              "        text-align: right;\n",
              "    }\n",
              "</style>\n",
              "<table border=\"1\" class=\"dataframe\">\n",
              "  <thead>\n",
              "    <tr style=\"text-align: right;\">\n",
              "      <th></th>\n",
              "      <th>mean_fit_time</th>\n",
              "      <th>std_fit_time</th>\n",
              "      <th>mean_score_time</th>\n",
              "      <th>std_score_time</th>\n",
              "      <th>param_max_depth</th>\n",
              "      <th>params</th>\n",
              "      <th>split0_test_score</th>\n",
              "      <th>split1_test_score</th>\n",
              "      <th>split2_test_score</th>\n",
              "      <th>split3_test_score</th>\n",
              "      <th>split4_test_score</th>\n",
              "      <th>mean_test_score</th>\n",
              "      <th>std_test_score</th>\n",
              "      <th>rank_test_score</th>\n",
              "      <th>split0_train_score</th>\n",
              "      <th>split1_train_score</th>\n",
              "      <th>split2_train_score</th>\n",
              "      <th>split3_train_score</th>\n",
              "      <th>split4_train_score</th>\n",
              "      <th>mean_train_score</th>\n",
              "      <th>std_train_score</th>\n",
              "    </tr>\n",
              "  </thead>\n",
              "  <tbody>\n",
              "    <tr>\n",
              "      <th>0</th>\n",
              "      <td>1.504881</td>\n",
              "      <td>0.326183</td>\n",
              "      <td>0.009316</td>\n",
              "      <td>0.002733</td>\n",
              "      <td>1</td>\n",
              "      <td>{'max_depth': 1}</td>\n",
              "      <td>0.998320</td>\n",
              "      <td>0.999122</td>\n",
              "      <td>0.999022</td>\n",
              "      <td>0.998320</td>\n",
              "      <td>0.998320</td>\n",
              "      <td>0.998621</td>\n",
              "      <td>0.000370</td>\n",
              "      <td>39</td>\n",
              "      <td>0.998320</td>\n",
              "      <td>0.999016</td>\n",
              "      <td>0.999041</td>\n",
              "      <td>0.998320</td>\n",
              "      <td>0.998320</td>\n",
              "      <td>0.998603</td>\n",
              "      <td>0.000347</td>\n",
              "    </tr>\n",
              "    <tr>\n",
              "      <th>1</th>\n",
              "      <td>2.470316</td>\n",
              "      <td>0.012188</td>\n",
              "      <td>0.008480</td>\n",
              "      <td>0.000920</td>\n",
              "      <td>2</td>\n",
              "      <td>{'max_depth': 2}</td>\n",
              "      <td>0.999323</td>\n",
              "      <td>0.999248</td>\n",
              "      <td>0.999147</td>\n",
              "      <td>0.999147</td>\n",
              "      <td>0.999147</td>\n",
              "      <td>0.999202</td>\n",
              "      <td>0.000072</td>\n",
              "      <td>22</td>\n",
              "      <td>0.999354</td>\n",
              "      <td>0.999191</td>\n",
              "      <td>0.999204</td>\n",
              "      <td>0.999392</td>\n",
              "      <td>0.999398</td>\n",
              "      <td>0.999308</td>\n",
              "      <td>0.000091</td>\n",
              "    </tr>\n",
              "    <tr>\n",
              "      <th>2</th>\n",
              "      <td>3.651599</td>\n",
              "      <td>0.010018</td>\n",
              "      <td>0.008221</td>\n",
              "      <td>0.000127</td>\n",
              "      <td>3</td>\n",
              "      <td>{'max_depth': 3}</td>\n",
              "      <td>0.999423</td>\n",
              "      <td>0.999473</td>\n",
              "      <td>0.999323</td>\n",
              "      <td>0.999248</td>\n",
              "      <td>0.999323</td>\n",
              "      <td>0.999358</td>\n",
              "      <td>0.000080</td>\n",
              "      <td>4</td>\n",
              "      <td>0.999498</td>\n",
              "      <td>0.999335</td>\n",
              "      <td>0.999354</td>\n",
              "      <td>0.999536</td>\n",
              "      <td>0.999455</td>\n",
              "      <td>0.999436</td>\n",
              "      <td>0.000079</td>\n",
              "    </tr>\n",
              "    <tr>\n",
              "      <th>3</th>\n",
              "      <td>4.833299</td>\n",
              "      <td>0.029654</td>\n",
              "      <td>0.008525</td>\n",
              "      <td>0.000081</td>\n",
              "      <td>4</td>\n",
              "      <td>{'max_depth': 4}</td>\n",
              "      <td>0.999423</td>\n",
              "      <td>0.999473</td>\n",
              "      <td>0.999273</td>\n",
              "      <td>0.999248</td>\n",
              "      <td>0.999298</td>\n",
              "      <td>0.999343</td>\n",
              "      <td>0.000089</td>\n",
              "      <td>6</td>\n",
              "      <td>0.999511</td>\n",
              "      <td>0.999517</td>\n",
              "      <td>0.999530</td>\n",
              "      <td>0.999542</td>\n",
              "      <td>0.999498</td>\n",
              "      <td>0.999520</td>\n",
              "      <td>0.000015</td>\n",
              "    </tr>\n",
              "    <tr>\n",
              "      <th>4</th>\n",
              "      <td>6.120603</td>\n",
              "      <td>0.269900</td>\n",
              "      <td>0.008678</td>\n",
              "      <td>0.000049</td>\n",
              "      <td>5</td>\n",
              "      <td>{'max_depth': 5}</td>\n",
              "      <td>0.999423</td>\n",
              "      <td>0.999398</td>\n",
              "      <td>0.999273</td>\n",
              "      <td>0.999423</td>\n",
              "      <td>0.999498</td>\n",
              "      <td>0.999403</td>\n",
              "      <td>0.000073</td>\n",
              "      <td>2</td>\n",
              "      <td>0.999605</td>\n",
              "      <td>0.999624</td>\n",
              "      <td>0.999580</td>\n",
              "      <td>0.999636</td>\n",
              "      <td>0.999630</td>\n",
              "      <td>0.999615</td>\n",
              "      <td>0.000020</td>\n",
              "    </tr>\n",
              "  </tbody>\n",
              "</table>\n",
              "</div>"
            ],
            "text/plain": [
              "   mean_fit_time  std_fit_time  ...  mean_train_score  std_train_score\n",
              "0       1.504881      0.326183  ...          0.998603         0.000347\n",
              "1       2.470316      0.012188  ...          0.999308         0.000091\n",
              "2       3.651599      0.010018  ...          0.999436         0.000079\n",
              "3       4.833299      0.029654  ...          0.999520         0.000015\n",
              "4       6.120603      0.269900  ...          0.999615         0.000020\n",
              "\n",
              "[5 rows x 21 columns]"
            ]
          },
          "metadata": {},
          "execution_count": 26
        }
      ]
    },
    {
      "cell_type": "code",
      "metadata": {
        "colab": {
          "base_uri": "https://localhost:8080/",
          "height": 280
        },
        "id": "NKZbHxRJHe7x",
        "outputId": "d400c042-1623-46d8-b684-2fd460e65391"
      },
      "source": [
        "# plotting accuracies with max_depth\n",
        "plt.figure()\n",
        "plt.plot(scores[\"param_max_depth\"], \n",
        "         scores[\"mean_train_score\"], \n",
        "         label=\"training accuracy\")\n",
        "plt.plot(scores[\"param_max_depth\"], \n",
        "         scores[\"mean_test_score\"], \n",
        "         label=\"test accuracy\")\n",
        "plt.xlabel(\"max_depth\")\n",
        "plt.ylabel(\"Accuracy\")\n",
        "plt.legend()\n",
        "plt.show()"
      ],
      "execution_count": 27,
      "outputs": [
        {
          "output_type": "display_data",
          "data": {
            "image/png": "[encoded data removed]",
            "text/plain": [
              "<Figure size 432x288 with 1 Axes>"
            ]
          },
          "metadata": {
            "needs_background": "light"
          }
        }
      ]
    },
    {
      "cell_type": "markdown",
      "metadata": {
        "id": "wVsa-RaIHq3g"
      },
      "source": [
        "### it can be seen from the above plot that the optimal max_depth is 5"
      ]
    },
    {
      "cell_type": "markdown",
      "metadata": {
        "id": "kna0PXqMIC5Q"
      },
      "source": [
        "## Tuning min_samples_leaf"
      ]
    },
    {
      "cell_type": "code",
      "metadata": {
        "colab": {
          "base_uri": "https://localhost:8080/"
        },
        "id": "4MlAMO0yHkwl",
        "outputId": "934d02f7-670a-409d-b532-f123633f9a2b"
      },
      "source": [
        "# specify number of folds for k-fold CV\n",
        "n_folds = 5\n",
        "\n",
        "# parameters to build the model on\n",
        "parameters = {'min_samples_leaf': range(5, 200, 20)}\n",
        "\n",
        "# instantiate the model\n",
        "dtree = DecisionTreeClassifier(criterion = \"entropy\",\n",
        "                               max_depth = 5,\n",
        "                               random_state = 100)\n",
        "\n",
        "# fit tree on training data\n",
        "tree = RandomizedSearchCV(dtree, parameters, \n",
        "                    cv=n_folds, \n",
        "                   scoring=\"accuracy\",\n",
        "                    return_train_score=True)\n",
        "tree.fit(X_train, y_train)"
      ],
      "execution_count": 29,
      "outputs": [
        {
          "output_type": "execute_result",
          "data": {
            "text/plain": [
              "RandomizedSearchCV(cv=5, error_score=nan,\n",
              "                   estimator=DecisionTreeClassifier(ccp_alpha=0.0,\n",
              "                                                    class_weight=None,\n",
              "                                                    criterion='entropy',\n",
              "                                                    max_depth=5,\n",
              "                                                    max_features=None,\n",
              "                                                    max_leaf_nodes=None,\n",
              "                                                    min_impurity_decrease=0.0,\n",
              "                                                    min_impurity_split=None,\n",
              "                                                    min_samples_leaf=1,\n",
              "                                                    min_samples_split=2,\n",
              "                                                    min_weight_fraction_leaf=0.0,\n",
              "                                                    presort='deprecated',\n",
              "                                                    random_state=100,\n",
              "                                                    splitter='best'),\n",
              "                   iid='deprecated', n_iter=10, n_jobs=None,\n",
              "                   param_distributions={'min_samples_leaf': range(5, 200, 20)},\n",
              "                   pre_dispatch='2*n_jobs', random_state=None, refit=True,\n",
              "                   return_train_score=True, scoring='accuracy', verbose=0)"
            ]
          },
          "metadata": {},
          "execution_count": 29
        }
      ]
    },
    {
      "cell_type": "code",
      "metadata": {
        "colab": {
          "base_uri": "https://localhost:8080/",
          "height": 307
        },
        "id": "-fqYYGtyIbTq",
        "outputId": "19fb8eb5-e939-473c-8911-734787d4bd76"
      },
      "source": [
        "# scores of GridSearch CV\n",
        "scores = tree.cv_results_\n",
        "pd.DataFrame(scores).head()"
      ],
      "execution_count": 30,
      "outputs": [
        {
          "output_type": "execute_result",
          "data": {
            "text/html": [
              "<div>\n",
              "<style scoped>\n",
              "    .dataframe tbody tr th:only-of-type {\n",
              "        vertical-align: middle;\n",
              "    }\n",
              "\n",
              "    .dataframe tbody tr th {\n",
              "        vertical-align: top;\n",
              "    }\n",
              "\n",
              "    .dataframe thead th {\n",
              "        text-align: right;\n",
              "    }\n",
              "</style>\n",
              "<table border=\"1\" class=\"dataframe\">\n",
              "  <thead>\n",
              "    <tr style=\"text-align: right;\">\n",
              "      <th></th>\n",
              "      <th>mean_fit_time</th>\n",
              "      <th>std_fit_time</th>\n",
              "      <th>mean_score_time</th>\n",
              "      <th>std_score_time</th>\n",
              "      <th>param_min_samples_leaf</th>\n",
              "      <th>params</th>\n",
              "      <th>split0_test_score</th>\n",
              "      <th>split1_test_score</th>\n",
              "      <th>split2_test_score</th>\n",
              "      <th>split3_test_score</th>\n",
              "      <th>split4_test_score</th>\n",
              "      <th>mean_test_score</th>\n",
              "      <th>std_test_score</th>\n",
              "      <th>rank_test_score</th>\n",
              "      <th>split0_train_score</th>\n",
              "      <th>split1_train_score</th>\n",
              "      <th>split2_train_score</th>\n",
              "      <th>split3_train_score</th>\n",
              "      <th>split4_train_score</th>\n",
              "      <th>mean_train_score</th>\n",
              "      <th>std_train_score</th>\n",
              "    </tr>\n",
              "  </thead>\n",
              "  <tbody>\n",
              "    <tr>\n",
              "      <th>0</th>\n",
              "      <td>5.992903</td>\n",
              "      <td>0.095234</td>\n",
              "      <td>0.008744</td>\n",
              "      <td>0.000066</td>\n",
              "      <td>5</td>\n",
              "      <td>{'min_samples_leaf': 5}</td>\n",
              "      <td>0.999398</td>\n",
              "      <td>0.999298</td>\n",
              "      <td>0.999298</td>\n",
              "      <td>0.999398</td>\n",
              "      <td>0.999448</td>\n",
              "      <td>0.999368</td>\n",
              "      <td>0.000060</td>\n",
              "      <td>1</td>\n",
              "      <td>0.999561</td>\n",
              "      <td>0.999580</td>\n",
              "      <td>0.999555</td>\n",
              "      <td>0.999599</td>\n",
              "      <td>0.999580</td>\n",
              "      <td>0.999575</td>\n",
              "      <td>0.000016</td>\n",
              "    </tr>\n",
              "    <tr>\n",
              "      <th>1</th>\n",
              "      <td>5.941923</td>\n",
              "      <td>0.019934</td>\n",
              "      <td>0.008716</td>\n",
              "      <td>0.000081</td>\n",
              "      <td>25</td>\n",
              "      <td>{'min_samples_leaf': 25}</td>\n",
              "      <td>0.999398</td>\n",
              "      <td>0.999473</td>\n",
              "      <td>0.999273</td>\n",
              "      <td>0.999147</td>\n",
              "      <td>0.999147</td>\n",
              "      <td>0.999288</td>\n",
              "      <td>0.000131</td>\n",
              "      <td>2</td>\n",
              "      <td>0.999448</td>\n",
              "      <td>0.999473</td>\n",
              "      <td>0.999461</td>\n",
              "      <td>0.999411</td>\n",
              "      <td>0.999436</td>\n",
              "      <td>0.999446</td>\n",
              "      <td>0.000022</td>\n",
              "    </tr>\n",
              "    <tr>\n",
              "      <th>2</th>\n",
              "      <td>6.048412</td>\n",
              "      <td>0.288761</td>\n",
              "      <td>0.009136</td>\n",
              "      <td>0.000675</td>\n",
              "      <td>45</td>\n",
              "      <td>{'min_samples_leaf': 45}</td>\n",
              "      <td>0.999323</td>\n",
              "      <td>0.999348</td>\n",
              "      <td>0.999373</td>\n",
              "      <td>0.999147</td>\n",
              "      <td>0.999147</td>\n",
              "      <td>0.999268</td>\n",
              "      <td>0.000100</td>\n",
              "      <td>3</td>\n",
              "      <td>0.999354</td>\n",
              "      <td>0.999273</td>\n",
              "      <td>0.999342</td>\n",
              "      <td>0.999392</td>\n",
              "      <td>0.999398</td>\n",
              "      <td>0.999352</td>\n",
              "      <td>0.000045</td>\n",
              "    </tr>\n",
              "    <tr>\n",
              "      <th>3</th>\n",
              "      <td>5.915336</td>\n",
              "      <td>0.021094</td>\n",
              "      <td>0.008836</td>\n",
              "      <td>0.000325</td>\n",
              "      <td>65</td>\n",
              "      <td>{'min_samples_leaf': 65}</td>\n",
              "      <td>0.999323</td>\n",
              "      <td>0.998972</td>\n",
              "      <td>0.998972</td>\n",
              "      <td>0.999147</td>\n",
              "      <td>0.999147</td>\n",
              "      <td>0.999112</td>\n",
              "      <td>0.000131</td>\n",
              "      <td>9</td>\n",
              "      <td>0.999354</td>\n",
              "      <td>0.999147</td>\n",
              "      <td>0.999141</td>\n",
              "      <td>0.999392</td>\n",
              "      <td>0.999398</td>\n",
              "      <td>0.999286</td>\n",
              "      <td>0.000117</td>\n",
              "    </tr>\n",
              "    <tr>\n",
              "      <th>4</th>\n",
              "      <td>5.937260</td>\n",
              "      <td>0.025820</td>\n",
              "      <td>0.008773</td>\n",
              "      <td>0.000096</td>\n",
              "      <td>85</td>\n",
              "      <td>{'min_samples_leaf': 85}</td>\n",
              "      <td>0.999323</td>\n",
              "      <td>0.998972</td>\n",
              "      <td>0.998796</td>\n",
              "      <td>0.999147</td>\n",
              "      <td>0.999147</td>\n",
              "      <td>0.999077</td>\n",
              "      <td>0.000179</td>\n",
              "      <td>10</td>\n",
              "      <td>0.999354</td>\n",
              "      <td>0.999091</td>\n",
              "      <td>0.999091</td>\n",
              "      <td>0.999392</td>\n",
              "      <td>0.999398</td>\n",
              "      <td>0.999265</td>\n",
              "      <td>0.000143</td>\n",
              "    </tr>\n",
              "  </tbody>\n",
              "</table>\n",
              "</div>"
            ],
            "text/plain": [
              "   mean_fit_time  std_fit_time  ...  mean_train_score  std_train_score\n",
              "0       5.992903      0.095234  ...          0.999575         0.000016\n",
              "1       5.941923      0.019934  ...          0.999446         0.000022\n",
              "2       6.048412      0.288761  ...          0.999352         0.000045\n",
              "3       5.915336      0.021094  ...          0.999286         0.000117\n",
              "4       5.937260      0.025820  ...          0.999265         0.000143\n",
              "\n",
              "[5 rows x 21 columns]"
            ]
          },
          "metadata": {},
          "execution_count": 30
        }
      ]
    },
    {
      "cell_type": "code",
      "metadata": {
        "colab": {
          "base_uri": "https://localhost:8080/",
          "height": 280
        },
        "id": "PMGDO6_TIdgi",
        "outputId": "ba575cd0-5b3b-496c-9d94-19a68eb802da"
      },
      "source": [
        "# plotting accuracies with min_samples_leaf\n",
        "plt.figure()\n",
        "plt.plot(scores[\"param_min_samples_leaf\"], \n",
        "         scores[\"mean_train_score\"], \n",
        "         label=\"training accuracy\")\n",
        "plt.plot(scores[\"param_min_samples_leaf\"], \n",
        "         scores[\"mean_test_score\"], \n",
        "         label=\"test accuracy\")\n",
        "plt.xlabel(\"min_samples_leaf\")\n",
        "plt.ylabel(\"Accuracy\")\n",
        "plt.legend()\n",
        "plt.show()"
      ],
      "execution_count": 31,
      "outputs": [
        {
          "output_type": "display_data",
          "data": {
            "image/png": "[encoded data removed]",
            "text/plain": [
              "<Figure size 432x288 with 1 Axes>"
            ]
          },
          "metadata": {
            "needs_background": "light"
          }
        }
      ]
    },
    {
      "cell_type": "markdown",
      "metadata": {
        "id": "GrRMhN9mJ4E3"
      },
      "source": [
        "### It's clear from the above plot that the optimal value for min_samples_leaf is 5"
      ]
    },
    {
      "cell_type": "markdown",
      "metadata": {
        "id": "5ZwwJxK7KCKP"
      },
      "source": [
        "## Tuning min_samples_split"
      ]
    },
    {
      "cell_type": "code",
      "metadata": {
        "colab": {
          "base_uri": "https://localhost:8080/"
        },
        "id": "oeiMh83SJ02v",
        "outputId": "3f0536f4-712e-4636-cffa-67efebb2d058"
      },
      "source": [
        "# specify number of folds for k-fold CV\n",
        "n_folds = 5\n",
        "\n",
        "# parameters to build the model on\n",
        "parameters = {'min_samples_split': range(5, 200, 20)}\n",
        "\n",
        "# instantiate the model\n",
        "dtree = DecisionTreeClassifier(criterion = \"entropy\", \n",
        "                               max_depth=5,\n",
        "                               min_samples_leaf=5,\n",
        "                               random_state = 100)\n",
        "\n",
        "# fit tree on training data\n",
        "tree = GridSearchCV(dtree, parameters, \n",
        "                    cv=n_folds, \n",
        "                   scoring=\"accuracy\",\n",
        "                    return_train_score=True)\n",
        "tree.fit(X_train, y_train)"
      ],
      "execution_count": 35,
      "outputs": [
        {
          "output_type": "execute_result",
          "data": {
            "text/plain": [
              "GridSearchCV(cv=5, error_score=nan,\n",
              "             estimator=DecisionTreeClassifier(ccp_alpha=0.0, class_weight=None,\n",
              "                                              criterion='entropy', max_depth=5,\n",
              "                                              max_features=None,\n",
              "                                              max_leaf_nodes=None,\n",
              "                                              min_impurity_decrease=0.0,\n",
              "                                              min_impurity_split=None,\n",
              "                                              min_samples_leaf=5,\n",
              "                                              min_samples_split=2,\n",
              "                                              min_weight_fraction_leaf=0.0,\n",
              "                                              presort='deprecated',\n",
              "                                              random_state=100,\n",
              "                                              splitter='best'),\n",
              "             iid='deprecated', n_jobs=None,\n",
              "             param_grid={'min_samples_split': range(5, 200, 20)},\n",
              "             pre_dispatch='2*n_jobs', refit=True, return_train_score=True,\n",
              "             scoring='accuracy', verbose=0)"
            ]
          },
          "metadata": {},
          "execution_count": 35
        }
      ]
    },
    {
      "cell_type": "code",
      "metadata": {
        "colab": {
          "base_uri": "https://localhost:8080/",
          "height": 307
        },
        "id": "TLZf4JUoKYFq",
        "outputId": "3cea9d6f-b97e-4d4c-a96c-5184ee2d2ba5"
      },
      "source": [
        "# scores of GridSearch CV\n",
        "scores = tree.cv_results_\n",
        "pd.DataFrame(scores).head()"
      ],
      "execution_count": 36,
      "outputs": [
        {
          "output_type": "execute_result",
          "data": {
            "text/html": [
              "<div>\n",
              "<style scoped>\n",
              "    .dataframe tbody tr th:only-of-type {\n",
              "        vertical-align: middle;\n",
              "    }\n",
              "\n",
              "    .dataframe tbody tr th {\n",
              "        vertical-align: top;\n",
              "    }\n",
              "\n",
              "    .dataframe thead th {\n",
              "        text-align: right;\n",
              "    }\n",
              "</style>\n",
              "<table border=\"1\" class=\"dataframe\">\n",
              "  <thead>\n",
              "    <tr style=\"text-align: right;\">\n",
              "      <th></th>\n",
              "      <th>mean_fit_time</th>\n",
              "      <th>std_fit_time</th>\n",
              "      <th>mean_score_time</th>\n",
              "      <th>std_score_time</th>\n",
              "      <th>param_min_samples_split</th>\n",
              "      <th>params</th>\n",
              "      <th>split0_test_score</th>\n",
              "      <th>split1_test_score</th>\n",
              "      <th>split2_test_score</th>\n",
              "      <th>split3_test_score</th>\n",
              "      <th>split4_test_score</th>\n",
              "      <th>mean_test_score</th>\n",
              "      <th>std_test_score</th>\n",
              "      <th>rank_test_score</th>\n",
              "      <th>split0_train_score</th>\n",
              "      <th>split1_train_score</th>\n",
              "      <th>split2_train_score</th>\n",
              "      <th>split3_train_score</th>\n",
              "      <th>split4_train_score</th>\n",
              "      <th>mean_train_score</th>\n",
              "      <th>std_train_score</th>\n",
              "    </tr>\n",
              "  </thead>\n",
              "  <tbody>\n",
              "    <tr>\n",
              "      <th>0</th>\n",
              "      <td>6.492100</td>\n",
              "      <td>1.089630</td>\n",
              "      <td>0.008635</td>\n",
              "      <td>0.000066</td>\n",
              "      <td>5</td>\n",
              "      <td>{'min_samples_split': 5}</td>\n",
              "      <td>0.999398</td>\n",
              "      <td>0.999298</td>\n",
              "      <td>0.999298</td>\n",
              "      <td>0.999398</td>\n",
              "      <td>0.999448</td>\n",
              "      <td>0.999368</td>\n",
              "      <td>0.000060</td>\n",
              "      <td>2</td>\n",
              "      <td>0.999561</td>\n",
              "      <td>0.999580</td>\n",
              "      <td>0.999555</td>\n",
              "      <td>0.999599</td>\n",
              "      <td>0.999580</td>\n",
              "      <td>0.999575</td>\n",
              "      <td>0.000016</td>\n",
              "    </tr>\n",
              "    <tr>\n",
              "      <th>1</th>\n",
              "      <td>6.049397</td>\n",
              "      <td>0.099218</td>\n",
              "      <td>0.008746</td>\n",
              "      <td>0.000023</td>\n",
              "      <td>25</td>\n",
              "      <td>{'min_samples_split': 25}</td>\n",
              "      <td>0.999423</td>\n",
              "      <td>0.999448</td>\n",
              "      <td>0.999273</td>\n",
              "      <td>0.999448</td>\n",
              "      <td>0.999448</td>\n",
              "      <td>0.999408</td>\n",
              "      <td>0.000068</td>\n",
              "      <td>1</td>\n",
              "      <td>0.999536</td>\n",
              "      <td>0.999517</td>\n",
              "      <td>0.999542</td>\n",
              "      <td>0.999567</td>\n",
              "      <td>0.999580</td>\n",
              "      <td>0.999549</td>\n",
              "      <td>0.000022</td>\n",
              "    </tr>\n",
              "    <tr>\n",
              "      <th>2</th>\n",
              "      <td>6.169142</td>\n",
              "      <td>0.023738</td>\n",
              "      <td>0.008810</td>\n",
              "      <td>0.000129</td>\n",
              "      <td>45</td>\n",
              "      <td>{'min_samples_split': 45}</td>\n",
              "      <td>0.999398</td>\n",
              "      <td>0.999448</td>\n",
              "      <td>0.999273</td>\n",
              "      <td>0.999373</td>\n",
              "      <td>0.999248</td>\n",
              "      <td>0.999348</td>\n",
              "      <td>0.000076</td>\n",
              "      <td>4</td>\n",
              "      <td>0.999455</td>\n",
              "      <td>0.999467</td>\n",
              "      <td>0.999530</td>\n",
              "      <td>0.999505</td>\n",
              "      <td>0.999461</td>\n",
              "      <td>0.999483</td>\n",
              "      <td>0.000029</td>\n",
              "    </tr>\n",
              "    <tr>\n",
              "      <th>3</th>\n",
              "      <td>6.027728</td>\n",
              "      <td>0.089629</td>\n",
              "      <td>0.009275</td>\n",
              "      <td>0.001275</td>\n",
              "      <td>65</td>\n",
              "      <td>{'min_samples_split': 65}</td>\n",
              "      <td>0.999398</td>\n",
              "      <td>0.999448</td>\n",
              "      <td>0.999273</td>\n",
              "      <td>0.999373</td>\n",
              "      <td>0.999248</td>\n",
              "      <td>0.999348</td>\n",
              "      <td>0.000076</td>\n",
              "      <td>4</td>\n",
              "      <td>0.999455</td>\n",
              "      <td>0.999467</td>\n",
              "      <td>0.999480</td>\n",
              "      <td>0.999505</td>\n",
              "      <td>0.999461</td>\n",
              "      <td>0.999473</td>\n",
              "      <td>0.000018</td>\n",
              "    </tr>\n",
              "    <tr>\n",
              "      <th>4</th>\n",
              "      <td>5.984838</td>\n",
              "      <td>0.038655</td>\n",
              "      <td>0.008655</td>\n",
              "      <td>0.000076</td>\n",
              "      <td>85</td>\n",
              "      <td>{'min_samples_split': 85}</td>\n",
              "      <td>0.999398</td>\n",
              "      <td>0.999498</td>\n",
              "      <td>0.999323</td>\n",
              "      <td>0.999373</td>\n",
              "      <td>0.999248</td>\n",
              "      <td>0.999368</td>\n",
              "      <td>0.000083</td>\n",
              "      <td>3</td>\n",
              "      <td>0.999455</td>\n",
              "      <td>0.999335</td>\n",
              "      <td>0.999373</td>\n",
              "      <td>0.999505</td>\n",
              "      <td>0.999461</td>\n",
              "      <td>0.999426</td>\n",
              "      <td>0.000062</td>\n",
              "    </tr>\n",
              "  </tbody>\n",
              "</table>\n",
              "</div>"
            ],
            "text/plain": [
              "   mean_fit_time  std_fit_time  ...  mean_train_score  std_train_score\n",
              "0       6.492100      1.089630  ...          0.999575         0.000016\n",
              "1       6.049397      0.099218  ...          0.999549         0.000022\n",
              "2       6.169142      0.023738  ...          0.999483         0.000029\n",
              "3       6.027728      0.089629  ...          0.999473         0.000018\n",
              "4       5.984838      0.038655  ...          0.999426         0.000062\n",
              "\n",
              "[5 rows x 21 columns]"
            ]
          },
          "metadata": {},
          "execution_count": 36
        }
      ]
    },
    {
      "cell_type": "code",
      "metadata": {
        "colab": {
          "base_uri": "https://localhost:8080/",
          "height": 280
        },
        "id": "lurpzQqxKcG1",
        "outputId": "b20a6681-54e7-468c-d497-67c0309227d3"
      },
      "source": [
        "# plotting accuracies with min_samples_split\n",
        "plt.figure()\n",
        "plt.plot(scores[\"param_min_samples_split\"], \n",
        "         scores[\"mean_train_score\"], \n",
        "         label=\"training accuracy\")\n",
        "plt.plot(scores[\"param_min_samples_split\"], \n",
        "         scores[\"mean_test_score\"], \n",
        "         label=\"test accuracy\")\n",
        "plt.xlabel(\"min_samples_split\")\n",
        "plt.ylabel(\"Accuracy\")\n",
        "plt.legend()\n",
        "plt.show()"
      ],
      "execution_count": 37,
      "outputs": [
        {
          "output_type": "display_data",
          "data": {
            "image/png": "[encoded data removed]",
            "text/plain": [
              "<Figure size 432x288 with 1 Axes>"
            ]
          },
          "metadata": {
            "needs_background": "light"
          }
        }
      ]
    },
    {
      "cell_type": "markdown",
      "metadata": {
        "id": "vlcYoSbwNRXE"
      },
      "source": [
        "### It's clear from the above plot that the optimal value for min_samples_split is 25"
      ]
    },
    {
      "cell_type": "code",
      "metadata": {
        "colab": {
          "base_uri": "https://localhost:8080/"
        },
        "id": "ARJeg5_TKhn9",
        "outputId": "4b32d714-ae8c-4ff8-a863-bc249f057639"
      },
      "source": [
        "# model with optimal hyperparameters\n",
        "final_decision_tree = DecisionTreeClassifier(criterion = \"entropy\", \n",
        "                                  random_state = 100,\n",
        "                                  max_depth=5, \n",
        "                                  min_samples_leaf=5,\n",
        "                                  min_samples_split=25)\n",
        "final_decision_tree.fit(X_train, y_train)"
      ],
      "execution_count": 38,
      "outputs": [
        {
          "output_type": "execute_result",
          "data": {
            "text/plain": [
              "DecisionTreeClassifier(ccp_alpha=0.0, class_weight=None, criterion='entropy',\n",
              "                       max_depth=5, max_features=None, max_leaf_nodes=None,\n",
              "                       min_impurity_decrease=0.0, min_impurity_split=None,\n",
              "                       min_samples_leaf=5, min_samples_split=25,\n",
              "                       min_weight_fraction_leaf=0.0, presort='deprecated',\n",
              "                       random_state=100, splitter='best')"
            ]
          },
          "metadata": {},
          "execution_count": 38
        }
      ]
    },
    {
      "cell_type": "code",
      "metadata": {
        "id": "pXnDqNhYNs1G"
      },
      "source": [
        "y_pred = final_decision_tree.predict(X_test)"
      ],
      "execution_count": 39,
      "outputs": []
    },
    {
      "cell_type": "code",
      "metadata": {
        "colab": {
          "base_uri": "https://localhost:8080/"
        },
        "id": "fKfQhDJ5NycJ",
        "outputId": "ee914329-6e81-4945-c995-43a903d0cb98"
      },
      "source": [
        "print(\"accuracy:\", metrics.accuracy_score(y_true=y_test, y_pred=y_pred), \"\\n\")"
      ],
      "execution_count": 40,
      "outputs": [
        {
          "output_type": "stream",
          "name": "stdout",
          "text": [
            "accuracy: 0.9994265182636377 \n",
            "\n"
          ]
        }
      ]
    },
    {
      "cell_type": "code",
      "metadata": {
        "id": "EPSDXuhLN1hJ"
      },
      "source": [
        "confusion_decision_tree_final = metrics.confusion_matrix(y_true=y_test, y_pred=y_pred)"
      ],
      "execution_count": 41,
      "outputs": []
    },
    {
      "cell_type": "code",
      "metadata": {
        "colab": {
          "base_uri": "https://localhost:8080/"
        },
        "id": "go2Y69TUN7Gk",
        "outputId": "f94f9052-9376-40a2-df18-ef0968ff1196"
      },
      "source": [
        "get_all_measures(confusion_decision_tree_final)"
      ],
      "execution_count": 42,
      "outputs": [
        {
          "output_type": "stream",
          "name": "stdout",
          "text": [
            "Sensitivity is : 0.78\n",
            "\n",
            "specificity is : 1.00\n",
            "\n",
            "false_positive_rate is : 0.00\n",
            "\n",
            "negative_predictive_value is : 1.00\n",
            "\n",
            "precision is : 0.90\n",
            "\n",
            "recall is : 0.78\n",
            "\n"
          ]
        }
      ]
    },
    {
      "cell_type": "markdown",
      "metadata": {
        "id": "Xn8g4eZHOLaK"
      },
      "source": [
        "# Random Forest"
      ]
    },
    {
      "cell_type": "code",
      "metadata": {
        "id": "oFoDORefN-KH"
      },
      "source": [
        "# Splitting the data into train and test\n",
        "X_train, X_test, y_train, y_test = train_test_split(X, y, test_size=0.30, random_state=101)"
      ],
      "execution_count": 43,
      "outputs": []
    },
    {
      "cell_type": "code",
      "metadata": {
        "id": "5BjQbOArOQ8E",
        "outputId": "5b22b553-144e-49ac-8e97-d6e06e2cdd09",
        "colab": {
          "base_uri": "https://localhost:8080/"
        }
      },
      "source": [
        "# Running the random forest with default parameters.\n",
        "rfc = RandomForestClassifier()\n",
        "rfc.fit(X_train,y_train)"
      ],
      "execution_count": 45,
      "outputs": [
        {
          "output_type": "execute_result",
          "data": {
            "text/plain": [
              "RandomForestClassifier(bootstrap=True, ccp_alpha=0.0, class_weight=None,\n",
              "                       criterion='gini', max_depth=None, max_features='auto',\n",
              "                       max_leaf_nodes=None, max_samples=None,\n",
              "                       min_impurity_decrease=0.0, min_impurity_split=None,\n",
              "                       min_samples_leaf=1, min_samples_split=2,\n",
              "                       min_weight_fraction_leaf=0.0, n_estimators=100,\n",
              "                       n_jobs=None, oob_score=False, random_state=None,\n",
              "                       verbose=0, warm_start=False)"
            ]
          },
          "metadata": {},
          "execution_count": 45
        }
      ]
    },
    {
      "cell_type": "code",
      "metadata": {
        "id": "jnuNGzxbOY2g"
      },
      "source": [
        "y_pred = rfc.predict(X_test)"
      ],
      "execution_count": 46,
      "outputs": []
    },
    {
      "cell_type": "code",
      "metadata": {
        "id": "VUvGA-lTPWEn",
        "outputId": "29314541-5a54-47a9-d0e6-e27584a4b393",
        "colab": {
          "base_uri": "https://localhost:8080/"
        }
      },
      "source": [
        "print(\"accuracy:\", metrics.accuracy_score(y_true=y_test, y_pred=y_pred), \"\\n\")"
      ],
      "execution_count": 47,
      "outputs": [
        {
          "output_type": "stream",
          "name": "stdout",
          "text": [
            "accuracy: 0.9995669627705019 \n",
            "\n"
          ]
        }
      ]
    },
    {
      "cell_type": "code",
      "metadata": {
        "id": "oXnKFKJCPeCE"
      },
      "source": [
        "confusion_random_forest_default = metrics.confusion_matrix(y_true=y_test, y_pred=y_pred)"
      ],
      "execution_count": 48,
      "outputs": []
    },
    {
      "cell_type": "code",
      "metadata": {
        "id": "R3qlkWCMPj_P",
        "outputId": "5096849c-69d3-4cbd-8f5d-69fc00c7a611",
        "colab": {
          "base_uri": "https://localhost:8080/"
        }
      },
      "source": [
        "get_all_measures(confusion_random_forest_default)"
      ],
      "execution_count": 49,
      "outputs": [
        {
          "output_type": "stream",
          "name": "stdout",
          "text": [
            "Sensitivity is : 0.80\n",
            "\n",
            "specificity is : 1.00\n",
            "\n",
            "false_positive_rate is : 0.00\n",
            "\n",
            "negative_predictive_value is : 1.00\n",
            "\n",
            "precision is : 0.93\n",
            "\n",
            "recall is : 0.80\n",
            "\n"
          ]
        }
      ]
    },
    {
      "cell_type": "markdown",
      "metadata": {
        "id": "NN9LPDMdPpKr"
      },
      "source": [
        "## Hyperparameter Tuning"
      ]
    },
    {
      "cell_type": "code",
      "metadata": {
        "id": "Qa58vVn-Pnfv"
      },
      "source": [
        "# specify number of folds for k-fold CV\n",
        "n_folds = 5\n",
        "\n",
        "# parameters to build the model on\n",
        "parameters = {'criterion': ['entropy','gini']}\n",
        "\n",
        "# instantiate the model\n",
        "rf = RandomForestClassifier()\n",
        "\n",
        "\n",
        "# fit tree on training data\n",
        "rf = GridSearchCV(rf, parameters, \n",
        "                    cv=n_folds, \n",
        "                   scoring=\"accuracy\",\n",
        "                  return_train_score=True)\n",
        "rf.fit(X_train, y_train)"
      ],
      "execution_count": null,
      "outputs": []
    },
    {
      "cell_type": "code",
      "metadata": {
        "id": "qBfTyG3sQHQw"
      },
      "source": [
        "# scores of GridSearch CV\n",
        "scores = rf.cv_results_\n",
        "pd.DataFrame(scores).head()"
      ],
      "execution_count": null,
      "outputs": []
    },
    {
      "cell_type": "code",
      "metadata": {
        "id": "q4E3KoEDQTbd"
      },
      "source": [
        "# plotting accuracies with criterion\n",
        "plt.figure()\n",
        "plt.plot(scores[\"param_criterion\"], \n",
        "         scores[\"mean_train_score\"], \n",
        "         label=\"training accuracy\")\n",
        "plt.plot(scores[\"param_criterion\"], \n",
        "         scores[\"mean_test_score\"], \n",
        "         label=\"test accuracy\")\n",
        "plt.xlabel(\"Criterion\")\n",
        "plt.ylabel(\"Accuracy\")\n",
        "plt.legend()\n",
        "plt.show()"
      ],
      "execution_count": null,
      "outputs": []
    },
    {
      "cell_type": "code",
      "metadata": {
        "id": "3oRJg6m2WJRY"
      },
      "source": [
        "# specify number of folds for k-fold CV\n",
        "n_folds = 5\n",
        "\n",
        "# parameters to build the model on\n",
        "parameters = {'max_depth': range(2, 20, 5)}\n",
        "\n",
        "# instantiate the model\n",
        "rf = RandomForestClassifier()\n",
        "\n",
        "\n",
        "# fit tree on training data\n",
        "rf = GridSearchCV(rf, parameters, \n",
        "                    cv=n_folds, \n",
        "                   scoring=\"accuracy\",\n",
        "                  return_train_score=True)\n",
        "rf.fit(X_train, y_train)"
      ],
      "execution_count": null,
      "outputs": []
    },
    {
      "cell_type": "code",
      "metadata": {
        "id": "8wtn4tC5YyI4"
      },
      "source": [
        "# scores of GridSearch CV\n",
        "scores = rf.cv_results_\n",
        "pd.DataFrame(scores).head()"
      ],
      "execution_count": null,
      "outputs": []
    },
    {
      "cell_type": "code",
      "metadata": {
        "id": "mmyPA0ymYzsm"
      },
      "source": [
        "# plotting accuracies with max_depth\n",
        "plt.figure()\n",
        "plt.plot(scores[\"param_max_depth\"], \n",
        "         scores[\"mean_train_score\"], \n",
        "         label=\"training accuracy\")\n",
        "plt.plot(scores[\"param_max_depth\"], \n",
        "         scores[\"mean_test_score\"], \n",
        "         label=\"test accuracy\")\n",
        "plt.xlabel(\"max_depth\")\n",
        "plt.ylabel(\"Accuracy\")\n",
        "plt.legend()\n",
        "plt.show()"
      ],
      "execution_count": null,
      "outputs": []
    }
  ]
}